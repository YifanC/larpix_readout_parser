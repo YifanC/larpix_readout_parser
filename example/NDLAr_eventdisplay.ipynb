{
 "cells": [
  {
   "cell_type": "code",
   "execution_count": 19,
   "id": "c0f96def-cd86-458e-aef2-f0510457a3dc",
   "metadata": {},
   "outputs": [],
   "source": [
    "from LarpixParser import event_parser as EvtParser\n",
    "from LarpixParser import hit_parser as HitParser\n",
    "from LarpixParser import util as util\n",
    "\n",
    "import h5py\n",
    "import numpy as np\n",
    "import plotly.graph_objects as go\n",
    "import yaml"
   ]
  },
  {
   "cell_type": "code",
   "execution_count": 20,
   "id": "d54ee463-6c96-49a1-9ce4-3dee9ed1f230",
   "metadata": {},
   "outputs": [],
   "source": [
    "switch_xz = False\n",
    "detector = \"ndlar\""
   ]
  },
  {
   "cell_type": "code",
   "execution_count": 21,
   "id": "3564fb51-3f16-4672-9263-47cc2899dabf",
   "metadata": {},
   "outputs": [],
   "source": [
    "def draw_cathode_planes(geom_dict, run_config_path, **kwargs):\n",
    "\n",
    "    with open(run_config_path) as infile:\n",
    "        run_yaml = yaml.load(infile, Loader=yaml.FullLoader)\n",
    "\n",
    "    tpc_centers = run_yaml['tpc_offsets'] #cm\n",
    "    \n",
    "    pos = np.array(list(geom_dict.values())) / 10.\n",
    "    traces = []\n",
    "    \n",
    "    for i_mod in range(len(tpc_centers)):\n",
    "        x = np.array([pos[:, 0].min() + tpc_centers[i_mod][2], pos[:, 0].max() + tpc_centers[i_mod][2]])\n",
    "        y = np.array([pos[:, 1].min() + tpc_centers[i_mod][1], pos[:, 1].max() + tpc_centers[i_mod][1]])\n",
    "        z = np.full((2,2),  tpc_centers[i_mod][0])\n",
    "        \n",
    "\n",
    "        traces.append(go.Surface(x=x, y=y, z=z, **kwargs))\n",
    "    \n",
    "    return traces"
   ]
  },
  {
   "cell_type": "code",
   "execution_count": 22,
   "id": "1541f7d4-22fb-4ef6-9d20-9571e770615d",
   "metadata": {},
   "outputs": [],
   "source": [
    "def draw_anode_planes(geom_dict, run_config_path, **kwargs):\n",
    "\n",
    "    with open(run_config_path) as infile:\n",
    "        run_yaml = yaml.load(infile, Loader=yaml.FullLoader)\n",
    "\n",
    "    tpc_centers = run_yaml['tpc_offsets'] #cm\n",
    "    \n",
    "    pos = np.array(list(geom_dict.values())) / 10.\n",
    "    traces = []\n",
    "    \n",
    "    for i_mod in range(len(tpc_centers)):\n",
    "        x = np.array([pos[:, 0].min() + tpc_centers[i_mod][2], pos[:, 0].max() + tpc_centers[i_mod][2]])\n",
    "        y = np.array([pos[:, 1].min() + tpc_centers[i_mod][1], pos[:, 1].max() + tpc_centers[i_mod][1]])\n",
    "        z1 = np.full((2,2),  pos[:, 2].min() + tpc_centers[i_mod][0])\n",
    "        z2 = np.full((2,2),  pos[:, 2].max() + tpc_centers[i_mod][0])\n",
    "        \n",
    "\n",
    "        traces.append(go.Surface(x=x, y=y, z=z1, **kwargs))\n",
    "        traces.append(go.Surface(x=x, y=y, z=z2, **kwargs))\n",
    "    \n",
    "    return traces"
   ]
  },
  {
   "cell_type": "code",
   "execution_count": 23,
   "id": "c50fc86d-e1a7-4c2b-b544-f9849b69942c",
   "metadata": {},
   "outputs": [],
   "source": [
    "def plot_tracks(tracks, **kwargs):\n",
    "    \n",
    "    def to_list(axis):\n",
    "        return np.column_stack([\n",
    "            tracks[f'{axis}_start'],\n",
    "            tracks[f'{axis}_end'],\n",
    "            np.full(len(tracks), None)\n",
    "        ]).flatten().tolist()\n",
    "        \n",
    "    x, y, z = (to_list(axis) for axis in 'xyz')\n",
    "    trace = go.Scatter3d(x=x, y=y, z=z, **kwargs)\n",
    "    \n",
    "    return trace"
   ]
  },
  {
   "cell_type": "code",
   "execution_count": 24,
   "id": "6fa1c92a-322d-4b51-80a2-341edefacb70",
   "metadata": {},
   "outputs": [],
   "source": [
    "f = h5py.File('../example_data/ndlar_ev20_larndsim.h5', 'r')\n",
    "packets = f['packets'] # readout\n",
    "G4_segments = f['tracks'] # Geant4 truth\n",
    "assn = f['mc_packets_assn'] # G4-readout association\n",
    "segs = f['tracks']"
   ]
  },
  {
   "cell_type": "code",
   "execution_count": 25,
   "id": "b6c7705a-6831-4ce0-899b-c411d49c5d83",
   "metadata": {},
   "outputs": [],
   "source": [
    "'''\n",
    "    Loading LArPix geometry and run configuration\n",
    "    Option 1: Use the default, the installed package data\n",
    "              It's recommended, if you are not doing something unusual.\n",
    "'''\n",
    "\n",
    "run_config, geom_dict = util.detector_configuration(detector)"
   ]
  },
  {
   "cell_type": "code",
   "execution_count": 26,
   "id": "ef69b3ff-f414-4387-832e-9a78b494655c",
   "metadata": {},
   "outputs": [
    {
     "data": {
      "text/plain": [
       "'\\n    Loading LArPix geometry and run configuration\\n    Option 2: Point a pre-load LArPix geometry dictionary stored in a pickle file and a run configuration yaml file\\n'"
      ]
     },
     "execution_count": 26,
     "metadata": {},
     "output_type": "execute_result"
    }
   ],
   "source": [
    "'''\n",
    "    Loading LArPix geometry and run configuration\n",
    "    Option 2: Point a pre-load LArPix geometry dictionary stored in a pickle file and a run configuration yaml file\n",
    "'''\n",
    "# geom_dict = util.load_geom_dict(\"../src/LarpixParser/config_repo/dict_repo/multi_tile_layout-3.0.40.pkl\")\n",
    "\n",
    "# run_config_path = '../src/LarpixParser/config_repo/ndlar-module.yaml'\n",
    "# run_config = util.get_run_config(run_config_path)"
   ]
  },
  {
   "cell_type": "code",
   "execution_count": 27,
   "id": "c51594dc-1698-459b-b99d-606e3e34c6b1",
   "metadata": {},
   "outputs": [
    {
     "data": {
      "text/plain": [
       "'\\n    Loading LArPix geometry and run configuration\\n    Option 3: Build a LArPix geometry dictionary on the fly and load a run configuration yaml file\\n'"
      ]
     },
     "execution_count": 27,
     "metadata": {},
     "output_type": "execute_result"
    }
   ],
   "source": [
    "'''\n",
    "    Loading LArPix geometry and run configuration\n",
    "    Option 3: Build a LArPix geometry dictionary on the fly and load a run configuration yaml file\n",
    "'''\n",
    "# from LarpixParser import geom_to_dict as DictBuilder\n",
    "# geom_repo = '../src/LarpixParser/config_repo'\n",
    "# larpix_layout_name = 'multi_tile_layout-3.0.40'\n",
    "# geom_dict = DictBuilder.larpix_layout_to_dict(geom_repo, larpix_layout_name, save_dict=False)\n",
    "\n",
    "# run_config_path = '../src/LarpixParser/config_repo/ndlar-module.yaml'\n",
    "# run_config = util.get_run_config(run_config_path)"
   ]
  },
  {
   "cell_type": "code",
   "execution_count": 28,
   "id": "9b0bbd50-ff3d-42df-b91d-ebf670f6e225",
   "metadata": {},
   "outputs": [],
   "source": [
    "with open(run_config_path) as infile:\n",
    "    run_yaml = yaml.load(infile, Loader=yaml.FullLoader)\n",
    "\n",
    "tpc_centers = run_yaml['tpc_offsets'] #cm"
   ]
  },
  {
   "cell_type": "code",
   "execution_count": 29,
   "id": "f70ccd8c-c6b2-4c7a-8505-a8f2fa5afe50",
   "metadata": {},
   "outputs": [],
   "source": [
    "pckt_event_ids = EvtParser.packet_to_eventid(assn, G4_segments)\n",
    "event_ids = np.unique(pckt_event_ids[pckt_event_ids != -1]) \n",
    "t0_grp = EvtParser.get_t0(packets)"
   ]
  },
  {
   "cell_type": "code",
   "execution_count": 30,
   "id": "417abcd2-06b0-4a46-ba1e-f3a6841fda13",
   "metadata": {},
   "outputs": [],
   "source": [
    "i_ev = 4\n",
    "\n",
    "pckt_mask = pckt_event_ids == event_ids[i_ev]\n",
    "packets_ev = packets[pckt_mask]\n",
    "assn_ev = assn[pckt_mask]\n",
    "t0 = t0_grp[i_ev][0]\n",
    "\n",
    "seg_ev = segs[segs['eventID'] == i_ev]\n",
    "\n",
    "x,y,z,dQ = HitParser.hit_parser_charge(t0, packets_ev, geom_dict, run_config, switch_xz)\n",
    "\n",
    "x = np.array(x) / 10.\n",
    "y = np.array(y) / 10.\n",
    "z = np.array(z) / 10.\n"
   ]
  },
  {
   "cell_type": "code",
   "execution_count": 31,
   "id": "7eeb7935-aeb3-491b-82aa-b27e21f914b1",
   "metadata": {
    "tags": []
   },
   "outputs": [
    {
     "data": {
      "application/vnd.plotly.v1+json": {
       "config": {
        "plotlyServerURL": "https://plot.ly"
       },
       "data": [
        {
         "colorscale": [
          [
           0,
           "rgb(255,255,255)"
          ],
          [
           0.125,
           "rgb(240,240,240)"
          ],
          [
           0.25,
           "rgb(217,217,217)"
          ],
          [
           0.375,
           "rgb(189,189,189)"
          ],
          [
           0.5,
           "rgb(150,150,150)"
          ],
          [
           0.625,
           "rgb(115,115,115)"
          ],
          [
           0.75,
           "rgb(82,82,82)"
          ],
          [
           0.875,
           "rgb(37,37,37)"
          ],
          [
           1,
           "rgb(0, 0, 0)"
          ]
         ],
         "opacity": 0.3,
         "showscale": false,
         "type": "surface",
         "x": [
          413.91,
          510.81
         ],
         "y": [
          -148.423,
          155.197
         ],
         "z": [
          [
           -306.3,
           -306.3
          ],
          [
           -306.3,
           -306.3
          ]
         ]
        },
        {
         "colorscale": [
          [
           0,
           "rgb(255,255,255)"
          ],
          [
           0.125,
           "rgb(240,240,240)"
          ],
          [
           0.25,
           "rgb(217,217,217)"
          ],
          [
           0.375,
           "rgb(189,189,189)"
          ],
          [
           0.5,
           "rgb(150,150,150)"
          ],
          [
           0.625,
           "rgb(115,115,115)"
          ],
          [
           0.75,
           "rgb(82,82,82)"
          ],
          [
           0.875,
           "rgb(37,37,37)"
          ],
          [
           1,
           "rgb(0, 0, 0)"
          ]
         ],
         "opacity": 0.3,
         "showscale": false,
         "type": "surface",
         "x": [
          515.3299999999999,
          612.23
         ],
         "y": [
          -148.423,
          155.197
         ],
         "z": [
          [
           -306.3,
           -306.3
          ],
          [
           -306.3,
           -306.3
          ]
         ]
        },
        {
         "colorscale": [
          [
           0,
           "rgb(255,255,255)"
          ],
          [
           0.125,
           "rgb(240,240,240)"
          ],
          [
           0.25,
           "rgb(217,217,217)"
          ],
          [
           0.375,
           "rgb(189,189,189)"
          ],
          [
           0.5,
           "rgb(150,150,150)"
          ],
          [
           0.625,
           "rgb(115,115,115)"
          ],
          [
           0.75,
           "rgb(82,82,82)"
          ],
          [
           0.875,
           "rgb(37,37,37)"
          ],
          [
           1,
           "rgb(0, 0, 0)"
          ]
         ],
         "opacity": 0.3,
         "showscale": false,
         "type": "surface",
         "x": [
          616.75,
          713.6500000000001
         ],
         "y": [
          -148.423,
          155.197
         ],
         "z": [
          [
           -306.3,
           -306.3
          ],
          [
           -306.3,
           -306.3
          ]
         ]
        },
        {
         "colorscale": [
          [
           0,
           "rgb(255,255,255)"
          ],
          [
           0.125,
           "rgb(240,240,240)"
          ],
          [
           0.25,
           "rgb(217,217,217)"
          ],
          [
           0.375,
           "rgb(189,189,189)"
          ],
          [
           0.5,
           "rgb(150,150,150)"
          ],
          [
           0.625,
           "rgb(115,115,115)"
          ],
          [
           0.75,
           "rgb(82,82,82)"
          ],
          [
           0.875,
           "rgb(37,37,37)"
          ],
          [
           1,
           "rgb(0, 0, 0)"
          ]
         ],
         "opacity": 0.3,
         "showscale": false,
         "type": "surface",
         "x": [
          718.17,
          815.07
         ],
         "y": [
          -148.423,
          155.197
         ],
         "z": [
          [
           -306.3,
           -306.3
          ],
          [
           -306.3,
           -306.3
          ]
         ]
        },
        {
         "colorscale": [
          [
           0,
           "rgb(255,255,255)"
          ],
          [
           0.125,
           "rgb(240,240,240)"
          ],
          [
           0.25,
           "rgb(217,217,217)"
          ],
          [
           0.375,
           "rgb(189,189,189)"
          ],
          [
           0.5,
           "rgb(150,150,150)"
          ],
          [
           0.625,
           "rgb(115,115,115)"
          ],
          [
           0.75,
           "rgb(82,82,82)"
          ],
          [
           0.875,
           "rgb(37,37,37)"
          ],
          [
           1,
           "rgb(0, 0, 0)"
          ]
         ],
         "opacity": 0.3,
         "showscale": false,
         "type": "surface",
         "x": [
          819.5899999999999,
          916.49
         ],
         "y": [
          -148.423,
          155.197
         ],
         "z": [
          [
           -306.3,
           -306.3
          ],
          [
           -306.3,
           -306.3
          ]
         ]
        },
        {
         "colorscale": [
          [
           0,
           "rgb(255,255,255)"
          ],
          [
           0.125,
           "rgb(240,240,240)"
          ],
          [
           0.25,
           "rgb(217,217,217)"
          ],
          [
           0.375,
           "rgb(189,189,189)"
          ],
          [
           0.5,
           "rgb(150,150,150)"
          ],
          [
           0.625,
           "rgb(115,115,115)"
          ],
          [
           0.75,
           "rgb(82,82,82)"
          ],
          [
           0.875,
           "rgb(37,37,37)"
          ],
          [
           1,
           "rgb(0, 0, 0)"
          ]
         ],
         "opacity": 0.3,
         "showscale": false,
         "type": "surface",
         "x": [
          413.91,
          510.81
         ],
         "y": [
          -148.423,
          155.197
         ],
         "z": [
          [
           -204.2,
           -204.2
          ],
          [
           -204.2,
           -204.2
          ]
         ]
        },
        {
         "colorscale": [
          [
           0,
           "rgb(255,255,255)"
          ],
          [
           0.125,
           "rgb(240,240,240)"
          ],
          [
           0.25,
           "rgb(217,217,217)"
          ],
          [
           0.375,
           "rgb(189,189,189)"
          ],
          [
           0.5,
           "rgb(150,150,150)"
          ],
          [
           0.625,
           "rgb(115,115,115)"
          ],
          [
           0.75,
           "rgb(82,82,82)"
          ],
          [
           0.875,
           "rgb(37,37,37)"
          ],
          [
           1,
           "rgb(0, 0, 0)"
          ]
         ],
         "opacity": 0.3,
         "showscale": false,
         "type": "surface",
         "x": [
          515.3299999999999,
          612.23
         ],
         "y": [
          -148.423,
          155.197
         ],
         "z": [
          [
           -204.2,
           -204.2
          ],
          [
           -204.2,
           -204.2
          ]
         ]
        },
        {
         "colorscale": [
          [
           0,
           "rgb(255,255,255)"
          ],
          [
           0.125,
           "rgb(240,240,240)"
          ],
          [
           0.25,
           "rgb(217,217,217)"
          ],
          [
           0.375,
           "rgb(189,189,189)"
          ],
          [
           0.5,
           "rgb(150,150,150)"
          ],
          [
           0.625,
           "rgb(115,115,115)"
          ],
          [
           0.75,
           "rgb(82,82,82)"
          ],
          [
           0.875,
           "rgb(37,37,37)"
          ],
          [
           1,
           "rgb(0, 0, 0)"
          ]
         ],
         "opacity": 0.3,
         "showscale": false,
         "type": "surface",
         "x": [
          616.75,
          713.6500000000001
         ],
         "y": [
          -148.423,
          155.197
         ],
         "z": [
          [
           -204.2,
           -204.2
          ],
          [
           -204.2,
           -204.2
          ]
         ]
        },
        {
         "colorscale": [
          [
           0,
           "rgb(255,255,255)"
          ],
          [
           0.125,
           "rgb(240,240,240)"
          ],
          [
           0.25,
           "rgb(217,217,217)"
          ],
          [
           0.375,
           "rgb(189,189,189)"
          ],
          [
           0.5,
           "rgb(150,150,150)"
          ],
          [
           0.625,
           "rgb(115,115,115)"
          ],
          [
           0.75,
           "rgb(82,82,82)"
          ],
          [
           0.875,
           "rgb(37,37,37)"
          ],
          [
           1,
           "rgb(0, 0, 0)"
          ]
         ],
         "opacity": 0.3,
         "showscale": false,
         "type": "surface",
         "x": [
          718.17,
          815.07
         ],
         "y": [
          -148.423,
          155.197
         ],
         "z": [
          [
           -204.2,
           -204.2
          ],
          [
           -204.2,
           -204.2
          ]
         ]
        },
        {
         "colorscale": [
          [
           0,
           "rgb(255,255,255)"
          ],
          [
           0.125,
           "rgb(240,240,240)"
          ],
          [
           0.25,
           "rgb(217,217,217)"
          ],
          [
           0.375,
           "rgb(189,189,189)"
          ],
          [
           0.5,
           "rgb(150,150,150)"
          ],
          [
           0.625,
           "rgb(115,115,115)"
          ],
          [
           0.75,
           "rgb(82,82,82)"
          ],
          [
           0.875,
           "rgb(37,37,37)"
          ],
          [
           1,
           "rgb(0, 0, 0)"
          ]
         ],
         "opacity": 0.3,
         "showscale": false,
         "type": "surface",
         "x": [
          819.5899999999999,
          916.49
         ],
         "y": [
          -148.423,
          155.197
         ],
         "z": [
          [
           -204.2,
           -204.2
          ],
          [
           -204.2,
           -204.2
          ]
         ]
        },
        {
         "colorscale": [
          [
           0,
           "rgb(255,255,255)"
          ],
          [
           0.125,
           "rgb(240,240,240)"
          ],
          [
           0.25,
           "rgb(217,217,217)"
          ],
          [
           0.375,
           "rgb(189,189,189)"
          ],
          [
           0.5,
           "rgb(150,150,150)"
          ],
          [
           0.625,
           "rgb(115,115,115)"
          ],
          [
           0.75,
           "rgb(82,82,82)"
          ],
          [
           0.875,
           "rgb(37,37,37)"
          ],
          [
           1,
           "rgb(0, 0, 0)"
          ]
         ],
         "opacity": 0.3,
         "showscale": false,
         "type": "surface",
         "x": [
          413.91,
          510.81
         ],
         "y": [
          -148.423,
          155.197
         ],
         "z": [
          [
           -102.1,
           -102.1
          ],
          [
           -102.1,
           -102.1
          ]
         ]
        },
        {
         "colorscale": [
          [
           0,
           "rgb(255,255,255)"
          ],
          [
           0.125,
           "rgb(240,240,240)"
          ],
          [
           0.25,
           "rgb(217,217,217)"
          ],
          [
           0.375,
           "rgb(189,189,189)"
          ],
          [
           0.5,
           "rgb(150,150,150)"
          ],
          [
           0.625,
           "rgb(115,115,115)"
          ],
          [
           0.75,
           "rgb(82,82,82)"
          ],
          [
           0.875,
           "rgb(37,37,37)"
          ],
          [
           1,
           "rgb(0, 0, 0)"
          ]
         ],
         "opacity": 0.3,
         "showscale": false,
         "type": "surface",
         "x": [
          515.3299999999999,
          612.23
         ],
         "y": [
          -148.423,
          155.197
         ],
         "z": [
          [
           -102.1,
           -102.1
          ],
          [
           -102.1,
           -102.1
          ]
         ]
        },
        {
         "colorscale": [
          [
           0,
           "rgb(255,255,255)"
          ],
          [
           0.125,
           "rgb(240,240,240)"
          ],
          [
           0.25,
           "rgb(217,217,217)"
          ],
          [
           0.375,
           "rgb(189,189,189)"
          ],
          [
           0.5,
           "rgb(150,150,150)"
          ],
          [
           0.625,
           "rgb(115,115,115)"
          ],
          [
           0.75,
           "rgb(82,82,82)"
          ],
          [
           0.875,
           "rgb(37,37,37)"
          ],
          [
           1,
           "rgb(0, 0, 0)"
          ]
         ],
         "opacity": 0.3,
         "showscale": false,
         "type": "surface",
         "x": [
          616.75,
          713.6500000000001
         ],
         "y": [
          -148.423,
          155.197
         ],
         "z": [
          [
           -102.1,
           -102.1
          ],
          [
           -102.1,
           -102.1
          ]
         ]
        },
        {
         "colorscale": [
          [
           0,
           "rgb(255,255,255)"
          ],
          [
           0.125,
           "rgb(240,240,240)"
          ],
          [
           0.25,
           "rgb(217,217,217)"
          ],
          [
           0.375,
           "rgb(189,189,189)"
          ],
          [
           0.5,
           "rgb(150,150,150)"
          ],
          [
           0.625,
           "rgb(115,115,115)"
          ],
          [
           0.75,
           "rgb(82,82,82)"
          ],
          [
           0.875,
           "rgb(37,37,37)"
          ],
          [
           1,
           "rgb(0, 0, 0)"
          ]
         ],
         "opacity": 0.3,
         "showscale": false,
         "type": "surface",
         "x": [
          718.17,
          815.07
         ],
         "y": [
          -148.423,
          155.197
         ],
         "z": [
          [
           -102.1,
           -102.1
          ],
          [
           -102.1,
           -102.1
          ]
         ]
        },
        {
         "colorscale": [
          [
           0,
           "rgb(255,255,255)"
          ],
          [
           0.125,
           "rgb(240,240,240)"
          ],
          [
           0.25,
           "rgb(217,217,217)"
          ],
          [
           0.375,
           "rgb(189,189,189)"
          ],
          [
           0.5,
           "rgb(150,150,150)"
          ],
          [
           0.625,
           "rgb(115,115,115)"
          ],
          [
           0.75,
           "rgb(82,82,82)"
          ],
          [
           0.875,
           "rgb(37,37,37)"
          ],
          [
           1,
           "rgb(0, 0, 0)"
          ]
         ],
         "opacity": 0.3,
         "showscale": false,
         "type": "surface",
         "x": [
          819.5899999999999,
          916.49
         ],
         "y": [
          -148.423,
          155.197
         ],
         "z": [
          [
           -102.1,
           -102.1
          ],
          [
           -102.1,
           -102.1
          ]
         ]
        },
        {
         "colorscale": [
          [
           0,
           "rgb(255,255,255)"
          ],
          [
           0.125,
           "rgb(240,240,240)"
          ],
          [
           0.25,
           "rgb(217,217,217)"
          ],
          [
           0.375,
           "rgb(189,189,189)"
          ],
          [
           0.5,
           "rgb(150,150,150)"
          ],
          [
           0.625,
           "rgb(115,115,115)"
          ],
          [
           0.75,
           "rgb(82,82,82)"
          ],
          [
           0.875,
           "rgb(37,37,37)"
          ],
          [
           1,
           "rgb(0, 0, 0)"
          ]
         ],
         "opacity": 0.3,
         "showscale": false,
         "type": "surface",
         "x": [
          413.91,
          510.81
         ],
         "y": [
          -148.423,
          155.197
         ],
         "z": [
          [
           0,
           0
          ],
          [
           0,
           0
          ]
         ]
        },
        {
         "colorscale": [
          [
           0,
           "rgb(255,255,255)"
          ],
          [
           0.125,
           "rgb(240,240,240)"
          ],
          [
           0.25,
           "rgb(217,217,217)"
          ],
          [
           0.375,
           "rgb(189,189,189)"
          ],
          [
           0.5,
           "rgb(150,150,150)"
          ],
          [
           0.625,
           "rgb(115,115,115)"
          ],
          [
           0.75,
           "rgb(82,82,82)"
          ],
          [
           0.875,
           "rgb(37,37,37)"
          ],
          [
           1,
           "rgb(0, 0, 0)"
          ]
         ],
         "opacity": 0.3,
         "showscale": false,
         "type": "surface",
         "x": [
          515.3299999999999,
          612.23
         ],
         "y": [
          -148.423,
          155.197
         ],
         "z": [
          [
           0,
           0
          ],
          [
           0,
           0
          ]
         ]
        },
        {
         "colorscale": [
          [
           0,
           "rgb(255,255,255)"
          ],
          [
           0.125,
           "rgb(240,240,240)"
          ],
          [
           0.25,
           "rgb(217,217,217)"
          ],
          [
           0.375,
           "rgb(189,189,189)"
          ],
          [
           0.5,
           "rgb(150,150,150)"
          ],
          [
           0.625,
           "rgb(115,115,115)"
          ],
          [
           0.75,
           "rgb(82,82,82)"
          ],
          [
           0.875,
           "rgb(37,37,37)"
          ],
          [
           1,
           "rgb(0, 0, 0)"
          ]
         ],
         "opacity": 0.3,
         "showscale": false,
         "type": "surface",
         "x": [
          616.75,
          713.6500000000001
         ],
         "y": [
          -148.423,
          155.197
         ],
         "z": [
          [
           0,
           0
          ],
          [
           0,
           0
          ]
         ]
        },
        {
         "colorscale": [
          [
           0,
           "rgb(255,255,255)"
          ],
          [
           0.125,
           "rgb(240,240,240)"
          ],
          [
           0.25,
           "rgb(217,217,217)"
          ],
          [
           0.375,
           "rgb(189,189,189)"
          ],
          [
           0.5,
           "rgb(150,150,150)"
          ],
          [
           0.625,
           "rgb(115,115,115)"
          ],
          [
           0.75,
           "rgb(82,82,82)"
          ],
          [
           0.875,
           "rgb(37,37,37)"
          ],
          [
           1,
           "rgb(0, 0, 0)"
          ]
         ],
         "opacity": 0.3,
         "showscale": false,
         "type": "surface",
         "x": [
          718.17,
          815.07
         ],
         "y": [
          -148.423,
          155.197
         ],
         "z": [
          [
           0,
           0
          ],
          [
           0,
           0
          ]
         ]
        },
        {
         "colorscale": [
          [
           0,
           "rgb(255,255,255)"
          ],
          [
           0.125,
           "rgb(240,240,240)"
          ],
          [
           0.25,
           "rgb(217,217,217)"
          ],
          [
           0.375,
           "rgb(189,189,189)"
          ],
          [
           0.5,
           "rgb(150,150,150)"
          ],
          [
           0.625,
           "rgb(115,115,115)"
          ],
          [
           0.75,
           "rgb(82,82,82)"
          ],
          [
           0.875,
           "rgb(37,37,37)"
          ],
          [
           1,
           "rgb(0, 0, 0)"
          ]
         ],
         "opacity": 0.3,
         "showscale": false,
         "type": "surface",
         "x": [
          819.5899999999999,
          916.49
         ],
         "y": [
          -148.423,
          155.197
         ],
         "z": [
          [
           0,
           0
          ],
          [
           0,
           0
          ]
         ]
        },
        {
         "colorscale": [
          [
           0,
           "rgb(255,255,255)"
          ],
          [
           0.125,
           "rgb(240,240,240)"
          ],
          [
           0.25,
           "rgb(217,217,217)"
          ],
          [
           0.375,
           "rgb(189,189,189)"
          ],
          [
           0.5,
           "rgb(150,150,150)"
          ],
          [
           0.625,
           "rgb(115,115,115)"
          ],
          [
           0.75,
           "rgb(82,82,82)"
          ],
          [
           0.875,
           "rgb(37,37,37)"
          ],
          [
           1,
           "rgb(0, 0, 0)"
          ]
         ],
         "opacity": 0.3,
         "showscale": false,
         "type": "surface",
         "x": [
          413.91,
          510.81
         ],
         "y": [
          -148.423,
          155.197
         ],
         "z": [
          [
           102.1,
           102.1
          ],
          [
           102.1,
           102.1
          ]
         ]
        },
        {
         "colorscale": [
          [
           0,
           "rgb(255,255,255)"
          ],
          [
           0.125,
           "rgb(240,240,240)"
          ],
          [
           0.25,
           "rgb(217,217,217)"
          ],
          [
           0.375,
           "rgb(189,189,189)"
          ],
          [
           0.5,
           "rgb(150,150,150)"
          ],
          [
           0.625,
           "rgb(115,115,115)"
          ],
          [
           0.75,
           "rgb(82,82,82)"
          ],
          [
           0.875,
           "rgb(37,37,37)"
          ],
          [
           1,
           "rgb(0, 0, 0)"
          ]
         ],
         "opacity": 0.3,
         "showscale": false,
         "type": "surface",
         "x": [
          515.3299999999999,
          612.23
         ],
         "y": [
          -148.423,
          155.197
         ],
         "z": [
          [
           102.1,
           102.1
          ],
          [
           102.1,
           102.1
          ]
         ]
        },
        {
         "colorscale": [
          [
           0,
           "rgb(255,255,255)"
          ],
          [
           0.125,
           "rgb(240,240,240)"
          ],
          [
           0.25,
           "rgb(217,217,217)"
          ],
          [
           0.375,
           "rgb(189,189,189)"
          ],
          [
           0.5,
           "rgb(150,150,150)"
          ],
          [
           0.625,
           "rgb(115,115,115)"
          ],
          [
           0.75,
           "rgb(82,82,82)"
          ],
          [
           0.875,
           "rgb(37,37,37)"
          ],
          [
           1,
           "rgb(0, 0, 0)"
          ]
         ],
         "opacity": 0.3,
         "showscale": false,
         "type": "surface",
         "x": [
          616.75,
          713.6500000000001
         ],
         "y": [
          -148.423,
          155.197
         ],
         "z": [
          [
           102.1,
           102.1
          ],
          [
           102.1,
           102.1
          ]
         ]
        },
        {
         "colorscale": [
          [
           0,
           "rgb(255,255,255)"
          ],
          [
           0.125,
           "rgb(240,240,240)"
          ],
          [
           0.25,
           "rgb(217,217,217)"
          ],
          [
           0.375,
           "rgb(189,189,189)"
          ],
          [
           0.5,
           "rgb(150,150,150)"
          ],
          [
           0.625,
           "rgb(115,115,115)"
          ],
          [
           0.75,
           "rgb(82,82,82)"
          ],
          [
           0.875,
           "rgb(37,37,37)"
          ],
          [
           1,
           "rgb(0, 0, 0)"
          ]
         ],
         "opacity": 0.3,
         "showscale": false,
         "type": "surface",
         "x": [
          718.17,
          815.07
         ],
         "y": [
          -148.423,
          155.197
         ],
         "z": [
          [
           102.1,
           102.1
          ],
          [
           102.1,
           102.1
          ]
         ]
        },
        {
         "colorscale": [
          [
           0,
           "rgb(255,255,255)"
          ],
          [
           0.125,
           "rgb(240,240,240)"
          ],
          [
           0.25,
           "rgb(217,217,217)"
          ],
          [
           0.375,
           "rgb(189,189,189)"
          ],
          [
           0.5,
           "rgb(150,150,150)"
          ],
          [
           0.625,
           "rgb(115,115,115)"
          ],
          [
           0.75,
           "rgb(82,82,82)"
          ],
          [
           0.875,
           "rgb(37,37,37)"
          ],
          [
           1,
           "rgb(0, 0, 0)"
          ]
         ],
         "opacity": 0.3,
         "showscale": false,
         "type": "surface",
         "x": [
          819.5899999999999,
          916.49
         ],
         "y": [
          -148.423,
          155.197
         ],
         "z": [
          [
           102.1,
           102.1
          ],
          [
           102.1,
           102.1
          ]
         ]
        },
        {
         "colorscale": [
          [
           0,
           "rgb(255,255,255)"
          ],
          [
           0.125,
           "rgb(240,240,240)"
          ],
          [
           0.25,
           "rgb(217,217,217)"
          ],
          [
           0.375,
           "rgb(189,189,189)"
          ],
          [
           0.5,
           "rgb(150,150,150)"
          ],
          [
           0.625,
           "rgb(115,115,115)"
          ],
          [
           0.75,
           "rgb(82,82,82)"
          ],
          [
           0.875,
           "rgb(37,37,37)"
          ],
          [
           1,
           "rgb(0, 0, 0)"
          ]
         ],
         "opacity": 0.3,
         "showscale": false,
         "type": "surface",
         "x": [
          413.91,
          510.81
         ],
         "y": [
          -148.423,
          155.197
         ],
         "z": [
          [
           204.2,
           204.2
          ],
          [
           204.2,
           204.2
          ]
         ]
        },
        {
         "colorscale": [
          [
           0,
           "rgb(255,255,255)"
          ],
          [
           0.125,
           "rgb(240,240,240)"
          ],
          [
           0.25,
           "rgb(217,217,217)"
          ],
          [
           0.375,
           "rgb(189,189,189)"
          ],
          [
           0.5,
           "rgb(150,150,150)"
          ],
          [
           0.625,
           "rgb(115,115,115)"
          ],
          [
           0.75,
           "rgb(82,82,82)"
          ],
          [
           0.875,
           "rgb(37,37,37)"
          ],
          [
           1,
           "rgb(0, 0, 0)"
          ]
         ],
         "opacity": 0.3,
         "showscale": false,
         "type": "surface",
         "x": [
          515.3299999999999,
          612.23
         ],
         "y": [
          -148.423,
          155.197
         ],
         "z": [
          [
           204.2,
           204.2
          ],
          [
           204.2,
           204.2
          ]
         ]
        },
        {
         "colorscale": [
          [
           0,
           "rgb(255,255,255)"
          ],
          [
           0.125,
           "rgb(240,240,240)"
          ],
          [
           0.25,
           "rgb(217,217,217)"
          ],
          [
           0.375,
           "rgb(189,189,189)"
          ],
          [
           0.5,
           "rgb(150,150,150)"
          ],
          [
           0.625,
           "rgb(115,115,115)"
          ],
          [
           0.75,
           "rgb(82,82,82)"
          ],
          [
           0.875,
           "rgb(37,37,37)"
          ],
          [
           1,
           "rgb(0, 0, 0)"
          ]
         ],
         "opacity": 0.3,
         "showscale": false,
         "type": "surface",
         "x": [
          616.75,
          713.6500000000001
         ],
         "y": [
          -148.423,
          155.197
         ],
         "z": [
          [
           204.2,
           204.2
          ],
          [
           204.2,
           204.2
          ]
         ]
        },
        {
         "colorscale": [
          [
           0,
           "rgb(255,255,255)"
          ],
          [
           0.125,
           "rgb(240,240,240)"
          ],
          [
           0.25,
           "rgb(217,217,217)"
          ],
          [
           0.375,
           "rgb(189,189,189)"
          ],
          [
           0.5,
           "rgb(150,150,150)"
          ],
          [
           0.625,
           "rgb(115,115,115)"
          ],
          [
           0.75,
           "rgb(82,82,82)"
          ],
          [
           0.875,
           "rgb(37,37,37)"
          ],
          [
           1,
           "rgb(0, 0, 0)"
          ]
         ],
         "opacity": 0.3,
         "showscale": false,
         "type": "surface",
         "x": [
          718.17,
          815.07
         ],
         "y": [
          -148.423,
          155.197
         ],
         "z": [
          [
           204.2,
           204.2
          ],
          [
           204.2,
           204.2
          ]
         ]
        },
        {
         "colorscale": [
          [
           0,
           "rgb(255,255,255)"
          ],
          [
           0.125,
           "rgb(240,240,240)"
          ],
          [
           0.25,
           "rgb(217,217,217)"
          ],
          [
           0.375,
           "rgb(189,189,189)"
          ],
          [
           0.5,
           "rgb(150,150,150)"
          ],
          [
           0.625,
           "rgb(115,115,115)"
          ],
          [
           0.75,
           "rgb(82,82,82)"
          ],
          [
           0.875,
           "rgb(37,37,37)"
          ],
          [
           1,
           "rgb(0, 0, 0)"
          ]
         ],
         "opacity": 0.3,
         "showscale": false,
         "type": "surface",
         "x": [
          819.5899999999999,
          916.49
         ],
         "y": [
          -148.423,
          155.197
         ],
         "z": [
          [
           204.2,
           204.2
          ],
          [
           204.2,
           204.2
          ]
         ]
        },
        {
         "colorscale": [
          [
           0,
           "rgb(255,255,255)"
          ],
          [
           0.125,
           "rgb(240,240,240)"
          ],
          [
           0.25,
           "rgb(217,217,217)"
          ],
          [
           0.375,
           "rgb(189,189,189)"
          ],
          [
           0.5,
           "rgb(150,150,150)"
          ],
          [
           0.625,
           "rgb(115,115,115)"
          ],
          [
           0.75,
           "rgb(82,82,82)"
          ],
          [
           0.875,
           "rgb(37,37,37)"
          ],
          [
           1,
           "rgb(0, 0, 0)"
          ]
         ],
         "opacity": 0.3,
         "showscale": false,
         "type": "surface",
         "x": [
          413.91,
          510.81
         ],
         "y": [
          -148.423,
          155.197
         ],
         "z": [
          [
           306.3,
           306.3
          ],
          [
           306.3,
           306.3
          ]
         ]
        },
        {
         "colorscale": [
          [
           0,
           "rgb(255,255,255)"
          ],
          [
           0.125,
           "rgb(240,240,240)"
          ],
          [
           0.25,
           "rgb(217,217,217)"
          ],
          [
           0.375,
           "rgb(189,189,189)"
          ],
          [
           0.5,
           "rgb(150,150,150)"
          ],
          [
           0.625,
           "rgb(115,115,115)"
          ],
          [
           0.75,
           "rgb(82,82,82)"
          ],
          [
           0.875,
           "rgb(37,37,37)"
          ],
          [
           1,
           "rgb(0, 0, 0)"
          ]
         ],
         "opacity": 0.3,
         "showscale": false,
         "type": "surface",
         "x": [
          515.3299999999999,
          612.23
         ],
         "y": [
          -148.423,
          155.197
         ],
         "z": [
          [
           306.3,
           306.3
          ],
          [
           306.3,
           306.3
          ]
         ]
        },
        {
         "colorscale": [
          [
           0,
           "rgb(255,255,255)"
          ],
          [
           0.125,
           "rgb(240,240,240)"
          ],
          [
           0.25,
           "rgb(217,217,217)"
          ],
          [
           0.375,
           "rgb(189,189,189)"
          ],
          [
           0.5,
           "rgb(150,150,150)"
          ],
          [
           0.625,
           "rgb(115,115,115)"
          ],
          [
           0.75,
           "rgb(82,82,82)"
          ],
          [
           0.875,
           "rgb(37,37,37)"
          ],
          [
           1,
           "rgb(0, 0, 0)"
          ]
         ],
         "opacity": 0.3,
         "showscale": false,
         "type": "surface",
         "x": [
          616.75,
          713.6500000000001
         ],
         "y": [
          -148.423,
          155.197
         ],
         "z": [
          [
           306.3,
           306.3
          ],
          [
           306.3,
           306.3
          ]
         ]
        },
        {
         "colorscale": [
          [
           0,
           "rgb(255,255,255)"
          ],
          [
           0.125,
           "rgb(240,240,240)"
          ],
          [
           0.25,
           "rgb(217,217,217)"
          ],
          [
           0.375,
           "rgb(189,189,189)"
          ],
          [
           0.5,
           "rgb(150,150,150)"
          ],
          [
           0.625,
           "rgb(115,115,115)"
          ],
          [
           0.75,
           "rgb(82,82,82)"
          ],
          [
           0.875,
           "rgb(37,37,37)"
          ],
          [
           1,
           "rgb(0, 0, 0)"
          ]
         ],
         "opacity": 0.3,
         "showscale": false,
         "type": "surface",
         "x": [
          718.17,
          815.07
         ],
         "y": [
          -148.423,
          155.197
         ],
         "z": [
          [
           306.3,
           306.3
          ],
          [
           306.3,
           306.3
          ]
         ]
        },
        {
         "colorscale": [
          [
           0,
           "rgb(255,255,255)"
          ],
          [
           0.125,
           "rgb(240,240,240)"
          ],
          [
           0.25,
           "rgb(217,217,217)"
          ],
          [
           0.375,
           "rgb(189,189,189)"
          ],
          [
           0.5,
           "rgb(150,150,150)"
          ],
          [
           0.625,
           "rgb(115,115,115)"
          ],
          [
           0.75,
           "rgb(82,82,82)"
          ],
          [
           0.875,
           "rgb(37,37,37)"
          ],
          [
           1,
           "rgb(0, 0, 0)"
          ]
         ],
         "opacity": 0.3,
         "showscale": false,
         "type": "surface",
         "x": [
          819.5899999999999,
          916.49
         ],
         "y": [
          -148.423,
          155.197
         ],
         "z": [
          [
           306.3,
           306.3
          ],
          [
           306.3,
           306.3
          ]
         ]
        },
        {
         "colorscale": [
          [
           0,
           "rgb(3, 5, 18)"
          ],
          [
           0.09090909090909091,
           "rgb(25, 25, 51)"
          ],
          [
           0.18181818181818182,
           "rgb(44, 42, 87)"
          ],
          [
           0.2727272727272727,
           "rgb(58, 60, 125)"
          ],
          [
           0.36363636363636365,
           "rgb(62, 83, 160)"
          ],
          [
           0.45454545454545453,
           "rgb(62, 109, 178)"
          ],
          [
           0.5454545454545454,
           "rgb(72, 134, 187)"
          ],
          [
           0.6363636363636364,
           "rgb(89, 159, 196)"
          ],
          [
           0.7272727272727273,
           "rgb(114, 184, 205)"
          ],
          [
           0.8181818181818182,
           "rgb(149, 207, 216)"
          ],
          [
           0.9090909090909091,
           "rgb(192, 229, 232)"
          ],
          [
           1,
           "rgb(234, 252, 253)"
          ]
         ],
         "opacity": 0.1,
         "showscale": false,
         "type": "surface",
         "x": [
          413.91,
          510.81
         ],
         "y": [
          -148.423,
          155.197
         ],
         "z": [
          [
           -356.7,
           -356.7
          ],
          [
           -356.7,
           -356.7
          ]
         ]
        },
        {
         "colorscale": [
          [
           0,
           "rgb(3, 5, 18)"
          ],
          [
           0.09090909090909091,
           "rgb(25, 25, 51)"
          ],
          [
           0.18181818181818182,
           "rgb(44, 42, 87)"
          ],
          [
           0.2727272727272727,
           "rgb(58, 60, 125)"
          ],
          [
           0.36363636363636365,
           "rgb(62, 83, 160)"
          ],
          [
           0.45454545454545453,
           "rgb(62, 109, 178)"
          ],
          [
           0.5454545454545454,
           "rgb(72, 134, 187)"
          ],
          [
           0.6363636363636364,
           "rgb(89, 159, 196)"
          ],
          [
           0.7272727272727273,
           "rgb(114, 184, 205)"
          ],
          [
           0.8181818181818182,
           "rgb(149, 207, 216)"
          ],
          [
           0.9090909090909091,
           "rgb(192, 229, 232)"
          ],
          [
           1,
           "rgb(234, 252, 253)"
          ]
         ],
         "opacity": 0.1,
         "showscale": false,
         "type": "surface",
         "x": [
          413.91,
          510.81
         ],
         "y": [
          -148.423,
          155.197
         ],
         "z": [
          [
           -255.9,
           -255.9
          ],
          [
           -255.9,
           -255.9
          ]
         ]
        },
        {
         "colorscale": [
          [
           0,
           "rgb(3, 5, 18)"
          ],
          [
           0.09090909090909091,
           "rgb(25, 25, 51)"
          ],
          [
           0.18181818181818182,
           "rgb(44, 42, 87)"
          ],
          [
           0.2727272727272727,
           "rgb(58, 60, 125)"
          ],
          [
           0.36363636363636365,
           "rgb(62, 83, 160)"
          ],
          [
           0.45454545454545453,
           "rgb(62, 109, 178)"
          ],
          [
           0.5454545454545454,
           "rgb(72, 134, 187)"
          ],
          [
           0.6363636363636364,
           "rgb(89, 159, 196)"
          ],
          [
           0.7272727272727273,
           "rgb(114, 184, 205)"
          ],
          [
           0.8181818181818182,
           "rgb(149, 207, 216)"
          ],
          [
           0.9090909090909091,
           "rgb(192, 229, 232)"
          ],
          [
           1,
           "rgb(234, 252, 253)"
          ]
         ],
         "opacity": 0.1,
         "showscale": false,
         "type": "surface",
         "x": [
          515.3299999999999,
          612.23
         ],
         "y": [
          -148.423,
          155.197
         ],
         "z": [
          [
           -356.7,
           -356.7
          ],
          [
           -356.7,
           -356.7
          ]
         ]
        },
        {
         "colorscale": [
          [
           0,
           "rgb(3, 5, 18)"
          ],
          [
           0.09090909090909091,
           "rgb(25, 25, 51)"
          ],
          [
           0.18181818181818182,
           "rgb(44, 42, 87)"
          ],
          [
           0.2727272727272727,
           "rgb(58, 60, 125)"
          ],
          [
           0.36363636363636365,
           "rgb(62, 83, 160)"
          ],
          [
           0.45454545454545453,
           "rgb(62, 109, 178)"
          ],
          [
           0.5454545454545454,
           "rgb(72, 134, 187)"
          ],
          [
           0.6363636363636364,
           "rgb(89, 159, 196)"
          ],
          [
           0.7272727272727273,
           "rgb(114, 184, 205)"
          ],
          [
           0.8181818181818182,
           "rgb(149, 207, 216)"
          ],
          [
           0.9090909090909091,
           "rgb(192, 229, 232)"
          ],
          [
           1,
           "rgb(234, 252, 253)"
          ]
         ],
         "opacity": 0.1,
         "showscale": false,
         "type": "surface",
         "x": [
          515.3299999999999,
          612.23
         ],
         "y": [
          -148.423,
          155.197
         ],
         "z": [
          [
           -255.9,
           -255.9
          ],
          [
           -255.9,
           -255.9
          ]
         ]
        },
        {
         "colorscale": [
          [
           0,
           "rgb(3, 5, 18)"
          ],
          [
           0.09090909090909091,
           "rgb(25, 25, 51)"
          ],
          [
           0.18181818181818182,
           "rgb(44, 42, 87)"
          ],
          [
           0.2727272727272727,
           "rgb(58, 60, 125)"
          ],
          [
           0.36363636363636365,
           "rgb(62, 83, 160)"
          ],
          [
           0.45454545454545453,
           "rgb(62, 109, 178)"
          ],
          [
           0.5454545454545454,
           "rgb(72, 134, 187)"
          ],
          [
           0.6363636363636364,
           "rgb(89, 159, 196)"
          ],
          [
           0.7272727272727273,
           "rgb(114, 184, 205)"
          ],
          [
           0.8181818181818182,
           "rgb(149, 207, 216)"
          ],
          [
           0.9090909090909091,
           "rgb(192, 229, 232)"
          ],
          [
           1,
           "rgb(234, 252, 253)"
          ]
         ],
         "opacity": 0.1,
         "showscale": false,
         "type": "surface",
         "x": [
          616.75,
          713.6500000000001
         ],
         "y": [
          -148.423,
          155.197
         ],
         "z": [
          [
           -356.7,
           -356.7
          ],
          [
           -356.7,
           -356.7
          ]
         ]
        },
        {
         "colorscale": [
          [
           0,
           "rgb(3, 5, 18)"
          ],
          [
           0.09090909090909091,
           "rgb(25, 25, 51)"
          ],
          [
           0.18181818181818182,
           "rgb(44, 42, 87)"
          ],
          [
           0.2727272727272727,
           "rgb(58, 60, 125)"
          ],
          [
           0.36363636363636365,
           "rgb(62, 83, 160)"
          ],
          [
           0.45454545454545453,
           "rgb(62, 109, 178)"
          ],
          [
           0.5454545454545454,
           "rgb(72, 134, 187)"
          ],
          [
           0.6363636363636364,
           "rgb(89, 159, 196)"
          ],
          [
           0.7272727272727273,
           "rgb(114, 184, 205)"
          ],
          [
           0.8181818181818182,
           "rgb(149, 207, 216)"
          ],
          [
           0.9090909090909091,
           "rgb(192, 229, 232)"
          ],
          [
           1,
           "rgb(234, 252, 253)"
          ]
         ],
         "opacity": 0.1,
         "showscale": false,
         "type": "surface",
         "x": [
          616.75,
          713.6500000000001
         ],
         "y": [
          -148.423,
          155.197
         ],
         "z": [
          [
           -255.9,
           -255.9
          ],
          [
           -255.9,
           -255.9
          ]
         ]
        },
        {
         "colorscale": [
          [
           0,
           "rgb(3, 5, 18)"
          ],
          [
           0.09090909090909091,
           "rgb(25, 25, 51)"
          ],
          [
           0.18181818181818182,
           "rgb(44, 42, 87)"
          ],
          [
           0.2727272727272727,
           "rgb(58, 60, 125)"
          ],
          [
           0.36363636363636365,
           "rgb(62, 83, 160)"
          ],
          [
           0.45454545454545453,
           "rgb(62, 109, 178)"
          ],
          [
           0.5454545454545454,
           "rgb(72, 134, 187)"
          ],
          [
           0.6363636363636364,
           "rgb(89, 159, 196)"
          ],
          [
           0.7272727272727273,
           "rgb(114, 184, 205)"
          ],
          [
           0.8181818181818182,
           "rgb(149, 207, 216)"
          ],
          [
           0.9090909090909091,
           "rgb(192, 229, 232)"
          ],
          [
           1,
           "rgb(234, 252, 253)"
          ]
         ],
         "opacity": 0.1,
         "showscale": false,
         "type": "surface",
         "x": [
          718.17,
          815.07
         ],
         "y": [
          -148.423,
          155.197
         ],
         "z": [
          [
           -356.7,
           -356.7
          ],
          [
           -356.7,
           -356.7
          ]
         ]
        },
        {
         "colorscale": [
          [
           0,
           "rgb(3, 5, 18)"
          ],
          [
           0.09090909090909091,
           "rgb(25, 25, 51)"
          ],
          [
           0.18181818181818182,
           "rgb(44, 42, 87)"
          ],
          [
           0.2727272727272727,
           "rgb(58, 60, 125)"
          ],
          [
           0.36363636363636365,
           "rgb(62, 83, 160)"
          ],
          [
           0.45454545454545453,
           "rgb(62, 109, 178)"
          ],
          [
           0.5454545454545454,
           "rgb(72, 134, 187)"
          ],
          [
           0.6363636363636364,
           "rgb(89, 159, 196)"
          ],
          [
           0.7272727272727273,
           "rgb(114, 184, 205)"
          ],
          [
           0.8181818181818182,
           "rgb(149, 207, 216)"
          ],
          [
           0.9090909090909091,
           "rgb(192, 229, 232)"
          ],
          [
           1,
           "rgb(234, 252, 253)"
          ]
         ],
         "opacity": 0.1,
         "showscale": false,
         "type": "surface",
         "x": [
          718.17,
          815.07
         ],
         "y": [
          -148.423,
          155.197
         ],
         "z": [
          [
           -255.9,
           -255.9
          ],
          [
           -255.9,
           -255.9
          ]
         ]
        },
        {
         "colorscale": [
          [
           0,
           "rgb(3, 5, 18)"
          ],
          [
           0.09090909090909091,
           "rgb(25, 25, 51)"
          ],
          [
           0.18181818181818182,
           "rgb(44, 42, 87)"
          ],
          [
           0.2727272727272727,
           "rgb(58, 60, 125)"
          ],
          [
           0.36363636363636365,
           "rgb(62, 83, 160)"
          ],
          [
           0.45454545454545453,
           "rgb(62, 109, 178)"
          ],
          [
           0.5454545454545454,
           "rgb(72, 134, 187)"
          ],
          [
           0.6363636363636364,
           "rgb(89, 159, 196)"
          ],
          [
           0.7272727272727273,
           "rgb(114, 184, 205)"
          ],
          [
           0.8181818181818182,
           "rgb(149, 207, 216)"
          ],
          [
           0.9090909090909091,
           "rgb(192, 229, 232)"
          ],
          [
           1,
           "rgb(234, 252, 253)"
          ]
         ],
         "opacity": 0.1,
         "showscale": false,
         "type": "surface",
         "x": [
          819.5899999999999,
          916.49
         ],
         "y": [
          -148.423,
          155.197
         ],
         "z": [
          [
           -356.7,
           -356.7
          ],
          [
           -356.7,
           -356.7
          ]
         ]
        },
        {
         "colorscale": [
          [
           0,
           "rgb(3, 5, 18)"
          ],
          [
           0.09090909090909091,
           "rgb(25, 25, 51)"
          ],
          [
           0.18181818181818182,
           "rgb(44, 42, 87)"
          ],
          [
           0.2727272727272727,
           "rgb(58, 60, 125)"
          ],
          [
           0.36363636363636365,
           "rgb(62, 83, 160)"
          ],
          [
           0.45454545454545453,
           "rgb(62, 109, 178)"
          ],
          [
           0.5454545454545454,
           "rgb(72, 134, 187)"
          ],
          [
           0.6363636363636364,
           "rgb(89, 159, 196)"
          ],
          [
           0.7272727272727273,
           "rgb(114, 184, 205)"
          ],
          [
           0.8181818181818182,
           "rgb(149, 207, 216)"
          ],
          [
           0.9090909090909091,
           "rgb(192, 229, 232)"
          ],
          [
           1,
           "rgb(234, 252, 253)"
          ]
         ],
         "opacity": 0.1,
         "showscale": false,
         "type": "surface",
         "x": [
          819.5899999999999,
          916.49
         ],
         "y": [
          -148.423,
          155.197
         ],
         "z": [
          [
           -255.9,
           -255.9
          ],
          [
           -255.9,
           -255.9
          ]
         ]
        },
        {
         "colorscale": [
          [
           0,
           "rgb(3, 5, 18)"
          ],
          [
           0.09090909090909091,
           "rgb(25, 25, 51)"
          ],
          [
           0.18181818181818182,
           "rgb(44, 42, 87)"
          ],
          [
           0.2727272727272727,
           "rgb(58, 60, 125)"
          ],
          [
           0.36363636363636365,
           "rgb(62, 83, 160)"
          ],
          [
           0.45454545454545453,
           "rgb(62, 109, 178)"
          ],
          [
           0.5454545454545454,
           "rgb(72, 134, 187)"
          ],
          [
           0.6363636363636364,
           "rgb(89, 159, 196)"
          ],
          [
           0.7272727272727273,
           "rgb(114, 184, 205)"
          ],
          [
           0.8181818181818182,
           "rgb(149, 207, 216)"
          ],
          [
           0.9090909090909091,
           "rgb(192, 229, 232)"
          ],
          [
           1,
           "rgb(234, 252, 253)"
          ]
         ],
         "opacity": 0.1,
         "showscale": false,
         "type": "surface",
         "x": [
          413.91,
          510.81
         ],
         "y": [
          -148.423,
          155.197
         ],
         "z": [
          [
           -254.6,
           -254.6
          ],
          [
           -254.6,
           -254.6
          ]
         ]
        },
        {
         "colorscale": [
          [
           0,
           "rgb(3, 5, 18)"
          ],
          [
           0.09090909090909091,
           "rgb(25, 25, 51)"
          ],
          [
           0.18181818181818182,
           "rgb(44, 42, 87)"
          ],
          [
           0.2727272727272727,
           "rgb(58, 60, 125)"
          ],
          [
           0.36363636363636365,
           "rgb(62, 83, 160)"
          ],
          [
           0.45454545454545453,
           "rgb(62, 109, 178)"
          ],
          [
           0.5454545454545454,
           "rgb(72, 134, 187)"
          ],
          [
           0.6363636363636364,
           "rgb(89, 159, 196)"
          ],
          [
           0.7272727272727273,
           "rgb(114, 184, 205)"
          ],
          [
           0.8181818181818182,
           "rgb(149, 207, 216)"
          ],
          [
           0.9090909090909091,
           "rgb(192, 229, 232)"
          ],
          [
           1,
           "rgb(234, 252, 253)"
          ]
         ],
         "opacity": 0.1,
         "showscale": false,
         "type": "surface",
         "x": [
          413.91,
          510.81
         ],
         "y": [
          -148.423,
          155.197
         ],
         "z": [
          [
           -153.79999999999998,
           -153.79999999999998
          ],
          [
           -153.79999999999998,
           -153.79999999999998
          ]
         ]
        },
        {
         "colorscale": [
          [
           0,
           "rgb(3, 5, 18)"
          ],
          [
           0.09090909090909091,
           "rgb(25, 25, 51)"
          ],
          [
           0.18181818181818182,
           "rgb(44, 42, 87)"
          ],
          [
           0.2727272727272727,
           "rgb(58, 60, 125)"
          ],
          [
           0.36363636363636365,
           "rgb(62, 83, 160)"
          ],
          [
           0.45454545454545453,
           "rgb(62, 109, 178)"
          ],
          [
           0.5454545454545454,
           "rgb(72, 134, 187)"
          ],
          [
           0.6363636363636364,
           "rgb(89, 159, 196)"
          ],
          [
           0.7272727272727273,
           "rgb(114, 184, 205)"
          ],
          [
           0.8181818181818182,
           "rgb(149, 207, 216)"
          ],
          [
           0.9090909090909091,
           "rgb(192, 229, 232)"
          ],
          [
           1,
           "rgb(234, 252, 253)"
          ]
         ],
         "opacity": 0.1,
         "showscale": false,
         "type": "surface",
         "x": [
          515.3299999999999,
          612.23
         ],
         "y": [
          -148.423,
          155.197
         ],
         "z": [
          [
           -254.6,
           -254.6
          ],
          [
           -254.6,
           -254.6
          ]
         ]
        },
        {
         "colorscale": [
          [
           0,
           "rgb(3, 5, 18)"
          ],
          [
           0.09090909090909091,
           "rgb(25, 25, 51)"
          ],
          [
           0.18181818181818182,
           "rgb(44, 42, 87)"
          ],
          [
           0.2727272727272727,
           "rgb(58, 60, 125)"
          ],
          [
           0.36363636363636365,
           "rgb(62, 83, 160)"
          ],
          [
           0.45454545454545453,
           "rgb(62, 109, 178)"
          ],
          [
           0.5454545454545454,
           "rgb(72, 134, 187)"
          ],
          [
           0.6363636363636364,
           "rgb(89, 159, 196)"
          ],
          [
           0.7272727272727273,
           "rgb(114, 184, 205)"
          ],
          [
           0.8181818181818182,
           "rgb(149, 207, 216)"
          ],
          [
           0.9090909090909091,
           "rgb(192, 229, 232)"
          ],
          [
           1,
           "rgb(234, 252, 253)"
          ]
         ],
         "opacity": 0.1,
         "showscale": false,
         "type": "surface",
         "x": [
          515.3299999999999,
          612.23
         ],
         "y": [
          -148.423,
          155.197
         ],
         "z": [
          [
           -153.79999999999998,
           -153.79999999999998
          ],
          [
           -153.79999999999998,
           -153.79999999999998
          ]
         ]
        },
        {
         "colorscale": [
          [
           0,
           "rgb(3, 5, 18)"
          ],
          [
           0.09090909090909091,
           "rgb(25, 25, 51)"
          ],
          [
           0.18181818181818182,
           "rgb(44, 42, 87)"
          ],
          [
           0.2727272727272727,
           "rgb(58, 60, 125)"
          ],
          [
           0.36363636363636365,
           "rgb(62, 83, 160)"
          ],
          [
           0.45454545454545453,
           "rgb(62, 109, 178)"
          ],
          [
           0.5454545454545454,
           "rgb(72, 134, 187)"
          ],
          [
           0.6363636363636364,
           "rgb(89, 159, 196)"
          ],
          [
           0.7272727272727273,
           "rgb(114, 184, 205)"
          ],
          [
           0.8181818181818182,
           "rgb(149, 207, 216)"
          ],
          [
           0.9090909090909091,
           "rgb(192, 229, 232)"
          ],
          [
           1,
           "rgb(234, 252, 253)"
          ]
         ],
         "opacity": 0.1,
         "showscale": false,
         "type": "surface",
         "x": [
          616.75,
          713.6500000000001
         ],
         "y": [
          -148.423,
          155.197
         ],
         "z": [
          [
           -254.6,
           -254.6
          ],
          [
           -254.6,
           -254.6
          ]
         ]
        },
        {
         "colorscale": [
          [
           0,
           "rgb(3, 5, 18)"
          ],
          [
           0.09090909090909091,
           "rgb(25, 25, 51)"
          ],
          [
           0.18181818181818182,
           "rgb(44, 42, 87)"
          ],
          [
           0.2727272727272727,
           "rgb(58, 60, 125)"
          ],
          [
           0.36363636363636365,
           "rgb(62, 83, 160)"
          ],
          [
           0.45454545454545453,
           "rgb(62, 109, 178)"
          ],
          [
           0.5454545454545454,
           "rgb(72, 134, 187)"
          ],
          [
           0.6363636363636364,
           "rgb(89, 159, 196)"
          ],
          [
           0.7272727272727273,
           "rgb(114, 184, 205)"
          ],
          [
           0.8181818181818182,
           "rgb(149, 207, 216)"
          ],
          [
           0.9090909090909091,
           "rgb(192, 229, 232)"
          ],
          [
           1,
           "rgb(234, 252, 253)"
          ]
         ],
         "opacity": 0.1,
         "showscale": false,
         "type": "surface",
         "x": [
          616.75,
          713.6500000000001
         ],
         "y": [
          -148.423,
          155.197
         ],
         "z": [
          [
           -153.79999999999998,
           -153.79999999999998
          ],
          [
           -153.79999999999998,
           -153.79999999999998
          ]
         ]
        },
        {
         "colorscale": [
          [
           0,
           "rgb(3, 5, 18)"
          ],
          [
           0.09090909090909091,
           "rgb(25, 25, 51)"
          ],
          [
           0.18181818181818182,
           "rgb(44, 42, 87)"
          ],
          [
           0.2727272727272727,
           "rgb(58, 60, 125)"
          ],
          [
           0.36363636363636365,
           "rgb(62, 83, 160)"
          ],
          [
           0.45454545454545453,
           "rgb(62, 109, 178)"
          ],
          [
           0.5454545454545454,
           "rgb(72, 134, 187)"
          ],
          [
           0.6363636363636364,
           "rgb(89, 159, 196)"
          ],
          [
           0.7272727272727273,
           "rgb(114, 184, 205)"
          ],
          [
           0.8181818181818182,
           "rgb(149, 207, 216)"
          ],
          [
           0.9090909090909091,
           "rgb(192, 229, 232)"
          ],
          [
           1,
           "rgb(234, 252, 253)"
          ]
         ],
         "opacity": 0.1,
         "showscale": false,
         "type": "surface",
         "x": [
          718.17,
          815.07
         ],
         "y": [
          -148.423,
          155.197
         ],
         "z": [
          [
           -254.6,
           -254.6
          ],
          [
           -254.6,
           -254.6
          ]
         ]
        },
        {
         "colorscale": [
          [
           0,
           "rgb(3, 5, 18)"
          ],
          [
           0.09090909090909091,
           "rgb(25, 25, 51)"
          ],
          [
           0.18181818181818182,
           "rgb(44, 42, 87)"
          ],
          [
           0.2727272727272727,
           "rgb(58, 60, 125)"
          ],
          [
           0.36363636363636365,
           "rgb(62, 83, 160)"
          ],
          [
           0.45454545454545453,
           "rgb(62, 109, 178)"
          ],
          [
           0.5454545454545454,
           "rgb(72, 134, 187)"
          ],
          [
           0.6363636363636364,
           "rgb(89, 159, 196)"
          ],
          [
           0.7272727272727273,
           "rgb(114, 184, 205)"
          ],
          [
           0.8181818181818182,
           "rgb(149, 207, 216)"
          ],
          [
           0.9090909090909091,
           "rgb(192, 229, 232)"
          ],
          [
           1,
           "rgb(234, 252, 253)"
          ]
         ],
         "opacity": 0.1,
         "showscale": false,
         "type": "surface",
         "x": [
          718.17,
          815.07
         ],
         "y": [
          -148.423,
          155.197
         ],
         "z": [
          [
           -153.79999999999998,
           -153.79999999999998
          ],
          [
           -153.79999999999998,
           -153.79999999999998
          ]
         ]
        },
        {
         "colorscale": [
          [
           0,
           "rgb(3, 5, 18)"
          ],
          [
           0.09090909090909091,
           "rgb(25, 25, 51)"
          ],
          [
           0.18181818181818182,
           "rgb(44, 42, 87)"
          ],
          [
           0.2727272727272727,
           "rgb(58, 60, 125)"
          ],
          [
           0.36363636363636365,
           "rgb(62, 83, 160)"
          ],
          [
           0.45454545454545453,
           "rgb(62, 109, 178)"
          ],
          [
           0.5454545454545454,
           "rgb(72, 134, 187)"
          ],
          [
           0.6363636363636364,
           "rgb(89, 159, 196)"
          ],
          [
           0.7272727272727273,
           "rgb(114, 184, 205)"
          ],
          [
           0.8181818181818182,
           "rgb(149, 207, 216)"
          ],
          [
           0.9090909090909091,
           "rgb(192, 229, 232)"
          ],
          [
           1,
           "rgb(234, 252, 253)"
          ]
         ],
         "opacity": 0.1,
         "showscale": false,
         "type": "surface",
         "x": [
          819.5899999999999,
          916.49
         ],
         "y": [
          -148.423,
          155.197
         ],
         "z": [
          [
           -254.6,
           -254.6
          ],
          [
           -254.6,
           -254.6
          ]
         ]
        },
        {
         "colorscale": [
          [
           0,
           "rgb(3, 5, 18)"
          ],
          [
           0.09090909090909091,
           "rgb(25, 25, 51)"
          ],
          [
           0.18181818181818182,
           "rgb(44, 42, 87)"
          ],
          [
           0.2727272727272727,
           "rgb(58, 60, 125)"
          ],
          [
           0.36363636363636365,
           "rgb(62, 83, 160)"
          ],
          [
           0.45454545454545453,
           "rgb(62, 109, 178)"
          ],
          [
           0.5454545454545454,
           "rgb(72, 134, 187)"
          ],
          [
           0.6363636363636364,
           "rgb(89, 159, 196)"
          ],
          [
           0.7272727272727273,
           "rgb(114, 184, 205)"
          ],
          [
           0.8181818181818182,
           "rgb(149, 207, 216)"
          ],
          [
           0.9090909090909091,
           "rgb(192, 229, 232)"
          ],
          [
           1,
           "rgb(234, 252, 253)"
          ]
         ],
         "opacity": 0.1,
         "showscale": false,
         "type": "surface",
         "x": [
          819.5899999999999,
          916.49
         ],
         "y": [
          -148.423,
          155.197
         ],
         "z": [
          [
           -153.79999999999998,
           -153.79999999999998
          ],
          [
           -153.79999999999998,
           -153.79999999999998
          ]
         ]
        },
        {
         "colorscale": [
          [
           0,
           "rgb(3, 5, 18)"
          ],
          [
           0.09090909090909091,
           "rgb(25, 25, 51)"
          ],
          [
           0.18181818181818182,
           "rgb(44, 42, 87)"
          ],
          [
           0.2727272727272727,
           "rgb(58, 60, 125)"
          ],
          [
           0.36363636363636365,
           "rgb(62, 83, 160)"
          ],
          [
           0.45454545454545453,
           "rgb(62, 109, 178)"
          ],
          [
           0.5454545454545454,
           "rgb(72, 134, 187)"
          ],
          [
           0.6363636363636364,
           "rgb(89, 159, 196)"
          ],
          [
           0.7272727272727273,
           "rgb(114, 184, 205)"
          ],
          [
           0.8181818181818182,
           "rgb(149, 207, 216)"
          ],
          [
           0.9090909090909091,
           "rgb(192, 229, 232)"
          ],
          [
           1,
           "rgb(234, 252, 253)"
          ]
         ],
         "opacity": 0.1,
         "showscale": false,
         "type": "surface",
         "x": [
          413.91,
          510.81
         ],
         "y": [
          -148.423,
          155.197
         ],
         "z": [
          [
           -152.5,
           -152.5
          ],
          [
           -152.5,
           -152.5
          ]
         ]
        },
        {
         "colorscale": [
          [
           0,
           "rgb(3, 5, 18)"
          ],
          [
           0.09090909090909091,
           "rgb(25, 25, 51)"
          ],
          [
           0.18181818181818182,
           "rgb(44, 42, 87)"
          ],
          [
           0.2727272727272727,
           "rgb(58, 60, 125)"
          ],
          [
           0.36363636363636365,
           "rgb(62, 83, 160)"
          ],
          [
           0.45454545454545453,
           "rgb(62, 109, 178)"
          ],
          [
           0.5454545454545454,
           "rgb(72, 134, 187)"
          ],
          [
           0.6363636363636364,
           "rgb(89, 159, 196)"
          ],
          [
           0.7272727272727273,
           "rgb(114, 184, 205)"
          ],
          [
           0.8181818181818182,
           "rgb(149, 207, 216)"
          ],
          [
           0.9090909090909091,
           "rgb(192, 229, 232)"
          ],
          [
           1,
           "rgb(234, 252, 253)"
          ]
         ],
         "opacity": 0.1,
         "showscale": false,
         "type": "surface",
         "x": [
          413.91,
          510.81
         ],
         "y": [
          -148.423,
          155.197
         ],
         "z": [
          [
           -51.699999999999996,
           -51.699999999999996
          ],
          [
           -51.699999999999996,
           -51.699999999999996
          ]
         ]
        },
        {
         "colorscale": [
          [
           0,
           "rgb(3, 5, 18)"
          ],
          [
           0.09090909090909091,
           "rgb(25, 25, 51)"
          ],
          [
           0.18181818181818182,
           "rgb(44, 42, 87)"
          ],
          [
           0.2727272727272727,
           "rgb(58, 60, 125)"
          ],
          [
           0.36363636363636365,
           "rgb(62, 83, 160)"
          ],
          [
           0.45454545454545453,
           "rgb(62, 109, 178)"
          ],
          [
           0.5454545454545454,
           "rgb(72, 134, 187)"
          ],
          [
           0.6363636363636364,
           "rgb(89, 159, 196)"
          ],
          [
           0.7272727272727273,
           "rgb(114, 184, 205)"
          ],
          [
           0.8181818181818182,
           "rgb(149, 207, 216)"
          ],
          [
           0.9090909090909091,
           "rgb(192, 229, 232)"
          ],
          [
           1,
           "rgb(234, 252, 253)"
          ]
         ],
         "opacity": 0.1,
         "showscale": false,
         "type": "surface",
         "x": [
          515.3299999999999,
          612.23
         ],
         "y": [
          -148.423,
          155.197
         ],
         "z": [
          [
           -152.5,
           -152.5
          ],
          [
           -152.5,
           -152.5
          ]
         ]
        },
        {
         "colorscale": [
          [
           0,
           "rgb(3, 5, 18)"
          ],
          [
           0.09090909090909091,
           "rgb(25, 25, 51)"
          ],
          [
           0.18181818181818182,
           "rgb(44, 42, 87)"
          ],
          [
           0.2727272727272727,
           "rgb(58, 60, 125)"
          ],
          [
           0.36363636363636365,
           "rgb(62, 83, 160)"
          ],
          [
           0.45454545454545453,
           "rgb(62, 109, 178)"
          ],
          [
           0.5454545454545454,
           "rgb(72, 134, 187)"
          ],
          [
           0.6363636363636364,
           "rgb(89, 159, 196)"
          ],
          [
           0.7272727272727273,
           "rgb(114, 184, 205)"
          ],
          [
           0.8181818181818182,
           "rgb(149, 207, 216)"
          ],
          [
           0.9090909090909091,
           "rgb(192, 229, 232)"
          ],
          [
           1,
           "rgb(234, 252, 253)"
          ]
         ],
         "opacity": 0.1,
         "showscale": false,
         "type": "surface",
         "x": [
          515.3299999999999,
          612.23
         ],
         "y": [
          -148.423,
          155.197
         ],
         "z": [
          [
           -51.699999999999996,
           -51.699999999999996
          ],
          [
           -51.699999999999996,
           -51.699999999999996
          ]
         ]
        },
        {
         "colorscale": [
          [
           0,
           "rgb(3, 5, 18)"
          ],
          [
           0.09090909090909091,
           "rgb(25, 25, 51)"
          ],
          [
           0.18181818181818182,
           "rgb(44, 42, 87)"
          ],
          [
           0.2727272727272727,
           "rgb(58, 60, 125)"
          ],
          [
           0.36363636363636365,
           "rgb(62, 83, 160)"
          ],
          [
           0.45454545454545453,
           "rgb(62, 109, 178)"
          ],
          [
           0.5454545454545454,
           "rgb(72, 134, 187)"
          ],
          [
           0.6363636363636364,
           "rgb(89, 159, 196)"
          ],
          [
           0.7272727272727273,
           "rgb(114, 184, 205)"
          ],
          [
           0.8181818181818182,
           "rgb(149, 207, 216)"
          ],
          [
           0.9090909090909091,
           "rgb(192, 229, 232)"
          ],
          [
           1,
           "rgb(234, 252, 253)"
          ]
         ],
         "opacity": 0.1,
         "showscale": false,
         "type": "surface",
         "x": [
          616.75,
          713.6500000000001
         ],
         "y": [
          -148.423,
          155.197
         ],
         "z": [
          [
           -152.5,
           -152.5
          ],
          [
           -152.5,
           -152.5
          ]
         ]
        },
        {
         "colorscale": [
          [
           0,
           "rgb(3, 5, 18)"
          ],
          [
           0.09090909090909091,
           "rgb(25, 25, 51)"
          ],
          [
           0.18181818181818182,
           "rgb(44, 42, 87)"
          ],
          [
           0.2727272727272727,
           "rgb(58, 60, 125)"
          ],
          [
           0.36363636363636365,
           "rgb(62, 83, 160)"
          ],
          [
           0.45454545454545453,
           "rgb(62, 109, 178)"
          ],
          [
           0.5454545454545454,
           "rgb(72, 134, 187)"
          ],
          [
           0.6363636363636364,
           "rgb(89, 159, 196)"
          ],
          [
           0.7272727272727273,
           "rgb(114, 184, 205)"
          ],
          [
           0.8181818181818182,
           "rgb(149, 207, 216)"
          ],
          [
           0.9090909090909091,
           "rgb(192, 229, 232)"
          ],
          [
           1,
           "rgb(234, 252, 253)"
          ]
         ],
         "opacity": 0.1,
         "showscale": false,
         "type": "surface",
         "x": [
          616.75,
          713.6500000000001
         ],
         "y": [
          -148.423,
          155.197
         ],
         "z": [
          [
           -51.699999999999996,
           -51.699999999999996
          ],
          [
           -51.699999999999996,
           -51.699999999999996
          ]
         ]
        },
        {
         "colorscale": [
          [
           0,
           "rgb(3, 5, 18)"
          ],
          [
           0.09090909090909091,
           "rgb(25, 25, 51)"
          ],
          [
           0.18181818181818182,
           "rgb(44, 42, 87)"
          ],
          [
           0.2727272727272727,
           "rgb(58, 60, 125)"
          ],
          [
           0.36363636363636365,
           "rgb(62, 83, 160)"
          ],
          [
           0.45454545454545453,
           "rgb(62, 109, 178)"
          ],
          [
           0.5454545454545454,
           "rgb(72, 134, 187)"
          ],
          [
           0.6363636363636364,
           "rgb(89, 159, 196)"
          ],
          [
           0.7272727272727273,
           "rgb(114, 184, 205)"
          ],
          [
           0.8181818181818182,
           "rgb(149, 207, 216)"
          ],
          [
           0.9090909090909091,
           "rgb(192, 229, 232)"
          ],
          [
           1,
           "rgb(234, 252, 253)"
          ]
         ],
         "opacity": 0.1,
         "showscale": false,
         "type": "surface",
         "x": [
          718.17,
          815.07
         ],
         "y": [
          -148.423,
          155.197
         ],
         "z": [
          [
           -152.5,
           -152.5
          ],
          [
           -152.5,
           -152.5
          ]
         ]
        },
        {
         "colorscale": [
          [
           0,
           "rgb(3, 5, 18)"
          ],
          [
           0.09090909090909091,
           "rgb(25, 25, 51)"
          ],
          [
           0.18181818181818182,
           "rgb(44, 42, 87)"
          ],
          [
           0.2727272727272727,
           "rgb(58, 60, 125)"
          ],
          [
           0.36363636363636365,
           "rgb(62, 83, 160)"
          ],
          [
           0.45454545454545453,
           "rgb(62, 109, 178)"
          ],
          [
           0.5454545454545454,
           "rgb(72, 134, 187)"
          ],
          [
           0.6363636363636364,
           "rgb(89, 159, 196)"
          ],
          [
           0.7272727272727273,
           "rgb(114, 184, 205)"
          ],
          [
           0.8181818181818182,
           "rgb(149, 207, 216)"
          ],
          [
           0.9090909090909091,
           "rgb(192, 229, 232)"
          ],
          [
           1,
           "rgb(234, 252, 253)"
          ]
         ],
         "opacity": 0.1,
         "showscale": false,
         "type": "surface",
         "x": [
          718.17,
          815.07
         ],
         "y": [
          -148.423,
          155.197
         ],
         "z": [
          [
           -51.699999999999996,
           -51.699999999999996
          ],
          [
           -51.699999999999996,
           -51.699999999999996
          ]
         ]
        },
        {
         "colorscale": [
          [
           0,
           "rgb(3, 5, 18)"
          ],
          [
           0.09090909090909091,
           "rgb(25, 25, 51)"
          ],
          [
           0.18181818181818182,
           "rgb(44, 42, 87)"
          ],
          [
           0.2727272727272727,
           "rgb(58, 60, 125)"
          ],
          [
           0.36363636363636365,
           "rgb(62, 83, 160)"
          ],
          [
           0.45454545454545453,
           "rgb(62, 109, 178)"
          ],
          [
           0.5454545454545454,
           "rgb(72, 134, 187)"
          ],
          [
           0.6363636363636364,
           "rgb(89, 159, 196)"
          ],
          [
           0.7272727272727273,
           "rgb(114, 184, 205)"
          ],
          [
           0.8181818181818182,
           "rgb(149, 207, 216)"
          ],
          [
           0.9090909090909091,
           "rgb(192, 229, 232)"
          ],
          [
           1,
           "rgb(234, 252, 253)"
          ]
         ],
         "opacity": 0.1,
         "showscale": false,
         "type": "surface",
         "x": [
          819.5899999999999,
          916.49
         ],
         "y": [
          -148.423,
          155.197
         ],
         "z": [
          [
           -152.5,
           -152.5
          ],
          [
           -152.5,
           -152.5
          ]
         ]
        },
        {
         "colorscale": [
          [
           0,
           "rgb(3, 5, 18)"
          ],
          [
           0.09090909090909091,
           "rgb(25, 25, 51)"
          ],
          [
           0.18181818181818182,
           "rgb(44, 42, 87)"
          ],
          [
           0.2727272727272727,
           "rgb(58, 60, 125)"
          ],
          [
           0.36363636363636365,
           "rgb(62, 83, 160)"
          ],
          [
           0.45454545454545453,
           "rgb(62, 109, 178)"
          ],
          [
           0.5454545454545454,
           "rgb(72, 134, 187)"
          ],
          [
           0.6363636363636364,
           "rgb(89, 159, 196)"
          ],
          [
           0.7272727272727273,
           "rgb(114, 184, 205)"
          ],
          [
           0.8181818181818182,
           "rgb(149, 207, 216)"
          ],
          [
           0.9090909090909091,
           "rgb(192, 229, 232)"
          ],
          [
           1,
           "rgb(234, 252, 253)"
          ]
         ],
         "opacity": 0.1,
         "showscale": false,
         "type": "surface",
         "x": [
          819.5899999999999,
          916.49
         ],
         "y": [
          -148.423,
          155.197
         ],
         "z": [
          [
           -51.699999999999996,
           -51.699999999999996
          ],
          [
           -51.699999999999996,
           -51.699999999999996
          ]
         ]
        },
        {
         "colorscale": [
          [
           0,
           "rgb(3, 5, 18)"
          ],
          [
           0.09090909090909091,
           "rgb(25, 25, 51)"
          ],
          [
           0.18181818181818182,
           "rgb(44, 42, 87)"
          ],
          [
           0.2727272727272727,
           "rgb(58, 60, 125)"
          ],
          [
           0.36363636363636365,
           "rgb(62, 83, 160)"
          ],
          [
           0.45454545454545453,
           "rgb(62, 109, 178)"
          ],
          [
           0.5454545454545454,
           "rgb(72, 134, 187)"
          ],
          [
           0.6363636363636364,
           "rgb(89, 159, 196)"
          ],
          [
           0.7272727272727273,
           "rgb(114, 184, 205)"
          ],
          [
           0.8181818181818182,
           "rgb(149, 207, 216)"
          ],
          [
           0.9090909090909091,
           "rgb(192, 229, 232)"
          ],
          [
           1,
           "rgb(234, 252, 253)"
          ]
         ],
         "opacity": 0.1,
         "showscale": false,
         "type": "surface",
         "x": [
          413.91,
          510.81
         ],
         "y": [
          -148.423,
          155.197
         ],
         "z": [
          [
           -50.4,
           -50.4
          ],
          [
           -50.4,
           -50.4
          ]
         ]
        },
        {
         "colorscale": [
          [
           0,
           "rgb(3, 5, 18)"
          ],
          [
           0.09090909090909091,
           "rgb(25, 25, 51)"
          ],
          [
           0.18181818181818182,
           "rgb(44, 42, 87)"
          ],
          [
           0.2727272727272727,
           "rgb(58, 60, 125)"
          ],
          [
           0.36363636363636365,
           "rgb(62, 83, 160)"
          ],
          [
           0.45454545454545453,
           "rgb(62, 109, 178)"
          ],
          [
           0.5454545454545454,
           "rgb(72, 134, 187)"
          ],
          [
           0.6363636363636364,
           "rgb(89, 159, 196)"
          ],
          [
           0.7272727272727273,
           "rgb(114, 184, 205)"
          ],
          [
           0.8181818181818182,
           "rgb(149, 207, 216)"
          ],
          [
           0.9090909090909091,
           "rgb(192, 229, 232)"
          ],
          [
           1,
           "rgb(234, 252, 253)"
          ]
         ],
         "opacity": 0.1,
         "showscale": false,
         "type": "surface",
         "x": [
          413.91,
          510.81
         ],
         "y": [
          -148.423,
          155.197
         ],
         "z": [
          [
           50.4,
           50.4
          ],
          [
           50.4,
           50.4
          ]
         ]
        },
        {
         "colorscale": [
          [
           0,
           "rgb(3, 5, 18)"
          ],
          [
           0.09090909090909091,
           "rgb(25, 25, 51)"
          ],
          [
           0.18181818181818182,
           "rgb(44, 42, 87)"
          ],
          [
           0.2727272727272727,
           "rgb(58, 60, 125)"
          ],
          [
           0.36363636363636365,
           "rgb(62, 83, 160)"
          ],
          [
           0.45454545454545453,
           "rgb(62, 109, 178)"
          ],
          [
           0.5454545454545454,
           "rgb(72, 134, 187)"
          ],
          [
           0.6363636363636364,
           "rgb(89, 159, 196)"
          ],
          [
           0.7272727272727273,
           "rgb(114, 184, 205)"
          ],
          [
           0.8181818181818182,
           "rgb(149, 207, 216)"
          ],
          [
           0.9090909090909091,
           "rgb(192, 229, 232)"
          ],
          [
           1,
           "rgb(234, 252, 253)"
          ]
         ],
         "opacity": 0.1,
         "showscale": false,
         "type": "surface",
         "x": [
          515.3299999999999,
          612.23
         ],
         "y": [
          -148.423,
          155.197
         ],
         "z": [
          [
           -50.4,
           -50.4
          ],
          [
           -50.4,
           -50.4
          ]
         ]
        },
        {
         "colorscale": [
          [
           0,
           "rgb(3, 5, 18)"
          ],
          [
           0.09090909090909091,
           "rgb(25, 25, 51)"
          ],
          [
           0.18181818181818182,
           "rgb(44, 42, 87)"
          ],
          [
           0.2727272727272727,
           "rgb(58, 60, 125)"
          ],
          [
           0.36363636363636365,
           "rgb(62, 83, 160)"
          ],
          [
           0.45454545454545453,
           "rgb(62, 109, 178)"
          ],
          [
           0.5454545454545454,
           "rgb(72, 134, 187)"
          ],
          [
           0.6363636363636364,
           "rgb(89, 159, 196)"
          ],
          [
           0.7272727272727273,
           "rgb(114, 184, 205)"
          ],
          [
           0.8181818181818182,
           "rgb(149, 207, 216)"
          ],
          [
           0.9090909090909091,
           "rgb(192, 229, 232)"
          ],
          [
           1,
           "rgb(234, 252, 253)"
          ]
         ],
         "opacity": 0.1,
         "showscale": false,
         "type": "surface",
         "x": [
          515.3299999999999,
          612.23
         ],
         "y": [
          -148.423,
          155.197
         ],
         "z": [
          [
           50.4,
           50.4
          ],
          [
           50.4,
           50.4
          ]
         ]
        },
        {
         "colorscale": [
          [
           0,
           "rgb(3, 5, 18)"
          ],
          [
           0.09090909090909091,
           "rgb(25, 25, 51)"
          ],
          [
           0.18181818181818182,
           "rgb(44, 42, 87)"
          ],
          [
           0.2727272727272727,
           "rgb(58, 60, 125)"
          ],
          [
           0.36363636363636365,
           "rgb(62, 83, 160)"
          ],
          [
           0.45454545454545453,
           "rgb(62, 109, 178)"
          ],
          [
           0.5454545454545454,
           "rgb(72, 134, 187)"
          ],
          [
           0.6363636363636364,
           "rgb(89, 159, 196)"
          ],
          [
           0.7272727272727273,
           "rgb(114, 184, 205)"
          ],
          [
           0.8181818181818182,
           "rgb(149, 207, 216)"
          ],
          [
           0.9090909090909091,
           "rgb(192, 229, 232)"
          ],
          [
           1,
           "rgb(234, 252, 253)"
          ]
         ],
         "opacity": 0.1,
         "showscale": false,
         "type": "surface",
         "x": [
          616.75,
          713.6500000000001
         ],
         "y": [
          -148.423,
          155.197
         ],
         "z": [
          [
           -50.4,
           -50.4
          ],
          [
           -50.4,
           -50.4
          ]
         ]
        },
        {
         "colorscale": [
          [
           0,
           "rgb(3, 5, 18)"
          ],
          [
           0.09090909090909091,
           "rgb(25, 25, 51)"
          ],
          [
           0.18181818181818182,
           "rgb(44, 42, 87)"
          ],
          [
           0.2727272727272727,
           "rgb(58, 60, 125)"
          ],
          [
           0.36363636363636365,
           "rgb(62, 83, 160)"
          ],
          [
           0.45454545454545453,
           "rgb(62, 109, 178)"
          ],
          [
           0.5454545454545454,
           "rgb(72, 134, 187)"
          ],
          [
           0.6363636363636364,
           "rgb(89, 159, 196)"
          ],
          [
           0.7272727272727273,
           "rgb(114, 184, 205)"
          ],
          [
           0.8181818181818182,
           "rgb(149, 207, 216)"
          ],
          [
           0.9090909090909091,
           "rgb(192, 229, 232)"
          ],
          [
           1,
           "rgb(234, 252, 253)"
          ]
         ],
         "opacity": 0.1,
         "showscale": false,
         "type": "surface",
         "x": [
          616.75,
          713.6500000000001
         ],
         "y": [
          -148.423,
          155.197
         ],
         "z": [
          [
           50.4,
           50.4
          ],
          [
           50.4,
           50.4
          ]
         ]
        },
        {
         "colorscale": [
          [
           0,
           "rgb(3, 5, 18)"
          ],
          [
           0.09090909090909091,
           "rgb(25, 25, 51)"
          ],
          [
           0.18181818181818182,
           "rgb(44, 42, 87)"
          ],
          [
           0.2727272727272727,
           "rgb(58, 60, 125)"
          ],
          [
           0.36363636363636365,
           "rgb(62, 83, 160)"
          ],
          [
           0.45454545454545453,
           "rgb(62, 109, 178)"
          ],
          [
           0.5454545454545454,
           "rgb(72, 134, 187)"
          ],
          [
           0.6363636363636364,
           "rgb(89, 159, 196)"
          ],
          [
           0.7272727272727273,
           "rgb(114, 184, 205)"
          ],
          [
           0.8181818181818182,
           "rgb(149, 207, 216)"
          ],
          [
           0.9090909090909091,
           "rgb(192, 229, 232)"
          ],
          [
           1,
           "rgb(234, 252, 253)"
          ]
         ],
         "opacity": 0.1,
         "showscale": false,
         "type": "surface",
         "x": [
          718.17,
          815.07
         ],
         "y": [
          -148.423,
          155.197
         ],
         "z": [
          [
           -50.4,
           -50.4
          ],
          [
           -50.4,
           -50.4
          ]
         ]
        },
        {
         "colorscale": [
          [
           0,
           "rgb(3, 5, 18)"
          ],
          [
           0.09090909090909091,
           "rgb(25, 25, 51)"
          ],
          [
           0.18181818181818182,
           "rgb(44, 42, 87)"
          ],
          [
           0.2727272727272727,
           "rgb(58, 60, 125)"
          ],
          [
           0.36363636363636365,
           "rgb(62, 83, 160)"
          ],
          [
           0.45454545454545453,
           "rgb(62, 109, 178)"
          ],
          [
           0.5454545454545454,
           "rgb(72, 134, 187)"
          ],
          [
           0.6363636363636364,
           "rgb(89, 159, 196)"
          ],
          [
           0.7272727272727273,
           "rgb(114, 184, 205)"
          ],
          [
           0.8181818181818182,
           "rgb(149, 207, 216)"
          ],
          [
           0.9090909090909091,
           "rgb(192, 229, 232)"
          ],
          [
           1,
           "rgb(234, 252, 253)"
          ]
         ],
         "opacity": 0.1,
         "showscale": false,
         "type": "surface",
         "x": [
          718.17,
          815.07
         ],
         "y": [
          -148.423,
          155.197
         ],
         "z": [
          [
           50.4,
           50.4
          ],
          [
           50.4,
           50.4
          ]
         ]
        },
        {
         "colorscale": [
          [
           0,
           "rgb(3, 5, 18)"
          ],
          [
           0.09090909090909091,
           "rgb(25, 25, 51)"
          ],
          [
           0.18181818181818182,
           "rgb(44, 42, 87)"
          ],
          [
           0.2727272727272727,
           "rgb(58, 60, 125)"
          ],
          [
           0.36363636363636365,
           "rgb(62, 83, 160)"
          ],
          [
           0.45454545454545453,
           "rgb(62, 109, 178)"
          ],
          [
           0.5454545454545454,
           "rgb(72, 134, 187)"
          ],
          [
           0.6363636363636364,
           "rgb(89, 159, 196)"
          ],
          [
           0.7272727272727273,
           "rgb(114, 184, 205)"
          ],
          [
           0.8181818181818182,
           "rgb(149, 207, 216)"
          ],
          [
           0.9090909090909091,
           "rgb(192, 229, 232)"
          ],
          [
           1,
           "rgb(234, 252, 253)"
          ]
         ],
         "opacity": 0.1,
         "showscale": false,
         "type": "surface",
         "x": [
          819.5899999999999,
          916.49
         ],
         "y": [
          -148.423,
          155.197
         ],
         "z": [
          [
           -50.4,
           -50.4
          ],
          [
           -50.4,
           -50.4
          ]
         ]
        },
        {
         "colorscale": [
          [
           0,
           "rgb(3, 5, 18)"
          ],
          [
           0.09090909090909091,
           "rgb(25, 25, 51)"
          ],
          [
           0.18181818181818182,
           "rgb(44, 42, 87)"
          ],
          [
           0.2727272727272727,
           "rgb(58, 60, 125)"
          ],
          [
           0.36363636363636365,
           "rgb(62, 83, 160)"
          ],
          [
           0.45454545454545453,
           "rgb(62, 109, 178)"
          ],
          [
           0.5454545454545454,
           "rgb(72, 134, 187)"
          ],
          [
           0.6363636363636364,
           "rgb(89, 159, 196)"
          ],
          [
           0.7272727272727273,
           "rgb(114, 184, 205)"
          ],
          [
           0.8181818181818182,
           "rgb(149, 207, 216)"
          ],
          [
           0.9090909090909091,
           "rgb(192, 229, 232)"
          ],
          [
           1,
           "rgb(234, 252, 253)"
          ]
         ],
         "opacity": 0.1,
         "showscale": false,
         "type": "surface",
         "x": [
          819.5899999999999,
          916.49
         ],
         "y": [
          -148.423,
          155.197
         ],
         "z": [
          [
           50.4,
           50.4
          ],
          [
           50.4,
           50.4
          ]
         ]
        },
        {
         "colorscale": [
          [
           0,
           "rgb(3, 5, 18)"
          ],
          [
           0.09090909090909091,
           "rgb(25, 25, 51)"
          ],
          [
           0.18181818181818182,
           "rgb(44, 42, 87)"
          ],
          [
           0.2727272727272727,
           "rgb(58, 60, 125)"
          ],
          [
           0.36363636363636365,
           "rgb(62, 83, 160)"
          ],
          [
           0.45454545454545453,
           "rgb(62, 109, 178)"
          ],
          [
           0.5454545454545454,
           "rgb(72, 134, 187)"
          ],
          [
           0.6363636363636364,
           "rgb(89, 159, 196)"
          ],
          [
           0.7272727272727273,
           "rgb(114, 184, 205)"
          ],
          [
           0.8181818181818182,
           "rgb(149, 207, 216)"
          ],
          [
           0.9090909090909091,
           "rgb(192, 229, 232)"
          ],
          [
           1,
           "rgb(234, 252, 253)"
          ]
         ],
         "opacity": 0.1,
         "showscale": false,
         "type": "surface",
         "x": [
          413.91,
          510.81
         ],
         "y": [
          -148.423,
          155.197
         ],
         "z": [
          [
           51.699999999999996,
           51.699999999999996
          ],
          [
           51.699999999999996,
           51.699999999999996
          ]
         ]
        },
        {
         "colorscale": [
          [
           0,
           "rgb(3, 5, 18)"
          ],
          [
           0.09090909090909091,
           "rgb(25, 25, 51)"
          ],
          [
           0.18181818181818182,
           "rgb(44, 42, 87)"
          ],
          [
           0.2727272727272727,
           "rgb(58, 60, 125)"
          ],
          [
           0.36363636363636365,
           "rgb(62, 83, 160)"
          ],
          [
           0.45454545454545453,
           "rgb(62, 109, 178)"
          ],
          [
           0.5454545454545454,
           "rgb(72, 134, 187)"
          ],
          [
           0.6363636363636364,
           "rgb(89, 159, 196)"
          ],
          [
           0.7272727272727273,
           "rgb(114, 184, 205)"
          ],
          [
           0.8181818181818182,
           "rgb(149, 207, 216)"
          ],
          [
           0.9090909090909091,
           "rgb(192, 229, 232)"
          ],
          [
           1,
           "rgb(234, 252, 253)"
          ]
         ],
         "opacity": 0.1,
         "showscale": false,
         "type": "surface",
         "x": [
          413.91,
          510.81
         ],
         "y": [
          -148.423,
          155.197
         ],
         "z": [
          [
           152.5,
           152.5
          ],
          [
           152.5,
           152.5
          ]
         ]
        },
        {
         "colorscale": [
          [
           0,
           "rgb(3, 5, 18)"
          ],
          [
           0.09090909090909091,
           "rgb(25, 25, 51)"
          ],
          [
           0.18181818181818182,
           "rgb(44, 42, 87)"
          ],
          [
           0.2727272727272727,
           "rgb(58, 60, 125)"
          ],
          [
           0.36363636363636365,
           "rgb(62, 83, 160)"
          ],
          [
           0.45454545454545453,
           "rgb(62, 109, 178)"
          ],
          [
           0.5454545454545454,
           "rgb(72, 134, 187)"
          ],
          [
           0.6363636363636364,
           "rgb(89, 159, 196)"
          ],
          [
           0.7272727272727273,
           "rgb(114, 184, 205)"
          ],
          [
           0.8181818181818182,
           "rgb(149, 207, 216)"
          ],
          [
           0.9090909090909091,
           "rgb(192, 229, 232)"
          ],
          [
           1,
           "rgb(234, 252, 253)"
          ]
         ],
         "opacity": 0.1,
         "showscale": false,
         "type": "surface",
         "x": [
          515.3299999999999,
          612.23
         ],
         "y": [
          -148.423,
          155.197
         ],
         "z": [
          [
           51.699999999999996,
           51.699999999999996
          ],
          [
           51.699999999999996,
           51.699999999999996
          ]
         ]
        },
        {
         "colorscale": [
          [
           0,
           "rgb(3, 5, 18)"
          ],
          [
           0.09090909090909091,
           "rgb(25, 25, 51)"
          ],
          [
           0.18181818181818182,
           "rgb(44, 42, 87)"
          ],
          [
           0.2727272727272727,
           "rgb(58, 60, 125)"
          ],
          [
           0.36363636363636365,
           "rgb(62, 83, 160)"
          ],
          [
           0.45454545454545453,
           "rgb(62, 109, 178)"
          ],
          [
           0.5454545454545454,
           "rgb(72, 134, 187)"
          ],
          [
           0.6363636363636364,
           "rgb(89, 159, 196)"
          ],
          [
           0.7272727272727273,
           "rgb(114, 184, 205)"
          ],
          [
           0.8181818181818182,
           "rgb(149, 207, 216)"
          ],
          [
           0.9090909090909091,
           "rgb(192, 229, 232)"
          ],
          [
           1,
           "rgb(234, 252, 253)"
          ]
         ],
         "opacity": 0.1,
         "showscale": false,
         "type": "surface",
         "x": [
          515.3299999999999,
          612.23
         ],
         "y": [
          -148.423,
          155.197
         ],
         "z": [
          [
           152.5,
           152.5
          ],
          [
           152.5,
           152.5
          ]
         ]
        },
        {
         "colorscale": [
          [
           0,
           "rgb(3, 5, 18)"
          ],
          [
           0.09090909090909091,
           "rgb(25, 25, 51)"
          ],
          [
           0.18181818181818182,
           "rgb(44, 42, 87)"
          ],
          [
           0.2727272727272727,
           "rgb(58, 60, 125)"
          ],
          [
           0.36363636363636365,
           "rgb(62, 83, 160)"
          ],
          [
           0.45454545454545453,
           "rgb(62, 109, 178)"
          ],
          [
           0.5454545454545454,
           "rgb(72, 134, 187)"
          ],
          [
           0.6363636363636364,
           "rgb(89, 159, 196)"
          ],
          [
           0.7272727272727273,
           "rgb(114, 184, 205)"
          ],
          [
           0.8181818181818182,
           "rgb(149, 207, 216)"
          ],
          [
           0.9090909090909091,
           "rgb(192, 229, 232)"
          ],
          [
           1,
           "rgb(234, 252, 253)"
          ]
         ],
         "opacity": 0.1,
         "showscale": false,
         "type": "surface",
         "x": [
          616.75,
          713.6500000000001
         ],
         "y": [
          -148.423,
          155.197
         ],
         "z": [
          [
           51.699999999999996,
           51.699999999999996
          ],
          [
           51.699999999999996,
           51.699999999999996
          ]
         ]
        },
        {
         "colorscale": [
          [
           0,
           "rgb(3, 5, 18)"
          ],
          [
           0.09090909090909091,
           "rgb(25, 25, 51)"
          ],
          [
           0.18181818181818182,
           "rgb(44, 42, 87)"
          ],
          [
           0.2727272727272727,
           "rgb(58, 60, 125)"
          ],
          [
           0.36363636363636365,
           "rgb(62, 83, 160)"
          ],
          [
           0.45454545454545453,
           "rgb(62, 109, 178)"
          ],
          [
           0.5454545454545454,
           "rgb(72, 134, 187)"
          ],
          [
           0.6363636363636364,
           "rgb(89, 159, 196)"
          ],
          [
           0.7272727272727273,
           "rgb(114, 184, 205)"
          ],
          [
           0.8181818181818182,
           "rgb(149, 207, 216)"
          ],
          [
           0.9090909090909091,
           "rgb(192, 229, 232)"
          ],
          [
           1,
           "rgb(234, 252, 253)"
          ]
         ],
         "opacity": 0.1,
         "showscale": false,
         "type": "surface",
         "x": [
          616.75,
          713.6500000000001
         ],
         "y": [
          -148.423,
          155.197
         ],
         "z": [
          [
           152.5,
           152.5
          ],
          [
           152.5,
           152.5
          ]
         ]
        },
        {
         "colorscale": [
          [
           0,
           "rgb(3, 5, 18)"
          ],
          [
           0.09090909090909091,
           "rgb(25, 25, 51)"
          ],
          [
           0.18181818181818182,
           "rgb(44, 42, 87)"
          ],
          [
           0.2727272727272727,
           "rgb(58, 60, 125)"
          ],
          [
           0.36363636363636365,
           "rgb(62, 83, 160)"
          ],
          [
           0.45454545454545453,
           "rgb(62, 109, 178)"
          ],
          [
           0.5454545454545454,
           "rgb(72, 134, 187)"
          ],
          [
           0.6363636363636364,
           "rgb(89, 159, 196)"
          ],
          [
           0.7272727272727273,
           "rgb(114, 184, 205)"
          ],
          [
           0.8181818181818182,
           "rgb(149, 207, 216)"
          ],
          [
           0.9090909090909091,
           "rgb(192, 229, 232)"
          ],
          [
           1,
           "rgb(234, 252, 253)"
          ]
         ],
         "opacity": 0.1,
         "showscale": false,
         "type": "surface",
         "x": [
          718.17,
          815.07
         ],
         "y": [
          -148.423,
          155.197
         ],
         "z": [
          [
           51.699999999999996,
           51.699999999999996
          ],
          [
           51.699999999999996,
           51.699999999999996
          ]
         ]
        },
        {
         "colorscale": [
          [
           0,
           "rgb(3, 5, 18)"
          ],
          [
           0.09090909090909091,
           "rgb(25, 25, 51)"
          ],
          [
           0.18181818181818182,
           "rgb(44, 42, 87)"
          ],
          [
           0.2727272727272727,
           "rgb(58, 60, 125)"
          ],
          [
           0.36363636363636365,
           "rgb(62, 83, 160)"
          ],
          [
           0.45454545454545453,
           "rgb(62, 109, 178)"
          ],
          [
           0.5454545454545454,
           "rgb(72, 134, 187)"
          ],
          [
           0.6363636363636364,
           "rgb(89, 159, 196)"
          ],
          [
           0.7272727272727273,
           "rgb(114, 184, 205)"
          ],
          [
           0.8181818181818182,
           "rgb(149, 207, 216)"
          ],
          [
           0.9090909090909091,
           "rgb(192, 229, 232)"
          ],
          [
           1,
           "rgb(234, 252, 253)"
          ]
         ],
         "opacity": 0.1,
         "showscale": false,
         "type": "surface",
         "x": [
          718.17,
          815.07
         ],
         "y": [
          -148.423,
          155.197
         ],
         "z": [
          [
           152.5,
           152.5
          ],
          [
           152.5,
           152.5
          ]
         ]
        },
        {
         "colorscale": [
          [
           0,
           "rgb(3, 5, 18)"
          ],
          [
           0.09090909090909091,
           "rgb(25, 25, 51)"
          ],
          [
           0.18181818181818182,
           "rgb(44, 42, 87)"
          ],
          [
           0.2727272727272727,
           "rgb(58, 60, 125)"
          ],
          [
           0.36363636363636365,
           "rgb(62, 83, 160)"
          ],
          [
           0.45454545454545453,
           "rgb(62, 109, 178)"
          ],
          [
           0.5454545454545454,
           "rgb(72, 134, 187)"
          ],
          [
           0.6363636363636364,
           "rgb(89, 159, 196)"
          ],
          [
           0.7272727272727273,
           "rgb(114, 184, 205)"
          ],
          [
           0.8181818181818182,
           "rgb(149, 207, 216)"
          ],
          [
           0.9090909090909091,
           "rgb(192, 229, 232)"
          ],
          [
           1,
           "rgb(234, 252, 253)"
          ]
         ],
         "opacity": 0.1,
         "showscale": false,
         "type": "surface",
         "x": [
          819.5899999999999,
          916.49
         ],
         "y": [
          -148.423,
          155.197
         ],
         "z": [
          [
           51.699999999999996,
           51.699999999999996
          ],
          [
           51.699999999999996,
           51.699999999999996
          ]
         ]
        },
        {
         "colorscale": [
          [
           0,
           "rgb(3, 5, 18)"
          ],
          [
           0.09090909090909091,
           "rgb(25, 25, 51)"
          ],
          [
           0.18181818181818182,
           "rgb(44, 42, 87)"
          ],
          [
           0.2727272727272727,
           "rgb(58, 60, 125)"
          ],
          [
           0.36363636363636365,
           "rgb(62, 83, 160)"
          ],
          [
           0.45454545454545453,
           "rgb(62, 109, 178)"
          ],
          [
           0.5454545454545454,
           "rgb(72, 134, 187)"
          ],
          [
           0.6363636363636364,
           "rgb(89, 159, 196)"
          ],
          [
           0.7272727272727273,
           "rgb(114, 184, 205)"
          ],
          [
           0.8181818181818182,
           "rgb(149, 207, 216)"
          ],
          [
           0.9090909090909091,
           "rgb(192, 229, 232)"
          ],
          [
           1,
           "rgb(234, 252, 253)"
          ]
         ],
         "opacity": 0.1,
         "showscale": false,
         "type": "surface",
         "x": [
          819.5899999999999,
          916.49
         ],
         "y": [
          -148.423,
          155.197
         ],
         "z": [
          [
           152.5,
           152.5
          ],
          [
           152.5,
           152.5
          ]
         ]
        },
        {
         "colorscale": [
          [
           0,
           "rgb(3, 5, 18)"
          ],
          [
           0.09090909090909091,
           "rgb(25, 25, 51)"
          ],
          [
           0.18181818181818182,
           "rgb(44, 42, 87)"
          ],
          [
           0.2727272727272727,
           "rgb(58, 60, 125)"
          ],
          [
           0.36363636363636365,
           "rgb(62, 83, 160)"
          ],
          [
           0.45454545454545453,
           "rgb(62, 109, 178)"
          ],
          [
           0.5454545454545454,
           "rgb(72, 134, 187)"
          ],
          [
           0.6363636363636364,
           "rgb(89, 159, 196)"
          ],
          [
           0.7272727272727273,
           "rgb(114, 184, 205)"
          ],
          [
           0.8181818181818182,
           "rgb(149, 207, 216)"
          ],
          [
           0.9090909090909091,
           "rgb(192, 229, 232)"
          ],
          [
           1,
           "rgb(234, 252, 253)"
          ]
         ],
         "opacity": 0.1,
         "showscale": false,
         "type": "surface",
         "x": [
          413.91,
          510.81
         ],
         "y": [
          -148.423,
          155.197
         ],
         "z": [
          [
           153.79999999999998,
           153.79999999999998
          ],
          [
           153.79999999999998,
           153.79999999999998
          ]
         ]
        },
        {
         "colorscale": [
          [
           0,
           "rgb(3, 5, 18)"
          ],
          [
           0.09090909090909091,
           "rgb(25, 25, 51)"
          ],
          [
           0.18181818181818182,
           "rgb(44, 42, 87)"
          ],
          [
           0.2727272727272727,
           "rgb(58, 60, 125)"
          ],
          [
           0.36363636363636365,
           "rgb(62, 83, 160)"
          ],
          [
           0.45454545454545453,
           "rgb(62, 109, 178)"
          ],
          [
           0.5454545454545454,
           "rgb(72, 134, 187)"
          ],
          [
           0.6363636363636364,
           "rgb(89, 159, 196)"
          ],
          [
           0.7272727272727273,
           "rgb(114, 184, 205)"
          ],
          [
           0.8181818181818182,
           "rgb(149, 207, 216)"
          ],
          [
           0.9090909090909091,
           "rgb(192, 229, 232)"
          ],
          [
           1,
           "rgb(234, 252, 253)"
          ]
         ],
         "opacity": 0.1,
         "showscale": false,
         "type": "surface",
         "x": [
          413.91,
          510.81
         ],
         "y": [
          -148.423,
          155.197
         ],
         "z": [
          [
           254.6,
           254.6
          ],
          [
           254.6,
           254.6
          ]
         ]
        },
        {
         "colorscale": [
          [
           0,
           "rgb(3, 5, 18)"
          ],
          [
           0.09090909090909091,
           "rgb(25, 25, 51)"
          ],
          [
           0.18181818181818182,
           "rgb(44, 42, 87)"
          ],
          [
           0.2727272727272727,
           "rgb(58, 60, 125)"
          ],
          [
           0.36363636363636365,
           "rgb(62, 83, 160)"
          ],
          [
           0.45454545454545453,
           "rgb(62, 109, 178)"
          ],
          [
           0.5454545454545454,
           "rgb(72, 134, 187)"
          ],
          [
           0.6363636363636364,
           "rgb(89, 159, 196)"
          ],
          [
           0.7272727272727273,
           "rgb(114, 184, 205)"
          ],
          [
           0.8181818181818182,
           "rgb(149, 207, 216)"
          ],
          [
           0.9090909090909091,
           "rgb(192, 229, 232)"
          ],
          [
           1,
           "rgb(234, 252, 253)"
          ]
         ],
         "opacity": 0.1,
         "showscale": false,
         "type": "surface",
         "x": [
          515.3299999999999,
          612.23
         ],
         "y": [
          -148.423,
          155.197
         ],
         "z": [
          [
           153.79999999999998,
           153.79999999999998
          ],
          [
           153.79999999999998,
           153.79999999999998
          ]
         ]
        },
        {
         "colorscale": [
          [
           0,
           "rgb(3, 5, 18)"
          ],
          [
           0.09090909090909091,
           "rgb(25, 25, 51)"
          ],
          [
           0.18181818181818182,
           "rgb(44, 42, 87)"
          ],
          [
           0.2727272727272727,
           "rgb(58, 60, 125)"
          ],
          [
           0.36363636363636365,
           "rgb(62, 83, 160)"
          ],
          [
           0.45454545454545453,
           "rgb(62, 109, 178)"
          ],
          [
           0.5454545454545454,
           "rgb(72, 134, 187)"
          ],
          [
           0.6363636363636364,
           "rgb(89, 159, 196)"
          ],
          [
           0.7272727272727273,
           "rgb(114, 184, 205)"
          ],
          [
           0.8181818181818182,
           "rgb(149, 207, 216)"
          ],
          [
           0.9090909090909091,
           "rgb(192, 229, 232)"
          ],
          [
           1,
           "rgb(234, 252, 253)"
          ]
         ],
         "opacity": 0.1,
         "showscale": false,
         "type": "surface",
         "x": [
          515.3299999999999,
          612.23
         ],
         "y": [
          -148.423,
          155.197
         ],
         "z": [
          [
           254.6,
           254.6
          ],
          [
           254.6,
           254.6
          ]
         ]
        },
        {
         "colorscale": [
          [
           0,
           "rgb(3, 5, 18)"
          ],
          [
           0.09090909090909091,
           "rgb(25, 25, 51)"
          ],
          [
           0.18181818181818182,
           "rgb(44, 42, 87)"
          ],
          [
           0.2727272727272727,
           "rgb(58, 60, 125)"
          ],
          [
           0.36363636363636365,
           "rgb(62, 83, 160)"
          ],
          [
           0.45454545454545453,
           "rgb(62, 109, 178)"
          ],
          [
           0.5454545454545454,
           "rgb(72, 134, 187)"
          ],
          [
           0.6363636363636364,
           "rgb(89, 159, 196)"
          ],
          [
           0.7272727272727273,
           "rgb(114, 184, 205)"
          ],
          [
           0.8181818181818182,
           "rgb(149, 207, 216)"
          ],
          [
           0.9090909090909091,
           "rgb(192, 229, 232)"
          ],
          [
           1,
           "rgb(234, 252, 253)"
          ]
         ],
         "opacity": 0.1,
         "showscale": false,
         "type": "surface",
         "x": [
          616.75,
          713.6500000000001
         ],
         "y": [
          -148.423,
          155.197
         ],
         "z": [
          [
           153.79999999999998,
           153.79999999999998
          ],
          [
           153.79999999999998,
           153.79999999999998
          ]
         ]
        },
        {
         "colorscale": [
          [
           0,
           "rgb(3, 5, 18)"
          ],
          [
           0.09090909090909091,
           "rgb(25, 25, 51)"
          ],
          [
           0.18181818181818182,
           "rgb(44, 42, 87)"
          ],
          [
           0.2727272727272727,
           "rgb(58, 60, 125)"
          ],
          [
           0.36363636363636365,
           "rgb(62, 83, 160)"
          ],
          [
           0.45454545454545453,
           "rgb(62, 109, 178)"
          ],
          [
           0.5454545454545454,
           "rgb(72, 134, 187)"
          ],
          [
           0.6363636363636364,
           "rgb(89, 159, 196)"
          ],
          [
           0.7272727272727273,
           "rgb(114, 184, 205)"
          ],
          [
           0.8181818181818182,
           "rgb(149, 207, 216)"
          ],
          [
           0.9090909090909091,
           "rgb(192, 229, 232)"
          ],
          [
           1,
           "rgb(234, 252, 253)"
          ]
         ],
         "opacity": 0.1,
         "showscale": false,
         "type": "surface",
         "x": [
          616.75,
          713.6500000000001
         ],
         "y": [
          -148.423,
          155.197
         ],
         "z": [
          [
           254.6,
           254.6
          ],
          [
           254.6,
           254.6
          ]
         ]
        },
        {
         "colorscale": [
          [
           0,
           "rgb(3, 5, 18)"
          ],
          [
           0.09090909090909091,
           "rgb(25, 25, 51)"
          ],
          [
           0.18181818181818182,
           "rgb(44, 42, 87)"
          ],
          [
           0.2727272727272727,
           "rgb(58, 60, 125)"
          ],
          [
           0.36363636363636365,
           "rgb(62, 83, 160)"
          ],
          [
           0.45454545454545453,
           "rgb(62, 109, 178)"
          ],
          [
           0.5454545454545454,
           "rgb(72, 134, 187)"
          ],
          [
           0.6363636363636364,
           "rgb(89, 159, 196)"
          ],
          [
           0.7272727272727273,
           "rgb(114, 184, 205)"
          ],
          [
           0.8181818181818182,
           "rgb(149, 207, 216)"
          ],
          [
           0.9090909090909091,
           "rgb(192, 229, 232)"
          ],
          [
           1,
           "rgb(234, 252, 253)"
          ]
         ],
         "opacity": 0.1,
         "showscale": false,
         "type": "surface",
         "x": [
          718.17,
          815.07
         ],
         "y": [
          -148.423,
          155.197
         ],
         "z": [
          [
           153.79999999999998,
           153.79999999999998
          ],
          [
           153.79999999999998,
           153.79999999999998
          ]
         ]
        },
        {
         "colorscale": [
          [
           0,
           "rgb(3, 5, 18)"
          ],
          [
           0.09090909090909091,
           "rgb(25, 25, 51)"
          ],
          [
           0.18181818181818182,
           "rgb(44, 42, 87)"
          ],
          [
           0.2727272727272727,
           "rgb(58, 60, 125)"
          ],
          [
           0.36363636363636365,
           "rgb(62, 83, 160)"
          ],
          [
           0.45454545454545453,
           "rgb(62, 109, 178)"
          ],
          [
           0.5454545454545454,
           "rgb(72, 134, 187)"
          ],
          [
           0.6363636363636364,
           "rgb(89, 159, 196)"
          ],
          [
           0.7272727272727273,
           "rgb(114, 184, 205)"
          ],
          [
           0.8181818181818182,
           "rgb(149, 207, 216)"
          ],
          [
           0.9090909090909091,
           "rgb(192, 229, 232)"
          ],
          [
           1,
           "rgb(234, 252, 253)"
          ]
         ],
         "opacity": 0.1,
         "showscale": false,
         "type": "surface",
         "x": [
          718.17,
          815.07
         ],
         "y": [
          -148.423,
          155.197
         ],
         "z": [
          [
           254.6,
           254.6
          ],
          [
           254.6,
           254.6
          ]
         ]
        },
        {
         "colorscale": [
          [
           0,
           "rgb(3, 5, 18)"
          ],
          [
           0.09090909090909091,
           "rgb(25, 25, 51)"
          ],
          [
           0.18181818181818182,
           "rgb(44, 42, 87)"
          ],
          [
           0.2727272727272727,
           "rgb(58, 60, 125)"
          ],
          [
           0.36363636363636365,
           "rgb(62, 83, 160)"
          ],
          [
           0.45454545454545453,
           "rgb(62, 109, 178)"
          ],
          [
           0.5454545454545454,
           "rgb(72, 134, 187)"
          ],
          [
           0.6363636363636364,
           "rgb(89, 159, 196)"
          ],
          [
           0.7272727272727273,
           "rgb(114, 184, 205)"
          ],
          [
           0.8181818181818182,
           "rgb(149, 207, 216)"
          ],
          [
           0.9090909090909091,
           "rgb(192, 229, 232)"
          ],
          [
           1,
           "rgb(234, 252, 253)"
          ]
         ],
         "opacity": 0.1,
         "showscale": false,
         "type": "surface",
         "x": [
          819.5899999999999,
          916.49
         ],
         "y": [
          -148.423,
          155.197
         ],
         "z": [
          [
           153.79999999999998,
           153.79999999999998
          ],
          [
           153.79999999999998,
           153.79999999999998
          ]
         ]
        },
        {
         "colorscale": [
          [
           0,
           "rgb(3, 5, 18)"
          ],
          [
           0.09090909090909091,
           "rgb(25, 25, 51)"
          ],
          [
           0.18181818181818182,
           "rgb(44, 42, 87)"
          ],
          [
           0.2727272727272727,
           "rgb(58, 60, 125)"
          ],
          [
           0.36363636363636365,
           "rgb(62, 83, 160)"
          ],
          [
           0.45454545454545453,
           "rgb(62, 109, 178)"
          ],
          [
           0.5454545454545454,
           "rgb(72, 134, 187)"
          ],
          [
           0.6363636363636364,
           "rgb(89, 159, 196)"
          ],
          [
           0.7272727272727273,
           "rgb(114, 184, 205)"
          ],
          [
           0.8181818181818182,
           "rgb(149, 207, 216)"
          ],
          [
           0.9090909090909091,
           "rgb(192, 229, 232)"
          ],
          [
           1,
           "rgb(234, 252, 253)"
          ]
         ],
         "opacity": 0.1,
         "showscale": false,
         "type": "surface",
         "x": [
          819.5899999999999,
          916.49
         ],
         "y": [
          -148.423,
          155.197
         ],
         "z": [
          [
           254.6,
           254.6
          ],
          [
           254.6,
           254.6
          ]
         ]
        },
        {
         "colorscale": [
          [
           0,
           "rgb(3, 5, 18)"
          ],
          [
           0.09090909090909091,
           "rgb(25, 25, 51)"
          ],
          [
           0.18181818181818182,
           "rgb(44, 42, 87)"
          ],
          [
           0.2727272727272727,
           "rgb(58, 60, 125)"
          ],
          [
           0.36363636363636365,
           "rgb(62, 83, 160)"
          ],
          [
           0.45454545454545453,
           "rgb(62, 109, 178)"
          ],
          [
           0.5454545454545454,
           "rgb(72, 134, 187)"
          ],
          [
           0.6363636363636364,
           "rgb(89, 159, 196)"
          ],
          [
           0.7272727272727273,
           "rgb(114, 184, 205)"
          ],
          [
           0.8181818181818182,
           "rgb(149, 207, 216)"
          ],
          [
           0.9090909090909091,
           "rgb(192, 229, 232)"
          ],
          [
           1,
           "rgb(234, 252, 253)"
          ]
         ],
         "opacity": 0.1,
         "showscale": false,
         "type": "surface",
         "x": [
          413.91,
          510.81
         ],
         "y": [
          -148.423,
          155.197
         ],
         "z": [
          [
           255.9,
           255.9
          ],
          [
           255.9,
           255.9
          ]
         ]
        },
        {
         "colorscale": [
          [
           0,
           "rgb(3, 5, 18)"
          ],
          [
           0.09090909090909091,
           "rgb(25, 25, 51)"
          ],
          [
           0.18181818181818182,
           "rgb(44, 42, 87)"
          ],
          [
           0.2727272727272727,
           "rgb(58, 60, 125)"
          ],
          [
           0.36363636363636365,
           "rgb(62, 83, 160)"
          ],
          [
           0.45454545454545453,
           "rgb(62, 109, 178)"
          ],
          [
           0.5454545454545454,
           "rgb(72, 134, 187)"
          ],
          [
           0.6363636363636364,
           "rgb(89, 159, 196)"
          ],
          [
           0.7272727272727273,
           "rgb(114, 184, 205)"
          ],
          [
           0.8181818181818182,
           "rgb(149, 207, 216)"
          ],
          [
           0.9090909090909091,
           "rgb(192, 229, 232)"
          ],
          [
           1,
           "rgb(234, 252, 253)"
          ]
         ],
         "opacity": 0.1,
         "showscale": false,
         "type": "surface",
         "x": [
          413.91,
          510.81
         ],
         "y": [
          -148.423,
          155.197
         ],
         "z": [
          [
           356.7,
           356.7
          ],
          [
           356.7,
           356.7
          ]
         ]
        },
        {
         "colorscale": [
          [
           0,
           "rgb(3, 5, 18)"
          ],
          [
           0.09090909090909091,
           "rgb(25, 25, 51)"
          ],
          [
           0.18181818181818182,
           "rgb(44, 42, 87)"
          ],
          [
           0.2727272727272727,
           "rgb(58, 60, 125)"
          ],
          [
           0.36363636363636365,
           "rgb(62, 83, 160)"
          ],
          [
           0.45454545454545453,
           "rgb(62, 109, 178)"
          ],
          [
           0.5454545454545454,
           "rgb(72, 134, 187)"
          ],
          [
           0.6363636363636364,
           "rgb(89, 159, 196)"
          ],
          [
           0.7272727272727273,
           "rgb(114, 184, 205)"
          ],
          [
           0.8181818181818182,
           "rgb(149, 207, 216)"
          ],
          [
           0.9090909090909091,
           "rgb(192, 229, 232)"
          ],
          [
           1,
           "rgb(234, 252, 253)"
          ]
         ],
         "opacity": 0.1,
         "showscale": false,
         "type": "surface",
         "x": [
          515.3299999999999,
          612.23
         ],
         "y": [
          -148.423,
          155.197
         ],
         "z": [
          [
           255.9,
           255.9
          ],
          [
           255.9,
           255.9
          ]
         ]
        },
        {
         "colorscale": [
          [
           0,
           "rgb(3, 5, 18)"
          ],
          [
           0.09090909090909091,
           "rgb(25, 25, 51)"
          ],
          [
           0.18181818181818182,
           "rgb(44, 42, 87)"
          ],
          [
           0.2727272727272727,
           "rgb(58, 60, 125)"
          ],
          [
           0.36363636363636365,
           "rgb(62, 83, 160)"
          ],
          [
           0.45454545454545453,
           "rgb(62, 109, 178)"
          ],
          [
           0.5454545454545454,
           "rgb(72, 134, 187)"
          ],
          [
           0.6363636363636364,
           "rgb(89, 159, 196)"
          ],
          [
           0.7272727272727273,
           "rgb(114, 184, 205)"
          ],
          [
           0.8181818181818182,
           "rgb(149, 207, 216)"
          ],
          [
           0.9090909090909091,
           "rgb(192, 229, 232)"
          ],
          [
           1,
           "rgb(234, 252, 253)"
          ]
         ],
         "opacity": 0.1,
         "showscale": false,
         "type": "surface",
         "x": [
          515.3299999999999,
          612.23
         ],
         "y": [
          -148.423,
          155.197
         ],
         "z": [
          [
           356.7,
           356.7
          ],
          [
           356.7,
           356.7
          ]
         ]
        },
        {
         "colorscale": [
          [
           0,
           "rgb(3, 5, 18)"
          ],
          [
           0.09090909090909091,
           "rgb(25, 25, 51)"
          ],
          [
           0.18181818181818182,
           "rgb(44, 42, 87)"
          ],
          [
           0.2727272727272727,
           "rgb(58, 60, 125)"
          ],
          [
           0.36363636363636365,
           "rgb(62, 83, 160)"
          ],
          [
           0.45454545454545453,
           "rgb(62, 109, 178)"
          ],
          [
           0.5454545454545454,
           "rgb(72, 134, 187)"
          ],
          [
           0.6363636363636364,
           "rgb(89, 159, 196)"
          ],
          [
           0.7272727272727273,
           "rgb(114, 184, 205)"
          ],
          [
           0.8181818181818182,
           "rgb(149, 207, 216)"
          ],
          [
           0.9090909090909091,
           "rgb(192, 229, 232)"
          ],
          [
           1,
           "rgb(234, 252, 253)"
          ]
         ],
         "opacity": 0.1,
         "showscale": false,
         "type": "surface",
         "x": [
          616.75,
          713.6500000000001
         ],
         "y": [
          -148.423,
          155.197
         ],
         "z": [
          [
           255.9,
           255.9
          ],
          [
           255.9,
           255.9
          ]
         ]
        },
        {
         "colorscale": [
          [
           0,
           "rgb(3, 5, 18)"
          ],
          [
           0.09090909090909091,
           "rgb(25, 25, 51)"
          ],
          [
           0.18181818181818182,
           "rgb(44, 42, 87)"
          ],
          [
           0.2727272727272727,
           "rgb(58, 60, 125)"
          ],
          [
           0.36363636363636365,
           "rgb(62, 83, 160)"
          ],
          [
           0.45454545454545453,
           "rgb(62, 109, 178)"
          ],
          [
           0.5454545454545454,
           "rgb(72, 134, 187)"
          ],
          [
           0.6363636363636364,
           "rgb(89, 159, 196)"
          ],
          [
           0.7272727272727273,
           "rgb(114, 184, 205)"
          ],
          [
           0.8181818181818182,
           "rgb(149, 207, 216)"
          ],
          [
           0.9090909090909091,
           "rgb(192, 229, 232)"
          ],
          [
           1,
           "rgb(234, 252, 253)"
          ]
         ],
         "opacity": 0.1,
         "showscale": false,
         "type": "surface",
         "x": [
          616.75,
          713.6500000000001
         ],
         "y": [
          -148.423,
          155.197
         ],
         "z": [
          [
           356.7,
           356.7
          ],
          [
           356.7,
           356.7
          ]
         ]
        },
        {
         "colorscale": [
          [
           0,
           "rgb(3, 5, 18)"
          ],
          [
           0.09090909090909091,
           "rgb(25, 25, 51)"
          ],
          [
           0.18181818181818182,
           "rgb(44, 42, 87)"
          ],
          [
           0.2727272727272727,
           "rgb(58, 60, 125)"
          ],
          [
           0.36363636363636365,
           "rgb(62, 83, 160)"
          ],
          [
           0.45454545454545453,
           "rgb(62, 109, 178)"
          ],
          [
           0.5454545454545454,
           "rgb(72, 134, 187)"
          ],
          [
           0.6363636363636364,
           "rgb(89, 159, 196)"
          ],
          [
           0.7272727272727273,
           "rgb(114, 184, 205)"
          ],
          [
           0.8181818181818182,
           "rgb(149, 207, 216)"
          ],
          [
           0.9090909090909091,
           "rgb(192, 229, 232)"
          ],
          [
           1,
           "rgb(234, 252, 253)"
          ]
         ],
         "opacity": 0.1,
         "showscale": false,
         "type": "surface",
         "x": [
          718.17,
          815.07
         ],
         "y": [
          -148.423,
          155.197
         ],
         "z": [
          [
           255.9,
           255.9
          ],
          [
           255.9,
           255.9
          ]
         ]
        },
        {
         "colorscale": [
          [
           0,
           "rgb(3, 5, 18)"
          ],
          [
           0.09090909090909091,
           "rgb(25, 25, 51)"
          ],
          [
           0.18181818181818182,
           "rgb(44, 42, 87)"
          ],
          [
           0.2727272727272727,
           "rgb(58, 60, 125)"
          ],
          [
           0.36363636363636365,
           "rgb(62, 83, 160)"
          ],
          [
           0.45454545454545453,
           "rgb(62, 109, 178)"
          ],
          [
           0.5454545454545454,
           "rgb(72, 134, 187)"
          ],
          [
           0.6363636363636364,
           "rgb(89, 159, 196)"
          ],
          [
           0.7272727272727273,
           "rgb(114, 184, 205)"
          ],
          [
           0.8181818181818182,
           "rgb(149, 207, 216)"
          ],
          [
           0.9090909090909091,
           "rgb(192, 229, 232)"
          ],
          [
           1,
           "rgb(234, 252, 253)"
          ]
         ],
         "opacity": 0.1,
         "showscale": false,
         "type": "surface",
         "x": [
          718.17,
          815.07
         ],
         "y": [
          -148.423,
          155.197
         ],
         "z": [
          [
           356.7,
           356.7
          ],
          [
           356.7,
           356.7
          ]
         ]
        },
        {
         "colorscale": [
          [
           0,
           "rgb(3, 5, 18)"
          ],
          [
           0.09090909090909091,
           "rgb(25, 25, 51)"
          ],
          [
           0.18181818181818182,
           "rgb(44, 42, 87)"
          ],
          [
           0.2727272727272727,
           "rgb(58, 60, 125)"
          ],
          [
           0.36363636363636365,
           "rgb(62, 83, 160)"
          ],
          [
           0.45454545454545453,
           "rgb(62, 109, 178)"
          ],
          [
           0.5454545454545454,
           "rgb(72, 134, 187)"
          ],
          [
           0.6363636363636364,
           "rgb(89, 159, 196)"
          ],
          [
           0.7272727272727273,
           "rgb(114, 184, 205)"
          ],
          [
           0.8181818181818182,
           "rgb(149, 207, 216)"
          ],
          [
           0.9090909090909091,
           "rgb(192, 229, 232)"
          ],
          [
           1,
           "rgb(234, 252, 253)"
          ]
         ],
         "opacity": 0.1,
         "showscale": false,
         "type": "surface",
         "x": [
          819.5899999999999,
          916.49
         ],
         "y": [
          -148.423,
          155.197
         ],
         "z": [
          [
           255.9,
           255.9
          ],
          [
           255.9,
           255.9
          ]
         ]
        },
        {
         "colorscale": [
          [
           0,
           "rgb(3, 5, 18)"
          ],
          [
           0.09090909090909091,
           "rgb(25, 25, 51)"
          ],
          [
           0.18181818181818182,
           "rgb(44, 42, 87)"
          ],
          [
           0.2727272727272727,
           "rgb(58, 60, 125)"
          ],
          [
           0.36363636363636365,
           "rgb(62, 83, 160)"
          ],
          [
           0.45454545454545453,
           "rgb(62, 109, 178)"
          ],
          [
           0.5454545454545454,
           "rgb(72, 134, 187)"
          ],
          [
           0.6363636363636364,
           "rgb(89, 159, 196)"
          ],
          [
           0.7272727272727273,
           "rgb(114, 184, 205)"
          ],
          [
           0.8181818181818182,
           "rgb(149, 207, 216)"
          ],
          [
           0.9090909090909091,
           "rgb(192, 229, 232)"
          ],
          [
           1,
           "rgb(234, 252, 253)"
          ]
         ],
         "opacity": 0.1,
         "showscale": false,
         "type": "surface",
         "x": [
          819.5899999999999,
          916.49
         ],
         "y": [
          -148.423,
          155.197
         ],
         "z": [
          [
           356.7,
           356.7
          ],
          [
           356.7,
           356.7
          ]
         ]
        },
        {
         "marker": {
          "color": [
           8.0390625,
           33.734375,
           13.96875,
           11.00390625,
           17.921875,
           35.7109375,
           13.96875,
           18.91015625,
           11.00390625,
           7.05078125,
           10.015625,
           26.81640625,
           35.7109375,
           20.88671875,
           15.9453125,
           9.02734375,
           8.0390625,
           25.828125,
           11.00390625,
           21.875,
           22.86328125,
           17.921875,
           21.875,
           11.9921875,
           20.88671875,
           17.921875,
           11.00390625,
           23.8515625,
           17.921875,
           24.83984375,
           14.95703125,
           19.8984375,
           11.9921875,
           22.86328125,
           15.9453125,
           9.02734375,
           11.9921875,
           23.8515625,
           8.0390625,
           10.015625,
           20.88671875,
           18.91015625,
           12.98046875,
           23.8515625,
           8.0390625,
           8.0390625,
           25.828125,
           33.734375,
           13.96875,
           17.921875,
           15.9453125,
           9.02734375,
           21.875,
           20.88671875,
           12.98046875,
           12.98046875,
           21.875,
           22.86328125,
           11.00390625,
           16.93359375,
           17.921875,
           7.05078125,
           23.8515625,
           8.0390625,
           19.8984375,
           126.6328125,
           72.27734375,
           12.98046875,
           11.00390625,
           8.0390625,
           11.00390625,
           29.78125,
           16.93359375,
           11.00390625,
           15.9453125,
           21.875,
           14.95703125,
           9.02734375,
           11.00390625,
           11.9921875,
           20.88671875,
           15.9453125,
           9.02734375,
           11.9921875,
           64.37109375,
           11.00390625,
           17.921875,
           13.96875,
           66.34765625,
           9.02734375,
           11.9921875,
           41.640625,
           11.00390625,
           37.6875,
           9.02734375,
           12.98046875,
           51.5234375,
           9.02734375,
           22.86328125,
           16.93359375,
           27.8046875,
           11.9921875,
           25.828125,
           10.015625,
           13.96875,
           9.02734375,
           32.74609375,
           10.015625,
           7.05078125,
           12.98046875,
           30.76953125,
           9.02734375,
           14.95703125,
           24.83984375,
           7.05078125,
           15.9453125,
           28.79296875,
           11.00390625,
           13.96875,
           29.78125,
           7.05078125,
           11.00390625,
           21.875,
           12.98046875,
           11.9921875,
           22.86328125,
           15.9453125,
           23.8515625,
           9.02734375,
           17.921875,
           14.95703125,
           9.02734375,
           14.95703125,
           11.00390625,
           18.91015625,
           7.05078125,
           10.015625,
           26.81640625,
           7.05078125,
           7.05078125,
           30.76953125,
           18.91015625,
           10.015625,
           9.02734375,
           40.65234375,
           28.79296875,
           16.93359375,
           7.05078125,
           15.9453125,
           12.98046875,
           37.6875,
           29.78125,
           13.96875,
           19.8984375,
           15.9453125,
           11.9921875,
           8.0390625,
           19.8984375,
           11.9921875,
           6.0625,
           7.05078125,
           15.9453125,
           16.93359375,
           11.00390625,
           11.00390625,
           13.96875,
           16.93359375,
           19.8984375,
           14.95703125,
           23.8515625,
           15.9453125,
           11.9921875,
           13.96875,
           11.9921875,
           27.8046875,
           13.96875,
           21.875,
           23.8515625,
           10.015625,
           12.98046875,
           20.88671875,
           9.02734375,
           6.0625,
           15.9453125,
           11.00390625,
           11.9921875,
           18.91015625,
           7.05078125,
           18.91015625,
           16.93359375,
           9.02734375,
           10.015625,
           21.875,
           25.828125,
           7.05078125,
           19.8984375,
           26.81640625,
           7.05078125,
           22.86328125,
           11.9921875,
           27.8046875,
           8.0390625,
           21.875,
           13.96875,
           10.015625,
           24.83984375,
           24.83984375,
           13.96875,
           10.015625,
           28.79296875,
           15.9453125,
           7.05078125,
           10.015625,
           15.9453125,
           19.8984375,
           11.9921875,
           14.95703125,
           11.00390625,
           12.98046875,
           20.88671875,
           16.93359375,
           8.0390625,
           13.96875,
           9.02734375,
           23.8515625,
           20.88671875,
           22.86328125,
           12.98046875,
           17.921875,
           25.828125,
           11.9921875,
           25.828125,
           8.0390625,
           7.05078125,
           24.83984375,
           13.96875,
           12.98046875,
           21.875,
           16.93359375,
           27.8046875,
           20.88671875,
           11.00390625,
           11.00390625,
           24.83984375,
           9.02734375,
           22.86328125,
           23.8515625,
           11.9921875,
           11.00390625,
           27.8046875,
           15.9453125,
           25.828125,
           10.015625,
           11.00390625
          ],
          "size": 3,
          "symbol": "square"
         },
         "mode": "markers",
         "name": "larpix packets",
         "opacity": 1,
         "showlegend": true,
         "type": "scatter3d",
         "visible": "legendonly",
         "x": [
          742.49,
          742.49,
          763.77,
          764.15,
          744.77,
          743.25,
          765.67,
          753.89,
          752.37,
          755.03,
          788.47,
          733.75,
          733.75,
          734.13,
          713.27,
          713.65,
          712.51,
          712.89,
          713.27,
          712.13,
          712.51,
          711.37,
          711.75,
          710.61,
          710.99,
          710.23,
          710.61,
          709.47,
          709.85,
          708.71,
          708.71,
          709.0899999999999,
          707.95,
          708.33,
          707.5699999999999,
          707.5699999999999,
          707.95,
          706.8100000000001,
          707.1899999999999,
          707.1899999999999,
          706.05,
          706.4300000000001,
          705.29,
          705.67,
          704.53,
          704.53,
          704.9100000000001,
          704.15,
          704.53,
          703.39,
          703.77,
          702.63,
          703.01,
          702.25,
          702.63,
          701.49,
          701.87,
          701.11,
          701.49,
          700.35,
          700.73,
          699.5899999999999,
          699.97,
          698.83,
          699.21,
          699.21,
          699.21,
          699.5899999999999,
          699.5899999999999,
          699.21,
          747.81,
          747.81,
          747.81,
          761.49,
          748.95,
          749.33,
          775.17,
          775.55,
          775.17,
          756.17,
          756.17,
          756.55,
          749.7099999999999,
          750.0899999999999,
          750.0899999999999,
          749.33,
          749.33,
          749.7099999999999,
          749.7099999999999,
          750.0899999999999,
          748.95,
          748.95,
          749.33,
          749.33,
          748.1899999999999,
          748.5699999999999,
          748.5699999999999,
          748.95,
          747.81,
          748.1899999999999,
          748.1899999999999,
          747.4300000000001,
          747.4300000000001,
          747.81,
          747.81,
          747.05,
          747.05,
          747.4300000000001,
          747.4300000000001,
          746.67,
          746.67,
          747.05,
          746.29,
          746.29,
          746.67,
          745.91,
          745.91,
          745.15,
          745.53,
          745.53,
          744.77,
          744.77,
          745.15,
          745.15,
          744.39,
          744.39,
          744.77,
          744.77,
          743.63,
          744.01,
          744.01,
          744.39,
          743.25,
          743.25,
          743.63,
          743.63,
          742.49,
          742.87,
          742.87,
          743.25,
          742.1099999999999,
          742.49,
          741.35,
          741.73,
          741.73,
          740.97,
          741.35,
          741.73,
          740.2099999999999,
          740.5899999999999,
          740.5899999999999,
          739.83,
          740.2099999999999,
          739.0699999999999,
          739.45,
          739.45,
          738.31,
          738.6899999999999,
          738.6899999999999,
          743.25,
          737.55,
          737.9300000000001,
          737.9300000000001,
          738.31,
          738.31,
          743.25,
          737.17,
          737.55,
          737.55,
          736.41,
          736.79,
          736.79,
          735.65,
          735.65,
          736.03,
          743.25,
          734.89,
          735.27,
          734.13,
          734.13,
          734.51,
          734.51,
          734.89,
          733.37,
          733.37,
          733.75,
          733.75,
          734.13,
          732.6099999999999,
          732.99,
          732.99,
          733.37,
          731.85,
          732.23,
          731.0899999999999,
          731.0899999999999,
          731.47,
          731.85,
          730.33,
          730.7099999999999,
          730.7099999999999,
          731.0899999999999,
          729.5699999999999,
          729.95,
          729.95,
          728.81,
          729.1899999999999,
          728.05,
          728.05,
          728.4300000000001,
          727.29,
          727.29,
          727.67,
          727.67,
          726.53,
          726.91,
          726.91,
          725.77,
          725.77,
          726.15,
          726.15,
          726.53,
          725.01,
          725.01,
          725.39,
          724.25,
          724.63,
          724.63,
          723.49,
          723.87,
          722.73,
          723.1099999999999,
          723.49,
          721.97,
          722.35,
          722.73,
          721.2099999999999,
          721.5899999999999,
          721.97,
          720.83,
          721.2099999999999,
          721.2099999999999,
          720.0699999999999,
          720.45,
          720.83,
          719.6899999999999,
          720.0699999999999,
          718.9300000000001,
          718.9300000000001,
          719.31,
          718.17,
          718.55,
          718.17,
          729.95
         ],
         "y": [
          6.997000000000017,
          7.377000000000018,
          11.937000000000017,
          11.937000000000017,
          18.77700000000002,
          19.537000000000017,
          20.677000000000017,
          33.21700000000001,
          -84.963,
          -67.483,
          -35.943,
          -2.8829999999999907,
          -2.8829999999999907,
          -2.8829999999999907,
          6.237000000000017,
          6.237000000000017,
          6.617000000000016,
          6.617000000000016,
          6.617000000000016,
          6.997000000000017,
          6.997000000000017,
          7.377000000000018,
          7.377000000000018,
          7.7570000000000165,
          7.7570000000000165,
          8.137000000000018,
          8.137000000000018,
          8.517000000000015,
          8.517000000000015,
          8.897000000000016,
          8.897000000000016,
          8.897000000000016,
          9.277000000000019,
          9.277000000000019,
          9.657000000000016,
          9.657000000000016,
          9.657000000000016,
          10.037000000000017,
          10.037000000000017,
          10.037000000000017,
          10.417000000000016,
          10.417000000000016,
          10.797000000000017,
          10.797000000000017,
          11.177000000000017,
          11.177000000000017,
          11.177000000000017,
          11.557000000000016,
          11.557000000000016,
          11.937000000000017,
          11.937000000000017,
          12.317000000000016,
          12.317000000000016,
          12.697000000000017,
          12.697000000000017,
          13.077000000000018,
          13.077000000000018,
          13.457000000000017,
          13.457000000000017,
          13.837000000000018,
          13.837000000000018,
          14.217000000000017,
          14.217000000000017,
          14.597000000000017,
          14.597000000000017,
          14.597000000000017,
          14.597000000000017,
          14.597000000000017,
          14.597000000000017,
          14.977000000000018,
          -43.163,
          -42.782999999999994,
          -42.782999999999994,
          -37.462999999999994,
          -25.302999999999987,
          -25.302999999999987,
          -25.302999999999987,
          -25.302999999999987,
          -24.92299999999999,
          -21.12299999999999,
          -20.742999999999988,
          -20.742999999999988,
          -15.422999999999988,
          -15.422999999999988,
          -15.422999999999988,
          -15.042999999999989,
          -15.042999999999989,
          -15.042999999999989,
          -15.042999999999989,
          -15.042999999999989,
          -14.662999999999988,
          -14.662999999999988,
          -14.662999999999988,
          -14.662999999999988,
          -14.282999999999987,
          -14.282999999999987,
          -14.282999999999987,
          -14.282999999999987,
          -13.902999999999988,
          -13.902999999999988,
          -13.902999999999988,
          -13.522999999999987,
          -13.522999999999987,
          -13.522999999999987,
          -13.522999999999987,
          -13.14299999999999,
          -13.14299999999999,
          -13.14299999999999,
          -13.14299999999999,
          -12.762999999999987,
          -12.762999999999987,
          -12.762999999999987,
          -12.382999999999987,
          -12.382999999999987,
          -12.382999999999987,
          -12.00299999999999,
          -12.00299999999999,
          -11.622999999999987,
          -11.622999999999987,
          -11.622999999999987,
          -11.24299999999999,
          -11.24299999999999,
          -11.24299999999999,
          -11.24299999999999,
          -10.862999999999989,
          -10.862999999999989,
          -10.862999999999989,
          -10.862999999999989,
          -10.482999999999986,
          -10.482999999999986,
          -10.482999999999986,
          -10.482999999999986,
          -10.102999999999989,
          -10.102999999999989,
          -10.102999999999989,
          -10.102999999999989,
          -9.722999999999988,
          -9.722999999999988,
          -9.722999999999988,
          -9.722999999999988,
          -9.34299999999999,
          -9.34299999999999,
          -8.962999999999989,
          -8.962999999999989,
          -8.962999999999989,
          -8.58299999999999,
          -8.58299999999999,
          -8.58299999999999,
          -8.202999999999989,
          -8.202999999999989,
          -8.202999999999989,
          -7.822999999999988,
          -7.822999999999988,
          -7.442999999999989,
          -7.442999999999989,
          -7.442999999999989,
          -7.062999999999988,
          -7.062999999999988,
          -7.062999999999988,
          -7.062999999999988,
          -6.68299999999999,
          -6.68299999999999,
          -6.68299999999999,
          -6.68299999999999,
          -6.68299999999999,
          -6.68299999999999,
          -6.302999999999989,
          -6.302999999999989,
          -6.302999999999989,
          -5.9229999999999885,
          -5.9229999999999885,
          -5.9229999999999885,
          -5.54299999999999,
          -5.54299999999999,
          -5.54299999999999,
          -5.54299999999999,
          -5.162999999999989,
          -5.162999999999989,
          -4.782999999999991,
          -4.782999999999991,
          -4.782999999999991,
          -4.782999999999991,
          -4.782999999999991,
          -4.40299999999999,
          -4.40299999999999,
          -4.40299999999999,
          -4.40299999999999,
          -4.40299999999999,
          -4.022999999999988,
          -4.022999999999988,
          -4.022999999999988,
          -4.022999999999988,
          -3.64299999999999,
          -3.64299999999999,
          -3.262999999999989,
          -3.262999999999989,
          -3.262999999999989,
          -3.262999999999989,
          -2.8829999999999907,
          -2.8829999999999907,
          -2.8829999999999907,
          -2.8829999999999907,
          -2.5029999999999895,
          -2.5029999999999895,
          -2.5029999999999895,
          -2.1229999999999882,
          -2.1229999999999882,
          -1.7429999999999901,
          -1.7429999999999901,
          -1.7429999999999901,
          -1.3629999999999889,
          -1.3629999999999889,
          -1.3629999999999889,
          -1.3629999999999889,
          -0.9829999999999934,
          -0.9829999999999934,
          -0.9829999999999934,
          -0.6029999999999923,
          -0.6029999999999923,
          -0.6029999999999923,
          -0.6029999999999923,
          -0.6029999999999923,
          -0.22299999999999115,
          -0.22299999999999115,
          -0.22299999999999115,
          0.15700000000000996,
          0.15700000000000996,
          0.15700000000000996,
          0.5370000000000055,
          0.5370000000000055,
          0.9170000000000066,
          0.9170000000000066,
          0.9170000000000066,
          1.2970000000000077,
          1.2970000000000077,
          1.2970000000000077,
          1.677000000000009,
          1.677000000000009,
          1.677000000000009,
          2.05700000000001,
          2.05700000000001,
          2.05700000000001,
          2.4370000000000056,
          2.4370000000000056,
          2.4370000000000056,
          2.8170000000000064,
          2.8170000000000064,
          3.1970000000000076,
          3.1970000000000076,
          3.1970000000000076,
          3.5770000000000173,
          3.5770000000000173,
          3.957000000000016,
          12.317000000000016
         ],
         "z": [
          14.703322499030133,
          14.878932272067113,
          10.552546045428988,
          10.456758896499736,
          58.22949065201103,
          56.329712198247435,
          93.0002257133314,
          56.55321554574904,
          151.1589799149904,
          137.0144109231034,
          113.17937536453992,
          115.01529571901733,
          114.56828902401412,
          114.98336666937425,
          168.43946926135482,
          168.6310435592133,
          168.39157568689018,
          168.34368211242557,
          168.56718545992717,
          168.40754021171173,
          168.40754021171173,
          168.53525641028406,
          168.45543378617634,
          168.7268307081426,
          168.43946926135482,
          168.4713983109979,
          168.7268307081426,
          168.59911450957026,
          168.6949016584995,
          168.53525641028406,
          168.98226310528727,
          168.55122093510562,
          168.8385823818934,
          168.61507903439178,
          168.55122093510562,
          168.99822763010883,
          168.87051143153647,
          168.67893713367795,
          168.43946926135482,
          168.9184050060011,
          168.6949016584995,
          168.6949016584995,
          168.6310435592133,
          168.77472428260722,
          168.5831499847487,
          169.09401477903808,
          168.79068880742875,
          168.77472428260722,
          168.85454690671492,
          168.9184050060011,
          168.886475956358,
          169.07805025421652,
          168.77472428260722,
          168.85454690671492,
          169.03015667975188,
          169.07805025421652,
          168.9184050060011,
          168.96629858046572,
          168.99822763010883,
          169.01419215493036,
          168.9184050060011,
          168.3596466372471,
          168.98226310528727,
          168.2159659138532,
          168.20000138903168,
          168.64700808403487,
          169.09401477903808,
          168.15210781456705,
          169.23769550243196,
          168.26385948831785,
          181.62616676394924,
          181.41862794126916,
          181.89756368591546,
          172.95742978585145,
          170.41907033922612,
          170.4509993888692,
          165.21463524740315,
          165.3104223963324,
          165.32638692115395,
          178.08204225356673,
          177.98625510463745,
          178.28958107624675,
          171.7441258994142,
          171.72816137459264,
          172.17516806959583,
          171.47272897744796,
          172.1113099703097,
          171.58448065119876,
          172.03148734620194,
          171.680267800128,
          171.4567644526264,
          171.9037711476296,
          171.4567644526264,
          171.98359377173733,
          171.5206225519126,
          171.37694182851868,
          171.8239485235219,
          171.55255160155568,
          171.4886935022695,
          171.4567644526264,
          171.9037711476296,
          171.2013320554817,
          171.64833875048492,
          171.24922562994635,
          171.72816137459264,
          170.91397060869397,
          171.44079992780487,
          171.2651901547679,
          171.7121968497711,
          170.94589965833705,
          171.39290635334027,
          171.02572228244475,
          170.81818345976473,
          171.2651901547679,
          171.02572228244475,
          170.65853821154928,
          171.10554490655247,
          170.72239631083545,
          170.49889296333384,
          170.94589965833705,
          169.90820554493675,
          170.78625441012161,
          170.49889296333384,
          170.94589965833705,
          170.19556699172455,
          170.64257368672773,
          170.27538961583224,
          170.72239631083545,
          170.24346056618916,
          170.179602466903,
          170.62660916190617,
          170.2274960413676,
          170.01995721868758,
          170.46696391369076,
          170.11574436761683,
          170.61064463708465,
          169.94013459457986,
          169.9560991194014,
          170.40310581440457,
          169.65277314779206,
          169.89224102011522,
          170.09977984279527,
          169.620844098149,
          169.3654117010043,
          169.84434744565058,
          169.57295052368437,
          169.620844098149,
          169.41330527546893,
          169.50909242439818,
          169.28558907689657,
          169.73259577189978,
          169.3654117010043,
          169.41330527546893,
          169.20576645278885,
          169.20576645278885,
          169.65277314779206,
          169.01419215493036,
          169.062085729395,
          169.50909242439818,
          173.35654290639002,
          168.77472428260722,
          168.886475956358,
          169.3334826513612,
          168.9184050060011,
          169.3654117010043,
          172.59024571495598,
          168.79068880742875,
          168.80665333225028,
          169.2536600272535,
          168.80665333225028,
          168.71086618332103,
          169.15787287832424,
          168.55122093510562,
          168.99822763010883,
          168.7268307081426,
          160.56895852433416,
          168.5831499847487,
          168.56718545992717,
          168.26385948831785,
          168.71086618332103,
          168.4235047365333,
          168.87051143153647,
          168.8385823818934,
          168.23193043867474,
          168.67893713367795,
          168.15210781456705,
          168.59911450957026,
          168.71086618332103,
          168.29578853796093,
          168.18403686421013,
          168.64700808403487,
          168.327717587604,
          168.15210781456705,
          168.20000138903168,
          167.5135268217053,
          168.20000138903168,
          168.12017876492396,
          168.20000138903168,
          168.00842709117313,
          167.78492374367156,
          168.23193043867474,
          168.05632066563777,
          167.96053351670852,
          167.8807108926008,
          168.327717587604,
          168.04035614081624,
          168.04035614081624,
          167.86474636777928,
          168.31175306278246,
          167.97649804153008,
          167.8807108926008,
          168.327717587604,
          167.81685279331464,
          168.26385948831785,
          167.92860446706544,
          167.81685279331464,
          168.26385948831785,
          167.83281731813616,
          168.27982401313938,
          167.86474636777928,
          168.31175306278246,
          167.84878184295772,
          167.91263994224389,
          168.3596466372471,
          168.1042142401024,
          168.00842709117313,
          167.92860446706544,
          168.37561116206865,
          167.9924625663516,
          168.04035614081624,
          168.12017876492396,
          167.97649804153008,
          167.89667541742236,
          168.37561116206865,
          168.05632066563777,
          168.23193043867474,
          168.1361432897455,
          168.1042142401024,
          168.20000138903168,
          168.05632066563777,
          167.9924625663516,
          168.43946926135482,
          168.24789496349632,
          168.1361432897455,
          168.08824971528088,
          168.12017876492396,
          168.1042142401024,
          167.9924625663516,
          168.43946926135482,
          168.05632066563777,
          168.1361432897455,
          168.1361432897455,
          168.4235047365333,
          167.56142039616995
         ]
        },
        {
         "mode": "lines",
         "name": "edep segments",
         "showlegend": true,
         "type": "scatter3d",
         "visible": "legendonly",
         "x": [
          699.175048828125,
          704.1241455078125,
          null,
          704.1241455078125,
          708.60205078125,
          null,
          708.60205078125,
          712.4000854492188,
          null,
          712.4000854492188,
          712.7268676757812,
          null,
          712.7268676757812,
          713.5877075195312,
          null,
          717.924072265625,
          719.3194580078125,
          null,
          719.3194580078125,
          719.9525146484375,
          null,
          719.9525146484375,
          720.8328857421875,
          null,
          720.8328857421875,
          721.2088623046875,
          null,
          721.2088623046875,
          723.2348022460938,
          null,
          723.2348022460938,
          723.5263671875,
          null,
          723.5263671875,
          724.6350708007812,
          null,
          724.6350708007812,
          726.205078125,
          null,
          726.205078125,
          728.487060546875,
          null,
          728.487060546875,
          730.7918090820312,
          null,
          730.7918090820312,
          733.4175415039062,
          null,
          733.4175415039062,
          734.626220703125,
          null,
          734.626220703125,
          737.492919921875,
          null,
          737.492919921875,
          740.31884765625,
          null,
          740.31884765625,
          740.4307861328125,
          null,
          740.4307861328125,
          741.7108764648438,
          null,
          741.7108764648438,
          743.5313110351562,
          null,
          743.5313110351562,
          744.5205078125,
          null,
          744.5205078125,
          744.6888427734375,
          null,
          744.6888427734375,
          745.740478515625,
          null,
          745.740478515625,
          746.566162109375,
          null,
          746.566162109375,
          747.2391967773438,
          null,
          747.2391967773438,
          747.7887573242188,
          null,
          747.7887573242188,
          748.2783813476562,
          null,
          748.2783813476562,
          748.6834106445312,
          null,
          748.6834106445312,
          749.00439453125,
          null,
          749.00439453125,
          749.249755859375,
          null,
          749.249755859375,
          749.4407348632812,
          null,
          749.4407348632812,
          749.5924072265625,
          null,
          749.5924072265625,
          749.7037353515625,
          null,
          749.7037353515625,
          749.8658447265625,
          null,
          749.8658447265625,
          750.1079711914062,
          null,
          750.1079711914062,
          750.1323852539062,
          null,
          750.1323852539062,
          750.132568359375,
          null,
          769.2739868164062,
          769.3126220703125,
          null,
          769.3126220703125,
          769.3090209960938,
          null,
          765.4317016601562,
          765.4315185546875,
          null,
          765.5722045898438,
          765.5717163085938,
          null,
          765.6635131835938,
          765.6647338867188,
          null,
          761.4303588867188,
          761.4789428710938,
          null,
          778.2467651367188,
          778.217529296875,
          null,
          778.217529296875,
          778.212158203125,
          null,
          780.0670776367188,
          780.0669555664062,
          null,
          783.1473388671875,
          783.1566772460938,
          null,
          743.35205078125,
          743.2597045898438,
          null,
          743.2597045898438,
          743.246826171875,
          null,
          768.52734375,
          768.5639038085938,
          null,
          768.5639038085938,
          768.56396484375,
          null,
          766.2677001953125,
          766.2676391601562,
          null,
          765.8411865234375,
          765.8409423828125,
          null,
          754.4009399414062,
          754.4054565429688,
          null,
          749.6884765625,
          749.665771484375,
          null,
          750.0446166992188,
          750.0446166992188,
          null,
          736.8421630859375,
          736.8421630859375,
          null,
          736.9964599609375,
          736.9964599609375,
          null,
          743.8570556640625,
          743.8786010742188,
          null,
          743.8786010742188,
          743.8778076171875,
          null,
          741.6593627929688,
          741.6572875976562,
          null,
          741.8360595703125,
          741.8273315429688,
          null,
          742.5465087890625,
          742.5130004882812,
          null,
          742.5130004882812,
          742.453857421875,
          null,
          742.453857421875,
          742.36474609375,
          null,
          742.36474609375,
          742.3583984375,
          null,
          751.7598876953125,
          751.7570190429688,
          null,
          751.9134521484375,
          751.9134521484375,
          null,
          751.7864990234375,
          751.7656860351562,
          null,
          751.7656860351562,
          751.7627563476562,
          null,
          755.2329711914062,
          755.2611083984375,
          null,
          700.7332763671875,
          700.6854858398438,
          null,
          701.85791015625,
          701.8970336914062,
          null,
          699.0409545898438,
          699.0213012695312,
          null,
          690.5690307617188,
          690.5415649414062,
          null,
          700.7195434570312,
          700.767578125,
          null,
          711.050048828125,
          711.0098876953125,
          null,
          706.3369140625,
          706.3258666992188,
          null,
          692.243896484375,
          692.225830078125,
          null,
          694.5191650390625,
          694.5203857421875,
          null,
          712.3369140625,
          712.294677734375,
          null,
          697.329345703125,
          697.3125610351562,
          null,
          673.4070434570312,
          673.3614501953125,
          null,
          625.6309814453125,
          625.6052856445312,
          null,
          636.0350952148438,
          636.0571899414062,
          null,
          739.910888671875,
          739.9175415039062,
          null,
          739.9175415039062,
          739.9180297851562,
          null,
          739.431640625,
          739.431640625,
          null,
          739.5281372070312,
          739.5281372070312,
          null,
          741.194091796875,
          741.194091796875,
          null,
          742.8118896484375,
          742.8121337890625,
          null,
          748.3557739257812,
          748.3265380859375,
          null,
          748.3265380859375,
          748.3189697265625,
          null,
          729.091796875,
          729.0806274414062,
          null,
          729.0806274414062,
          729.0860595703125,
          null,
          730.9953002929688,
          730.993408203125,
          null,
          752.4436645507812,
          752.4440307617188,
          null,
          752.5377197265625,
          752.5617065429688,
          null,
          747.2362060546875,
          747.2269897460938,
          null,
          747.7353515625,
          747.69677734375,
          null,
          747.69677734375,
          747.740234375,
          null,
          747.740234375,
          747.794921875,
          null,
          747.794921875,
          747.7306518554688,
          null,
          747.9351806640625,
          747.970703125,
          null,
          747.970703125,
          747.971435546875,
          null,
          726.8956298828125,
          726.8832397460938,
          null,
          740.1509399414062,
          740.1509399414062,
          null,
          710.9356079101562,
          710.8885498046875,
          null,
          710.8885498046875,
          710.88232421875,
          null,
          738.0537109375,
          738.004150390625,
          null,
          738.004150390625,
          738.0009155273438,
          null,
          742.2337036132812,
          742.2337646484375,
          null,
          743.7236938476562,
          743.7236938476562,
          null,
          750.0156860351562,
          750.0161743164062,
          null,
          749.7813110351562,
          749.7788696289062,
          null,
          751.3193359375,
          751.3186645507812,
          null,
          753.1436767578125,
          753.1439208984375,
          null,
          753.9661865234375,
          754.0762939453125,
          null,
          754.0762939453125,
          754.088134765625,
          null,
          782.7246704101562,
          782.7214965820312,
          null,
          782.7214965820312,
          782.7210083007812,
          null,
          782.7254638671875,
          782.7254638671875,
          null,
          782.760009765625,
          782.760009765625,
          null,
          784.5712890625,
          784.5714111328125,
          null,
          782.2228393554688,
          782.2225341796875,
          null,
          782.4757080078125,
          782.4764404296875,
          null,
          774.2369995117188,
          774.2369995117188,
          null,
          763.173095703125,
          763.1695556640625,
          null,
          765.6838989257812,
          765.7501220703125,
          null,
          751.0444946289062,
          751.0425415039062,
          null,
          745.4410400390625,
          745.4271240234375,
          null,
          745.1565551757812,
          745.157958984375,
          null,
          744.8369140625,
          744.9056396484375,
          null,
          743.2733154296875,
          743.2442016601562,
          null,
          743.2442016601562,
          743.20751953125,
          null,
          743.2699584960938,
          743.271728515625,
          null,
          760.1384887695312,
          760.168701171875,
          null,
          780.74169921875,
          780.7296752929688,
          null,
          780.7296752929688,
          780.7272338867188,
          null,
          781.6121826171875,
          781.6122436523438,
          null,
          774.549560546875,
          774.549560546875,
          null,
          768.366455078125,
          768.3914184570312,
          null,
          768.3914184570312,
          768.3984375,
          null,
          765.8989868164062,
          765.8992309570312,
          null,
          765.696533203125,
          765.6950073242188,
          null,
          765.0374755859375,
          765.0303955078125,
          null,
          751.6221923828125,
          751.6063232421875,
          null,
          759.436279296875,
          759.4564819335938,
          null,
          756.3529663085938,
          756.3132934570312,
          null,
          758.9140014648438,
          758.9058227539062,
          null,
          759.1369018554688,
          759.18017578125,
          null,
          750.5707397460938,
          750.5607299804688,
          null,
          750.6583251953125,
          750.6637573242188,
          null,
          750.9207763671875,
          750.9234619140625,
          null,
          748.359130859375,
          748.3506469726562,
          null,
          769.4933471679688,
          769.5227661132812,
          null,
          760.206787109375,
          760.1884765625,
          null,
          771.5232543945312,
          771.5619506835938,
          null,
          751.738037109375,
          751.6968383789062,
          null,
          762.2039184570312,
          762.2459106445312,
          null,
          755.0008544921875,
          754.9686889648438,
          null,
          755.5345458984375,
          755.5367431640625,
          null,
          771.3915405273438,
          771.4307250976562,
          null,
          767.7357177734375,
          767.6869506835938,
          null,
          768.0489501953125,
          768.0520629882812,
          null,
          768.6946411132812,
          768.697509765625,
          null,
          785.8052978515625,
          785.817626953125,
          null,
          740.5250244140625,
          740.501953125,
          null,
          766.7965698242188,
          766.8455200195312,
          null,
          751.7454223632812,
          751.7169189453125,
          null,
          756.2578735351562,
          756.28173828125,
          null,
          783.8369140625,
          783.8779296875,
          null,
          782.4872436523438,
          782.4744873046875,
          null,
          784.5389404296875,
          784.5514526367188,
          null,
          788.8427734375,
          788.8460693359375,
          null,
          792.1343383789062,
          792.17724609375,
          null,
          792.7479858398438,
          792.7791137695312,
          null,
          819.0264892578125,
          819.0498657226562,
          null,
          832.3104248046875,
          832.3301391601562,
          null,
          757.445068359375,
          757.445068359375,
          null,
          752.8212890625,
          752.8212890625,
          null,
          777.6477661132812,
          777.5980224609375,
          null,
          777.5980224609375,
          777.5916137695312,
          null,
          779.74072265625,
          779.7464599609375,
          null,
          775.2974243164062,
          775.2879638671875,
          null,
          775.3850708007812,
          775.3914184570312,
          null,
          765.1683349609375,
          765.167724609375,
          null,
          764.0653686523438,
          763.9326782226562,
          null,
          763.9326782226562,
          763.927734375,
          null,
          750.1323852539062,
          750.1277465820312,
          null,
          743.3180541992188,
          743.3178100585938,
          null,
          731.1793823242188,
          731.2105102539062,
          null,
          731.2105102539062,
          731.2144775390625,
          null,
          730.8987426757812,
          730.8976440429688,
          null,
          734.8138427734375,
          734.813720703125,
          null,
          739.7294311523438,
          739.7000122070312,
          null,
          739.7000122070312,
          739.69970703125,
          null,
          740.615234375,
          740.6152954101562,
          null,
          740.6642456054688,
          740.6641845703125,
          null,
          745.4384765625,
          745.4380493164062,
          null,
          747.08154296875,
          747.082275390625,
          null,
          749.1166381835938,
          749.1209716796875,
          null,
          748.8456420898438,
          748.8450927734375,
          null,
          749.0732421875,
          749.1878662109375,
          null,
          749.1878662109375,
          749.179931640625,
          null,
          749.179931640625,
          749.1070556640625,
          null,
          744.5443725585938,
          744.5443725585938,
          null,
          747.0127563476562,
          747.0457153320312,
          null,
          747.0457153320312,
          747.0513305664062,
          null,
          743.3853149414062,
          743.3851928710938,
          null,
          746.6393432617188,
          746.6498413085938,
          null,
          739.4635620117188,
          739.496826171875,
          null,
          753.4644775390625,
          753.4519653320312,
          null,
          742.185791015625,
          742.1787719726562,
          null,
          766.5036010742188,
          766.5458374023438,
          null,
          728.2425537109375,
          728.2011108398438,
          null,
          794.3446655273438,
          794.392822265625,
          null,
          785.45703125,
          785.4075927734375,
          null,
          737.486083984375,
          737.4425048828125,
          null,
          737.4628295898438,
          737.4631958007812,
          null,
          741.710693359375,
          741.7240600585938,
          null,
          729.474609375,
          729.4432373046875,
          null,
          839.1229858398438,
          839.1729125976562,
          null,
          823.25341796875,
          823.22412109375,
          null,
          826.9561767578125,
          826.9799194335938,
          null,
          821.0396728515625,
          821.0098266601562,
          null,
          850.7216796875,
          850.7496337890625,
          null,
          860.66357421875,
          860.6958618164062,
          null,
          855.3720092773438,
          855.3221435546875,
          null,
          876.014892578125,
          876.0491943359375,
          null,
          861.7575073242188,
          861.7408447265625,
          null,
          883.3228759765625,
          883.3433227539062,
          null,
          883.1349487304688,
          883.1223754882812,
          null,
          861.6200561523438,
          861.6055297851562,
          null,
          901.6882934570312,
          901.7379760742188,
          null,
          753.4676513671875,
          753.4676513671875,
          null,
          733.2296752929688,
          733.2296752929688,
          null,
          767.81494140625,
          767.8097534179688,
          null,
          767.8097534179688,
          767.8090209960938,
          null,
          767.8309936523438,
          767.8309326171875,
          null,
          767.8707275390625,
          767.8706665039062,
          null,
          775.8886108398438,
          775.888671875,
          null,
          778.6136474609375,
          778.6136474609375,
          null,
          781.0982055664062,
          781.09814453125,
          null,
          781.5716552734375,
          781.5717163085938,
          null,
          781.964111328125,
          781.964111328125,
          null,
          782.9705810546875,
          782.97119140625,
          null,
          782.49609375,
          782.4962158203125,
          null,
          776.7299194335938,
          776.72998046875,
          null,
          776.56591796875,
          776.5684814453125,
          null,
          772.578857421875,
          772.578857421875,
          null,
          743.2491455078125,
          743.1978149414062,
          null,
          743.1978149414062,
          743.1655883789062,
          null,
          744.2343139648438,
          744.21923828125,
          null,
          798.703857421875,
          798.7145385742188,
          null,
          798.7145385742188,
          798.7095947265625,
          null,
          797.9341430664062,
          797.9339599609375,
          null,
          801.4737548828125,
          801.4737548828125,
          null,
          802.8465576171875,
          802.8465576171875,
          null,
          805.9938354492188,
          805.9959716796875,
          null,
          804.9388427734375,
          804.9390258789062,
          null,
          780.4132080078125,
          780.4136962890625,
          null,
          779.6483764648438,
          779.653564453125,
          null,
          779.2274169921875,
          779.240478515625,
          null,
          756.1201782226562,
          756.2200317382812,
          null,
          756.2200317382812,
          756.333740234375,
          null,
          756.333740234375,
          756.4260864257812,
          null,
          756.4260864257812,
          756.4229125976562,
          null,
          768.0797729492188,
          768.1041259765625,
          null,
          768.1041259765625,
          768.1057739257812,
          null,
          767.0646362304688,
          767.064697265625,
          null,
          765.55859375,
          765.5587158203125,
          null,
          747.5193481445312,
          747.5082397460938,
          null,
          747.4988403320312,
          747.4603881835938,
          null,
          747.4603881835938,
          747.4603881835938,
          null,
          743.7535400390625,
          743.7587890625,
          null,
          739.3887939453125,
          739.3887329101562,
          null,
          739.2948608398438,
          739.2892456054688,
          null,
          739.2892456054688,
          739.2886352539062,
          null,
          760.8425903320312,
          760.8029174804688,
          null,
          760.8029174804688,
          760.8020629882812,
          null,
          767.268798828125,
          767.268798828125,
          null,
          766.450927734375,
          766.4507446289062,
          null,
          766.6746826171875,
          766.6748046875,
          null,
          764.0114135742188,
          764.0114135742188,
          null,
          761.866943359375,
          761.866943359375,
          null,
          758.9500732421875,
          758.9500732421875,
          null,
          750.9035034179688,
          750.9036865234375,
          null,
          749.0481567382812,
          749.0482788085938,
          null,
          724.6153564453125,
          724.587646484375,
          null,
          724.587646484375,
          724.5834350585938,
          null,
          727.5117797851562,
          727.51171875,
          null,
          731.149658203125,
          731.1505737304688,
          null,
          731.2261352539062,
          731.2393798828125,
          null,
          729.9249877929688,
          729.876708984375,
          null,
          755.7315673828125,
          755.7506713867188,
          null,
          762.8859252929688,
          762.919677734375,
          null,
          774.983154296875,
          774.9714965820312,
          null,
          767.341796875,
          767.3236083984375,
          null,
          755.736572265625,
          755.712646484375,
          null,
          753.8798217773438,
          753.8798217773438,
          null,
          754.3255615234375,
          754.3480224609375,
          null,
          754.3480224609375,
          754.350341796875,
          null,
          762.1151733398438,
          762.115234375,
          null,
          763.1704711914062,
          763.1710205078125,
          null,
          759.4024047851562,
          759.4024658203125,
          null,
          757.4026489257812,
          757.4026489257812,
          null,
          753.6797485351562,
          753.6796875,
          null,
          749.4814453125,
          749.4541015625,
          null,
          752.726806640625,
          752.725830078125,
          null,
          741.9825439453125,
          741.9597778320312,
          null,
          763.5552368164062,
          763.5947265625,
          null,
          757.4976196289062,
          757.456298828125,
          null,
          766.267822265625,
          766.2915649414062,
          null,
          781.5560913085938,
          781.591552734375,
          null,
          775.572998046875,
          775.5645751953125,
          null,
          719.921875,
          719.939453125,
          null,
          730.5615844726562,
          730.5899047851562,
          null,
          738.9756469726562,
          738.98193359375,
          null,
          736.0052490234375,
          735.9974365234375,
          null,
          747.7509765625,
          747.7802734375,
          null,
          786.076904296875,
          786.116943359375,
          null,
          732.6109619140625,
          732.5780029296875,
          null,
          753.7304077148438,
          753.7304077148438,
          null,
          781.130126953125,
          781.1301879882812,
          null,
          757.362548828125,
          757.362548828125,
          null,
          758.1708984375,
          758.1708984375,
          null,
          739.701416015625,
          739.701416015625,
          null,
          745.3163452148438,
          745.3233032226562,
          null,
          741.7514038085938,
          741.7387084960938,
          null,
          737.5332641601562,
          737.533203125,
          null,
          740.61474609375,
          740.6640625,
          null,
          740.6640625,
          740.6650390625,
          null,
          736.919189453125,
          736.918212890625,
          null,
          738.3251342773438,
          738.3351440429688,
          null,
          737.449951171875,
          737.4258422851562,
          null,
          711.8004760742188,
          711.76220703125,
          null,
          708.3087768554688,
          708.2913208007812,
          null,
          709.16796875,
          709.2067260742188,
          null,
          699.541748046875,
          699.5134887695312,
          null,
          710.7813720703125,
          710.80419921875,
          null,
          702.6600952148438,
          702.64697265625,
          null,
          691.5620727539062,
          691.5497436523438,
          null,
          692.0360717773438,
          692.0369262695312,
          null,
          686.528564453125,
          686.5134887695312,
          null,
          701.2879638671875,
          701.3338623046875,
          null,
          702.9684448242188,
          702.973876953125,
          null,
          738.2608032226562,
          738.270751953125,
          null,
          738.270751953125,
          738.2681884765625,
          null,
          738.132080078125,
          738.1325073242188,
          null,
          736.8265380859375,
          736.827392578125,
          null,
          734.3048706054688,
          733.9962768554688,
          null,
          733.9962768554688,
          733.6997680664062,
          null,
          733.6997680664062,
          733.8203125,
          null,
          733.8203125,
          733.7704467773438,
          null,
          733.7704467773438,
          733.7876586914062,
          null,
          733.7876586914062,
          733.7610473632812,
          null,
          775.61279296875,
          775.61279296875,
          null,
          774.5919799804688,
          774.620849609375,
          null,
          774.620849609375,
          774.62158203125,
          null,
          774.0274047851562,
          774.02734375,
          null,
          774.89697265625,
          774.89697265625,
          null,
          775.11181640625,
          775.11181640625,
          null,
          776.3893432617188,
          776.3894653320312,
          null,
          776.14404296875,
          776.14404296875,
          null,
          775.3836059570312,
          775.3829345703125,
          null,
          775.7128295898438,
          775.7152709960938,
          null,
          775.5503540039062,
          775.5408935546875,
          null,
          789.2218017578125,
          789.1987915039062,
          null,
          789.1987915039062,
          789.1974487304688,
          null,
          789.5671997070312,
          789.5675048828125,
          null,
          788.6980590820312,
          788.6980590820312,
          null,
          788.4652709960938,
          788.4652709960938,
          null,
          771.5061645507812,
          771.5061645507812,
          null,
          769.7975463867188,
          769.7938232421875,
          null,
          772.3663330078125,
          772.3661499023438,
          null,
          773.9260864257812,
          773.9320068359375,
          null,
          770.49267578125,
          770.5189819335938,
          null,
          770.5189819335938,
          770.5204467773438,
          null,
          768.6617431640625,
          768.6618041992188,
          null,
          767.852294921875,
          767.8408813476562,
          null,
          775.34619140625,
          775.3467407226562,
          null,
          775.3467407226562,
          775.3377685546875,
          null,
          775.3377685546875,
          775.3519287109375,
          null,
          774.8744506835938,
          774.8604125976562,
          null,
          774.8604125976562,
          774.86083984375,
          null,
          774.9228515625,
          774.9228515625,
          null,
          774.9389038085938,
          774.92919921875,
          null,
          774.92919921875,
          774.9319458007812,
          null,
          774.9588623046875,
          774.9588623046875,
          null,
          783.6332397460938,
          783.6513061523438,
          null,
          783.6366577148438,
          783.6362915039062,
          null,
          781.1043090820312,
          781.0878295898438,
          null,
          778.76123046875,
          778.7169799804688,
          null,
          789.6199340820312,
          789.6199340820312,
          null,
          768.2322998046875,
          768.1824951171875,
          null,
          768.1824951171875,
          768.1784057617188,
          null,
          812.1400146484375,
          812.1713256835938,
          null,
          812.9793701171875,
          812.9710083007812,
          null,
          809.6067504882812,
          809.5933227539062,
          null,
          760.8870239257812,
          760.9309692382812,
          null,
          760.9309692382812,
          760.932373046875,
          null,
          758.8697509765625,
          758.8692016601562,
          null,
          759.51611328125,
          759.5194091796875,
          null,
          757.4385986328125,
          757.4385375976562,
          null,
          755.057373046875,
          755.0574951171875,
          null,
          755.0416870117188,
          755.0172119140625,
          null,
          788.4519653320312,
          788.4500732421875,
          null,
          772.8787231445312,
          772.8787231445312,
          null,
          783.691162109375,
          783.691162109375,
          null,
          756.9038696289062,
          756.9038696289062,
          null,
          744.0946655273438,
          744.0946655273438,
          null,
          758.7015991210938,
          758.716796875,
          null,
          758.716796875,
          758.713623046875,
          null,
          758.2816772460938,
          758.2806396484375,
          null,
          764.6452026367188,
          764.6452026367188,
          null,
          768.831787109375,
          768.831787109375,
          null,
          771.60302734375,
          771.63037109375,
          null,
          763.458251953125,
          763.4576416015625,
          null,
          750.1323852539062,
          750.1277465820312,
          null,
          749.958984375,
          749.9517822265625,
          null,
          749.9517822265625,
          749.9494018554688,
          null,
          750.1323852539062,
          750.13232421875,
          null,
          744.6888427734375,
          744.7133178710938,
          null,
          744.5205078125,
          744.5888061523438,
          null,
          741.7108764648438,
          741.7661743164062,
          null,
          740.4307861328125,
          740.506591796875,
          null,
          740.506591796875,
          740.5065307617188,
          null,
          737.492919921875,
          737.5233764648438,
          null,
          734.626220703125,
          734.6500244140625,
          null,
          733.4175415039062,
          733.4464721679688,
          null,
          730.7918090820312,
          730.91796875,
          null,
          730.91796875,
          730.91748046875,
          null,
          728.487060546875,
          728.49755859375,
          null,
          728.3386840820312,
          728.3331909179688,
          null,
          728.3331909179688,
          728.3319091796875,
          null,
          728.5176391601562,
          728.5176391601562,
          null,
          726.205078125,
          726.3326416015625,
          null,
          726.3326416015625,
          726.3472900390625,
          null,
          726.3212280273438,
          726.3023071289062,
          null,
          726.3023071289062,
          726.3023681640625,
          null,
          724.6350708007812,
          724.6763916015625,
          null,
          723.5263671875,
          723.544189453125,
          null,
          723.2348022460938,
          723.2622680664062,
          null,
          721.2088623046875,
          721.28271484375,
          null,
          721.28271484375,
          721.270751953125,
          null,
          720.8328857421875,
          720.9169311523438,
          null,
          719.9525146484375,
          719.9842529296875,
          null,
          719.3194580078125,
          719.4220581054688,
          null,
          712.7268676757812,
          712.73779296875,
          null,
          712.4000854492188,
          712.4301147460938,
          null,
          708.60205078125,
          708.6895141601562,
          null,
          708.6895141601562,
          708.77490234375,
          null,
          704.1241455078125,
          704.1978149414062,
          null,
          699.175048828125,
          699.2110595703125,
          null,
          699.2110595703125,
          699.2463989257812,
          null,
          699.2463989257812,
          699.27490234375,
          null,
          699.27490234375,
          699.3011474609375,
          null,
          699.3011474609375,
          699.322998046875,
          null,
          699.322998046875,
          699.3908081054688,
          null
         ],
         "y": [
          14.719252586364746,
          11.588595390319824,
          null,
          11.588595390319824,
          9.10120677947998,
          null,
          9.10120677947998,
          6.915557384490967,
          null,
          6.915557384490967,
          6.727444171905518,
          null,
          6.727444171905518,
          6.224656105041504,
          null,
          3.867462635040283,
          3.0804061889648438,
          null,
          3.0804061889648438,
          2.711723804473877,
          null,
          2.711723804473877,
          2.1894867420196533,
          null,
          2.1894867420196533,
          1.965604305267334,
          null,
          1.965604305267334,
          0.8270955681800842,
          null,
          0.8270955681800842,
          0.6674203872680664,
          null,
          0.6674203872680664,
          0.08013483136892319,
          null,
          0.08013483136892319,
          -0.7217195630073547,
          null,
          -0.7217195630073547,
          -1.8677771091461182,
          null,
          -1.8677771091461182,
          -2.9953134059906006,
          null,
          -2.9953134059906006,
          -4.266617774963379,
          null,
          -4.266617774963379,
          -4.908771991729736,
          null,
          -4.908771991729736,
          -6.352230548858643,
          null,
          -6.352230548858643,
          -8.079255104064941,
          null,
          -8.079255104064941,
          -8.153119087219238,
          null,
          -8.153119087219238,
          -8.997982025146484,
          null,
          -8.997982025146484,
          -10.148193359375,
          null,
          -10.148193359375,
          -10.798422813415527,
          null,
          -10.798422813415527,
          -10.918318748474121,
          null,
          -10.918318748474121,
          -11.857128143310547,
          null,
          -11.857128143310547,
          -12.600513458251953,
          null,
          -12.600513458251953,
          -13.225140571594238,
          null,
          -13.225140571594238,
          -13.727404594421387,
          null,
          -13.727404594421387,
          -14.08102035522461,
          null,
          -14.08102035522461,
          -14.364232063293457,
          null,
          -14.364232063293457,
          -14.580282211303711,
          null,
          -14.580282211303711,
          -14.754494667053223,
          null,
          -14.754494667053223,
          -14.893866539001465,
          null,
          -14.893866539001465,
          -14.999116897583008,
          null,
          -14.999116897583008,
          -15.094732284545898,
          null,
          -15.094732284545898,
          -15.2279691696167,
          null,
          -15.2279691696167,
          -15.358327865600586,
          null,
          -15.358327865600586,
          -15.36719036102295,
          null,
          -15.36719036102295,
          -15.367255210876465,
          null,
          -35.273887634277344,
          -35.29645919799805,
          null,
          -35.29645919799805,
          -35.29692459106445,
          null,
          -33.0323600769043,
          -33.032470703125,
          null,
          -31.64447021484375,
          -31.640380859375,
          null,
          -32.02436828613281,
          -32.02463150024414,
          null,
          -37.345970153808594,
          -37.413330078125,
          null,
          30.594057083129883,
          30.595144271850586,
          null,
          30.595144271850586,
          30.596031188964844,
          null,
          30.52652359008789,
          30.52678680419922,
          null,
          29.138246536254883,
          29.14344596862793,
          null,
          -6.895768642425537,
          -6.830988883972168,
          null,
          -6.830988883972168,
          -6.82159948348999,
          null,
          -25.985031127929688,
          -26.00094985961914,
          null,
          -26.00094985961914,
          -26.00177764892578,
          null,
          -25.000293731689453,
          -25.000276565551758,
          null,
          -25.044300079345703,
          -25.044294357299805,
          null,
          -21.866079330444336,
          -21.874147415161133,
          null,
          -18.263233184814453,
          -18.289207458496094,
          null,
          -16.30885887145996,
          -16.308866500854492,
          null,
          -28.56574249267578,
          -28.565732955932617,
          null,
          -29.426481246948242,
          -29.426481246948242,
          null,
          6.230742454528809,
          6.2062249183654785,
          null,
          6.2062249183654785,
          6.201549053192139,
          null,
          8.735013961791992,
          8.73493480682373,
          null,
          8.855968475341797,
          8.88778305053711,
          null,
          7.400341510772705,
          7.345543384552002,
          null,
          7.345543384552002,
          7.19711971282959,
          null,
          7.19711971282959,
          7.208227634429932,
          null,
          7.208227634429932,
          7.19484806060791,
          null,
          -9.762626647949219,
          -9.765369415283203,
          null,
          -17.25143814086914,
          -17.251447677612305,
          null,
          -17.4951114654541,
          -17.535022735595703,
          null,
          -17.535022735595703,
          -17.53430938720703,
          null,
          -16.949974060058594,
          -16.947416305541992,
          null,
          -15.292888641357422,
          -15.281144142150879,
          null,
          -14.564269065856934,
          -14.540334701538086,
          null,
          -21.07291603088379,
          -21.117839813232422,
          null,
          -11.013230323791504,
          -10.980419158935547,
          null,
          -8.071011543273926,
          -8.057273864746094,
          null,
          -16.627376556396484,
          -16.597679138183594,
          null,
          -36.5706787109375,
          -36.617645263671875,
          null,
          -0.8896161317825317,
          -0.8438971638679504,
          null,
          -91.89744567871094,
          -91.9471664428711,
          null,
          -53.57735061645508,
          -53.57496643066406,
          null,
          -83.41990661621094,
          -83.45335388183594,
          null,
          -82.49490356445312,
          -82.48250579833984,
          null,
          28.166440963745117,
          28.191429138183594,
          null,
          5.254364967346191,
          5.225823402404785,
          null,
          -15.034746170043945,
          -15.075238227844238,
          null,
          -15.075238227844238,
          -15.075756072998047,
          null,
          -12.124127388000488,
          -12.124100685119629,
          null,
          -12.080622673034668,
          -12.080580711364746,
          null,
          -13.217364311218262,
          -13.217737197875977,
          null,
          -12.1118803024292,
          -12.112527847290039,
          null,
          4.052434921264648,
          4.138004302978516,
          null,
          4.138004302978516,
          4.134279251098633,
          null,
          -103.71501922607422,
          -103.66631317138672,
          null,
          -103.66631317138672,
          -103.66950225830078,
          null,
          -112.03553009033203,
          -112.04084777832031,
          null,
          -87.58548736572266,
          -87.58564758300781,
          null,
          -84.8973388671875,
          -84.9190444946289,
          null,
          -65.33824157714844,
          -65.37539672851562,
          null,
          -42.84630584716797,
          -42.95299530029297,
          null,
          -42.95299530029297,
          -42.97892761230469,
          null,
          -42.97892761230469,
          -42.85359573364258,
          null,
          -42.85359573364258,
          -42.86045455932617,
          null,
          -42.741249084472656,
          -42.7196159362793,
          null,
          -42.7196159362793,
          -42.72291946411133,
          null,
          9.996016502380371,
          10.009577751159668,
          null,
          22.710248947143555,
          22.71026039123535,
          null,
          33.21315002441406,
          33.23005294799805,
          null,
          33.23005294799805,
          33.2248649597168,
          null,
          33.19192123413086,
          33.18941879272461,
          null,
          33.18941879272461,
          33.1909065246582,
          null,
          33.47968292236328,
          33.47976303100586,
          null,
          32.52648162841797,
          32.52646255493164,
          null,
          35.49299240112305,
          35.49309539794922,
          null,
          35.48876953125,
          35.49091720581055,
          null,
          33.03847885131836,
          33.03782272338867,
          null,
          32.68954849243164,
          32.68879699707031,
          null,
          33.05887985229492,
          33.13530731201172,
          null,
          33.13530731201172,
          33.12260437011719,
          null,
          22.785037994384766,
          22.811349868774414,
          null,
          22.811349868774414,
          22.81144905090332,
          null,
          22.778459548950195,
          22.778453826904297,
          null,
          22.762258529663086,
          22.762258529663086,
          null,
          21.092565536499023,
          21.092514038085938,
          null,
          21.080013275146484,
          21.079906463623047,
          null,
          21.282672882080078,
          21.282649993896484,
          null,
          25.40958023071289,
          25.409664154052734,
          null,
          25.723108291625977,
          25.7269229888916,
          null,
          20.660099029541016,
          20.644214630126953,
          null,
          19.54548454284668,
          19.546205520629883,
          null,
          18.12421226501465,
          18.116174697875977,
          null,
          18.40829849243164,
          18.406211853027344,
          null,
          18.81386375427246,
          18.813901901245117,
          null,
          19.513647079467773,
          19.410663604736328,
          null,
          19.410663604736328,
          19.3990478515625,
          null,
          19.510448455810547,
          19.53725242614746,
          null,
          16.64150619506836,
          16.632328033447266,
          null,
          2.085744619369507,
          2.061471939086914,
          null,
          2.061471939086914,
          2.060462474822998,
          null,
          3.8499860763549805,
          3.850006580352783,
          null,
          2.690115451812744,
          2.6900761127471924,
          null,
          10.736394882202148,
          10.721220970153809,
          null,
          10.721220970153809,
          10.722549438476562,
          null,
          12.23425006866455,
          12.234477996826172,
          null,
          12.183497428894043,
          12.17969799041748,
          null,
          14.983572959899902,
          14.992410659790039,
          null,
          -9.469223022460938,
          -9.487918853759766,
          null,
          -17.439477920532227,
          -17.424509048461914,
          null,
          -15.19200611114502,
          -15.163456916809082,
          null,
          -16.770687103271484,
          -16.775943756103516,
          null,
          -16.74294662475586,
          -16.73676109313965,
          null,
          9.07759952545166,
          9.107583999633789,
          null,
          8.222270965576172,
          8.173324584960938,
          null,
          11.995587348937988,
          12.03549861907959,
          null,
          7.385726451873779,
          7.370445251464844,
          null,
          -8.913582801818848,
          -8.936245918273926,
          null,
          6.554407596588135,
          6.584844589233398,
          null,
          -2.118786573410034,
          -2.148500680923462,
          null,
          8.935282707214355,
          8.958311080932617,
          null,
          5.075567245483398,
          5.060049533843994,
          null,
          7.715561866760254,
          7.727348804473877,
          null,
          10.711172103881836,
          10.7228422164917,
          null,
          11.761728286743164,
          11.764293670654297,
          null,
          11.561928749084473,
          11.559260368347168,
          null,
          15.298497200012207,
          15.330686569213867,
          null,
          16.88749885559082,
          16.89439582824707,
          null,
          31.724279403686523,
          31.689668655395508,
          null,
          82.78384399414062,
          82.81736755371094,
          null,
          77.49263000488281,
          77.48270416259766,
          null,
          67.62247467041016,
          67.60385131835938,
          null,
          71.43315887451172,
          71.45333099365234,
          null,
          30.345247268676758,
          30.323566436767578,
          null,
          25.341299057006836,
          25.295412063598633,
          null,
          17.696704864501953,
          17.650781631469727,
          null,
          77.35395050048828,
          77.40019226074219,
          null,
          79.00608825683594,
          79.02703094482422,
          null,
          79.73754119873047,
          79.77630615234375,
          null,
          62.466800689697266,
          62.456634521484375,
          null,
          71.41427612304688,
          71.42671966552734,
          null,
          -13.117632865905762,
          -13.117629051208496,
          null,
          -9.166486740112305,
          -9.166478157043457,
          null,
          3.2602860927581787,
          3.265056610107422,
          null,
          3.265056610107422,
          3.266573190689087,
          null,
          3.059669017791748,
          3.062164783477783,
          null,
          -0.7581508159637451,
          -0.7872259020805359,
          null,
          3.6844561100006104,
          3.6897623538970947,
          null,
          11.39454460144043,
          11.395268440246582,
          null,
          11.864350318908691,
          11.85032844543457,
          null,
          11.85032844543457,
          11.899141311645508,
          null,
          -15.36719036102295,
          -15.36276912689209,
          null,
          -15.327953338623047,
          -15.327896118164062,
          null,
          -16.049915313720703,
          -16.06636619567871,
          null,
          -16.06636619567871,
          -16.06937599182129,
          null,
          -15.901459693908691,
          -15.901566505432129,
          null,
          -14.238638877868652,
          -14.238371849060059,
          null,
          -46.60447311401367,
          -46.60902404785156,
          null,
          -46.60902404785156,
          -46.6091423034668,
          null,
          -46.46744918823242,
          -46.467403411865234,
          null,
          -48.256038665771484,
          -48.25606918334961,
          null,
          -48.65923309326172,
          -48.66274642944336,
          null,
          -46.81281280517578,
          -46.81544494628906,
          null,
          -29.366716384887695,
          -29.37177848815918,
          null,
          -27.94742202758789,
          -27.947410583496094,
          null,
          -25.254552841186523,
          -25.383731842041016,
          null,
          -25.383731842041016,
          -25.311342239379883,
          null,
          -25.311342239379883,
          -25.3023624420166,
          null,
          -13.22054386138916,
          -13.2205171585083,
          null,
          -15.336527824401855,
          -15.348226547241211,
          null,
          -15.348226547241211,
          -15.34875774383545,
          null,
          -14.048396110534668,
          -14.048380851745605,
          null,
          -20.449264526367188,
          -20.48552131652832,
          null,
          -17.56560516357422,
          -17.53544044494629,
          null,
          -31.48209571838379,
          -31.44960594177246,
          null,
          -101.17027282714844,
          -101.21383666992188,
          null,
          -116.67314910888672,
          -116.69996643066406,
          null,
          -123.9400863647461,
          -123.94791412353516,
          null,
          -111.18385314941406,
          -111.174560546875,
          null,
          -111.87505340576172,
          -111.8789291381836,
          null,
          -85.42394256591797,
          -85.39988708496094,
          null,
          -86.49468994140625,
          -86.51582336425781,
          null,
          -77.06488800048828,
          -77.03517150878906,
          null,
          -66.18109893798828,
          -66.15328979492188,
          null,
          -67.04113006591797,
          -67.04153442382812,
          null,
          -88.9354476928711,
          -88.9757308959961,
          null,
          -82.18375396728516,
          -82.14053344726562,
          null,
          -90.06413269042969,
          -90.10400390625,
          null,
          -49.95744323730469,
          -49.919654846191406,
          null,
          -59.30406188964844,
          -59.31873321533203,
          null,
          -59.65665817260742,
          -59.65982437133789,
          null,
          -74.49041748046875,
          -74.51498413085938,
          null,
          -36.74366760253906,
          -36.69976043701172,
          null,
          -54.249595642089844,
          -54.26166534423828,
          null,
          -53.859222412109375,
          -53.83498001098633,
          null,
          -9.535469055175781,
          -9.574326515197754,
          null,
          -9.956989288330078,
          -9.957463264465332,
          null,
          -31.490217208862305,
          -31.490232467651367,
          null,
          -23.22106170654297,
          -23.221071243286133,
          null,
          -6.2225189208984375,
          -6.203003406524658,
          null,
          -6.203003406524658,
          -6.201167106628418,
          null,
          -6.282929420471191,
          -6.282850742340088,
          null,
          -6.3357110023498535,
          -6.335757255554199,
          null,
          -8.311934471130371,
          -8.312237739562988,
          null,
          -5.1486358642578125,
          -5.1486310958862305,
          null,
          -3.453340768814087,
          -3.453213691711426,
          null,
          -3.405731678009033,
          -3.405797004699707,
          null,
          -2.8430471420288086,
          -2.8430774211883545,
          null,
          -0.25864550471305847,
          -0.25716719031333923,
          null,
          -1.457911729812622,
          -1.4581246376037598,
          null,
          1.5848408937454224,
          1.5847104787826538,
          null,
          1.738954782485962,
          1.7408709526062012,
          null,
          1.6368529796600342,
          1.6369186639785767,
          null,
          -5.7835307121276855,
          -5.673161506652832,
          null,
          -5.673161506652832,
          -5.678369522094727,
          null,
          -12.59107780456543,
          -12.58933162689209,
          null,
          -17.35494041442871,
          -17.399641036987305,
          null,
          -17.399641036987305,
          -17.401763916015625,
          null,
          -14.121443748474121,
          -14.121432304382324,
          null,
          -10.366966247558594,
          -10.36695671081543,
          null,
          -9.514776229858398,
          -9.51461124420166,
          null,
          -11.026079177856445,
          -11.025768280029297,
          null,
          -11.719110488891602,
          -11.719454765319824,
          null,
          -6.895864963531494,
          -6.887149810791016,
          null,
          -7.902177810668945,
          -7.910043239593506,
          null,
          -7.908939361572266,
          -7.89178991317749,
          null,
          -20.86736297607422,
          -20.945423126220703,
          null,
          -20.945423126220703,
          -20.88609504699707,
          null,
          -20.88609504699707,
          -20.846742630004883,
          null,
          -20.846742630004883,
          -20.834299087524414,
          null,
          -15.406997680664062,
          -15.45007038116455,
          null,
          -15.45007038116455,
          -15.451756477355957,
          null,
          -13.613296508789062,
          -13.611719131469727,
          null,
          -16.926958084106445,
          -16.927133560180664,
          null,
          -17.86927032470703,
          -17.905254364013672,
          null,
          -17.892822265625,
          -17.8800106048584,
          null,
          -17.8800106048584,
          -17.880096435546875,
          null,
          -11.743522644042969,
          -11.700478553771973,
          null,
          -7.470860481262207,
          -7.47086238861084,
          null,
          -7.959760665893555,
          -7.988959312438965,
          null,
          -7.988959312438965,
          -7.9891462326049805,
          null,
          -10.837458610534668,
          -10.817041397094727,
          null,
          -10.817041397094727,
          -10.815701484680176,
          null,
          -14.129680633544922,
          -14.129619598388672,
          null,
          -14.758219718933105,
          -14.75819206237793,
          null,
          -15.187743186950684,
          -15.187746047973633,
          null,
          -16.646753311157227,
          -16.646757125854492,
          null,
          -16.89072608947754,
          -16.890735626220703,
          null,
          -17.046724319458008,
          -17.046485900878906,
          null,
          -25.929136276245117,
          -25.935338973999023,
          null,
          -22.22077178955078,
          -22.220867156982422,
          null,
          13.647552490234375,
          13.650432586669922,
          null,
          13.650432586669922,
          13.6483793258667,
          null,
          13.346467018127441,
          13.346553802490234,
          null,
          11.288722038269043,
          11.286700248718262,
          null,
          13.974862098693848,
          13.998401641845703,
          null,
          12.382257461547852,
          12.445144653320312,
          null,
          15.122637748718262,
          15.147546768188477,
          null,
          19.32992172241211,
          19.314924240112305,
          null,
          51.25755310058594,
          51.2983283996582,
          null,
          67.46487426757812,
          67.50345611572266,
          null,
          76.43876647949219,
          76.45720672607422,
          null,
          77.9722900390625,
          77.9722900390625,
          null,
          78.8298568725586,
          78.87310028076172,
          null,
          78.87310028076172,
          78.87299346923828,
          null,
          82.50349426269531,
          82.50357818603516,
          null,
          77.48050689697266,
          77.4803466796875,
          null,
          75.96025848388672,
          75.95999908447266,
          null,
          76.91325378417969,
          76.91326141357422,
          null,
          78.60212707519531,
          78.6020278930664,
          null,
          79.5165023803711,
          79.50862121582031,
          null,
          78.13392639160156,
          78.13331604003906,
          null,
          78.43359375,
          78.4349365234375,
          null,
          70.6180191040039,
          70.60372161865234,
          null,
          66.59612274169922,
          66.56892395019531,
          null,
          76.056396484375,
          76.08196258544922,
          null,
          66.34716796875,
          66.32453155517578,
          null,
          69.31768798828125,
          69.32186126708984,
          null,
          52.341060638427734,
          52.29427719116211,
          null,
          64.31047058105469,
          64.27046203613281,
          null,
          7.905177593231201,
          7.8627142906188965,
          null,
          6.264245986938477,
          6.260034084320068,
          null,
          70.97624206542969,
          71.01660919189453,
          null,
          32.322998046875,
          32.34861373901367,
          null,
          -28.654279708862305,
          -28.69186782836914,
          null,
          77.74151611328125,
          77.74151611328125,
          null,
          29.75181770324707,
          29.751808166503906,
          null,
          21.784912109375,
          21.784950256347656,
          null,
          13.689712524414062,
          13.689695358276367,
          null,
          -5.7878804206848145,
          -5.787872314453125,
          null,
          -18.27859115600586,
          -18.28887176513672,
          null,
          -14.960957527160645,
          -14.949122428894043,
          null,
          -3.9363698959350586,
          -3.936337471008301,
          null,
          -3.706012725830078,
          -3.701852798461914,
          null,
          -3.701852798461914,
          -3.6991255283355713,
          null,
          -4.017975330352783,
          -4.018088340759277,
          null,
          -7.290258884429932,
          -7.332507610321045,
          null,
          -7.969562530517578,
          -7.986930847167969,
          null,
          -9.725924491882324,
          -9.720831871032715,
          null,
          -14.20384693145752,
          -14.226473808288574,
          null,
          -13.580117225646973,
          -13.551559448242188,
          null,
          -26.23525047302246,
          -26.272323608398438,
          null,
          -28.156335830688477,
          -28.16015625,
          null,
          -18.11414909362793,
          -18.097946166992188,
          null,
          23.726240158081055,
          23.77279281616211,
          null,
          21.20475196838379,
          21.200273513793945,
          null,
          31.340972900390625,
          31.36869239807129,
          null,
          25.17313575744629,
          25.15388298034668,
          null,
          21.059009552001953,
          21.045398712158203,
          null,
          -3.0332164764404297,
          -2.9874093532562256,
          null,
          -2.9874093532562256,
          -2.9842724800109863,
          null,
          -3.6264266967773438,
          -3.6278982162475586,
          null,
          -1.5496160984039307,
          -1.5471181869506836,
          null,
          -2.938106060028076,
          -2.858271837234497,
          null,
          -2.858271837234497,
          -2.8617000579833984,
          null,
          -2.8617000579833984,
          -2.8719515800476074,
          null,
          -2.8719515800476074,
          -2.880784749984741,
          null,
          -2.880784749984741,
          -2.794074773788452,
          null,
          -2.794074773788452,
          -2.74763560295105,
          null,
          -25.545549392700195,
          -25.545549392700195,
          null,
          -25.94051170349121,
          -25.966337203979492,
          null,
          -25.966337203979492,
          -25.966867446899414,
          null,
          -25.435619354248047,
          -25.43556785583496,
          null,
          -27.413354873657227,
          -27.413467407226562,
          null,
          -26.838510513305664,
          -26.838510513305664,
          null,
          -25.697660446166992,
          -25.69767189025879,
          null,
          -25.45823097229004,
          -25.458078384399414,
          null,
          -26.378082275390625,
          -26.379413604736328,
          null,
          -25.325504302978516,
          -25.324874877929688,
          null,
          -25.27315902709961,
          -25.262224197387695,
          null,
          -49.28897476196289,
          -49.26338577270508,
          null,
          -49.26338577270508,
          -49.2603759765625,
          null,
          -49.67361068725586,
          -49.67365264892578,
          null,
          -49.894046783447266,
          -49.894073486328125,
          null,
          -49.81433868408203,
          -49.81433868408203,
          null,
          -38.90842819213867,
          -38.908443450927734,
          null,
          -35.43785095214844,
          -35.434207916259766,
          null,
          -37.213905334472656,
          -37.21427917480469,
          null,
          -37.17578887939453,
          -37.19007110595703,
          null,
          -28.390579223632812,
          -28.431306838989258,
          null,
          -28.431306838989258,
          -28.43511199951172,
          null,
          -25.557689666748047,
          -25.556529998779297,
          null,
          -26.822885513305664,
          -26.82776641845703,
          null,
          -25.239124298095703,
          -25.190889358520508,
          null,
          -25.190889358520508,
          -25.051036834716797,
          null,
          -25.051036834716797,
          -25.000261306762695,
          null,
          -22.203014373779297,
          -22.214200973510742,
          null,
          -22.214200973510742,
          -22.216106414794922,
          null,
          -22.16440773010254,
          -22.164199829101562,
          null,
          -23.989377975463867,
          -23.984703063964844,
          null,
          -23.984703063964844,
          -23.980918884277344,
          null,
          -23.99891471862793,
          -23.998878479003906,
          null,
          -13.419835090637207,
          -13.392462730407715,
          null,
          -13.688176155090332,
          -13.694947242736816,
          null,
          -16.296430587768555,
          -16.313400268554688,
          null,
          -19.83596420288086,
          -19.840848922729492,
          null,
          -33.67047119140625,
          -33.670475006103516,
          null,
          -35.182735443115234,
          -35.186256408691406,
          null,
          -35.186256408691406,
          -35.17961883544922,
          null,
          -11.420833587646484,
          -11.406639099121094,
          null,
          -11.563679695129395,
          -11.5506591796875,
          null,
          -14.923270225524902,
          -14.94739055633545,
          null,
          -61.982444763183594,
          -61.978294372558594,
          null,
          -61.978294372558594,
          -61.97978210449219,
          null,
          -62.1729736328125,
          -62.17310333251953,
          null,
          -61.89299011230469,
          -61.8912467956543,
          null,
          -63.08262634277344,
          -63.08249282836914,
          null,
          -67.4268798828125,
          -67.42890167236328,
          null,
          -67.4248046875,
          -67.44468688964844,
          null,
          -35.99693298339844,
          -36.042057037353516,
          null,
          -25.171476364135742,
          -25.171478271484375,
          null,
          -19.2912654876709,
          -19.291276931762695,
          null,
          -33.12968826293945,
          -33.1297492980957,
          null,
          -15.587739944458008,
          -15.587759971618652,
          null,
          -0.4104677140712738,
          -0.4506637454032898,
          null,
          -0.4506637454032898,
          -0.4511229693889618,
          null,
          0.6970795392990112,
          0.6978252530097961,
          null,
          -0.9098024368286133,
          -0.9097981452941895,
          null,
          -3.315706491470337,
          -3.315776824951172,
          null,
          -3.0430901050567627,
          -3.0408809185028076,
          null,
          -3.7553904056549072,
          -3.7506563663482666,
          null,
          -15.36719036102295,
          -15.370467185974121,
          null,
          -9.8301362991333,
          -9.786969184875488,
          null,
          -9.786969184875488,
          -9.784802436828613,
          null,
          -15.36719036102295,
          -15.367194175720215,
          null,
          -10.918318748474121,
          -10.956786155700684,
          null,
          -10.798422813415527,
          -10.856505393981934,
          null,
          -8.997982025146484,
          -9.034589767456055,
          null,
          -8.153119087219238,
          -8.243581771850586,
          null,
          -8.243581771850586,
          -8.243569374084473,
          null,
          -6.352230548858643,
          -6.350130558013916,
          null,
          -4.908771991729736,
          -4.906862258911133,
          null,
          -4.266617774963379,
          -4.315474510192871,
          null,
          -2.9953134059906006,
          -3.0175983905792236,
          null,
          -3.0175983905792236,
          -3.0217058658599854,
          null,
          -1.8677771091461182,
          -1.920364499092102,
          null,
          -1.1155458688735962,
          -1.089785099029541,
          null,
          -1.089785099029541,
          -1.090289831161499,
          null,
          -1.947224497795105,
          -1.9473086595535278,
          null,
          -0.7217195630073547,
          -0.7257004976272583,
          null,
          -0.7257004976272583,
          -0.7972888350486755,
          null,
          -0.8239641189575195,
          -0.8474447727203369,
          null,
          -0.8474447727203369,
          -0.8476167917251587,
          null,
          0.08013483136892319,
          0.07103168964385986,
          null,
          0.6674203872680664,
          0.6585092544555664,
          null,
          0.8270955681800842,
          0.7802444696426392,
          null,
          1.965604305267334,
          1.8393031358718872,
          null,
          1.8393031358718872,
          1.8765203952789307,
          null,
          2.1894867420196533,
          2.1996541023254395,
          null,
          2.711723804473877,
          2.6570022106170654,
          null,
          3.0804061889648438,
          3.112391233444214,
          null,
          6.727444171905518,
          6.7124762535095215,
          null,
          6.915557384490967,
          6.900750637054443,
          null,
          9.10120677947998,
          8.949556350708008,
          null,
          8.949556350708008,
          8.941214561462402,
          null,
          11.588595390319824,
          11.617335319519043,
          null,
          14.719252586364746,
          14.67126178741455,
          null,
          14.67126178741455,
          14.630231857299805,
          null,
          14.630231857299805,
          14.60035514831543,
          null,
          14.60035514831543,
          14.577502250671387,
          null,
          14.577502250671387,
          14.562262535095215,
          null,
          14.562262535095215,
          14.529486656188965,
          null
         ],
         "z": [
          169.49227905273438,
          169.21214294433594,
          null,
          169.21214294433594,
          169.09747314453125,
          null,
          169.09747314453125,
          168.88536071777344,
          null,
          168.88536071777344,
          168.8734130859375,
          null,
          168.8734130859375,
          168.84622192382812,
          null,
          168.6678924560547,
          168.58934020996094,
          null,
          168.58934020996094,
          168.57638549804688,
          null,
          168.57638549804688,
          168.55455017089844,
          null,
          168.55455017089844,
          168.5471954345703,
          null,
          168.5471954345703,
          168.50985717773438,
          null,
          168.50985717773438,
          168.5055694580078,
          null,
          168.5055694580078,
          168.48545837402344,
          null,
          168.48545837402344,
          168.43865966796875,
          null,
          168.43865966796875,
          168.4429168701172,
          null,
          168.4429168701172,
          168.4715118408203,
          null,
          168.4715118408203,
          168.79318237304688,
          null,
          168.79318237304688,
          168.9936981201172,
          null,
          168.9936981201172,
          169.3893280029297,
          null,
          169.3893280029297,
          169.9673309326172,
          null,
          169.9673309326172,
          169.98634338378906,
          null,
          169.98634338378906,
          170.21591186523438,
          null,
          170.21591186523438,
          170.65682983398438,
          null,
          170.65682983398438,
          170.904052734375,
          null,
          170.904052734375,
          170.94970703125,
          null,
          170.94970703125,
          171.2452392578125,
          null,
          171.2452392578125,
          171.5828094482422,
          null,
          171.5828094482422,
          171.84239196777344,
          null,
          171.84239196777344,
          171.9982147216797,
          null,
          171.9982147216797,
          172.1431121826172,
          null,
          172.1431121826172,
          172.2222900390625,
          null,
          172.2222900390625,
          172.26486206054688,
          null,
          172.26486206054688,
          172.32691955566406,
          null,
          172.32691955566406,
          172.3712158203125,
          null,
          172.3712158203125,
          172.41250610351562,
          null,
          172.41250610351562,
          172.44525146484375,
          null,
          172.44525146484375,
          172.51251220703125,
          null,
          172.51251220703125,
          172.610595703125,
          null,
          172.610595703125,
          172.61553955078125,
          null,
          172.61553955078125,
          172.61585998535156,
          null,
          176.65467834472656,
          176.63246154785156,
          null,
          176.63246154785156,
          176.6308135986328,
          null,
          178.86114501953125,
          178.86126708984375,
          null,
          178.47621154785156,
          178.4760284423828,
          null,
          178.44491577148438,
          178.4458770751953,
          null,
          173.23805236816406,
          173.24578857421875,
          null,
          185.2819366455078,
          185.3224334716797,
          null,
          185.3224334716797,
          185.3229522705078,
          null,
          182.76417541503906,
          182.7625274658203,
          null,
          187.66561889648438,
          187.67205810546875,
          null,
          172.8257598876953,
          172.8191375732422,
          null,
          172.8191375732422,
          172.87135314941406,
          null,
          195.65170288085938,
          195.6215057373047,
          null,
          195.6215057373047,
          195.6201171875,
          null,
          197.5201873779297,
          197.52024841308594,
          null,
          196.90489196777344,
          196.90469360351562,
          null,
          189.19366455078125,
          189.1957550048828,
          null,
          176.5500030517578,
          176.56085205078125,
          null,
          173.8670654296875,
          173.8670654296875,
          null,
          197.5433807373047,
          197.5433807373047,
          null,
          197.3395233154297,
          197.33950805664062,
          null,
          10.573854446411133,
          10.535959243774414,
          null,
          10.535959243774414,
          10.531826972961426,
          null,
          14.44450855255127,
          14.448426246643066,
          null,
          14.101051330566406,
          14.080400466918945,
          null,
          14.627911567687988,
          14.36751937866211,
          null,
          14.36751937866211,
          14.48409366607666,
          null,
          14.48409366607666,
          14.493834495544434,
          null,
          14.493834495544434,
          14.494322776794434,
          null,
          120.66207122802734,
          120.66014862060547,
          null,
          215.2898712158203,
          215.2899169921875,
          null,
          215.4228973388672,
          215.44468688964844,
          null,
          215.44468688964844,
          215.44049072265625,
          null,
          210.4310760498047,
          210.3898468017578,
          null,
          263.6931457519531,
          263.70220947265625,
          null,
          264.2974853515625,
          264.3173828125,
          null,
          262.8919982910156,
          262.8821716308594,
          null,
          270.85430908203125,
          270.88018798828125,
          null,
          271.1390380859375,
          271.1402587890625,
          null,
          254.16339111328125,
          254.16522216796875,
          null,
          259.7619323730469,
          259.7751159667969,
          null,
          252.56756591796875,
          252.55833435058594,
          null,
          243.2052001953125,
          243.20008850097656,
          null,
          238.88031005859375,
          238.85365295410156,
          null,
          268.4384460449219,
          268.4715881347656,
          null,
          290.6669006347656,
          290.683349609375,
          null,
          239.89639282226562,
          239.86154174804688,
          null,
          265.6322937011719,
          265.6669006347656,
          null,
          220.41128540039062,
          220.43984985351562,
          null,
          220.43984985351562,
          220.4431610107422,
          null,
          218.3580322265625,
          218.35804748535156,
          null,
          218.2574920654297,
          218.2574920654297,
          null,
          217.16192626953125,
          217.16139221191406,
          null,
          219.22630310058594,
          219.22816467285156,
          null,
          202.76715087890625,
          202.67510986328125,
          null,
          202.67510986328125,
          202.6798095703125,
          null,
          176.61952209472656,
          176.62130737304688,
          null,
          176.62130737304688,
          176.61581420898438,
          null,
          176.31591796875,
          176.31851196289062,
          null,
          153.09474182128906,
          153.0948028564453,
          null,
          150.97262573242188,
          150.90060424804688,
          null,
          177.03192138671875,
          177.0556182861328,
          null,
          182.3797607421875,
          182.08529663085938,
          null,
          182.08529663085938,
          181.85134887695312,
          null,
          181.85134887695312,
          181.91921997070312,
          null,
          181.91921997070312,
          181.89382934570312,
          null,
          182.06402587890625,
          182.09182739257812,
          null,
          182.09182739257812,
          182.08985900878906,
          null,
          85.65277099609375,
          85.60627746582031,
          null,
          44.92737579345703,
          44.927364349365234,
          null,
          46.15327453613281,
          46.15524673461914,
          null,
          46.15524673461914,
          46.1571159362793,
          null,
          70.4179916381836,
          70.41181182861328,
          null,
          70.41181182861328,
          70.41075134277344,
          null,
          71.00692749023438,
          71.00716400146484,
          null,
          67.28982543945312,
          67.2898178100586,
          null,
          59.01734161376953,
          59.01740646362305,
          null,
          58.73984146118164,
          58.73903274536133,
          null,
          58.23295974731445,
          58.23311233520508,
          null,
          57.712982177734375,
          57.71379470825195,
          null,
          56.79916000366211,
          56.854061126708984,
          null,
          56.854061126708984,
          56.80394744873047,
          null,
          105.67823028564453,
          105.64183044433594,
          null,
          105.64183044433594,
          105.64067840576172,
          null,
          105.68733215332031,
          105.68738555908203,
          null,
          105.6563949584961,
          105.6563949584961,
          null,
          102.82110595703125,
          102.82105255126953,
          null,
          103.63131713867188,
          103.63121032714844,
          null,
          103.80004119873047,
          103.8001937866211,
          null,
          104.15384674072266,
          104.15401458740234,
          null,
          92.52394104003906,
          92.52165985107422,
          null,
          93.272216796875,
          93.34123229980469,
          null,
          76.02668762207031,
          76.02890014648438,
          null,
          64.25943756103516,
          64.27314758300781,
          null,
          60.25352096557617,
          60.25370788574219,
          null,
          58.520694732666016,
          58.5828857421875,
          null,
          56.69157028198242,
          56.84628677368164,
          null,
          56.84628677368164,
          56.94988250732422,
          null,
          56.70883560180664,
          56.761295318603516,
          null,
          19.305965423583984,
          19.2672119140625,
          null,
          27.62544059753418,
          27.66748046875,
          null,
          27.66748046875,
          27.66865348815918,
          null,
          24.569780349731445,
          24.56978416442871,
          null,
          14.007220268249512,
          14.007217407226562,
          null,
          12.557068824768066,
          12.516510963439941,
          null,
          12.516510963439941,
          12.513216972351074,
          null,
          16.560640335083008,
          16.560911178588867,
          null,
          16.580055236816406,
          16.58213996887207,
          null,
          14.960786819458008,
          14.969637870788574,
          null,
          54.150569915771484,
          54.19414520263672,
          null,
          48.15396499633789,
          48.110740661621094,
          null,
          48.9305305480957,
          48.94101333618164,
          null,
          83.98078155517578,
          83.9317398071289,
          null,
          84.0608901977539,
          84.08509826660156,
          null,
          50.73127365112305,
          50.69253158569336,
          null,
          50.53567123413086,
          50.527000427246094,
          null,
          53.399845123291016,
          53.42984390258789,
          null,
          39.17213821411133,
          39.125282287597656,
          null,
          63.177642822265625,
          63.211116790771484,
          null,
          45.30022048950195,
          45.2650260925293,
          null,
          48.46903991699219,
          48.47998046875,
          null,
          40.523929595947266,
          40.50740051269531,
          null,
          34.935890197753906,
          34.91361999511719,
          null,
          43.12006759643555,
          43.156494140625,
          null,
          30.738418579101562,
          30.689849853515625,
          null,
          43.24384307861328,
          43.27484130859375,
          null,
          42.45017623901367,
          42.439300537109375,
          null,
          46.86897277832031,
          46.907108306884766,
          null,
          35.74464797973633,
          35.69520568847656,
          null,
          42.67947006225586,
          42.645565032958984,
          null,
          69.20418548583984,
          69.17513275146484,
          null,
          68.57061767578125,
          68.56949615478516,
          null,
          87.935546875,
          87.97213745117188,
          null,
          80.56596374511719,
          80.52696228027344,
          null,
          88.47997283935547,
          88.46131134033203,
          null,
          86.8135986328125,
          86.79842376708984,
          null,
          89.33687591552734,
          89.35221862792969,
          null,
          65.17694091796875,
          65.15821838378906,
          null,
          66.30146789550781,
          66.31637573242188,
          null,
          66.4129867553711,
          66.41825103759766,
          null,
          48.52716064453125,
          48.484153747558594,
          null,
          85.9068603515625,
          85.95109558105469,
          null,
          42.107913970947266,
          42.10789489746094,
          null,
          55.91661834716797,
          55.91663360595703,
          null,
          54.091304779052734,
          54.09071731567383,
          null,
          54.09071731567383,
          54.09457015991211,
          null,
          54.11600875854492,
          54.1183967590332,
          null,
          50.82425308227539,
          50.84162139892578,
          null,
          45.83045196533203,
          45.83652877807617,
          null,
          17.086362838745117,
          17.086894989013672,
          null,
          10.163116455078125,
          10.230740547180176,
          null,
          10.230740547180176,
          10.260385513305664,
          null,
          172.61553955078125,
          172.59844970703125,
          null,
          166.49546813964844,
          166.49537658691406,
          null,
          169.0083770751953,
          168.9728546142578,
          null,
          168.9728546142578,
          168.97044372558594,
          null,
          169.32899475097656,
          169.32911682128906,
          null,
          171.07382202148438,
          171.07432556152344,
          null,
          166.51776123046875,
          166.4775848388672,
          null,
          166.4775848388672,
          166.46983337402344,
          null,
          167.7281036376953,
          167.7280731201172,
          null,
          174.44448852539062,
          174.4445037841797,
          null,
          180.78135681152344,
          180.7923126220703,
          null,
          176.539794921875,
          176.53854370117188,
          null,
          168.48785400390625,
          168.47616577148438,
          null,
          169.08863830566406,
          169.08828735351562,
          null,
          170.70318603515625,
          170.81910705566406,
          null,
          170.81910705566406,
          170.94142150878906,
          null,
          170.94142150878906,
          170.98387145996094,
          null,
          161.65853881835938,
          161.6584930419922,
          null,
          150.45301818847656,
          150.41726684570312,
          null,
          150.41726684570312,
          150.41493225097656,
          null,
          154.38902282714844,
          154.3889617919922,
          null,
          168.19598388671875,
          168.22877502441406,
          null,
          167.42092895507812,
          167.39891052246094,
          null,
          181.65943908691406,
          181.65162658691406,
          null,
          144.0225067138672,
          143.99899291992188,
          null,
          144.37615966796875,
          144.37681579589844,
          null,
          119.50460815429688,
          119.47771453857422,
          null,
          132.93067932128906,
          132.9404754638672,
          null,
          131.76202392578125,
          131.75550842285156,
          null,
          136.90199279785156,
          136.90667724609375,
          null,
          134.5592803955078,
          134.5139617919922,
          null,
          146.57273864746094,
          146.61065673828125,
          null,
          135.98272705078125,
          135.9554901123047,
          null,
          141.9012908935547,
          141.9040069580078,
          null,
          144.23960876464844,
          144.243896484375,
          null,
          142.94625854492188,
          142.93800354003906,
          null,
          143.74830627441406,
          143.75238037109375,
          null,
          125.65994262695312,
          125.64291381835938,
          null,
          165.7246551513672,
          165.75991821289062,
          null,
          165.89187622070312,
          165.8931121826172,
          null,
          182.1113739013672,
          182.13824462890625,
          null,
          196.93887329101562,
          196.95608520507812,
          null,
          146.66221618652344,
          146.61822509765625,
          null,
          147.31358337402344,
          147.35548400878906,
          null,
          264.14410400390625,
          264.1719970703125,
          null,
          268.7091369628906,
          268.71478271484375,
          null,
          181.66139221191406,
          181.66140747070312,
          null,
          171.5475311279297,
          171.5475311279297,
          null,
          133.15602111816406,
          133.20176696777344,
          null,
          133.20176696777344,
          133.19947814941406,
          null,
          133.01443481445312,
          133.0140380859375,
          null,
          133.0777130126953,
          133.0778350830078,
          null,
          131.8489227294922,
          131.84881591796875,
          null,
          132.7185821533203,
          132.7185821533203,
          null,
          132.5779571533203,
          132.57774353027344,
          null,
          132.98190307617188,
          132.9818572998047,
          null,
          134.08868408203125,
          134.0886993408203,
          null,
          136.05026245117188,
          136.04925537109375,
          null,
          141.397216796875,
          141.397216796875,
          null,
          154.1602783203125,
          154.1603546142578,
          null,
          154.343017578125,
          154.34486389160156,
          null,
          154.6138916015625,
          154.6138458251953,
          null,
          160.87124633789062,
          160.86737060546875,
          null,
          160.86737060546875,
          160.8349151611328,
          null,
          161.50941467285156,
          161.503173828125,
          null,
          166.47242736816406,
          166.49212646484375,
          null,
          166.49212646484375,
          166.48992919921875,
          null,
          165.0467529296875,
          165.04664611816406,
          null,
          165.6222686767578,
          165.62225341796875,
          null,
          166.49163818359375,
          166.49160766601562,
          null,
          168.94363403320312,
          168.94313049316406,
          null,
          170.06158447265625,
          170.06167602539062,
          null,
          182.93511962890625,
          182.9413604736328,
          null,
          182.48028564453125,
          182.4869842529297,
          null,
          182.09521484375,
          182.08396911621094,
          null,
          178.2024688720703,
          178.31622314453125,
          null,
          178.31622314453125,
          178.51632690429688,
          null,
          178.51632690429688,
          178.5872039794922,
          null,
          178.5872039794922,
          178.61819458007812,
          null,
          189.05099487304688,
          189.04388427734375,
          null,
          189.04388427734375,
          189.04000854492188,
          null,
          189.34710693359375,
          189.34744262695312,
          null,
          188.52005004882812,
          188.5202178955078,
          null,
          171.09713745117188,
          171.12896728515625,
          null,
          171.13299560546875,
          171.1622772216797,
          null,
          171.1622772216797,
          171.1622772216797,
          null,
          168.56874084472656,
          168.59364318847656,
          null,
          172.94187927246094,
          172.94187927246094,
          null,
          173.61497497558594,
          173.65518188476562,
          null,
          173.65518188476562,
          173.656494140625,
          null,
          180.42245483398438,
          180.4449462890625,
          null,
          180.4449462890625,
          180.44627380371094,
          null,
          176.97830200195312,
          176.97833251953125,
          null,
          176.2512969970703,
          176.2510528564453,
          null,
          176.8992462158203,
          176.8992919921875,
          null,
          178.26585388183594,
          178.26585388183594,
          null,
          179.361328125,
          179.36154174804688,
          null,
          177.13743591308594,
          177.1371307373047,
          null,
          179.4936981201172,
          179.4973602294922,
          null,
          176.33404541015625,
          176.3338165283203,
          null,
          169.48898315429688,
          169.530517578125,
          null,
          169.530517578125,
          169.5312042236328,
          null,
          165.1478271484375,
          165.1476593017578,
          null,
          165.7703094482422,
          165.76974487304688,
          null,
          167.06607055664062,
          167.06228637695312,
          null,
          167.8135986328125,
          167.8040313720703,
          null,
          141.2877197265625,
          141.24880981445312,
          null,
          134.74166870117188,
          134.77537536621094,
          null,
          139.98208618164062,
          139.95559692382812,
          null,
          150.87557983398438,
          150.9016571044922,
          null,
          170.2185516357422,
          170.25840759277344,
          null,
          173.63546752929688,
          173.63546752929688,
          null,
          173.41363525390625,
          173.40245056152344,
          null,
          173.40245056152344,
          173.40264892578125,
          null,
          168.064453125,
          168.06471252441406,
          null,
          164.98756408691406,
          164.98745727539062,
          null,
          164.17140197753906,
          164.1713104248047,
          null,
          164.3699188232422,
          164.3699951171875,
          null,
          162.37240600585938,
          162.3723907470703,
          null,
          166.56643676757812,
          166.5509490966797,
          null,
          172.25515747070312,
          172.2554168701172,
          null,
          162.24700927734375,
          162.2025146484375,
          null,
          177.02413940429688,
          177.05125427246094,
          null,
          178.08201599121094,
          178.08901977539062,
          null,
          164.80259704589844,
          164.7667999267578,
          null,
          176.37550354003906,
          176.40248107910156,
          null,
          211.58168029785156,
          211.6307830810547,
          null,
          59.749332427978516,
          59.7509880065918,
          null,
          52.50748825073242,
          52.5173454284668,
          null,
          18.495590209960938,
          18.469959259033203,
          null,
          37.142696380615234,
          37.191898345947266,
          null,
          29.956567764282227,
          29.960105895996094,
          null,
          31.032365798950195,
          31.016870498657227,
          null,
          30.111412048339844,
          30.110855102539062,
          null,
          185.21046447753906,
          185.21047973632812,
          null,
          153.95042419433594,
          153.95045471191406,
          null,
          129.22384643554688,
          129.2238006591797,
          null,
          133.6434326171875,
          133.64341735839844,
          null,
          173.96176147460938,
          173.9617919921875,
          null,
          152.59461975097656,
          152.5461883544922,
          null,
          139.3624725341797,
          139.31558227539062,
          null,
          118.31827545166016,
          118.31825256347656,
          null,
          118.96239471435547,
          118.96975708007812,
          null,
          118.96975708007812,
          118.96896362304688,
          null,
          118.41065216064453,
          118.41068267822266,
          null,
          116.34877014160156,
          116.32395935058594,
          null,
          114.84949493408203,
          114.80929565429688,
          null,
          104.10216522216797,
          104.07036590576172,
          null,
          112.2014389038086,
          112.24247741699219,
          null,
          111.9352035522461,
          111.921630859375,
          null,
          118.11394500732422,
          118.13204956054688,
          null,
          96.27217102050781,
          96.22785949707031,
          null,
          124.39971160888672,
          124.44515228271484,
          null,
          136.5218505859375,
          136.53529357910156,
          null,
          165.08956909179688,
          165.1393585205078,
          null,
          179.33111572265625,
          179.36990356445312,
          null,
          180.858642578125,
          180.86326599121094,
          null,
          195.24356079101562,
          195.29136657714844,
          null,
          116.6043930053711,
          116.58698272705078,
          null,
          116.58698272705078,
          116.58509826660156,
          null,
          116.82978820800781,
          116.829833984375,
          null,
          117.28870391845703,
          117.29093170166016,
          null,
          114.6500473022461,
          114.30106353759766,
          null,
          114.30106353759766,
          114.08935546875,
          null,
          114.08935546875,
          114.2796630859375,
          null,
          114.2796630859375,
          114.48223876953125,
          null,
          114.48223876953125,
          114.54991149902344,
          null,
          114.54991149902344,
          114.52216339111328,
          null,
          167.27706909179688,
          167.27708435058594,
          null,
          169.51373291015625,
          169.5453338623047,
          null,
          169.5453338623047,
          169.5449676513672,
          null,
          168.89578247070312,
          168.89576721191406,
          null,
          168.94898986816406,
          168.9490203857422,
          null,
          168.6714630126953,
          168.6714630126953,
          null,
          168.18447875976562,
          168.18446350097656,
          null,
          168.12265014648438,
          168.12271118164062,
          null,
          167.32830810546875,
          167.32757568359375,
          null,
          167.7615966796875,
          167.7624969482422,
          null,
          167.7310333251953,
          167.74383544921875,
          null,
          168.21495056152344,
          168.17864990234375,
          null,
          168.17864990234375,
          168.1795654296875,
          null,
          168.76058959960938,
          168.76065063476562,
          null,
          169.06280517578125,
          169.06280517578125,
          null,
          169.07382202148438,
          169.07382202148438,
          null,
          168.0509490966797,
          168.0509490966797,
          null,
          168.10707092285156,
          168.10755920410156,
          null,
          167.6861572265625,
          167.68600463867188,
          null,
          167.82711791992188,
          167.82852172851562,
          null,
          167.0757598876953,
          167.08795166015625,
          null,
          167.08795166015625,
          167.08555603027344,
          null,
          166.2284393310547,
          166.22763061523438,
          null,
          167.55606079101562,
          167.5615234375,
          null,
          165.6305694580078,
          165.4029541015625,
          null,
          165.4029541015625,
          165.56558227539062,
          null,
          165.56558227539062,
          165.58718872070312,
          null,
          167.4386444091797,
          167.3919677734375,
          null,
          167.3919677734375,
          167.39085388183594,
          null,
          167.59971618652344,
          167.59999084472656,
          null,
          166.5740966796875,
          166.62290954589844,
          null,
          166.62290954589844,
          166.62405395507812,
          null,
          166.4745330810547,
          166.47451782226562,
          null,
          150.5660400390625,
          150.5283203125,
          null,
          148.36483764648438,
          148.31529235839844,
          null,
          141.56396484375,
          141.51992797851562,
          null,
          135.85386657714844,
          135.83103942871094,
          null,
          113.69490814208984,
          113.69490814208984,
          null,
          112.25523376464844,
          112.25188446044922,
          null,
          112.25188446044922,
          112.25728607177734,
          null,
          90.19629669189453,
          90.15996551513672,
          null,
          90.44322967529297,
          90.49078369140625,
          null,
          68.85367584228516,
          68.81197357177734,
          null,
          141.2002410888672,
          141.22372436523438,
          null,
          141.22372436523438,
          141.225830078125,
          null,
          140.1226043701172,
          140.1220245361328,
          null,
          141.2545166015625,
          141.25823974609375,
          null,
          139.3540802001953,
          139.35403442382812,
          null,
          136.86630249023438,
          136.86814880371094,
          null,
          136.82565307617188,
          136.82615661621094,
          null,
          112.9577865600586,
          112.91424560546875,
          null,
          124.85790252685547,
          124.85790252685547,
          null,
          138.40098571777344,
          138.40097045898438,
          null,
          162.97076416015625,
          162.9707489013672,
          null,
          167.4604034423828,
          167.46041870117188,
          null,
          187.8877410888672,
          187.91326904296875,
          null,
          187.91326904296875,
          187.9176483154297,
          null,
          187.1841583251953,
          187.18421936035156,
          null,
          184.12986755371094,
          184.12986755371094,
          null,
          181.83718872070312,
          181.8372039794922,
          null,
          180.114501953125,
          180.11627197265625,
          null,
          177.9640655517578,
          177.96473693847656,
          null,
          172.61553955078125,
          172.61720275878906,
          null,
          170.03733825683594,
          170.0131378173828,
          null,
          170.0131378173828,
          170.0145721435547,
          null,
          172.61553955078125,
          172.6155242919922,
          null,
          170.94970703125,
          170.95184326171875,
          null,
          170.904052734375,
          170.88304138183594,
          null,
          170.21591186523438,
          170.21170043945312,
          null,
          169.98634338378906,
          170.0103759765625,
          null,
          170.0103759765625,
          170.01043701171875,
          null,
          169.3893280029297,
          169.37718200683594,
          null,
          168.9936981201172,
          169.01844787597656,
          null,
          168.79318237304688,
          168.83094787597656,
          null,
          168.4715118408203,
          168.49063110351562,
          null,
          168.49063110351562,
          168.49530029296875,
          null,
          168.4429168701172,
          168.450927734375,
          null,
          167.07850646972656,
          167.0360107421875,
          null,
          167.0360107421875,
          167.0358123779297,
          null,
          168.45037841796875,
          168.45042419433594,
          null,
          168.43865966796875,
          168.3985137939453,
          null,
          168.3985137939453,
          168.3693389892578,
          null,
          168.3319091796875,
          168.2920379638672,
          null,
          168.2920379638672,
          168.29202270507812,
          null,
          168.48545837402344,
          168.5410614013672,
          null,
          168.5055694580078,
          168.53038024902344,
          null,
          168.50985717773438,
          168.45693969726562,
          null,
          168.5471954345703,
          168.5567169189453,
          null,
          168.5567169189453,
          168.60545349121094,
          null,
          168.55455017089844,
          168.51568603515625,
          null,
          168.57638549804688,
          168.60472106933594,
          null,
          168.58934020996094,
          168.59310913085938,
          null,
          168.8734130859375,
          168.84909057617188,
          null,
          168.88536071777344,
          168.92420959472656,
          null,
          169.09747314453125,
          169.1156005859375,
          null,
          169.1156005859375,
          169.11697387695312,
          null,
          169.21214294433594,
          169.21470642089844,
          null,
          169.49227905273438,
          169.3474578857422,
          null,
          169.3474578857422,
          169.2330322265625,
          null,
          169.2330322265625,
          169.14035034179688,
          null,
          169.14035034179688,
          169.0658416748047,
          null,
          169.0658416748047,
          169.0059051513672,
          null,
          169.0059051513672,
          168.8381805419922,
          null
         ]
        }
       ],
       "layout": {
        "height": 768,
        "legend": {
         "orientation": "h"
        },
        "scene": {
         "aspectmode": "auto",
         "aspectratio": {
          "x": 1.052565120305565,
          "y": 0.6358785105399652,
          "z": 1.4940904071510808
         },
         "camera": {
          "center": {
           "x": 0,
           "y": 0,
           "z": 0
          },
          "eye": {
           "x": 0.42796986625544814,
           "y": 0.4279698662554481,
           "z": 0.4279698662554481
          },
          "projection": {
           "type": "perspective"
          },
          "up": {
           "x": 0,
           "y": 0,
           "z": 1
          }
         }
        },
        "template": {
         "data": {
          "bar": [
           {
            "error_x": {
             "color": "#2a3f5f"
            },
            "error_y": {
             "color": "#2a3f5f"
            },
            "marker": {
             "line": {
              "color": "#E5ECF6",
              "width": 0.5
             },
             "pattern": {
              "fillmode": "overlay",
              "size": 10,
              "solidity": 0.2
             }
            },
            "type": "bar"
           }
          ],
          "barpolar": [
           {
            "marker": {
             "line": {
              "color": "#E5ECF6",
              "width": 0.5
             },
             "pattern": {
              "fillmode": "overlay",
              "size": 10,
              "solidity": 0.2
             }
            },
            "type": "barpolar"
           }
          ],
          "carpet": [
           {
            "aaxis": {
             "endlinecolor": "#2a3f5f",
             "gridcolor": "white",
             "linecolor": "white",
             "minorgridcolor": "white",
             "startlinecolor": "#2a3f5f"
            },
            "baxis": {
             "endlinecolor": "#2a3f5f",
             "gridcolor": "white",
             "linecolor": "white",
             "minorgridcolor": "white",
             "startlinecolor": "#2a3f5f"
            },
            "type": "carpet"
           }
          ],
          "choropleth": [
           {
            "colorbar": {
             "outlinewidth": 0,
             "ticks": ""
            },
            "type": "choropleth"
           }
          ],
          "contour": [
           {
            "colorbar": {
             "outlinewidth": 0,
             "ticks": ""
            },
            "colorscale": [
             [
              0,
              "#0d0887"
             ],
             [
              0.1111111111111111,
              "#46039f"
             ],
             [
              0.2222222222222222,
              "#7201a8"
             ],
             [
              0.3333333333333333,
              "#9c179e"
             ],
             [
              0.4444444444444444,
              "#bd3786"
             ],
             [
              0.5555555555555556,
              "#d8576b"
             ],
             [
              0.6666666666666666,
              "#ed7953"
             ],
             [
              0.7777777777777778,
              "#fb9f3a"
             ],
             [
              0.8888888888888888,
              "#fdca26"
             ],
             [
              1,
              "#f0f921"
             ]
            ],
            "type": "contour"
           }
          ],
          "contourcarpet": [
           {
            "colorbar": {
             "outlinewidth": 0,
             "ticks": ""
            },
            "type": "contourcarpet"
           }
          ],
          "heatmap": [
           {
            "colorbar": {
             "outlinewidth": 0,
             "ticks": ""
            },
            "colorscale": [
             [
              0,
              "#0d0887"
             ],
             [
              0.1111111111111111,
              "#46039f"
             ],
             [
              0.2222222222222222,
              "#7201a8"
             ],
             [
              0.3333333333333333,
              "#9c179e"
             ],
             [
              0.4444444444444444,
              "#bd3786"
             ],
             [
              0.5555555555555556,
              "#d8576b"
             ],
             [
              0.6666666666666666,
              "#ed7953"
             ],
             [
              0.7777777777777778,
              "#fb9f3a"
             ],
             [
              0.8888888888888888,
              "#fdca26"
             ],
             [
              1,
              "#f0f921"
             ]
            ],
            "type": "heatmap"
           }
          ],
          "heatmapgl": [
           {
            "colorbar": {
             "outlinewidth": 0,
             "ticks": ""
            },
            "colorscale": [
             [
              0,
              "#0d0887"
             ],
             [
              0.1111111111111111,
              "#46039f"
             ],
             [
              0.2222222222222222,
              "#7201a8"
             ],
             [
              0.3333333333333333,
              "#9c179e"
             ],
             [
              0.4444444444444444,
              "#bd3786"
             ],
             [
              0.5555555555555556,
              "#d8576b"
             ],
             [
              0.6666666666666666,
              "#ed7953"
             ],
             [
              0.7777777777777778,
              "#fb9f3a"
             ],
             [
              0.8888888888888888,
              "#fdca26"
             ],
             [
              1,
              "#f0f921"
             ]
            ],
            "type": "heatmapgl"
           }
          ],
          "histogram": [
           {
            "marker": {
             "pattern": {
              "fillmode": "overlay",
              "size": 10,
              "solidity": 0.2
             }
            },
            "type": "histogram"
           }
          ],
          "histogram2d": [
           {
            "colorbar": {
             "outlinewidth": 0,
             "ticks": ""
            },
            "colorscale": [
             [
              0,
              "#0d0887"
             ],
             [
              0.1111111111111111,
              "#46039f"
             ],
             [
              0.2222222222222222,
              "#7201a8"
             ],
             [
              0.3333333333333333,
              "#9c179e"
             ],
             [
              0.4444444444444444,
              "#bd3786"
             ],
             [
              0.5555555555555556,
              "#d8576b"
             ],
             [
              0.6666666666666666,
              "#ed7953"
             ],
             [
              0.7777777777777778,
              "#fb9f3a"
             ],
             [
              0.8888888888888888,
              "#fdca26"
             ],
             [
              1,
              "#f0f921"
             ]
            ],
            "type": "histogram2d"
           }
          ],
          "histogram2dcontour": [
           {
            "colorbar": {
             "outlinewidth": 0,
             "ticks": ""
            },
            "colorscale": [
             [
              0,
              "#0d0887"
             ],
             [
              0.1111111111111111,
              "#46039f"
             ],
             [
              0.2222222222222222,
              "#7201a8"
             ],
             [
              0.3333333333333333,
              "#9c179e"
             ],
             [
              0.4444444444444444,
              "#bd3786"
             ],
             [
              0.5555555555555556,
              "#d8576b"
             ],
             [
              0.6666666666666666,
              "#ed7953"
             ],
             [
              0.7777777777777778,
              "#fb9f3a"
             ],
             [
              0.8888888888888888,
              "#fdca26"
             ],
             [
              1,
              "#f0f921"
             ]
            ],
            "type": "histogram2dcontour"
           }
          ],
          "mesh3d": [
           {
            "colorbar": {
             "outlinewidth": 0,
             "ticks": ""
            },
            "type": "mesh3d"
           }
          ],
          "parcoords": [
           {
            "line": {
             "colorbar": {
              "outlinewidth": 0,
              "ticks": ""
             }
            },
            "type": "parcoords"
           }
          ],
          "pie": [
           {
            "automargin": true,
            "type": "pie"
           }
          ],
          "scatter": [
           {
            "marker": {
             "colorbar": {
              "outlinewidth": 0,
              "ticks": ""
             }
            },
            "type": "scatter"
           }
          ],
          "scatter3d": [
           {
            "line": {
             "colorbar": {
              "outlinewidth": 0,
              "ticks": ""
             }
            },
            "marker": {
             "colorbar": {
              "outlinewidth": 0,
              "ticks": ""
             }
            },
            "type": "scatter3d"
           }
          ],
          "scattercarpet": [
           {
            "marker": {
             "colorbar": {
              "outlinewidth": 0,
              "ticks": ""
             }
            },
            "type": "scattercarpet"
           }
          ],
          "scattergeo": [
           {
            "marker": {
             "colorbar": {
              "outlinewidth": 0,
              "ticks": ""
             }
            },
            "type": "scattergeo"
           }
          ],
          "scattergl": [
           {
            "marker": {
             "colorbar": {
              "outlinewidth": 0,
              "ticks": ""
             }
            },
            "type": "scattergl"
           }
          ],
          "scattermapbox": [
           {
            "marker": {
             "colorbar": {
              "outlinewidth": 0,
              "ticks": ""
             }
            },
            "type": "scattermapbox"
           }
          ],
          "scatterpolar": [
           {
            "marker": {
             "colorbar": {
              "outlinewidth": 0,
              "ticks": ""
             }
            },
            "type": "scatterpolar"
           }
          ],
          "scatterpolargl": [
           {
            "marker": {
             "colorbar": {
              "outlinewidth": 0,
              "ticks": ""
             }
            },
            "type": "scatterpolargl"
           }
          ],
          "scatterternary": [
           {
            "marker": {
             "colorbar": {
              "outlinewidth": 0,
              "ticks": ""
             }
            },
            "type": "scatterternary"
           }
          ],
          "surface": [
           {
            "colorbar": {
             "outlinewidth": 0,
             "ticks": ""
            },
            "colorscale": [
             [
              0,
              "#0d0887"
             ],
             [
              0.1111111111111111,
              "#46039f"
             ],
             [
              0.2222222222222222,
              "#7201a8"
             ],
             [
              0.3333333333333333,
              "#9c179e"
             ],
             [
              0.4444444444444444,
              "#bd3786"
             ],
             [
              0.5555555555555556,
              "#d8576b"
             ],
             [
              0.6666666666666666,
              "#ed7953"
             ],
             [
              0.7777777777777778,
              "#fb9f3a"
             ],
             [
              0.8888888888888888,
              "#fdca26"
             ],
             [
              1,
              "#f0f921"
             ]
            ],
            "type": "surface"
           }
          ],
          "table": [
           {
            "cells": {
             "fill": {
              "color": "#EBF0F8"
             },
             "line": {
              "color": "white"
             }
            },
            "header": {
             "fill": {
              "color": "#C8D4E3"
             },
             "line": {
              "color": "white"
             }
            },
            "type": "table"
           }
          ]
         },
         "layout": {
          "annotationdefaults": {
           "arrowcolor": "#2a3f5f",
           "arrowhead": 0,
           "arrowwidth": 1
          },
          "autotypenumbers": "strict",
          "coloraxis": {
           "colorbar": {
            "outlinewidth": 0,
            "ticks": ""
           }
          },
          "colorscale": {
           "diverging": [
            [
             0,
             "#8e0152"
            ],
            [
             0.1,
             "#c51b7d"
            ],
            [
             0.2,
             "#de77ae"
            ],
            [
             0.3,
             "#f1b6da"
            ],
            [
             0.4,
             "#fde0ef"
            ],
            [
             0.5,
             "#f7f7f7"
            ],
            [
             0.6,
             "#e6f5d0"
            ],
            [
             0.7,
             "#b8e186"
            ],
            [
             0.8,
             "#7fbc41"
            ],
            [
             0.9,
             "#4d9221"
            ],
            [
             1,
             "#276419"
            ]
           ],
           "sequential": [
            [
             0,
             "#0d0887"
            ],
            [
             0.1111111111111111,
             "#46039f"
            ],
            [
             0.2222222222222222,
             "#7201a8"
            ],
            [
             0.3333333333333333,
             "#9c179e"
            ],
            [
             0.4444444444444444,
             "#bd3786"
            ],
            [
             0.5555555555555556,
             "#d8576b"
            ],
            [
             0.6666666666666666,
             "#ed7953"
            ],
            [
             0.7777777777777778,
             "#fb9f3a"
            ],
            [
             0.8888888888888888,
             "#fdca26"
            ],
            [
             1,
             "#f0f921"
            ]
           ],
           "sequentialminus": [
            [
             0,
             "#0d0887"
            ],
            [
             0.1111111111111111,
             "#46039f"
            ],
            [
             0.2222222222222222,
             "#7201a8"
            ],
            [
             0.3333333333333333,
             "#9c179e"
            ],
            [
             0.4444444444444444,
             "#bd3786"
            ],
            [
             0.5555555555555556,
             "#d8576b"
            ],
            [
             0.6666666666666666,
             "#ed7953"
            ],
            [
             0.7777777777777778,
             "#fb9f3a"
            ],
            [
             0.8888888888888888,
             "#fdca26"
            ],
            [
             1,
             "#f0f921"
            ]
           ]
          },
          "colorway": [
           "#636efa",
           "#EF553B",
           "#00cc96",
           "#ab63fa",
           "#FFA15A",
           "#19d3f3",
           "#FF6692",
           "#B6E880",
           "#FF97FF",
           "#FECB52"
          ],
          "font": {
           "color": "#2a3f5f"
          },
          "geo": {
           "bgcolor": "white",
           "lakecolor": "white",
           "landcolor": "#E5ECF6",
           "showlakes": true,
           "showland": true,
           "subunitcolor": "white"
          },
          "hoverlabel": {
           "align": "left"
          },
          "hovermode": "closest",
          "mapbox": {
           "style": "light"
          },
          "paper_bgcolor": "white",
          "plot_bgcolor": "#E5ECF6",
          "polar": {
           "angularaxis": {
            "gridcolor": "white",
            "linecolor": "white",
            "ticks": ""
           },
           "bgcolor": "#E5ECF6",
           "radialaxis": {
            "gridcolor": "white",
            "linecolor": "white",
            "ticks": ""
           }
          },
          "scene": {
           "xaxis": {
            "backgroundcolor": "#E5ECF6",
            "gridcolor": "white",
            "gridwidth": 2,
            "linecolor": "white",
            "showbackground": true,
            "ticks": "",
            "zerolinecolor": "white"
           },
           "yaxis": {
            "backgroundcolor": "#E5ECF6",
            "gridcolor": "white",
            "gridwidth": 2,
            "linecolor": "white",
            "showbackground": true,
            "ticks": "",
            "zerolinecolor": "white"
           },
           "zaxis": {
            "backgroundcolor": "#E5ECF6",
            "gridcolor": "white",
            "gridwidth": 2,
            "linecolor": "white",
            "showbackground": true,
            "ticks": "",
            "zerolinecolor": "white"
           }
          },
          "shapedefaults": {
           "line": {
            "color": "#2a3f5f"
           }
          },
          "ternary": {
           "aaxis": {
            "gridcolor": "white",
            "linecolor": "white",
            "ticks": ""
           },
           "baxis": {
            "gridcolor": "white",
            "linecolor": "white",
            "ticks": ""
           },
           "bgcolor": "#E5ECF6",
           "caxis": {
            "gridcolor": "white",
            "linecolor": "white",
            "ticks": ""
           }
          },
          "title": {
           "x": 0.05
          },
          "xaxis": {
           "automargin": true,
           "gridcolor": "white",
           "linecolor": "white",
           "ticks": "",
           "title": {
            "standoff": 15
           },
           "zerolinecolor": "white",
           "zerolinewidth": 2
          },
          "yaxis": {
           "automargin": true,
           "gridcolor": "white",
           "linecolor": "white",
           "ticks": "",
           "title": {
            "standoff": 15
           },
           "zerolinecolor": "white",
           "zerolinewidth": 2
          }
         }
        },
        "width": 1024
       }
      },
      "image/png": "[encoded data removed]",
      "text/html": [
       "<div>                            <div id=\"32bdc183-0cc1-4a58-93f8-683e7577663e\" class=\"plotly-graph-div\" style=\"height:768px; width:1024px;\"></div>            <script type=\"text/javascript\">                require([\"plotly\"], function(Plotly) {                    window.PLOTLYENV=window.PLOTLYENV || {};                                    if (document.getElementById(\"32bdc183-0cc1-4a58-93f8-683e7577663e\")) {                    Plotly.newPlot(                        \"32bdc183-0cc1-4a58-93f8-683e7577663e\",                        [{\"colorscale\":[[0.0,\"rgb(255,255,255)\"],[0.125,\"rgb(240,240,240)\"],[0.25,\"rgb(217,217,217)\"],[0.375,\"rgb(189,189,189)\"],[0.5,\"rgb(150,150,150)\"],[0.625,\"rgb(115,115,115)\"],[0.75,\"rgb(82,82,82)\"],[0.875,\"rgb(37,37,37)\"],[1.0,\"rgb(0,0,0)\"]],\"opacity\":0.3,\"showscale\":false,\"type\":\"surface\",\"x\":[413.91,510.81],\"y\":[-148.423,155.197],\"z\":[[-306.3,-306.3],[-306.3,-306.3]]},{\"colorscale\":[[0.0,\"rgb(255,255,255)\"],[0.125,\"rgb(240,240,240)\"],[0.25,\"rgb(217,217,217)\"],[0.375,\"rgb(189,189,189)\"],[0.5,\"rgb(150,150,150)\"],[0.625,\"rgb(115,115,115)\"],[0.75,\"rgb(82,82,82)\"],[0.875,\"rgb(37,37,37)\"],[1.0,\"rgb(0,0,0)\"]],\"opacity\":0.3,\"showscale\":false,\"type\":\"surface\",\"x\":[515.3299999999999,612.23],\"y\":[-148.423,155.197],\"z\":[[-306.3,-306.3],[-306.3,-306.3]]},{\"colorscale\":[[0.0,\"rgb(255,255,255)\"],[0.125,\"rgb(240,240,240)\"],[0.25,\"rgb(217,217,217)\"],[0.375,\"rgb(189,189,189)\"],[0.5,\"rgb(150,150,150)\"],[0.625,\"rgb(115,115,115)\"],[0.75,\"rgb(82,82,82)\"],[0.875,\"rgb(37,37,37)\"],[1.0,\"rgb(0,0,0)\"]],\"opacity\":0.3,\"showscale\":false,\"type\":\"surface\",\"x\":[616.75,713.6500000000001],\"y\":[-148.423,155.197],\"z\":[[-306.3,-306.3],[-306.3,-306.3]]},{\"colorscale\":[[0.0,\"rgb(255,255,255)\"],[0.125,\"rgb(240,240,240)\"],[0.25,\"rgb(217,217,217)\"],[0.375,\"rgb(189,189,189)\"],[0.5,\"rgb(150,150,150)\"],[0.625,\"rgb(115,115,115)\"],[0.75,\"rgb(82,82,82)\"],[0.875,\"rgb(37,37,37)\"],[1.0,\"rgb(0,0,0)\"]],\"opacity\":0.3,\"showscale\":false,\"type\":\"surface\",\"x\":[718.17,815.07],\"y\":[-148.423,155.197],\"z\":[[-306.3,-306.3],[-306.3,-306.3]]},{\"colorscale\":[[0.0,\"rgb(255,255,255)\"],[0.125,\"rgb(240,240,240)\"],[0.25,\"rgb(217,217,217)\"],[0.375,\"rgb(189,189,189)\"],[0.5,\"rgb(150,150,150)\"],[0.625,\"rgb(115,115,115)\"],[0.75,\"rgb(82,82,82)\"],[0.875,\"rgb(37,37,37)\"],[1.0,\"rgb(0,0,0)\"]],\"opacity\":0.3,\"showscale\":false,\"type\":\"surface\",\"x\":[819.5899999999999,916.49],\"y\":[-148.423,155.197],\"z\":[[-306.3,-306.3],[-306.3,-306.3]]},{\"colorscale\":[[0.0,\"rgb(255,255,255)\"],[0.125,\"rgb(240,240,240)\"],[0.25,\"rgb(217,217,217)\"],[0.375,\"rgb(189,189,189)\"],[0.5,\"rgb(150,150,150)\"],[0.625,\"rgb(115,115,115)\"],[0.75,\"rgb(82,82,82)\"],[0.875,\"rgb(37,37,37)\"],[1.0,\"rgb(0,0,0)\"]],\"opacity\":0.3,\"showscale\":false,\"type\":\"surface\",\"x\":[413.91,510.81],\"y\":[-148.423,155.197],\"z\":[[-204.2,-204.2],[-204.2,-204.2]]},{\"colorscale\":[[0.0,\"rgb(255,255,255)\"],[0.125,\"rgb(240,240,240)\"],[0.25,\"rgb(217,217,217)\"],[0.375,\"rgb(189,189,189)\"],[0.5,\"rgb(150,150,150)\"],[0.625,\"rgb(115,115,115)\"],[0.75,\"rgb(82,82,82)\"],[0.875,\"rgb(37,37,37)\"],[1.0,\"rgb(0,0,0)\"]],\"opacity\":0.3,\"showscale\":false,\"type\":\"surface\",\"x\":[515.3299999999999,612.23],\"y\":[-148.423,155.197],\"z\":[[-204.2,-204.2],[-204.2,-204.2]]},{\"colorscale\":[[0.0,\"rgb(255,255,255)\"],[0.125,\"rgb(240,240,240)\"],[0.25,\"rgb(217,217,217)\"],[0.375,\"rgb(189,189,189)\"],[0.5,\"rgb(150,150,150)\"],[0.625,\"rgb(115,115,115)\"],[0.75,\"rgb(82,82,82)\"],[0.875,\"rgb(37,37,37)\"],[1.0,\"rgb(0,0,0)\"]],\"opacity\":0.3,\"showscale\":false,\"type\":\"surface\",\"x\":[616.75,713.6500000000001],\"y\":[-148.423,155.197],\"z\":[[-204.2,-204.2],[-204.2,-204.2]]},{\"colorscale\":[[0.0,\"rgb(255,255,255)\"],[0.125,\"rgb(240,240,240)\"],[0.25,\"rgb(217,217,217)\"],[0.375,\"rgb(189,189,189)\"],[0.5,\"rgb(150,150,150)\"],[0.625,\"rgb(115,115,115)\"],[0.75,\"rgb(82,82,82)\"],[0.875,\"rgb(37,37,37)\"],[1.0,\"rgb(0,0,0)\"]],\"opacity\":0.3,\"showscale\":false,\"type\":\"surface\",\"x\":[718.17,815.07],\"y\":[-148.423,155.197],\"z\":[[-204.2,-204.2],[-204.2,-204.2]]},{\"colorscale\":[[0.0,\"rgb(255,255,255)\"],[0.125,\"rgb(240,240,240)\"],[0.25,\"rgb(217,217,217)\"],[0.375,\"rgb(189,189,189)\"],[0.5,\"rgb(150,150,150)\"],[0.625,\"rgb(115,115,115)\"],[0.75,\"rgb(82,82,82)\"],[0.875,\"rgb(37,37,37)\"],[1.0,\"rgb(0,0,0)\"]],\"opacity\":0.3,\"showscale\":false,\"type\":\"surface\",\"x\":[819.5899999999999,916.49],\"y\":[-148.423,155.197],\"z\":[[-204.2,-204.2],[-204.2,-204.2]]},{\"colorscale\":[[0.0,\"rgb(255,255,255)\"],[0.125,\"rgb(240,240,240)\"],[0.25,\"rgb(217,217,217)\"],[0.375,\"rgb(189,189,189)\"],[0.5,\"rgb(150,150,150)\"],[0.625,\"rgb(115,115,115)\"],[0.75,\"rgb(82,82,82)\"],[0.875,\"rgb(37,37,37)\"],[1.0,\"rgb(0,0,0)\"]],\"opacity\":0.3,\"showscale\":false,\"type\":\"surface\",\"x\":[413.91,510.81],\"y\":[-148.423,155.197],\"z\":[[-102.1,-102.1],[-102.1,-102.1]]},{\"colorscale\":[[0.0,\"rgb(255,255,255)\"],[0.125,\"rgb(240,240,240)\"],[0.25,\"rgb(217,217,217)\"],[0.375,\"rgb(189,189,189)\"],[0.5,\"rgb(150,150,150)\"],[0.625,\"rgb(115,115,115)\"],[0.75,\"rgb(82,82,82)\"],[0.875,\"rgb(37,37,37)\"],[1.0,\"rgb(0,0,0)\"]],\"opacity\":0.3,\"showscale\":false,\"type\":\"surface\",\"x\":[515.3299999999999,612.23],\"y\":[-148.423,155.197],\"z\":[[-102.1,-102.1],[-102.1,-102.1]]},{\"colorscale\":[[0.0,\"rgb(255,255,255)\"],[0.125,\"rgb(240,240,240)\"],[0.25,\"rgb(217,217,217)\"],[0.375,\"rgb(189,189,189)\"],[0.5,\"rgb(150,150,150)\"],[0.625,\"rgb(115,115,115)\"],[0.75,\"rgb(82,82,82)\"],[0.875,\"rgb(37,37,37)\"],[1.0,\"rgb(0,0,0)\"]],\"opacity\":0.3,\"showscale\":false,\"type\":\"surface\",\"x\":[616.75,713.6500000000001],\"y\":[-148.423,155.197],\"z\":[[-102.1,-102.1],[-102.1,-102.1]]},{\"colorscale\":[[0.0,\"rgb(255,255,255)\"],[0.125,\"rgb(240,240,240)\"],[0.25,\"rgb(217,217,217)\"],[0.375,\"rgb(189,189,189)\"],[0.5,\"rgb(150,150,150)\"],[0.625,\"rgb(115,115,115)\"],[0.75,\"rgb(82,82,82)\"],[0.875,\"rgb(37,37,37)\"],[1.0,\"rgb(0,0,0)\"]],\"opacity\":0.3,\"showscale\":false,\"type\":\"surface\",\"x\":[718.17,815.07],\"y\":[-148.423,155.197],\"z\":[[-102.1,-102.1],[-102.1,-102.1]]},{\"colorscale\":[[0.0,\"rgb(255,255,255)\"],[0.125,\"rgb(240,240,240)\"],[0.25,\"rgb(217,217,217)\"],[0.375,\"rgb(189,189,189)\"],[0.5,\"rgb(150,150,150)\"],[0.625,\"rgb(115,115,115)\"],[0.75,\"rgb(82,82,82)\"],[0.875,\"rgb(37,37,37)\"],[1.0,\"rgb(0,0,0)\"]],\"opacity\":0.3,\"showscale\":false,\"type\":\"surface\",\"x\":[819.5899999999999,916.49],\"y\":[-148.423,155.197],\"z\":[[-102.1,-102.1],[-102.1,-102.1]]},{\"colorscale\":[[0.0,\"rgb(255,255,255)\"],[0.125,\"rgb(240,240,240)\"],[0.25,\"rgb(217,217,217)\"],[0.375,\"rgb(189,189,189)\"],[0.5,\"rgb(150,150,150)\"],[0.625,\"rgb(115,115,115)\"],[0.75,\"rgb(82,82,82)\"],[0.875,\"rgb(37,37,37)\"],[1.0,\"rgb(0,0,0)\"]],\"opacity\":0.3,\"showscale\":false,\"type\":\"surface\",\"x\":[413.91,510.81],\"y\":[-148.423,155.197],\"z\":[[0.0,0.0],[0.0,0.0]]},{\"colorscale\":[[0.0,\"rgb(255,255,255)\"],[0.125,\"rgb(240,240,240)\"],[0.25,\"rgb(217,217,217)\"],[0.375,\"rgb(189,189,189)\"],[0.5,\"rgb(150,150,150)\"],[0.625,\"rgb(115,115,115)\"],[0.75,\"rgb(82,82,82)\"],[0.875,\"rgb(37,37,37)\"],[1.0,\"rgb(0,0,0)\"]],\"opacity\":0.3,\"showscale\":false,\"type\":\"surface\",\"x\":[515.3299999999999,612.23],\"y\":[-148.423,155.197],\"z\":[[0.0,0.0],[0.0,0.0]]},{\"colorscale\":[[0.0,\"rgb(255,255,255)\"],[0.125,\"rgb(240,240,240)\"],[0.25,\"rgb(217,217,217)\"],[0.375,\"rgb(189,189,189)\"],[0.5,\"rgb(150,150,150)\"],[0.625,\"rgb(115,115,115)\"],[0.75,\"rgb(82,82,82)\"],[0.875,\"rgb(37,37,37)\"],[1.0,\"rgb(0,0,0)\"]],\"opacity\":0.3,\"showscale\":false,\"type\":\"surface\",\"x\":[616.75,713.6500000000001],\"y\":[-148.423,155.197],\"z\":[[0.0,0.0],[0.0,0.0]]},{\"colorscale\":[[0.0,\"rgb(255,255,255)\"],[0.125,\"rgb(240,240,240)\"],[0.25,\"rgb(217,217,217)\"],[0.375,\"rgb(189,189,189)\"],[0.5,\"rgb(150,150,150)\"],[0.625,\"rgb(115,115,115)\"],[0.75,\"rgb(82,82,82)\"],[0.875,\"rgb(37,37,37)\"],[1.0,\"rgb(0,0,0)\"]],\"opacity\":0.3,\"showscale\":false,\"type\":\"surface\",\"x\":[718.17,815.07],\"y\":[-148.423,155.197],\"z\":[[0.0,0.0],[0.0,0.0]]},{\"colorscale\":[[0.0,\"rgb(255,255,255)\"],[0.125,\"rgb(240,240,240)\"],[0.25,\"rgb(217,217,217)\"],[0.375,\"rgb(189,189,189)\"],[0.5,\"rgb(150,150,150)\"],[0.625,\"rgb(115,115,115)\"],[0.75,\"rgb(82,82,82)\"],[0.875,\"rgb(37,37,37)\"],[1.0,\"rgb(0,0,0)\"]],\"opacity\":0.3,\"showscale\":false,\"type\":\"surface\",\"x\":[819.5899999999999,916.49],\"y\":[-148.423,155.197],\"z\":[[0.0,0.0],[0.0,0.0]]},{\"colorscale\":[[0.0,\"rgb(255,255,255)\"],[0.125,\"rgb(240,240,240)\"],[0.25,\"rgb(217,217,217)\"],[0.375,\"rgb(189,189,189)\"],[0.5,\"rgb(150,150,150)\"],[0.625,\"rgb(115,115,115)\"],[0.75,\"rgb(82,82,82)\"],[0.875,\"rgb(37,37,37)\"],[1.0,\"rgb(0,0,0)\"]],\"opacity\":0.3,\"showscale\":false,\"type\":\"surface\",\"x\":[413.91,510.81],\"y\":[-148.423,155.197],\"z\":[[102.1,102.1],[102.1,102.1]]},{\"colorscale\":[[0.0,\"rgb(255,255,255)\"],[0.125,\"rgb(240,240,240)\"],[0.25,\"rgb(217,217,217)\"],[0.375,\"rgb(189,189,189)\"],[0.5,\"rgb(150,150,150)\"],[0.625,\"rgb(115,115,115)\"],[0.75,\"rgb(82,82,82)\"],[0.875,\"rgb(37,37,37)\"],[1.0,\"rgb(0,0,0)\"]],\"opacity\":0.3,\"showscale\":false,\"type\":\"surface\",\"x\":[515.3299999999999,612.23],\"y\":[-148.423,155.197],\"z\":[[102.1,102.1],[102.1,102.1]]},{\"colorscale\":[[0.0,\"rgb(255,255,255)\"],[0.125,\"rgb(240,240,240)\"],[0.25,\"rgb(217,217,217)\"],[0.375,\"rgb(189,189,189)\"],[0.5,\"rgb(150,150,150)\"],[0.625,\"rgb(115,115,115)\"],[0.75,\"rgb(82,82,82)\"],[0.875,\"rgb(37,37,37)\"],[1.0,\"rgb(0,0,0)\"]],\"opacity\":0.3,\"showscale\":false,\"type\":\"surface\",\"x\":[616.75,713.6500000000001],\"y\":[-148.423,155.197],\"z\":[[102.1,102.1],[102.1,102.1]]},{\"colorscale\":[[0.0,\"rgb(255,255,255)\"],[0.125,\"rgb(240,240,240)\"],[0.25,\"rgb(217,217,217)\"],[0.375,\"rgb(189,189,189)\"],[0.5,\"rgb(150,150,150)\"],[0.625,\"rgb(115,115,115)\"],[0.75,\"rgb(82,82,82)\"],[0.875,\"rgb(37,37,37)\"],[1.0,\"rgb(0,0,0)\"]],\"opacity\":0.3,\"showscale\":false,\"type\":\"surface\",\"x\":[718.17,815.07],\"y\":[-148.423,155.197],\"z\":[[102.1,102.1],[102.1,102.1]]},{\"colorscale\":[[0.0,\"rgb(255,255,255)\"],[0.125,\"rgb(240,240,240)\"],[0.25,\"rgb(217,217,217)\"],[0.375,\"rgb(189,189,189)\"],[0.5,\"rgb(150,150,150)\"],[0.625,\"rgb(115,115,115)\"],[0.75,\"rgb(82,82,82)\"],[0.875,\"rgb(37,37,37)\"],[1.0,\"rgb(0,0,0)\"]],\"opacity\":0.3,\"showscale\":false,\"type\":\"surface\",\"x\":[819.5899999999999,916.49],\"y\":[-148.423,155.197],\"z\":[[102.1,102.1],[102.1,102.1]]},{\"colorscale\":[[0.0,\"rgb(255,255,255)\"],[0.125,\"rgb(240,240,240)\"],[0.25,\"rgb(217,217,217)\"],[0.375,\"rgb(189,189,189)\"],[0.5,\"rgb(150,150,150)\"],[0.625,\"rgb(115,115,115)\"],[0.75,\"rgb(82,82,82)\"],[0.875,\"rgb(37,37,37)\"],[1.0,\"rgb(0,0,0)\"]],\"opacity\":0.3,\"showscale\":false,\"type\":\"surface\",\"x\":[413.91,510.81],\"y\":[-148.423,155.197],\"z\":[[204.2,204.2],[204.2,204.2]]},{\"colorscale\":[[0.0,\"rgb(255,255,255)\"],[0.125,\"rgb(240,240,240)\"],[0.25,\"rgb(217,217,217)\"],[0.375,\"rgb(189,189,189)\"],[0.5,\"rgb(150,150,150)\"],[0.625,\"rgb(115,115,115)\"],[0.75,\"rgb(82,82,82)\"],[0.875,\"rgb(37,37,37)\"],[1.0,\"rgb(0,0,0)\"]],\"opacity\":0.3,\"showscale\":false,\"type\":\"surface\",\"x\":[515.3299999999999,612.23],\"y\":[-148.423,155.197],\"z\":[[204.2,204.2],[204.2,204.2]]},{\"colorscale\":[[0.0,\"rgb(255,255,255)\"],[0.125,\"rgb(240,240,240)\"],[0.25,\"rgb(217,217,217)\"],[0.375,\"rgb(189,189,189)\"],[0.5,\"rgb(150,150,150)\"],[0.625,\"rgb(115,115,115)\"],[0.75,\"rgb(82,82,82)\"],[0.875,\"rgb(37,37,37)\"],[1.0,\"rgb(0,0,0)\"]],\"opacity\":0.3,\"showscale\":false,\"type\":\"surface\",\"x\":[616.75,713.6500000000001],\"y\":[-148.423,155.197],\"z\":[[204.2,204.2],[204.2,204.2]]},{\"colorscale\":[[0.0,\"rgb(255,255,255)\"],[0.125,\"rgb(240,240,240)\"],[0.25,\"rgb(217,217,217)\"],[0.375,\"rgb(189,189,189)\"],[0.5,\"rgb(150,150,150)\"],[0.625,\"rgb(115,115,115)\"],[0.75,\"rgb(82,82,82)\"],[0.875,\"rgb(37,37,37)\"],[1.0,\"rgb(0,0,0)\"]],\"opacity\":0.3,\"showscale\":false,\"type\":\"surface\",\"x\":[718.17,815.07],\"y\":[-148.423,155.197],\"z\":[[204.2,204.2],[204.2,204.2]]},{\"colorscale\":[[0.0,\"rgb(255,255,255)\"],[0.125,\"rgb(240,240,240)\"],[0.25,\"rgb(217,217,217)\"],[0.375,\"rgb(189,189,189)\"],[0.5,\"rgb(150,150,150)\"],[0.625,\"rgb(115,115,115)\"],[0.75,\"rgb(82,82,82)\"],[0.875,\"rgb(37,37,37)\"],[1.0,\"rgb(0,0,0)\"]],\"opacity\":0.3,\"showscale\":false,\"type\":\"surface\",\"x\":[819.5899999999999,916.49],\"y\":[-148.423,155.197],\"z\":[[204.2,204.2],[204.2,204.2]]},{\"colorscale\":[[0.0,\"rgb(255,255,255)\"],[0.125,\"rgb(240,240,240)\"],[0.25,\"rgb(217,217,217)\"],[0.375,\"rgb(189,189,189)\"],[0.5,\"rgb(150,150,150)\"],[0.625,\"rgb(115,115,115)\"],[0.75,\"rgb(82,82,82)\"],[0.875,\"rgb(37,37,37)\"],[1.0,\"rgb(0,0,0)\"]],\"opacity\":0.3,\"showscale\":false,\"type\":\"surface\",\"x\":[413.91,510.81],\"y\":[-148.423,155.197],\"z\":[[306.3,306.3],[306.3,306.3]]},{\"colorscale\":[[0.0,\"rgb(255,255,255)\"],[0.125,\"rgb(240,240,240)\"],[0.25,\"rgb(217,217,217)\"],[0.375,\"rgb(189,189,189)\"],[0.5,\"rgb(150,150,150)\"],[0.625,\"rgb(115,115,115)\"],[0.75,\"rgb(82,82,82)\"],[0.875,\"rgb(37,37,37)\"],[1.0,\"rgb(0,0,0)\"]],\"opacity\":0.3,\"showscale\":false,\"type\":\"surface\",\"x\":[515.3299999999999,612.23],\"y\":[-148.423,155.197],\"z\":[[306.3,306.3],[306.3,306.3]]},{\"colorscale\":[[0.0,\"rgb(255,255,255)\"],[0.125,\"rgb(240,240,240)\"],[0.25,\"rgb(217,217,217)\"],[0.375,\"rgb(189,189,189)\"],[0.5,\"rgb(150,150,150)\"],[0.625,\"rgb(115,115,115)\"],[0.75,\"rgb(82,82,82)\"],[0.875,\"rgb(37,37,37)\"],[1.0,\"rgb(0,0,0)\"]],\"opacity\":0.3,\"showscale\":false,\"type\":\"surface\",\"x\":[616.75,713.6500000000001],\"y\":[-148.423,155.197],\"z\":[[306.3,306.3],[306.3,306.3]]},{\"colorscale\":[[0.0,\"rgb(255,255,255)\"],[0.125,\"rgb(240,240,240)\"],[0.25,\"rgb(217,217,217)\"],[0.375,\"rgb(189,189,189)\"],[0.5,\"rgb(150,150,150)\"],[0.625,\"rgb(115,115,115)\"],[0.75,\"rgb(82,82,82)\"],[0.875,\"rgb(37,37,37)\"],[1.0,\"rgb(0,0,0)\"]],\"opacity\":0.3,\"showscale\":false,\"type\":\"surface\",\"x\":[718.17,815.07],\"y\":[-148.423,155.197],\"z\":[[306.3,306.3],[306.3,306.3]]},{\"colorscale\":[[0.0,\"rgb(255,255,255)\"],[0.125,\"rgb(240,240,240)\"],[0.25,\"rgb(217,217,217)\"],[0.375,\"rgb(189,189,189)\"],[0.5,\"rgb(150,150,150)\"],[0.625,\"rgb(115,115,115)\"],[0.75,\"rgb(82,82,82)\"],[0.875,\"rgb(37,37,37)\"],[1.0,\"rgb(0,0,0)\"]],\"opacity\":0.3,\"showscale\":false,\"type\":\"surface\",\"x\":[819.5899999999999,916.49],\"y\":[-148.423,155.197],\"z\":[[306.3,306.3],[306.3,306.3]]},{\"colorscale\":[[0.0,\"rgb(3, 5, 18)\"],[0.09090909090909091,\"rgb(25, 25, 51)\"],[0.18181818181818182,\"rgb(44, 42, 87)\"],[0.2727272727272727,\"rgb(58, 60, 125)\"],[0.36363636363636365,\"rgb(62, 83, 160)\"],[0.45454545454545453,\"rgb(62, 109, 178)\"],[0.5454545454545454,\"rgb(72, 134, 187)\"],[0.6363636363636364,\"rgb(89, 159, 196)\"],[0.7272727272727273,\"rgb(114, 184, 205)\"],[0.8181818181818182,\"rgb(149, 207, 216)\"],[0.9090909090909091,\"rgb(192, 229, 232)\"],[1.0,\"rgb(234, 252, 253)\"]],\"opacity\":0.1,\"showscale\":false,\"type\":\"surface\",\"x\":[413.91,510.81],\"y\":[-148.423,155.197],\"z\":[[-356.7,-356.7],[-356.7,-356.7]]},{\"colorscale\":[[0.0,\"rgb(3, 5, 18)\"],[0.09090909090909091,\"rgb(25, 25, 51)\"],[0.18181818181818182,\"rgb(44, 42, 87)\"],[0.2727272727272727,\"rgb(58, 60, 125)\"],[0.36363636363636365,\"rgb(62, 83, 160)\"],[0.45454545454545453,\"rgb(62, 109, 178)\"],[0.5454545454545454,\"rgb(72, 134, 187)\"],[0.6363636363636364,\"rgb(89, 159, 196)\"],[0.7272727272727273,\"rgb(114, 184, 205)\"],[0.8181818181818182,\"rgb(149, 207, 216)\"],[0.9090909090909091,\"rgb(192, 229, 232)\"],[1.0,\"rgb(234, 252, 253)\"]],\"opacity\":0.1,\"showscale\":false,\"type\":\"surface\",\"x\":[413.91,510.81],\"y\":[-148.423,155.197],\"z\":[[-255.9,-255.9],[-255.9,-255.9]]},{\"colorscale\":[[0.0,\"rgb(3, 5, 18)\"],[0.09090909090909091,\"rgb(25, 25, 51)\"],[0.18181818181818182,\"rgb(44, 42, 87)\"],[0.2727272727272727,\"rgb(58, 60, 125)\"],[0.36363636363636365,\"rgb(62, 83, 160)\"],[0.45454545454545453,\"rgb(62, 109, 178)\"],[0.5454545454545454,\"rgb(72, 134, 187)\"],[0.6363636363636364,\"rgb(89, 159, 196)\"],[0.7272727272727273,\"rgb(114, 184, 205)\"],[0.8181818181818182,\"rgb(149, 207, 216)\"],[0.9090909090909091,\"rgb(192, 229, 232)\"],[1.0,\"rgb(234, 252, 253)\"]],\"opacity\":0.1,\"showscale\":false,\"type\":\"surface\",\"x\":[515.3299999999999,612.23],\"y\":[-148.423,155.197],\"z\":[[-356.7,-356.7],[-356.7,-356.7]]},{\"colorscale\":[[0.0,\"rgb(3, 5, 18)\"],[0.09090909090909091,\"rgb(25, 25, 51)\"],[0.18181818181818182,\"rgb(44, 42, 87)\"],[0.2727272727272727,\"rgb(58, 60, 125)\"],[0.36363636363636365,\"rgb(62, 83, 160)\"],[0.45454545454545453,\"rgb(62, 109, 178)\"],[0.5454545454545454,\"rgb(72, 134, 187)\"],[0.6363636363636364,\"rgb(89, 159, 196)\"],[0.7272727272727273,\"rgb(114, 184, 205)\"],[0.8181818181818182,\"rgb(149, 207, 216)\"],[0.9090909090909091,\"rgb(192, 229, 232)\"],[1.0,\"rgb(234, 252, 253)\"]],\"opacity\":0.1,\"showscale\":false,\"type\":\"surface\",\"x\":[515.3299999999999,612.23],\"y\":[-148.423,155.197],\"z\":[[-255.9,-255.9],[-255.9,-255.9]]},{\"colorscale\":[[0.0,\"rgb(3, 5, 18)\"],[0.09090909090909091,\"rgb(25, 25, 51)\"],[0.18181818181818182,\"rgb(44, 42, 87)\"],[0.2727272727272727,\"rgb(58, 60, 125)\"],[0.36363636363636365,\"rgb(62, 83, 160)\"],[0.45454545454545453,\"rgb(62, 109, 178)\"],[0.5454545454545454,\"rgb(72, 134, 187)\"],[0.6363636363636364,\"rgb(89, 159, 196)\"],[0.7272727272727273,\"rgb(114, 184, 205)\"],[0.8181818181818182,\"rgb(149, 207, 216)\"],[0.9090909090909091,\"rgb(192, 229, 232)\"],[1.0,\"rgb(234, 252, 253)\"]],\"opacity\":0.1,\"showscale\":false,\"type\":\"surface\",\"x\":[616.75,713.6500000000001],\"y\":[-148.423,155.197],\"z\":[[-356.7,-356.7],[-356.7,-356.7]]},{\"colorscale\":[[0.0,\"rgb(3, 5, 18)\"],[0.09090909090909091,\"rgb(25, 25, 51)\"],[0.18181818181818182,\"rgb(44, 42, 87)\"],[0.2727272727272727,\"rgb(58, 60, 125)\"],[0.36363636363636365,\"rgb(62, 83, 160)\"],[0.45454545454545453,\"rgb(62, 109, 178)\"],[0.5454545454545454,\"rgb(72, 134, 187)\"],[0.6363636363636364,\"rgb(89, 159, 196)\"],[0.7272727272727273,\"rgb(114, 184, 205)\"],[0.8181818181818182,\"rgb(149, 207, 216)\"],[0.9090909090909091,\"rgb(192, 229, 232)\"],[1.0,\"rgb(234, 252, 253)\"]],\"opacity\":0.1,\"showscale\":false,\"type\":\"surface\",\"x\":[616.75,713.6500000000001],\"y\":[-148.423,155.197],\"z\":[[-255.9,-255.9],[-255.9,-255.9]]},{\"colorscale\":[[0.0,\"rgb(3, 5, 18)\"],[0.09090909090909091,\"rgb(25, 25, 51)\"],[0.18181818181818182,\"rgb(44, 42, 87)\"],[0.2727272727272727,\"rgb(58, 60, 125)\"],[0.36363636363636365,\"rgb(62, 83, 160)\"],[0.45454545454545453,\"rgb(62, 109, 178)\"],[0.5454545454545454,\"rgb(72, 134, 187)\"],[0.6363636363636364,\"rgb(89, 159, 196)\"],[0.7272727272727273,\"rgb(114, 184, 205)\"],[0.8181818181818182,\"rgb(149, 207, 216)\"],[0.9090909090909091,\"rgb(192, 229, 232)\"],[1.0,\"rgb(234, 252, 253)\"]],\"opacity\":0.1,\"showscale\":false,\"type\":\"surface\",\"x\":[718.17,815.07],\"y\":[-148.423,155.197],\"z\":[[-356.7,-356.7],[-356.7,-356.7]]},{\"colorscale\":[[0.0,\"rgb(3, 5, 18)\"],[0.09090909090909091,\"rgb(25, 25, 51)\"],[0.18181818181818182,\"rgb(44, 42, 87)\"],[0.2727272727272727,\"rgb(58, 60, 125)\"],[0.36363636363636365,\"rgb(62, 83, 160)\"],[0.45454545454545453,\"rgb(62, 109, 178)\"],[0.5454545454545454,\"rgb(72, 134, 187)\"],[0.6363636363636364,\"rgb(89, 159, 196)\"],[0.7272727272727273,\"rgb(114, 184, 205)\"],[0.8181818181818182,\"rgb(149, 207, 216)\"],[0.9090909090909091,\"rgb(192, 229, 232)\"],[1.0,\"rgb(234, 252, 253)\"]],\"opacity\":0.1,\"showscale\":false,\"type\":\"surface\",\"x\":[718.17,815.07],\"y\":[-148.423,155.197],\"z\":[[-255.9,-255.9],[-255.9,-255.9]]},{\"colorscale\":[[0.0,\"rgb(3, 5, 18)\"],[0.09090909090909091,\"rgb(25, 25, 51)\"],[0.18181818181818182,\"rgb(44, 42, 87)\"],[0.2727272727272727,\"rgb(58, 60, 125)\"],[0.36363636363636365,\"rgb(62, 83, 160)\"],[0.45454545454545453,\"rgb(62, 109, 178)\"],[0.5454545454545454,\"rgb(72, 134, 187)\"],[0.6363636363636364,\"rgb(89, 159, 196)\"],[0.7272727272727273,\"rgb(114, 184, 205)\"],[0.8181818181818182,\"rgb(149, 207, 216)\"],[0.9090909090909091,\"rgb(192, 229, 232)\"],[1.0,\"rgb(234, 252, 253)\"]],\"opacity\":0.1,\"showscale\":false,\"type\":\"surface\",\"x\":[819.5899999999999,916.49],\"y\":[-148.423,155.197],\"z\":[[-356.7,-356.7],[-356.7,-356.7]]},{\"colorscale\":[[0.0,\"rgb(3, 5, 18)\"],[0.09090909090909091,\"rgb(25, 25, 51)\"],[0.18181818181818182,\"rgb(44, 42, 87)\"],[0.2727272727272727,\"rgb(58, 60, 125)\"],[0.36363636363636365,\"rgb(62, 83, 160)\"],[0.45454545454545453,\"rgb(62, 109, 178)\"],[0.5454545454545454,\"rgb(72, 134, 187)\"],[0.6363636363636364,\"rgb(89, 159, 196)\"],[0.7272727272727273,\"rgb(114, 184, 205)\"],[0.8181818181818182,\"rgb(149, 207, 216)\"],[0.9090909090909091,\"rgb(192, 229, 232)\"],[1.0,\"rgb(234, 252, 253)\"]],\"opacity\":0.1,\"showscale\":false,\"type\":\"surface\",\"x\":[819.5899999999999,916.49],\"y\":[-148.423,155.197],\"z\":[[-255.9,-255.9],[-255.9,-255.9]]},{\"colorscale\":[[0.0,\"rgb(3, 5, 18)\"],[0.09090909090909091,\"rgb(25, 25, 51)\"],[0.18181818181818182,\"rgb(44, 42, 87)\"],[0.2727272727272727,\"rgb(58, 60, 125)\"],[0.36363636363636365,\"rgb(62, 83, 160)\"],[0.45454545454545453,\"rgb(62, 109, 178)\"],[0.5454545454545454,\"rgb(72, 134, 187)\"],[0.6363636363636364,\"rgb(89, 159, 196)\"],[0.7272727272727273,\"rgb(114, 184, 205)\"],[0.8181818181818182,\"rgb(149, 207, 216)\"],[0.9090909090909091,\"rgb(192, 229, 232)\"],[1.0,\"rgb(234, 252, 253)\"]],\"opacity\":0.1,\"showscale\":false,\"type\":\"surface\",\"x\":[413.91,510.81],\"y\":[-148.423,155.197],\"z\":[[-254.6,-254.6],[-254.6,-254.6]]},{\"colorscale\":[[0.0,\"rgb(3, 5, 18)\"],[0.09090909090909091,\"rgb(25, 25, 51)\"],[0.18181818181818182,\"rgb(44, 42, 87)\"],[0.2727272727272727,\"rgb(58, 60, 125)\"],[0.36363636363636365,\"rgb(62, 83, 160)\"],[0.45454545454545453,\"rgb(62, 109, 178)\"],[0.5454545454545454,\"rgb(72, 134, 187)\"],[0.6363636363636364,\"rgb(89, 159, 196)\"],[0.7272727272727273,\"rgb(114, 184, 205)\"],[0.8181818181818182,\"rgb(149, 207, 216)\"],[0.9090909090909091,\"rgb(192, 229, 232)\"],[1.0,\"rgb(234, 252, 253)\"]],\"opacity\":0.1,\"showscale\":false,\"type\":\"surface\",\"x\":[413.91,510.81],\"y\":[-148.423,155.197],\"z\":[[-153.79999999999998,-153.79999999999998],[-153.79999999999998,-153.79999999999998]]},{\"colorscale\":[[0.0,\"rgb(3, 5, 18)\"],[0.09090909090909091,\"rgb(25, 25, 51)\"],[0.18181818181818182,\"rgb(44, 42, 87)\"],[0.2727272727272727,\"rgb(58, 60, 125)\"],[0.36363636363636365,\"rgb(62, 83, 160)\"],[0.45454545454545453,\"rgb(62, 109, 178)\"],[0.5454545454545454,\"rgb(72, 134, 187)\"],[0.6363636363636364,\"rgb(89, 159, 196)\"],[0.7272727272727273,\"rgb(114, 184, 205)\"],[0.8181818181818182,\"rgb(149, 207, 216)\"],[0.9090909090909091,\"rgb(192, 229, 232)\"],[1.0,\"rgb(234, 252, 253)\"]],\"opacity\":0.1,\"showscale\":false,\"type\":\"surface\",\"x\":[515.3299999999999,612.23],\"y\":[-148.423,155.197],\"z\":[[-254.6,-254.6],[-254.6,-254.6]]},{\"colorscale\":[[0.0,\"rgb(3, 5, 18)\"],[0.09090909090909091,\"rgb(25, 25, 51)\"],[0.18181818181818182,\"rgb(44, 42, 87)\"],[0.2727272727272727,\"rgb(58, 60, 125)\"],[0.36363636363636365,\"rgb(62, 83, 160)\"],[0.45454545454545453,\"rgb(62, 109, 178)\"],[0.5454545454545454,\"rgb(72, 134, 187)\"],[0.6363636363636364,\"rgb(89, 159, 196)\"],[0.7272727272727273,\"rgb(114, 184, 205)\"],[0.8181818181818182,\"rgb(149, 207, 216)\"],[0.9090909090909091,\"rgb(192, 229, 232)\"],[1.0,\"rgb(234, 252, 253)\"]],\"opacity\":0.1,\"showscale\":false,\"type\":\"surface\",\"x\":[515.3299999999999,612.23],\"y\":[-148.423,155.197],\"z\":[[-153.79999999999998,-153.79999999999998],[-153.79999999999998,-153.79999999999998]]},{\"colorscale\":[[0.0,\"rgb(3, 5, 18)\"],[0.09090909090909091,\"rgb(25, 25, 51)\"],[0.18181818181818182,\"rgb(44, 42, 87)\"],[0.2727272727272727,\"rgb(58, 60, 125)\"],[0.36363636363636365,\"rgb(62, 83, 160)\"],[0.45454545454545453,\"rgb(62, 109, 178)\"],[0.5454545454545454,\"rgb(72, 134, 187)\"],[0.6363636363636364,\"rgb(89, 159, 196)\"],[0.7272727272727273,\"rgb(114, 184, 205)\"],[0.8181818181818182,\"rgb(149, 207, 216)\"],[0.9090909090909091,\"rgb(192, 229, 232)\"],[1.0,\"rgb(234, 252, 253)\"]],\"opacity\":0.1,\"showscale\":false,\"type\":\"surface\",\"x\":[616.75,713.6500000000001],\"y\":[-148.423,155.197],\"z\":[[-254.6,-254.6],[-254.6,-254.6]]},{\"colorscale\":[[0.0,\"rgb(3, 5, 18)\"],[0.09090909090909091,\"rgb(25, 25, 51)\"],[0.18181818181818182,\"rgb(44, 42, 87)\"],[0.2727272727272727,\"rgb(58, 60, 125)\"],[0.36363636363636365,\"rgb(62, 83, 160)\"],[0.45454545454545453,\"rgb(62, 109, 178)\"],[0.5454545454545454,\"rgb(72, 134, 187)\"],[0.6363636363636364,\"rgb(89, 159, 196)\"],[0.7272727272727273,\"rgb(114, 184, 205)\"],[0.8181818181818182,\"rgb(149, 207, 216)\"],[0.9090909090909091,\"rgb(192, 229, 232)\"],[1.0,\"rgb(234, 252, 253)\"]],\"opacity\":0.1,\"showscale\":false,\"type\":\"surface\",\"x\":[616.75,713.6500000000001],\"y\":[-148.423,155.197],\"z\":[[-153.79999999999998,-153.79999999999998],[-153.79999999999998,-153.79999999999998]]},{\"colorscale\":[[0.0,\"rgb(3, 5, 18)\"],[0.09090909090909091,\"rgb(25, 25, 51)\"],[0.18181818181818182,\"rgb(44, 42, 87)\"],[0.2727272727272727,\"rgb(58, 60, 125)\"],[0.36363636363636365,\"rgb(62, 83, 160)\"],[0.45454545454545453,\"rgb(62, 109, 178)\"],[0.5454545454545454,\"rgb(72, 134, 187)\"],[0.6363636363636364,\"rgb(89, 159, 196)\"],[0.7272727272727273,\"rgb(114, 184, 205)\"],[0.8181818181818182,\"rgb(149, 207, 216)\"],[0.9090909090909091,\"rgb(192, 229, 232)\"],[1.0,\"rgb(234, 252, 253)\"]],\"opacity\":0.1,\"showscale\":false,\"type\":\"surface\",\"x\":[718.17,815.07],\"y\":[-148.423,155.197],\"z\":[[-254.6,-254.6],[-254.6,-254.6]]},{\"colorscale\":[[0.0,\"rgb(3, 5, 18)\"],[0.09090909090909091,\"rgb(25, 25, 51)\"],[0.18181818181818182,\"rgb(44, 42, 87)\"],[0.2727272727272727,\"rgb(58, 60, 125)\"],[0.36363636363636365,\"rgb(62, 83, 160)\"],[0.45454545454545453,\"rgb(62, 109, 178)\"],[0.5454545454545454,\"rgb(72, 134, 187)\"],[0.6363636363636364,\"rgb(89, 159, 196)\"],[0.7272727272727273,\"rgb(114, 184, 205)\"],[0.8181818181818182,\"rgb(149, 207, 216)\"],[0.9090909090909091,\"rgb(192, 229, 232)\"],[1.0,\"rgb(234, 252, 253)\"]],\"opacity\":0.1,\"showscale\":false,\"type\":\"surface\",\"x\":[718.17,815.07],\"y\":[-148.423,155.197],\"z\":[[-153.79999999999998,-153.79999999999998],[-153.79999999999998,-153.79999999999998]]},{\"colorscale\":[[0.0,\"rgb(3, 5, 18)\"],[0.09090909090909091,\"rgb(25, 25, 51)\"],[0.18181818181818182,\"rgb(44, 42, 87)\"],[0.2727272727272727,\"rgb(58, 60, 125)\"],[0.36363636363636365,\"rgb(62, 83, 160)\"],[0.45454545454545453,\"rgb(62, 109, 178)\"],[0.5454545454545454,\"rgb(72, 134, 187)\"],[0.6363636363636364,\"rgb(89, 159, 196)\"],[0.7272727272727273,\"rgb(114, 184, 205)\"],[0.8181818181818182,\"rgb(149, 207, 216)\"],[0.9090909090909091,\"rgb(192, 229, 232)\"],[1.0,\"rgb(234, 252, 253)\"]],\"opacity\":0.1,\"showscale\":false,\"type\":\"surface\",\"x\":[819.5899999999999,916.49],\"y\":[-148.423,155.197],\"z\":[[-254.6,-254.6],[-254.6,-254.6]]},{\"colorscale\":[[0.0,\"rgb(3, 5, 18)\"],[0.09090909090909091,\"rgb(25, 25, 51)\"],[0.18181818181818182,\"rgb(44, 42, 87)\"],[0.2727272727272727,\"rgb(58, 60, 125)\"],[0.36363636363636365,\"rgb(62, 83, 160)\"],[0.45454545454545453,\"rgb(62, 109, 178)\"],[0.5454545454545454,\"rgb(72, 134, 187)\"],[0.6363636363636364,\"rgb(89, 159, 196)\"],[0.7272727272727273,\"rgb(114, 184, 205)\"],[0.8181818181818182,\"rgb(149, 207, 216)\"],[0.9090909090909091,\"rgb(192, 229, 232)\"],[1.0,\"rgb(234, 252, 253)\"]],\"opacity\":0.1,\"showscale\":false,\"type\":\"surface\",\"x\":[819.5899999999999,916.49],\"y\":[-148.423,155.197],\"z\":[[-153.79999999999998,-153.79999999999998],[-153.79999999999998,-153.79999999999998]]},{\"colorscale\":[[0.0,\"rgb(3, 5, 18)\"],[0.09090909090909091,\"rgb(25, 25, 51)\"],[0.18181818181818182,\"rgb(44, 42, 87)\"],[0.2727272727272727,\"rgb(58, 60, 125)\"],[0.36363636363636365,\"rgb(62, 83, 160)\"],[0.45454545454545453,\"rgb(62, 109, 178)\"],[0.5454545454545454,\"rgb(72, 134, 187)\"],[0.6363636363636364,\"rgb(89, 159, 196)\"],[0.7272727272727273,\"rgb(114, 184, 205)\"],[0.8181818181818182,\"rgb(149, 207, 216)\"],[0.9090909090909091,\"rgb(192, 229, 232)\"],[1.0,\"rgb(234, 252, 253)\"]],\"opacity\":0.1,\"showscale\":false,\"type\":\"surface\",\"x\":[413.91,510.81],\"y\":[-148.423,155.197],\"z\":[[-152.5,-152.5],[-152.5,-152.5]]},{\"colorscale\":[[0.0,\"rgb(3, 5, 18)\"],[0.09090909090909091,\"rgb(25, 25, 51)\"],[0.18181818181818182,\"rgb(44, 42, 87)\"],[0.2727272727272727,\"rgb(58, 60, 125)\"],[0.36363636363636365,\"rgb(62, 83, 160)\"],[0.45454545454545453,\"rgb(62, 109, 178)\"],[0.5454545454545454,\"rgb(72, 134, 187)\"],[0.6363636363636364,\"rgb(89, 159, 196)\"],[0.7272727272727273,\"rgb(114, 184, 205)\"],[0.8181818181818182,\"rgb(149, 207, 216)\"],[0.9090909090909091,\"rgb(192, 229, 232)\"],[1.0,\"rgb(234, 252, 253)\"]],\"opacity\":0.1,\"showscale\":false,\"type\":\"surface\",\"x\":[413.91,510.81],\"y\":[-148.423,155.197],\"z\":[[-51.699999999999996,-51.699999999999996],[-51.699999999999996,-51.699999999999996]]},{\"colorscale\":[[0.0,\"rgb(3, 5, 18)\"],[0.09090909090909091,\"rgb(25, 25, 51)\"],[0.18181818181818182,\"rgb(44, 42, 87)\"],[0.2727272727272727,\"rgb(58, 60, 125)\"],[0.36363636363636365,\"rgb(62, 83, 160)\"],[0.45454545454545453,\"rgb(62, 109, 178)\"],[0.5454545454545454,\"rgb(72, 134, 187)\"],[0.6363636363636364,\"rgb(89, 159, 196)\"],[0.7272727272727273,\"rgb(114, 184, 205)\"],[0.8181818181818182,\"rgb(149, 207, 216)\"],[0.9090909090909091,\"rgb(192, 229, 232)\"],[1.0,\"rgb(234, 252, 253)\"]],\"opacity\":0.1,\"showscale\":false,\"type\":\"surface\",\"x\":[515.3299999999999,612.23],\"y\":[-148.423,155.197],\"z\":[[-152.5,-152.5],[-152.5,-152.5]]},{\"colorscale\":[[0.0,\"rgb(3, 5, 18)\"],[0.09090909090909091,\"rgb(25, 25, 51)\"],[0.18181818181818182,\"rgb(44, 42, 87)\"],[0.2727272727272727,\"rgb(58, 60, 125)\"],[0.36363636363636365,\"rgb(62, 83, 160)\"],[0.45454545454545453,\"rgb(62, 109, 178)\"],[0.5454545454545454,\"rgb(72, 134, 187)\"],[0.6363636363636364,\"rgb(89, 159, 196)\"],[0.7272727272727273,\"rgb(114, 184, 205)\"],[0.8181818181818182,\"rgb(149, 207, 216)\"],[0.9090909090909091,\"rgb(192, 229, 232)\"],[1.0,\"rgb(234, 252, 253)\"]],\"opacity\":0.1,\"showscale\":false,\"type\":\"surface\",\"x\":[515.3299999999999,612.23],\"y\":[-148.423,155.197],\"z\":[[-51.699999999999996,-51.699999999999996],[-51.699999999999996,-51.699999999999996]]},{\"colorscale\":[[0.0,\"rgb(3, 5, 18)\"],[0.09090909090909091,\"rgb(25, 25, 51)\"],[0.18181818181818182,\"rgb(44, 42, 87)\"],[0.2727272727272727,\"rgb(58, 60, 125)\"],[0.36363636363636365,\"rgb(62, 83, 160)\"],[0.45454545454545453,\"rgb(62, 109, 178)\"],[0.5454545454545454,\"rgb(72, 134, 187)\"],[0.6363636363636364,\"rgb(89, 159, 196)\"],[0.7272727272727273,\"rgb(114, 184, 205)\"],[0.8181818181818182,\"rgb(149, 207, 216)\"],[0.9090909090909091,\"rgb(192, 229, 232)\"],[1.0,\"rgb(234, 252, 253)\"]],\"opacity\":0.1,\"showscale\":false,\"type\":\"surface\",\"x\":[616.75,713.6500000000001],\"y\":[-148.423,155.197],\"z\":[[-152.5,-152.5],[-152.5,-152.5]]},{\"colorscale\":[[0.0,\"rgb(3, 5, 18)\"],[0.09090909090909091,\"rgb(25, 25, 51)\"],[0.18181818181818182,\"rgb(44, 42, 87)\"],[0.2727272727272727,\"rgb(58, 60, 125)\"],[0.36363636363636365,\"rgb(62, 83, 160)\"],[0.45454545454545453,\"rgb(62, 109, 178)\"],[0.5454545454545454,\"rgb(72, 134, 187)\"],[0.6363636363636364,\"rgb(89, 159, 196)\"],[0.7272727272727273,\"rgb(114, 184, 205)\"],[0.8181818181818182,\"rgb(149, 207, 216)\"],[0.9090909090909091,\"rgb(192, 229, 232)\"],[1.0,\"rgb(234, 252, 253)\"]],\"opacity\":0.1,\"showscale\":false,\"type\":\"surface\",\"x\":[616.75,713.6500000000001],\"y\":[-148.423,155.197],\"z\":[[-51.699999999999996,-51.699999999999996],[-51.699999999999996,-51.699999999999996]]},{\"colorscale\":[[0.0,\"rgb(3, 5, 18)\"],[0.09090909090909091,\"rgb(25, 25, 51)\"],[0.18181818181818182,\"rgb(44, 42, 87)\"],[0.2727272727272727,\"rgb(58, 60, 125)\"],[0.36363636363636365,\"rgb(62, 83, 160)\"],[0.45454545454545453,\"rgb(62, 109, 178)\"],[0.5454545454545454,\"rgb(72, 134, 187)\"],[0.6363636363636364,\"rgb(89, 159, 196)\"],[0.7272727272727273,\"rgb(114, 184, 205)\"],[0.8181818181818182,\"rgb(149, 207, 216)\"],[0.9090909090909091,\"rgb(192, 229, 232)\"],[1.0,\"rgb(234, 252, 253)\"]],\"opacity\":0.1,\"showscale\":false,\"type\":\"surface\",\"x\":[718.17,815.07],\"y\":[-148.423,155.197],\"z\":[[-152.5,-152.5],[-152.5,-152.5]]},{\"colorscale\":[[0.0,\"rgb(3, 5, 18)\"],[0.09090909090909091,\"rgb(25, 25, 51)\"],[0.18181818181818182,\"rgb(44, 42, 87)\"],[0.2727272727272727,\"rgb(58, 60, 125)\"],[0.36363636363636365,\"rgb(62, 83, 160)\"],[0.45454545454545453,\"rgb(62, 109, 178)\"],[0.5454545454545454,\"rgb(72, 134, 187)\"],[0.6363636363636364,\"rgb(89, 159, 196)\"],[0.7272727272727273,\"rgb(114, 184, 205)\"],[0.8181818181818182,\"rgb(149, 207, 216)\"],[0.9090909090909091,\"rgb(192, 229, 232)\"],[1.0,\"rgb(234, 252, 253)\"]],\"opacity\":0.1,\"showscale\":false,\"type\":\"surface\",\"x\":[718.17,815.07],\"y\":[-148.423,155.197],\"z\":[[-51.699999999999996,-51.699999999999996],[-51.699999999999996,-51.699999999999996]]},{\"colorscale\":[[0.0,\"rgb(3, 5, 18)\"],[0.09090909090909091,\"rgb(25, 25, 51)\"],[0.18181818181818182,\"rgb(44, 42, 87)\"],[0.2727272727272727,\"rgb(58, 60, 125)\"],[0.36363636363636365,\"rgb(62, 83, 160)\"],[0.45454545454545453,\"rgb(62, 109, 178)\"],[0.5454545454545454,\"rgb(72, 134, 187)\"],[0.6363636363636364,\"rgb(89, 159, 196)\"],[0.7272727272727273,\"rgb(114, 184, 205)\"],[0.8181818181818182,\"rgb(149, 207, 216)\"],[0.9090909090909091,\"rgb(192, 229, 232)\"],[1.0,\"rgb(234, 252, 253)\"]],\"opacity\":0.1,\"showscale\":false,\"type\":\"surface\",\"x\":[819.5899999999999,916.49],\"y\":[-148.423,155.197],\"z\":[[-152.5,-152.5],[-152.5,-152.5]]},{\"colorscale\":[[0.0,\"rgb(3, 5, 18)\"],[0.09090909090909091,\"rgb(25, 25, 51)\"],[0.18181818181818182,\"rgb(44, 42, 87)\"],[0.2727272727272727,\"rgb(58, 60, 125)\"],[0.36363636363636365,\"rgb(62, 83, 160)\"],[0.45454545454545453,\"rgb(62, 109, 178)\"],[0.5454545454545454,\"rgb(72, 134, 187)\"],[0.6363636363636364,\"rgb(89, 159, 196)\"],[0.7272727272727273,\"rgb(114, 184, 205)\"],[0.8181818181818182,\"rgb(149, 207, 216)\"],[0.9090909090909091,\"rgb(192, 229, 232)\"],[1.0,\"rgb(234, 252, 253)\"]],\"opacity\":0.1,\"showscale\":false,\"type\":\"surface\",\"x\":[819.5899999999999,916.49],\"y\":[-148.423,155.197],\"z\":[[-51.699999999999996,-51.699999999999996],[-51.699999999999996,-51.699999999999996]]},{\"colorscale\":[[0.0,\"rgb(3, 5, 18)\"],[0.09090909090909091,\"rgb(25, 25, 51)\"],[0.18181818181818182,\"rgb(44, 42, 87)\"],[0.2727272727272727,\"rgb(58, 60, 125)\"],[0.36363636363636365,\"rgb(62, 83, 160)\"],[0.45454545454545453,\"rgb(62, 109, 178)\"],[0.5454545454545454,\"rgb(72, 134, 187)\"],[0.6363636363636364,\"rgb(89, 159, 196)\"],[0.7272727272727273,\"rgb(114, 184, 205)\"],[0.8181818181818182,\"rgb(149, 207, 216)\"],[0.9090909090909091,\"rgb(192, 229, 232)\"],[1.0,\"rgb(234, 252, 253)\"]],\"opacity\":0.1,\"showscale\":false,\"type\":\"surface\",\"x\":[413.91,510.81],\"y\":[-148.423,155.197],\"z\":[[-50.4,-50.4],[-50.4,-50.4]]},{\"colorscale\":[[0.0,\"rgb(3, 5, 18)\"],[0.09090909090909091,\"rgb(25, 25, 51)\"],[0.18181818181818182,\"rgb(44, 42, 87)\"],[0.2727272727272727,\"rgb(58, 60, 125)\"],[0.36363636363636365,\"rgb(62, 83, 160)\"],[0.45454545454545453,\"rgb(62, 109, 178)\"],[0.5454545454545454,\"rgb(72, 134, 187)\"],[0.6363636363636364,\"rgb(89, 159, 196)\"],[0.7272727272727273,\"rgb(114, 184, 205)\"],[0.8181818181818182,\"rgb(149, 207, 216)\"],[0.9090909090909091,\"rgb(192, 229, 232)\"],[1.0,\"rgb(234, 252, 253)\"]],\"opacity\":0.1,\"showscale\":false,\"type\":\"surface\",\"x\":[413.91,510.81],\"y\":[-148.423,155.197],\"z\":[[50.4,50.4],[50.4,50.4]]},{\"colorscale\":[[0.0,\"rgb(3, 5, 18)\"],[0.09090909090909091,\"rgb(25, 25, 51)\"],[0.18181818181818182,\"rgb(44, 42, 87)\"],[0.2727272727272727,\"rgb(58, 60, 125)\"],[0.36363636363636365,\"rgb(62, 83, 160)\"],[0.45454545454545453,\"rgb(62, 109, 178)\"],[0.5454545454545454,\"rgb(72, 134, 187)\"],[0.6363636363636364,\"rgb(89, 159, 196)\"],[0.7272727272727273,\"rgb(114, 184, 205)\"],[0.8181818181818182,\"rgb(149, 207, 216)\"],[0.9090909090909091,\"rgb(192, 229, 232)\"],[1.0,\"rgb(234, 252, 253)\"]],\"opacity\":0.1,\"showscale\":false,\"type\":\"surface\",\"x\":[515.3299999999999,612.23],\"y\":[-148.423,155.197],\"z\":[[-50.4,-50.4],[-50.4,-50.4]]},{\"colorscale\":[[0.0,\"rgb(3, 5, 18)\"],[0.09090909090909091,\"rgb(25, 25, 51)\"],[0.18181818181818182,\"rgb(44, 42, 87)\"],[0.2727272727272727,\"rgb(58, 60, 125)\"],[0.36363636363636365,\"rgb(62, 83, 160)\"],[0.45454545454545453,\"rgb(62, 109, 178)\"],[0.5454545454545454,\"rgb(72, 134, 187)\"],[0.6363636363636364,\"rgb(89, 159, 196)\"],[0.7272727272727273,\"rgb(114, 184, 205)\"],[0.8181818181818182,\"rgb(149, 207, 216)\"],[0.9090909090909091,\"rgb(192, 229, 232)\"],[1.0,\"rgb(234, 252, 253)\"]],\"opacity\":0.1,\"showscale\":false,\"type\":\"surface\",\"x\":[515.3299999999999,612.23],\"y\":[-148.423,155.197],\"z\":[[50.4,50.4],[50.4,50.4]]},{\"colorscale\":[[0.0,\"rgb(3, 5, 18)\"],[0.09090909090909091,\"rgb(25, 25, 51)\"],[0.18181818181818182,\"rgb(44, 42, 87)\"],[0.2727272727272727,\"rgb(58, 60, 125)\"],[0.36363636363636365,\"rgb(62, 83, 160)\"],[0.45454545454545453,\"rgb(62, 109, 178)\"],[0.5454545454545454,\"rgb(72, 134, 187)\"],[0.6363636363636364,\"rgb(89, 159, 196)\"],[0.7272727272727273,\"rgb(114, 184, 205)\"],[0.8181818181818182,\"rgb(149, 207, 216)\"],[0.9090909090909091,\"rgb(192, 229, 232)\"],[1.0,\"rgb(234, 252, 253)\"]],\"opacity\":0.1,\"showscale\":false,\"type\":\"surface\",\"x\":[616.75,713.6500000000001],\"y\":[-148.423,155.197],\"z\":[[-50.4,-50.4],[-50.4,-50.4]]},{\"colorscale\":[[0.0,\"rgb(3, 5, 18)\"],[0.09090909090909091,\"rgb(25, 25, 51)\"],[0.18181818181818182,\"rgb(44, 42, 87)\"],[0.2727272727272727,\"rgb(58, 60, 125)\"],[0.36363636363636365,\"rgb(62, 83, 160)\"],[0.45454545454545453,\"rgb(62, 109, 178)\"],[0.5454545454545454,\"rgb(72, 134, 187)\"],[0.6363636363636364,\"rgb(89, 159, 196)\"],[0.7272727272727273,\"rgb(114, 184, 205)\"],[0.8181818181818182,\"rgb(149, 207, 216)\"],[0.9090909090909091,\"rgb(192, 229, 232)\"],[1.0,\"rgb(234, 252, 253)\"]],\"opacity\":0.1,\"showscale\":false,\"type\":\"surface\",\"x\":[616.75,713.6500000000001],\"y\":[-148.423,155.197],\"z\":[[50.4,50.4],[50.4,50.4]]},{\"colorscale\":[[0.0,\"rgb(3, 5, 18)\"],[0.09090909090909091,\"rgb(25, 25, 51)\"],[0.18181818181818182,\"rgb(44, 42, 87)\"],[0.2727272727272727,\"rgb(58, 60, 125)\"],[0.36363636363636365,\"rgb(62, 83, 160)\"],[0.45454545454545453,\"rgb(62, 109, 178)\"],[0.5454545454545454,\"rgb(72, 134, 187)\"],[0.6363636363636364,\"rgb(89, 159, 196)\"],[0.7272727272727273,\"rgb(114, 184, 205)\"],[0.8181818181818182,\"rgb(149, 207, 216)\"],[0.9090909090909091,\"rgb(192, 229, 232)\"],[1.0,\"rgb(234, 252, 253)\"]],\"opacity\":0.1,\"showscale\":false,\"type\":\"surface\",\"x\":[718.17,815.07],\"y\":[-148.423,155.197],\"z\":[[-50.4,-50.4],[-50.4,-50.4]]},{\"colorscale\":[[0.0,\"rgb(3, 5, 18)\"],[0.09090909090909091,\"rgb(25, 25, 51)\"],[0.18181818181818182,\"rgb(44, 42, 87)\"],[0.2727272727272727,\"rgb(58, 60, 125)\"],[0.36363636363636365,\"rgb(62, 83, 160)\"],[0.45454545454545453,\"rgb(62, 109, 178)\"],[0.5454545454545454,\"rgb(72, 134, 187)\"],[0.6363636363636364,\"rgb(89, 159, 196)\"],[0.7272727272727273,\"rgb(114, 184, 205)\"],[0.8181818181818182,\"rgb(149, 207, 216)\"],[0.9090909090909091,\"rgb(192, 229, 232)\"],[1.0,\"rgb(234, 252, 253)\"]],\"opacity\":0.1,\"showscale\":false,\"type\":\"surface\",\"x\":[718.17,815.07],\"y\":[-148.423,155.197],\"z\":[[50.4,50.4],[50.4,50.4]]},{\"colorscale\":[[0.0,\"rgb(3, 5, 18)\"],[0.09090909090909091,\"rgb(25, 25, 51)\"],[0.18181818181818182,\"rgb(44, 42, 87)\"],[0.2727272727272727,\"rgb(58, 60, 125)\"],[0.36363636363636365,\"rgb(62, 83, 160)\"],[0.45454545454545453,\"rgb(62, 109, 178)\"],[0.5454545454545454,\"rgb(72, 134, 187)\"],[0.6363636363636364,\"rgb(89, 159, 196)\"],[0.7272727272727273,\"rgb(114, 184, 205)\"],[0.8181818181818182,\"rgb(149, 207, 216)\"],[0.9090909090909091,\"rgb(192, 229, 232)\"],[1.0,\"rgb(234, 252, 253)\"]],\"opacity\":0.1,\"showscale\":false,\"type\":\"surface\",\"x\":[819.5899999999999,916.49],\"y\":[-148.423,155.197],\"z\":[[-50.4,-50.4],[-50.4,-50.4]]},{\"colorscale\":[[0.0,\"rgb(3, 5, 18)\"],[0.09090909090909091,\"rgb(25, 25, 51)\"],[0.18181818181818182,\"rgb(44, 42, 87)\"],[0.2727272727272727,\"rgb(58, 60, 125)\"],[0.36363636363636365,\"rgb(62, 83, 160)\"],[0.45454545454545453,\"rgb(62, 109, 178)\"],[0.5454545454545454,\"rgb(72, 134, 187)\"],[0.6363636363636364,\"rgb(89, 159, 196)\"],[0.7272727272727273,\"rgb(114, 184, 205)\"],[0.8181818181818182,\"rgb(149, 207, 216)\"],[0.9090909090909091,\"rgb(192, 229, 232)\"],[1.0,\"rgb(234, 252, 253)\"]],\"opacity\":0.1,\"showscale\":false,\"type\":\"surface\",\"x\":[819.5899999999999,916.49],\"y\":[-148.423,155.197],\"z\":[[50.4,50.4],[50.4,50.4]]},{\"colorscale\":[[0.0,\"rgb(3, 5, 18)\"],[0.09090909090909091,\"rgb(25, 25, 51)\"],[0.18181818181818182,\"rgb(44, 42, 87)\"],[0.2727272727272727,\"rgb(58, 60, 125)\"],[0.36363636363636365,\"rgb(62, 83, 160)\"],[0.45454545454545453,\"rgb(62, 109, 178)\"],[0.5454545454545454,\"rgb(72, 134, 187)\"],[0.6363636363636364,\"rgb(89, 159, 196)\"],[0.7272727272727273,\"rgb(114, 184, 205)\"],[0.8181818181818182,\"rgb(149, 207, 216)\"],[0.9090909090909091,\"rgb(192, 229, 232)\"],[1.0,\"rgb(234, 252, 253)\"]],\"opacity\":0.1,\"showscale\":false,\"type\":\"surface\",\"x\":[413.91,510.81],\"y\":[-148.423,155.197],\"z\":[[51.699999999999996,51.699999999999996],[51.699999999999996,51.699999999999996]]},{\"colorscale\":[[0.0,\"rgb(3, 5, 18)\"],[0.09090909090909091,\"rgb(25, 25, 51)\"],[0.18181818181818182,\"rgb(44, 42, 87)\"],[0.2727272727272727,\"rgb(58, 60, 125)\"],[0.36363636363636365,\"rgb(62, 83, 160)\"],[0.45454545454545453,\"rgb(62, 109, 178)\"],[0.5454545454545454,\"rgb(72, 134, 187)\"],[0.6363636363636364,\"rgb(89, 159, 196)\"],[0.7272727272727273,\"rgb(114, 184, 205)\"],[0.8181818181818182,\"rgb(149, 207, 216)\"],[0.9090909090909091,\"rgb(192, 229, 232)\"],[1.0,\"rgb(234, 252, 253)\"]],\"opacity\":0.1,\"showscale\":false,\"type\":\"surface\",\"x\":[413.91,510.81],\"y\":[-148.423,155.197],\"z\":[[152.5,152.5],[152.5,152.5]]},{\"colorscale\":[[0.0,\"rgb(3, 5, 18)\"],[0.09090909090909091,\"rgb(25, 25, 51)\"],[0.18181818181818182,\"rgb(44, 42, 87)\"],[0.2727272727272727,\"rgb(58, 60, 125)\"],[0.36363636363636365,\"rgb(62, 83, 160)\"],[0.45454545454545453,\"rgb(62, 109, 178)\"],[0.5454545454545454,\"rgb(72, 134, 187)\"],[0.6363636363636364,\"rgb(89, 159, 196)\"],[0.7272727272727273,\"rgb(114, 184, 205)\"],[0.8181818181818182,\"rgb(149, 207, 216)\"],[0.9090909090909091,\"rgb(192, 229, 232)\"],[1.0,\"rgb(234, 252, 253)\"]],\"opacity\":0.1,\"showscale\":false,\"type\":\"surface\",\"x\":[515.3299999999999,612.23],\"y\":[-148.423,155.197],\"z\":[[51.699999999999996,51.699999999999996],[51.699999999999996,51.699999999999996]]},{\"colorscale\":[[0.0,\"rgb(3, 5, 18)\"],[0.09090909090909091,\"rgb(25, 25, 51)\"],[0.18181818181818182,\"rgb(44, 42, 87)\"],[0.2727272727272727,\"rgb(58, 60, 125)\"],[0.36363636363636365,\"rgb(62, 83, 160)\"],[0.45454545454545453,\"rgb(62, 109, 178)\"],[0.5454545454545454,\"rgb(72, 134, 187)\"],[0.6363636363636364,\"rgb(89, 159, 196)\"],[0.7272727272727273,\"rgb(114, 184, 205)\"],[0.8181818181818182,\"rgb(149, 207, 216)\"],[0.9090909090909091,\"rgb(192, 229, 232)\"],[1.0,\"rgb(234, 252, 253)\"]],\"opacity\":0.1,\"showscale\":false,\"type\":\"surface\",\"x\":[515.3299999999999,612.23],\"y\":[-148.423,155.197],\"z\":[[152.5,152.5],[152.5,152.5]]},{\"colorscale\":[[0.0,\"rgb(3, 5, 18)\"],[0.09090909090909091,\"rgb(25, 25, 51)\"],[0.18181818181818182,\"rgb(44, 42, 87)\"],[0.2727272727272727,\"rgb(58, 60, 125)\"],[0.36363636363636365,\"rgb(62, 83, 160)\"],[0.45454545454545453,\"rgb(62, 109, 178)\"],[0.5454545454545454,\"rgb(72, 134, 187)\"],[0.6363636363636364,\"rgb(89, 159, 196)\"],[0.7272727272727273,\"rgb(114, 184, 205)\"],[0.8181818181818182,\"rgb(149, 207, 216)\"],[0.9090909090909091,\"rgb(192, 229, 232)\"],[1.0,\"rgb(234, 252, 253)\"]],\"opacity\":0.1,\"showscale\":false,\"type\":\"surface\",\"x\":[616.75,713.6500000000001],\"y\":[-148.423,155.197],\"z\":[[51.699999999999996,51.699999999999996],[51.699999999999996,51.699999999999996]]},{\"colorscale\":[[0.0,\"rgb(3, 5, 18)\"],[0.09090909090909091,\"rgb(25, 25, 51)\"],[0.18181818181818182,\"rgb(44, 42, 87)\"],[0.2727272727272727,\"rgb(58, 60, 125)\"],[0.36363636363636365,\"rgb(62, 83, 160)\"],[0.45454545454545453,\"rgb(62, 109, 178)\"],[0.5454545454545454,\"rgb(72, 134, 187)\"],[0.6363636363636364,\"rgb(89, 159, 196)\"],[0.7272727272727273,\"rgb(114, 184, 205)\"],[0.8181818181818182,\"rgb(149, 207, 216)\"],[0.9090909090909091,\"rgb(192, 229, 232)\"],[1.0,\"rgb(234, 252, 253)\"]],\"opacity\":0.1,\"showscale\":false,\"type\":\"surface\",\"x\":[616.75,713.6500000000001],\"y\":[-148.423,155.197],\"z\":[[152.5,152.5],[152.5,152.5]]},{\"colorscale\":[[0.0,\"rgb(3, 5, 18)\"],[0.09090909090909091,\"rgb(25, 25, 51)\"],[0.18181818181818182,\"rgb(44, 42, 87)\"],[0.2727272727272727,\"rgb(58, 60, 125)\"],[0.36363636363636365,\"rgb(62, 83, 160)\"],[0.45454545454545453,\"rgb(62, 109, 178)\"],[0.5454545454545454,\"rgb(72, 134, 187)\"],[0.6363636363636364,\"rgb(89, 159, 196)\"],[0.7272727272727273,\"rgb(114, 184, 205)\"],[0.8181818181818182,\"rgb(149, 207, 216)\"],[0.9090909090909091,\"rgb(192, 229, 232)\"],[1.0,\"rgb(234, 252, 253)\"]],\"opacity\":0.1,\"showscale\":false,\"type\":\"surface\",\"x\":[718.17,815.07],\"y\":[-148.423,155.197],\"z\":[[51.699999999999996,51.699999999999996],[51.699999999999996,51.699999999999996]]},{\"colorscale\":[[0.0,\"rgb(3, 5, 18)\"],[0.09090909090909091,\"rgb(25, 25, 51)\"],[0.18181818181818182,\"rgb(44, 42, 87)\"],[0.2727272727272727,\"rgb(58, 60, 125)\"],[0.36363636363636365,\"rgb(62, 83, 160)\"],[0.45454545454545453,\"rgb(62, 109, 178)\"],[0.5454545454545454,\"rgb(72, 134, 187)\"],[0.6363636363636364,\"rgb(89, 159, 196)\"],[0.7272727272727273,\"rgb(114, 184, 205)\"],[0.8181818181818182,\"rgb(149, 207, 216)\"],[0.9090909090909091,\"rgb(192, 229, 232)\"],[1.0,\"rgb(234, 252, 253)\"]],\"opacity\":0.1,\"showscale\":false,\"type\":\"surface\",\"x\":[718.17,815.07],\"y\":[-148.423,155.197],\"z\":[[152.5,152.5],[152.5,152.5]]},{\"colorscale\":[[0.0,\"rgb(3, 5, 18)\"],[0.09090909090909091,\"rgb(25, 25, 51)\"],[0.18181818181818182,\"rgb(44, 42, 87)\"],[0.2727272727272727,\"rgb(58, 60, 125)\"],[0.36363636363636365,\"rgb(62, 83, 160)\"],[0.45454545454545453,\"rgb(62, 109, 178)\"],[0.5454545454545454,\"rgb(72, 134, 187)\"],[0.6363636363636364,\"rgb(89, 159, 196)\"],[0.7272727272727273,\"rgb(114, 184, 205)\"],[0.8181818181818182,\"rgb(149, 207, 216)\"],[0.9090909090909091,\"rgb(192, 229, 232)\"],[1.0,\"rgb(234, 252, 253)\"]],\"opacity\":0.1,\"showscale\":false,\"type\":\"surface\",\"x\":[819.5899999999999,916.49],\"y\":[-148.423,155.197],\"z\":[[51.699999999999996,51.699999999999996],[51.699999999999996,51.699999999999996]]},{\"colorscale\":[[0.0,\"rgb(3, 5, 18)\"],[0.09090909090909091,\"rgb(25, 25, 51)\"],[0.18181818181818182,\"rgb(44, 42, 87)\"],[0.2727272727272727,\"rgb(58, 60, 125)\"],[0.36363636363636365,\"rgb(62, 83, 160)\"],[0.45454545454545453,\"rgb(62, 109, 178)\"],[0.5454545454545454,\"rgb(72, 134, 187)\"],[0.6363636363636364,\"rgb(89, 159, 196)\"],[0.7272727272727273,\"rgb(114, 184, 205)\"],[0.8181818181818182,\"rgb(149, 207, 216)\"],[0.9090909090909091,\"rgb(192, 229, 232)\"],[1.0,\"rgb(234, 252, 253)\"]],\"opacity\":0.1,\"showscale\":false,\"type\":\"surface\",\"x\":[819.5899999999999,916.49],\"y\":[-148.423,155.197],\"z\":[[152.5,152.5],[152.5,152.5]]},{\"colorscale\":[[0.0,\"rgb(3, 5, 18)\"],[0.09090909090909091,\"rgb(25, 25, 51)\"],[0.18181818181818182,\"rgb(44, 42, 87)\"],[0.2727272727272727,\"rgb(58, 60, 125)\"],[0.36363636363636365,\"rgb(62, 83, 160)\"],[0.45454545454545453,\"rgb(62, 109, 178)\"],[0.5454545454545454,\"rgb(72, 134, 187)\"],[0.6363636363636364,\"rgb(89, 159, 196)\"],[0.7272727272727273,\"rgb(114, 184, 205)\"],[0.8181818181818182,\"rgb(149, 207, 216)\"],[0.9090909090909091,\"rgb(192, 229, 232)\"],[1.0,\"rgb(234, 252, 253)\"]],\"opacity\":0.1,\"showscale\":false,\"type\":\"surface\",\"x\":[413.91,510.81],\"y\":[-148.423,155.197],\"z\":[[153.79999999999998,153.79999999999998],[153.79999999999998,153.79999999999998]]},{\"colorscale\":[[0.0,\"rgb(3, 5, 18)\"],[0.09090909090909091,\"rgb(25, 25, 51)\"],[0.18181818181818182,\"rgb(44, 42, 87)\"],[0.2727272727272727,\"rgb(58, 60, 125)\"],[0.36363636363636365,\"rgb(62, 83, 160)\"],[0.45454545454545453,\"rgb(62, 109, 178)\"],[0.5454545454545454,\"rgb(72, 134, 187)\"],[0.6363636363636364,\"rgb(89, 159, 196)\"],[0.7272727272727273,\"rgb(114, 184, 205)\"],[0.8181818181818182,\"rgb(149, 207, 216)\"],[0.9090909090909091,\"rgb(192, 229, 232)\"],[1.0,\"rgb(234, 252, 253)\"]],\"opacity\":0.1,\"showscale\":false,\"type\":\"surface\",\"x\":[413.91,510.81],\"y\":[-148.423,155.197],\"z\":[[254.6,254.6],[254.6,254.6]]},{\"colorscale\":[[0.0,\"rgb(3, 5, 18)\"],[0.09090909090909091,\"rgb(25, 25, 51)\"],[0.18181818181818182,\"rgb(44, 42, 87)\"],[0.2727272727272727,\"rgb(58, 60, 125)\"],[0.36363636363636365,\"rgb(62, 83, 160)\"],[0.45454545454545453,\"rgb(62, 109, 178)\"],[0.5454545454545454,\"rgb(72, 134, 187)\"],[0.6363636363636364,\"rgb(89, 159, 196)\"],[0.7272727272727273,\"rgb(114, 184, 205)\"],[0.8181818181818182,\"rgb(149, 207, 216)\"],[0.9090909090909091,\"rgb(192, 229, 232)\"],[1.0,\"rgb(234, 252, 253)\"]],\"opacity\":0.1,\"showscale\":false,\"type\":\"surface\",\"x\":[515.3299999999999,612.23],\"y\":[-148.423,155.197],\"z\":[[153.79999999999998,153.79999999999998],[153.79999999999998,153.79999999999998]]},{\"colorscale\":[[0.0,\"rgb(3, 5, 18)\"],[0.09090909090909091,\"rgb(25, 25, 51)\"],[0.18181818181818182,\"rgb(44, 42, 87)\"],[0.2727272727272727,\"rgb(58, 60, 125)\"],[0.36363636363636365,\"rgb(62, 83, 160)\"],[0.45454545454545453,\"rgb(62, 109, 178)\"],[0.5454545454545454,\"rgb(72, 134, 187)\"],[0.6363636363636364,\"rgb(89, 159, 196)\"],[0.7272727272727273,\"rgb(114, 184, 205)\"],[0.8181818181818182,\"rgb(149, 207, 216)\"],[0.9090909090909091,\"rgb(192, 229, 232)\"],[1.0,\"rgb(234, 252, 253)\"]],\"opacity\":0.1,\"showscale\":false,\"type\":\"surface\",\"x\":[515.3299999999999,612.23],\"y\":[-148.423,155.197],\"z\":[[254.6,254.6],[254.6,254.6]]},{\"colorscale\":[[0.0,\"rgb(3, 5, 18)\"],[0.09090909090909091,\"rgb(25, 25, 51)\"],[0.18181818181818182,\"rgb(44, 42, 87)\"],[0.2727272727272727,\"rgb(58, 60, 125)\"],[0.36363636363636365,\"rgb(62, 83, 160)\"],[0.45454545454545453,\"rgb(62, 109, 178)\"],[0.5454545454545454,\"rgb(72, 134, 187)\"],[0.6363636363636364,\"rgb(89, 159, 196)\"],[0.7272727272727273,\"rgb(114, 184, 205)\"],[0.8181818181818182,\"rgb(149, 207, 216)\"],[0.9090909090909091,\"rgb(192, 229, 232)\"],[1.0,\"rgb(234, 252, 253)\"]],\"opacity\":0.1,\"showscale\":false,\"type\":\"surface\",\"x\":[616.75,713.6500000000001],\"y\":[-148.423,155.197],\"z\":[[153.79999999999998,153.79999999999998],[153.79999999999998,153.79999999999998]]},{\"colorscale\":[[0.0,\"rgb(3, 5, 18)\"],[0.09090909090909091,\"rgb(25, 25, 51)\"],[0.18181818181818182,\"rgb(44, 42, 87)\"],[0.2727272727272727,\"rgb(58, 60, 125)\"],[0.36363636363636365,\"rgb(62, 83, 160)\"],[0.45454545454545453,\"rgb(62, 109, 178)\"],[0.5454545454545454,\"rgb(72, 134, 187)\"],[0.6363636363636364,\"rgb(89, 159, 196)\"],[0.7272727272727273,\"rgb(114, 184, 205)\"],[0.8181818181818182,\"rgb(149, 207, 216)\"],[0.9090909090909091,\"rgb(192, 229, 232)\"],[1.0,\"rgb(234, 252, 253)\"]],\"opacity\":0.1,\"showscale\":false,\"type\":\"surface\",\"x\":[616.75,713.6500000000001],\"y\":[-148.423,155.197],\"z\":[[254.6,254.6],[254.6,254.6]]},{\"colorscale\":[[0.0,\"rgb(3, 5, 18)\"],[0.09090909090909091,\"rgb(25, 25, 51)\"],[0.18181818181818182,\"rgb(44, 42, 87)\"],[0.2727272727272727,\"rgb(58, 60, 125)\"],[0.36363636363636365,\"rgb(62, 83, 160)\"],[0.45454545454545453,\"rgb(62, 109, 178)\"],[0.5454545454545454,\"rgb(72, 134, 187)\"],[0.6363636363636364,\"rgb(89, 159, 196)\"],[0.7272727272727273,\"rgb(114, 184, 205)\"],[0.8181818181818182,\"rgb(149, 207, 216)\"],[0.9090909090909091,\"rgb(192, 229, 232)\"],[1.0,\"rgb(234, 252, 253)\"]],\"opacity\":0.1,\"showscale\":false,\"type\":\"surface\",\"x\":[718.17,815.07],\"y\":[-148.423,155.197],\"z\":[[153.79999999999998,153.79999999999998],[153.79999999999998,153.79999999999998]]},{\"colorscale\":[[0.0,\"rgb(3, 5, 18)\"],[0.09090909090909091,\"rgb(25, 25, 51)\"],[0.18181818181818182,\"rgb(44, 42, 87)\"],[0.2727272727272727,\"rgb(58, 60, 125)\"],[0.36363636363636365,\"rgb(62, 83, 160)\"],[0.45454545454545453,\"rgb(62, 109, 178)\"],[0.5454545454545454,\"rgb(72, 134, 187)\"],[0.6363636363636364,\"rgb(89, 159, 196)\"],[0.7272727272727273,\"rgb(114, 184, 205)\"],[0.8181818181818182,\"rgb(149, 207, 216)\"],[0.9090909090909091,\"rgb(192, 229, 232)\"],[1.0,\"rgb(234, 252, 253)\"]],\"opacity\":0.1,\"showscale\":false,\"type\":\"surface\",\"x\":[718.17,815.07],\"y\":[-148.423,155.197],\"z\":[[254.6,254.6],[254.6,254.6]]},{\"colorscale\":[[0.0,\"rgb(3, 5, 18)\"],[0.09090909090909091,\"rgb(25, 25, 51)\"],[0.18181818181818182,\"rgb(44, 42, 87)\"],[0.2727272727272727,\"rgb(58, 60, 125)\"],[0.36363636363636365,\"rgb(62, 83, 160)\"],[0.45454545454545453,\"rgb(62, 109, 178)\"],[0.5454545454545454,\"rgb(72, 134, 187)\"],[0.6363636363636364,\"rgb(89, 159, 196)\"],[0.7272727272727273,\"rgb(114, 184, 205)\"],[0.8181818181818182,\"rgb(149, 207, 216)\"],[0.9090909090909091,\"rgb(192, 229, 232)\"],[1.0,\"rgb(234, 252, 253)\"]],\"opacity\":0.1,\"showscale\":false,\"type\":\"surface\",\"x\":[819.5899999999999,916.49],\"y\":[-148.423,155.197],\"z\":[[153.79999999999998,153.79999999999998],[153.79999999999998,153.79999999999998]]},{\"colorscale\":[[0.0,\"rgb(3, 5, 18)\"],[0.09090909090909091,\"rgb(25, 25, 51)\"],[0.18181818181818182,\"rgb(44, 42, 87)\"],[0.2727272727272727,\"rgb(58, 60, 125)\"],[0.36363636363636365,\"rgb(62, 83, 160)\"],[0.45454545454545453,\"rgb(62, 109, 178)\"],[0.5454545454545454,\"rgb(72, 134, 187)\"],[0.6363636363636364,\"rgb(89, 159, 196)\"],[0.7272727272727273,\"rgb(114, 184, 205)\"],[0.8181818181818182,\"rgb(149, 207, 216)\"],[0.9090909090909091,\"rgb(192, 229, 232)\"],[1.0,\"rgb(234, 252, 253)\"]],\"opacity\":0.1,\"showscale\":false,\"type\":\"surface\",\"x\":[819.5899999999999,916.49],\"y\":[-148.423,155.197],\"z\":[[254.6,254.6],[254.6,254.6]]},{\"colorscale\":[[0.0,\"rgb(3, 5, 18)\"],[0.09090909090909091,\"rgb(25, 25, 51)\"],[0.18181818181818182,\"rgb(44, 42, 87)\"],[0.2727272727272727,\"rgb(58, 60, 125)\"],[0.36363636363636365,\"rgb(62, 83, 160)\"],[0.45454545454545453,\"rgb(62, 109, 178)\"],[0.5454545454545454,\"rgb(72, 134, 187)\"],[0.6363636363636364,\"rgb(89, 159, 196)\"],[0.7272727272727273,\"rgb(114, 184, 205)\"],[0.8181818181818182,\"rgb(149, 207, 216)\"],[0.9090909090909091,\"rgb(192, 229, 232)\"],[1.0,\"rgb(234, 252, 253)\"]],\"opacity\":0.1,\"showscale\":false,\"type\":\"surface\",\"x\":[413.91,510.81],\"y\":[-148.423,155.197],\"z\":[[255.9,255.9],[255.9,255.9]]},{\"colorscale\":[[0.0,\"rgb(3, 5, 18)\"],[0.09090909090909091,\"rgb(25, 25, 51)\"],[0.18181818181818182,\"rgb(44, 42, 87)\"],[0.2727272727272727,\"rgb(58, 60, 125)\"],[0.36363636363636365,\"rgb(62, 83, 160)\"],[0.45454545454545453,\"rgb(62, 109, 178)\"],[0.5454545454545454,\"rgb(72, 134, 187)\"],[0.6363636363636364,\"rgb(89, 159, 196)\"],[0.7272727272727273,\"rgb(114, 184, 205)\"],[0.8181818181818182,\"rgb(149, 207, 216)\"],[0.9090909090909091,\"rgb(192, 229, 232)\"],[1.0,\"rgb(234, 252, 253)\"]],\"opacity\":0.1,\"showscale\":false,\"type\":\"surface\",\"x\":[413.91,510.81],\"y\":[-148.423,155.197],\"z\":[[356.7,356.7],[356.7,356.7]]},{\"colorscale\":[[0.0,\"rgb(3, 5, 18)\"],[0.09090909090909091,\"rgb(25, 25, 51)\"],[0.18181818181818182,\"rgb(44, 42, 87)\"],[0.2727272727272727,\"rgb(58, 60, 125)\"],[0.36363636363636365,\"rgb(62, 83, 160)\"],[0.45454545454545453,\"rgb(62, 109, 178)\"],[0.5454545454545454,\"rgb(72, 134, 187)\"],[0.6363636363636364,\"rgb(89, 159, 196)\"],[0.7272727272727273,\"rgb(114, 184, 205)\"],[0.8181818181818182,\"rgb(149, 207, 216)\"],[0.9090909090909091,\"rgb(192, 229, 232)\"],[1.0,\"rgb(234, 252, 253)\"]],\"opacity\":0.1,\"showscale\":false,\"type\":\"surface\",\"x\":[515.3299999999999,612.23],\"y\":[-148.423,155.197],\"z\":[[255.9,255.9],[255.9,255.9]]},{\"colorscale\":[[0.0,\"rgb(3, 5, 18)\"],[0.09090909090909091,\"rgb(25, 25, 51)\"],[0.18181818181818182,\"rgb(44, 42, 87)\"],[0.2727272727272727,\"rgb(58, 60, 125)\"],[0.36363636363636365,\"rgb(62, 83, 160)\"],[0.45454545454545453,\"rgb(62, 109, 178)\"],[0.5454545454545454,\"rgb(72, 134, 187)\"],[0.6363636363636364,\"rgb(89, 159, 196)\"],[0.7272727272727273,\"rgb(114, 184, 205)\"],[0.8181818181818182,\"rgb(149, 207, 216)\"],[0.9090909090909091,\"rgb(192, 229, 232)\"],[1.0,\"rgb(234, 252, 253)\"]],\"opacity\":0.1,\"showscale\":false,\"type\":\"surface\",\"x\":[515.3299999999999,612.23],\"y\":[-148.423,155.197],\"z\":[[356.7,356.7],[356.7,356.7]]},{\"colorscale\":[[0.0,\"rgb(3, 5, 18)\"],[0.09090909090909091,\"rgb(25, 25, 51)\"],[0.18181818181818182,\"rgb(44, 42, 87)\"],[0.2727272727272727,\"rgb(58, 60, 125)\"],[0.36363636363636365,\"rgb(62, 83, 160)\"],[0.45454545454545453,\"rgb(62, 109, 178)\"],[0.5454545454545454,\"rgb(72, 134, 187)\"],[0.6363636363636364,\"rgb(89, 159, 196)\"],[0.7272727272727273,\"rgb(114, 184, 205)\"],[0.8181818181818182,\"rgb(149, 207, 216)\"],[0.9090909090909091,\"rgb(192, 229, 232)\"],[1.0,\"rgb(234, 252, 253)\"]],\"opacity\":0.1,\"showscale\":false,\"type\":\"surface\",\"x\":[616.75,713.6500000000001],\"y\":[-148.423,155.197],\"z\":[[255.9,255.9],[255.9,255.9]]},{\"colorscale\":[[0.0,\"rgb(3, 5, 18)\"],[0.09090909090909091,\"rgb(25, 25, 51)\"],[0.18181818181818182,\"rgb(44, 42, 87)\"],[0.2727272727272727,\"rgb(58, 60, 125)\"],[0.36363636363636365,\"rgb(62, 83, 160)\"],[0.45454545454545453,\"rgb(62, 109, 178)\"],[0.5454545454545454,\"rgb(72, 134, 187)\"],[0.6363636363636364,\"rgb(89, 159, 196)\"],[0.7272727272727273,\"rgb(114, 184, 205)\"],[0.8181818181818182,\"rgb(149, 207, 216)\"],[0.9090909090909091,\"rgb(192, 229, 232)\"],[1.0,\"rgb(234, 252, 253)\"]],\"opacity\":0.1,\"showscale\":false,\"type\":\"surface\",\"x\":[616.75,713.6500000000001],\"y\":[-148.423,155.197],\"z\":[[356.7,356.7],[356.7,356.7]]},{\"colorscale\":[[0.0,\"rgb(3, 5, 18)\"],[0.09090909090909091,\"rgb(25, 25, 51)\"],[0.18181818181818182,\"rgb(44, 42, 87)\"],[0.2727272727272727,\"rgb(58, 60, 125)\"],[0.36363636363636365,\"rgb(62, 83, 160)\"],[0.45454545454545453,\"rgb(62, 109, 178)\"],[0.5454545454545454,\"rgb(72, 134, 187)\"],[0.6363636363636364,\"rgb(89, 159, 196)\"],[0.7272727272727273,\"rgb(114, 184, 205)\"],[0.8181818181818182,\"rgb(149, 207, 216)\"],[0.9090909090909091,\"rgb(192, 229, 232)\"],[1.0,\"rgb(234, 252, 253)\"]],\"opacity\":0.1,\"showscale\":false,\"type\":\"surface\",\"x\":[718.17,815.07],\"y\":[-148.423,155.197],\"z\":[[255.9,255.9],[255.9,255.9]]},{\"colorscale\":[[0.0,\"rgb(3, 5, 18)\"],[0.09090909090909091,\"rgb(25, 25, 51)\"],[0.18181818181818182,\"rgb(44, 42, 87)\"],[0.2727272727272727,\"rgb(58, 60, 125)\"],[0.36363636363636365,\"rgb(62, 83, 160)\"],[0.45454545454545453,\"rgb(62, 109, 178)\"],[0.5454545454545454,\"rgb(72, 134, 187)\"],[0.6363636363636364,\"rgb(89, 159, 196)\"],[0.7272727272727273,\"rgb(114, 184, 205)\"],[0.8181818181818182,\"rgb(149, 207, 216)\"],[0.9090909090909091,\"rgb(192, 229, 232)\"],[1.0,\"rgb(234, 252, 253)\"]],\"opacity\":0.1,\"showscale\":false,\"type\":\"surface\",\"x\":[718.17,815.07],\"y\":[-148.423,155.197],\"z\":[[356.7,356.7],[356.7,356.7]]},{\"colorscale\":[[0.0,\"rgb(3, 5, 18)\"],[0.09090909090909091,\"rgb(25, 25, 51)\"],[0.18181818181818182,\"rgb(44, 42, 87)\"],[0.2727272727272727,\"rgb(58, 60, 125)\"],[0.36363636363636365,\"rgb(62, 83, 160)\"],[0.45454545454545453,\"rgb(62, 109, 178)\"],[0.5454545454545454,\"rgb(72, 134, 187)\"],[0.6363636363636364,\"rgb(89, 159, 196)\"],[0.7272727272727273,\"rgb(114, 184, 205)\"],[0.8181818181818182,\"rgb(149, 207, 216)\"],[0.9090909090909091,\"rgb(192, 229, 232)\"],[1.0,\"rgb(234, 252, 253)\"]],\"opacity\":0.1,\"showscale\":false,\"type\":\"surface\",\"x\":[819.5899999999999,916.49],\"y\":[-148.423,155.197],\"z\":[[255.9,255.9],[255.9,255.9]]},{\"colorscale\":[[0.0,\"rgb(3, 5, 18)\"],[0.09090909090909091,\"rgb(25, 25, 51)\"],[0.18181818181818182,\"rgb(44, 42, 87)\"],[0.2727272727272727,\"rgb(58, 60, 125)\"],[0.36363636363636365,\"rgb(62, 83, 160)\"],[0.45454545454545453,\"rgb(62, 109, 178)\"],[0.5454545454545454,\"rgb(72, 134, 187)\"],[0.6363636363636364,\"rgb(89, 159, 196)\"],[0.7272727272727273,\"rgb(114, 184, 205)\"],[0.8181818181818182,\"rgb(149, 207, 216)\"],[0.9090909090909091,\"rgb(192, 229, 232)\"],[1.0,\"rgb(234, 252, 253)\"]],\"opacity\":0.1,\"showscale\":false,\"type\":\"surface\",\"x\":[819.5899999999999,916.49],\"y\":[-148.423,155.197],\"z\":[[356.7,356.7],[356.7,356.7]]},{\"marker\":{\"color\":[8.0390625,33.734375,13.96875,11.00390625,17.921875,35.7109375,13.96875,18.91015625,11.00390625,7.05078125,10.015625,26.81640625,35.7109375,20.88671875,15.9453125,9.02734375,8.0390625,25.828125,11.00390625,21.875,22.86328125,17.921875,21.875,11.9921875,20.88671875,17.921875,11.00390625,23.8515625,17.921875,24.83984375,14.95703125,19.8984375,11.9921875,22.86328125,15.9453125,9.02734375,11.9921875,23.8515625,8.0390625,10.015625,20.88671875,18.91015625,12.98046875,23.8515625,8.0390625,8.0390625,25.828125,33.734375,13.96875,17.921875,15.9453125,9.02734375,21.875,20.88671875,12.98046875,12.98046875,21.875,22.86328125,11.00390625,16.93359375,17.921875,7.05078125,23.8515625,8.0390625,19.8984375,126.6328125,72.27734375,12.98046875,11.00390625,8.0390625,11.00390625,29.78125,16.93359375,11.00390625,15.9453125,21.875,14.95703125,9.02734375,11.00390625,11.9921875,20.88671875,15.9453125,9.02734375,11.9921875,64.37109375,11.00390625,17.921875,13.96875,66.34765625,9.02734375,11.9921875,41.640625,11.00390625,37.6875,9.02734375,12.98046875,51.5234375,9.02734375,22.86328125,16.93359375,27.8046875,11.9921875,25.828125,10.015625,13.96875,9.02734375,32.74609375,10.015625,7.05078125,12.98046875,30.76953125,9.02734375,14.95703125,24.83984375,7.05078125,15.9453125,28.79296875,11.00390625,13.96875,29.78125,7.05078125,11.00390625,21.875,12.98046875,11.9921875,22.86328125,15.9453125,23.8515625,9.02734375,17.921875,14.95703125,9.02734375,14.95703125,11.00390625,18.91015625,7.05078125,10.015625,26.81640625,7.05078125,7.05078125,30.76953125,18.91015625,10.015625,9.02734375,40.65234375,28.79296875,16.93359375,7.05078125,15.9453125,12.98046875,37.6875,29.78125,13.96875,19.8984375,15.9453125,11.9921875,8.0390625,19.8984375,11.9921875,6.0625,7.05078125,15.9453125,16.93359375,11.00390625,11.00390625,13.96875,16.93359375,19.8984375,14.95703125,23.8515625,15.9453125,11.9921875,13.96875,11.9921875,27.8046875,13.96875,21.875,23.8515625,10.015625,12.98046875,20.88671875,9.02734375,6.0625,15.9453125,11.00390625,11.9921875,18.91015625,7.05078125,18.91015625,16.93359375,9.02734375,10.015625,21.875,25.828125,7.05078125,19.8984375,26.81640625,7.05078125,22.86328125,11.9921875,27.8046875,8.0390625,21.875,13.96875,10.015625,24.83984375,24.83984375,13.96875,10.015625,28.79296875,15.9453125,7.05078125,10.015625,15.9453125,19.8984375,11.9921875,14.95703125,11.00390625,12.98046875,20.88671875,16.93359375,8.0390625,13.96875,9.02734375,23.8515625,20.88671875,22.86328125,12.98046875,17.921875,25.828125,11.9921875,25.828125,8.0390625,7.05078125,24.83984375,13.96875,12.98046875,21.875,16.93359375,27.8046875,20.88671875,11.00390625,11.00390625,24.83984375,9.02734375,22.86328125,23.8515625,11.9921875,11.00390625,27.8046875,15.9453125,25.828125,10.015625,11.00390625],\"size\":3,\"symbol\":\"square\"},\"mode\":\"markers\",\"name\":\"larpix packets\",\"opacity\":1.0,\"showlegend\":true,\"type\":\"scatter3d\",\"visible\":\"legendonly\",\"x\":[742.49,742.49,763.77,764.15,744.77,743.25,765.67,753.89,752.37,755.03,788.47,733.75,733.75,734.13,713.27,713.65,712.51,712.89,713.27,712.13,712.51,711.37,711.75,710.61,710.99,710.23,710.61,709.47,709.85,708.71,708.71,709.0899999999999,707.95,708.33,707.5699999999999,707.5699999999999,707.95,706.8100000000001,707.1899999999999,707.1899999999999,706.05,706.4300000000001,705.29,705.67,704.53,704.53,704.9100000000001,704.15,704.53,703.39,703.77,702.63,703.01,702.25,702.63,701.49,701.87,701.11,701.49,700.35,700.73,699.5899999999999,699.97,698.83,699.21,699.21,699.21,699.5899999999999,699.5899999999999,699.21,747.81,747.81,747.81,761.49,748.95,749.33,775.17,775.55,775.17,756.17,756.17,756.55,749.7099999999999,750.0899999999999,750.0899999999999,749.33,749.33,749.7099999999999,749.7099999999999,750.0899999999999,748.95,748.95,749.33,749.33,748.1899999999999,748.5699999999999,748.5699999999999,748.95,747.81,748.1899999999999,748.1899999999999,747.4300000000001,747.4300000000001,747.81,747.81,747.05,747.05,747.4300000000001,747.4300000000001,746.67,746.67,747.05,746.29,746.29,746.67,745.91,745.91,745.15,745.53,745.53,744.77,744.77,745.15,745.15,744.39,744.39,744.77,744.77,743.63,744.01,744.01,744.39,743.25,743.25,743.63,743.63,742.49,742.87,742.87,743.25,742.1099999999999,742.49,741.35,741.73,741.73,740.97,741.35,741.73,740.2099999999999,740.5899999999999,740.5899999999999,739.83,740.2099999999999,739.0699999999999,739.45,739.45,738.31,738.6899999999999,738.6899999999999,743.25,737.55,737.9300000000001,737.9300000000001,738.31,738.31,743.25,737.17,737.55,737.55,736.41,736.79,736.79,735.65,735.65,736.03,743.25,734.89,735.27,734.13,734.13,734.51,734.51,734.89,733.37,733.37,733.75,733.75,734.13,732.6099999999999,732.99,732.99,733.37,731.85,732.23,731.0899999999999,731.0899999999999,731.47,731.85,730.33,730.7099999999999,730.7099999999999,731.0899999999999,729.5699999999999,729.95,729.95,728.81,729.1899999999999,728.05,728.05,728.4300000000001,727.29,727.29,727.67,727.67,726.53,726.91,726.91,725.77,725.77,726.15,726.15,726.53,725.01,725.01,725.39,724.25,724.63,724.63,723.49,723.87,722.73,723.1099999999999,723.49,721.97,722.35,722.73,721.2099999999999,721.5899999999999,721.97,720.83,721.2099999999999,721.2099999999999,720.0699999999999,720.45,720.83,719.6899999999999,720.0699999999999,718.9300000000001,718.9300000000001,719.31,718.17,718.55,718.17,729.95],\"y\":[6.997000000000017,7.377000000000018,11.937000000000017,11.937000000000017,18.77700000000002,19.537000000000017,20.677000000000017,33.21700000000001,-84.963,-67.483,-35.943,-2.8829999999999907,-2.8829999999999907,-2.8829999999999907,6.237000000000017,6.237000000000017,6.617000000000016,6.617000000000016,6.617000000000016,6.997000000000017,6.997000000000017,7.377000000000018,7.377000000000018,7.7570000000000165,7.7570000000000165,8.137000000000018,8.137000000000018,8.517000000000015,8.517000000000015,8.897000000000016,8.897000000000016,8.897000000000016,9.277000000000019,9.277000000000019,9.657000000000016,9.657000000000016,9.657000000000016,10.037000000000017,10.037000000000017,10.037000000000017,10.417000000000016,10.417000000000016,10.797000000000017,10.797000000000017,11.177000000000017,11.177000000000017,11.177000000000017,11.557000000000016,11.557000000000016,11.937000000000017,11.937000000000017,12.317000000000016,12.317000000000016,12.697000000000017,12.697000000000017,13.077000000000018,13.077000000000018,13.457000000000017,13.457000000000017,13.837000000000018,13.837000000000018,14.217000000000017,14.217000000000017,14.597000000000017,14.597000000000017,14.597000000000017,14.597000000000017,14.597000000000017,14.597000000000017,14.977000000000018,-43.163,-42.782999999999994,-42.782999999999994,-37.462999999999994,-25.302999999999987,-25.302999999999987,-25.302999999999987,-25.302999999999987,-24.92299999999999,-21.12299999999999,-20.742999999999988,-20.742999999999988,-15.422999999999988,-15.422999999999988,-15.422999999999988,-15.042999999999989,-15.042999999999989,-15.042999999999989,-15.042999999999989,-15.042999999999989,-14.662999999999988,-14.662999999999988,-14.662999999999988,-14.662999999999988,-14.282999999999987,-14.282999999999987,-14.282999999999987,-14.282999999999987,-13.902999999999988,-13.902999999999988,-13.902999999999988,-13.522999999999987,-13.522999999999987,-13.522999999999987,-13.522999999999987,-13.14299999999999,-13.14299999999999,-13.14299999999999,-13.14299999999999,-12.762999999999987,-12.762999999999987,-12.762999999999987,-12.382999999999987,-12.382999999999987,-12.382999999999987,-12.00299999999999,-12.00299999999999,-11.622999999999987,-11.622999999999987,-11.622999999999987,-11.24299999999999,-11.24299999999999,-11.24299999999999,-11.24299999999999,-10.862999999999989,-10.862999999999989,-10.862999999999989,-10.862999999999989,-10.482999999999986,-10.482999999999986,-10.482999999999986,-10.482999999999986,-10.102999999999989,-10.102999999999989,-10.102999999999989,-10.102999999999989,-9.722999999999988,-9.722999999999988,-9.722999999999988,-9.722999999999988,-9.34299999999999,-9.34299999999999,-8.962999999999989,-8.962999999999989,-8.962999999999989,-8.58299999999999,-8.58299999999999,-8.58299999999999,-8.202999999999989,-8.202999999999989,-8.202999999999989,-7.822999999999988,-7.822999999999988,-7.442999999999989,-7.442999999999989,-7.442999999999989,-7.062999999999988,-7.062999999999988,-7.062999999999988,-7.062999999999988,-6.68299999999999,-6.68299999999999,-6.68299999999999,-6.68299999999999,-6.68299999999999,-6.68299999999999,-6.302999999999989,-6.302999999999989,-6.302999999999989,-5.9229999999999885,-5.9229999999999885,-5.9229999999999885,-5.54299999999999,-5.54299999999999,-5.54299999999999,-5.54299999999999,-5.162999999999989,-5.162999999999989,-4.782999999999991,-4.782999999999991,-4.782999999999991,-4.782999999999991,-4.782999999999991,-4.40299999999999,-4.40299999999999,-4.40299999999999,-4.40299999999999,-4.40299999999999,-4.022999999999988,-4.022999999999988,-4.022999999999988,-4.022999999999988,-3.64299999999999,-3.64299999999999,-3.262999999999989,-3.262999999999989,-3.262999999999989,-3.262999999999989,-2.8829999999999907,-2.8829999999999907,-2.8829999999999907,-2.8829999999999907,-2.5029999999999895,-2.5029999999999895,-2.5029999999999895,-2.1229999999999882,-2.1229999999999882,-1.7429999999999901,-1.7429999999999901,-1.7429999999999901,-1.3629999999999889,-1.3629999999999889,-1.3629999999999889,-1.3629999999999889,-0.9829999999999934,-0.9829999999999934,-0.9829999999999934,-0.6029999999999923,-0.6029999999999923,-0.6029999999999923,-0.6029999999999923,-0.6029999999999923,-0.22299999999999115,-0.22299999999999115,-0.22299999999999115,0.15700000000000996,0.15700000000000996,0.15700000000000996,0.5370000000000055,0.5370000000000055,0.9170000000000066,0.9170000000000066,0.9170000000000066,1.2970000000000077,1.2970000000000077,1.2970000000000077,1.677000000000009,1.677000000000009,1.677000000000009,2.05700000000001,2.05700000000001,2.05700000000001,2.4370000000000056,2.4370000000000056,2.4370000000000056,2.8170000000000064,2.8170000000000064,3.1970000000000076,3.1970000000000076,3.1970000000000076,3.5770000000000173,3.5770000000000173,3.957000000000016,12.317000000000016],\"z\":[14.703322499030133,14.878932272067113,10.552546045428988,10.456758896499736,58.22949065201103,56.329712198247435,93.0002257133314,56.55321554574904,151.1589799149904,137.0144109231034,113.17937536453992,115.01529571901733,114.56828902401412,114.98336666937425,168.43946926135482,168.6310435592133,168.39157568689018,168.34368211242557,168.56718545992717,168.40754021171173,168.40754021171173,168.53525641028406,168.45543378617634,168.7268307081426,168.43946926135482,168.4713983109979,168.7268307081426,168.59911450957026,168.6949016584995,168.53525641028406,168.98226310528727,168.55122093510562,168.8385823818934,168.61507903439178,168.55122093510562,168.99822763010883,168.87051143153647,168.67893713367795,168.43946926135482,168.9184050060011,168.6949016584995,168.6949016584995,168.6310435592133,168.77472428260722,168.5831499847487,169.09401477903808,168.79068880742875,168.77472428260722,168.85454690671492,168.9184050060011,168.886475956358,169.07805025421652,168.77472428260722,168.85454690671492,169.03015667975188,169.07805025421652,168.9184050060011,168.96629858046572,168.99822763010883,169.01419215493036,168.9184050060011,168.3596466372471,168.98226310528727,168.2159659138532,168.20000138903168,168.64700808403487,169.09401477903808,168.15210781456705,169.23769550243196,168.26385948831785,181.62616676394924,181.41862794126916,181.89756368591546,172.95742978585145,170.41907033922612,170.4509993888692,165.21463524740315,165.3104223963324,165.32638692115395,178.08204225356673,177.98625510463745,178.28958107624675,171.7441258994142,171.72816137459264,172.17516806959583,171.47272897744796,172.1113099703097,171.58448065119876,172.03148734620194,171.680267800128,171.4567644526264,171.9037711476296,171.4567644526264,171.98359377173733,171.5206225519126,171.37694182851868,171.8239485235219,171.55255160155568,171.4886935022695,171.4567644526264,171.9037711476296,171.2013320554817,171.64833875048492,171.24922562994635,171.72816137459264,170.91397060869397,171.44079992780487,171.2651901547679,171.7121968497711,170.94589965833705,171.39290635334027,171.02572228244475,170.81818345976473,171.2651901547679,171.02572228244475,170.65853821154928,171.10554490655247,170.72239631083545,170.49889296333384,170.94589965833705,169.90820554493675,170.78625441012161,170.49889296333384,170.94589965833705,170.19556699172455,170.64257368672773,170.27538961583224,170.72239631083545,170.24346056618916,170.179602466903,170.62660916190617,170.2274960413676,170.01995721868758,170.46696391369076,170.11574436761683,170.61064463708465,169.94013459457986,169.9560991194014,170.40310581440457,169.65277314779206,169.89224102011522,170.09977984279527,169.620844098149,169.3654117010043,169.84434744565058,169.57295052368437,169.620844098149,169.41330527546893,169.50909242439818,169.28558907689657,169.73259577189978,169.3654117010043,169.41330527546893,169.20576645278885,169.20576645278885,169.65277314779206,169.01419215493036,169.062085729395,169.50909242439818,173.35654290639002,168.77472428260722,168.886475956358,169.3334826513612,168.9184050060011,169.3654117010043,172.59024571495598,168.79068880742875,168.80665333225028,169.2536600272535,168.80665333225028,168.71086618332103,169.15787287832424,168.55122093510562,168.99822763010883,168.7268307081426,160.56895852433416,168.5831499847487,168.56718545992717,168.26385948831785,168.71086618332103,168.4235047365333,168.87051143153647,168.8385823818934,168.23193043867474,168.67893713367795,168.15210781456705,168.59911450957026,168.71086618332103,168.29578853796093,168.18403686421013,168.64700808403487,168.327717587604,168.15210781456705,168.20000138903168,167.5135268217053,168.20000138903168,168.12017876492396,168.20000138903168,168.00842709117313,167.78492374367156,168.23193043867474,168.05632066563777,167.96053351670852,167.8807108926008,168.327717587604,168.04035614081624,168.04035614081624,167.86474636777928,168.31175306278246,167.97649804153008,167.8807108926008,168.327717587604,167.81685279331464,168.26385948831785,167.92860446706544,167.81685279331464,168.26385948831785,167.83281731813616,168.27982401313938,167.86474636777928,168.31175306278246,167.84878184295772,167.91263994224389,168.3596466372471,168.1042142401024,168.00842709117313,167.92860446706544,168.37561116206865,167.9924625663516,168.04035614081624,168.12017876492396,167.97649804153008,167.89667541742236,168.37561116206865,168.05632066563777,168.23193043867474,168.1361432897455,168.1042142401024,168.20000138903168,168.05632066563777,167.9924625663516,168.43946926135482,168.24789496349632,168.1361432897455,168.08824971528088,168.12017876492396,168.1042142401024,167.9924625663516,168.43946926135482,168.05632066563777,168.1361432897455,168.1361432897455,168.4235047365333,167.56142039616995]},{\"mode\":\"lines\",\"name\":\"edep segments\",\"showlegend\":true,\"type\":\"scatter3d\",\"visible\":\"legendonly\",\"x\":[699.175048828125,704.1241455078125,null,704.1241455078125,708.60205078125,null,708.60205078125,712.4000854492188,null,712.4000854492188,712.7268676757812,null,712.7268676757812,713.5877075195312,null,717.924072265625,719.3194580078125,null,719.3194580078125,719.9525146484375,null,719.9525146484375,720.8328857421875,null,720.8328857421875,721.2088623046875,null,721.2088623046875,723.2348022460938,null,723.2348022460938,723.5263671875,null,723.5263671875,724.6350708007812,null,724.6350708007812,726.205078125,null,726.205078125,728.487060546875,null,728.487060546875,730.7918090820312,null,730.7918090820312,733.4175415039062,null,733.4175415039062,734.626220703125,null,734.626220703125,737.492919921875,null,737.492919921875,740.31884765625,null,740.31884765625,740.4307861328125,null,740.4307861328125,741.7108764648438,null,741.7108764648438,743.5313110351562,null,743.5313110351562,744.5205078125,null,744.5205078125,744.6888427734375,null,744.6888427734375,745.740478515625,null,745.740478515625,746.566162109375,null,746.566162109375,747.2391967773438,null,747.2391967773438,747.7887573242188,null,747.7887573242188,748.2783813476562,null,748.2783813476562,748.6834106445312,null,748.6834106445312,749.00439453125,null,749.00439453125,749.249755859375,null,749.249755859375,749.4407348632812,null,749.4407348632812,749.5924072265625,null,749.5924072265625,749.7037353515625,null,749.7037353515625,749.8658447265625,null,749.8658447265625,750.1079711914062,null,750.1079711914062,750.1323852539062,null,750.1323852539062,750.132568359375,null,769.2739868164062,769.3126220703125,null,769.3126220703125,769.3090209960938,null,765.4317016601562,765.4315185546875,null,765.5722045898438,765.5717163085938,null,765.6635131835938,765.6647338867188,null,761.4303588867188,761.4789428710938,null,778.2467651367188,778.217529296875,null,778.217529296875,778.212158203125,null,780.0670776367188,780.0669555664062,null,783.1473388671875,783.1566772460938,null,743.35205078125,743.2597045898438,null,743.2597045898438,743.246826171875,null,768.52734375,768.5639038085938,null,768.5639038085938,768.56396484375,null,766.2677001953125,766.2676391601562,null,765.8411865234375,765.8409423828125,null,754.4009399414062,754.4054565429688,null,749.6884765625,749.665771484375,null,750.0446166992188,750.0446166992188,null,736.8421630859375,736.8421630859375,null,736.9964599609375,736.9964599609375,null,743.8570556640625,743.8786010742188,null,743.8786010742188,743.8778076171875,null,741.6593627929688,741.6572875976562,null,741.8360595703125,741.8273315429688,null,742.5465087890625,742.5130004882812,null,742.5130004882812,742.453857421875,null,742.453857421875,742.36474609375,null,742.36474609375,742.3583984375,null,751.7598876953125,751.7570190429688,null,751.9134521484375,751.9134521484375,null,751.7864990234375,751.7656860351562,null,751.7656860351562,751.7627563476562,null,755.2329711914062,755.2611083984375,null,700.7332763671875,700.6854858398438,null,701.85791015625,701.8970336914062,null,699.0409545898438,699.0213012695312,null,690.5690307617188,690.5415649414062,null,700.7195434570312,700.767578125,null,711.050048828125,711.0098876953125,null,706.3369140625,706.3258666992188,null,692.243896484375,692.225830078125,null,694.5191650390625,694.5203857421875,null,712.3369140625,712.294677734375,null,697.329345703125,697.3125610351562,null,673.4070434570312,673.3614501953125,null,625.6309814453125,625.6052856445312,null,636.0350952148438,636.0571899414062,null,739.910888671875,739.9175415039062,null,739.9175415039062,739.9180297851562,null,739.431640625,739.431640625,null,739.5281372070312,739.5281372070312,null,741.194091796875,741.194091796875,null,742.8118896484375,742.8121337890625,null,748.3557739257812,748.3265380859375,null,748.3265380859375,748.3189697265625,null,729.091796875,729.0806274414062,null,729.0806274414062,729.0860595703125,null,730.9953002929688,730.993408203125,null,752.4436645507812,752.4440307617188,null,752.5377197265625,752.5617065429688,null,747.2362060546875,747.2269897460938,null,747.7353515625,747.69677734375,null,747.69677734375,747.740234375,null,747.740234375,747.794921875,null,747.794921875,747.7306518554688,null,747.9351806640625,747.970703125,null,747.970703125,747.971435546875,null,726.8956298828125,726.8832397460938,null,740.1509399414062,740.1509399414062,null,710.9356079101562,710.8885498046875,null,710.8885498046875,710.88232421875,null,738.0537109375,738.004150390625,null,738.004150390625,738.0009155273438,null,742.2337036132812,742.2337646484375,null,743.7236938476562,743.7236938476562,null,750.0156860351562,750.0161743164062,null,749.7813110351562,749.7788696289062,null,751.3193359375,751.3186645507812,null,753.1436767578125,753.1439208984375,null,753.9661865234375,754.0762939453125,null,754.0762939453125,754.088134765625,null,782.7246704101562,782.7214965820312,null,782.7214965820312,782.7210083007812,null,782.7254638671875,782.7254638671875,null,782.760009765625,782.760009765625,null,784.5712890625,784.5714111328125,null,782.2228393554688,782.2225341796875,null,782.4757080078125,782.4764404296875,null,774.2369995117188,774.2369995117188,null,763.173095703125,763.1695556640625,null,765.6838989257812,765.7501220703125,null,751.0444946289062,751.0425415039062,null,745.4410400390625,745.4271240234375,null,745.1565551757812,745.157958984375,null,744.8369140625,744.9056396484375,null,743.2733154296875,743.2442016601562,null,743.2442016601562,743.20751953125,null,743.2699584960938,743.271728515625,null,760.1384887695312,760.168701171875,null,780.74169921875,780.7296752929688,null,780.7296752929688,780.7272338867188,null,781.6121826171875,781.6122436523438,null,774.549560546875,774.549560546875,null,768.366455078125,768.3914184570312,null,768.3914184570312,768.3984375,null,765.8989868164062,765.8992309570312,null,765.696533203125,765.6950073242188,null,765.0374755859375,765.0303955078125,null,751.6221923828125,751.6063232421875,null,759.436279296875,759.4564819335938,null,756.3529663085938,756.3132934570312,null,758.9140014648438,758.9058227539062,null,759.1369018554688,759.18017578125,null,750.5707397460938,750.5607299804688,null,750.6583251953125,750.6637573242188,null,750.9207763671875,750.9234619140625,null,748.359130859375,748.3506469726562,null,769.4933471679688,769.5227661132812,null,760.206787109375,760.1884765625,null,771.5232543945312,771.5619506835938,null,751.738037109375,751.6968383789062,null,762.2039184570312,762.2459106445312,null,755.0008544921875,754.9686889648438,null,755.5345458984375,755.5367431640625,null,771.3915405273438,771.4307250976562,null,767.7357177734375,767.6869506835938,null,768.0489501953125,768.0520629882812,null,768.6946411132812,768.697509765625,null,785.8052978515625,785.817626953125,null,740.5250244140625,740.501953125,null,766.7965698242188,766.8455200195312,null,751.7454223632812,751.7169189453125,null,756.2578735351562,756.28173828125,null,783.8369140625,783.8779296875,null,782.4872436523438,782.4744873046875,null,784.5389404296875,784.5514526367188,null,788.8427734375,788.8460693359375,null,792.1343383789062,792.17724609375,null,792.7479858398438,792.7791137695312,null,819.0264892578125,819.0498657226562,null,832.3104248046875,832.3301391601562,null,757.445068359375,757.445068359375,null,752.8212890625,752.8212890625,null,777.6477661132812,777.5980224609375,null,777.5980224609375,777.5916137695312,null,779.74072265625,779.7464599609375,null,775.2974243164062,775.2879638671875,null,775.3850708007812,775.3914184570312,null,765.1683349609375,765.167724609375,null,764.0653686523438,763.9326782226562,null,763.9326782226562,763.927734375,null,750.1323852539062,750.1277465820312,null,743.3180541992188,743.3178100585938,null,731.1793823242188,731.2105102539062,null,731.2105102539062,731.2144775390625,null,730.8987426757812,730.8976440429688,null,734.8138427734375,734.813720703125,null,739.7294311523438,739.7000122070312,null,739.7000122070312,739.69970703125,null,740.615234375,740.6152954101562,null,740.6642456054688,740.6641845703125,null,745.4384765625,745.4380493164062,null,747.08154296875,747.082275390625,null,749.1166381835938,749.1209716796875,null,748.8456420898438,748.8450927734375,null,749.0732421875,749.1878662109375,null,749.1878662109375,749.179931640625,null,749.179931640625,749.1070556640625,null,744.5443725585938,744.5443725585938,null,747.0127563476562,747.0457153320312,null,747.0457153320312,747.0513305664062,null,743.3853149414062,743.3851928710938,null,746.6393432617188,746.6498413085938,null,739.4635620117188,739.496826171875,null,753.4644775390625,753.4519653320312,null,742.185791015625,742.1787719726562,null,766.5036010742188,766.5458374023438,null,728.2425537109375,728.2011108398438,null,794.3446655273438,794.392822265625,null,785.45703125,785.4075927734375,null,737.486083984375,737.4425048828125,null,737.4628295898438,737.4631958007812,null,741.710693359375,741.7240600585938,null,729.474609375,729.4432373046875,null,839.1229858398438,839.1729125976562,null,823.25341796875,823.22412109375,null,826.9561767578125,826.9799194335938,null,821.0396728515625,821.0098266601562,null,850.7216796875,850.7496337890625,null,860.66357421875,860.6958618164062,null,855.3720092773438,855.3221435546875,null,876.014892578125,876.0491943359375,null,861.7575073242188,861.7408447265625,null,883.3228759765625,883.3433227539062,null,883.1349487304688,883.1223754882812,null,861.6200561523438,861.6055297851562,null,901.6882934570312,901.7379760742188,null,753.4676513671875,753.4676513671875,null,733.2296752929688,733.2296752929688,null,767.81494140625,767.8097534179688,null,767.8097534179688,767.8090209960938,null,767.8309936523438,767.8309326171875,null,767.8707275390625,767.8706665039062,null,775.8886108398438,775.888671875,null,778.6136474609375,778.6136474609375,null,781.0982055664062,781.09814453125,null,781.5716552734375,781.5717163085938,null,781.964111328125,781.964111328125,null,782.9705810546875,782.97119140625,null,782.49609375,782.4962158203125,null,776.7299194335938,776.72998046875,null,776.56591796875,776.5684814453125,null,772.578857421875,772.578857421875,null,743.2491455078125,743.1978149414062,null,743.1978149414062,743.1655883789062,null,744.2343139648438,744.21923828125,null,798.703857421875,798.7145385742188,null,798.7145385742188,798.7095947265625,null,797.9341430664062,797.9339599609375,null,801.4737548828125,801.4737548828125,null,802.8465576171875,802.8465576171875,null,805.9938354492188,805.9959716796875,null,804.9388427734375,804.9390258789062,null,780.4132080078125,780.4136962890625,null,779.6483764648438,779.653564453125,null,779.2274169921875,779.240478515625,null,756.1201782226562,756.2200317382812,null,756.2200317382812,756.333740234375,null,756.333740234375,756.4260864257812,null,756.4260864257812,756.4229125976562,null,768.0797729492188,768.1041259765625,null,768.1041259765625,768.1057739257812,null,767.0646362304688,767.064697265625,null,765.55859375,765.5587158203125,null,747.5193481445312,747.5082397460938,null,747.4988403320312,747.4603881835938,null,747.4603881835938,747.4603881835938,null,743.7535400390625,743.7587890625,null,739.3887939453125,739.3887329101562,null,739.2948608398438,739.2892456054688,null,739.2892456054688,739.2886352539062,null,760.8425903320312,760.8029174804688,null,760.8029174804688,760.8020629882812,null,767.268798828125,767.268798828125,null,766.450927734375,766.4507446289062,null,766.6746826171875,766.6748046875,null,764.0114135742188,764.0114135742188,null,761.866943359375,761.866943359375,null,758.9500732421875,758.9500732421875,null,750.9035034179688,750.9036865234375,null,749.0481567382812,749.0482788085938,null,724.6153564453125,724.587646484375,null,724.587646484375,724.5834350585938,null,727.5117797851562,727.51171875,null,731.149658203125,731.1505737304688,null,731.2261352539062,731.2393798828125,null,729.9249877929688,729.876708984375,null,755.7315673828125,755.7506713867188,null,762.8859252929688,762.919677734375,null,774.983154296875,774.9714965820312,null,767.341796875,767.3236083984375,null,755.736572265625,755.712646484375,null,753.8798217773438,753.8798217773438,null,754.3255615234375,754.3480224609375,null,754.3480224609375,754.350341796875,null,762.1151733398438,762.115234375,null,763.1704711914062,763.1710205078125,null,759.4024047851562,759.4024658203125,null,757.4026489257812,757.4026489257812,null,753.6797485351562,753.6796875,null,749.4814453125,749.4541015625,null,752.726806640625,752.725830078125,null,741.9825439453125,741.9597778320312,null,763.5552368164062,763.5947265625,null,757.4976196289062,757.456298828125,null,766.267822265625,766.2915649414062,null,781.5560913085938,781.591552734375,null,775.572998046875,775.5645751953125,null,719.921875,719.939453125,null,730.5615844726562,730.5899047851562,null,738.9756469726562,738.98193359375,null,736.0052490234375,735.9974365234375,null,747.7509765625,747.7802734375,null,786.076904296875,786.116943359375,null,732.6109619140625,732.5780029296875,null,753.7304077148438,753.7304077148438,null,781.130126953125,781.1301879882812,null,757.362548828125,757.362548828125,null,758.1708984375,758.1708984375,null,739.701416015625,739.701416015625,null,745.3163452148438,745.3233032226562,null,741.7514038085938,741.7387084960938,null,737.5332641601562,737.533203125,null,740.61474609375,740.6640625,null,740.6640625,740.6650390625,null,736.919189453125,736.918212890625,null,738.3251342773438,738.3351440429688,null,737.449951171875,737.4258422851562,null,711.8004760742188,711.76220703125,null,708.3087768554688,708.2913208007812,null,709.16796875,709.2067260742188,null,699.541748046875,699.5134887695312,null,710.7813720703125,710.80419921875,null,702.6600952148438,702.64697265625,null,691.5620727539062,691.5497436523438,null,692.0360717773438,692.0369262695312,null,686.528564453125,686.5134887695312,null,701.2879638671875,701.3338623046875,null,702.9684448242188,702.973876953125,null,738.2608032226562,738.270751953125,null,738.270751953125,738.2681884765625,null,738.132080078125,738.1325073242188,null,736.8265380859375,736.827392578125,null,734.3048706054688,733.9962768554688,null,733.9962768554688,733.6997680664062,null,733.6997680664062,733.8203125,null,733.8203125,733.7704467773438,null,733.7704467773438,733.7876586914062,null,733.7876586914062,733.7610473632812,null,775.61279296875,775.61279296875,null,774.5919799804688,774.620849609375,null,774.620849609375,774.62158203125,null,774.0274047851562,774.02734375,null,774.89697265625,774.89697265625,null,775.11181640625,775.11181640625,null,776.3893432617188,776.3894653320312,null,776.14404296875,776.14404296875,null,775.3836059570312,775.3829345703125,null,775.7128295898438,775.7152709960938,null,775.5503540039062,775.5408935546875,null,789.2218017578125,789.1987915039062,null,789.1987915039062,789.1974487304688,null,789.5671997070312,789.5675048828125,null,788.6980590820312,788.6980590820312,null,788.4652709960938,788.4652709960938,null,771.5061645507812,771.5061645507812,null,769.7975463867188,769.7938232421875,null,772.3663330078125,772.3661499023438,null,773.9260864257812,773.9320068359375,null,770.49267578125,770.5189819335938,null,770.5189819335938,770.5204467773438,null,768.6617431640625,768.6618041992188,null,767.852294921875,767.8408813476562,null,775.34619140625,775.3467407226562,null,775.3467407226562,775.3377685546875,null,775.3377685546875,775.3519287109375,null,774.8744506835938,774.8604125976562,null,774.8604125976562,774.86083984375,null,774.9228515625,774.9228515625,null,774.9389038085938,774.92919921875,null,774.92919921875,774.9319458007812,null,774.9588623046875,774.9588623046875,null,783.6332397460938,783.6513061523438,null,783.6366577148438,783.6362915039062,null,781.1043090820312,781.0878295898438,null,778.76123046875,778.7169799804688,null,789.6199340820312,789.6199340820312,null,768.2322998046875,768.1824951171875,null,768.1824951171875,768.1784057617188,null,812.1400146484375,812.1713256835938,null,812.9793701171875,812.9710083007812,null,809.6067504882812,809.5933227539062,null,760.8870239257812,760.9309692382812,null,760.9309692382812,760.932373046875,null,758.8697509765625,758.8692016601562,null,759.51611328125,759.5194091796875,null,757.4385986328125,757.4385375976562,null,755.057373046875,755.0574951171875,null,755.0416870117188,755.0172119140625,null,788.4519653320312,788.4500732421875,null,772.8787231445312,772.8787231445312,null,783.691162109375,783.691162109375,null,756.9038696289062,756.9038696289062,null,744.0946655273438,744.0946655273438,null,758.7015991210938,758.716796875,null,758.716796875,758.713623046875,null,758.2816772460938,758.2806396484375,null,764.6452026367188,764.6452026367188,null,768.831787109375,768.831787109375,null,771.60302734375,771.63037109375,null,763.458251953125,763.4576416015625,null,750.1323852539062,750.1277465820312,null,749.958984375,749.9517822265625,null,749.9517822265625,749.9494018554688,null,750.1323852539062,750.13232421875,null,744.6888427734375,744.7133178710938,null,744.5205078125,744.5888061523438,null,741.7108764648438,741.7661743164062,null,740.4307861328125,740.506591796875,null,740.506591796875,740.5065307617188,null,737.492919921875,737.5233764648438,null,734.626220703125,734.6500244140625,null,733.4175415039062,733.4464721679688,null,730.7918090820312,730.91796875,null,730.91796875,730.91748046875,null,728.487060546875,728.49755859375,null,728.3386840820312,728.3331909179688,null,728.3331909179688,728.3319091796875,null,728.5176391601562,728.5176391601562,null,726.205078125,726.3326416015625,null,726.3326416015625,726.3472900390625,null,726.3212280273438,726.3023071289062,null,726.3023071289062,726.3023681640625,null,724.6350708007812,724.6763916015625,null,723.5263671875,723.544189453125,null,723.2348022460938,723.2622680664062,null,721.2088623046875,721.28271484375,null,721.28271484375,721.270751953125,null,720.8328857421875,720.9169311523438,null,719.9525146484375,719.9842529296875,null,719.3194580078125,719.4220581054688,null,712.7268676757812,712.73779296875,null,712.4000854492188,712.4301147460938,null,708.60205078125,708.6895141601562,null,708.6895141601562,708.77490234375,null,704.1241455078125,704.1978149414062,null,699.175048828125,699.2110595703125,null,699.2110595703125,699.2463989257812,null,699.2463989257812,699.27490234375,null,699.27490234375,699.3011474609375,null,699.3011474609375,699.322998046875,null,699.322998046875,699.3908081054688,null],\"y\":[14.719252586364746,11.588595390319824,null,11.588595390319824,9.10120677947998,null,9.10120677947998,6.915557384490967,null,6.915557384490967,6.727444171905518,null,6.727444171905518,6.224656105041504,null,3.867462635040283,3.0804061889648438,null,3.0804061889648438,2.711723804473877,null,2.711723804473877,2.1894867420196533,null,2.1894867420196533,1.965604305267334,null,1.965604305267334,0.8270955681800842,null,0.8270955681800842,0.6674203872680664,null,0.6674203872680664,0.08013483136892319,null,0.08013483136892319,-0.7217195630073547,null,-0.7217195630073547,-1.8677771091461182,null,-1.8677771091461182,-2.9953134059906006,null,-2.9953134059906006,-4.266617774963379,null,-4.266617774963379,-4.908771991729736,null,-4.908771991729736,-6.352230548858643,null,-6.352230548858643,-8.079255104064941,null,-8.079255104064941,-8.153119087219238,null,-8.153119087219238,-8.997982025146484,null,-8.997982025146484,-10.148193359375,null,-10.148193359375,-10.798422813415527,null,-10.798422813415527,-10.918318748474121,null,-10.918318748474121,-11.857128143310547,null,-11.857128143310547,-12.600513458251953,null,-12.600513458251953,-13.225140571594238,null,-13.225140571594238,-13.727404594421387,null,-13.727404594421387,-14.08102035522461,null,-14.08102035522461,-14.364232063293457,null,-14.364232063293457,-14.580282211303711,null,-14.580282211303711,-14.754494667053223,null,-14.754494667053223,-14.893866539001465,null,-14.893866539001465,-14.999116897583008,null,-14.999116897583008,-15.094732284545898,null,-15.094732284545898,-15.2279691696167,null,-15.2279691696167,-15.358327865600586,null,-15.358327865600586,-15.36719036102295,null,-15.36719036102295,-15.367255210876465,null,-35.273887634277344,-35.29645919799805,null,-35.29645919799805,-35.29692459106445,null,-33.0323600769043,-33.032470703125,null,-31.64447021484375,-31.640380859375,null,-32.02436828613281,-32.02463150024414,null,-37.345970153808594,-37.413330078125,null,30.594057083129883,30.595144271850586,null,30.595144271850586,30.596031188964844,null,30.52652359008789,30.52678680419922,null,29.138246536254883,29.14344596862793,null,-6.895768642425537,-6.830988883972168,null,-6.830988883972168,-6.82159948348999,null,-25.985031127929688,-26.00094985961914,null,-26.00094985961914,-26.00177764892578,null,-25.000293731689453,-25.000276565551758,null,-25.044300079345703,-25.044294357299805,null,-21.866079330444336,-21.874147415161133,null,-18.263233184814453,-18.289207458496094,null,-16.30885887145996,-16.308866500854492,null,-28.56574249267578,-28.565732955932617,null,-29.426481246948242,-29.426481246948242,null,6.230742454528809,6.2062249183654785,null,6.2062249183654785,6.201549053192139,null,8.735013961791992,8.73493480682373,null,8.855968475341797,8.88778305053711,null,7.400341510772705,7.345543384552002,null,7.345543384552002,7.19711971282959,null,7.19711971282959,7.208227634429932,null,7.208227634429932,7.19484806060791,null,-9.762626647949219,-9.765369415283203,null,-17.25143814086914,-17.251447677612305,null,-17.4951114654541,-17.535022735595703,null,-17.535022735595703,-17.53430938720703,null,-16.949974060058594,-16.947416305541992,null,-15.292888641357422,-15.281144142150879,null,-14.564269065856934,-14.540334701538086,null,-21.07291603088379,-21.117839813232422,null,-11.013230323791504,-10.980419158935547,null,-8.071011543273926,-8.057273864746094,null,-16.627376556396484,-16.597679138183594,null,-36.5706787109375,-36.617645263671875,null,-0.8896161317825317,-0.8438971638679504,null,-91.89744567871094,-91.9471664428711,null,-53.57735061645508,-53.57496643066406,null,-83.41990661621094,-83.45335388183594,null,-82.49490356445312,-82.48250579833984,null,28.166440963745117,28.191429138183594,null,5.254364967346191,5.225823402404785,null,-15.034746170043945,-15.075238227844238,null,-15.075238227844238,-15.075756072998047,null,-12.124127388000488,-12.124100685119629,null,-12.080622673034668,-12.080580711364746,null,-13.217364311218262,-13.217737197875977,null,-12.1118803024292,-12.112527847290039,null,4.052434921264648,4.138004302978516,null,4.138004302978516,4.134279251098633,null,-103.71501922607422,-103.66631317138672,null,-103.66631317138672,-103.66950225830078,null,-112.03553009033203,-112.04084777832031,null,-87.58548736572266,-87.58564758300781,null,-84.8973388671875,-84.9190444946289,null,-65.33824157714844,-65.37539672851562,null,-42.84630584716797,-42.95299530029297,null,-42.95299530029297,-42.97892761230469,null,-42.97892761230469,-42.85359573364258,null,-42.85359573364258,-42.86045455932617,null,-42.741249084472656,-42.7196159362793,null,-42.7196159362793,-42.72291946411133,null,9.996016502380371,10.009577751159668,null,22.710248947143555,22.71026039123535,null,33.21315002441406,33.23005294799805,null,33.23005294799805,33.2248649597168,null,33.19192123413086,33.18941879272461,null,33.18941879272461,33.1909065246582,null,33.47968292236328,33.47976303100586,null,32.52648162841797,32.52646255493164,null,35.49299240112305,35.49309539794922,null,35.48876953125,35.49091720581055,null,33.03847885131836,33.03782272338867,null,32.68954849243164,32.68879699707031,null,33.05887985229492,33.13530731201172,null,33.13530731201172,33.12260437011719,null,22.785037994384766,22.811349868774414,null,22.811349868774414,22.81144905090332,null,22.778459548950195,22.778453826904297,null,22.762258529663086,22.762258529663086,null,21.092565536499023,21.092514038085938,null,21.080013275146484,21.079906463623047,null,21.282672882080078,21.282649993896484,null,25.40958023071289,25.409664154052734,null,25.723108291625977,25.7269229888916,null,20.660099029541016,20.644214630126953,null,19.54548454284668,19.546205520629883,null,18.12421226501465,18.116174697875977,null,18.40829849243164,18.406211853027344,null,18.81386375427246,18.813901901245117,null,19.513647079467773,19.410663604736328,null,19.410663604736328,19.3990478515625,null,19.510448455810547,19.53725242614746,null,16.64150619506836,16.632328033447266,null,2.085744619369507,2.061471939086914,null,2.061471939086914,2.060462474822998,null,3.8499860763549805,3.850006580352783,null,2.690115451812744,2.6900761127471924,null,10.736394882202148,10.721220970153809,null,10.721220970153809,10.722549438476562,null,12.23425006866455,12.234477996826172,null,12.183497428894043,12.17969799041748,null,14.983572959899902,14.992410659790039,null,-9.469223022460938,-9.487918853759766,null,-17.439477920532227,-17.424509048461914,null,-15.19200611114502,-15.163456916809082,null,-16.770687103271484,-16.775943756103516,null,-16.74294662475586,-16.73676109313965,null,9.07759952545166,9.107583999633789,null,8.222270965576172,8.173324584960938,null,11.995587348937988,12.03549861907959,null,7.385726451873779,7.370445251464844,null,-8.913582801818848,-8.936245918273926,null,6.554407596588135,6.584844589233398,null,-2.118786573410034,-2.148500680923462,null,8.935282707214355,8.958311080932617,null,5.075567245483398,5.060049533843994,null,7.715561866760254,7.727348804473877,null,10.711172103881836,10.7228422164917,null,11.761728286743164,11.764293670654297,null,11.561928749084473,11.559260368347168,null,15.298497200012207,15.330686569213867,null,16.88749885559082,16.89439582824707,null,31.724279403686523,31.689668655395508,null,82.78384399414062,82.81736755371094,null,77.49263000488281,77.48270416259766,null,67.62247467041016,67.60385131835938,null,71.43315887451172,71.45333099365234,null,30.345247268676758,30.323566436767578,null,25.341299057006836,25.295412063598633,null,17.696704864501953,17.650781631469727,null,77.35395050048828,77.40019226074219,null,79.00608825683594,79.02703094482422,null,79.73754119873047,79.77630615234375,null,62.466800689697266,62.456634521484375,null,71.41427612304688,71.42671966552734,null,-13.117632865905762,-13.117629051208496,null,-9.166486740112305,-9.166478157043457,null,3.2602860927581787,3.265056610107422,null,3.265056610107422,3.266573190689087,null,3.059669017791748,3.062164783477783,null,-0.7581508159637451,-0.7872259020805359,null,3.6844561100006104,3.6897623538970947,null,11.39454460144043,11.395268440246582,null,11.864350318908691,11.85032844543457,null,11.85032844543457,11.899141311645508,null,-15.36719036102295,-15.36276912689209,null,-15.327953338623047,-15.327896118164062,null,-16.049915313720703,-16.06636619567871,null,-16.06636619567871,-16.06937599182129,null,-15.901459693908691,-15.901566505432129,null,-14.238638877868652,-14.238371849060059,null,-46.60447311401367,-46.60902404785156,null,-46.60902404785156,-46.6091423034668,null,-46.46744918823242,-46.467403411865234,null,-48.256038665771484,-48.25606918334961,null,-48.65923309326172,-48.66274642944336,null,-46.81281280517578,-46.81544494628906,null,-29.366716384887695,-29.37177848815918,null,-27.94742202758789,-27.947410583496094,null,-25.254552841186523,-25.383731842041016,null,-25.383731842041016,-25.311342239379883,null,-25.311342239379883,-25.3023624420166,null,-13.22054386138916,-13.2205171585083,null,-15.336527824401855,-15.348226547241211,null,-15.348226547241211,-15.34875774383545,null,-14.048396110534668,-14.048380851745605,null,-20.449264526367188,-20.48552131652832,null,-17.56560516357422,-17.53544044494629,null,-31.48209571838379,-31.44960594177246,null,-101.17027282714844,-101.21383666992188,null,-116.67314910888672,-116.69996643066406,null,-123.9400863647461,-123.94791412353516,null,-111.18385314941406,-111.174560546875,null,-111.87505340576172,-111.8789291381836,null,-85.42394256591797,-85.39988708496094,null,-86.49468994140625,-86.51582336425781,null,-77.06488800048828,-77.03517150878906,null,-66.18109893798828,-66.15328979492188,null,-67.04113006591797,-67.04153442382812,null,-88.9354476928711,-88.9757308959961,null,-82.18375396728516,-82.14053344726562,null,-90.06413269042969,-90.10400390625,null,-49.95744323730469,-49.919654846191406,null,-59.30406188964844,-59.31873321533203,null,-59.65665817260742,-59.65982437133789,null,-74.49041748046875,-74.51498413085938,null,-36.74366760253906,-36.69976043701172,null,-54.249595642089844,-54.26166534423828,null,-53.859222412109375,-53.83498001098633,null,-9.535469055175781,-9.574326515197754,null,-9.956989288330078,-9.957463264465332,null,-31.490217208862305,-31.490232467651367,null,-23.22106170654297,-23.221071243286133,null,-6.2225189208984375,-6.203003406524658,null,-6.203003406524658,-6.201167106628418,null,-6.282929420471191,-6.282850742340088,null,-6.3357110023498535,-6.335757255554199,null,-8.311934471130371,-8.312237739562988,null,-5.1486358642578125,-5.1486310958862305,null,-3.453340768814087,-3.453213691711426,null,-3.405731678009033,-3.405797004699707,null,-2.8430471420288086,-2.8430774211883545,null,-0.25864550471305847,-0.25716719031333923,null,-1.457911729812622,-1.4581246376037598,null,1.5848408937454224,1.5847104787826538,null,1.738954782485962,1.7408709526062012,null,1.6368529796600342,1.6369186639785767,null,-5.7835307121276855,-5.673161506652832,null,-5.673161506652832,-5.678369522094727,null,-12.59107780456543,-12.58933162689209,null,-17.35494041442871,-17.399641036987305,null,-17.399641036987305,-17.401763916015625,null,-14.121443748474121,-14.121432304382324,null,-10.366966247558594,-10.36695671081543,null,-9.514776229858398,-9.51461124420166,null,-11.026079177856445,-11.025768280029297,null,-11.719110488891602,-11.719454765319824,null,-6.895864963531494,-6.887149810791016,null,-7.902177810668945,-7.910043239593506,null,-7.908939361572266,-7.89178991317749,null,-20.86736297607422,-20.945423126220703,null,-20.945423126220703,-20.88609504699707,null,-20.88609504699707,-20.846742630004883,null,-20.846742630004883,-20.834299087524414,null,-15.406997680664062,-15.45007038116455,null,-15.45007038116455,-15.451756477355957,null,-13.613296508789062,-13.611719131469727,null,-16.926958084106445,-16.927133560180664,null,-17.86927032470703,-17.905254364013672,null,-17.892822265625,-17.8800106048584,null,-17.8800106048584,-17.880096435546875,null,-11.743522644042969,-11.700478553771973,null,-7.470860481262207,-7.47086238861084,null,-7.959760665893555,-7.988959312438965,null,-7.988959312438965,-7.9891462326049805,null,-10.837458610534668,-10.817041397094727,null,-10.817041397094727,-10.815701484680176,null,-14.129680633544922,-14.129619598388672,null,-14.758219718933105,-14.75819206237793,null,-15.187743186950684,-15.187746047973633,null,-16.646753311157227,-16.646757125854492,null,-16.89072608947754,-16.890735626220703,null,-17.046724319458008,-17.046485900878906,null,-25.929136276245117,-25.935338973999023,null,-22.22077178955078,-22.220867156982422,null,13.647552490234375,13.650432586669922,null,13.650432586669922,13.6483793258667,null,13.346467018127441,13.346553802490234,null,11.288722038269043,11.286700248718262,null,13.974862098693848,13.998401641845703,null,12.382257461547852,12.445144653320312,null,15.122637748718262,15.147546768188477,null,19.32992172241211,19.314924240112305,null,51.25755310058594,51.2983283996582,null,67.46487426757812,67.50345611572266,null,76.43876647949219,76.45720672607422,null,77.9722900390625,77.9722900390625,null,78.8298568725586,78.87310028076172,null,78.87310028076172,78.87299346923828,null,82.50349426269531,82.50357818603516,null,77.48050689697266,77.4803466796875,null,75.96025848388672,75.95999908447266,null,76.91325378417969,76.91326141357422,null,78.60212707519531,78.6020278930664,null,79.5165023803711,79.50862121582031,null,78.13392639160156,78.13331604003906,null,78.43359375,78.4349365234375,null,70.6180191040039,70.60372161865234,null,66.59612274169922,66.56892395019531,null,76.056396484375,76.08196258544922,null,66.34716796875,66.32453155517578,null,69.31768798828125,69.32186126708984,null,52.341060638427734,52.29427719116211,null,64.31047058105469,64.27046203613281,null,7.905177593231201,7.8627142906188965,null,6.264245986938477,6.260034084320068,null,70.97624206542969,71.01660919189453,null,32.322998046875,32.34861373901367,null,-28.654279708862305,-28.69186782836914,null,77.74151611328125,77.74151611328125,null,29.75181770324707,29.751808166503906,null,21.784912109375,21.784950256347656,null,13.689712524414062,13.689695358276367,null,-5.7878804206848145,-5.787872314453125,null,-18.27859115600586,-18.28887176513672,null,-14.960957527160645,-14.949122428894043,null,-3.9363698959350586,-3.936337471008301,null,-3.706012725830078,-3.701852798461914,null,-3.701852798461914,-3.6991255283355713,null,-4.017975330352783,-4.018088340759277,null,-7.290258884429932,-7.332507610321045,null,-7.969562530517578,-7.986930847167969,null,-9.725924491882324,-9.720831871032715,null,-14.20384693145752,-14.226473808288574,null,-13.580117225646973,-13.551559448242188,null,-26.23525047302246,-26.272323608398438,null,-28.156335830688477,-28.16015625,null,-18.11414909362793,-18.097946166992188,null,23.726240158081055,23.77279281616211,null,21.20475196838379,21.200273513793945,null,31.340972900390625,31.36869239807129,null,25.17313575744629,25.15388298034668,null,21.059009552001953,21.045398712158203,null,-3.0332164764404297,-2.9874093532562256,null,-2.9874093532562256,-2.9842724800109863,null,-3.6264266967773438,-3.6278982162475586,null,-1.5496160984039307,-1.5471181869506836,null,-2.938106060028076,-2.858271837234497,null,-2.858271837234497,-2.8617000579833984,null,-2.8617000579833984,-2.8719515800476074,null,-2.8719515800476074,-2.880784749984741,null,-2.880784749984741,-2.794074773788452,null,-2.794074773788452,-2.74763560295105,null,-25.545549392700195,-25.545549392700195,null,-25.94051170349121,-25.966337203979492,null,-25.966337203979492,-25.966867446899414,null,-25.435619354248047,-25.43556785583496,null,-27.413354873657227,-27.413467407226562,null,-26.838510513305664,-26.838510513305664,null,-25.697660446166992,-25.69767189025879,null,-25.45823097229004,-25.458078384399414,null,-26.378082275390625,-26.379413604736328,null,-25.325504302978516,-25.324874877929688,null,-25.27315902709961,-25.262224197387695,null,-49.28897476196289,-49.26338577270508,null,-49.26338577270508,-49.2603759765625,null,-49.67361068725586,-49.67365264892578,null,-49.894046783447266,-49.894073486328125,null,-49.81433868408203,-49.81433868408203,null,-38.90842819213867,-38.908443450927734,null,-35.43785095214844,-35.434207916259766,null,-37.213905334472656,-37.21427917480469,null,-37.17578887939453,-37.19007110595703,null,-28.390579223632812,-28.431306838989258,null,-28.431306838989258,-28.43511199951172,null,-25.557689666748047,-25.556529998779297,null,-26.822885513305664,-26.82776641845703,null,-25.239124298095703,-25.190889358520508,null,-25.190889358520508,-25.051036834716797,null,-25.051036834716797,-25.000261306762695,null,-22.203014373779297,-22.214200973510742,null,-22.214200973510742,-22.216106414794922,null,-22.16440773010254,-22.164199829101562,null,-23.989377975463867,-23.984703063964844,null,-23.984703063964844,-23.980918884277344,null,-23.99891471862793,-23.998878479003906,null,-13.419835090637207,-13.392462730407715,null,-13.688176155090332,-13.694947242736816,null,-16.296430587768555,-16.313400268554688,null,-19.83596420288086,-19.840848922729492,null,-33.67047119140625,-33.670475006103516,null,-35.182735443115234,-35.186256408691406,null,-35.186256408691406,-35.17961883544922,null,-11.420833587646484,-11.406639099121094,null,-11.563679695129395,-11.5506591796875,null,-14.923270225524902,-14.94739055633545,null,-61.982444763183594,-61.978294372558594,null,-61.978294372558594,-61.97978210449219,null,-62.1729736328125,-62.17310333251953,null,-61.89299011230469,-61.8912467956543,null,-63.08262634277344,-63.08249282836914,null,-67.4268798828125,-67.42890167236328,null,-67.4248046875,-67.44468688964844,null,-35.99693298339844,-36.042057037353516,null,-25.171476364135742,-25.171478271484375,null,-19.2912654876709,-19.291276931762695,null,-33.12968826293945,-33.1297492980957,null,-15.587739944458008,-15.587759971618652,null,-0.4104677140712738,-0.4506637454032898,null,-0.4506637454032898,-0.4511229693889618,null,0.6970795392990112,0.6978252530097961,null,-0.9098024368286133,-0.9097981452941895,null,-3.315706491470337,-3.315776824951172,null,-3.0430901050567627,-3.0408809185028076,null,-3.7553904056549072,-3.7506563663482666,null,-15.36719036102295,-15.370467185974121,null,-9.8301362991333,-9.786969184875488,null,-9.786969184875488,-9.784802436828613,null,-15.36719036102295,-15.367194175720215,null,-10.918318748474121,-10.956786155700684,null,-10.798422813415527,-10.856505393981934,null,-8.997982025146484,-9.034589767456055,null,-8.153119087219238,-8.243581771850586,null,-8.243581771850586,-8.243569374084473,null,-6.352230548858643,-6.350130558013916,null,-4.908771991729736,-4.906862258911133,null,-4.266617774963379,-4.315474510192871,null,-2.9953134059906006,-3.0175983905792236,null,-3.0175983905792236,-3.0217058658599854,null,-1.8677771091461182,-1.920364499092102,null,-1.1155458688735962,-1.089785099029541,null,-1.089785099029541,-1.090289831161499,null,-1.947224497795105,-1.9473086595535278,null,-0.7217195630073547,-0.7257004976272583,null,-0.7257004976272583,-0.7972888350486755,null,-0.8239641189575195,-0.8474447727203369,null,-0.8474447727203369,-0.8476167917251587,null,0.08013483136892319,0.07103168964385986,null,0.6674203872680664,0.6585092544555664,null,0.8270955681800842,0.7802444696426392,null,1.965604305267334,1.8393031358718872,null,1.8393031358718872,1.8765203952789307,null,2.1894867420196533,2.1996541023254395,null,2.711723804473877,2.6570022106170654,null,3.0804061889648438,3.112391233444214,null,6.727444171905518,6.7124762535095215,null,6.915557384490967,6.900750637054443,null,9.10120677947998,8.949556350708008,null,8.949556350708008,8.941214561462402,null,11.588595390319824,11.617335319519043,null,14.719252586364746,14.67126178741455,null,14.67126178741455,14.630231857299805,null,14.630231857299805,14.60035514831543,null,14.60035514831543,14.577502250671387,null,14.577502250671387,14.562262535095215,null,14.562262535095215,14.529486656188965,null],\"z\":[169.49227905273438,169.21214294433594,null,169.21214294433594,169.09747314453125,null,169.09747314453125,168.88536071777344,null,168.88536071777344,168.8734130859375,null,168.8734130859375,168.84622192382812,null,168.6678924560547,168.58934020996094,null,168.58934020996094,168.57638549804688,null,168.57638549804688,168.55455017089844,null,168.55455017089844,168.5471954345703,null,168.5471954345703,168.50985717773438,null,168.50985717773438,168.5055694580078,null,168.5055694580078,168.48545837402344,null,168.48545837402344,168.43865966796875,null,168.43865966796875,168.4429168701172,null,168.4429168701172,168.4715118408203,null,168.4715118408203,168.79318237304688,null,168.79318237304688,168.9936981201172,null,168.9936981201172,169.3893280029297,null,169.3893280029297,169.9673309326172,null,169.9673309326172,169.98634338378906,null,169.98634338378906,170.21591186523438,null,170.21591186523438,170.65682983398438,null,170.65682983398438,170.904052734375,null,170.904052734375,170.94970703125,null,170.94970703125,171.2452392578125,null,171.2452392578125,171.5828094482422,null,171.5828094482422,171.84239196777344,null,171.84239196777344,171.9982147216797,null,171.9982147216797,172.1431121826172,null,172.1431121826172,172.2222900390625,null,172.2222900390625,172.26486206054688,null,172.26486206054688,172.32691955566406,null,172.32691955566406,172.3712158203125,null,172.3712158203125,172.41250610351562,null,172.41250610351562,172.44525146484375,null,172.44525146484375,172.51251220703125,null,172.51251220703125,172.610595703125,null,172.610595703125,172.61553955078125,null,172.61553955078125,172.61585998535156,null,176.65467834472656,176.63246154785156,null,176.63246154785156,176.6308135986328,null,178.86114501953125,178.86126708984375,null,178.47621154785156,178.4760284423828,null,178.44491577148438,178.4458770751953,null,173.23805236816406,173.24578857421875,null,185.2819366455078,185.3224334716797,null,185.3224334716797,185.3229522705078,null,182.76417541503906,182.7625274658203,null,187.66561889648438,187.67205810546875,null,172.8257598876953,172.8191375732422,null,172.8191375732422,172.87135314941406,null,195.65170288085938,195.6215057373047,null,195.6215057373047,195.6201171875,null,197.5201873779297,197.52024841308594,null,196.90489196777344,196.90469360351562,null,189.19366455078125,189.1957550048828,null,176.5500030517578,176.56085205078125,null,173.8670654296875,173.8670654296875,null,197.5433807373047,197.5433807373047,null,197.3395233154297,197.33950805664062,null,10.573854446411133,10.535959243774414,null,10.535959243774414,10.531826972961426,null,14.44450855255127,14.448426246643066,null,14.101051330566406,14.080400466918945,null,14.627911567687988,14.36751937866211,null,14.36751937866211,14.48409366607666,null,14.48409366607666,14.493834495544434,null,14.493834495544434,14.494322776794434,null,120.66207122802734,120.66014862060547,null,215.2898712158203,215.2899169921875,null,215.4228973388672,215.44468688964844,null,215.44468688964844,215.44049072265625,null,210.4310760498047,210.3898468017578,null,263.6931457519531,263.70220947265625,null,264.2974853515625,264.3173828125,null,262.8919982910156,262.8821716308594,null,270.85430908203125,270.88018798828125,null,271.1390380859375,271.1402587890625,null,254.16339111328125,254.16522216796875,null,259.7619323730469,259.7751159667969,null,252.56756591796875,252.55833435058594,null,243.2052001953125,243.20008850097656,null,238.88031005859375,238.85365295410156,null,268.4384460449219,268.4715881347656,null,290.6669006347656,290.683349609375,null,239.89639282226562,239.86154174804688,null,265.6322937011719,265.6669006347656,null,220.41128540039062,220.43984985351562,null,220.43984985351562,220.4431610107422,null,218.3580322265625,218.35804748535156,null,218.2574920654297,218.2574920654297,null,217.16192626953125,217.16139221191406,null,219.22630310058594,219.22816467285156,null,202.76715087890625,202.67510986328125,null,202.67510986328125,202.6798095703125,null,176.61952209472656,176.62130737304688,null,176.62130737304688,176.61581420898438,null,176.31591796875,176.31851196289062,null,153.09474182128906,153.0948028564453,null,150.97262573242188,150.90060424804688,null,177.03192138671875,177.0556182861328,null,182.3797607421875,182.08529663085938,null,182.08529663085938,181.85134887695312,null,181.85134887695312,181.91921997070312,null,181.91921997070312,181.89382934570312,null,182.06402587890625,182.09182739257812,null,182.09182739257812,182.08985900878906,null,85.65277099609375,85.60627746582031,null,44.92737579345703,44.927364349365234,null,46.15327453613281,46.15524673461914,null,46.15524673461914,46.1571159362793,null,70.4179916381836,70.41181182861328,null,70.41181182861328,70.41075134277344,null,71.00692749023438,71.00716400146484,null,67.28982543945312,67.2898178100586,null,59.01734161376953,59.01740646362305,null,58.73984146118164,58.73903274536133,null,58.23295974731445,58.23311233520508,null,57.712982177734375,57.71379470825195,null,56.79916000366211,56.854061126708984,null,56.854061126708984,56.80394744873047,null,105.67823028564453,105.64183044433594,null,105.64183044433594,105.64067840576172,null,105.68733215332031,105.68738555908203,null,105.6563949584961,105.6563949584961,null,102.82110595703125,102.82105255126953,null,103.63131713867188,103.63121032714844,null,103.80004119873047,103.8001937866211,null,104.15384674072266,104.15401458740234,null,92.52394104003906,92.52165985107422,null,93.272216796875,93.34123229980469,null,76.02668762207031,76.02890014648438,null,64.25943756103516,64.27314758300781,null,60.25352096557617,60.25370788574219,null,58.520694732666016,58.5828857421875,null,56.69157028198242,56.84628677368164,null,56.84628677368164,56.94988250732422,null,56.70883560180664,56.761295318603516,null,19.305965423583984,19.2672119140625,null,27.62544059753418,27.66748046875,null,27.66748046875,27.66865348815918,null,24.569780349731445,24.56978416442871,null,14.007220268249512,14.007217407226562,null,12.557068824768066,12.516510963439941,null,12.516510963439941,12.513216972351074,null,16.560640335083008,16.560911178588867,null,16.580055236816406,16.58213996887207,null,14.960786819458008,14.969637870788574,null,54.150569915771484,54.19414520263672,null,48.15396499633789,48.110740661621094,null,48.9305305480957,48.94101333618164,null,83.98078155517578,83.9317398071289,null,84.0608901977539,84.08509826660156,null,50.73127365112305,50.69253158569336,null,50.53567123413086,50.527000427246094,null,53.399845123291016,53.42984390258789,null,39.17213821411133,39.125282287597656,null,63.177642822265625,63.211116790771484,null,45.30022048950195,45.2650260925293,null,48.46903991699219,48.47998046875,null,40.523929595947266,40.50740051269531,null,34.935890197753906,34.91361999511719,null,43.12006759643555,43.156494140625,null,30.738418579101562,30.689849853515625,null,43.24384307861328,43.27484130859375,null,42.45017623901367,42.439300537109375,null,46.86897277832031,46.907108306884766,null,35.74464797973633,35.69520568847656,null,42.67947006225586,42.645565032958984,null,69.20418548583984,69.17513275146484,null,68.57061767578125,68.56949615478516,null,87.935546875,87.97213745117188,null,80.56596374511719,80.52696228027344,null,88.47997283935547,88.46131134033203,null,86.8135986328125,86.79842376708984,null,89.33687591552734,89.35221862792969,null,65.17694091796875,65.15821838378906,null,66.30146789550781,66.31637573242188,null,66.4129867553711,66.41825103759766,null,48.52716064453125,48.484153747558594,null,85.9068603515625,85.95109558105469,null,42.107913970947266,42.10789489746094,null,55.91661834716797,55.91663360595703,null,54.091304779052734,54.09071731567383,null,54.09071731567383,54.09457015991211,null,54.11600875854492,54.1183967590332,null,50.82425308227539,50.84162139892578,null,45.83045196533203,45.83652877807617,null,17.086362838745117,17.086894989013672,null,10.163116455078125,10.230740547180176,null,10.230740547180176,10.260385513305664,null,172.61553955078125,172.59844970703125,null,166.49546813964844,166.49537658691406,null,169.0083770751953,168.9728546142578,null,168.9728546142578,168.97044372558594,null,169.32899475097656,169.32911682128906,null,171.07382202148438,171.07432556152344,null,166.51776123046875,166.4775848388672,null,166.4775848388672,166.46983337402344,null,167.7281036376953,167.7280731201172,null,174.44448852539062,174.4445037841797,null,180.78135681152344,180.7923126220703,null,176.539794921875,176.53854370117188,null,168.48785400390625,168.47616577148438,null,169.08863830566406,169.08828735351562,null,170.70318603515625,170.81910705566406,null,170.81910705566406,170.94142150878906,null,170.94142150878906,170.98387145996094,null,161.65853881835938,161.6584930419922,null,150.45301818847656,150.41726684570312,null,150.41726684570312,150.41493225097656,null,154.38902282714844,154.3889617919922,null,168.19598388671875,168.22877502441406,null,167.42092895507812,167.39891052246094,null,181.65943908691406,181.65162658691406,null,144.0225067138672,143.99899291992188,null,144.37615966796875,144.37681579589844,null,119.50460815429688,119.47771453857422,null,132.93067932128906,132.9404754638672,null,131.76202392578125,131.75550842285156,null,136.90199279785156,136.90667724609375,null,134.5592803955078,134.5139617919922,null,146.57273864746094,146.61065673828125,null,135.98272705078125,135.9554901123047,null,141.9012908935547,141.9040069580078,null,144.23960876464844,144.243896484375,null,142.94625854492188,142.93800354003906,null,143.74830627441406,143.75238037109375,null,125.65994262695312,125.64291381835938,null,165.7246551513672,165.75991821289062,null,165.89187622070312,165.8931121826172,null,182.1113739013672,182.13824462890625,null,196.93887329101562,196.95608520507812,null,146.66221618652344,146.61822509765625,null,147.31358337402344,147.35548400878906,null,264.14410400390625,264.1719970703125,null,268.7091369628906,268.71478271484375,null,181.66139221191406,181.66140747070312,null,171.5475311279297,171.5475311279297,null,133.15602111816406,133.20176696777344,null,133.20176696777344,133.19947814941406,null,133.01443481445312,133.0140380859375,null,133.0777130126953,133.0778350830078,null,131.8489227294922,131.84881591796875,null,132.7185821533203,132.7185821533203,null,132.5779571533203,132.57774353027344,null,132.98190307617188,132.9818572998047,null,134.08868408203125,134.0886993408203,null,136.05026245117188,136.04925537109375,null,141.397216796875,141.397216796875,null,154.1602783203125,154.1603546142578,null,154.343017578125,154.34486389160156,null,154.6138916015625,154.6138458251953,null,160.87124633789062,160.86737060546875,null,160.86737060546875,160.8349151611328,null,161.50941467285156,161.503173828125,null,166.47242736816406,166.49212646484375,null,166.49212646484375,166.48992919921875,null,165.0467529296875,165.04664611816406,null,165.6222686767578,165.62225341796875,null,166.49163818359375,166.49160766601562,null,168.94363403320312,168.94313049316406,null,170.06158447265625,170.06167602539062,null,182.93511962890625,182.9413604736328,null,182.48028564453125,182.4869842529297,null,182.09521484375,182.08396911621094,null,178.2024688720703,178.31622314453125,null,178.31622314453125,178.51632690429688,null,178.51632690429688,178.5872039794922,null,178.5872039794922,178.61819458007812,null,189.05099487304688,189.04388427734375,null,189.04388427734375,189.04000854492188,null,189.34710693359375,189.34744262695312,null,188.52005004882812,188.5202178955078,null,171.09713745117188,171.12896728515625,null,171.13299560546875,171.1622772216797,null,171.1622772216797,171.1622772216797,null,168.56874084472656,168.59364318847656,null,172.94187927246094,172.94187927246094,null,173.61497497558594,173.65518188476562,null,173.65518188476562,173.656494140625,null,180.42245483398438,180.4449462890625,null,180.4449462890625,180.44627380371094,null,176.97830200195312,176.97833251953125,null,176.2512969970703,176.2510528564453,null,176.8992462158203,176.8992919921875,null,178.26585388183594,178.26585388183594,null,179.361328125,179.36154174804688,null,177.13743591308594,177.1371307373047,null,179.4936981201172,179.4973602294922,null,176.33404541015625,176.3338165283203,null,169.48898315429688,169.530517578125,null,169.530517578125,169.5312042236328,null,165.1478271484375,165.1476593017578,null,165.7703094482422,165.76974487304688,null,167.06607055664062,167.06228637695312,null,167.8135986328125,167.8040313720703,null,141.2877197265625,141.24880981445312,null,134.74166870117188,134.77537536621094,null,139.98208618164062,139.95559692382812,null,150.87557983398438,150.9016571044922,null,170.2185516357422,170.25840759277344,null,173.63546752929688,173.63546752929688,null,173.41363525390625,173.40245056152344,null,173.40245056152344,173.40264892578125,null,168.064453125,168.06471252441406,null,164.98756408691406,164.98745727539062,null,164.17140197753906,164.1713104248047,null,164.3699188232422,164.3699951171875,null,162.37240600585938,162.3723907470703,null,166.56643676757812,166.5509490966797,null,172.25515747070312,172.2554168701172,null,162.24700927734375,162.2025146484375,null,177.02413940429688,177.05125427246094,null,178.08201599121094,178.08901977539062,null,164.80259704589844,164.7667999267578,null,176.37550354003906,176.40248107910156,null,211.58168029785156,211.6307830810547,null,59.749332427978516,59.7509880065918,null,52.50748825073242,52.5173454284668,null,18.495590209960938,18.469959259033203,null,37.142696380615234,37.191898345947266,null,29.956567764282227,29.960105895996094,null,31.032365798950195,31.016870498657227,null,30.111412048339844,30.110855102539062,null,185.21046447753906,185.21047973632812,null,153.95042419433594,153.95045471191406,null,129.22384643554688,129.2238006591797,null,133.6434326171875,133.64341735839844,null,173.96176147460938,173.9617919921875,null,152.59461975097656,152.5461883544922,null,139.3624725341797,139.31558227539062,null,118.31827545166016,118.31825256347656,null,118.96239471435547,118.96975708007812,null,118.96975708007812,118.96896362304688,null,118.41065216064453,118.41068267822266,null,116.34877014160156,116.32395935058594,null,114.84949493408203,114.80929565429688,null,104.10216522216797,104.07036590576172,null,112.2014389038086,112.24247741699219,null,111.9352035522461,111.921630859375,null,118.11394500732422,118.13204956054688,null,96.27217102050781,96.22785949707031,null,124.39971160888672,124.44515228271484,null,136.5218505859375,136.53529357910156,null,165.08956909179688,165.1393585205078,null,179.33111572265625,179.36990356445312,null,180.858642578125,180.86326599121094,null,195.24356079101562,195.29136657714844,null,116.6043930053711,116.58698272705078,null,116.58698272705078,116.58509826660156,null,116.82978820800781,116.829833984375,null,117.28870391845703,117.29093170166016,null,114.6500473022461,114.30106353759766,null,114.30106353759766,114.08935546875,null,114.08935546875,114.2796630859375,null,114.2796630859375,114.48223876953125,null,114.48223876953125,114.54991149902344,null,114.54991149902344,114.52216339111328,null,167.27706909179688,167.27708435058594,null,169.51373291015625,169.5453338623047,null,169.5453338623047,169.5449676513672,null,168.89578247070312,168.89576721191406,null,168.94898986816406,168.9490203857422,null,168.6714630126953,168.6714630126953,null,168.18447875976562,168.18446350097656,null,168.12265014648438,168.12271118164062,null,167.32830810546875,167.32757568359375,null,167.7615966796875,167.7624969482422,null,167.7310333251953,167.74383544921875,null,168.21495056152344,168.17864990234375,null,168.17864990234375,168.1795654296875,null,168.76058959960938,168.76065063476562,null,169.06280517578125,169.06280517578125,null,169.07382202148438,169.07382202148438,null,168.0509490966797,168.0509490966797,null,168.10707092285156,168.10755920410156,null,167.6861572265625,167.68600463867188,null,167.82711791992188,167.82852172851562,null,167.0757598876953,167.08795166015625,null,167.08795166015625,167.08555603027344,null,166.2284393310547,166.22763061523438,null,167.55606079101562,167.5615234375,null,165.6305694580078,165.4029541015625,null,165.4029541015625,165.56558227539062,null,165.56558227539062,165.58718872070312,null,167.4386444091797,167.3919677734375,null,167.3919677734375,167.39085388183594,null,167.59971618652344,167.59999084472656,null,166.5740966796875,166.62290954589844,null,166.62290954589844,166.62405395507812,null,166.4745330810547,166.47451782226562,null,150.5660400390625,150.5283203125,null,148.36483764648438,148.31529235839844,null,141.56396484375,141.51992797851562,null,135.85386657714844,135.83103942871094,null,113.69490814208984,113.69490814208984,null,112.25523376464844,112.25188446044922,null,112.25188446044922,112.25728607177734,null,90.19629669189453,90.15996551513672,null,90.44322967529297,90.49078369140625,null,68.85367584228516,68.81197357177734,null,141.2002410888672,141.22372436523438,null,141.22372436523438,141.225830078125,null,140.1226043701172,140.1220245361328,null,141.2545166015625,141.25823974609375,null,139.3540802001953,139.35403442382812,null,136.86630249023438,136.86814880371094,null,136.82565307617188,136.82615661621094,null,112.9577865600586,112.91424560546875,null,124.85790252685547,124.85790252685547,null,138.40098571777344,138.40097045898438,null,162.97076416015625,162.9707489013672,null,167.4604034423828,167.46041870117188,null,187.8877410888672,187.91326904296875,null,187.91326904296875,187.9176483154297,null,187.1841583251953,187.18421936035156,null,184.12986755371094,184.12986755371094,null,181.83718872070312,181.8372039794922,null,180.114501953125,180.11627197265625,null,177.9640655517578,177.96473693847656,null,172.61553955078125,172.61720275878906,null,170.03733825683594,170.0131378173828,null,170.0131378173828,170.0145721435547,null,172.61553955078125,172.6155242919922,null,170.94970703125,170.95184326171875,null,170.904052734375,170.88304138183594,null,170.21591186523438,170.21170043945312,null,169.98634338378906,170.0103759765625,null,170.0103759765625,170.01043701171875,null,169.3893280029297,169.37718200683594,null,168.9936981201172,169.01844787597656,null,168.79318237304688,168.83094787597656,null,168.4715118408203,168.49063110351562,null,168.49063110351562,168.49530029296875,null,168.4429168701172,168.450927734375,null,167.07850646972656,167.0360107421875,null,167.0360107421875,167.0358123779297,null,168.45037841796875,168.45042419433594,null,168.43865966796875,168.3985137939453,null,168.3985137939453,168.3693389892578,null,168.3319091796875,168.2920379638672,null,168.2920379638672,168.29202270507812,null,168.48545837402344,168.5410614013672,null,168.5055694580078,168.53038024902344,null,168.50985717773438,168.45693969726562,null,168.5471954345703,168.5567169189453,null,168.5567169189453,168.60545349121094,null,168.55455017089844,168.51568603515625,null,168.57638549804688,168.60472106933594,null,168.58934020996094,168.59310913085938,null,168.8734130859375,168.84909057617188,null,168.88536071777344,168.92420959472656,null,169.09747314453125,169.1156005859375,null,169.1156005859375,169.11697387695312,null,169.21214294433594,169.21470642089844,null,169.49227905273438,169.3474578857422,null,169.3474578857422,169.2330322265625,null,169.2330322265625,169.14035034179688,null,169.14035034179688,169.0658416748047,null,169.0658416748047,169.0059051513672,null,169.0059051513672,168.8381805419922,null]}],                        {\"height\":768,\"legend\":{\"orientation\":\"h\"},\"template\":{\"data\":{\"bar\":[{\"error_x\":{\"color\":\"#2a3f5f\"},\"error_y\":{\"color\":\"#2a3f5f\"},\"marker\":{\"line\":{\"color\":\"#E5ECF6\",\"width\":0.5},\"pattern\":{\"fillmode\":\"overlay\",\"size\":10,\"solidity\":0.2}},\"type\":\"bar\"}],\"barpolar\":[{\"marker\":{\"line\":{\"color\":\"#E5ECF6\",\"width\":0.5},\"pattern\":{\"fillmode\":\"overlay\",\"size\":10,\"solidity\":0.2}},\"type\":\"barpolar\"}],\"carpet\":[{\"aaxis\":{\"endlinecolor\":\"#2a3f5f\",\"gridcolor\":\"white\",\"linecolor\":\"white\",\"minorgridcolor\":\"white\",\"startlinecolor\":\"#2a3f5f\"},\"baxis\":{\"endlinecolor\":\"#2a3f5f\",\"gridcolor\":\"white\",\"linecolor\":\"white\",\"minorgridcolor\":\"white\",\"startlinecolor\":\"#2a3f5f\"},\"type\":\"carpet\"}],\"choropleth\":[{\"colorbar\":{\"outlinewidth\":0,\"ticks\":\"\"},\"type\":\"choropleth\"}],\"contour\":[{\"colorbar\":{\"outlinewidth\":0,\"ticks\":\"\"},\"colorscale\":[[0.0,\"#0d0887\"],[0.1111111111111111,\"#46039f\"],[0.2222222222222222,\"#7201a8\"],[0.3333333333333333,\"#9c179e\"],[0.4444444444444444,\"#bd3786\"],[0.5555555555555556,\"#d8576b\"],[0.6666666666666666,\"#ed7953\"],[0.7777777777777778,\"#fb9f3a\"],[0.8888888888888888,\"#fdca26\"],[1.0,\"#f0f921\"]],\"type\":\"contour\"}],\"contourcarpet\":[{\"colorbar\":{\"outlinewidth\":0,\"ticks\":\"\"},\"type\":\"contourcarpet\"}],\"heatmap\":[{\"colorbar\":{\"outlinewidth\":0,\"ticks\":\"\"},\"colorscale\":[[0.0,\"#0d0887\"],[0.1111111111111111,\"#46039f\"],[0.2222222222222222,\"#7201a8\"],[0.3333333333333333,\"#9c179e\"],[0.4444444444444444,\"#bd3786\"],[0.5555555555555556,\"#d8576b\"],[0.6666666666666666,\"#ed7953\"],[0.7777777777777778,\"#fb9f3a\"],[0.8888888888888888,\"#fdca26\"],[1.0,\"#f0f921\"]],\"type\":\"heatmap\"}],\"heatmapgl\":[{\"colorbar\":{\"outlinewidth\":0,\"ticks\":\"\"},\"colorscale\":[[0.0,\"#0d0887\"],[0.1111111111111111,\"#46039f\"],[0.2222222222222222,\"#7201a8\"],[0.3333333333333333,\"#9c179e\"],[0.4444444444444444,\"#bd3786\"],[0.5555555555555556,\"#d8576b\"],[0.6666666666666666,\"#ed7953\"],[0.7777777777777778,\"#fb9f3a\"],[0.8888888888888888,\"#fdca26\"],[1.0,\"#f0f921\"]],\"type\":\"heatmapgl\"}],\"histogram\":[{\"marker\":{\"pattern\":{\"fillmode\":\"overlay\",\"size\":10,\"solidity\":0.2}},\"type\":\"histogram\"}],\"histogram2d\":[{\"colorbar\":{\"outlinewidth\":0,\"ticks\":\"\"},\"colorscale\":[[0.0,\"#0d0887\"],[0.1111111111111111,\"#46039f\"],[0.2222222222222222,\"#7201a8\"],[0.3333333333333333,\"#9c179e\"],[0.4444444444444444,\"#bd3786\"],[0.5555555555555556,\"#d8576b\"],[0.6666666666666666,\"#ed7953\"],[0.7777777777777778,\"#fb9f3a\"],[0.8888888888888888,\"#fdca26\"],[1.0,\"#f0f921\"]],\"type\":\"histogram2d\"}],\"histogram2dcontour\":[{\"colorbar\":{\"outlinewidth\":0,\"ticks\":\"\"},\"colorscale\":[[0.0,\"#0d0887\"],[0.1111111111111111,\"#46039f\"],[0.2222222222222222,\"#7201a8\"],[0.3333333333333333,\"#9c179e\"],[0.4444444444444444,\"#bd3786\"],[0.5555555555555556,\"#d8576b\"],[0.6666666666666666,\"#ed7953\"],[0.7777777777777778,\"#fb9f3a\"],[0.8888888888888888,\"#fdca26\"],[1.0,\"#f0f921\"]],\"type\":\"histogram2dcontour\"}],\"mesh3d\":[{\"colorbar\":{\"outlinewidth\":0,\"ticks\":\"\"},\"type\":\"mesh3d\"}],\"parcoords\":[{\"line\":{\"colorbar\":{\"outlinewidth\":0,\"ticks\":\"\"}},\"type\":\"parcoords\"}],\"pie\":[{\"automargin\":true,\"type\":\"pie\"}],\"scatter\":[{\"marker\":{\"colorbar\":{\"outlinewidth\":0,\"ticks\":\"\"}},\"type\":\"scatter\"}],\"scatter3d\":[{\"line\":{\"colorbar\":{\"outlinewidth\":0,\"ticks\":\"\"}},\"marker\":{\"colorbar\":{\"outlinewidth\":0,\"ticks\":\"\"}},\"type\":\"scatter3d\"}],\"scattercarpet\":[{\"marker\":{\"colorbar\":{\"outlinewidth\":0,\"ticks\":\"\"}},\"type\":\"scattercarpet\"}],\"scattergeo\":[{\"marker\":{\"colorbar\":{\"outlinewidth\":0,\"ticks\":\"\"}},\"type\":\"scattergeo\"}],\"scattergl\":[{\"marker\":{\"colorbar\":{\"outlinewidth\":0,\"ticks\":\"\"}},\"type\":\"scattergl\"}],\"scattermapbox\":[{\"marker\":{\"colorbar\":{\"outlinewidth\":0,\"ticks\":\"\"}},\"type\":\"scattermapbox\"}],\"scatterpolar\":[{\"marker\":{\"colorbar\":{\"outlinewidth\":0,\"ticks\":\"\"}},\"type\":\"scatterpolar\"}],\"scatterpolargl\":[{\"marker\":{\"colorbar\":{\"outlinewidth\":0,\"ticks\":\"\"}},\"type\":\"scatterpolargl\"}],\"scatterternary\":[{\"marker\":{\"colorbar\":{\"outlinewidth\":0,\"ticks\":\"\"}},\"type\":\"scatterternary\"}],\"surface\":[{\"colorbar\":{\"outlinewidth\":0,\"ticks\":\"\"},\"colorscale\":[[0.0,\"#0d0887\"],[0.1111111111111111,\"#46039f\"],[0.2222222222222222,\"#7201a8\"],[0.3333333333333333,\"#9c179e\"],[0.4444444444444444,\"#bd3786\"],[0.5555555555555556,\"#d8576b\"],[0.6666666666666666,\"#ed7953\"],[0.7777777777777778,\"#fb9f3a\"],[0.8888888888888888,\"#fdca26\"],[1.0,\"#f0f921\"]],\"type\":\"surface\"}],\"table\":[{\"cells\":{\"fill\":{\"color\":\"#EBF0F8\"},\"line\":{\"color\":\"white\"}},\"header\":{\"fill\":{\"color\":\"#C8D4E3\"},\"line\":{\"color\":\"white\"}},\"type\":\"table\"}]},\"layout\":{\"annotationdefaults\":{\"arrowcolor\":\"#2a3f5f\",\"arrowhead\":0,\"arrowwidth\":1},\"autotypenumbers\":\"strict\",\"coloraxis\":{\"colorbar\":{\"outlinewidth\":0,\"ticks\":\"\"}},\"colorscale\":{\"diverging\":[[0,\"#8e0152\"],[0.1,\"#c51b7d\"],[0.2,\"#de77ae\"],[0.3,\"#f1b6da\"],[0.4,\"#fde0ef\"],[0.5,\"#f7f7f7\"],[0.6,\"#e6f5d0\"],[0.7,\"#b8e186\"],[0.8,\"#7fbc41\"],[0.9,\"#4d9221\"],[1,\"#276419\"]],\"sequential\":[[0.0,\"#0d0887\"],[0.1111111111111111,\"#46039f\"],[0.2222222222222222,\"#7201a8\"],[0.3333333333333333,\"#9c179e\"],[0.4444444444444444,\"#bd3786\"],[0.5555555555555556,\"#d8576b\"],[0.6666666666666666,\"#ed7953\"],[0.7777777777777778,\"#fb9f3a\"],[0.8888888888888888,\"#fdca26\"],[1.0,\"#f0f921\"]],\"sequentialminus\":[[0.0,\"#0d0887\"],[0.1111111111111111,\"#46039f\"],[0.2222222222222222,\"#7201a8\"],[0.3333333333333333,\"#9c179e\"],[0.4444444444444444,\"#bd3786\"],[0.5555555555555556,\"#d8576b\"],[0.6666666666666666,\"#ed7953\"],[0.7777777777777778,\"#fb9f3a\"],[0.8888888888888888,\"#fdca26\"],[1.0,\"#f0f921\"]]},\"colorway\":[\"#636efa\",\"#EF553B\",\"#00cc96\",\"#ab63fa\",\"#FFA15A\",\"#19d3f3\",\"#FF6692\",\"#B6E880\",\"#FF97FF\",\"#FECB52\"],\"font\":{\"color\":\"#2a3f5f\"},\"geo\":{\"bgcolor\":\"white\",\"lakecolor\":\"white\",\"landcolor\":\"#E5ECF6\",\"showlakes\":true,\"showland\":true,\"subunitcolor\":\"white\"},\"hoverlabel\":{\"align\":\"left\"},\"hovermode\":\"closest\",\"mapbox\":{\"style\":\"light\"},\"paper_bgcolor\":\"white\",\"plot_bgcolor\":\"#E5ECF6\",\"polar\":{\"angularaxis\":{\"gridcolor\":\"white\",\"linecolor\":\"white\",\"ticks\":\"\"},\"bgcolor\":\"#E5ECF6\",\"radialaxis\":{\"gridcolor\":\"white\",\"linecolor\":\"white\",\"ticks\":\"\"}},\"scene\":{\"xaxis\":{\"backgroundcolor\":\"#E5ECF6\",\"gridcolor\":\"white\",\"gridwidth\":2,\"linecolor\":\"white\",\"showbackground\":true,\"ticks\":\"\",\"zerolinecolor\":\"white\"},\"yaxis\":{\"backgroundcolor\":\"#E5ECF6\",\"gridcolor\":\"white\",\"gridwidth\":2,\"linecolor\":\"white\",\"showbackground\":true,\"ticks\":\"\",\"zerolinecolor\":\"white\"},\"zaxis\":{\"backgroundcolor\":\"#E5ECF6\",\"gridcolor\":\"white\",\"gridwidth\":2,\"linecolor\":\"white\",\"showbackground\":true,\"ticks\":\"\",\"zerolinecolor\":\"white\"}},\"shapedefaults\":{\"line\":{\"color\":\"#2a3f5f\"}},\"ternary\":{\"aaxis\":{\"gridcolor\":\"white\",\"linecolor\":\"white\",\"ticks\":\"\"},\"baxis\":{\"gridcolor\":\"white\",\"linecolor\":\"white\",\"ticks\":\"\"},\"bgcolor\":\"#E5ECF6\",\"caxis\":{\"gridcolor\":\"white\",\"linecolor\":\"white\",\"ticks\":\"\"}},\"title\":{\"x\":0.05},\"xaxis\":{\"automargin\":true,\"gridcolor\":\"white\",\"linecolor\":\"white\",\"ticks\":\"\",\"title\":{\"standoff\":15},\"zerolinecolor\":\"white\",\"zerolinewidth\":2},\"yaxis\":{\"automargin\":true,\"gridcolor\":\"white\",\"linecolor\":\"white\",\"ticks\":\"\",\"title\":{\"standoff\":15},\"zerolinecolor\":\"white\",\"zerolinewidth\":2}}},\"width\":1024},                        {\"responsive\": true}                    ).then(function(){\n",
       "                            \n",
       "var gd = document.getElementById('32bdc183-0cc1-4a58-93f8-683e7577663e');\n",
       "var x = new MutationObserver(function (mutations, observer) {{\n",
       "        var display = window.getComputedStyle(gd).display;\n",
       "        if (!display || display === 'none') {{\n",
       "            console.log([gd, 'removed!']);\n",
       "            Plotly.purge(gd);\n",
       "            observer.disconnect();\n",
       "        }}\n",
       "}});\n",
       "\n",
       "// Listen for the removal of the full notebook cells\n",
       "var notebookContainer = gd.closest('#notebook-container');\n",
       "if (notebookContainer) {{\n",
       "    x.observe(notebookContainer, {childList: true});\n",
       "}}\n",
       "\n",
       "// Listen for the clearing of the current output cell\n",
       "var outputEl = gd.closest('.output');\n",
       "if (outputEl) {{\n",
       "    x.observe(outputEl, {childList: true});\n",
       "}}\n",
       "\n",
       "                        })                };                });            </script>        </div>"
      ]
     },
     "metadata": {},
     "output_type": "display_data"
    }
   ],
   "source": [
    "fig = go.Figure()\n",
    "\n",
    "fig.add_traces(draw_cathode_planes(\n",
    "    geom_dict,\n",
    "    run_config_path,\n",
    "    showscale=False,\n",
    "    opacity=0.3,\n",
    "    colorscale='Greys',\n",
    "))\n",
    "\n",
    "fig.add_traces(draw_anode_planes(\n",
    "    geom_dict,\n",
    "    run_config_path,\n",
    "    showscale=False,\n",
    "    opacity=0.1,\n",
    "    colorscale='ice',\n",
    "))\n",
    "\n",
    "trace = go.Scatter3d(\n",
    "        x=x, y=y, z=z,\n",
    "        marker_color=dQ,\n",
    "        name='larpix packets',\n",
    "        mode='markers',\n",
    "        visible='legendonly',\n",
    "        marker_size=3,\n",
    "        marker_symbol='square',\n",
    "        showlegend=True,\n",
    "        opacity=1.\n",
    "        )\n",
    "\n",
    "tracks = plot_tracks(seg_ev, \n",
    "                     mode=\"lines\",\n",
    "                     name=\"edep segments\",\n",
    "                     visible='legendonly',\n",
    "                     showlegend=True\n",
    "                     )\n",
    "\n",
    "fig.update_layout(\n",
    "    width=1024, height=768,\n",
    "    legend_orientation=\"h\",\n",
    ")\n",
    "\n",
    "fig.add_traces(trace)\n",
    "fig.add_traces(tracks)\n",
    "fig.show()"
   ]
  },
  {
   "cell_type": "code",
   "execution_count": null,
   "id": "0e0ced88-e877-4c48-b192-87f34c03244b",
   "metadata": {},
   "outputs": [],
   "source": []
  }
 ],
 "metadata": {
  "kernelspec": {
   "display_name": "Python 3 (ipykernel)",
   "language": "python",
   "name": "python3"
  },
  "language_info": {
   "codemirror_mode": {
    "name": "ipython",
    "version": 3
   },
   "file_extension": ".py",
   "mimetype": "text/x-python",
   "name": "python",
   "nbconvert_exporter": "python",
   "pygments_lexer": "ipython3",
   "version": "3.8.10"
  }
 },
 "nbformat": 4,
 "nbformat_minor": 5
}
