{
 "cells": [
  {
   "cell_type": "code",
   "execution_count": 1,
   "id": "c0f96def-cd86-458e-aef2-f0510457a3dc",
   "metadata": {},
   "outputs": [],
   "source": [
    "from LarpixParser import event_parser as EvtParser\n",
    "from LarpixParser import hit_parser as HitParser\n",
    "from LarpixParser import util as util\n",
    "\n",
    "import h5py\n",
    "import numpy as np\n",
    "import plotly.graph_objects as go\n",
    "import yaml"
   ]
  },
  {
   "cell_type": "code",
   "execution_count": 2,
   "id": "d54ee463-6c96-49a1-9ce4-3dee9ed1f230",
   "metadata": {},
   "outputs": [],
   "source": [
    "switch_xz = False\n",
    "# module0, 2x2, ndlar\n",
    "detector = \"2x2\""
   ]
  },
  {
   "cell_type": "code",
   "execution_count": 3,
   "id": "3564fb51-3f16-4672-9263-47cc2899dabf",
   "metadata": {},
   "outputs": [],
   "source": [
    "def draw_cathode_planes(geom_dict, tpc_centers, **kwargs):\n",
    "    \n",
    "    pos = np.array(list(geom_dict.values())) / 10.\n",
    "    traces = []\n",
    "    for i_mod in range(len(tpc_centers)):\n",
    "        x = np.array([pos[:, 0].min() + tpc_centers[i_mod][2], pos[:, 0].max() + tpc_centers[i_mod][2]])\n",
    "        y = np.array([pos[:, 1].min() + tpc_centers[i_mod][1], pos[:, 1].max() + tpc_centers[i_mod][1]])\n",
    "        z = np.full((2,2),  tpc_centers[i_mod][0])\n",
    "        \n",
    "\n",
    "        traces.append(go.Surface(x=x, y=y, z=z, **kwargs))\n",
    "    \n",
    "    return traces"
   ]
  },
  {
   "cell_type": "code",
   "execution_count": 4,
   "id": "1541f7d4-22fb-4ef6-9d20-9571e770615d",
   "metadata": {},
   "outputs": [],
   "source": [
    "def draw_anode_planes(geom_dict, tpc_centers, **kwargs):\n",
    "    \n",
    "    pos = np.array(list(geom_dict.values())) / 10.\n",
    "    traces = []\n",
    "    \n",
    "    for i_mod in range(len(tpc_centers)):\n",
    "        x = np.array([pos[:, 0].min() + tpc_centers[i_mod][2], pos[:, 0].max() + tpc_centers[i_mod][2]])\n",
    "        y = np.array([pos[:, 1].min() + tpc_centers[i_mod][1], pos[:, 1].max() + tpc_centers[i_mod][1]])\n",
    "        z1 = np.full((2,2),  pos[:, 2].min() + tpc_centers[i_mod][0])\n",
    "        z2 = np.full((2,2),  pos[:, 2].max() + tpc_centers[i_mod][0])\n",
    "        \n",
    "\n",
    "        traces.append(go.Surface(x=x, y=y, z=z1, **kwargs))\n",
    "        traces.append(go.Surface(x=x, y=y, z=z2, **kwargs))\n",
    "    \n",
    "    return traces"
   ]
  },
  {
   "cell_type": "code",
   "execution_count": 5,
   "id": "c50fc86d-e1a7-4c2b-b544-f9849b69942c",
   "metadata": {},
   "outputs": [],
   "source": [
    "def plot_tracks(tracks, **kwargs):\n",
    "    \n",
    "    def to_list(axis):\n",
    "        return np.column_stack([\n",
    "            tracks[f'{axis}_start'],\n",
    "            tracks[f'{axis}_end'],\n",
    "            np.full(len(tracks), None)\n",
    "        ]).flatten().tolist()\n",
    "        \n",
    "    x, y, z = (to_list(axis) for axis in 'xyz')\n",
    "    trace = go.Scatter3d(x=z, y=y, z=x, **kwargs)\n",
    "    \n",
    "    return trace"
   ]
  },
  {
   "cell_type": "code",
   "execution_count": 6,
   "id": "6fa1c92a-322d-4b51-80a2-341edefacb70",
   "metadata": {},
   "outputs": [],
   "source": [
    "f = h5py.File('../example_data/MiniRun3_1E19_RHC.larnd.00000.LARNDSIM.h5', 'r')\n",
    "packets = f['packets'] # readout\n",
    "segs = f['tracks'] # Geant4 truth\n",
    "assn = f['mc_packets_assn'] # G4-readout association\n",
    "vtx = f['vertices']"
   ]
  },
  {
   "cell_type": "code",
   "execution_count": 7,
   "id": "b6c7705a-6831-4ce0-899b-c411d49c5d83",
   "metadata": {},
   "outputs": [],
   "source": [
    "'''\n",
    "    Loading LArPix geometry and run configuration\n",
    "    Option 1: Use the default, the installed package data\n",
    "              It's recommended, if you are not doing something unusual.\n",
    "'''\n",
    "\n",
    "run_config, geom_dict = util.detector_configuration(detector)"
   ]
  },
  {
   "cell_type": "code",
   "execution_count": 8,
   "id": "ef69b3ff-f414-4387-832e-9a78b494655c",
   "metadata": {},
   "outputs": [
    {
     "data": {
      "text/plain": [
       "'\\n    Loading LArPix geometry and run configuration\\n    Option 2: Point a pre-load LArPix geometry dictionary stored in a pickle file and a run configuration yaml file\\n'"
      ]
     },
     "execution_count": 8,
     "metadata": {},
     "output_type": "execute_result"
    }
   ],
   "source": [
    "'''\n",
    "    Loading LArPix geometry and run configuration\n",
    "    Option 2: Point a pre-load LArPix geometry dictionary stored in a pickle file and a run configuration yaml file\n",
    "'''\n",
    "# geom_dict = util.load_geom_dict(\"../src/LarpixParser/config_repo/dict_repo/multi_tile_layout-3.0.40.pkl\")\n",
    "\n",
    "# run_config_path = '../src/LarpixParser/config_repo/ndlar-module.yaml'\n",
    "# run_config = util.get_run_config(run_config_path)"
   ]
  },
  {
   "cell_type": "code",
   "execution_count": 9,
   "id": "c51594dc-1698-459b-b99d-606e3e34c6b1",
   "metadata": {},
   "outputs": [
    {
     "data": {
      "text/plain": [
       "'\\n    Loading LArPix geometry and run configuration\\n    Option 3: Build a LArPix geometry dictionary on the fly and load a run configuration yaml file\\n'"
      ]
     },
     "execution_count": 9,
     "metadata": {},
     "output_type": "execute_result"
    }
   ],
   "source": [
    "'''\n",
    "    Loading LArPix geometry and run configuration\n",
    "    Option 3: Build a LArPix geometry dictionary on the fly and load a run configuration yaml file\n",
    "'''\n",
    "# from LarpixParser import geom_to_dict as DictBuilder\n",
    "# geom_repo = '../src/LarpixParser/config_repo'\n",
    "# larpix_layout_name = 'multi_tile_layout-3.0.40'\n",
    "# geom_dict = DictBuilder.larpix_layout_to_dict(geom_repo, larpix_layout_name, save_dict=False)\n",
    "\n",
    "# run_config_path = '../src/LarpixParser/config_repo/ndlar-module.yaml'\n",
    "# run_config = util.get_run_config(run_config_path)"
   ]
  },
  {
   "cell_type": "code",
   "execution_count": 8,
   "id": "b6b0f918",
   "metadata": {},
   "outputs": [],
   "source": [
    "tpc_centers = run_config['tpc_offsets']\n",
    "ifspill = run_config['ifspill']"
   ]
  },
  {
   "cell_type": "code",
   "execution_count": 11,
   "id": "f70ccd8c-c6b2-4c7a-8505-a8f2fa5afe50",
   "metadata": {},
   "outputs": [],
   "source": [
    "pckt_event_ids = EvtParser.packet_to_eventid(assn, segs, ifspill)\n",
    "event_ids = np.unique(pckt_event_ids[pckt_event_ids != -1]) \n",
    "# t0_grp = EvtParser.get_t0(packets)\n",
    "t0_grp = EvtParser.get_t0_spill(vtx, run_config)"
   ]
  },
  {
   "cell_type": "code",
   "execution_count": 62,
   "id": "417abcd2-06b0-4a46-ba1e-f3a6841fda13",
   "metadata": {},
   "outputs": [],
   "source": [
    "i_ev = 100\n",
    "\n",
    "pckt_mask = pckt_event_ids == i_ev\n",
    "packets_ev = packets[pckt_mask]\n",
    "assn_ev = assn[pckt_mask]\n",
    "t0 = t0_grp[i_ev]\n",
    "\n",
    "if ifspill:\n",
    "    seg_ev = segs[segs['spillID'] == i_ev]\n",
    "else:\n",
    "    seg_ev = segs[segs['eventID'] == i_ev]\n",
    "x,y,z,dQ = HitParser.hit_parser_charge(t0, packets_ev, geom_dict, run_config, switch_xz)\n",
    "\n",
    "x = np.array(x) / 10.\n",
    "y = np.array(y) / 10.\n",
    "z = np.array(z) / 10.\n"
   ]
  },
  {
   "cell_type": "code",
   "execution_count": 48,
   "id": "7eeb7935-aeb3-491b-82aa-b27e21f914b1",
   "metadata": {
    "scrolled": false,
    "tags": []
   },
   "outputs": [
    {
     "data": {
      "application/vnd.plotly.v1+json": {
       "config": {
        "plotlyServerURL": "https://plot.ly"
       },
       "data": [
        {
         "colorscale": [
          [
           0,
           "rgb(255,255,255)"
          ],
          [
           0.125,
           "rgb(240,240,240)"
          ],
          [
           0.25,
           "rgb(217,217,217)"
          ],
          [
           0.375,
           "rgb(189,189,189)"
          ],
          [
           0.5,
           "rgb(150,150,150)"
          ],
          [
           0.625,
           "rgb(115,115,115)"
          ],
          [
           0.75,
           "rgb(82,82,82)"
          ],
          [
           0.875,
           "rgb(37,37,37)"
          ],
          [
           1,
           "rgb(0,0,0)"
          ]
         ],
         "opacity": 0.3,
         "showscale": false,
         "type": "surface",
         "x": [
          2.683699999999998,
          64.3163
         ],
         "y": [
          -19.854300000000002,
          103.8543
         ],
         "z": [
          [
           33.5,
           33.5
          ],
          [
           33.5,
           33.5
          ]
         ]
        },
        {
         "colorscale": [
          [
           0,
           "rgb(255,255,255)"
          ],
          [
           0.125,
           "rgb(240,240,240)"
          ],
          [
           0.25,
           "rgb(217,217,217)"
          ],
          [
           0.375,
           "rgb(189,189,189)"
          ],
          [
           0.5,
           "rgb(150,150,150)"
          ],
          [
           0.625,
           "rgb(115,115,115)"
          ],
          [
           0.75,
           "rgb(82,82,82)"
          ],
          [
           0.875,
           "rgb(37,37,37)"
          ],
          [
           1,
           "rgb(0,0,0)"
          ]
         ],
         "opacity": 0.3,
         "showscale": false,
         "type": "surface",
         "x": [
          -64.3163,
          -2.683699999999998
         ],
         "y": [
          -19.854300000000002,
          103.8543
         ],
         "z": [
          [
           33.5,
           33.5
          ],
          [
           33.5,
           33.5
          ]
         ]
        },
        {
         "colorscale": [
          [
           0,
           "rgb(255,255,255)"
          ],
          [
           0.125,
           "rgb(240,240,240)"
          ],
          [
           0.25,
           "rgb(217,217,217)"
          ],
          [
           0.375,
           "rgb(189,189,189)"
          ],
          [
           0.5,
           "rgb(150,150,150)"
          ],
          [
           0.625,
           "rgb(115,115,115)"
          ],
          [
           0.75,
           "rgb(82,82,82)"
          ],
          [
           0.875,
           "rgb(37,37,37)"
          ],
          [
           1,
           "rgb(0,0,0)"
          ]
         ],
         "opacity": 0.3,
         "showscale": false,
         "type": "surface",
         "x": [
          2.683699999999998,
          64.3163
         ],
         "y": [
          -19.854300000000002,
          103.8543
         ],
         "z": [
          [
           -33.5,
           -33.5
          ],
          [
           -33.5,
           -33.5
          ]
         ]
        },
        {
         "colorscale": [
          [
           0,
           "rgb(255,255,255)"
          ],
          [
           0.125,
           "rgb(240,240,240)"
          ],
          [
           0.25,
           "rgb(217,217,217)"
          ],
          [
           0.375,
           "rgb(189,189,189)"
          ],
          [
           0.5,
           "rgb(150,150,150)"
          ],
          [
           0.625,
           "rgb(115,115,115)"
          ],
          [
           0.75,
           "rgb(82,82,82)"
          ],
          [
           0.875,
           "rgb(37,37,37)"
          ],
          [
           1,
           "rgb(0,0,0)"
          ]
         ],
         "opacity": 0.3,
         "showscale": false,
         "type": "surface",
         "x": [
          -64.3163,
          -2.683699999999998
         ],
         "y": [
          -19.854300000000002,
          103.8543
         ],
         "z": [
          [
           -33.5,
           -33.5
          ],
          [
           -33.5,
           -33.5
          ]
         ]
        },
        {
         "colorscale": [
          [
           0,
           "rgb(255,255,255)"
          ],
          [
           0.125,
           "rgb(240,240,240)"
          ],
          [
           0.25,
           "rgb(217,217,217)"
          ],
          [
           0.375,
           "rgb(189,189,189)"
          ],
          [
           0.5,
           "rgb(150,150,150)"
          ],
          [
           0.625,
           "rgb(115,115,115)"
          ],
          [
           0.75,
           "rgb(82,82,82)"
          ],
          [
           0.875,
           "rgb(37,37,37)"
          ],
          [
           1,
           "rgb(0,0,0)"
          ]
         ],
         "opacity": 0.3,
         "showscale": false,
         "type": "surface",
         "x": [
          2.683699999999998,
          64.3163
         ],
         "y": [
          -19.854300000000002,
          103.8543
         ],
         "z": [
          [
           33.5,
           33.5
          ],
          [
           33.5,
           33.5
          ]
         ]
        },
        {
         "colorscale": [
          [
           0,
           "rgb(255,255,255)"
          ],
          [
           0.125,
           "rgb(240,240,240)"
          ],
          [
           0.25,
           "rgb(217,217,217)"
          ],
          [
           0.375,
           "rgb(189,189,189)"
          ],
          [
           0.5,
           "rgb(150,150,150)"
          ],
          [
           0.625,
           "rgb(115,115,115)"
          ],
          [
           0.75,
           "rgb(82,82,82)"
          ],
          [
           0.875,
           "rgb(37,37,37)"
          ],
          [
           1,
           "rgb(0,0,0)"
          ]
         ],
         "opacity": 0.3,
         "showscale": false,
         "type": "surface",
         "x": [
          -64.3163,
          -2.683699999999998
         ],
         "y": [
          -19.854300000000002,
          103.8543
         ],
         "z": [
          [
           33.5,
           33.5
          ],
          [
           33.5,
           33.5
          ]
         ]
        },
        {
         "colorscale": [
          [
           0,
           "rgb(255,255,255)"
          ],
          [
           0.125,
           "rgb(240,240,240)"
          ],
          [
           0.25,
           "rgb(217,217,217)"
          ],
          [
           0.375,
           "rgb(189,189,189)"
          ],
          [
           0.5,
           "rgb(150,150,150)"
          ],
          [
           0.625,
           "rgb(115,115,115)"
          ],
          [
           0.75,
           "rgb(82,82,82)"
          ],
          [
           0.875,
           "rgb(37,37,37)"
          ],
          [
           1,
           "rgb(0,0,0)"
          ]
         ],
         "opacity": 0.3,
         "showscale": false,
         "type": "surface",
         "x": [
          2.683699999999998,
          64.3163
         ],
         "y": [
          -19.854300000000002,
          103.8543
         ],
         "z": [
          [
           -33.5,
           -33.5
          ],
          [
           -33.5,
           -33.5
          ]
         ]
        },
        {
         "colorscale": [
          [
           0,
           "rgb(255,255,255)"
          ],
          [
           0.125,
           "rgb(240,240,240)"
          ],
          [
           0.25,
           "rgb(217,217,217)"
          ],
          [
           0.375,
           "rgb(189,189,189)"
          ],
          [
           0.5,
           "rgb(150,150,150)"
          ],
          [
           0.625,
           "rgb(115,115,115)"
          ],
          [
           0.75,
           "rgb(82,82,82)"
          ],
          [
           0.875,
           "rgb(37,37,37)"
          ],
          [
           1,
           "rgb(0,0,0)"
          ]
         ],
         "opacity": 0.3,
         "showscale": false,
         "type": "surface",
         "x": [
          -64.3163,
          -2.683699999999998
         ],
         "y": [
          -19.854300000000002,
          103.8543
         ],
         "z": [
          [
           -33.5,
           -33.5
          ],
          [
           -33.5,
           -33.5
          ]
         ]
        },
        {
         "colorscale": [
          [
           0,
           "rgb(255,255,255)"
          ],
          [
           0.125,
           "rgb(240,240,240)"
          ],
          [
           0.25,
           "rgb(217,217,217)"
          ],
          [
           0.375,
           "rgb(189,189,189)"
          ],
          [
           0.5,
           "rgb(150,150,150)"
          ],
          [
           0.625,
           "rgb(115,115,115)"
          ],
          [
           0.75,
           "rgb(82,82,82)"
          ],
          [
           0.875,
           "rgb(37,37,37)"
          ],
          [
           1,
           "rgb(0,0,0)"
          ]
         ],
         "opacity": 0.3,
         "showscale": false,
         "type": "surface",
         "x": [
          2.683699999999998,
          64.3163
         ],
         "y": [
          -19.854300000000002,
          103.8543
         ],
         "z": [
          [
           33.5,
           33.5
          ],
          [
           33.5,
           33.5
          ]
         ]
        },
        {
         "colorscale": [
          [
           0,
           "rgb(255,255,255)"
          ],
          [
           0.125,
           "rgb(240,240,240)"
          ],
          [
           0.25,
           "rgb(217,217,217)"
          ],
          [
           0.375,
           "rgb(189,189,189)"
          ],
          [
           0.5,
           "rgb(150,150,150)"
          ],
          [
           0.625,
           "rgb(115,115,115)"
          ],
          [
           0.75,
           "rgb(82,82,82)"
          ],
          [
           0.875,
           "rgb(37,37,37)"
          ],
          [
           1,
           "rgb(0,0,0)"
          ]
         ],
         "opacity": 0.3,
         "showscale": false,
         "type": "surface",
         "x": [
          -64.3163,
          -2.683699999999998
         ],
         "y": [
          -19.854300000000002,
          103.8543
         ],
         "z": [
          [
           33.5,
           33.5
          ],
          [
           33.5,
           33.5
          ]
         ]
        },
        {
         "colorscale": [
          [
           0,
           "rgb(255,255,255)"
          ],
          [
           0.125,
           "rgb(240,240,240)"
          ],
          [
           0.25,
           "rgb(217,217,217)"
          ],
          [
           0.375,
           "rgb(189,189,189)"
          ],
          [
           0.5,
           "rgb(150,150,150)"
          ],
          [
           0.625,
           "rgb(115,115,115)"
          ],
          [
           0.75,
           "rgb(82,82,82)"
          ],
          [
           0.875,
           "rgb(37,37,37)"
          ],
          [
           1,
           "rgb(0,0,0)"
          ]
         ],
         "opacity": 0.3,
         "showscale": false,
         "type": "surface",
         "x": [
          2.683699999999998,
          64.3163
         ],
         "y": [
          -19.854300000000002,
          103.8543
         ],
         "z": [
          [
           -33.5,
           -33.5
          ],
          [
           -33.5,
           -33.5
          ]
         ]
        },
        {
         "colorscale": [
          [
           0,
           "rgb(255,255,255)"
          ],
          [
           0.125,
           "rgb(240,240,240)"
          ],
          [
           0.25,
           "rgb(217,217,217)"
          ],
          [
           0.375,
           "rgb(189,189,189)"
          ],
          [
           0.5,
           "rgb(150,150,150)"
          ],
          [
           0.625,
           "rgb(115,115,115)"
          ],
          [
           0.75,
           "rgb(82,82,82)"
          ],
          [
           0.875,
           "rgb(37,37,37)"
          ],
          [
           1,
           "rgb(0,0,0)"
          ]
         ],
         "opacity": 0.3,
         "showscale": false,
         "type": "surface",
         "x": [
          -64.3163,
          -2.683699999999998
         ],
         "y": [
          -19.854300000000002,
          103.8543
         ],
         "z": [
          [
           -33.5,
           -33.5
          ],
          [
           -33.5,
           -33.5
          ]
         ]
        },
        {
         "colorscale": [
          [
           0,
           "rgb(255,255,255)"
          ],
          [
           0.125,
           "rgb(240,240,240)"
          ],
          [
           0.25,
           "rgb(217,217,217)"
          ],
          [
           0.375,
           "rgb(189,189,189)"
          ],
          [
           0.5,
           "rgb(150,150,150)"
          ],
          [
           0.625,
           "rgb(115,115,115)"
          ],
          [
           0.75,
           "rgb(82,82,82)"
          ],
          [
           0.875,
           "rgb(37,37,37)"
          ],
          [
           1,
           "rgb(0,0,0)"
          ]
         ],
         "opacity": 0.3,
         "showscale": false,
         "type": "surface",
         "x": [
          2.683699999999998,
          64.3163
         ],
         "y": [
          -19.854300000000002,
          103.8543
         ],
         "z": [
          [
           33.5,
           33.5
          ],
          [
           33.5,
           33.5
          ]
         ]
        },
        {
         "colorscale": [
          [
           0,
           "rgb(255,255,255)"
          ],
          [
           0.125,
           "rgb(240,240,240)"
          ],
          [
           0.25,
           "rgb(217,217,217)"
          ],
          [
           0.375,
           "rgb(189,189,189)"
          ],
          [
           0.5,
           "rgb(150,150,150)"
          ],
          [
           0.625,
           "rgb(115,115,115)"
          ],
          [
           0.75,
           "rgb(82,82,82)"
          ],
          [
           0.875,
           "rgb(37,37,37)"
          ],
          [
           1,
           "rgb(0,0,0)"
          ]
         ],
         "opacity": 0.3,
         "showscale": false,
         "type": "surface",
         "x": [
          -64.3163,
          -2.683699999999998
         ],
         "y": [
          -19.854300000000002,
          103.8543
         ],
         "z": [
          [
           33.5,
           33.5
          ],
          [
           33.5,
           33.5
          ]
         ]
        },
        {
         "colorscale": [
          [
           0,
           "rgb(255,255,255)"
          ],
          [
           0.125,
           "rgb(240,240,240)"
          ],
          [
           0.25,
           "rgb(217,217,217)"
          ],
          [
           0.375,
           "rgb(189,189,189)"
          ],
          [
           0.5,
           "rgb(150,150,150)"
          ],
          [
           0.625,
           "rgb(115,115,115)"
          ],
          [
           0.75,
           "rgb(82,82,82)"
          ],
          [
           0.875,
           "rgb(37,37,37)"
          ],
          [
           1,
           "rgb(0,0,0)"
          ]
         ],
         "opacity": 0.3,
         "showscale": false,
         "type": "surface",
         "x": [
          2.683699999999998,
          64.3163
         ],
         "y": [
          -19.854300000000002,
          103.8543
         ],
         "z": [
          [
           -33.5,
           -33.5
          ],
          [
           -33.5,
           -33.5
          ]
         ]
        },
        {
         "colorscale": [
          [
           0,
           "rgb(255,255,255)"
          ],
          [
           0.125,
           "rgb(240,240,240)"
          ],
          [
           0.25,
           "rgb(217,217,217)"
          ],
          [
           0.375,
           "rgb(189,189,189)"
          ],
          [
           0.5,
           "rgb(150,150,150)"
          ],
          [
           0.625,
           "rgb(115,115,115)"
          ],
          [
           0.75,
           "rgb(82,82,82)"
          ],
          [
           0.875,
           "rgb(37,37,37)"
          ],
          [
           1,
           "rgb(0,0,0)"
          ]
         ],
         "opacity": 0.3,
         "showscale": false,
         "type": "surface",
         "x": [
          -64.3163,
          -2.683699999999998
         ],
         "y": [
          -19.854300000000002,
          103.8543
         ],
         "z": [
          [
           -33.5,
           -33.5
          ],
          [
           -33.5,
           -33.5
          ]
         ]
        },
        {
         "colorscale": [
          [
           0,
           "rgb(255,255,255)"
          ],
          [
           0.125,
           "rgb(240,240,240)"
          ],
          [
           0.25,
           "rgb(217,217,217)"
          ],
          [
           0.375,
           "rgb(189,189,189)"
          ],
          [
           0.5,
           "rgb(150,150,150)"
          ],
          [
           0.625,
           "rgb(115,115,115)"
          ],
          [
           0.75,
           "rgb(82,82,82)"
          ],
          [
           0.875,
           "rgb(37,37,37)"
          ],
          [
           1,
           "rgb(0,0,0)"
          ]
         ],
         "opacity": 0.3,
         "showscale": false,
         "type": "surface",
         "x": [
          2.683699999999998,
          64.3163
         ],
         "y": [
          -19.854300000000002,
          103.8543
         ],
         "z": [
          [
           33.5,
           33.5
          ],
          [
           33.5,
           33.5
          ]
         ]
        },
        {
         "colorscale": [
          [
           0,
           "rgb(255,255,255)"
          ],
          [
           0.125,
           "rgb(240,240,240)"
          ],
          [
           0.25,
           "rgb(217,217,217)"
          ],
          [
           0.375,
           "rgb(189,189,189)"
          ],
          [
           0.5,
           "rgb(150,150,150)"
          ],
          [
           0.625,
           "rgb(115,115,115)"
          ],
          [
           0.75,
           "rgb(82,82,82)"
          ],
          [
           0.875,
           "rgb(37,37,37)"
          ],
          [
           1,
           "rgb(0,0,0)"
          ]
         ],
         "opacity": 0.3,
         "showscale": false,
         "type": "surface",
         "x": [
          -64.3163,
          -2.683699999999998
         ],
         "y": [
          -19.854300000000002,
          103.8543
         ],
         "z": [
          [
           33.5,
           33.5
          ],
          [
           33.5,
           33.5
          ]
         ]
        },
        {
         "colorscale": [
          [
           0,
           "rgb(255,255,255)"
          ],
          [
           0.125,
           "rgb(240,240,240)"
          ],
          [
           0.25,
           "rgb(217,217,217)"
          ],
          [
           0.375,
           "rgb(189,189,189)"
          ],
          [
           0.5,
           "rgb(150,150,150)"
          ],
          [
           0.625,
           "rgb(115,115,115)"
          ],
          [
           0.75,
           "rgb(82,82,82)"
          ],
          [
           0.875,
           "rgb(37,37,37)"
          ],
          [
           1,
           "rgb(0,0,0)"
          ]
         ],
         "opacity": 0.3,
         "showscale": false,
         "type": "surface",
         "x": [
          2.683699999999998,
          64.3163
         ],
         "y": [
          -19.854300000000002,
          103.8543
         ],
         "z": [
          [
           -33.5,
           -33.5
          ],
          [
           -33.5,
           -33.5
          ]
         ]
        },
        {
         "colorscale": [
          [
           0,
           "rgb(255,255,255)"
          ],
          [
           0.125,
           "rgb(240,240,240)"
          ],
          [
           0.25,
           "rgb(217,217,217)"
          ],
          [
           0.375,
           "rgb(189,189,189)"
          ],
          [
           0.5,
           "rgb(150,150,150)"
          ],
          [
           0.625,
           "rgb(115,115,115)"
          ],
          [
           0.75,
           "rgb(82,82,82)"
          ],
          [
           0.875,
           "rgb(37,37,37)"
          ],
          [
           1,
           "rgb(0,0,0)"
          ]
         ],
         "opacity": 0.3,
         "showscale": false,
         "type": "surface",
         "x": [
          -64.3163,
          -2.683699999999998
         ],
         "y": [
          -19.854300000000002,
          103.8543
         ],
         "z": [
          [
           -33.5,
           -33.5
          ],
          [
           -33.5,
           -33.5
          ]
         ]
        },
        {
         "colorscale": [
          [
           0,
           "rgb(255,255,255)"
          ],
          [
           0.125,
           "rgb(240,240,240)"
          ],
          [
           0.25,
           "rgb(217,217,217)"
          ],
          [
           0.375,
           "rgb(189,189,189)"
          ],
          [
           0.5,
           "rgb(150,150,150)"
          ],
          [
           0.625,
           "rgb(115,115,115)"
          ],
          [
           0.75,
           "rgb(82,82,82)"
          ],
          [
           0.875,
           "rgb(37,37,37)"
          ],
          [
           1,
           "rgb(0,0,0)"
          ]
         ],
         "opacity": 0.3,
         "showscale": false,
         "type": "surface",
         "x": [
          2.683699999999998,
          64.3163
         ],
         "y": [
          -19.854300000000002,
          103.8543
         ],
         "z": [
          [
           33.5,
           33.5
          ],
          [
           33.5,
           33.5
          ]
         ]
        },
        {
         "colorscale": [
          [
           0,
           "rgb(255,255,255)"
          ],
          [
           0.125,
           "rgb(240,240,240)"
          ],
          [
           0.25,
           "rgb(217,217,217)"
          ],
          [
           0.375,
           "rgb(189,189,189)"
          ],
          [
           0.5,
           "rgb(150,150,150)"
          ],
          [
           0.625,
           "rgb(115,115,115)"
          ],
          [
           0.75,
           "rgb(82,82,82)"
          ],
          [
           0.875,
           "rgb(37,37,37)"
          ],
          [
           1,
           "rgb(0,0,0)"
          ]
         ],
         "opacity": 0.3,
         "showscale": false,
         "type": "surface",
         "x": [
          -64.3163,
          -2.683699999999998
         ],
         "y": [
          -19.854300000000002,
          103.8543
         ],
         "z": [
          [
           33.5,
           33.5
          ],
          [
           33.5,
           33.5
          ]
         ]
        },
        {
         "colorscale": [
          [
           0,
           "rgb(255,255,255)"
          ],
          [
           0.125,
           "rgb(240,240,240)"
          ],
          [
           0.25,
           "rgb(217,217,217)"
          ],
          [
           0.375,
           "rgb(189,189,189)"
          ],
          [
           0.5,
           "rgb(150,150,150)"
          ],
          [
           0.625,
           "rgb(115,115,115)"
          ],
          [
           0.75,
           "rgb(82,82,82)"
          ],
          [
           0.875,
           "rgb(37,37,37)"
          ],
          [
           1,
           "rgb(0,0,0)"
          ]
         ],
         "opacity": 0.3,
         "showscale": false,
         "type": "surface",
         "x": [
          2.683699999999998,
          64.3163
         ],
         "y": [
          -19.854300000000002,
          103.8543
         ],
         "z": [
          [
           -33.5,
           -33.5
          ],
          [
           -33.5,
           -33.5
          ]
         ]
        },
        {
         "colorscale": [
          [
           0,
           "rgb(255,255,255)"
          ],
          [
           0.125,
           "rgb(240,240,240)"
          ],
          [
           0.25,
           "rgb(217,217,217)"
          ],
          [
           0.375,
           "rgb(189,189,189)"
          ],
          [
           0.5,
           "rgb(150,150,150)"
          ],
          [
           0.625,
           "rgb(115,115,115)"
          ],
          [
           0.75,
           "rgb(82,82,82)"
          ],
          [
           0.875,
           "rgb(37,37,37)"
          ],
          [
           1,
           "rgb(0,0,0)"
          ]
         ],
         "opacity": 0.3,
         "showscale": false,
         "type": "surface",
         "x": [
          -64.3163,
          -2.683699999999998
         ],
         "y": [
          -19.854300000000002,
          103.8543
         ],
         "z": [
          [
           -33.5,
           -33.5
          ],
          [
           -33.5,
           -33.5
          ]
         ]
        },
        {
         "colorscale": [
          [
           0,
           "rgb(255,255,255)"
          ],
          [
           0.125,
           "rgb(240,240,240)"
          ],
          [
           0.25,
           "rgb(217,217,217)"
          ],
          [
           0.375,
           "rgb(189,189,189)"
          ],
          [
           0.5,
           "rgb(150,150,150)"
          ],
          [
           0.625,
           "rgb(115,115,115)"
          ],
          [
           0.75,
           "rgb(82,82,82)"
          ],
          [
           0.875,
           "rgb(37,37,37)"
          ],
          [
           1,
           "rgb(0,0,0)"
          ]
         ],
         "opacity": 0.3,
         "showscale": false,
         "type": "surface",
         "x": [
          2.683699999999998,
          64.3163
         ],
         "y": [
          -19.854300000000002,
          103.8543
         ],
         "z": [
          [
           33.5,
           33.5
          ],
          [
           33.5,
           33.5
          ]
         ]
        },
        {
         "colorscale": [
          [
           0,
           "rgb(255,255,255)"
          ],
          [
           0.125,
           "rgb(240,240,240)"
          ],
          [
           0.25,
           "rgb(217,217,217)"
          ],
          [
           0.375,
           "rgb(189,189,189)"
          ],
          [
           0.5,
           "rgb(150,150,150)"
          ],
          [
           0.625,
           "rgb(115,115,115)"
          ],
          [
           0.75,
           "rgb(82,82,82)"
          ],
          [
           0.875,
           "rgb(37,37,37)"
          ],
          [
           1,
           "rgb(0,0,0)"
          ]
         ],
         "opacity": 0.3,
         "showscale": false,
         "type": "surface",
         "x": [
          -64.3163,
          -2.683699999999998
         ],
         "y": [
          -19.854300000000002,
          103.8543
         ],
         "z": [
          [
           33.5,
           33.5
          ],
          [
           33.5,
           33.5
          ]
         ]
        },
        {
         "colorscale": [
          [
           0,
           "rgb(255,255,255)"
          ],
          [
           0.125,
           "rgb(240,240,240)"
          ],
          [
           0.25,
           "rgb(217,217,217)"
          ],
          [
           0.375,
           "rgb(189,189,189)"
          ],
          [
           0.5,
           "rgb(150,150,150)"
          ],
          [
           0.625,
           "rgb(115,115,115)"
          ],
          [
           0.75,
           "rgb(82,82,82)"
          ],
          [
           0.875,
           "rgb(37,37,37)"
          ],
          [
           1,
           "rgb(0,0,0)"
          ]
         ],
         "opacity": 0.3,
         "showscale": false,
         "type": "surface",
         "x": [
          2.683699999999998,
          64.3163
         ],
         "y": [
          -19.854300000000002,
          103.8543
         ],
         "z": [
          [
           -33.5,
           -33.5
          ],
          [
           -33.5,
           -33.5
          ]
         ]
        },
        {
         "colorscale": [
          [
           0,
           "rgb(255,255,255)"
          ],
          [
           0.125,
           "rgb(240,240,240)"
          ],
          [
           0.25,
           "rgb(217,217,217)"
          ],
          [
           0.375,
           "rgb(189,189,189)"
          ],
          [
           0.5,
           "rgb(150,150,150)"
          ],
          [
           0.625,
           "rgb(115,115,115)"
          ],
          [
           0.75,
           "rgb(82,82,82)"
          ],
          [
           0.875,
           "rgb(37,37,37)"
          ],
          [
           1,
           "rgb(0,0,0)"
          ]
         ],
         "opacity": 0.3,
         "showscale": false,
         "type": "surface",
         "x": [
          -64.3163,
          -2.683699999999998
         ],
         "y": [
          -19.854300000000002,
          103.8543
         ],
         "z": [
          [
           -33.5,
           -33.5
          ],
          [
           -33.5,
           -33.5
          ]
         ]
        },
        {
         "colorscale": [
          [
           0,
           "rgb(255,255,255)"
          ],
          [
           0.125,
           "rgb(240,240,240)"
          ],
          [
           0.25,
           "rgb(217,217,217)"
          ],
          [
           0.375,
           "rgb(189,189,189)"
          ],
          [
           0.5,
           "rgb(150,150,150)"
          ],
          [
           0.625,
           "rgb(115,115,115)"
          ],
          [
           0.75,
           "rgb(82,82,82)"
          ],
          [
           0.875,
           "rgb(37,37,37)"
          ],
          [
           1,
           "rgb(0,0,0)"
          ]
         ],
         "opacity": 0.3,
         "showscale": false,
         "type": "surface",
         "x": [
          2.683699999999998,
          64.3163
         ],
         "y": [
          -19.854300000000002,
          103.8543
         ],
         "z": [
          [
           33.5,
           33.5
          ],
          [
           33.5,
           33.5
          ]
         ]
        },
        {
         "colorscale": [
          [
           0,
           "rgb(255,255,255)"
          ],
          [
           0.125,
           "rgb(240,240,240)"
          ],
          [
           0.25,
           "rgb(217,217,217)"
          ],
          [
           0.375,
           "rgb(189,189,189)"
          ],
          [
           0.5,
           "rgb(150,150,150)"
          ],
          [
           0.625,
           "rgb(115,115,115)"
          ],
          [
           0.75,
           "rgb(82,82,82)"
          ],
          [
           0.875,
           "rgb(37,37,37)"
          ],
          [
           1,
           "rgb(0,0,0)"
          ]
         ],
         "opacity": 0.3,
         "showscale": false,
         "type": "surface",
         "x": [
          -64.3163,
          -2.683699999999998
         ],
         "y": [
          -19.854300000000002,
          103.8543
         ],
         "z": [
          [
           33.5,
           33.5
          ],
          [
           33.5,
           33.5
          ]
         ]
        },
        {
         "colorscale": [
          [
           0,
           "rgb(255,255,255)"
          ],
          [
           0.125,
           "rgb(240,240,240)"
          ],
          [
           0.25,
           "rgb(217,217,217)"
          ],
          [
           0.375,
           "rgb(189,189,189)"
          ],
          [
           0.5,
           "rgb(150,150,150)"
          ],
          [
           0.625,
           "rgb(115,115,115)"
          ],
          [
           0.75,
           "rgb(82,82,82)"
          ],
          [
           0.875,
           "rgb(37,37,37)"
          ],
          [
           1,
           "rgb(0,0,0)"
          ]
         ],
         "opacity": 0.3,
         "showscale": false,
         "type": "surface",
         "x": [
          2.683699999999998,
          64.3163
         ],
         "y": [
          -19.854300000000002,
          103.8543
         ],
         "z": [
          [
           -33.5,
           -33.5
          ],
          [
           -33.5,
           -33.5
          ]
         ]
        },
        {
         "colorscale": [
          [
           0,
           "rgb(255,255,255)"
          ],
          [
           0.125,
           "rgb(240,240,240)"
          ],
          [
           0.25,
           "rgb(217,217,217)"
          ],
          [
           0.375,
           "rgb(189,189,189)"
          ],
          [
           0.5,
           "rgb(150,150,150)"
          ],
          [
           0.625,
           "rgb(115,115,115)"
          ],
          [
           0.75,
           "rgb(82,82,82)"
          ],
          [
           0.875,
           "rgb(37,37,37)"
          ],
          [
           1,
           "rgb(0,0,0)"
          ]
         ],
         "opacity": 0.3,
         "showscale": false,
         "type": "surface",
         "x": [
          -64.3163,
          -2.683699999999998
         ],
         "y": [
          -19.854300000000002,
          103.8543
         ],
         "z": [
          [
           -33.5,
           -33.5
          ],
          [
           -33.5,
           -33.5
          ]
         ]
        },
        {
         "colorscale": [
          [
           0,
           "rgb(255,255,255)"
          ],
          [
           0.125,
           "rgb(240,240,240)"
          ],
          [
           0.25,
           "rgb(217,217,217)"
          ],
          [
           0.375,
           "rgb(189,189,189)"
          ],
          [
           0.5,
           "rgb(150,150,150)"
          ],
          [
           0.625,
           "rgb(115,115,115)"
          ],
          [
           0.75,
           "rgb(82,82,82)"
          ],
          [
           0.875,
           "rgb(37,37,37)"
          ],
          [
           1,
           "rgb(0,0,0)"
          ]
         ],
         "opacity": 0.3,
         "showscale": false,
         "type": "surface",
         "x": [
          2.683699999999998,
          64.3163
         ],
         "y": [
          -19.854300000000002,
          103.8543
         ],
         "z": [
          [
           33.5,
           33.5
          ],
          [
           33.5,
           33.5
          ]
         ]
        },
        {
         "colorscale": [
          [
           0,
           "rgb(255,255,255)"
          ],
          [
           0.125,
           "rgb(240,240,240)"
          ],
          [
           0.25,
           "rgb(217,217,217)"
          ],
          [
           0.375,
           "rgb(189,189,189)"
          ],
          [
           0.5,
           "rgb(150,150,150)"
          ],
          [
           0.625,
           "rgb(115,115,115)"
          ],
          [
           0.75,
           "rgb(82,82,82)"
          ],
          [
           0.875,
           "rgb(37,37,37)"
          ],
          [
           1,
           "rgb(0,0,0)"
          ]
         ],
         "opacity": 0.3,
         "showscale": false,
         "type": "surface",
         "x": [
          -64.3163,
          -2.683699999999998
         ],
         "y": [
          -19.854300000000002,
          103.8543
         ],
         "z": [
          [
           33.5,
           33.5
          ],
          [
           33.5,
           33.5
          ]
         ]
        },
        {
         "colorscale": [
          [
           0,
           "rgb(255,255,255)"
          ],
          [
           0.125,
           "rgb(240,240,240)"
          ],
          [
           0.25,
           "rgb(217,217,217)"
          ],
          [
           0.375,
           "rgb(189,189,189)"
          ],
          [
           0.5,
           "rgb(150,150,150)"
          ],
          [
           0.625,
           "rgb(115,115,115)"
          ],
          [
           0.75,
           "rgb(82,82,82)"
          ],
          [
           0.875,
           "rgb(37,37,37)"
          ],
          [
           1,
           "rgb(0,0,0)"
          ]
         ],
         "opacity": 0.3,
         "showscale": false,
         "type": "surface",
         "x": [
          2.683699999999998,
          64.3163
         ],
         "y": [
          -19.854300000000002,
          103.8543
         ],
         "z": [
          [
           -33.5,
           -33.5
          ],
          [
           -33.5,
           -33.5
          ]
         ]
        },
        {
         "colorscale": [
          [
           0,
           "rgb(255,255,255)"
          ],
          [
           0.125,
           "rgb(240,240,240)"
          ],
          [
           0.25,
           "rgb(217,217,217)"
          ],
          [
           0.375,
           "rgb(189,189,189)"
          ],
          [
           0.5,
           "rgb(150,150,150)"
          ],
          [
           0.625,
           "rgb(115,115,115)"
          ],
          [
           0.75,
           "rgb(82,82,82)"
          ],
          [
           0.875,
           "rgb(37,37,37)"
          ],
          [
           1,
           "rgb(0,0,0)"
          ]
         ],
         "opacity": 0.3,
         "showscale": false,
         "type": "surface",
         "x": [
          -64.3163,
          -2.683699999999998
         ],
         "y": [
          -19.854300000000002,
          103.8543
         ],
         "z": [
          [
           -33.5,
           -33.5
          ],
          [
           -33.5,
           -33.5
          ]
         ]
        },
        {
         "colorscale": [
          [
           0,
           "rgb(255,255,255)"
          ],
          [
           0.125,
           "rgb(240,240,240)"
          ],
          [
           0.25,
           "rgb(217,217,217)"
          ],
          [
           0.375,
           "rgb(189,189,189)"
          ],
          [
           0.5,
           "rgb(150,150,150)"
          ],
          [
           0.625,
           "rgb(115,115,115)"
          ],
          [
           0.75,
           "rgb(82,82,82)"
          ],
          [
           0.875,
           "rgb(37,37,37)"
          ],
          [
           1,
           "rgb(0,0,0)"
          ]
         ],
         "opacity": 0.3,
         "showscale": false,
         "type": "surface",
         "x": [
          2.683699999999998,
          64.3163
         ],
         "y": [
          -19.854300000000002,
          103.8543
         ],
         "z": [
          [
           33.5,
           33.5
          ],
          [
           33.5,
           33.5
          ]
         ]
        },
        {
         "colorscale": [
          [
           0,
           "rgb(255,255,255)"
          ],
          [
           0.125,
           "rgb(240,240,240)"
          ],
          [
           0.25,
           "rgb(217,217,217)"
          ],
          [
           0.375,
           "rgb(189,189,189)"
          ],
          [
           0.5,
           "rgb(150,150,150)"
          ],
          [
           0.625,
           "rgb(115,115,115)"
          ],
          [
           0.75,
           "rgb(82,82,82)"
          ],
          [
           0.875,
           "rgb(37,37,37)"
          ],
          [
           1,
           "rgb(0,0,0)"
          ]
         ],
         "opacity": 0.3,
         "showscale": false,
         "type": "surface",
         "x": [
          -64.3163,
          -2.683699999999998
         ],
         "y": [
          -19.854300000000002,
          103.8543
         ],
         "z": [
          [
           33.5,
           33.5
          ],
          [
           33.5,
           33.5
          ]
         ]
        },
        {
         "colorscale": [
          [
           0,
           "rgb(255,255,255)"
          ],
          [
           0.125,
           "rgb(240,240,240)"
          ],
          [
           0.25,
           "rgb(217,217,217)"
          ],
          [
           0.375,
           "rgb(189,189,189)"
          ],
          [
           0.5,
           "rgb(150,150,150)"
          ],
          [
           0.625,
           "rgb(115,115,115)"
          ],
          [
           0.75,
           "rgb(82,82,82)"
          ],
          [
           0.875,
           "rgb(37,37,37)"
          ],
          [
           1,
           "rgb(0,0,0)"
          ]
         ],
         "opacity": 0.3,
         "showscale": false,
         "type": "surface",
         "x": [
          2.683699999999998,
          64.3163
         ],
         "y": [
          -19.854300000000002,
          103.8543
         ],
         "z": [
          [
           -33.5,
           -33.5
          ],
          [
           -33.5,
           -33.5
          ]
         ]
        },
        {
         "colorscale": [
          [
           0,
           "rgb(255,255,255)"
          ],
          [
           0.125,
           "rgb(240,240,240)"
          ],
          [
           0.25,
           "rgb(217,217,217)"
          ],
          [
           0.375,
           "rgb(189,189,189)"
          ],
          [
           0.5,
           "rgb(150,150,150)"
          ],
          [
           0.625,
           "rgb(115,115,115)"
          ],
          [
           0.75,
           "rgb(82,82,82)"
          ],
          [
           0.875,
           "rgb(37,37,37)"
          ],
          [
           1,
           "rgb(0,0,0)"
          ]
         ],
         "opacity": 0.3,
         "showscale": false,
         "type": "surface",
         "x": [
          -64.3163,
          -2.683699999999998
         ],
         "y": [
          -19.854300000000002,
          103.8543
         ],
         "z": [
          [
           -33.5,
           -33.5
          ],
          [
           -33.5,
           -33.5
          ]
         ]
        },
        {
         "colorscale": [
          [
           0,
           "rgb(3, 5, 18)"
          ],
          [
           0.09090909090909091,
           "rgb(25, 25, 51)"
          ],
          [
           0.18181818181818182,
           "rgb(44, 42, 87)"
          ],
          [
           0.2727272727272727,
           "rgb(58, 60, 125)"
          ],
          [
           0.36363636363636365,
           "rgb(62, 83, 160)"
          ],
          [
           0.45454545454545453,
           "rgb(62, 109, 178)"
          ],
          [
           0.5454545454545454,
           "rgb(72, 134, 187)"
          ],
          [
           0.6363636363636364,
           "rgb(89, 159, 196)"
          ],
          [
           0.7272727272727273,
           "rgb(114, 184, 205)"
          ],
          [
           0.8181818181818182,
           "rgb(149, 207, 216)"
          ],
          [
           0.9090909090909091,
           "rgb(192, 229, 232)"
          ],
          [
           1,
           "rgb(234, 252, 253)"
          ]
         ],
         "opacity": 0.1,
         "showscale": false,
         "type": "surface",
         "x": [
          2.683699999999998,
          64.3163
         ],
         "y": [
          -19.854300000000002,
          103.8543
         ],
         "z": [
          [
           3.068999999999999,
           3.068999999999999
          ],
          [
           3.068999999999999,
           3.068999999999999
          ]
         ]
        },
        {
         "colorscale": [
          [
           0,
           "rgb(3, 5, 18)"
          ],
          [
           0.09090909090909091,
           "rgb(25, 25, 51)"
          ],
          [
           0.18181818181818182,
           "rgb(44, 42, 87)"
          ],
          [
           0.2727272727272727,
           "rgb(58, 60, 125)"
          ],
          [
           0.36363636363636365,
           "rgb(62, 83, 160)"
          ],
          [
           0.45454545454545453,
           "rgb(62, 109, 178)"
          ],
          [
           0.5454545454545454,
           "rgb(72, 134, 187)"
          ],
          [
           0.6363636363636364,
           "rgb(89, 159, 196)"
          ],
          [
           0.7272727272727273,
           "rgb(114, 184, 205)"
          ],
          [
           0.8181818181818182,
           "rgb(149, 207, 216)"
          ],
          [
           0.9090909090909091,
           "rgb(192, 229, 232)"
          ],
          [
           1,
           "rgb(234, 252, 253)"
          ]
         ],
         "opacity": 0.1,
         "showscale": false,
         "type": "surface",
         "x": [
          2.683699999999998,
          64.3163
         ],
         "y": [
          -19.854300000000002,
          103.8543
         ],
         "z": [
          [
           63.931,
           63.931
          ],
          [
           63.931,
           63.931
          ]
         ]
        },
        {
         "colorscale": [
          [
           0,
           "rgb(3, 5, 18)"
          ],
          [
           0.09090909090909091,
           "rgb(25, 25, 51)"
          ],
          [
           0.18181818181818182,
           "rgb(44, 42, 87)"
          ],
          [
           0.2727272727272727,
           "rgb(58, 60, 125)"
          ],
          [
           0.36363636363636365,
           "rgb(62, 83, 160)"
          ],
          [
           0.45454545454545453,
           "rgb(62, 109, 178)"
          ],
          [
           0.5454545454545454,
           "rgb(72, 134, 187)"
          ],
          [
           0.6363636363636364,
           "rgb(89, 159, 196)"
          ],
          [
           0.7272727272727273,
           "rgb(114, 184, 205)"
          ],
          [
           0.8181818181818182,
           "rgb(149, 207, 216)"
          ],
          [
           0.9090909090909091,
           "rgb(192, 229, 232)"
          ],
          [
           1,
           "rgb(234, 252, 253)"
          ]
         ],
         "opacity": 0.1,
         "showscale": false,
         "type": "surface",
         "x": [
          -64.3163,
          -2.683699999999998
         ],
         "y": [
          -19.854300000000002,
          103.8543
         ],
         "z": [
          [
           3.068999999999999,
           3.068999999999999
          ],
          [
           3.068999999999999,
           3.068999999999999
          ]
         ]
        },
        {
         "colorscale": [
          [
           0,
           "rgb(3, 5, 18)"
          ],
          [
           0.09090909090909091,
           "rgb(25, 25, 51)"
          ],
          [
           0.18181818181818182,
           "rgb(44, 42, 87)"
          ],
          [
           0.2727272727272727,
           "rgb(58, 60, 125)"
          ],
          [
           0.36363636363636365,
           "rgb(62, 83, 160)"
          ],
          [
           0.45454545454545453,
           "rgb(62, 109, 178)"
          ],
          [
           0.5454545454545454,
           "rgb(72, 134, 187)"
          ],
          [
           0.6363636363636364,
           "rgb(89, 159, 196)"
          ],
          [
           0.7272727272727273,
           "rgb(114, 184, 205)"
          ],
          [
           0.8181818181818182,
           "rgb(149, 207, 216)"
          ],
          [
           0.9090909090909091,
           "rgb(192, 229, 232)"
          ],
          [
           1,
           "rgb(234, 252, 253)"
          ]
         ],
         "opacity": 0.1,
         "showscale": false,
         "type": "surface",
         "x": [
          -64.3163,
          -2.683699999999998
         ],
         "y": [
          -19.854300000000002,
          103.8543
         ],
         "z": [
          [
           63.931,
           63.931
          ],
          [
           63.931,
           63.931
          ]
         ]
        },
        {
         "colorscale": [
          [
           0,
           "rgb(3, 5, 18)"
          ],
          [
           0.09090909090909091,
           "rgb(25, 25, 51)"
          ],
          [
           0.18181818181818182,
           "rgb(44, 42, 87)"
          ],
          [
           0.2727272727272727,
           "rgb(58, 60, 125)"
          ],
          [
           0.36363636363636365,
           "rgb(62, 83, 160)"
          ],
          [
           0.45454545454545453,
           "rgb(62, 109, 178)"
          ],
          [
           0.5454545454545454,
           "rgb(72, 134, 187)"
          ],
          [
           0.6363636363636364,
           "rgb(89, 159, 196)"
          ],
          [
           0.7272727272727273,
           "rgb(114, 184, 205)"
          ],
          [
           0.8181818181818182,
           "rgb(149, 207, 216)"
          ],
          [
           0.9090909090909091,
           "rgb(192, 229, 232)"
          ],
          [
           1,
           "rgb(234, 252, 253)"
          ]
         ],
         "opacity": 0.1,
         "showscale": false,
         "type": "surface",
         "x": [
          2.683699999999998,
          64.3163
         ],
         "y": [
          -19.854300000000002,
          103.8543
         ],
         "z": [
          [
           -63.931,
           -63.931
          ],
          [
           -63.931,
           -63.931
          ]
         ]
        },
        {
         "colorscale": [
          [
           0,
           "rgb(3, 5, 18)"
          ],
          [
           0.09090909090909091,
           "rgb(25, 25, 51)"
          ],
          [
           0.18181818181818182,
           "rgb(44, 42, 87)"
          ],
          [
           0.2727272727272727,
           "rgb(58, 60, 125)"
          ],
          [
           0.36363636363636365,
           "rgb(62, 83, 160)"
          ],
          [
           0.45454545454545453,
           "rgb(62, 109, 178)"
          ],
          [
           0.5454545454545454,
           "rgb(72, 134, 187)"
          ],
          [
           0.6363636363636364,
           "rgb(89, 159, 196)"
          ],
          [
           0.7272727272727273,
           "rgb(114, 184, 205)"
          ],
          [
           0.8181818181818182,
           "rgb(149, 207, 216)"
          ],
          [
           0.9090909090909091,
           "rgb(192, 229, 232)"
          ],
          [
           1,
           "rgb(234, 252, 253)"
          ]
         ],
         "opacity": 0.1,
         "showscale": false,
         "type": "surface",
         "x": [
          2.683699999999998,
          64.3163
         ],
         "y": [
          -19.854300000000002,
          103.8543
         ],
         "z": [
          [
           -3.068999999999999,
           -3.068999999999999
          ],
          [
           -3.068999999999999,
           -3.068999999999999
          ]
         ]
        },
        {
         "colorscale": [
          [
           0,
           "rgb(3, 5, 18)"
          ],
          [
           0.09090909090909091,
           "rgb(25, 25, 51)"
          ],
          [
           0.18181818181818182,
           "rgb(44, 42, 87)"
          ],
          [
           0.2727272727272727,
           "rgb(58, 60, 125)"
          ],
          [
           0.36363636363636365,
           "rgb(62, 83, 160)"
          ],
          [
           0.45454545454545453,
           "rgb(62, 109, 178)"
          ],
          [
           0.5454545454545454,
           "rgb(72, 134, 187)"
          ],
          [
           0.6363636363636364,
           "rgb(89, 159, 196)"
          ],
          [
           0.7272727272727273,
           "rgb(114, 184, 205)"
          ],
          [
           0.8181818181818182,
           "rgb(149, 207, 216)"
          ],
          [
           0.9090909090909091,
           "rgb(192, 229, 232)"
          ],
          [
           1,
           "rgb(234, 252, 253)"
          ]
         ],
         "opacity": 0.1,
         "showscale": false,
         "type": "surface",
         "x": [
          -64.3163,
          -2.683699999999998
         ],
         "y": [
          -19.854300000000002,
          103.8543
         ],
         "z": [
          [
           -63.931,
           -63.931
          ],
          [
           -63.931,
           -63.931
          ]
         ]
        },
        {
         "colorscale": [
          [
           0,
           "rgb(3, 5, 18)"
          ],
          [
           0.09090909090909091,
           "rgb(25, 25, 51)"
          ],
          [
           0.18181818181818182,
           "rgb(44, 42, 87)"
          ],
          [
           0.2727272727272727,
           "rgb(58, 60, 125)"
          ],
          [
           0.36363636363636365,
           "rgb(62, 83, 160)"
          ],
          [
           0.45454545454545453,
           "rgb(62, 109, 178)"
          ],
          [
           0.5454545454545454,
           "rgb(72, 134, 187)"
          ],
          [
           0.6363636363636364,
           "rgb(89, 159, 196)"
          ],
          [
           0.7272727272727273,
           "rgb(114, 184, 205)"
          ],
          [
           0.8181818181818182,
           "rgb(149, 207, 216)"
          ],
          [
           0.9090909090909091,
           "rgb(192, 229, 232)"
          ],
          [
           1,
           "rgb(234, 252, 253)"
          ]
         ],
         "opacity": 0.1,
         "showscale": false,
         "type": "surface",
         "x": [
          -64.3163,
          -2.683699999999998
         ],
         "y": [
          -19.854300000000002,
          103.8543
         ],
         "z": [
          [
           -3.068999999999999,
           -3.068999999999999
          ],
          [
           -3.068999999999999,
           -3.068999999999999
          ]
         ]
        },
        {
         "colorscale": [
          [
           0,
           "rgb(3, 5, 18)"
          ],
          [
           0.09090909090909091,
           "rgb(25, 25, 51)"
          ],
          [
           0.18181818181818182,
           "rgb(44, 42, 87)"
          ],
          [
           0.2727272727272727,
           "rgb(58, 60, 125)"
          ],
          [
           0.36363636363636365,
           "rgb(62, 83, 160)"
          ],
          [
           0.45454545454545453,
           "rgb(62, 109, 178)"
          ],
          [
           0.5454545454545454,
           "rgb(72, 134, 187)"
          ],
          [
           0.6363636363636364,
           "rgb(89, 159, 196)"
          ],
          [
           0.7272727272727273,
           "rgb(114, 184, 205)"
          ],
          [
           0.8181818181818182,
           "rgb(149, 207, 216)"
          ],
          [
           0.9090909090909091,
           "rgb(192, 229, 232)"
          ],
          [
           1,
           "rgb(234, 252, 253)"
          ]
         ],
         "opacity": 0.1,
         "showscale": false,
         "type": "surface",
         "x": [
          2.683699999999998,
          64.3163
         ],
         "y": [
          -19.854300000000002,
          103.8543
         ],
         "z": [
          [
           3.068999999999999,
           3.068999999999999
          ],
          [
           3.068999999999999,
           3.068999999999999
          ]
         ]
        },
        {
         "colorscale": [
          [
           0,
           "rgb(3, 5, 18)"
          ],
          [
           0.09090909090909091,
           "rgb(25, 25, 51)"
          ],
          [
           0.18181818181818182,
           "rgb(44, 42, 87)"
          ],
          [
           0.2727272727272727,
           "rgb(58, 60, 125)"
          ],
          [
           0.36363636363636365,
           "rgb(62, 83, 160)"
          ],
          [
           0.45454545454545453,
           "rgb(62, 109, 178)"
          ],
          [
           0.5454545454545454,
           "rgb(72, 134, 187)"
          ],
          [
           0.6363636363636364,
           "rgb(89, 159, 196)"
          ],
          [
           0.7272727272727273,
           "rgb(114, 184, 205)"
          ],
          [
           0.8181818181818182,
           "rgb(149, 207, 216)"
          ],
          [
           0.9090909090909091,
           "rgb(192, 229, 232)"
          ],
          [
           1,
           "rgb(234, 252, 253)"
          ]
         ],
         "opacity": 0.1,
         "showscale": false,
         "type": "surface",
         "x": [
          2.683699999999998,
          64.3163
         ],
         "y": [
          -19.854300000000002,
          103.8543
         ],
         "z": [
          [
           63.931,
           63.931
          ],
          [
           63.931,
           63.931
          ]
         ]
        },
        {
         "colorscale": [
          [
           0,
           "rgb(3, 5, 18)"
          ],
          [
           0.09090909090909091,
           "rgb(25, 25, 51)"
          ],
          [
           0.18181818181818182,
           "rgb(44, 42, 87)"
          ],
          [
           0.2727272727272727,
           "rgb(58, 60, 125)"
          ],
          [
           0.36363636363636365,
           "rgb(62, 83, 160)"
          ],
          [
           0.45454545454545453,
           "rgb(62, 109, 178)"
          ],
          [
           0.5454545454545454,
           "rgb(72, 134, 187)"
          ],
          [
           0.6363636363636364,
           "rgb(89, 159, 196)"
          ],
          [
           0.7272727272727273,
           "rgb(114, 184, 205)"
          ],
          [
           0.8181818181818182,
           "rgb(149, 207, 216)"
          ],
          [
           0.9090909090909091,
           "rgb(192, 229, 232)"
          ],
          [
           1,
           "rgb(234, 252, 253)"
          ]
         ],
         "opacity": 0.1,
         "showscale": false,
         "type": "surface",
         "x": [
          -64.3163,
          -2.683699999999998
         ],
         "y": [
          -19.854300000000002,
          103.8543
         ],
         "z": [
          [
           3.068999999999999,
           3.068999999999999
          ],
          [
           3.068999999999999,
           3.068999999999999
          ]
         ]
        },
        {
         "colorscale": [
          [
           0,
           "rgb(3, 5, 18)"
          ],
          [
           0.09090909090909091,
           "rgb(25, 25, 51)"
          ],
          [
           0.18181818181818182,
           "rgb(44, 42, 87)"
          ],
          [
           0.2727272727272727,
           "rgb(58, 60, 125)"
          ],
          [
           0.36363636363636365,
           "rgb(62, 83, 160)"
          ],
          [
           0.45454545454545453,
           "rgb(62, 109, 178)"
          ],
          [
           0.5454545454545454,
           "rgb(72, 134, 187)"
          ],
          [
           0.6363636363636364,
           "rgb(89, 159, 196)"
          ],
          [
           0.7272727272727273,
           "rgb(114, 184, 205)"
          ],
          [
           0.8181818181818182,
           "rgb(149, 207, 216)"
          ],
          [
           0.9090909090909091,
           "rgb(192, 229, 232)"
          ],
          [
           1,
           "rgb(234, 252, 253)"
          ]
         ],
         "opacity": 0.1,
         "showscale": false,
         "type": "surface",
         "x": [
          -64.3163,
          -2.683699999999998
         ],
         "y": [
          -19.854300000000002,
          103.8543
         ],
         "z": [
          [
           63.931,
           63.931
          ],
          [
           63.931,
           63.931
          ]
         ]
        },
        {
         "colorscale": [
          [
           0,
           "rgb(3, 5, 18)"
          ],
          [
           0.09090909090909091,
           "rgb(25, 25, 51)"
          ],
          [
           0.18181818181818182,
           "rgb(44, 42, 87)"
          ],
          [
           0.2727272727272727,
           "rgb(58, 60, 125)"
          ],
          [
           0.36363636363636365,
           "rgb(62, 83, 160)"
          ],
          [
           0.45454545454545453,
           "rgb(62, 109, 178)"
          ],
          [
           0.5454545454545454,
           "rgb(72, 134, 187)"
          ],
          [
           0.6363636363636364,
           "rgb(89, 159, 196)"
          ],
          [
           0.7272727272727273,
           "rgb(114, 184, 205)"
          ],
          [
           0.8181818181818182,
           "rgb(149, 207, 216)"
          ],
          [
           0.9090909090909091,
           "rgb(192, 229, 232)"
          ],
          [
           1,
           "rgb(234, 252, 253)"
          ]
         ],
         "opacity": 0.1,
         "showscale": false,
         "type": "surface",
         "x": [
          2.683699999999998,
          64.3163
         ],
         "y": [
          -19.854300000000002,
          103.8543
         ],
         "z": [
          [
           -63.931,
           -63.931
          ],
          [
           -63.931,
           -63.931
          ]
         ]
        },
        {
         "colorscale": [
          [
           0,
           "rgb(3, 5, 18)"
          ],
          [
           0.09090909090909091,
           "rgb(25, 25, 51)"
          ],
          [
           0.18181818181818182,
           "rgb(44, 42, 87)"
          ],
          [
           0.2727272727272727,
           "rgb(58, 60, 125)"
          ],
          [
           0.36363636363636365,
           "rgb(62, 83, 160)"
          ],
          [
           0.45454545454545453,
           "rgb(62, 109, 178)"
          ],
          [
           0.5454545454545454,
           "rgb(72, 134, 187)"
          ],
          [
           0.6363636363636364,
           "rgb(89, 159, 196)"
          ],
          [
           0.7272727272727273,
           "rgb(114, 184, 205)"
          ],
          [
           0.8181818181818182,
           "rgb(149, 207, 216)"
          ],
          [
           0.9090909090909091,
           "rgb(192, 229, 232)"
          ],
          [
           1,
           "rgb(234, 252, 253)"
          ]
         ],
         "opacity": 0.1,
         "showscale": false,
         "type": "surface",
         "x": [
          2.683699999999998,
          64.3163
         ],
         "y": [
          -19.854300000000002,
          103.8543
         ],
         "z": [
          [
           -3.068999999999999,
           -3.068999999999999
          ],
          [
           -3.068999999999999,
           -3.068999999999999
          ]
         ]
        },
        {
         "colorscale": [
          [
           0,
           "rgb(3, 5, 18)"
          ],
          [
           0.09090909090909091,
           "rgb(25, 25, 51)"
          ],
          [
           0.18181818181818182,
           "rgb(44, 42, 87)"
          ],
          [
           0.2727272727272727,
           "rgb(58, 60, 125)"
          ],
          [
           0.36363636363636365,
           "rgb(62, 83, 160)"
          ],
          [
           0.45454545454545453,
           "rgb(62, 109, 178)"
          ],
          [
           0.5454545454545454,
           "rgb(72, 134, 187)"
          ],
          [
           0.6363636363636364,
           "rgb(89, 159, 196)"
          ],
          [
           0.7272727272727273,
           "rgb(114, 184, 205)"
          ],
          [
           0.8181818181818182,
           "rgb(149, 207, 216)"
          ],
          [
           0.9090909090909091,
           "rgb(192, 229, 232)"
          ],
          [
           1,
           "rgb(234, 252, 253)"
          ]
         ],
         "opacity": 0.1,
         "showscale": false,
         "type": "surface",
         "x": [
          -64.3163,
          -2.683699999999998
         ],
         "y": [
          -19.854300000000002,
          103.8543
         ],
         "z": [
          [
           -63.931,
           -63.931
          ],
          [
           -63.931,
           -63.931
          ]
         ]
        },
        {
         "colorscale": [
          [
           0,
           "rgb(3, 5, 18)"
          ],
          [
           0.09090909090909091,
           "rgb(25, 25, 51)"
          ],
          [
           0.18181818181818182,
           "rgb(44, 42, 87)"
          ],
          [
           0.2727272727272727,
           "rgb(58, 60, 125)"
          ],
          [
           0.36363636363636365,
           "rgb(62, 83, 160)"
          ],
          [
           0.45454545454545453,
           "rgb(62, 109, 178)"
          ],
          [
           0.5454545454545454,
           "rgb(72, 134, 187)"
          ],
          [
           0.6363636363636364,
           "rgb(89, 159, 196)"
          ],
          [
           0.7272727272727273,
           "rgb(114, 184, 205)"
          ],
          [
           0.8181818181818182,
           "rgb(149, 207, 216)"
          ],
          [
           0.9090909090909091,
           "rgb(192, 229, 232)"
          ],
          [
           1,
           "rgb(234, 252, 253)"
          ]
         ],
         "opacity": 0.1,
         "showscale": false,
         "type": "surface",
         "x": [
          -64.3163,
          -2.683699999999998
         ],
         "y": [
          -19.854300000000002,
          103.8543
         ],
         "z": [
          [
           -3.068999999999999,
           -3.068999999999999
          ],
          [
           -3.068999999999999,
           -3.068999999999999
          ]
         ]
        },
        {
         "colorscale": [
          [
           0,
           "rgb(3, 5, 18)"
          ],
          [
           0.09090909090909091,
           "rgb(25, 25, 51)"
          ],
          [
           0.18181818181818182,
           "rgb(44, 42, 87)"
          ],
          [
           0.2727272727272727,
           "rgb(58, 60, 125)"
          ],
          [
           0.36363636363636365,
           "rgb(62, 83, 160)"
          ],
          [
           0.45454545454545453,
           "rgb(62, 109, 178)"
          ],
          [
           0.5454545454545454,
           "rgb(72, 134, 187)"
          ],
          [
           0.6363636363636364,
           "rgb(89, 159, 196)"
          ],
          [
           0.7272727272727273,
           "rgb(114, 184, 205)"
          ],
          [
           0.8181818181818182,
           "rgb(149, 207, 216)"
          ],
          [
           0.9090909090909091,
           "rgb(192, 229, 232)"
          ],
          [
           1,
           "rgb(234, 252, 253)"
          ]
         ],
         "opacity": 0.1,
         "showscale": false,
         "type": "surface",
         "x": [
          2.683699999999998,
          64.3163
         ],
         "y": [
          -19.854300000000002,
          103.8543
         ],
         "z": [
          [
           3.068999999999999,
           3.068999999999999
          ],
          [
           3.068999999999999,
           3.068999999999999
          ]
         ]
        },
        {
         "colorscale": [
          [
           0,
           "rgb(3, 5, 18)"
          ],
          [
           0.09090909090909091,
           "rgb(25, 25, 51)"
          ],
          [
           0.18181818181818182,
           "rgb(44, 42, 87)"
          ],
          [
           0.2727272727272727,
           "rgb(58, 60, 125)"
          ],
          [
           0.36363636363636365,
           "rgb(62, 83, 160)"
          ],
          [
           0.45454545454545453,
           "rgb(62, 109, 178)"
          ],
          [
           0.5454545454545454,
           "rgb(72, 134, 187)"
          ],
          [
           0.6363636363636364,
           "rgb(89, 159, 196)"
          ],
          [
           0.7272727272727273,
           "rgb(114, 184, 205)"
          ],
          [
           0.8181818181818182,
           "rgb(149, 207, 216)"
          ],
          [
           0.9090909090909091,
           "rgb(192, 229, 232)"
          ],
          [
           1,
           "rgb(234, 252, 253)"
          ]
         ],
         "opacity": 0.1,
         "showscale": false,
         "type": "surface",
         "x": [
          2.683699999999998,
          64.3163
         ],
         "y": [
          -19.854300000000002,
          103.8543
         ],
         "z": [
          [
           63.931,
           63.931
          ],
          [
           63.931,
           63.931
          ]
         ]
        },
        {
         "colorscale": [
          [
           0,
           "rgb(3, 5, 18)"
          ],
          [
           0.09090909090909091,
           "rgb(25, 25, 51)"
          ],
          [
           0.18181818181818182,
           "rgb(44, 42, 87)"
          ],
          [
           0.2727272727272727,
           "rgb(58, 60, 125)"
          ],
          [
           0.36363636363636365,
           "rgb(62, 83, 160)"
          ],
          [
           0.45454545454545453,
           "rgb(62, 109, 178)"
          ],
          [
           0.5454545454545454,
           "rgb(72, 134, 187)"
          ],
          [
           0.6363636363636364,
           "rgb(89, 159, 196)"
          ],
          [
           0.7272727272727273,
           "rgb(114, 184, 205)"
          ],
          [
           0.8181818181818182,
           "rgb(149, 207, 216)"
          ],
          [
           0.9090909090909091,
           "rgb(192, 229, 232)"
          ],
          [
           1,
           "rgb(234, 252, 253)"
          ]
         ],
         "opacity": 0.1,
         "showscale": false,
         "type": "surface",
         "x": [
          -64.3163,
          -2.683699999999998
         ],
         "y": [
          -19.854300000000002,
          103.8543
         ],
         "z": [
          [
           3.068999999999999,
           3.068999999999999
          ],
          [
           3.068999999999999,
           3.068999999999999
          ]
         ]
        },
        {
         "colorscale": [
          [
           0,
           "rgb(3, 5, 18)"
          ],
          [
           0.09090909090909091,
           "rgb(25, 25, 51)"
          ],
          [
           0.18181818181818182,
           "rgb(44, 42, 87)"
          ],
          [
           0.2727272727272727,
           "rgb(58, 60, 125)"
          ],
          [
           0.36363636363636365,
           "rgb(62, 83, 160)"
          ],
          [
           0.45454545454545453,
           "rgb(62, 109, 178)"
          ],
          [
           0.5454545454545454,
           "rgb(72, 134, 187)"
          ],
          [
           0.6363636363636364,
           "rgb(89, 159, 196)"
          ],
          [
           0.7272727272727273,
           "rgb(114, 184, 205)"
          ],
          [
           0.8181818181818182,
           "rgb(149, 207, 216)"
          ],
          [
           0.9090909090909091,
           "rgb(192, 229, 232)"
          ],
          [
           1,
           "rgb(234, 252, 253)"
          ]
         ],
         "opacity": 0.1,
         "showscale": false,
         "type": "surface",
         "x": [
          -64.3163,
          -2.683699999999998
         ],
         "y": [
          -19.854300000000002,
          103.8543
         ],
         "z": [
          [
           63.931,
           63.931
          ],
          [
           63.931,
           63.931
          ]
         ]
        },
        {
         "colorscale": [
          [
           0,
           "rgb(3, 5, 18)"
          ],
          [
           0.09090909090909091,
           "rgb(25, 25, 51)"
          ],
          [
           0.18181818181818182,
           "rgb(44, 42, 87)"
          ],
          [
           0.2727272727272727,
           "rgb(58, 60, 125)"
          ],
          [
           0.36363636363636365,
           "rgb(62, 83, 160)"
          ],
          [
           0.45454545454545453,
           "rgb(62, 109, 178)"
          ],
          [
           0.5454545454545454,
           "rgb(72, 134, 187)"
          ],
          [
           0.6363636363636364,
           "rgb(89, 159, 196)"
          ],
          [
           0.7272727272727273,
           "rgb(114, 184, 205)"
          ],
          [
           0.8181818181818182,
           "rgb(149, 207, 216)"
          ],
          [
           0.9090909090909091,
           "rgb(192, 229, 232)"
          ],
          [
           1,
           "rgb(234, 252, 253)"
          ]
         ],
         "opacity": 0.1,
         "showscale": false,
         "type": "surface",
         "x": [
          2.683699999999998,
          64.3163
         ],
         "y": [
          -19.854300000000002,
          103.8543
         ],
         "z": [
          [
           -63.931,
           -63.931
          ],
          [
           -63.931,
           -63.931
          ]
         ]
        },
        {
         "colorscale": [
          [
           0,
           "rgb(3, 5, 18)"
          ],
          [
           0.09090909090909091,
           "rgb(25, 25, 51)"
          ],
          [
           0.18181818181818182,
           "rgb(44, 42, 87)"
          ],
          [
           0.2727272727272727,
           "rgb(58, 60, 125)"
          ],
          [
           0.36363636363636365,
           "rgb(62, 83, 160)"
          ],
          [
           0.45454545454545453,
           "rgb(62, 109, 178)"
          ],
          [
           0.5454545454545454,
           "rgb(72, 134, 187)"
          ],
          [
           0.6363636363636364,
           "rgb(89, 159, 196)"
          ],
          [
           0.7272727272727273,
           "rgb(114, 184, 205)"
          ],
          [
           0.8181818181818182,
           "rgb(149, 207, 216)"
          ],
          [
           0.9090909090909091,
           "rgb(192, 229, 232)"
          ],
          [
           1,
           "rgb(234, 252, 253)"
          ]
         ],
         "opacity": 0.1,
         "showscale": false,
         "type": "surface",
         "x": [
          2.683699999999998,
          64.3163
         ],
         "y": [
          -19.854300000000002,
          103.8543
         ],
         "z": [
          [
           -3.068999999999999,
           -3.068999999999999
          ],
          [
           -3.068999999999999,
           -3.068999999999999
          ]
         ]
        },
        {
         "colorscale": [
          [
           0,
           "rgb(3, 5, 18)"
          ],
          [
           0.09090909090909091,
           "rgb(25, 25, 51)"
          ],
          [
           0.18181818181818182,
           "rgb(44, 42, 87)"
          ],
          [
           0.2727272727272727,
           "rgb(58, 60, 125)"
          ],
          [
           0.36363636363636365,
           "rgb(62, 83, 160)"
          ],
          [
           0.45454545454545453,
           "rgb(62, 109, 178)"
          ],
          [
           0.5454545454545454,
           "rgb(72, 134, 187)"
          ],
          [
           0.6363636363636364,
           "rgb(89, 159, 196)"
          ],
          [
           0.7272727272727273,
           "rgb(114, 184, 205)"
          ],
          [
           0.8181818181818182,
           "rgb(149, 207, 216)"
          ],
          [
           0.9090909090909091,
           "rgb(192, 229, 232)"
          ],
          [
           1,
           "rgb(234, 252, 253)"
          ]
         ],
         "opacity": 0.1,
         "showscale": false,
         "type": "surface",
         "x": [
          -64.3163,
          -2.683699999999998
         ],
         "y": [
          -19.854300000000002,
          103.8543
         ],
         "z": [
          [
           -63.931,
           -63.931
          ],
          [
           -63.931,
           -63.931
          ]
         ]
        },
        {
         "colorscale": [
          [
           0,
           "rgb(3, 5, 18)"
          ],
          [
           0.09090909090909091,
           "rgb(25, 25, 51)"
          ],
          [
           0.18181818181818182,
           "rgb(44, 42, 87)"
          ],
          [
           0.2727272727272727,
           "rgb(58, 60, 125)"
          ],
          [
           0.36363636363636365,
           "rgb(62, 83, 160)"
          ],
          [
           0.45454545454545453,
           "rgb(62, 109, 178)"
          ],
          [
           0.5454545454545454,
           "rgb(72, 134, 187)"
          ],
          [
           0.6363636363636364,
           "rgb(89, 159, 196)"
          ],
          [
           0.7272727272727273,
           "rgb(114, 184, 205)"
          ],
          [
           0.8181818181818182,
           "rgb(149, 207, 216)"
          ],
          [
           0.9090909090909091,
           "rgb(192, 229, 232)"
          ],
          [
           1,
           "rgb(234, 252, 253)"
          ]
         ],
         "opacity": 0.1,
         "showscale": false,
         "type": "surface",
         "x": [
          -64.3163,
          -2.683699999999998
         ],
         "y": [
          -19.854300000000002,
          103.8543
         ],
         "z": [
          [
           -3.068999999999999,
           -3.068999999999999
          ],
          [
           -3.068999999999999,
           -3.068999999999999
          ]
         ]
        },
        {
         "colorscale": [
          [
           0,
           "rgb(3, 5, 18)"
          ],
          [
           0.09090909090909091,
           "rgb(25, 25, 51)"
          ],
          [
           0.18181818181818182,
           "rgb(44, 42, 87)"
          ],
          [
           0.2727272727272727,
           "rgb(58, 60, 125)"
          ],
          [
           0.36363636363636365,
           "rgb(62, 83, 160)"
          ],
          [
           0.45454545454545453,
           "rgb(62, 109, 178)"
          ],
          [
           0.5454545454545454,
           "rgb(72, 134, 187)"
          ],
          [
           0.6363636363636364,
           "rgb(89, 159, 196)"
          ],
          [
           0.7272727272727273,
           "rgb(114, 184, 205)"
          ],
          [
           0.8181818181818182,
           "rgb(149, 207, 216)"
          ],
          [
           0.9090909090909091,
           "rgb(192, 229, 232)"
          ],
          [
           1,
           "rgb(234, 252, 253)"
          ]
         ],
         "opacity": 0.1,
         "showscale": false,
         "type": "surface",
         "x": [
          2.683699999999998,
          64.3163
         ],
         "y": [
          -19.854300000000002,
          103.8543
         ],
         "z": [
          [
           3.068999999999999,
           3.068999999999999
          ],
          [
           3.068999999999999,
           3.068999999999999
          ]
         ]
        },
        {
         "colorscale": [
          [
           0,
           "rgb(3, 5, 18)"
          ],
          [
           0.09090909090909091,
           "rgb(25, 25, 51)"
          ],
          [
           0.18181818181818182,
           "rgb(44, 42, 87)"
          ],
          [
           0.2727272727272727,
           "rgb(58, 60, 125)"
          ],
          [
           0.36363636363636365,
           "rgb(62, 83, 160)"
          ],
          [
           0.45454545454545453,
           "rgb(62, 109, 178)"
          ],
          [
           0.5454545454545454,
           "rgb(72, 134, 187)"
          ],
          [
           0.6363636363636364,
           "rgb(89, 159, 196)"
          ],
          [
           0.7272727272727273,
           "rgb(114, 184, 205)"
          ],
          [
           0.8181818181818182,
           "rgb(149, 207, 216)"
          ],
          [
           0.9090909090909091,
           "rgb(192, 229, 232)"
          ],
          [
           1,
           "rgb(234, 252, 253)"
          ]
         ],
         "opacity": 0.1,
         "showscale": false,
         "type": "surface",
         "x": [
          2.683699999999998,
          64.3163
         ],
         "y": [
          -19.854300000000002,
          103.8543
         ],
         "z": [
          [
           63.931,
           63.931
          ],
          [
           63.931,
           63.931
          ]
         ]
        },
        {
         "colorscale": [
          [
           0,
           "rgb(3, 5, 18)"
          ],
          [
           0.09090909090909091,
           "rgb(25, 25, 51)"
          ],
          [
           0.18181818181818182,
           "rgb(44, 42, 87)"
          ],
          [
           0.2727272727272727,
           "rgb(58, 60, 125)"
          ],
          [
           0.36363636363636365,
           "rgb(62, 83, 160)"
          ],
          [
           0.45454545454545453,
           "rgb(62, 109, 178)"
          ],
          [
           0.5454545454545454,
           "rgb(72, 134, 187)"
          ],
          [
           0.6363636363636364,
           "rgb(89, 159, 196)"
          ],
          [
           0.7272727272727273,
           "rgb(114, 184, 205)"
          ],
          [
           0.8181818181818182,
           "rgb(149, 207, 216)"
          ],
          [
           0.9090909090909091,
           "rgb(192, 229, 232)"
          ],
          [
           1,
           "rgb(234, 252, 253)"
          ]
         ],
         "opacity": 0.1,
         "showscale": false,
         "type": "surface",
         "x": [
          -64.3163,
          -2.683699999999998
         ],
         "y": [
          -19.854300000000002,
          103.8543
         ],
         "z": [
          [
           3.068999999999999,
           3.068999999999999
          ],
          [
           3.068999999999999,
           3.068999999999999
          ]
         ]
        },
        {
         "colorscale": [
          [
           0,
           "rgb(3, 5, 18)"
          ],
          [
           0.09090909090909091,
           "rgb(25, 25, 51)"
          ],
          [
           0.18181818181818182,
           "rgb(44, 42, 87)"
          ],
          [
           0.2727272727272727,
           "rgb(58, 60, 125)"
          ],
          [
           0.36363636363636365,
           "rgb(62, 83, 160)"
          ],
          [
           0.45454545454545453,
           "rgb(62, 109, 178)"
          ],
          [
           0.5454545454545454,
           "rgb(72, 134, 187)"
          ],
          [
           0.6363636363636364,
           "rgb(89, 159, 196)"
          ],
          [
           0.7272727272727273,
           "rgb(114, 184, 205)"
          ],
          [
           0.8181818181818182,
           "rgb(149, 207, 216)"
          ],
          [
           0.9090909090909091,
           "rgb(192, 229, 232)"
          ],
          [
           1,
           "rgb(234, 252, 253)"
          ]
         ],
         "opacity": 0.1,
         "showscale": false,
         "type": "surface",
         "x": [
          -64.3163,
          -2.683699999999998
         ],
         "y": [
          -19.854300000000002,
          103.8543
         ],
         "z": [
          [
           63.931,
           63.931
          ],
          [
           63.931,
           63.931
          ]
         ]
        },
        {
         "colorscale": [
          [
           0,
           "rgb(3, 5, 18)"
          ],
          [
           0.09090909090909091,
           "rgb(25, 25, 51)"
          ],
          [
           0.18181818181818182,
           "rgb(44, 42, 87)"
          ],
          [
           0.2727272727272727,
           "rgb(58, 60, 125)"
          ],
          [
           0.36363636363636365,
           "rgb(62, 83, 160)"
          ],
          [
           0.45454545454545453,
           "rgb(62, 109, 178)"
          ],
          [
           0.5454545454545454,
           "rgb(72, 134, 187)"
          ],
          [
           0.6363636363636364,
           "rgb(89, 159, 196)"
          ],
          [
           0.7272727272727273,
           "rgb(114, 184, 205)"
          ],
          [
           0.8181818181818182,
           "rgb(149, 207, 216)"
          ],
          [
           0.9090909090909091,
           "rgb(192, 229, 232)"
          ],
          [
           1,
           "rgb(234, 252, 253)"
          ]
         ],
         "opacity": 0.1,
         "showscale": false,
         "type": "surface",
         "x": [
          2.683699999999998,
          64.3163
         ],
         "y": [
          -19.854300000000002,
          103.8543
         ],
         "z": [
          [
           -63.931,
           -63.931
          ],
          [
           -63.931,
           -63.931
          ]
         ]
        },
        {
         "colorscale": [
          [
           0,
           "rgb(3, 5, 18)"
          ],
          [
           0.09090909090909091,
           "rgb(25, 25, 51)"
          ],
          [
           0.18181818181818182,
           "rgb(44, 42, 87)"
          ],
          [
           0.2727272727272727,
           "rgb(58, 60, 125)"
          ],
          [
           0.36363636363636365,
           "rgb(62, 83, 160)"
          ],
          [
           0.45454545454545453,
           "rgb(62, 109, 178)"
          ],
          [
           0.5454545454545454,
           "rgb(72, 134, 187)"
          ],
          [
           0.6363636363636364,
           "rgb(89, 159, 196)"
          ],
          [
           0.7272727272727273,
           "rgb(114, 184, 205)"
          ],
          [
           0.8181818181818182,
           "rgb(149, 207, 216)"
          ],
          [
           0.9090909090909091,
           "rgb(192, 229, 232)"
          ],
          [
           1,
           "rgb(234, 252, 253)"
          ]
         ],
         "opacity": 0.1,
         "showscale": false,
         "type": "surface",
         "x": [
          2.683699999999998,
          64.3163
         ],
         "y": [
          -19.854300000000002,
          103.8543
         ],
         "z": [
          [
           -3.068999999999999,
           -3.068999999999999
          ],
          [
           -3.068999999999999,
           -3.068999999999999
          ]
         ]
        },
        {
         "colorscale": [
          [
           0,
           "rgb(3, 5, 18)"
          ],
          [
           0.09090909090909091,
           "rgb(25, 25, 51)"
          ],
          [
           0.18181818181818182,
           "rgb(44, 42, 87)"
          ],
          [
           0.2727272727272727,
           "rgb(58, 60, 125)"
          ],
          [
           0.36363636363636365,
           "rgb(62, 83, 160)"
          ],
          [
           0.45454545454545453,
           "rgb(62, 109, 178)"
          ],
          [
           0.5454545454545454,
           "rgb(72, 134, 187)"
          ],
          [
           0.6363636363636364,
           "rgb(89, 159, 196)"
          ],
          [
           0.7272727272727273,
           "rgb(114, 184, 205)"
          ],
          [
           0.8181818181818182,
           "rgb(149, 207, 216)"
          ],
          [
           0.9090909090909091,
           "rgb(192, 229, 232)"
          ],
          [
           1,
           "rgb(234, 252, 253)"
          ]
         ],
         "opacity": 0.1,
         "showscale": false,
         "type": "surface",
         "x": [
          -64.3163,
          -2.683699999999998
         ],
         "y": [
          -19.854300000000002,
          103.8543
         ],
         "z": [
          [
           -63.931,
           -63.931
          ],
          [
           -63.931,
           -63.931
          ]
         ]
        },
        {
         "colorscale": [
          [
           0,
           "rgb(3, 5, 18)"
          ],
          [
           0.09090909090909091,
           "rgb(25, 25, 51)"
          ],
          [
           0.18181818181818182,
           "rgb(44, 42, 87)"
          ],
          [
           0.2727272727272727,
           "rgb(58, 60, 125)"
          ],
          [
           0.36363636363636365,
           "rgb(62, 83, 160)"
          ],
          [
           0.45454545454545453,
           "rgb(62, 109, 178)"
          ],
          [
           0.5454545454545454,
           "rgb(72, 134, 187)"
          ],
          [
           0.6363636363636364,
           "rgb(89, 159, 196)"
          ],
          [
           0.7272727272727273,
           "rgb(114, 184, 205)"
          ],
          [
           0.8181818181818182,
           "rgb(149, 207, 216)"
          ],
          [
           0.9090909090909091,
           "rgb(192, 229, 232)"
          ],
          [
           1,
           "rgb(234, 252, 253)"
          ]
         ],
         "opacity": 0.1,
         "showscale": false,
         "type": "surface",
         "x": [
          -64.3163,
          -2.683699999999998
         ],
         "y": [
          -19.854300000000002,
          103.8543
         ],
         "z": [
          [
           -3.068999999999999,
           -3.068999999999999
          ],
          [
           -3.068999999999999,
           -3.068999999999999
          ]
         ]
        },
        {
         "colorscale": [
          [
           0,
           "rgb(3, 5, 18)"
          ],
          [
           0.09090909090909091,
           "rgb(25, 25, 51)"
          ],
          [
           0.18181818181818182,
           "rgb(44, 42, 87)"
          ],
          [
           0.2727272727272727,
           "rgb(58, 60, 125)"
          ],
          [
           0.36363636363636365,
           "rgb(62, 83, 160)"
          ],
          [
           0.45454545454545453,
           "rgb(62, 109, 178)"
          ],
          [
           0.5454545454545454,
           "rgb(72, 134, 187)"
          ],
          [
           0.6363636363636364,
           "rgb(89, 159, 196)"
          ],
          [
           0.7272727272727273,
           "rgb(114, 184, 205)"
          ],
          [
           0.8181818181818182,
           "rgb(149, 207, 216)"
          ],
          [
           0.9090909090909091,
           "rgb(192, 229, 232)"
          ],
          [
           1,
           "rgb(234, 252, 253)"
          ]
         ],
         "opacity": 0.1,
         "showscale": false,
         "type": "surface",
         "x": [
          2.683699999999998,
          64.3163
         ],
         "y": [
          -19.854300000000002,
          103.8543
         ],
         "z": [
          [
           3.068999999999999,
           3.068999999999999
          ],
          [
           3.068999999999999,
           3.068999999999999
          ]
         ]
        },
        {
         "colorscale": [
          [
           0,
           "rgb(3, 5, 18)"
          ],
          [
           0.09090909090909091,
           "rgb(25, 25, 51)"
          ],
          [
           0.18181818181818182,
           "rgb(44, 42, 87)"
          ],
          [
           0.2727272727272727,
           "rgb(58, 60, 125)"
          ],
          [
           0.36363636363636365,
           "rgb(62, 83, 160)"
          ],
          [
           0.45454545454545453,
           "rgb(62, 109, 178)"
          ],
          [
           0.5454545454545454,
           "rgb(72, 134, 187)"
          ],
          [
           0.6363636363636364,
           "rgb(89, 159, 196)"
          ],
          [
           0.7272727272727273,
           "rgb(114, 184, 205)"
          ],
          [
           0.8181818181818182,
           "rgb(149, 207, 216)"
          ],
          [
           0.9090909090909091,
           "rgb(192, 229, 232)"
          ],
          [
           1,
           "rgb(234, 252, 253)"
          ]
         ],
         "opacity": 0.1,
         "showscale": false,
         "type": "surface",
         "x": [
          2.683699999999998,
          64.3163
         ],
         "y": [
          -19.854300000000002,
          103.8543
         ],
         "z": [
          [
           63.931,
           63.931
          ],
          [
           63.931,
           63.931
          ]
         ]
        },
        {
         "colorscale": [
          [
           0,
           "rgb(3, 5, 18)"
          ],
          [
           0.09090909090909091,
           "rgb(25, 25, 51)"
          ],
          [
           0.18181818181818182,
           "rgb(44, 42, 87)"
          ],
          [
           0.2727272727272727,
           "rgb(58, 60, 125)"
          ],
          [
           0.36363636363636365,
           "rgb(62, 83, 160)"
          ],
          [
           0.45454545454545453,
           "rgb(62, 109, 178)"
          ],
          [
           0.5454545454545454,
           "rgb(72, 134, 187)"
          ],
          [
           0.6363636363636364,
           "rgb(89, 159, 196)"
          ],
          [
           0.7272727272727273,
           "rgb(114, 184, 205)"
          ],
          [
           0.8181818181818182,
           "rgb(149, 207, 216)"
          ],
          [
           0.9090909090909091,
           "rgb(192, 229, 232)"
          ],
          [
           1,
           "rgb(234, 252, 253)"
          ]
         ],
         "opacity": 0.1,
         "showscale": false,
         "type": "surface",
         "x": [
          -64.3163,
          -2.683699999999998
         ],
         "y": [
          -19.854300000000002,
          103.8543
         ],
         "z": [
          [
           3.068999999999999,
           3.068999999999999
          ],
          [
           3.068999999999999,
           3.068999999999999
          ]
         ]
        },
        {
         "colorscale": [
          [
           0,
           "rgb(3, 5, 18)"
          ],
          [
           0.09090909090909091,
           "rgb(25, 25, 51)"
          ],
          [
           0.18181818181818182,
           "rgb(44, 42, 87)"
          ],
          [
           0.2727272727272727,
           "rgb(58, 60, 125)"
          ],
          [
           0.36363636363636365,
           "rgb(62, 83, 160)"
          ],
          [
           0.45454545454545453,
           "rgb(62, 109, 178)"
          ],
          [
           0.5454545454545454,
           "rgb(72, 134, 187)"
          ],
          [
           0.6363636363636364,
           "rgb(89, 159, 196)"
          ],
          [
           0.7272727272727273,
           "rgb(114, 184, 205)"
          ],
          [
           0.8181818181818182,
           "rgb(149, 207, 216)"
          ],
          [
           0.9090909090909091,
           "rgb(192, 229, 232)"
          ],
          [
           1,
           "rgb(234, 252, 253)"
          ]
         ],
         "opacity": 0.1,
         "showscale": false,
         "type": "surface",
         "x": [
          -64.3163,
          -2.683699999999998
         ],
         "y": [
          -19.854300000000002,
          103.8543
         ],
         "z": [
          [
           63.931,
           63.931
          ],
          [
           63.931,
           63.931
          ]
         ]
        },
        {
         "colorscale": [
          [
           0,
           "rgb(3, 5, 18)"
          ],
          [
           0.09090909090909091,
           "rgb(25, 25, 51)"
          ],
          [
           0.18181818181818182,
           "rgb(44, 42, 87)"
          ],
          [
           0.2727272727272727,
           "rgb(58, 60, 125)"
          ],
          [
           0.36363636363636365,
           "rgb(62, 83, 160)"
          ],
          [
           0.45454545454545453,
           "rgb(62, 109, 178)"
          ],
          [
           0.5454545454545454,
           "rgb(72, 134, 187)"
          ],
          [
           0.6363636363636364,
           "rgb(89, 159, 196)"
          ],
          [
           0.7272727272727273,
           "rgb(114, 184, 205)"
          ],
          [
           0.8181818181818182,
           "rgb(149, 207, 216)"
          ],
          [
           0.9090909090909091,
           "rgb(192, 229, 232)"
          ],
          [
           1,
           "rgb(234, 252, 253)"
          ]
         ],
         "opacity": 0.1,
         "showscale": false,
         "type": "surface",
         "x": [
          2.683699999999998,
          64.3163
         ],
         "y": [
          -19.854300000000002,
          103.8543
         ],
         "z": [
          [
           -63.931,
           -63.931
          ],
          [
           -63.931,
           -63.931
          ]
         ]
        },
        {
         "colorscale": [
          [
           0,
           "rgb(3, 5, 18)"
          ],
          [
           0.09090909090909091,
           "rgb(25, 25, 51)"
          ],
          [
           0.18181818181818182,
           "rgb(44, 42, 87)"
          ],
          [
           0.2727272727272727,
           "rgb(58, 60, 125)"
          ],
          [
           0.36363636363636365,
           "rgb(62, 83, 160)"
          ],
          [
           0.45454545454545453,
           "rgb(62, 109, 178)"
          ],
          [
           0.5454545454545454,
           "rgb(72, 134, 187)"
          ],
          [
           0.6363636363636364,
           "rgb(89, 159, 196)"
          ],
          [
           0.7272727272727273,
           "rgb(114, 184, 205)"
          ],
          [
           0.8181818181818182,
           "rgb(149, 207, 216)"
          ],
          [
           0.9090909090909091,
           "rgb(192, 229, 232)"
          ],
          [
           1,
           "rgb(234, 252, 253)"
          ]
         ],
         "opacity": 0.1,
         "showscale": false,
         "type": "surface",
         "x": [
          2.683699999999998,
          64.3163
         ],
         "y": [
          -19.854300000000002,
          103.8543
         ],
         "z": [
          [
           -3.068999999999999,
           -3.068999999999999
          ],
          [
           -3.068999999999999,
           -3.068999999999999
          ]
         ]
        },
        {
         "colorscale": [
          [
           0,
           "rgb(3, 5, 18)"
          ],
          [
           0.09090909090909091,
           "rgb(25, 25, 51)"
          ],
          [
           0.18181818181818182,
           "rgb(44, 42, 87)"
          ],
          [
           0.2727272727272727,
           "rgb(58, 60, 125)"
          ],
          [
           0.36363636363636365,
           "rgb(62, 83, 160)"
          ],
          [
           0.45454545454545453,
           "rgb(62, 109, 178)"
          ],
          [
           0.5454545454545454,
           "rgb(72, 134, 187)"
          ],
          [
           0.6363636363636364,
           "rgb(89, 159, 196)"
          ],
          [
           0.7272727272727273,
           "rgb(114, 184, 205)"
          ],
          [
           0.8181818181818182,
           "rgb(149, 207, 216)"
          ],
          [
           0.9090909090909091,
           "rgb(192, 229, 232)"
          ],
          [
           1,
           "rgb(234, 252, 253)"
          ]
         ],
         "opacity": 0.1,
         "showscale": false,
         "type": "surface",
         "x": [
          -64.3163,
          -2.683699999999998
         ],
         "y": [
          -19.854300000000002,
          103.8543
         ],
         "z": [
          [
           -63.931,
           -63.931
          ],
          [
           -63.931,
           -63.931
          ]
         ]
        },
        {
         "colorscale": [
          [
           0,
           "rgb(3, 5, 18)"
          ],
          [
           0.09090909090909091,
           "rgb(25, 25, 51)"
          ],
          [
           0.18181818181818182,
           "rgb(44, 42, 87)"
          ],
          [
           0.2727272727272727,
           "rgb(58, 60, 125)"
          ],
          [
           0.36363636363636365,
           "rgb(62, 83, 160)"
          ],
          [
           0.45454545454545453,
           "rgb(62, 109, 178)"
          ],
          [
           0.5454545454545454,
           "rgb(72, 134, 187)"
          ],
          [
           0.6363636363636364,
           "rgb(89, 159, 196)"
          ],
          [
           0.7272727272727273,
           "rgb(114, 184, 205)"
          ],
          [
           0.8181818181818182,
           "rgb(149, 207, 216)"
          ],
          [
           0.9090909090909091,
           "rgb(192, 229, 232)"
          ],
          [
           1,
           "rgb(234, 252, 253)"
          ]
         ],
         "opacity": 0.1,
         "showscale": false,
         "type": "surface",
         "x": [
          -64.3163,
          -2.683699999999998
         ],
         "y": [
          -19.854300000000002,
          103.8543
         ],
         "z": [
          [
           -3.068999999999999,
           -3.068999999999999
          ],
          [
           -3.068999999999999,
           -3.068999999999999
          ]
         ]
        },
        {
         "colorscale": [
          [
           0,
           "rgb(3, 5, 18)"
          ],
          [
           0.09090909090909091,
           "rgb(25, 25, 51)"
          ],
          [
           0.18181818181818182,
           "rgb(44, 42, 87)"
          ],
          [
           0.2727272727272727,
           "rgb(58, 60, 125)"
          ],
          [
           0.36363636363636365,
           "rgb(62, 83, 160)"
          ],
          [
           0.45454545454545453,
           "rgb(62, 109, 178)"
          ],
          [
           0.5454545454545454,
           "rgb(72, 134, 187)"
          ],
          [
           0.6363636363636364,
           "rgb(89, 159, 196)"
          ],
          [
           0.7272727272727273,
           "rgb(114, 184, 205)"
          ],
          [
           0.8181818181818182,
           "rgb(149, 207, 216)"
          ],
          [
           0.9090909090909091,
           "rgb(192, 229, 232)"
          ],
          [
           1,
           "rgb(234, 252, 253)"
          ]
         ],
         "opacity": 0.1,
         "showscale": false,
         "type": "surface",
         "x": [
          2.683699999999998,
          64.3163
         ],
         "y": [
          -19.854300000000002,
          103.8543
         ],
         "z": [
          [
           3.068999999999999,
           3.068999999999999
          ],
          [
           3.068999999999999,
           3.068999999999999
          ]
         ]
        },
        {
         "colorscale": [
          [
           0,
           "rgb(3, 5, 18)"
          ],
          [
           0.09090909090909091,
           "rgb(25, 25, 51)"
          ],
          [
           0.18181818181818182,
           "rgb(44, 42, 87)"
          ],
          [
           0.2727272727272727,
           "rgb(58, 60, 125)"
          ],
          [
           0.36363636363636365,
           "rgb(62, 83, 160)"
          ],
          [
           0.45454545454545453,
           "rgb(62, 109, 178)"
          ],
          [
           0.5454545454545454,
           "rgb(72, 134, 187)"
          ],
          [
           0.6363636363636364,
           "rgb(89, 159, 196)"
          ],
          [
           0.7272727272727273,
           "rgb(114, 184, 205)"
          ],
          [
           0.8181818181818182,
           "rgb(149, 207, 216)"
          ],
          [
           0.9090909090909091,
           "rgb(192, 229, 232)"
          ],
          [
           1,
           "rgb(234, 252, 253)"
          ]
         ],
         "opacity": 0.1,
         "showscale": false,
         "type": "surface",
         "x": [
          2.683699999999998,
          64.3163
         ],
         "y": [
          -19.854300000000002,
          103.8543
         ],
         "z": [
          [
           63.931,
           63.931
          ],
          [
           63.931,
           63.931
          ]
         ]
        },
        {
         "colorscale": [
          [
           0,
           "rgb(3, 5, 18)"
          ],
          [
           0.09090909090909091,
           "rgb(25, 25, 51)"
          ],
          [
           0.18181818181818182,
           "rgb(44, 42, 87)"
          ],
          [
           0.2727272727272727,
           "rgb(58, 60, 125)"
          ],
          [
           0.36363636363636365,
           "rgb(62, 83, 160)"
          ],
          [
           0.45454545454545453,
           "rgb(62, 109, 178)"
          ],
          [
           0.5454545454545454,
           "rgb(72, 134, 187)"
          ],
          [
           0.6363636363636364,
           "rgb(89, 159, 196)"
          ],
          [
           0.7272727272727273,
           "rgb(114, 184, 205)"
          ],
          [
           0.8181818181818182,
           "rgb(149, 207, 216)"
          ],
          [
           0.9090909090909091,
           "rgb(192, 229, 232)"
          ],
          [
           1,
           "rgb(234, 252, 253)"
          ]
         ],
         "opacity": 0.1,
         "showscale": false,
         "type": "surface",
         "x": [
          -64.3163,
          -2.683699999999998
         ],
         "y": [
          -19.854300000000002,
          103.8543
         ],
         "z": [
          [
           3.068999999999999,
           3.068999999999999
          ],
          [
           3.068999999999999,
           3.068999999999999
          ]
         ]
        },
        {
         "colorscale": [
          [
           0,
           "rgb(3, 5, 18)"
          ],
          [
           0.09090909090909091,
           "rgb(25, 25, 51)"
          ],
          [
           0.18181818181818182,
           "rgb(44, 42, 87)"
          ],
          [
           0.2727272727272727,
           "rgb(58, 60, 125)"
          ],
          [
           0.36363636363636365,
           "rgb(62, 83, 160)"
          ],
          [
           0.45454545454545453,
           "rgb(62, 109, 178)"
          ],
          [
           0.5454545454545454,
           "rgb(72, 134, 187)"
          ],
          [
           0.6363636363636364,
           "rgb(89, 159, 196)"
          ],
          [
           0.7272727272727273,
           "rgb(114, 184, 205)"
          ],
          [
           0.8181818181818182,
           "rgb(149, 207, 216)"
          ],
          [
           0.9090909090909091,
           "rgb(192, 229, 232)"
          ],
          [
           1,
           "rgb(234, 252, 253)"
          ]
         ],
         "opacity": 0.1,
         "showscale": false,
         "type": "surface",
         "x": [
          -64.3163,
          -2.683699999999998
         ],
         "y": [
          -19.854300000000002,
          103.8543
         ],
         "z": [
          [
           63.931,
           63.931
          ],
          [
           63.931,
           63.931
          ]
         ]
        },
        {
         "colorscale": [
          [
           0,
           "rgb(3, 5, 18)"
          ],
          [
           0.09090909090909091,
           "rgb(25, 25, 51)"
          ],
          [
           0.18181818181818182,
           "rgb(44, 42, 87)"
          ],
          [
           0.2727272727272727,
           "rgb(58, 60, 125)"
          ],
          [
           0.36363636363636365,
           "rgb(62, 83, 160)"
          ],
          [
           0.45454545454545453,
           "rgb(62, 109, 178)"
          ],
          [
           0.5454545454545454,
           "rgb(72, 134, 187)"
          ],
          [
           0.6363636363636364,
           "rgb(89, 159, 196)"
          ],
          [
           0.7272727272727273,
           "rgb(114, 184, 205)"
          ],
          [
           0.8181818181818182,
           "rgb(149, 207, 216)"
          ],
          [
           0.9090909090909091,
           "rgb(192, 229, 232)"
          ],
          [
           1,
           "rgb(234, 252, 253)"
          ]
         ],
         "opacity": 0.1,
         "showscale": false,
         "type": "surface",
         "x": [
          2.683699999999998,
          64.3163
         ],
         "y": [
          -19.854300000000002,
          103.8543
         ],
         "z": [
          [
           -63.931,
           -63.931
          ],
          [
           -63.931,
           -63.931
          ]
         ]
        },
        {
         "colorscale": [
          [
           0,
           "rgb(3, 5, 18)"
          ],
          [
           0.09090909090909091,
           "rgb(25, 25, 51)"
          ],
          [
           0.18181818181818182,
           "rgb(44, 42, 87)"
          ],
          [
           0.2727272727272727,
           "rgb(58, 60, 125)"
          ],
          [
           0.36363636363636365,
           "rgb(62, 83, 160)"
          ],
          [
           0.45454545454545453,
           "rgb(62, 109, 178)"
          ],
          [
           0.5454545454545454,
           "rgb(72, 134, 187)"
          ],
          [
           0.6363636363636364,
           "rgb(89, 159, 196)"
          ],
          [
           0.7272727272727273,
           "rgb(114, 184, 205)"
          ],
          [
           0.8181818181818182,
           "rgb(149, 207, 216)"
          ],
          [
           0.9090909090909091,
           "rgb(192, 229, 232)"
          ],
          [
           1,
           "rgb(234, 252, 253)"
          ]
         ],
         "opacity": 0.1,
         "showscale": false,
         "type": "surface",
         "x": [
          2.683699999999998,
          64.3163
         ],
         "y": [
          -19.854300000000002,
          103.8543
         ],
         "z": [
          [
           -3.068999999999999,
           -3.068999999999999
          ],
          [
           -3.068999999999999,
           -3.068999999999999
          ]
         ]
        },
        {
         "colorscale": [
          [
           0,
           "rgb(3, 5, 18)"
          ],
          [
           0.09090909090909091,
           "rgb(25, 25, 51)"
          ],
          [
           0.18181818181818182,
           "rgb(44, 42, 87)"
          ],
          [
           0.2727272727272727,
           "rgb(58, 60, 125)"
          ],
          [
           0.36363636363636365,
           "rgb(62, 83, 160)"
          ],
          [
           0.45454545454545453,
           "rgb(62, 109, 178)"
          ],
          [
           0.5454545454545454,
           "rgb(72, 134, 187)"
          ],
          [
           0.6363636363636364,
           "rgb(89, 159, 196)"
          ],
          [
           0.7272727272727273,
           "rgb(114, 184, 205)"
          ],
          [
           0.8181818181818182,
           "rgb(149, 207, 216)"
          ],
          [
           0.9090909090909091,
           "rgb(192, 229, 232)"
          ],
          [
           1,
           "rgb(234, 252, 253)"
          ]
         ],
         "opacity": 0.1,
         "showscale": false,
         "type": "surface",
         "x": [
          -64.3163,
          -2.683699999999998
         ],
         "y": [
          -19.854300000000002,
          103.8543
         ],
         "z": [
          [
           -63.931,
           -63.931
          ],
          [
           -63.931,
           -63.931
          ]
         ]
        },
        {
         "colorscale": [
          [
           0,
           "rgb(3, 5, 18)"
          ],
          [
           0.09090909090909091,
           "rgb(25, 25, 51)"
          ],
          [
           0.18181818181818182,
           "rgb(44, 42, 87)"
          ],
          [
           0.2727272727272727,
           "rgb(58, 60, 125)"
          ],
          [
           0.36363636363636365,
           "rgb(62, 83, 160)"
          ],
          [
           0.45454545454545453,
           "rgb(62, 109, 178)"
          ],
          [
           0.5454545454545454,
           "rgb(72, 134, 187)"
          ],
          [
           0.6363636363636364,
           "rgb(89, 159, 196)"
          ],
          [
           0.7272727272727273,
           "rgb(114, 184, 205)"
          ],
          [
           0.8181818181818182,
           "rgb(149, 207, 216)"
          ],
          [
           0.9090909090909091,
           "rgb(192, 229, 232)"
          ],
          [
           1,
           "rgb(234, 252, 253)"
          ]
         ],
         "opacity": 0.1,
         "showscale": false,
         "type": "surface",
         "x": [
          -64.3163,
          -2.683699999999998
         ],
         "y": [
          -19.854300000000002,
          103.8543
         ],
         "z": [
          [
           -3.068999999999999,
           -3.068999999999999
          ],
          [
           -3.068999999999999,
           -3.068999999999999
          ]
         ]
        },
        {
         "colorscale": [
          [
           0,
           "rgb(3, 5, 18)"
          ],
          [
           0.09090909090909091,
           "rgb(25, 25, 51)"
          ],
          [
           0.18181818181818182,
           "rgb(44, 42, 87)"
          ],
          [
           0.2727272727272727,
           "rgb(58, 60, 125)"
          ],
          [
           0.36363636363636365,
           "rgb(62, 83, 160)"
          ],
          [
           0.45454545454545453,
           "rgb(62, 109, 178)"
          ],
          [
           0.5454545454545454,
           "rgb(72, 134, 187)"
          ],
          [
           0.6363636363636364,
           "rgb(89, 159, 196)"
          ],
          [
           0.7272727272727273,
           "rgb(114, 184, 205)"
          ],
          [
           0.8181818181818182,
           "rgb(149, 207, 216)"
          ],
          [
           0.9090909090909091,
           "rgb(192, 229, 232)"
          ],
          [
           1,
           "rgb(234, 252, 253)"
          ]
         ],
         "opacity": 0.1,
         "showscale": false,
         "type": "surface",
         "x": [
          2.683699999999998,
          64.3163
         ],
         "y": [
          -19.854300000000002,
          103.8543
         ],
         "z": [
          [
           3.068999999999999,
           3.068999999999999
          ],
          [
           3.068999999999999,
           3.068999999999999
          ]
         ]
        },
        {
         "colorscale": [
          [
           0,
           "rgb(3, 5, 18)"
          ],
          [
           0.09090909090909091,
           "rgb(25, 25, 51)"
          ],
          [
           0.18181818181818182,
           "rgb(44, 42, 87)"
          ],
          [
           0.2727272727272727,
           "rgb(58, 60, 125)"
          ],
          [
           0.36363636363636365,
           "rgb(62, 83, 160)"
          ],
          [
           0.45454545454545453,
           "rgb(62, 109, 178)"
          ],
          [
           0.5454545454545454,
           "rgb(72, 134, 187)"
          ],
          [
           0.6363636363636364,
           "rgb(89, 159, 196)"
          ],
          [
           0.7272727272727273,
           "rgb(114, 184, 205)"
          ],
          [
           0.8181818181818182,
           "rgb(149, 207, 216)"
          ],
          [
           0.9090909090909091,
           "rgb(192, 229, 232)"
          ],
          [
           1,
           "rgb(234, 252, 253)"
          ]
         ],
         "opacity": 0.1,
         "showscale": false,
         "type": "surface",
         "x": [
          2.683699999999998,
          64.3163
         ],
         "y": [
          -19.854300000000002,
          103.8543
         ],
         "z": [
          [
           63.931,
           63.931
          ],
          [
           63.931,
           63.931
          ]
         ]
        },
        {
         "colorscale": [
          [
           0,
           "rgb(3, 5, 18)"
          ],
          [
           0.09090909090909091,
           "rgb(25, 25, 51)"
          ],
          [
           0.18181818181818182,
           "rgb(44, 42, 87)"
          ],
          [
           0.2727272727272727,
           "rgb(58, 60, 125)"
          ],
          [
           0.36363636363636365,
           "rgb(62, 83, 160)"
          ],
          [
           0.45454545454545453,
           "rgb(62, 109, 178)"
          ],
          [
           0.5454545454545454,
           "rgb(72, 134, 187)"
          ],
          [
           0.6363636363636364,
           "rgb(89, 159, 196)"
          ],
          [
           0.7272727272727273,
           "rgb(114, 184, 205)"
          ],
          [
           0.8181818181818182,
           "rgb(149, 207, 216)"
          ],
          [
           0.9090909090909091,
           "rgb(192, 229, 232)"
          ],
          [
           1,
           "rgb(234, 252, 253)"
          ]
         ],
         "opacity": 0.1,
         "showscale": false,
         "type": "surface",
         "x": [
          -64.3163,
          -2.683699999999998
         ],
         "y": [
          -19.854300000000002,
          103.8543
         ],
         "z": [
          [
           3.068999999999999,
           3.068999999999999
          ],
          [
           3.068999999999999,
           3.068999999999999
          ]
         ]
        },
        {
         "colorscale": [
          [
           0,
           "rgb(3, 5, 18)"
          ],
          [
           0.09090909090909091,
           "rgb(25, 25, 51)"
          ],
          [
           0.18181818181818182,
           "rgb(44, 42, 87)"
          ],
          [
           0.2727272727272727,
           "rgb(58, 60, 125)"
          ],
          [
           0.36363636363636365,
           "rgb(62, 83, 160)"
          ],
          [
           0.45454545454545453,
           "rgb(62, 109, 178)"
          ],
          [
           0.5454545454545454,
           "rgb(72, 134, 187)"
          ],
          [
           0.6363636363636364,
           "rgb(89, 159, 196)"
          ],
          [
           0.7272727272727273,
           "rgb(114, 184, 205)"
          ],
          [
           0.8181818181818182,
           "rgb(149, 207, 216)"
          ],
          [
           0.9090909090909091,
           "rgb(192, 229, 232)"
          ],
          [
           1,
           "rgb(234, 252, 253)"
          ]
         ],
         "opacity": 0.1,
         "showscale": false,
         "type": "surface",
         "x": [
          -64.3163,
          -2.683699999999998
         ],
         "y": [
          -19.854300000000002,
          103.8543
         ],
         "z": [
          [
           63.931,
           63.931
          ],
          [
           63.931,
           63.931
          ]
         ]
        },
        {
         "colorscale": [
          [
           0,
           "rgb(3, 5, 18)"
          ],
          [
           0.09090909090909091,
           "rgb(25, 25, 51)"
          ],
          [
           0.18181818181818182,
           "rgb(44, 42, 87)"
          ],
          [
           0.2727272727272727,
           "rgb(58, 60, 125)"
          ],
          [
           0.36363636363636365,
           "rgb(62, 83, 160)"
          ],
          [
           0.45454545454545453,
           "rgb(62, 109, 178)"
          ],
          [
           0.5454545454545454,
           "rgb(72, 134, 187)"
          ],
          [
           0.6363636363636364,
           "rgb(89, 159, 196)"
          ],
          [
           0.7272727272727273,
           "rgb(114, 184, 205)"
          ],
          [
           0.8181818181818182,
           "rgb(149, 207, 216)"
          ],
          [
           0.9090909090909091,
           "rgb(192, 229, 232)"
          ],
          [
           1,
           "rgb(234, 252, 253)"
          ]
         ],
         "opacity": 0.1,
         "showscale": false,
         "type": "surface",
         "x": [
          2.683699999999998,
          64.3163
         ],
         "y": [
          -19.854300000000002,
          103.8543
         ],
         "z": [
          [
           -63.931,
           -63.931
          ],
          [
           -63.931,
           -63.931
          ]
         ]
        },
        {
         "colorscale": [
          [
           0,
           "rgb(3, 5, 18)"
          ],
          [
           0.09090909090909091,
           "rgb(25, 25, 51)"
          ],
          [
           0.18181818181818182,
           "rgb(44, 42, 87)"
          ],
          [
           0.2727272727272727,
           "rgb(58, 60, 125)"
          ],
          [
           0.36363636363636365,
           "rgb(62, 83, 160)"
          ],
          [
           0.45454545454545453,
           "rgb(62, 109, 178)"
          ],
          [
           0.5454545454545454,
           "rgb(72, 134, 187)"
          ],
          [
           0.6363636363636364,
           "rgb(89, 159, 196)"
          ],
          [
           0.7272727272727273,
           "rgb(114, 184, 205)"
          ],
          [
           0.8181818181818182,
           "rgb(149, 207, 216)"
          ],
          [
           0.9090909090909091,
           "rgb(192, 229, 232)"
          ],
          [
           1,
           "rgb(234, 252, 253)"
          ]
         ],
         "opacity": 0.1,
         "showscale": false,
         "type": "surface",
         "x": [
          2.683699999999998,
          64.3163
         ],
         "y": [
          -19.854300000000002,
          103.8543
         ],
         "z": [
          [
           -3.068999999999999,
           -3.068999999999999
          ],
          [
           -3.068999999999999,
           -3.068999999999999
          ]
         ]
        },
        {
         "colorscale": [
          [
           0,
           "rgb(3, 5, 18)"
          ],
          [
           0.09090909090909091,
           "rgb(25, 25, 51)"
          ],
          [
           0.18181818181818182,
           "rgb(44, 42, 87)"
          ],
          [
           0.2727272727272727,
           "rgb(58, 60, 125)"
          ],
          [
           0.36363636363636365,
           "rgb(62, 83, 160)"
          ],
          [
           0.45454545454545453,
           "rgb(62, 109, 178)"
          ],
          [
           0.5454545454545454,
           "rgb(72, 134, 187)"
          ],
          [
           0.6363636363636364,
           "rgb(89, 159, 196)"
          ],
          [
           0.7272727272727273,
           "rgb(114, 184, 205)"
          ],
          [
           0.8181818181818182,
           "rgb(149, 207, 216)"
          ],
          [
           0.9090909090909091,
           "rgb(192, 229, 232)"
          ],
          [
           1,
           "rgb(234, 252, 253)"
          ]
         ],
         "opacity": 0.1,
         "showscale": false,
         "type": "surface",
         "x": [
          -64.3163,
          -2.683699999999998
         ],
         "y": [
          -19.854300000000002,
          103.8543
         ],
         "z": [
          [
           -63.931,
           -63.931
          ],
          [
           -63.931,
           -63.931
          ]
         ]
        },
        {
         "colorscale": [
          [
           0,
           "rgb(3, 5, 18)"
          ],
          [
           0.09090909090909091,
           "rgb(25, 25, 51)"
          ],
          [
           0.18181818181818182,
           "rgb(44, 42, 87)"
          ],
          [
           0.2727272727272727,
           "rgb(58, 60, 125)"
          ],
          [
           0.36363636363636365,
           "rgb(62, 83, 160)"
          ],
          [
           0.45454545454545453,
           "rgb(62, 109, 178)"
          ],
          [
           0.5454545454545454,
           "rgb(72, 134, 187)"
          ],
          [
           0.6363636363636364,
           "rgb(89, 159, 196)"
          ],
          [
           0.7272727272727273,
           "rgb(114, 184, 205)"
          ],
          [
           0.8181818181818182,
           "rgb(149, 207, 216)"
          ],
          [
           0.9090909090909091,
           "rgb(192, 229, 232)"
          ],
          [
           1,
           "rgb(234, 252, 253)"
          ]
         ],
         "opacity": 0.1,
         "showscale": false,
         "type": "surface",
         "x": [
          -64.3163,
          -2.683699999999998
         ],
         "y": [
          -19.854300000000002,
          103.8543
         ],
         "z": [
          [
           -3.068999999999999,
           -3.068999999999999
          ],
          [
           -3.068999999999999,
           -3.068999999999999
          ]
         ]
        },
        {
         "colorscale": [
          [
           0,
           "rgb(3, 5, 18)"
          ],
          [
           0.09090909090909091,
           "rgb(25, 25, 51)"
          ],
          [
           0.18181818181818182,
           "rgb(44, 42, 87)"
          ],
          [
           0.2727272727272727,
           "rgb(58, 60, 125)"
          ],
          [
           0.36363636363636365,
           "rgb(62, 83, 160)"
          ],
          [
           0.45454545454545453,
           "rgb(62, 109, 178)"
          ],
          [
           0.5454545454545454,
           "rgb(72, 134, 187)"
          ],
          [
           0.6363636363636364,
           "rgb(89, 159, 196)"
          ],
          [
           0.7272727272727273,
           "rgb(114, 184, 205)"
          ],
          [
           0.8181818181818182,
           "rgb(149, 207, 216)"
          ],
          [
           0.9090909090909091,
           "rgb(192, 229, 232)"
          ],
          [
           1,
           "rgb(234, 252, 253)"
          ]
         ],
         "opacity": 0.1,
         "showscale": false,
         "type": "surface",
         "x": [
          2.683699999999998,
          64.3163
         ],
         "y": [
          -19.854300000000002,
          103.8543
         ],
         "z": [
          [
           3.068999999999999,
           3.068999999999999
          ],
          [
           3.068999999999999,
           3.068999999999999
          ]
         ]
        },
        {
         "colorscale": [
          [
           0,
           "rgb(3, 5, 18)"
          ],
          [
           0.09090909090909091,
           "rgb(25, 25, 51)"
          ],
          [
           0.18181818181818182,
           "rgb(44, 42, 87)"
          ],
          [
           0.2727272727272727,
           "rgb(58, 60, 125)"
          ],
          [
           0.36363636363636365,
           "rgb(62, 83, 160)"
          ],
          [
           0.45454545454545453,
           "rgb(62, 109, 178)"
          ],
          [
           0.5454545454545454,
           "rgb(72, 134, 187)"
          ],
          [
           0.6363636363636364,
           "rgb(89, 159, 196)"
          ],
          [
           0.7272727272727273,
           "rgb(114, 184, 205)"
          ],
          [
           0.8181818181818182,
           "rgb(149, 207, 216)"
          ],
          [
           0.9090909090909091,
           "rgb(192, 229, 232)"
          ],
          [
           1,
           "rgb(234, 252, 253)"
          ]
         ],
         "opacity": 0.1,
         "showscale": false,
         "type": "surface",
         "x": [
          2.683699999999998,
          64.3163
         ],
         "y": [
          -19.854300000000002,
          103.8543
         ],
         "z": [
          [
           63.931,
           63.931
          ],
          [
           63.931,
           63.931
          ]
         ]
        },
        {
         "colorscale": [
          [
           0,
           "rgb(3, 5, 18)"
          ],
          [
           0.09090909090909091,
           "rgb(25, 25, 51)"
          ],
          [
           0.18181818181818182,
           "rgb(44, 42, 87)"
          ],
          [
           0.2727272727272727,
           "rgb(58, 60, 125)"
          ],
          [
           0.36363636363636365,
           "rgb(62, 83, 160)"
          ],
          [
           0.45454545454545453,
           "rgb(62, 109, 178)"
          ],
          [
           0.5454545454545454,
           "rgb(72, 134, 187)"
          ],
          [
           0.6363636363636364,
           "rgb(89, 159, 196)"
          ],
          [
           0.7272727272727273,
           "rgb(114, 184, 205)"
          ],
          [
           0.8181818181818182,
           "rgb(149, 207, 216)"
          ],
          [
           0.9090909090909091,
           "rgb(192, 229, 232)"
          ],
          [
           1,
           "rgb(234, 252, 253)"
          ]
         ],
         "opacity": 0.1,
         "showscale": false,
         "type": "surface",
         "x": [
          -64.3163,
          -2.683699999999998
         ],
         "y": [
          -19.854300000000002,
          103.8543
         ],
         "z": [
          [
           3.068999999999999,
           3.068999999999999
          ],
          [
           3.068999999999999,
           3.068999999999999
          ]
         ]
        },
        {
         "colorscale": [
          [
           0,
           "rgb(3, 5, 18)"
          ],
          [
           0.09090909090909091,
           "rgb(25, 25, 51)"
          ],
          [
           0.18181818181818182,
           "rgb(44, 42, 87)"
          ],
          [
           0.2727272727272727,
           "rgb(58, 60, 125)"
          ],
          [
           0.36363636363636365,
           "rgb(62, 83, 160)"
          ],
          [
           0.45454545454545453,
           "rgb(62, 109, 178)"
          ],
          [
           0.5454545454545454,
           "rgb(72, 134, 187)"
          ],
          [
           0.6363636363636364,
           "rgb(89, 159, 196)"
          ],
          [
           0.7272727272727273,
           "rgb(114, 184, 205)"
          ],
          [
           0.8181818181818182,
           "rgb(149, 207, 216)"
          ],
          [
           0.9090909090909091,
           "rgb(192, 229, 232)"
          ],
          [
           1,
           "rgb(234, 252, 253)"
          ]
         ],
         "opacity": 0.1,
         "showscale": false,
         "type": "surface",
         "x": [
          -64.3163,
          -2.683699999999998
         ],
         "y": [
          -19.854300000000002,
          103.8543
         ],
         "z": [
          [
           63.931,
           63.931
          ],
          [
           63.931,
           63.931
          ]
         ]
        },
        {
         "colorscale": [
          [
           0,
           "rgb(3, 5, 18)"
          ],
          [
           0.09090909090909091,
           "rgb(25, 25, 51)"
          ],
          [
           0.18181818181818182,
           "rgb(44, 42, 87)"
          ],
          [
           0.2727272727272727,
           "rgb(58, 60, 125)"
          ],
          [
           0.36363636363636365,
           "rgb(62, 83, 160)"
          ],
          [
           0.45454545454545453,
           "rgb(62, 109, 178)"
          ],
          [
           0.5454545454545454,
           "rgb(72, 134, 187)"
          ],
          [
           0.6363636363636364,
           "rgb(89, 159, 196)"
          ],
          [
           0.7272727272727273,
           "rgb(114, 184, 205)"
          ],
          [
           0.8181818181818182,
           "rgb(149, 207, 216)"
          ],
          [
           0.9090909090909091,
           "rgb(192, 229, 232)"
          ],
          [
           1,
           "rgb(234, 252, 253)"
          ]
         ],
         "opacity": 0.1,
         "showscale": false,
         "type": "surface",
         "x": [
          2.683699999999998,
          64.3163
         ],
         "y": [
          -19.854300000000002,
          103.8543
         ],
         "z": [
          [
           -63.931,
           -63.931
          ],
          [
           -63.931,
           -63.931
          ]
         ]
        },
        {
         "colorscale": [
          [
           0,
           "rgb(3, 5, 18)"
          ],
          [
           0.09090909090909091,
           "rgb(25, 25, 51)"
          ],
          [
           0.18181818181818182,
           "rgb(44, 42, 87)"
          ],
          [
           0.2727272727272727,
           "rgb(58, 60, 125)"
          ],
          [
           0.36363636363636365,
           "rgb(62, 83, 160)"
          ],
          [
           0.45454545454545453,
           "rgb(62, 109, 178)"
          ],
          [
           0.5454545454545454,
           "rgb(72, 134, 187)"
          ],
          [
           0.6363636363636364,
           "rgb(89, 159, 196)"
          ],
          [
           0.7272727272727273,
           "rgb(114, 184, 205)"
          ],
          [
           0.8181818181818182,
           "rgb(149, 207, 216)"
          ],
          [
           0.9090909090909091,
           "rgb(192, 229, 232)"
          ],
          [
           1,
           "rgb(234, 252, 253)"
          ]
         ],
         "opacity": 0.1,
         "showscale": false,
         "type": "surface",
         "x": [
          2.683699999999998,
          64.3163
         ],
         "y": [
          -19.854300000000002,
          103.8543
         ],
         "z": [
          [
           -3.068999999999999,
           -3.068999999999999
          ],
          [
           -3.068999999999999,
           -3.068999999999999
          ]
         ]
        },
        {
         "colorscale": [
          [
           0,
           "rgb(3, 5, 18)"
          ],
          [
           0.09090909090909091,
           "rgb(25, 25, 51)"
          ],
          [
           0.18181818181818182,
           "rgb(44, 42, 87)"
          ],
          [
           0.2727272727272727,
           "rgb(58, 60, 125)"
          ],
          [
           0.36363636363636365,
           "rgb(62, 83, 160)"
          ],
          [
           0.45454545454545453,
           "rgb(62, 109, 178)"
          ],
          [
           0.5454545454545454,
           "rgb(72, 134, 187)"
          ],
          [
           0.6363636363636364,
           "rgb(89, 159, 196)"
          ],
          [
           0.7272727272727273,
           "rgb(114, 184, 205)"
          ],
          [
           0.8181818181818182,
           "rgb(149, 207, 216)"
          ],
          [
           0.9090909090909091,
           "rgb(192, 229, 232)"
          ],
          [
           1,
           "rgb(234, 252, 253)"
          ]
         ],
         "opacity": 0.1,
         "showscale": false,
         "type": "surface",
         "x": [
          -64.3163,
          -2.683699999999998
         ],
         "y": [
          -19.854300000000002,
          103.8543
         ],
         "z": [
          [
           -63.931,
           -63.931
          ],
          [
           -63.931,
           -63.931
          ]
         ]
        },
        {
         "colorscale": [
          [
           0,
           "rgb(3, 5, 18)"
          ],
          [
           0.09090909090909091,
           "rgb(25, 25, 51)"
          ],
          [
           0.18181818181818182,
           "rgb(44, 42, 87)"
          ],
          [
           0.2727272727272727,
           "rgb(58, 60, 125)"
          ],
          [
           0.36363636363636365,
           "rgb(62, 83, 160)"
          ],
          [
           0.45454545454545453,
           "rgb(62, 109, 178)"
          ],
          [
           0.5454545454545454,
           "rgb(72, 134, 187)"
          ],
          [
           0.6363636363636364,
           "rgb(89, 159, 196)"
          ],
          [
           0.7272727272727273,
           "rgb(114, 184, 205)"
          ],
          [
           0.8181818181818182,
           "rgb(149, 207, 216)"
          ],
          [
           0.9090909090909091,
           "rgb(192, 229, 232)"
          ],
          [
           1,
           "rgb(234, 252, 253)"
          ]
         ],
         "opacity": 0.1,
         "showscale": false,
         "type": "surface",
         "x": [
          -64.3163,
          -2.683699999999998
         ],
         "y": [
          -19.854300000000002,
          103.8543
         ],
         "z": [
          [
           -3.068999999999999,
           -3.068999999999999
          ],
          [
           -3.068999999999999,
           -3.068999999999999
          ]
         ]
        },
        {
         "colorscale": [
          [
           0,
           "rgb(3, 5, 18)"
          ],
          [
           0.09090909090909091,
           "rgb(25, 25, 51)"
          ],
          [
           0.18181818181818182,
           "rgb(44, 42, 87)"
          ],
          [
           0.2727272727272727,
           "rgb(58, 60, 125)"
          ],
          [
           0.36363636363636365,
           "rgb(62, 83, 160)"
          ],
          [
           0.45454545454545453,
           "rgb(62, 109, 178)"
          ],
          [
           0.5454545454545454,
           "rgb(72, 134, 187)"
          ],
          [
           0.6363636363636364,
           "rgb(89, 159, 196)"
          ],
          [
           0.7272727272727273,
           "rgb(114, 184, 205)"
          ],
          [
           0.8181818181818182,
           "rgb(149, 207, 216)"
          ],
          [
           0.9090909090909091,
           "rgb(192, 229, 232)"
          ],
          [
           1,
           "rgb(234, 252, 253)"
          ]
         ],
         "opacity": 0.1,
         "showscale": false,
         "type": "surface",
         "x": [
          2.683699999999998,
          64.3163
         ],
         "y": [
          -19.854300000000002,
          103.8543
         ],
         "z": [
          [
           3.068999999999999,
           3.068999999999999
          ],
          [
           3.068999999999999,
           3.068999999999999
          ]
         ]
        },
        {
         "colorscale": [
          [
           0,
           "rgb(3, 5, 18)"
          ],
          [
           0.09090909090909091,
           "rgb(25, 25, 51)"
          ],
          [
           0.18181818181818182,
           "rgb(44, 42, 87)"
          ],
          [
           0.2727272727272727,
           "rgb(58, 60, 125)"
          ],
          [
           0.36363636363636365,
           "rgb(62, 83, 160)"
          ],
          [
           0.45454545454545453,
           "rgb(62, 109, 178)"
          ],
          [
           0.5454545454545454,
           "rgb(72, 134, 187)"
          ],
          [
           0.6363636363636364,
           "rgb(89, 159, 196)"
          ],
          [
           0.7272727272727273,
           "rgb(114, 184, 205)"
          ],
          [
           0.8181818181818182,
           "rgb(149, 207, 216)"
          ],
          [
           0.9090909090909091,
           "rgb(192, 229, 232)"
          ],
          [
           1,
           "rgb(234, 252, 253)"
          ]
         ],
         "opacity": 0.1,
         "showscale": false,
         "type": "surface",
         "x": [
          2.683699999999998,
          64.3163
         ],
         "y": [
          -19.854300000000002,
          103.8543
         ],
         "z": [
          [
           63.931,
           63.931
          ],
          [
           63.931,
           63.931
          ]
         ]
        },
        {
         "colorscale": [
          [
           0,
           "rgb(3, 5, 18)"
          ],
          [
           0.09090909090909091,
           "rgb(25, 25, 51)"
          ],
          [
           0.18181818181818182,
           "rgb(44, 42, 87)"
          ],
          [
           0.2727272727272727,
           "rgb(58, 60, 125)"
          ],
          [
           0.36363636363636365,
           "rgb(62, 83, 160)"
          ],
          [
           0.45454545454545453,
           "rgb(62, 109, 178)"
          ],
          [
           0.5454545454545454,
           "rgb(72, 134, 187)"
          ],
          [
           0.6363636363636364,
           "rgb(89, 159, 196)"
          ],
          [
           0.7272727272727273,
           "rgb(114, 184, 205)"
          ],
          [
           0.8181818181818182,
           "rgb(149, 207, 216)"
          ],
          [
           0.9090909090909091,
           "rgb(192, 229, 232)"
          ],
          [
           1,
           "rgb(234, 252, 253)"
          ]
         ],
         "opacity": 0.1,
         "showscale": false,
         "type": "surface",
         "x": [
          -64.3163,
          -2.683699999999998
         ],
         "y": [
          -19.854300000000002,
          103.8543
         ],
         "z": [
          [
           3.068999999999999,
           3.068999999999999
          ],
          [
           3.068999999999999,
           3.068999999999999
          ]
         ]
        },
        {
         "colorscale": [
          [
           0,
           "rgb(3, 5, 18)"
          ],
          [
           0.09090909090909091,
           "rgb(25, 25, 51)"
          ],
          [
           0.18181818181818182,
           "rgb(44, 42, 87)"
          ],
          [
           0.2727272727272727,
           "rgb(58, 60, 125)"
          ],
          [
           0.36363636363636365,
           "rgb(62, 83, 160)"
          ],
          [
           0.45454545454545453,
           "rgb(62, 109, 178)"
          ],
          [
           0.5454545454545454,
           "rgb(72, 134, 187)"
          ],
          [
           0.6363636363636364,
           "rgb(89, 159, 196)"
          ],
          [
           0.7272727272727273,
           "rgb(114, 184, 205)"
          ],
          [
           0.8181818181818182,
           "rgb(149, 207, 216)"
          ],
          [
           0.9090909090909091,
           "rgb(192, 229, 232)"
          ],
          [
           1,
           "rgb(234, 252, 253)"
          ]
         ],
         "opacity": 0.1,
         "showscale": false,
         "type": "surface",
         "x": [
          -64.3163,
          -2.683699999999998
         ],
         "y": [
          -19.854300000000002,
          103.8543
         ],
         "z": [
          [
           63.931,
           63.931
          ],
          [
           63.931,
           63.931
          ]
         ]
        },
        {
         "colorscale": [
          [
           0,
           "rgb(3, 5, 18)"
          ],
          [
           0.09090909090909091,
           "rgb(25, 25, 51)"
          ],
          [
           0.18181818181818182,
           "rgb(44, 42, 87)"
          ],
          [
           0.2727272727272727,
           "rgb(58, 60, 125)"
          ],
          [
           0.36363636363636365,
           "rgb(62, 83, 160)"
          ],
          [
           0.45454545454545453,
           "rgb(62, 109, 178)"
          ],
          [
           0.5454545454545454,
           "rgb(72, 134, 187)"
          ],
          [
           0.6363636363636364,
           "rgb(89, 159, 196)"
          ],
          [
           0.7272727272727273,
           "rgb(114, 184, 205)"
          ],
          [
           0.8181818181818182,
           "rgb(149, 207, 216)"
          ],
          [
           0.9090909090909091,
           "rgb(192, 229, 232)"
          ],
          [
           1,
           "rgb(234, 252, 253)"
          ]
         ],
         "opacity": 0.1,
         "showscale": false,
         "type": "surface",
         "x": [
          2.683699999999998,
          64.3163
         ],
         "y": [
          -19.854300000000002,
          103.8543
         ],
         "z": [
          [
           -63.931,
           -63.931
          ],
          [
           -63.931,
           -63.931
          ]
         ]
        },
        {
         "colorscale": [
          [
           0,
           "rgb(3, 5, 18)"
          ],
          [
           0.09090909090909091,
           "rgb(25, 25, 51)"
          ],
          [
           0.18181818181818182,
           "rgb(44, 42, 87)"
          ],
          [
           0.2727272727272727,
           "rgb(58, 60, 125)"
          ],
          [
           0.36363636363636365,
           "rgb(62, 83, 160)"
          ],
          [
           0.45454545454545453,
           "rgb(62, 109, 178)"
          ],
          [
           0.5454545454545454,
           "rgb(72, 134, 187)"
          ],
          [
           0.6363636363636364,
           "rgb(89, 159, 196)"
          ],
          [
           0.7272727272727273,
           "rgb(114, 184, 205)"
          ],
          [
           0.8181818181818182,
           "rgb(149, 207, 216)"
          ],
          [
           0.9090909090909091,
           "rgb(192, 229, 232)"
          ],
          [
           1,
           "rgb(234, 252, 253)"
          ]
         ],
         "opacity": 0.1,
         "showscale": false,
         "type": "surface",
         "x": [
          2.683699999999998,
          64.3163
         ],
         "y": [
          -19.854300000000002,
          103.8543
         ],
         "z": [
          [
           -3.068999999999999,
           -3.068999999999999
          ],
          [
           -3.068999999999999,
           -3.068999999999999
          ]
         ]
        },
        {
         "colorscale": [
          [
           0,
           "rgb(3, 5, 18)"
          ],
          [
           0.09090909090909091,
           "rgb(25, 25, 51)"
          ],
          [
           0.18181818181818182,
           "rgb(44, 42, 87)"
          ],
          [
           0.2727272727272727,
           "rgb(58, 60, 125)"
          ],
          [
           0.36363636363636365,
           "rgb(62, 83, 160)"
          ],
          [
           0.45454545454545453,
           "rgb(62, 109, 178)"
          ],
          [
           0.5454545454545454,
           "rgb(72, 134, 187)"
          ],
          [
           0.6363636363636364,
           "rgb(89, 159, 196)"
          ],
          [
           0.7272727272727273,
           "rgb(114, 184, 205)"
          ],
          [
           0.8181818181818182,
           "rgb(149, 207, 216)"
          ],
          [
           0.9090909090909091,
           "rgb(192, 229, 232)"
          ],
          [
           1,
           "rgb(234, 252, 253)"
          ]
         ],
         "opacity": 0.1,
         "showscale": false,
         "type": "surface",
         "x": [
          -64.3163,
          -2.683699999999998
         ],
         "y": [
          -19.854300000000002,
          103.8543
         ],
         "z": [
          [
           -63.931,
           -63.931
          ],
          [
           -63.931,
           -63.931
          ]
         ]
        },
        {
         "colorscale": [
          [
           0,
           "rgb(3, 5, 18)"
          ],
          [
           0.09090909090909091,
           "rgb(25, 25, 51)"
          ],
          [
           0.18181818181818182,
           "rgb(44, 42, 87)"
          ],
          [
           0.2727272727272727,
           "rgb(58, 60, 125)"
          ],
          [
           0.36363636363636365,
           "rgb(62, 83, 160)"
          ],
          [
           0.45454545454545453,
           "rgb(62, 109, 178)"
          ],
          [
           0.5454545454545454,
           "rgb(72, 134, 187)"
          ],
          [
           0.6363636363636364,
           "rgb(89, 159, 196)"
          ],
          [
           0.7272727272727273,
           "rgb(114, 184, 205)"
          ],
          [
           0.8181818181818182,
           "rgb(149, 207, 216)"
          ],
          [
           0.9090909090909091,
           "rgb(192, 229, 232)"
          ],
          [
           1,
           "rgb(234, 252, 253)"
          ]
         ],
         "opacity": 0.1,
         "showscale": false,
         "type": "surface",
         "x": [
          -64.3163,
          -2.683699999999998
         ],
         "y": [
          -19.854300000000002,
          103.8543
         ],
         "z": [
          [
           -3.068999999999999,
           -3.068999999999999
          ],
          [
           -3.068999999999999,
           -3.068999999999999
          ]
         ]
        },
        {
         "colorscale": [
          [
           0,
           "rgb(3, 5, 18)"
          ],
          [
           0.09090909090909091,
           "rgb(25, 25, 51)"
          ],
          [
           0.18181818181818182,
           "rgb(44, 42, 87)"
          ],
          [
           0.2727272727272727,
           "rgb(58, 60, 125)"
          ],
          [
           0.36363636363636365,
           "rgb(62, 83, 160)"
          ],
          [
           0.45454545454545453,
           "rgb(62, 109, 178)"
          ],
          [
           0.5454545454545454,
           "rgb(72, 134, 187)"
          ],
          [
           0.6363636363636364,
           "rgb(89, 159, 196)"
          ],
          [
           0.7272727272727273,
           "rgb(114, 184, 205)"
          ],
          [
           0.8181818181818182,
           "rgb(149, 207, 216)"
          ],
          [
           0.9090909090909091,
           "rgb(192, 229, 232)"
          ],
          [
           1,
           "rgb(234, 252, 253)"
          ]
         ],
         "opacity": 0.1,
         "showscale": false,
         "type": "surface",
         "x": [
          2.683699999999998,
          64.3163
         ],
         "y": [
          -19.854300000000002,
          103.8543
         ],
         "z": [
          [
           3.068999999999999,
           3.068999999999999
          ],
          [
           3.068999999999999,
           3.068999999999999
          ]
         ]
        },
        {
         "colorscale": [
          [
           0,
           "rgb(3, 5, 18)"
          ],
          [
           0.09090909090909091,
           "rgb(25, 25, 51)"
          ],
          [
           0.18181818181818182,
           "rgb(44, 42, 87)"
          ],
          [
           0.2727272727272727,
           "rgb(58, 60, 125)"
          ],
          [
           0.36363636363636365,
           "rgb(62, 83, 160)"
          ],
          [
           0.45454545454545453,
           "rgb(62, 109, 178)"
          ],
          [
           0.5454545454545454,
           "rgb(72, 134, 187)"
          ],
          [
           0.6363636363636364,
           "rgb(89, 159, 196)"
          ],
          [
           0.7272727272727273,
           "rgb(114, 184, 205)"
          ],
          [
           0.8181818181818182,
           "rgb(149, 207, 216)"
          ],
          [
           0.9090909090909091,
           "rgb(192, 229, 232)"
          ],
          [
           1,
           "rgb(234, 252, 253)"
          ]
         ],
         "opacity": 0.1,
         "showscale": false,
         "type": "surface",
         "x": [
          2.683699999999998,
          64.3163
         ],
         "y": [
          -19.854300000000002,
          103.8543
         ],
         "z": [
          [
           63.931,
           63.931
          ],
          [
           63.931,
           63.931
          ]
         ]
        },
        {
         "colorscale": [
          [
           0,
           "rgb(3, 5, 18)"
          ],
          [
           0.09090909090909091,
           "rgb(25, 25, 51)"
          ],
          [
           0.18181818181818182,
           "rgb(44, 42, 87)"
          ],
          [
           0.2727272727272727,
           "rgb(58, 60, 125)"
          ],
          [
           0.36363636363636365,
           "rgb(62, 83, 160)"
          ],
          [
           0.45454545454545453,
           "rgb(62, 109, 178)"
          ],
          [
           0.5454545454545454,
           "rgb(72, 134, 187)"
          ],
          [
           0.6363636363636364,
           "rgb(89, 159, 196)"
          ],
          [
           0.7272727272727273,
           "rgb(114, 184, 205)"
          ],
          [
           0.8181818181818182,
           "rgb(149, 207, 216)"
          ],
          [
           0.9090909090909091,
           "rgb(192, 229, 232)"
          ],
          [
           1,
           "rgb(234, 252, 253)"
          ]
         ],
         "opacity": 0.1,
         "showscale": false,
         "type": "surface",
         "x": [
          -64.3163,
          -2.683699999999998
         ],
         "y": [
          -19.854300000000002,
          103.8543
         ],
         "z": [
          [
           3.068999999999999,
           3.068999999999999
          ],
          [
           3.068999999999999,
           3.068999999999999
          ]
         ]
        },
        {
         "colorscale": [
          [
           0,
           "rgb(3, 5, 18)"
          ],
          [
           0.09090909090909091,
           "rgb(25, 25, 51)"
          ],
          [
           0.18181818181818182,
           "rgb(44, 42, 87)"
          ],
          [
           0.2727272727272727,
           "rgb(58, 60, 125)"
          ],
          [
           0.36363636363636365,
           "rgb(62, 83, 160)"
          ],
          [
           0.45454545454545453,
           "rgb(62, 109, 178)"
          ],
          [
           0.5454545454545454,
           "rgb(72, 134, 187)"
          ],
          [
           0.6363636363636364,
           "rgb(89, 159, 196)"
          ],
          [
           0.7272727272727273,
           "rgb(114, 184, 205)"
          ],
          [
           0.8181818181818182,
           "rgb(149, 207, 216)"
          ],
          [
           0.9090909090909091,
           "rgb(192, 229, 232)"
          ],
          [
           1,
           "rgb(234, 252, 253)"
          ]
         ],
         "opacity": 0.1,
         "showscale": false,
         "type": "surface",
         "x": [
          -64.3163,
          -2.683699999999998
         ],
         "y": [
          -19.854300000000002,
          103.8543
         ],
         "z": [
          [
           63.931,
           63.931
          ],
          [
           63.931,
           63.931
          ]
         ]
        },
        {
         "colorscale": [
          [
           0,
           "rgb(3, 5, 18)"
          ],
          [
           0.09090909090909091,
           "rgb(25, 25, 51)"
          ],
          [
           0.18181818181818182,
           "rgb(44, 42, 87)"
          ],
          [
           0.2727272727272727,
           "rgb(58, 60, 125)"
          ],
          [
           0.36363636363636365,
           "rgb(62, 83, 160)"
          ],
          [
           0.45454545454545453,
           "rgb(62, 109, 178)"
          ],
          [
           0.5454545454545454,
           "rgb(72, 134, 187)"
          ],
          [
           0.6363636363636364,
           "rgb(89, 159, 196)"
          ],
          [
           0.7272727272727273,
           "rgb(114, 184, 205)"
          ],
          [
           0.8181818181818182,
           "rgb(149, 207, 216)"
          ],
          [
           0.9090909090909091,
           "rgb(192, 229, 232)"
          ],
          [
           1,
           "rgb(234, 252, 253)"
          ]
         ],
         "opacity": 0.1,
         "showscale": false,
         "type": "surface",
         "x": [
          2.683699999999998,
          64.3163
         ],
         "y": [
          -19.854300000000002,
          103.8543
         ],
         "z": [
          [
           -63.931,
           -63.931
          ],
          [
           -63.931,
           -63.931
          ]
         ]
        },
        {
         "colorscale": [
          [
           0,
           "rgb(3, 5, 18)"
          ],
          [
           0.09090909090909091,
           "rgb(25, 25, 51)"
          ],
          [
           0.18181818181818182,
           "rgb(44, 42, 87)"
          ],
          [
           0.2727272727272727,
           "rgb(58, 60, 125)"
          ],
          [
           0.36363636363636365,
           "rgb(62, 83, 160)"
          ],
          [
           0.45454545454545453,
           "rgb(62, 109, 178)"
          ],
          [
           0.5454545454545454,
           "rgb(72, 134, 187)"
          ],
          [
           0.6363636363636364,
           "rgb(89, 159, 196)"
          ],
          [
           0.7272727272727273,
           "rgb(114, 184, 205)"
          ],
          [
           0.8181818181818182,
           "rgb(149, 207, 216)"
          ],
          [
           0.9090909090909091,
           "rgb(192, 229, 232)"
          ],
          [
           1,
           "rgb(234, 252, 253)"
          ]
         ],
         "opacity": 0.1,
         "showscale": false,
         "type": "surface",
         "x": [
          2.683699999999998,
          64.3163
         ],
         "y": [
          -19.854300000000002,
          103.8543
         ],
         "z": [
          [
           -3.068999999999999,
           -3.068999999999999
          ],
          [
           -3.068999999999999,
           -3.068999999999999
          ]
         ]
        },
        {
         "colorscale": [
          [
           0,
           "rgb(3, 5, 18)"
          ],
          [
           0.09090909090909091,
           "rgb(25, 25, 51)"
          ],
          [
           0.18181818181818182,
           "rgb(44, 42, 87)"
          ],
          [
           0.2727272727272727,
           "rgb(58, 60, 125)"
          ],
          [
           0.36363636363636365,
           "rgb(62, 83, 160)"
          ],
          [
           0.45454545454545453,
           "rgb(62, 109, 178)"
          ],
          [
           0.5454545454545454,
           "rgb(72, 134, 187)"
          ],
          [
           0.6363636363636364,
           "rgb(89, 159, 196)"
          ],
          [
           0.7272727272727273,
           "rgb(114, 184, 205)"
          ],
          [
           0.8181818181818182,
           "rgb(149, 207, 216)"
          ],
          [
           0.9090909090909091,
           "rgb(192, 229, 232)"
          ],
          [
           1,
           "rgb(234, 252, 253)"
          ]
         ],
         "opacity": 0.1,
         "showscale": false,
         "type": "surface",
         "x": [
          -64.3163,
          -2.683699999999998
         ],
         "y": [
          -19.854300000000002,
          103.8543
         ],
         "z": [
          [
           -63.931,
           -63.931
          ],
          [
           -63.931,
           -63.931
          ]
         ]
        },
        {
         "colorscale": [
          [
           0,
           "rgb(3, 5, 18)"
          ],
          [
           0.09090909090909091,
           "rgb(25, 25, 51)"
          ],
          [
           0.18181818181818182,
           "rgb(44, 42, 87)"
          ],
          [
           0.2727272727272727,
           "rgb(58, 60, 125)"
          ],
          [
           0.36363636363636365,
           "rgb(62, 83, 160)"
          ],
          [
           0.45454545454545453,
           "rgb(62, 109, 178)"
          ],
          [
           0.5454545454545454,
           "rgb(72, 134, 187)"
          ],
          [
           0.6363636363636364,
           "rgb(89, 159, 196)"
          ],
          [
           0.7272727272727273,
           "rgb(114, 184, 205)"
          ],
          [
           0.8181818181818182,
           "rgb(149, 207, 216)"
          ],
          [
           0.9090909090909091,
           "rgb(192, 229, 232)"
          ],
          [
           1,
           "rgb(234, 252, 253)"
          ]
         ],
         "opacity": 0.1,
         "showscale": false,
         "type": "surface",
         "x": [
          -64.3163,
          -2.683699999999998
         ],
         "y": [
          -19.854300000000002,
          103.8543
         ],
         "z": [
          [
           -3.068999999999999,
           -3.068999999999999
          ],
          [
           -3.068999999999999,
           -3.068999999999999
          ]
         ]
        },
        {
         "marker": {
          "color": [
           13.96875,
           11.00390625,
           16.93359375,
           7.05078125,
           13.96875,
           20.88671875,
           15.9453125,
           10.015625,
           9.02734375,
           12.98046875,
           9.02734375,
           8.0390625,
           11.9921875,
           11.00390625,
           14.95703125,
           12.98046875,
           13.96875,
           13.96875,
           8.0390625,
           17.921875,
           14.95703125,
           13.96875,
           17.921875,
           16.93359375,
           17.921875,
           16.93359375,
           18.91015625,
           19.8984375,
           18.91015625,
           18.91015625,
           16.93359375,
           10.015625,
           18.91015625,
           19.8984375,
           19.8984375,
           21.875,
           13.96875,
           21.875,
           21.875,
           20.88671875,
           21.875,
           36.69921875,
           18.91015625,
           21.875,
           22.86328125,
           23.8515625,
           20.88671875,
           13.96875,
           22.86328125,
           21.875,
           21.875,
           32.74609375,
           15.9453125,
           20.88671875,
           20.88671875,
           19.8984375,
           28.79296875,
           11.00390625,
           22.86328125,
           20.88671875,
           21.875,
           21.875,
           13.96875,
           21.875,
           21.875,
           20.88671875,
           20.88671875,
           7.05078125,
           16.93359375,
           22.86328125,
           26.81640625,
           17.921875,
           21.875,
           8.0390625,
           7.05078125,
           23.8515625,
           18.91015625,
           22.86328125,
           22.86328125,
           10.015625,
           24.83984375,
           12.98046875,
           12.98046875,
           10.015625,
           9.02734375,
           7.05078125,
           9.02734375,
           8.0390625,
           20.88671875,
           31.7578125,
           21.875,
           20.88671875,
           14.95703125,
           9.02734375,
           11.00390625,
           9.02734375,
           8.0390625,
           28.79296875,
           10.015625,
           23.8515625,
           36.69921875,
           11.9921875,
           43.6171875,
           23.8515625,
           9.02734375,
           14.95703125,
           19.8984375,
           10.015625,
           12.98046875,
           13.96875,
           10.015625,
           17.921875,
           14.95703125,
           11.9921875,
           14.95703125,
           8.0390625,
           12.98046875,
           8.0390625,
           15.9453125,
           8.0390625,
           14.95703125,
           15.9453125,
           11.00390625,
           12.98046875,
           11.9921875,
           10.015625,
           14.95703125,
           13.96875,
           10.015625,
           15.9453125,
           13.96875,
           8.0390625,
           13.96875,
           9.02734375,
           16.93359375,
           18.91015625,
           8.0390625,
           13.96875,
           10.015625,
           8.0390625,
           29.78125,
           20.88671875,
           21.875,
           23.8515625,
           7.05078125,
           8.0390625,
           14.95703125,
           15.9453125,
           19.8984375,
           19.8984375,
           17.921875,
           12.98046875,
           12.98046875,
           13.96875,
           10.015625,
           17.921875,
           14.95703125,
           13.96875,
           47.5703125,
           9.02734375,
           20.88671875,
           17.921875,
           9.02734375,
           14.95703125,
           12.98046875,
           9.02734375,
           11.9921875,
           8.0390625,
           23.8515625,
           18.91015625,
           20.88671875,
           14.95703125,
           17.921875,
           14.95703125,
           15.9453125,
           17.921875,
           10.015625,
           20.88671875,
           19.8984375,
           10.015625,
           11.9921875,
           11.9921875,
           56.46484375,
           9.02734375,
           26.81640625,
           16.93359375,
           14.95703125,
           20.88671875,
           12.98046875,
           12.98046875,
           19.8984375,
           12.98046875,
           14.95703125,
           14.95703125,
           9.02734375,
           11.00390625,
           18.91015625,
           18.91015625,
           9.02734375,
           9.02734375,
           6.0625,
           12.98046875,
           9.02734375,
           9.02734375,
           8.0390625,
           8.0390625,
           10.015625,
           10.015625,
           11.00390625,
           13.96875,
           17.921875,
           20.88671875,
           20.88671875,
           11.9921875,
           11.00390625,
           11.9921875,
           25.828125,
           22.86328125,
           10.015625,
           15.9453125,
           12.98046875,
           17.921875,
           11.9921875,
           19.8984375,
           11.9921875,
           15.9453125,
           22.86328125,
           23.8515625,
           13.96875,
           9.02734375,
           14.95703125,
           10.015625,
           11.9921875,
           33.734375,
           15.9453125,
           41.640625,
           10.015625,
           11.9921875,
           15.9453125,
           21.875,
           21.875,
           21.875,
           21.875,
           20.88671875,
           21.875,
           20.88671875,
           19.8984375,
           16.93359375,
           18.91015625,
           16.93359375,
           13.96875,
           11.9921875,
           8.0390625,
           22.86328125,
           35.7109375,
           8.0390625,
           19.8984375,
           18.91015625,
           18.91015625,
           19.8984375,
           10.015625,
           11.9921875,
           11.00390625,
           19.8984375,
           25.828125,
           12.98046875,
           23.8515625,
           27.8046875,
           8.0390625,
           16.93359375,
           20.88671875,
           19.8984375,
           13.96875,
           10.015625,
           8.0390625,
           8.0390625,
           11.9921875,
           9.02734375,
           11.9921875,
           10.015625,
           10.015625,
           7.05078125,
           26.81640625,
           15.9453125,
           9.02734375,
           23.8515625,
           10.015625,
           16.93359375,
           18.91015625,
           18.91015625,
           20.88671875,
           15.9453125,
           11.00390625,
           11.9921875,
           18.91015625,
           11.9921875,
           13.96875,
           12.98046875,
           10.015625,
           10.015625,
           8.0390625,
           8.0390625,
           11.00390625,
           28.79296875,
           10.015625,
           8.0390625,
           11.00390625,
           19.8984375,
           10.015625,
           16.93359375,
           10.015625,
           11.00390625,
           11.00390625,
           24.83984375,
           9.02734375,
           28.79296875,
           23.8515625,
           8.0390625,
           20.88671875,
           50.53515625,
           10.015625,
           14.95703125,
           22.86328125,
           11.00390625,
           21.875,
           17.921875,
           14.95703125,
           8.0390625,
           12.98046875,
           11.00390625,
           14.95703125,
           17.921875,
           18.91015625,
           17.921875,
           9.02734375,
           11.00390625,
           11.9921875,
           16.93359375,
           10.015625,
           8.0390625,
           9.02734375,
           9.02734375,
           11.00390625,
           18.91015625,
           9.02734375,
           30.76953125,
           31.7578125,
           8.0390625,
           7.05078125,
           10.015625,
           13.96875,
           9.02734375,
           13.96875,
           11.9921875,
           11.00390625,
           14.95703125,
           11.00390625,
           14.95703125,
           11.9921875,
           10.015625,
           13.96875,
           16.93359375,
           14.95703125,
           9.02734375,
           26.81640625,
           17.921875,
           15.9453125,
           8.0390625,
           16.93359375,
           8.0390625,
           30.76953125,
           7.05078125,
           13.96875,
           37.6875,
           11.9921875,
           34.72265625,
           13.96875,
           11.9921875,
           15.9453125,
           27.8046875,
           8.0390625,
           8.0390625,
           17.921875,
           8.0390625,
           11.9921875,
           14.95703125,
           16.93359375,
           17.921875,
           19.8984375,
           14.95703125,
           8.0390625,
           18.91015625,
           16.93359375,
           14.95703125,
           18.91015625,
           17.921875,
           21.875,
           20.88671875,
           10.015625,
           10.015625,
           17.921875,
           9.02734375,
           6.0625,
           7.05078125,
           11.9921875,
           15.9453125,
           20.88671875,
           11.9921875,
           10.015625,
           20.88671875,
           14.95703125,
           11.9921875,
           13.96875,
           12.98046875,
           11.00390625,
           14.95703125,
           8.0390625,
           11.00390625,
           12.98046875,
           12.98046875,
           8.0390625,
           19.8984375,
           20.88671875,
           9.02734375,
           16.93359375,
           13.96875,
           9.02734375,
           10.015625,
           7.05078125,
           7.05078125,
           9.02734375,
           16.93359375,
           8.0390625,
           15.9453125,
           20.88671875,
           11.00390625,
           11.9921875,
           15.9453125,
           12.98046875,
           11.00390625,
           11.9921875,
           17.921875,
           13.96875,
           7.05078125,
           20.88671875,
           9.02734375,
           13.96875,
           13.96875,
           8.0390625,
           9.02734375,
           14.95703125,
           15.9453125,
           40.65234375,
           11.00390625,
           9.02734375,
           10.015625,
           8.0390625,
           9.02734375,
           7.05078125,
           9.02734375,
           8.0390625,
           11.00390625,
           11.00390625,
           17.921875,
           10.015625,
           11.00390625,
           13.96875,
           30.76953125,
           9.02734375,
           32.74609375,
           9.02734375,
           8.0390625,
           27.8046875,
           14.95703125,
           11.00390625,
           20.88671875,
           8.0390625,
           19.8984375,
           9.02734375,
           18.91015625,
           8.0390625,
           19.8984375,
           8.0390625,
           39.6640625,
           15.9453125,
           20.88671875,
           12.98046875,
           9.02734375,
           7.05078125,
           13.96875,
           8.0390625,
           16.93359375,
           8.0390625,
           17.921875,
           7.05078125,
           9.02734375,
           7.05078125,
           15.9453125,
           10.015625,
           13.96875,
           19.8984375,
           27.8046875,
           19.8984375,
           21.875,
           11.00390625,
           14.95703125,
           10.015625,
           14.95703125,
           12.98046875,
           13.96875,
           11.00390625,
           15.9453125,
           18.91015625,
           6.0625,
           12.98046875,
           11.00390625,
           19.8984375,
           18.91015625,
           11.00390625,
           15.9453125,
           11.00390625,
           9.02734375,
           9.02734375,
           9.02734375,
           9.02734375,
           8.0390625,
           11.9921875,
           8.0390625,
           16.93359375,
           11.00390625,
           7.05078125,
           10.015625,
           15.9453125,
           12.98046875,
           45.59375,
           10.015625,
           11.9921875,
           17.921875,
           16.93359375,
           21.875,
           8.0390625,
           17.921875,
           19.8984375,
           19.8984375,
           13.96875,
           11.00390625,
           17.921875,
           8.0390625,
           15.9453125,
           18.91015625,
           11.00390625,
           23.8515625,
           11.9921875,
           25.828125,
           9.02734375,
           11.00390625,
           9.02734375,
           30.76953125,
           20.88671875,
           18.91015625,
           10.015625,
           11.00390625,
           11.00390625,
           15.9453125,
           34.72265625,
           24.83984375,
           16.93359375,
           11.00390625,
           10.015625,
           15.9453125,
           24.83984375,
           11.00390625,
           14.95703125,
           10.015625,
           10.015625,
           11.00390625,
           41.640625,
           11.00390625,
           27.8046875,
           10.015625,
           20.88671875,
           8.0390625,
           15.9453125,
           11.9921875,
           8.0390625,
           18.91015625,
           21.875,
           6.0625,
           10.015625,
           14.95703125,
           10.015625,
           9.02734375,
           13.96875,
           13.96875,
           8.0390625,
           9.02734375,
           14.95703125,
           29.78125,
           12.98046875,
           6.0625,
           16.93359375,
           24.83984375,
           21.875,
           25.828125,
           9.02734375,
           22.86328125,
           12.98046875,
           7.05078125,
           11.9921875,
           17.921875,
           9.02734375,
           21.875,
           22.86328125,
           10.015625,
           15.9453125,
           8.0390625,
           17.921875,
           8.0390625,
           8.0390625,
           11.9921875,
           10.015625,
           24.83984375,
           26.81640625,
           27.8046875,
           7.05078125
          ],
          "size": 3,
          "symbol": "square"
         },
         "mode": "markers",
         "name": "larpix packets",
         "opacity": 1,
         "showlegend": true,
         "type": "scatter3d",
         "visible": "legendonly",
         "x": [
          62.09930000000001,
          62.09930000000001,
          -38.5991,
          -38.5991,
          -54.5615,
          -28.844299999999997,
          -28.4009,
          -33.2783,
          -35.4953,
          -35.0519,
          -34.60850000000001,
          -34.16510000000001,
          -33.7217,
          -37.712300000000006,
          -37.26890000000001,
          -36.8255,
          -36.3821,
          -35.938700000000004,
          -39.9293,
          -39.4859,
          -39.042500000000004,
          -38.5991,
          -38.1557,
          -41.7029,
          -41.2595,
          -40.8161,
          -40.372699999999995,
          -43.9199,
          -43.4765,
          -43.033100000000005,
          -42.5897,
          -42.1463,
          -46.136900000000004,
          -45.6935,
          -45.250099999999996,
          -44.8067,
          -44.3633,
          -48.353899999999996,
          -47.9105,
          -47.4671,
          -47.0237,
          -46.5803,
          -50.5709,
          -50.1275,
          -49.6841,
          -49.240700000000004,
          -48.7973,
          -52.7879,
          -52.344500000000004,
          -51.9011,
          -51.4577,
          -51.014300000000006,
          -55.0049,
          -54.5615,
          -54.118100000000005,
          -53.67470000000001,
          -53.2313,
          -57.221900000000005,
          -56.77850000000001,
          -56.3351,
          -55.8917,
          -55.448299999999996,
          -59.438900000000004,
          -58.99550000000001,
          -58.552099999999996,
          -58.1087,
          -57.6653,
          -57.221900000000005,
          -61.655899999999995,
          -61.2125,
          -60.7691,
          -60.325700000000005,
          -59.88230000000001,
          -59.438900000000004,
          -63.8729,
          -63.429500000000004,
          -62.9861,
          -62.5427,
          -62.09930000000001,
          -61.655899999999995,
          -64.3163,
          -63.8729,
          14.212099999999998,
          21.7499,
          56.3351,
          2.683699999999999,
          4.013900000000001,
          4.457299999999998,
          50.5709,
          51.014300000000006,
          51.4577,
          51.9011,
          52.344500000000004,
          2.683699999999999,
          3.127099999999996,
          3.127099999999996,
          3.5704999999999982,
          3.5704999999999982,
          4.013900000000001,
          4.013900000000001,
          4.013900000000001,
          4.457299999999998,
          4.457299999999998,
          4.457299999999998,
          4.900699999999995,
          4.900699999999995,
          5.344099999999997,
          5.7875,
          5.7875,
          6.2308999999999966,
          6.2308999999999966,
          6.6742999999999935,
          7.117699999999997,
          7.117699999999997,
          7.561099999999999,
          7.561099999999999,
          8.004499999999997,
          8.004499999999997,
          8.447899999999999,
          8.447899999999999,
          8.891299999999998,
          9.334699999999998,
          9.334699999999998,
          9.778099999999998,
          9.778099999999998,
          10.221499999999997,
          10.221499999999997,
          10.664899999999998,
          10.664899999999998,
          11.108299999999996,
          11.5517,
          11.5517,
          11.995099999999997,
          11.995099999999997,
          12.4385,
          12.881899999999996,
          13.325299999999999,
          13.325299999999999,
          13.768699999999999,
          14.212099999999998,
          49.6841,
          50.1275,
          52.7879,
          53.2313,
          13.325299999999999,
          13.768699999999999,
          14.212099999999998,
          14.655499999999998,
          15.098899999999997,
          15.542300000000001,
          15.9857,
          16.4291,
          16.4291,
          16.8725,
          16.8725,
          17.3159,
          17.7593,
          18.2027,
          18.2027,
          18.646099999999997,
          18.646099999999997,
          19.089499999999997,
          19.5329,
          19.5329,
          19.976300000000002,
          19.976300000000002,
          20.4197,
          20.4197,
          20.8631,
          21.3065,
          21.7499,
          22.1933,
          22.636699999999998,
          23.080099999999998,
          23.5235,
          23.9669,
          24.4103,
          24.4103,
          24.8537,
          25.2971,
          25.2971,
          25.740499999999997,
          25.740499999999997,
          26.1839,
          26.1839,
          26.6273,
          27.0707,
          27.0707,
          27.514099999999996,
          27.514099999999996,
          27.9575,
          28.4009,
          28.4009,
          28.844299999999997,
          28.844299999999997,
          29.287699999999994,
          29.287699999999994,
          29.73109999999999,
          30.174500000000002,
          31.061299999999996,
          35.0519,
          35.0519,
          48.7973,
          53.67470000000001,
          25.740499999999997,
          28.844299999999997,
          30.174500000000002,
          30.6179,
          31.061299999999996,
          31.061299999999996,
          31.504700000000003,
          31.9481,
          32.39149999999999,
          32.83489999999999,
          32.83489999999999,
          33.2783,
          33.2783,
          33.7217,
          34.16510000000001,
          34.16510000000001,
          34.60850000000001,
          34.60850000000001,
          35.0519,
          35.0519,
          35.4953,
          35.4953,
          35.938700000000004,
          36.3821,
          36.8255,
          36.8255,
          37.26890000000001,
          37.26890000000001,
          37.712300000000006,
          37.712300000000006,
          38.1557,
          38.1557,
          38.5991,
          38.5991,
          39.042500000000004,
          39.4859,
          39.9293,
          40.372699999999995,
          40.8161,
          41.2595,
          41.7029,
          42.1463,
          42.5897,
          43.033100000000005,
          43.4765,
          43.9199,
          44.3633,
          44.8067,
          45.250099999999996,
          38.5991,
          39.042500000000004,
          39.042500000000004,
          38.5991,
          39.042500000000004,
          17.7593,
          18.2027,
          25.2971,
          25.740499999999997,
          -16.8725,
          -16.8725,
          -16.4291,
          -16.4291,
          -29.73109999999999,
          -30.174500000000002,
          -29.73109999999999,
          -64.3163,
          -63.8729,
          -63.429500000000004,
          -62.9861,
          -62.5427,
          -62.09930000000001,
          -61.2125,
          -4.457299999999998,
          -62.5427,
          -62.09930000000001,
          -61.655899999999995,
          -61.655899999999995,
          -61.2125,
          -61.2125,
          -60.7691,
          -60.7691,
          -60.325700000000005,
          -59.88230000000001,
          -59.88230000000001,
          -59.438900000000004,
          -58.99550000000001,
          -58.552099999999996,
          -58.1087,
          -57.6653,
          -57.6653,
          -57.221900000000005,
          -56.77850000000001,
          -56.77850000000001,
          -56.3351,
          -55.8917,
          -55.8917,
          -55.448299999999996,
          -52.7879,
          -52.344500000000004,
          -52.344500000000004,
          -51.9011,
          -55.8917,
          -55.448299999999996,
          -55.0049,
          -54.5615,
          -54.5615,
          -54.118100000000005,
          -54.118100000000005,
          -53.67470000000001,
          -53.67470000000001,
          -53.2313,
          -53.2313,
          -53.2313,
          -52.7879,
          -52.7879,
          -52.7879,
          -52.344500000000004,
          -52.344500000000004,
          -52.344500000000004,
          -51.9011,
          -51.9011,
          -51.4577,
          -51.014300000000006,
          -51.014300000000006,
          -50.5709,
          -50.5709,
          -50.1275,
          -50.1275,
          -49.6841,
          -49.6841,
          -49.240700000000004,
          -49.240700000000004,
          -48.7973,
          -48.7973,
          -48.353899999999996,
          -53.2313,
          -52.7879,
          -52.344500000000004,
          -52.344500000000004,
          -52.344500000000004,
          -51.9011,
          -51.9011,
          -51.9011,
          -49.6841,
          -49.240700000000004,
          -48.7973,
          -48.353899999999996,
          -47.9105,
          -47.9105,
          -47.4671,
          -47.4671,
          -47.0237,
          -46.5803,
          -46.5803,
          -46.136900000000004,
          -46.136900000000004,
          -45.6935,
          -45.6935,
          -45.250099999999996,
          -44.8067,
          -44.8067,
          -44.3633,
          -44.3633,
          -43.9199,
          -43.9199,
          -43.4765,
          -43.4765,
          -43.4765,
          -43.033100000000005,
          -43.033100000000005,
          -42.5897,
          -42.5897,
          -42.5897,
          -42.1463,
          -42.1463,
          -42.1463,
          -41.7029,
          -41.7029,
          -41.7029,
          -42.1463,
          -41.7029,
          -41.2595,
          -40.8161,
          -40.372699999999995,
          -39.9293,
          -39.4859,
          -39.4859,
          -39.042500000000004,
          -38.5991,
          -38.1557,
          -37.712300000000006,
          -37.26890000000001,
          -36.8255,
          -36.3821,
          -35.938700000000004,
          -35.938700000000004,
          -35.4953,
          -35.0519,
          -37.712300000000006,
          -35.4953,
          -35.0519,
          -34.60850000000001,
          -34.16510000000001,
          -33.7217,
          -33.7217,
          -33.2783,
          -32.83489999999999,
          -32.39149999999999,
          -32.39149999999999,
          -31.9481,
          -31.9481,
          -31.504700000000003,
          -31.504700000000003,
          -31.061299999999996,
          -31.061299999999996,
          -30.6179,
          -30.6179,
          -30.174500000000002,
          -29.73109999999999,
          -29.287699999999994,
          -29.287699999999994,
          -28.844299999999997,
          -28.4009,
          -28.4009,
          -27.9575,
          -27.514099999999996,
          -27.9575,
          -27.514099999999996,
          -27.0707,
          -27.0707,
          -26.6273,
          -26.1839,
          -26.1839,
          -25.740499999999997,
          -25.2971,
          -25.2971,
          -24.8537,
          -24.8537,
          -24.4103,
          -24.4103,
          -23.9669,
          -23.5235,
          -23.5235,
          -23.080099999999998,
          -23.080099999999998,
          -22.636699999999998,
          -22.636699999999998,
          -22.1933,
          -22.1933,
          -21.7499,
          -21.7499,
          -21.3065,
          -20.8631,
          -20.4197,
          -19.089499999999997,
          -21.3065,
          -20.8631,
          -20.8631,
          -20.4197,
          -20.4197,
          -19.976300000000002,
          -19.976300000000002,
          -19.5329,
          -19.5329,
          -19.089499999999997,
          -19.089499999999997,
          -19.089499999999997,
          -18.646099999999997,
          -18.646099999999997,
          -18.646099999999997,
          -18.2027,
          -18.2027,
          -17.7593,
          -17.7593,
          -17.3159,
          -17.3159,
          -16.8725,
          -16.8725,
          -16.4291,
          -16.4291,
          -15.9857,
          -15.542300000000001,
          -15.098899999999997,
          -14.655499999999998,
          -18.2027,
          -18.2027,
          -17.7593,
          -17.7593,
          -17.3159,
          -17.3159,
          -16.8725,
          -16.4291,
          -15.9857,
          -14.212099999999998,
          -13.768699999999999,
          -13.768699999999999,
          -13.325299999999999,
          -13.325299999999999,
          -12.881899999999996,
          -12.4385,
          -11.995099999999997,
          -11.995099999999997,
          -11.5517,
          -11.5517,
          -11.108299999999996,
          -11.108299999999996,
          -10.664899999999998,
          -10.664899999999998,
          -10.221499999999997,
          -10.221499999999997,
          -9.778099999999998,
          -9.778099999999998,
          -9.334699999999998,
          -8.891299999999998,
          -8.447899999999999,
          -8.447899999999999,
          -8.004499999999997,
          -8.004499999999997,
          -7.561099999999999,
          -7.561099999999999,
          -7.117699999999997,
          -6.6742999999999935,
          -16.8725,
          -16.8725,
          -16.4291,
          -16.4291,
          -15.9857,
          -7.561099999999999,
          -7.561099999999999,
          -7.117699999999997,
          -7.117699999999997,
          -6.6742999999999935,
          -6.6742999999999935,
          -6.2308999999999966,
          -5.7875,
          -5.7875,
          -5.344099999999997,
          -5.344099999999997,
          -4.900699999999995,
          -4.457299999999998,
          -4.013900000000001,
          -4.013900000000001,
          -3.5704999999999982,
          -3.5704999999999982,
          -3.127099999999996,
          -2.683699999999999,
          -15.9857,
          -15.9857,
          -15.542300000000001,
          -15.542300000000001,
          -15.098899999999997,
          -15.098899999999997,
          -15.098899999999997,
          -15.098899999999997,
          -14.655499999999998,
          -14.655499999999998,
          -62.5427,
          -57.221900000000005,
          -56.77850000000001,
          -56.77850000000001,
          -56.77850000000001,
          -38.5991,
          -56.77850000000001,
          -56.77850000000001,
          -56.77850000000001,
          -56.3351,
          -56.3351,
          -50.5709,
          -50.5709,
          -56.3351,
          -55.8917,
          -50.5709,
          -50.5709,
          -50.1275,
          -50.1275,
          -49.6841,
          -49.6841,
          -49.240700000000004,
          -55.8917,
          -55.8917,
          -49.240700000000004,
          -49.240700000000004,
          -48.7973,
          -48.7973,
          -55.8917,
          -55.448299999999996,
          -48.7973,
          -48.7973,
          -48.353899999999996,
          -48.353899999999996,
          -55.448299999999996,
          -55.448299999999996,
          -55.0049,
          -55.0049,
          -55.0049,
          -43.9199,
          -47.4671,
          -47.0237,
          -53.2313,
          -5.7875,
          -39.4859,
          -39.4859,
          -39.4859,
          -39.042500000000004,
          -39.4859,
          -39.4859,
          -39.042500000000004,
          -24.8537,
          -24.8537,
          -24.8537,
          -24.8537,
          -25.2971,
          -24.8537,
          -24.8537,
          -25.740499999999997,
          -25.740499999999997,
          -25.2971,
          -25.2971,
          -25.740499999999997,
          -25.740499999999997,
          -25.2971
         ],
         "y": [
          22.2687,
          22.7121,
          -16.30709999999999,
          -16.30709999999999,
          17.3913,
          42.2217,
          42.2217,
          42.665099999999995,
          43.10850000000001,
          43.10850000000001,
          43.10850000000001,
          43.10850000000001,
          43.10850000000001,
          43.5519,
          43.5519,
          43.5519,
          43.5519,
          43.5519,
          43.9953,
          43.9953,
          43.9953,
          43.9953,
          43.9953,
          44.438700000000004,
          44.438700000000004,
          44.438700000000004,
          44.438700000000004,
          44.8821,
          44.8821,
          44.8821,
          44.8821,
          44.8821,
          45.3255,
          45.3255,
          45.3255,
          45.3255,
          45.3255,
          45.76890000000001,
          45.76890000000001,
          45.76890000000001,
          45.76890000000001,
          45.76890000000001,
          46.212300000000006,
          46.212300000000006,
          46.212300000000006,
          46.212300000000006,
          46.212300000000006,
          46.6557,
          46.6557,
          46.6557,
          46.6557,
          46.6557,
          47.0991,
          47.0991,
          47.0991,
          47.0991,
          47.0991,
          47.542500000000004,
          47.542500000000004,
          47.542500000000004,
          47.542500000000004,
          47.542500000000004,
          47.9859,
          47.9859,
          47.9859,
          47.9859,
          47.9859,
          47.9859,
          48.4293,
          48.4293,
          48.4293,
          48.4293,
          48.4293,
          48.4293,
          48.872699999999995,
          48.872699999999995,
          48.872699999999995,
          48.872699999999995,
          48.872699999999995,
          48.872699999999995,
          49.3161,
          49.3161,
          -18.0807,
          -7.439099999999996,
          4.089300000000003,
          4.976100000000002,
          4.976100000000002,
          4.976100000000002,
          4.976099999999997,
          4.976099999999997,
          4.976099999999997,
          4.976099999999997,
          4.976099999999997,
          5.419500000000005,
          5.419500000000005,
          5.419500000000005,
          5.419500000000005,
          5.419500000000005,
          5.419500000000005,
          5.419500000000005,
          5.419500000000005,
          5.419500000000005,
          5.419500000000005,
          5.419500000000005,
          5.419500000000005,
          5.419500000000005,
          5.419500000000005,
          5.419500000000005,
          5.419500000000005,
          5.419500000000005,
          5.419500000000005,
          5.419500000000005,
          5.419500000000005,
          5.419500000000005,
          5.419500000000005,
          5.419500000000005,
          5.419500000000005,
          5.419500000000005,
          5.419500000000005,
          5.419500000000005,
          5.419500000000005,
          5.419500000000005,
          5.419500000000005,
          5.419500000000005,
          5.419500000000005,
          5.419500000000005,
          5.419500000000005,
          5.419500000000005,
          5.419500000000005,
          5.419500000000005,
          5.419500000000005,
          5.419500000000005,
          5.419500000000005,
          5.419500000000005,
          5.419500000000005,
          5.419500000000005,
          5.419500000000005,
          5.419500000000005,
          5.419500000000005,
          5.419500000000005,
          5.419499999999999,
          5.419499999999999,
          5.419499999999999,
          5.419499999999999,
          5.8629000000000016,
          5.8629000000000016,
          5.8629000000000016,
          5.8629000000000016,
          5.8629000000000016,
          5.8629000000000016,
          5.8629000000000016,
          5.8629000000000016,
          5.8629000000000016,
          5.8629000000000016,
          5.8629000000000016,
          5.8629000000000016,
          5.8629000000000016,
          5.8629000000000016,
          5.8629000000000016,
          5.8629000000000016,
          5.8629000000000016,
          5.8629000000000016,
          5.8629000000000016,
          5.8629000000000016,
          5.8629000000000016,
          5.8629000000000016,
          5.8629000000000016,
          5.8629000000000016,
          5.8629000000000016,
          5.8629000000000016,
          5.8629000000000016,
          5.8629000000000016,
          5.8629000000000016,
          5.8629000000000016,
          5.8629000000000016,
          5.8629000000000016,
          5.8629000000000016,
          5.8629000000000016,
          5.8629000000000016,
          5.8629000000000016,
          5.8629000000000016,
          5.8629000000000016,
          5.8629000000000016,
          5.8629000000000016,
          5.8629000000000016,
          5.8629000000000016,
          5.8629000000000016,
          5.8629000000000016,
          5.8629000000000016,
          5.8629000000000016,
          5.8629000000000016,
          5.8629000000000016,
          5.8629000000000016,
          5.8629000000000016,
          5.8629000000000016,
          5.8629000000000016,
          5.8629000000000016,
          5.8629000000000016,
          5.8629000000000016,
          5.8629000000000016,
          5.8629000000000016,
          5.8629000000000016,
          5.8629000000000016,
          5.8629000000000016,
          6.306300000000005,
          6.306300000000005,
          6.306300000000005,
          6.306300000000005,
          6.306300000000005,
          6.306300000000005,
          6.306300000000005,
          6.306300000000005,
          6.306300000000005,
          6.306300000000005,
          6.306300000000005,
          6.306300000000005,
          6.306300000000005,
          6.3062999999999985,
          6.3062999999999985,
          6.3062999999999985,
          6.3062999999999985,
          6.3062999999999985,
          6.3062999999999985,
          6.3062999999999985,
          6.3062999999999985,
          6.3062999999999985,
          6.3062999999999985,
          6.3062999999999985,
          6.3062999999999985,
          6.3062999999999985,
          6.3062999999999985,
          6.3062999999999985,
          6.3062999999999985,
          6.3062999999999985,
          6.3062999999999985,
          6.3062999999999985,
          6.3062999999999985,
          6.3062999999999985,
          6.3062999999999985,
          6.3062999999999985,
          6.3062999999999985,
          6.3062999999999985,
          6.3062999999999985,
          6.3062999999999985,
          6.3062999999999985,
          6.3062999999999985,
          6.3062999999999985,
          6.3062999999999985,
          6.3062999999999985,
          6.3062999999999985,
          6.3062999999999985,
          6.3062999999999985,
          6.3062999999999985,
          6.749699999999995,
          7.193099999999992,
          7.193099999999992,
          7.636500000000001,
          7.636500000000001,
          -8.3259,
          -8.3259,
          18.7215,
          18.7215,
          -19.410900000000005,
          -19.410900000000005,
          -19.410900000000005,
          -19.410900000000005,
          -18.0807,
          -17.637300000000003,
          -17.637300000000003,
          0.9855000000000018,
          0.9855000000000018,
          0.9855000000000018,
          0.9855000000000018,
          0.9855000000000018,
          0.9855000000000018,
          0.9855000000000018,
          0.9855000000000018,
          1.4289000000000045,
          1.4289000000000045,
          1.4289000000000045,
          1.4289000000000045,
          1.4289000000000045,
          1.4289000000000045,
          1.4289000000000045,
          1.4289000000000045,
          1.4289000000000045,
          1.4289000000000045,
          1.4289000000000045,
          1.4289000000000045,
          1.4289000000000045,
          1.4289000000000045,
          1.4289000000000045,
          1.4289000000000045,
          1.4289000000000045,
          1.4289000000000045,
          1.4289000000000045,
          1.4289000000000045,
          1.4289000000000045,
          1.4289000000000045,
          1.4289000000000045,
          1.4289000000000045,
          1.4289000000000045,
          1.4289000000000045,
          1.4289000000000045,
          1.4289000000000045,
          1.8723000000000014,
          1.8723000000000014,
          1.8723000000000014,
          1.8723000000000014,
          1.8723000000000014,
          1.8723000000000014,
          1.8723000000000014,
          1.8723000000000014,
          1.8723000000000014,
          1.8723000000000014,
          1.8723000000000014,
          1.8723000000000014,
          1.8723000000000014,
          1.8723000000000014,
          1.8723000000000014,
          1.8723000000000014,
          1.8723000000000014,
          1.8723000000000014,
          1.8723000000000014,
          1.8723000000000014,
          1.8723000000000014,
          1.8723000000000014,
          1.8723000000000014,
          1.8723000000000014,
          1.8723000000000014,
          1.8723000000000014,
          1.8723000000000014,
          1.8723000000000014,
          1.8723000000000014,
          1.8723000000000014,
          1.8723000000000014,
          1.8723000000000014,
          1.8723000000000014,
          1.8723000000000014,
          2.315700000000004,
          2.315700000000004,
          2.315700000000004,
          2.315700000000004,
          2.315700000000004,
          2.315700000000004,
          2.315700000000004,
          2.315700000000004,
          2.315700000000004,
          2.315700000000004,
          2.315700000000004,
          2.315700000000004,
          2.315700000000004,
          2.315700000000004,
          2.315700000000004,
          2.315700000000004,
          2.315700000000004,
          2.315700000000004,
          2.315700000000004,
          2.315700000000004,
          2.315700000000004,
          2.315700000000004,
          2.315700000000004,
          2.315700000000004,
          2.315700000000004,
          2.315700000000004,
          2.315700000000004,
          2.315700000000004,
          2.315700000000004,
          2.315700000000004,
          2.315700000000004,
          2.315700000000004,
          2.315700000000004,
          2.315700000000004,
          2.315700000000004,
          2.315700000000004,
          2.315700000000004,
          2.315700000000004,
          2.315700000000004,
          2.315700000000004,
          2.315700000000004,
          2.315700000000004,
          2.315700000000004,
          2.315700000000004,
          2.759100000000001,
          2.759100000000001,
          2.759100000000001,
          2.759100000000001,
          2.759100000000001,
          2.759100000000001,
          2.759100000000001,
          2.759100000000001,
          2.759100000000001,
          2.759100000000001,
          2.759100000000001,
          2.759100000000001,
          2.759100000000001,
          2.759100000000001,
          2.759100000000001,
          2.759100000000001,
          2.759100000000001,
          2.759100000000001,
          2.759100000000001,
          3.2025000000000032,
          3.2025000000000032,
          3.2025000000000032,
          3.2025000000000032,
          3.2025000000000032,
          3.2025000000000032,
          3.2025000000000032,
          3.202499999999998,
          3.202499999999998,
          3.202499999999998,
          3.202499999999998,
          3.202499999999998,
          3.202499999999998,
          3.202499999999998,
          3.202499999999998,
          3.202499999999998,
          3.202499999999998,
          3.202499999999998,
          3.202499999999998,
          3.202499999999998,
          3.202499999999998,
          3.202499999999998,
          3.202499999999998,
          3.202499999999998,
          3.202499999999998,
          3.202499999999998,
          3.202499999999998,
          3.202499999999998,
          3.6459,
          3.6459,
          3.6459,
          3.6459,
          3.6459,
          3.6459,
          3.6459,
          3.6459,
          3.6459,
          3.6459,
          3.6459,
          3.6459,
          3.6459,
          3.6459,
          3.6459,
          3.6459,
          3.6459,
          3.6459,
          3.6459,
          3.6459,
          3.6459,
          3.6459,
          3.6459,
          3.6459,
          3.6459,
          3.6459,
          3.6459,
          3.6459,
          3.6459,
          4.089300000000003,
          4.089300000000003,
          4.089300000000003,
          4.089300000000003,
          4.089300000000003,
          4.089300000000003,
          4.089300000000003,
          4.089300000000003,
          4.089300000000003,
          4.089300000000003,
          4.089300000000003,
          4.089300000000003,
          4.089300000000003,
          4.089300000000003,
          4.089300000000003,
          4.089300000000003,
          4.089300000000003,
          4.089300000000003,
          4.089300000000003,
          4.089300000000003,
          4.089300000000003,
          4.089300000000003,
          4.089300000000003,
          4.089300000000003,
          4.089300000000003,
          4.089300000000003,
          4.089300000000003,
          4.089300000000003,
          4.089300000000003,
          4.5327,
          4.5327,
          4.5327,
          4.5327,
          4.5327,
          4.5327,
          4.5327,
          4.5327,
          4.5327,
          4.5327,
          4.5327,
          4.5327,
          4.5327,
          4.5327,
          4.5327,
          4.5327,
          4.5327,
          4.5327,
          4.5327,
          4.5327,
          4.5327,
          4.5327,
          4.5327,
          4.5327,
          4.5327,
          4.5327,
          4.5327,
          4.5327,
          4.5327,
          4.5327,
          4.5327,
          4.5327,
          4.5327,
          4.5327,
          4.5327,
          4.5327,
          4.5327,
          4.5327,
          4.976099999999997,
          4.976099999999997,
          4.976099999999997,
          4.976099999999997,
          4.976099999999997,
          4.976099999999997,
          4.976099999999997,
          4.976099999999997,
          4.976099999999997,
          4.976099999999997,
          4.976099999999997,
          4.976099999999997,
          4.976099999999997,
          4.976099999999997,
          4.976099999999997,
          4.976099999999997,
          4.976099999999997,
          4.976099999999997,
          4.976099999999997,
          4.976099999999997,
          4.976099999999997,
          4.976099999999997,
          4.976099999999997,
          4.976099999999997,
          5.419499999999999,
          5.419499999999999,
          5.419499999999999,
          5.419499999999999,
          5.419499999999999,
          5.419499999999999,
          5.8629000000000016,
          5.8629000000000016,
          5.8629000000000016,
          5.8629000000000016,
          23.1555,
          -19.854300000000002,
          -19.854300000000002,
          -19.854300000000002,
          -19.854300000000002,
          -19.854300000000002,
          -19.410900000000005,
          -19.410900000000005,
          -18.967499999999994,
          -18.967499999999994,
          -18.524099999999997,
          -18.524099999999997,
          -18.524099999999997,
          -18.0807,
          -18.0807,
          -18.0807,
          -18.0807,
          -18.0807,
          -18.0807,
          -18.0807,
          -18.0807,
          -18.0807,
          -17.637300000000003,
          -17.637300000000003,
          -17.637300000000003,
          -17.637300000000003,
          -17.637300000000003,
          -17.637300000000003,
          -17.193900000000006,
          -17.193900000000006,
          -17.193900000000006,
          -17.193900000000006,
          -17.193900000000006,
          -17.193900000000006,
          -16.7505,
          -16.7505,
          -16.7505,
          -16.7505,
          -16.307100000000002,
          -15.863700000000005,
          -14.090100000000007,
          -14.090100000000007,
          -11.873099999999999,
          -8.3259,
          9.853499999999997,
          10.296899999999994,
          10.296899999999994,
          10.296899999999994,
          10.740300000000001,
          10.740300000000001,
          10.740300000000001,
          47.542500000000004,
          47.9859,
          48.4293,
          48.4293,
          48.872699999999995,
          48.872699999999995,
          48.872699999999995,
          49.3161,
          49.3161,
          49.3161,
          49.3161,
          49.7595,
          49.7595,
          49.7595
         ],
         "z": [
          8.704477262004634,
          8.752370836469263,
          11.610020779525437,
          12.07299199935018,
          11.40248195684538,
          3.021106425535371,
          3.1807516737508,
          2.9412838014276566,
          3.005141900713828,
          2.9572483262491995,
          2.9732128510707425,
          2.9572483262491995,
          2.925319276606114,
          3.069,
          3.005141900713828,
          2.9891773758922855,
          2.9572483262491995,
          3.005141900713828,
          3.1807516737508,
          3.037070950356914,
          3.021106425535371,
          3.021106425535371,
          3.021106425535371,
          3.1009290496430855,
          3.053035475178457,
          3.053035475178457,
          3.037070950356914,
          3.1807516737508,
          3.069,
          3.053035475178457,
          3.148822624107714,
          3.228645248215428,
          3.2446097730369714,
          3.1328580992861714,
          3.148822624107714,
          3.1009290496430855,
          3.260574297858514,
          3.196716198572343,
          3.1807516737508,
          3.1807516737508,
          3.2126807233938854,
          3.084964524821543,
          3.3563614467877714,
          3.2446097730369714,
          3.260574297858514,
          3.196716198572343,
          3.340396921966229,
          3.500042170181657,
          3.324432397144686,
          3.308467872323143,
          3.308467872323143,
          3.2126807233938854,
          3.4521485957170284,
          3.4521485957170284,
          3.3882904964308573,
          3.3882904964308573,
          3.3882904964308573,
          3.6756519432186288,
          3.436184070895486,
          3.372325971609315,
          3.3882904964308573,
          3.547935744646286,
          3.5798647942893718,
          3.4840776453601143,
          3.4840776453601143,
          3.531971219824743,
          3.531971219824743,
          3.5798647942893718,
          3.6117938439324577,
          3.563900269467829,
          3.436184070895486,
          3.4202195460739433,
          3.531971219824743,
          3.8193326666125147,
          3.691616468040172,
          3.6596874183970862,
          3.500042170181657,
          3.563900269467829,
          3.5958293191109147,
          3.643722893575543,
          3.5798647942893718,
          3.7714390921478858,
          -57.162041475665816,
          -39.106163902500825,
          -59.81215259604194,
          -56.587318582090276,
          -57.768693418884446,
          -57.83255151817061,
          -63.10084470927976,
          -63.05295113481513,
          -62.893305886599705,
          -62.877341361778164,
          -62.7815542128489,
          -56.71503478066262,
          -56.74696383030571,
          -56.2999571353025,
          -57.46536744727513,
          -56.63521215655491,
          -57.96026771674296,
          -57.44940292245359,
          -56.874680028878046,
          -57.7527288940629,
          -57.28975767423816,
          -56.842750979234964,
          -57.20993505013045,
          -56.73099930548416,
          -57.066254326736555,
          -57.32168672388125,
          -56.874680028878046,
          -57.3057221990597,
          -56.8587155040565,
          -57.353615773524325,
          -57.49729649691822,
          -57.050289801915014,
          -57.52922554656131,
          -57.0822188515581,
          -57.625012695490554,
          -57.17800600048736,
          -57.672906269955185,
          -57.22589957495198,
          -57.72079984441982,
          -57.83255151817061,
          -57.385544823167415,
          -57.94430319192141,
          -57.49729649691822,
          -58.10394844013685,
          -57.65694174513364,
          -58.07201939049376,
          -57.625012695490554,
          -58.087983915315306,
          -58.16780653942302,
          -57.72079984441982,
          -58.24762916353073,
          -57.800622468527536,
          -58.26359368835227,
          -58.29552273799536,
          -58.59884870960468,
          -58.119912964958395,
          -58.55095513514004,
          -58.80638753228474,
          -63.35627710642446,
          -63.180667333387476,
          -63.08488018445822,
          -63.32434805678137,
          -58.4232389365677,
          -58.56691965996159,
          -58.47113251103233,
          -58.61481323442622,
          -58.646742284069305,
          -58.75849395782011,
          -58.8702456315709,
          -59.06181992942942,
          -58.61481323442622,
          -59.09374897907251,
          -58.646742284069305,
          -59.10971350389404,
          -59.20550065282331,
          -59.572684723718794,
          -59.1256780287156,
          -59.66847187264805,
          -59.15760707835867,
          -59.4290040003249,
          -59.73232997193422,
          -59.221465177644845,
          -59.66847187264805,
          -59.221465177644845,
          -59.74829449675576,
          -59.301287801752565,
          -59.70040092229114,
          -59.73232997193422,
          -59.844081645685016,
          -60.00372689390044,
          -60.03565594354353,
          -60.147407617294334,
          -60.19530119175896,
          -60.24319476622359,
          -60.56248526265445,
          -60.115478567651245,
          -60.37091096479594,
          -60.62634336194062,
          -60.163372142115875,
          -60.897740283906856,
          -60.434769064082104,
          -61.009491957657644,
          -60.530556213011366,
          -60.70616598604833,
          -60.84984670944222,
          -60.402840014439015,
          -60.92966933354993,
          -60.48266263854673,
          -60.8817757590853,
          -61.041421007300734,
          -60.59441431229753,
          -61.05738553212228,
          -60.610378837119086,
          -61.29685340444543,
          -60.817917659799136,
          -61.12124363140845,
          -61.29685340444543,
          -61.424569603017765,
          -61.967363446950216,
          -61.52035675194702,
          -63.452064255353704,
          -63.42013520571062,
          -60.722130510869874,
          -61.23299530515925,
          -61.15317268105154,
          -61.36071150373159,
          -61.53632127676856,
          -61.08931458176536,
          -61.45649865266084,
          -61.50439222712548,
          -61.56825032641164,
          -61.79175367391325,
          -61.34474697891005,
          -61.98332797177177,
          -61.53632127676856,
          -61.7757891490917,
          -62.1429732199872,
          -61.63210842569782,
          -62.17490226963027,
          -61.72789557462708,
          -62.302618468202624,
          -61.82368272355634,
          -62.33454751784571,
          -61.8875408228425,
          -62.17490226963027,
          -62.27068941855954,
          -62.46226371641804,
          -62.01525702141485,
          -62.574015390168846,
          -62.12700869516565,
          -62.79751873767045,
          -62.350512042667255,
          -62.84541231213508,
          -62.39840561713188,
          -62.97312851070742,
          -62.44629919159651,
          -62.79751873767045,
          -62.7815542128489,
          -62.861376836956616,
          -62.893305886599705,
          -63.02102208517205,
          -63.02102208517205,
          -63.11680923410131,
          -63.180667333387476,
          -63.212596383030565,
          -63.26048995749519,
          -63.32434805678137,
          -63.3403125816029,
          -63.40417068088908,
          -63.42013520571062,
          -63.468028780175246,
          -62.909270411421254,
          -63.27645448231674,
          -62.82944778731354,
          -63.27645448231674,
          -63.29241900713828,
          -31.66146395538329,
          -31.8530382532418,
          -22.865010778713163,
          -22.865010778713163,
          -51.877783759735124,
          -51.43077706473192,
          -51.84585471009204,
          -51.398848015088845,
          -35.99308156229997,
          -35.88132988854917,
          -36.088868711229225,
          -45.891086951656554,
          -45.891086951656554,
          -45.98687410058581,
          -46.09862577433661,
          -46.19441292326586,
          -46.25827102255204,
          -46.529667944518266,
          -57.92833866709988,
          -46.25827102255204,
          -46.19441292326586,
          -46.465809845232094,
          -45.97090957576427,
          -46.817029391306036,
          -46.178448398444324,
          -46.48177437005363,
          -46.03476767505043,
          -46.433880795589005,
          -46.817029391306036,
          -46.3221291218382,
          -46.64141961826906,
          -46.753171292019864,
          -46.64141961826906,
          -46.89685201541376,
          -47.072461788450724,
          -46.60949056862598,
          -47.00860368916455,
          -47.21614251184461,
          -46.769135816841406,
          -47.15228441255844,
          -47.423681334524666,
          -46.86492296577067,
          -47.43964585934621,
          -48.38155282381724,
          -48.44541092310341,
          -47.934546128814034,
          -48.14208495149409,
          -47.26403608630924,
          -47.02456821398609,
          -47.29596513595232,
          -47.59929110756163,
          -47.12035536291535,
          -47.63122015720472,
          -47.16824893737998,
          -47.8866525543494,
          -47.391752284881576,
          -48.38155282381724,
          -47.77490088059861,
          -47.32789418559541,
          -48.71680784506964,
          -47.998404228100206,
          -47.55139753309701,
          -48.71680784506964,
          -48.11015590185101,
          -47.63122015720472,
          -48.285765674887976,
          -47.67911373166935,
          -47.934546128814034,
          -48.04629780256484,
          -47.59929110756163,
          -48.15804947631564,
          -47.711042781312436,
          -48.23787210042335,
          -47.79086540542015,
          -48.253836625244894,
          -47.80682993024169,
          -48.46137544792495,
          -47.95051065363558,
          -48.46137544792495,
          -48.014368752921754,
          -48.50926902238958,
          -48.44541092310341,
          -48.44541092310341,
          -48.41348187346033,
          -47.91858160399249,
          -47.4715749089893,
          -48.285765674887976,
          -47.56736205791855,
          -47.12035536291535,
          -48.301730199709525,
          -48.349623774174155,
          -48.33365924935261,
          -48.301730199709525,
          -48.71680784506964,
          -48.17401400113718,
          -48.65294974578346,
          -48.20594305078026,
          -48.668914270605015,
          -48.892417618106606,
          -48.41348187346033,
          -48.892417618106606,
          -48.42944639828187,
          -48.98820476703587,
          -48.541198072032664,
          -48.956275717392785,
          -49.29153073864518,
          -48.81259499399889,
          -49.17977906489438,
          -48.73277236989118,
          -49.56292766061141,
          -48.98820476703587,
          -49.834324582577636,
          -49.211708114537466,
          -48.74873689471273,
          -49.62678575989758,
          -49.17977906489438,
          -49.64275028471913,
          -49.11592096560821,
          -48.668914270605015,
          -49.64275028471913,
          -49.11592096560821,
          -48.62102069614038,
          -49.802395532934554,
          -49.11592096560821,
          -48.46137544792495,
          -49.38731788757444,
          -49.38731788757444,
          -49.499069561325236,
          -49.57889218543295,
          -49.65871480954066,
          -49.69064385918375,
          -49.866253632220726,
          -49.41924693721752,
          -49.88221815704227,
          -49.97800530597152,
          -50.089756979722324,
          -50.089756979722324,
          -50.16957960383004,
          -50.13765055418695,
          -50.24940222793775,
          -50.44097652579627,
          -49.99396983079306,
          -50.153615079008496,
          -50.4888701002609,
          -50.345189376867005,
          -50.696408922940954,
          -50.45694105061781,
          -50.4888701002609,
          -50.50483462508244,
          -50.82412512151329,
          -50.377118426510094,
          -50.74430249740558,
          -50.90394774562101,
          -51.09552204347953,
          -50.64851534847632,
          -51.14341561794415,
          -50.696408922940954,
          -51.14341561794415,
          -50.696408922940954,
          -51.35095444062421,
          -50.90394774562101,
          -51.31902539098113,
          -50.85605417115638,
          -51.271131816516494,
          -51.31902539098113,
          -51.654280412233526,
          -51.19130919240878,
          -51.54252873848272,
          -51.686209461876615,
          -51.23920276687342,
          -51.84585471009204,
          -51.877783759735124,
          -51.686209461876615,
          -51.54252873848272,
          -52.06935805759364,
          -51.52656421366119,
          -51.81392566044896,
          -52.10128710723673,
          -51.654280412233526,
          -52.0533935327721,
          -52.244967830630614,
          -51.7979611356274,
          -52.30882592991678,
          -51.86181923491358,
          -52.30882592991678,
          -51.86181923491358,
          -52.260932355452155,
          -52.580222851883015,
          -52.10128710723673,
          -52.5004002277753,
          -52.0533935327721,
          -52.78776167456307,
          -52.260932355452155,
          -52.80372619938462,
          -52.35671950438141,
          -52.75583262491998,
          -52.30882592991678,
          -52.73986810009844,
          -52.93144239795696,
          -52.963371447600046,
          -53.186874795101645,
          -52.80372619938462,
          -53.0591585965293,
          -52.45250665331067,
          -52.963371447600046,
          -52.516364752596836,
          -53.138981220637014,
          -52.580222851883015,
          -53.21880384474473,
          -52.77179714974153,
          -53.63388149010484,
          -53.01126502206468,
          -52.564258327061474,
          -53.64984601492638,
          -53.07512312135084,
          -52.62811642634764,
          -53.45827171706787,
          -53.01126502206468,
          -53.761597688677185,
          -53.107052170993924,
          -53.80949126314181,
          -53.154945745458555,
          -53.93720746171416,
          -53.26669741920936,
          -53.93720746171416,
          -53.426342667424784,
          -53.55405886599713,
          -53.53809434117559,
          -53.36248456813861,
          -53.8414203127849,
          -53.426342667424784,
          -52.64408095116919,
          -53.52212981635404,
          -52.67601000081227,
          -53.5061652915325,
          -52.73986810009844,
          -53.55405886599713,
          -53.8414203127849,
          -53.80949126314181,
          -53.681775064569464,
          -54.032994610643414,
          -53.58598791564022,
          -54.09685270992959,
          -53.64984601492638,
          -53.98510103617879,
          -54.032994610643414,
          -54.36824963189581,
          -53.92124293689261,
          -54.44807225600353,
          -53.9531719865357,
          -54.432107731181986,
          -53.98510103617879,
          -54.54385940493279,
          -54.09685270992959,
          -54.44807225600353,
          -53.394413617781694,
          -54.65561107868359,
          -54.20860438368038,
          -54.57578845457588,
          -54.63964655386204,
          -54.83122085172056,
          -54.38421415671736,
          -54.86314990136365,
          -54.416143206360445,
          -55.24629849708067,
          -54.5119303552897,
          -55.565588993511525,
          -55.182440397794494,
          -52.99530049724312,
          -52.516364752596836,
          -52.851619773849244,
          -52.40461307884605,
          -52.72390357527691,
          -55.37401469565301,
          -54.68754012832667,
          -55.358050170831476,
          -54.91104347582827,
          -55.15051134815142,
          -54.68754012832667,
          -55.070688724043706,
          -55.278227546723755,
          -54.83122085172056,
          -55.629447092797704,
          -55.022795149579075,
          -55.326121121188386,
          -55.4059437452961,
          -55.58155351833307,
          -55.13454682332987,
          -55.629447092797704,
          -55.182440397794494,
          -55.67734066726233,
          -55.72523424172696,
          -52.819690724206154,
          -52.37268402920296,
          -52.62811642634764,
          -52.18110973134444,
          -52.548293802239925,
          -51.7979611356274,
          -52.3886485540245,
          -51.84585471009204,
          -52.42057760366758,
          -51.973570908664385,
          -57.32168672388125,
          -16.830420396169956,
          -16.6228815734899,
          -17.085852793314643,
          -17.59671758760401,
          -11.115120510057608,
          -16.654810623132985,
          -17.101817318136185,
          -16.782526821705325,
          -16.830420396169956,
          -16.654810623132985,
          -13.254366836144351,
          -13.813125204898352,
          -16.766562296883784,
          -16.543058949382186,
          -13.094721587928921,
          -13.605586382218295,
          -12.982969914178124,
          -13.477870183645951,
          -12.85525371560578,
          -13.350153985073609,
          -13.270331360965894,
          -16.52709442456064,
          -16.974101119563844,
          -12.583856793639551,
          -13.110686112750466,
          -12.599821318461094,
          -13.046828013464296,
          -16.447271800452928,
          -16.68673967277607,
          -12.376317970959494,
          -12.982969914178124,
          -12.424211545424123,
          -12.871218240427321,
          -16.495165374917555,
          -17.0698882684931,
          -16.63884609831144,
          -17.085852793314643,
          -16.990065644385385,
          -8.449044864859948,
          -8.896051559863148,
          -8.832193460576978,
          -8.62465463789692,
          -31.230421785201628,
          -13.605586382218295,
          -13.270331360965894,
          -13.717338055969094,
          -13.334189460252066,
          -13.41401208435978,
          -13.861018779362983,
          -13.493834708467494,
          -17.612682112425556,
          -17.500930438674757,
          -17.165675417422356,
          -17.628646637247098,
          -16.91024302027767,
          -17.181639942243898,
          -17.628646637247098,
          -16.590952523846813,
          -17.085852793314643,
          -16.670775147954526,
          -17.245498041530073,
          -16.57498799902527,
          -17.02199469402847,
          -16.6228815734899
         ]
        },
        {
         "mode": "lines",
         "name": "edep segments",
         "showlegend": true,
         "type": "scatter3d",
         "visible": "legendonly",
         "x": [
          -57.753326416015625,
          -57.726646423339844,
          null,
          -50.7025032043457,
          -50.702327728271484,
          null,
          -51.92179870605469,
          -51.921791076660156,
          null,
          -62.49777603149414,
          -62.42673110961914,
          null,
          12.557831764221191,
          12.540748596191406,
          null,
          -64.27275848388672,
          -64.27365112304688,
          null,
          -43.82344436645508,
          -43.77937316894531,
          null,
          -46.08298873901367,
          -46.08305358886719,
          null,
          -44.351524353027344,
          -44.35152816772461,
          null,
          -43.657508850097656,
          -43.65748977661133,
          null,
          -43.38004684448242,
          -43.37996292114258,
          null,
          -46.66221237182617,
          -46.66221237182617,
          null,
          -48.11458206176758,
          -48.11468505859375,
          null,
          -48.19806671142578,
          -48.19821548461914,
          null,
          -47.24107360839844,
          -47.24107360839844,
          null,
          -45.49659729003906,
          -45.496463775634766,
          null,
          -46.98096466064453,
          -46.98103332519531,
          null,
          -24.920883178710938,
          -24.92087745666504,
          null,
          -15.000948905944824,
          -15.000951766967773,
          null,
          -14.999005317687988,
          -14.999003410339355,
          null,
          -16.0629940032959,
          -16.063159942626953,
          null,
          -14.637224197387695,
          -14.636321067810059,
          null,
          -22.957077026367188,
          -22.957088470458984,
          null,
          -25.276973724365234,
          -25.27794075012207,
          null,
          -29.069074630737305,
          -29.0982723236084,
          null,
          -16.171815872192383,
          -16.136043548583984,
          null,
          -45.135955810546875,
          -45.181678771972656,
          null,
          -33.43257522583008,
          -33.38290786743164,
          null,
          -44.550052642822266,
          -44.56319808959961,
          null,
          -44.83158874511719,
          -44.850196838378906,
          null,
          -29.58938980102539,
          -29.599510192871094,
          null,
          -28.31072425842285,
          -28.310836791992188,
          null,
          -27.89218521118164,
          -27.8900203704834,
          null,
          -30.759666442871094,
          -30.762527465820312,
          null,
          -29.833776473999023,
          -29.848474502563477,
          null,
          -29.848474502563477,
          -29.935504913330078,
          null,
          -29.935504913330078,
          -30.066795349121094,
          null,
          -30.066795349121094,
          -30.16573143005371,
          null,
          -30.16573143005371,
          -30.14754295349121,
          null,
          -4.327244281768799,
          -4.308150291442871,
          null,
          -17.116153717041016,
          -16.880352020263672,
          null,
          -16.880352020263672,
          -16.7275390625,
          null,
          -16.7275390625,
          -16.480878829956055,
          null,
          -16.480878829956055,
          -16.337987899780273,
          null,
          -16.337987899780273,
          -16.280683517456055,
          null,
          -16.280683517456055,
          -16.25963592529297,
          null,
          -16.18232536315918,
          -16.208351135253906,
          null,
          -12.4135160446167,
          -12.413276672363281,
          null,
          -15.864765167236328,
          -15.863242149353027,
          null,
          14.4209566116333,
          14.456266403198242,
          null,
          11.437172889709473,
          11.437175750732422,
          null,
          5.4072585105896,
          5.4070820808410645,
          null,
          5.618933200836182,
          5.619051456451416,
          null,
          24.245845794677734,
          24.21647071838379,
          null,
          14.138998031616211,
          14.21643352508545,
          null,
          8.541301727294922,
          8.555256843566895,
          null,
          15.307631492614746,
          15.307641983032227,
          null,
          9.600614547729492,
          9.6005277633667,
          null,
          13.504599571228027,
          13.504598617553711,
          null,
          9.919965744018555,
          9.913408279418945,
          null,
          13.9439115524292,
          13.990738868713379,
          null,
          7.866942882537842,
          7.866908550262451,
          null,
          8.088183403015137,
          8.088273048400879,
          null,
          5.23914098739624,
          5.238502025604248,
          null,
          12.723625183105469,
          12.723657608032227,
          null,
          15.38200855255127,
          15.382094383239746,
          null,
          15.433313369750977,
          15.433778762817383,
          null,
          -22.00321388244629,
          -22.003368377685547,
          null,
          16.15608024597168,
          16.156099319458008,
          null,
          48.78946304321289,
          48.740962982177734,
          null,
          49.49813461303711,
          49.49911117553711,
          null,
          48.06250762939453,
          48.062904357910156,
          null,
          35.133792877197266,
          35.1336555480957,
          null,
          33.15102767944336,
          33.15109634399414,
          null,
          25.55152130126953,
          25.5550594329834,
          null,
          25.5550594329834,
          25.471593856811523,
          null,
          13.020084381103516,
          12.983513832092285,
          null,
          13.144335746765137,
          13.144339561462402,
          null,
          15.182076454162598,
          15.181811332702637,
          null,
          16.286897659301758,
          16.286785125732422,
          null,
          22.421146392822266,
          22.421260833740234,
          null,
          21.929916381835938,
          21.967708587646484,
          null,
          -57.835777282714844,
          -57.868709564208984,
          null,
          -57.687015533447266,
          -57.687015533447266,
          null,
          17.624103546142578,
          17.7802734375,
          null,
          17.7802734375,
          18.009870529174805,
          null,
          18.009870529174805,
          18.06810760498047,
          null,
          18.06810760498047,
          18.06820297241211,
          null,
          -6.1204915046691895,
          -5.954504013061523,
          null,
          -5.954504013061523,
          -5.836205959320068,
          null,
          -5.836205959320068,
          -5.765785217285156,
          null,
          -38.63773727416992,
          -38.63774108886719,
          null,
          -38.420772552490234,
          -38.420711517333984,
          null,
          -38.55352783203125,
          -38.46445846557617,
          null,
          -38.46445846557617,
          -38.461917877197266,
          null,
          -61.495262145996094,
          -61.4837646484375,
          null,
          -64.12505340576172,
          -64.12606811523438,
          null,
          -55.288387298583984,
          -55.26953125,
          null,
          -50.76460647583008,
          -50.00996398925781,
          null,
          -50.00996398925781,
          -49.37955093383789,
          null,
          -49.37955093383789,
          -48.99838638305664,
          null,
          -48.99838638305664,
          -48.6972770690918,
          null,
          -48.6972770690918,
          -48.64641189575195,
          null,
          -48.64641189575195,
          -48.57277297973633,
          null,
          -48.57277297973633,
          -48.47467041015625,
          null,
          -48.47467041015625,
          -48.43244171142578,
          null,
          -38.470054626464844,
          -38.470008850097656,
          null,
          -42.262088775634766,
          -42.26209259033203,
          null,
          -46.64566421508789,
          -46.64498519897461,
          null,
          -56.7214469909668,
          -56.7214241027832,
          null,
          -59.078983306884766,
          -59.079017639160156,
          null,
          -60.051170349121094,
          -60.05989456176758,
          null,
          -48.14945983886719,
          -48.14498519897461,
          null,
          -48.578182220458984,
          -48.57830810546875,
          null,
          -47.92230987548828,
          -47.900638580322266,
          null,
          -50.76460647583008,
          -50.511592864990234,
          null,
          -50.511592864990234,
          -50.32682800292969,
          null,
          -50.32682800292969,
          -50.42409896850586,
          null,
          -50.42409896850586,
          -50.48588180541992,
          null,
          -50.37089538574219,
          -50.37489700317383,
          null,
          -50.03632354736328,
          -50.036285400390625,
          null,
          -52.04916763305664,
          -52.049171447753906,
          null,
          -53.229190826416016,
          -53.22919845581055,
          null,
          -54.26884460449219,
          -54.268863677978516,
          null,
          -55.498130798339844,
          -55.49802780151367,
          null,
          -60.85044479370117,
          -60.85329818725586,
          null,
          -59.77727127075195,
          -59.76988983154297,
          null,
          -57.04683303833008,
          -57.07159423828125,
          null,
          -54.22573471069336,
          -54.225738525390625,
          null,
          -48.53904724121094,
          -48.53904342651367,
          null,
          -48.18614959716797,
          -48.18568801879883,
          null,
          -53.87084197998047,
          -53.86482238769531,
          null,
          -54.15013885498047,
          -54.15012741088867,
          null,
          -54.594207763671875,
          -54.594398498535156,
          null,
          -53.663665771484375,
          -53.66341018676758,
          null,
          -53.074188232421875,
          -53.074161529541016,
          null,
          -52.526695251464844,
          -52.52666091918945,
          null,
          -52.748783111572266,
          -52.748779296875,
          null,
          -58.12242126464844,
          -58.12544250488281,
          null,
          -57.91539764404297,
          -57.917049407958984,
          null,
          -57.50733184814453,
          -57.50709533691406,
          null,
          -57.005615234375,
          -57.006229400634766,
          null,
          -53.47645950317383,
          -53.364158630371094,
          null,
          -53.364158630371094,
          -53.42298126220703,
          null,
          -57.5659294128418,
          -57.08588409423828,
          null,
          -57.08588409423828,
          -56.82383346557617,
          null,
          -56.82383346557617,
          -56.625064849853516,
          null,
          -56.625064849853516,
          -56.258819580078125,
          null,
          -56.258819580078125,
          -56.04511642456055,
          null,
          -56.04511642456055,
          -55.78744888305664,
          null,
          -55.78744888305664,
          -55.53862380981445,
          null,
          -55.53862380981445,
          -55.24305725097656,
          null,
          -55.24305725097656,
          -55.05805587768555,
          null,
          -55.05805587768555,
          -54.973812103271484,
          null,
          -54.973812103271484,
          -54.895423889160156,
          null,
          -54.895423889160156,
          -54.92424774169922,
          null,
          -24.857839584350586,
          -24.80170440673828,
          null,
          -2.594980239868164,
          -2.5949766635894775,
          null,
          -2.96199369430542,
          -2.961388111114502,
          null,
          -6.364643096923828,
          -6.364655494689941,
          null,
          -17.770774841308594,
          -17.7742919921875,
          null,
          -16.76096534729004,
          -16.749414443969727,
          null,
          -21.517353057861328,
          -21.47319984436035,
          null,
          -23.06092071533203,
          -23.06119728088379,
          null,
          -22.798086166381836,
          -22.797121047973633,
          null,
          -35.942161560058594,
          -35.949337005615234,
          null,
          -32.75954818725586,
          -32.76143264770508,
          null,
          -31.27073860168457,
          -31.270965576171875,
          null,
          -24.857839584350586,
          -24.682044982910156,
          null,
          -24.682044982910156,
          -25.06447410583496,
          null,
          -25.06447410583496,
          -25.3093204498291,
          null,
          -25.3093204498291,
          -25.603458404541016,
          null,
          -25.603458404541016,
          -25.72223472595215,
          null,
          -25.72223472595215,
          -25.611268997192383,
          null,
          -25.611268997192383,
          -25.634241104125977,
          null,
          -25.634241104125977,
          -25.59588050842285,
          null,
          -25.59588050842285,
          -25.585416793823242,
          null,
          -25.3145694732666,
          -25.335569381713867,
          null,
          -26.605323791503906,
          -26.590932846069336,
          null,
          -27.37238121032715,
          -27.37237548828125,
          null,
          -27.77748680114746,
          -27.777549743652344,
          null,
          -28.937501907348633,
          -28.936933517456055,
          null,
          -30.46342658996582,
          -30.463470458984375,
          null,
          -36.59906005859375,
          -36.595069885253906,
          null,
          -37.265655517578125,
          -37.265594482421875,
          null,
          -37.394710540771484,
          -37.39549255371094,
          null,
          -38.57711410522461,
          -38.54798889160156,
          null,
          -39.47799301147461,
          -39.30867004394531,
          null,
          -39.30867004394531,
          -39.249210357666016,
          null,
          -39.249210357666016,
          -39.32207107543945,
          null,
          -39.32207107543945,
          -39.46731185913086,
          null,
          -39.46731185913086,
          -39.4836311340332,
          null,
          -41.634525299072266,
          -41.679176330566406,
          null,
          -49.1196174621582,
          -49.103004455566406,
          null,
          -54.05712890625,
          -54.05693817138672,
          null,
          -39.2166748046875,
          -39.23637008666992,
          null,
          -37.51996994018555,
          -37.519962310791016,
          null,
          -33.0394287109375,
          -33.038917541503906,
          null,
          -41.265281677246094,
          -41.265140533447266,
          null,
          -52.21495819091797,
          -52.215030670166016,
          null,
          -54.477840423583984,
          -54.50689697265625,
          null,
          -53.17610549926758,
          -53.176109313964844,
          null,
          -52.32079315185547,
          -52.31935501098633,
          null,
          -56.532989501953125,
          -56.532920837402344,
          null,
          -41.64434051513672,
          -41.59906005859375,
          null,
          -54.50922393798828,
          -54.50932693481445,
          null,
          -56.3637809753418,
          -56.364070892333984,
          null,
          -51.41693878173828,
          -51.41694259643555,
          null,
          -54.56479263305664,
          -54.58620071411133,
          null,
          -56.547080993652344,
          -56.674259185791016,
          null,
          -56.674259185791016,
          -56.64610290527344,
          null,
          -56.64610290527344,
          -56.743831634521484,
          null,
          -56.743831634521484,
          -56.7498664855957,
          null,
          -56.921688079833984,
          -56.9483642578125,
          null,
          -55.68098068237305,
          -55.640804290771484,
          null,
          -45.18559646606445,
          -45.183753967285156,
          null,
          -42.502220153808594,
          -42.47934341430664,
          null,
          -49.73826599121094,
          -49.76726150512695,
          null,
          -38.72150802612305,
          -38.585758209228516,
          null,
          -38.585758209228516,
          -38.55415344238281,
          null,
          -41.088104248046875,
          -41.087589263916016,
          null,
          -44.06133270263672,
          -44.06275177001953,
          null,
          -43.77607345581055,
          -43.71873092651367,
          null,
          -47.402549743652344,
          -47.28301239013672,
          null,
          -47.28301239013672,
          -47.147769927978516,
          null,
          -47.147769927978516,
          -47.15011215209961,
          null,
          62.87055587768555,
          62.8770637512207,
          null,
          -65.5,
          -64.36064147949219,
          null,
          -64.36064147949219,
          -61.58746337890625,
          null,
          -61.58746337890625,
          -60.842105865478516,
          null,
          -60.842105865478516,
          -53.17921447753906,
          null,
          -53.17921447753906,
          -51.09549331665039,
          null,
          -51.09549331665039,
          -46.55840301513672,
          null,
          -46.55840301513672,
          -36.366600036621094,
          null,
          -36.366600036621094,
          -29.11695671081543,
          null,
          58.152381896972656,
          58.201454162597656,
          null,
          58.22447967529297,
          58.22499465942383,
          null,
          53.935420989990234,
          53.93543243408203,
          null,
          52.90333557128906,
          52.928627014160156,
          null,
          51.199954986572266,
          51.19970703125,
          null,
          62.44012451171875,
          62.44053649902344,
          null,
          62.33344650268555,
          62.3336296081543,
          null,
          61.67520523071289,
          61.673187255859375,
          null,
          61.938846588134766,
          61.95839309692383,
          null,
          32.6729621887207,
          32.6666259765625,
          null,
          33.548030853271484,
          33.54383850097656,
          null,
          43.552879333496094,
          43.5528564453125,
          null,
          58.54689407348633,
          58.547000885009766,
          null,
          61.96036148071289,
          62.073604583740234,
          null,
          62.073604583740234,
          62.08439254760742,
          null,
          -21.98281478881836,
          -22.021085739135742,
          null,
          -21.758955001831055,
          -21.758888244628906,
          null,
          -21.139856338500977,
          -21.139484405517578,
          null,
          -21.443220138549805,
          -21.44318962097168,
          null,
          -22.093881607055664,
          -22.093883514404297,
          null,
          -29.11695671081543,
          -28.885181427001953,
          null,
          -28.885181427001953,
          -28.71595001220703,
          null,
          -28.71595001220703,
          -28.650142669677734,
          null,
          -28.650142669677734,
          -28.490816116333008,
          null,
          -28.490816116333008,
          -28.49114227294922,
          null,
          -36.366600036621094,
          -36.11973190307617,
          null,
          -46.55840301513672,
          -46.47920608520508,
          null,
          -46.47920608520508,
          -46.5140495300293,
          null,
          -51.09549331665039,
          -51.02864074707031,
          null,
          -53.17921447753906,
          -53.15568923950195,
          null,
          -60.842105865478516,
          -60.803462982177734,
          null,
          -61.58746337890625,
          -61.575714111328125,
          null,
          -64.36064147949219,
          -64.3008041381836,
          null,
          -29.76699447631836,
          -29.766990661621094,
          null,
          -43.1383056640625,
          -43.123878479003906,
          null,
          60.760990142822266,
          60.71561050415039,
          null,
          -52.531673431396484,
          -52.53119659423828,
          null,
          8.994141578674316,
          8.994140625,
          null,
          6.755476474761963,
          6.755574703216553,
          null,
          6.62212610244751,
          6.6201653480529785,
          null,
          9.453384399414062,
          9.457666397094727,
          null,
          9.439568519592285,
          9.439559936523438,
          null,
          9.436750411987305,
          9.436973571777344,
          null,
          -40.983829498291016,
          -40.96127700805664,
          null,
          -43.26881790161133,
          -43.26858901977539,
          null,
          -46.966739654541016,
          -46.96657943725586,
          null,
          -48.25511169433594,
          -48.255706787109375,
          null,
          -50.80861282348633,
          -50.80869674682617,
          null,
          -51.24243927001953,
          -51.242401123046875,
          null,
          5.541111469268799,
          5.542280673980713,
          null,
          5.385291576385498,
          5.385305404663086,
          null,
          -65.5,
          -61.09054946899414,
          null,
          -61.09054946899414,
          -54.772987365722656,
          null,
          -54.772987365722656,
          -53.605812072753906,
          null,
          -53.605812072753906,
          -53.043514251708984,
          null,
          -53.043514251708984,
          -52.80058670043945,
          null,
          -52.80058670043945,
          -51.830223083496094,
          null,
          -51.830223083496094,
          -49.944366455078125,
          null,
          -49.944366455078125,
          -49.66850280761719,
          null,
          -49.66850280761719,
          -48.80555725097656,
          null,
          -48.80555725097656,
          -45.678672790527344,
          null,
          -45.678672790527344,
          -44.71377182006836,
          null,
          -44.71377182006836,
          -44.35346603393555,
          null,
          -44.35346603393555,
          -43.6057014465332,
          null,
          -43.6057014465332,
          -35.64180374145508,
          null,
          -35.64180374145508,
          -25.055173873901367,
          null,
          -25.055173873901367,
          -22.25914192199707,
          null,
          -22.25914192199707,
          -20.52176284790039,
          null,
          -20.52176284790039,
          -19.67303466796875,
          null,
          -19.67303466796875,
          -16.617795944213867,
          null,
          -16.617795944213867,
          -13.47545051574707,
          null,
          -13.47545051574707,
          -7.563286781311035,
          null,
          -7.563286781311035,
          -5.758875370025635,
          null,
          -5.758875370025635,
          -3.5504140853881836,
          null,
          -3.5504140853881836,
          -2.298459529876709,
          null,
          1.5,
          3.651745557785034,
          null,
          3.651745557785034,
          6.881218910217285,
          null,
          6.881218910217285,
          18.235654830932617,
          null,
          18.235654830932617,
          18.438581466674805,
          null,
          18.438581466674805,
          21.02322006225586,
          null,
          21.02322006225586,
          24.54361915588379,
          null,
          24.54361915588379,
          25.628061294555664,
          null,
          25.628061294555664,
          25.850698471069336,
          null,
          25.850698471069336,
          26.952043533325195,
          null,
          26.952043533325195,
          29.115333557128906,
          null,
          29.115333557128906,
          30.86515998840332,
          null,
          30.86515998840332,
          33.25834274291992,
          null,
          33.25834274291992,
          34.7538948059082,
          null,
          34.7538948059082,
          37.47951126098633,
          null,
          37.47951126098633,
          38.12276840209961,
          null,
          38.12276840209961,
          46.52097702026367,
          null,
          47.85026550292969,
          49.805564880371094,
          null,
          49.805564880371094,
          49.80565643310547,
          null,
          49.80565643310547,
          50.8185920715332,
          null,
          50.8185920715332,
          52.140743255615234,
          null,
          52.140743255615234,
          53.14775466918945,
          null,
          53.14775466918945,
          53.883811950683594,
          null,
          53.883811950683594,
          54.287437438964844,
          null,
          62.69674301147461,
          62.692298889160156,
          null,
          63.4661865234375,
          63.466304779052734,
          null,
          50.8185920715332,
          50.86019515991211,
          null,
          49.80565643310547,
          49.82624053955078,
          null,
          49.8344841003418,
          49.83444595336914,
          null,
          33.22026824951172,
          33.17710876464844,
          null,
          49.689170837402344,
          49.689022064208984,
          null,
          54.449710845947266,
          54.45114517211914,
          null,
          56.20785903930664,
          56.26605987548828,
          null,
          48.80448532104492,
          48.803062438964844,
          null,
          48.819149017333984,
          48.81886291503906,
          null,
          54.116615295410156,
          54.104034423828125,
          null,
          54.7540397644043,
          54.7545280456543,
          null,
          49.304508209228516,
          49.30450439453125,
          null,
          38.12276840209961,
          38.16145324707031,
          null,
          38.1750602722168,
          38.1861457824707,
          null,
          37.47951126098633,
          38.03063201904297,
          null,
          38.03063201904297,
          38.63894271850586,
          null,
          38.63894271850586,
          39.006256103515625,
          null,
          39.006256103515625,
          39.05265808105469,
          null,
          39.05265808105469,
          39.089298248291016,
          null,
          39.089298248291016,
          38.94274139404297,
          null,
          38.94274139404297,
          38.76683807373047,
          null,
          38.76683807373047,
          38.73883056640625,
          null,
          38.73883056640625,
          38.73595428466797,
          null,
          39.05265808105469,
          39.12156677246094,
          null,
          39.12156677246094,
          39.1265754699707,
          null,
          34.7538948059082,
          34.90089416503906,
          null,
          34.90089416503906,
          34.87732696533203,
          null,
          34.87732696533203,
          34.86736297607422,
          null,
          33.25834274291992,
          33.31816864013672,
          null,
          30.86515998840332,
          30.919782638549805,
          null,
          29.115333557128906,
          29.12885093688965,
          null,
          26.952043533325195,
          27.003414154052734,
          null,
          25.850698471069336,
          25.863014221191406,
          null,
          34.489715576171875,
          34.50962829589844,
          null,
          37.26295852661133,
          37.30930709838867,
          null,
          36.80058288574219,
          36.800575256347656,
          null,
          25.628061294555664,
          25.891569137573242,
          null,
          25.891569137573242,
          25.997604370117188,
          null,
          25.73723602294922,
          25.76474380493164,
          null,
          24.54361915588379,
          24.565357208251953,
          null,
          21.02322006225586,
          21.03542709350586,
          null,
          18.438581466674805,
          18.466123580932617,
          null,
          18.275171279907227,
          18.323131561279297,
          null,
          18.323131561279297,
          18.31998062133789,
          null,
          18.235654830932617,
          18.264917373657227,
          null,
          6.881218910217285,
          6.900338649749756,
          null,
          3.651745557785034,
          4.136848449707031,
          null,
          4.136848449707031,
          4.5201616287231445,
          null,
          4.5201616287231445,
          4.501637935638428,
          null,
          4.501637935638428,
          4.266525745391846,
          null,
          4.266525745391846,
          4.194027423858643,
          null,
          4.194027423858643,
          4.160246849060059,
          null,
          2.712773561477661,
          2.7127816677093506,
          null,
          4.501637935638428,
          4.498805999755859,
          null,
          -3.5504140853881836,
          -3.5393216609954834,
          null,
          -5.758875370025635,
          -5.707003116607666,
          null,
          -7.563286781311035,
          -7.304871559143066,
          null,
          -7.304871559143066,
          -7.247350215911865,
          null,
          -7.247350215911865,
          -7.144434452056885,
          null,
          -7.144434452056885,
          -7.2231292724609375,
          null,
          -7.2231292724609375,
          -7.23020601272583,
          null,
          -13.47545051574707,
          -13.37165355682373,
          null,
          -13.37165355682373,
          -13.414270401000977,
          null,
          -16.617795944213867,
          -16.525432586669922,
          null,
          -16.525432586669922,
          -16.48859214782715,
          null,
          -16.48859214782715,
          -16.490497589111328,
          null,
          -19.67303466796875,
          -19.413278579711914,
          null,
          -19.413278579711914,
          -17.78923988342285,
          null,
          -17.78923988342285,
          -17.12787437438965,
          null,
          -17.12787437438965,
          -16.4508056640625,
          null,
          -16.4508056640625,
          -16.185617446899414,
          null,
          -16.185617446899414,
          -15.513252258300781,
          null,
          -15.513252258300781,
          -15.147459030151367,
          null,
          -15.147459030151367,
          -15.018747329711914,
          null,
          -15.018747329711914,
          -14.838634490966797,
          null,
          -14.838634490966797,
          -14.639589309692383,
          null,
          -14.639589309692383,
          -14.626251220703125,
          null,
          -14.626251220703125,
          -14.647331237792969,
          null,
          -15.018747329711914,
          -14.983750343322754,
          null,
          -15.020112037658691,
          -15.013239860534668,
          null,
          -21.3760986328125,
          -21.382953643798828,
          null,
          -21.321434020996094,
          -21.321487426757812,
          null,
          -13.419827461242676,
          -13.4197359085083,
          null,
          -13.532249450683594,
          -13.532425880432129,
          null,
          -11.622506141662598,
          -11.619675636291504,
          null,
          -3.721327066421509,
          -3.7040560245513916,
          null,
          -4.869065761566162,
          -4.871079921722412,
          null,
          -4.882455825805664,
          -4.8628692626953125,
          null,
          -15.374627113342285,
          -15.411090850830078,
          null,
          -9.677757263183594,
          -9.671955108642578,
          null,
          -10.88828182220459,
          -10.888832092285156,
          null,
          -10.92628288269043,
          -10.92306137084961,
          null,
          -18.5515193939209,
          -18.58611297607422,
          null,
          -18.017051696777344,
          -18.017047882080078,
          null,
          -17.54692268371582,
          -17.546937942504883,
          null,
          -16.670745849609375,
          -16.670654296875,
          null,
          -16.929115295410156,
          -16.9289608001709,
          null,
          -18.37644386291504,
          -18.37649917602539,
          null,
          -18.450841903686523,
          -18.450918197631836,
          null,
          -16.12918472290039,
          -16.12384796142578,
          null,
          -20.52176284790039,
          -20.483304977416992,
          null,
          -22.25914192199707,
          -22.10642433166504,
          null,
          -22.10642433166504,
          -22.024938583374023,
          null,
          -25.055173873901367,
          -25.03428840637207,
          null,
          -35.64180374145508,
          -35.618167877197266,
          null,
          -43.6057014465332,
          -42.97970962524414,
          null,
          -42.97970962524414,
          -42.538665771484375,
          null,
          -42.538665771484375,
          -42.48988342285156,
          null,
          -42.48988342285156,
          -42.290889739990234,
          null,
          -42.290889739990234,
          -42.04890060424805,
          null,
          -42.04890060424805,
          -41.86858367919922,
          null,
          -41.86858367919922,
          -41.88258361816406,
          null,
          -41.88258361816406,
          -41.8631591796875,
          null,
          -44.74470520019531,
          -44.7761344909668,
          null,
          -42.812232971191406,
          -42.81222915649414,
          null,
          -42.95366287231445,
          -42.953731536865234,
          null,
          -42.27545928955078,
          -42.27540588378906,
          null,
          -44.35346603393555,
          -44.262351989746094,
          null,
          -44.71377182006836,
          -44.656429290771484,
          null,
          -45.678672790527344,
          -45.654361724853516,
          null,
          -48.80555725097656,
          -48.72331237792969,
          null,
          -48.72331237792969,
          -48.75440216064453,
          null,
          -49.66850280761719,
          -49.64879608154297,
          null,
          -49.944366455078125,
          -49.87838363647461,
          null,
          -51.830223083496094,
          -51.806583404541016,
          null,
          -52.80058670043945,
          -52.531925201416016,
          null,
          -52.531925201416016,
          -52.4818000793457,
          null,
          -52.4818000793457,
          -52.362056732177734,
          null,
          -52.362056732177734,
          -52.1947021484375,
          null,
          -52.1947021484375,
          -52.14289093017578,
          null,
          -52.14289093017578,
          -52.11366653442383,
          null,
          -49.395965576171875,
          -49.37228775024414,
          null,
          -52.52705764770508,
          -52.50758743286133,
          null,
          -53.043514251708984,
          -52.98575210571289,
          null,
          -53.605812072753906,
          -52.83124923706055,
          null,
          -52.83124923706055,
          -52.68086242675781,
          null,
          -52.68086242675781,
          -52.21343231201172,
          null,
          -52.21343231201172,
          -51.90331268310547,
          null,
          -51.90331268310547,
          -52.04922866821289,
          null,
          -52.04922866821289,
          -52.01388931274414,
          null,
          -52.01388931274414,
          -52.1019287109375,
          null,
          -52.0458869934082,
          -52.06501007080078,
          null,
          -52.68086242675781,
          -52.5854377746582,
          null,
          -52.5854377746582,
          -52.48898696899414,
          null,
          -52.48898696899414,
          -52.498321533203125,
          null,
          -54.772987365722656,
          -54.748741149902344,
          null,
          -61.09054946899414,
          -61.05015563964844,
          null
         ],
         "y": [
          -20.056377410888672,
          -20.01441192626953,
          null,
          -18.628299713134766,
          -18.62790298461914,
          null,
          -19.179277420043945,
          -19.17927360534668,
          null,
          23.323625564575195,
          23.334213256835938,
          null,
          -3.899641513824463,
          -3.856599807739258,
          null,
          20.01466941833496,
          20.017261505126953,
          null,
          -11.881669998168945,
          -11.902459144592285,
          null,
          -9.488317489624023,
          -9.488269805908203,
          null,
          -9.686575889587402,
          -9.686576843261719,
          null,
          -9.743589401245117,
          -9.743597984313965,
          null,
          -9.300012588500977,
          -9.300000190734863,
          null,
          -9.052292823791504,
          -9.05229377746582,
          null,
          -8.819141387939453,
          -8.819023132324219,
          null,
          -8.978933334350586,
          -8.978856086730957,
          null,
          -10.519904136657715,
          -10.519903182983398,
          null,
          -15.183304786682129,
          -15.183358192443848,
          null,
          -19.492979049682617,
          -19.493030548095703,
          null,
          -18.0866641998291,
          -18.0866641998291,
          null,
          -18.94960594177246,
          -18.94959259033203,
          null,
          -18.888259887695312,
          -18.888261795043945,
          null,
          -16.900339126586914,
          -16.900297164916992,
          null,
          -16.634443283081055,
          -16.63434600830078,
          null,
          -17.100357055664062,
          -17.10030174255371,
          null,
          -2.4535892009735107,
          -2.4111690521240234,
          null,
          -2.1953306198120117,
          -2.1936683654785156,
          null,
          9.518393516540527,
          9.550806045532227,
          null,
          21.35293960571289,
          21.37154769897461,
          null,
          20.670358657836914,
          20.667394638061523,
          null,
          18.620058059692383,
          18.620616912841797,
          null,
          19.286497116088867,
          19.33266258239746,
          null,
          -5.380212306976318,
          -5.332660675048828,
          null,
          -11.387792587280273,
          -11.388224601745605,
          null,
          -11.756697654724121,
          -11.7559814453125,
          null,
          -13.556056022644043,
          -13.555789947509766,
          null,
          -18.216236114501953,
          -17.971900939941406,
          null,
          -17.971900939941406,
          -17.74506378173828,
          null,
          -17.74506378173828,
          -17.607975006103516,
          null,
          -17.607975006103516,
          -17.66516876220703,
          null,
          -17.66516876220703,
          -17.69957160949707,
          null,
          0.8616989254951477,
          0.9105412364006042,
          null,
          -19.342687606811523,
          -19.383543014526367,
          null,
          -19.383543014526367,
          -19.35799217224121,
          null,
          -19.35799217224121,
          -19.269607543945312,
          null,
          -19.269607543945312,
          -19.376184463500977,
          null,
          -19.376184463500977,
          -19.480897903442383,
          null,
          -19.480897903442383,
          -19.471494674682617,
          null,
          -12.750526428222656,
          -12.75184440612793,
          null,
          -12.559612274169922,
          -12.55942440032959,
          null,
          -19.247390747070312,
          -19.24614715576172,
          null,
          -19.661537170410156,
          -19.696916580200195,
          null,
          -16.671846389770508,
          -16.67183494567871,
          null,
          -16.991802215576172,
          -16.99169921875,
          null,
          -17.25757598876953,
          -17.25761604309082,
          null,
          -5.6496405601501465,
          -5.645891189575195,
          null,
          -18.24049949645996,
          -18.241287231445312,
          null,
          -18.890439987182617,
          -18.85926055908203,
          null,
          -19.902202606201172,
          -19.90220069885254,
          null,
          -9.805846214294434,
          -9.80581283569336,
          null,
          -17.65286636352539,
          -17.652870178222656,
          null,
          -17.89434814453125,
          -17.891904830932617,
          null,
          6.243456840515137,
          6.229034900665283,
          null,
          8.115071296691895,
          8.115050315856934,
          null,
          9.633119583129883,
          9.633164405822754,
          null,
          10.237448692321777,
          10.237554550170898,
          null,
          9.264725685119629,
          9.264724731445312,
          null,
          8.514445304870605,
          8.513304710388184,
          null,
          8.862906455993652,
          8.86303424835205,
          null,
          47.50056076049805,
          47.500709533691406,
          null,
          -20.049551010131836,
          -20.0495548248291,
          null,
          10.998056411743164,
          11.008817672729492,
          null,
          10.840806007385254,
          10.841331481933594,
          null,
          8.664645195007324,
          8.663955688476562,
          null,
          11.810728073120117,
          11.810873985290527,
          null,
          11.469642639160156,
          11.469244003295898,
          null,
          18.47317886352539,
          18.59785270690918,
          null,
          18.59785270690918,
          18.696353912353516,
          null,
          22.966411590576172,
          22.995826721191406,
          null,
          22.866474151611328,
          22.866439819335938,
          null,
          21.810440063476562,
          21.810056686401367,
          null,
          22.108827590942383,
          22.108867645263672,
          null,
          22.20736312866211,
          22.20770263671875,
          null,
          -7.396986961364746,
          -7.401247024536133,
          null,
          -13.439485549926758,
          -13.466333389282227,
          null,
          -13.318203926086426,
          -13.318053245544434,
          null,
          -8.606040954589844,
          -8.471960067749023,
          null,
          -8.471960067749023,
          -8.374689102172852,
          null,
          -8.374689102172852,
          -8.218254089355469,
          null,
          -8.218254089355469,
          -8.149731636047363,
          null,
          -8.57874870300293,
          -8.403486251831055,
          null,
          -8.403486251831055,
          -8.312495231628418,
          null,
          -8.312495231628418,
          -8.380853652954102,
          null,
          -18.417036056518555,
          -18.41704750061035,
          null,
          -17.74661636352539,
          -17.74622344970703,
          null,
          -19.82465362548828,
          -19.703886032104492,
          null,
          -19.703886032104492,
          -19.63431167602539,
          null,
          -11.115753173828125,
          -11.079056739807129,
          null,
          -19.508726119995117,
          -19.509183883666992,
          null,
          -19.405920028686523,
          -19.3917293548584,
          null,
          -18.388559341430664,
          -18.02581787109375,
          null,
          -18.02581787109375,
          -17.868911743164062,
          null,
          -17.868911743164062,
          -17.69029426574707,
          null,
          -17.69029426574707,
          -17.530881881713867,
          null,
          -17.530881881713867,
          -17.38558006286621,
          null,
          -17.38558006286621,
          -17.168033599853516,
          null,
          -17.168033599853516,
          -17.142349243164062,
          null,
          -17.142349243164062,
          -17.061460494995117,
          null,
          -17.531482696533203,
          -17.531410217285156,
          null,
          -17.803848266601562,
          -17.803808212280273,
          null,
          2.550020694732666,
          2.550128698348999,
          null,
          1.188098430633545,
          1.188020944595337,
          null,
          2.830496072769165,
          2.8304569721221924,
          null,
          4.488063812255859,
          4.4982500076293945,
          null,
          -7.60318660736084,
          -7.600655555725098,
          null,
          -16.32216453552246,
          -16.322120666503906,
          null,
          -15.880295753479004,
          -15.83523941040039,
          null,
          -18.388559341430664,
          -18.256322860717773,
          null,
          -18.256322860717773,
          -18.186203002929688,
          null,
          -18.186203002929688,
          -18.068742752075195,
          null,
          -18.068742752075195,
          -18.08387565612793,
          null,
          -18.15151023864746,
          -18.14727020263672,
          null,
          -6.319260120391846,
          -6.319265842437744,
          null,
          -7.810845851898193,
          -7.810848236083984,
          null,
          -8.653813362121582,
          -8.653786659240723,
          null,
          -10.366104125976562,
          -10.366117477416992,
          null,
          -16.198877334594727,
          -16.19894027709961,
          null,
          -15.834424018859863,
          -15.835138320922852,
          null,
          -15.368993759155273,
          -15.347940444946289,
          null,
          -6.678199768066406,
          -6.6347761154174805,
          null,
          -12.90516471862793,
          -12.905172348022461,
          null,
          -19.90913963317871,
          -19.909133911132812,
          null,
          -19.9025821685791,
          -19.902057647705078,
          null,
          15.928380966186523,
          15.879290580749512,
          null,
          18.205596923828125,
          18.205825805664062,
          null,
          15.837288856506348,
          15.837189674377441,
          null,
          15.62283992767334,
          15.622963905334473,
          null,
          14.250520706176758,
          14.250839233398438,
          null,
          6.5117292404174805,
          6.511721134185791,
          null,
          5.799528121948242,
          5.7995285987854,
          null,
          -6.098106384277344,
          -6.100137710571289,
          null,
          -6.109142780303955,
          -6.104205131530762,
          null,
          -6.608962059020996,
          -6.60879373550415,
          null,
          -8.058320999145508,
          -8.058489799499512,
          null,
          -12.119250297546387,
          -12.030085563659668,
          null,
          -12.030085563659668,
          -11.973957061767578,
          null,
          -20.6678466796875,
          -20.065580368041992,
          null,
          -20.065580368041992,
          -19.567052841186523,
          null,
          -19.567052841186523,
          -19.144609451293945,
          null,
          -19.144609451293945,
          -18.443958282470703,
          null,
          -18.443958282470703,
          -17.925275802612305,
          null,
          -17.925275802612305,
          -17.362716674804688,
          null,
          -17.362716674804688,
          -16.976516723632812,
          null,
          -16.976516723632812,
          -16.844898223876953,
          null,
          -16.844898223876953,
          -16.637365341186523,
          null,
          -16.637365341186523,
          -16.457717895507812,
          null,
          -16.457717895507812,
          -16.570005416870117,
          null,
          -16.570005416870117,
          -16.64580535888672,
          null,
          47.572105407714844,
          47.624271392822266,
          null,
          58.945735931396484,
          58.94544219970703,
          null,
          59.42258834838867,
          59.422847747802734,
          null,
          58.72856140136719,
          58.72859573364258,
          null,
          49.989017486572266,
          49.987518310546875,
          null,
          49.678829193115234,
          49.680824279785156,
          null,
          41.81700134277344,
          41.82468032836914,
          null,
          41.54848861694336,
          41.548545837402344,
          null,
          41.37992858886719,
          41.379356384277344,
          null,
          48.92947769165039,
          48.9361686706543,
          null,
          45.1774787902832,
          45.170040130615234,
          null,
          45.9713134765625,
          45.971397399902344,
          null,
          47.572105407714844,
          48.44401168823242,
          null,
          48.44401168823242,
          49.03519058227539,
          null,
          49.03519058227539,
          49.21310043334961,
          null,
          49.21310043334961,
          49.311424255371094,
          null,
          49.311424255371094,
          49.62755584716797,
          null,
          49.62755584716797,
          49.85707092285156,
          null,
          49.85707092285156,
          49.90217971801758,
          null,
          49.90217971801758,
          49.86559295654297,
          null,
          49.86559295654297,
          49.83030700683594,
          null,
          49.213706970214844,
          49.21613693237305,
          null,
          16.840744018554688,
          16.796281814575195,
          null,
          19.21038246154785,
          19.21038246154785,
          null,
          19.821752548217773,
          19.822053909301758,
          null,
          18.363801956176758,
          18.36372184753418,
          null,
          17.893701553344727,
          17.893274307250977,
          null,
          32.069522857666016,
          32.09282684326172,
          null,
          30.20758819580078,
          30.20751953125,
          null,
          29.96650505065918,
          29.966815948486328,
          null,
          10.395496368408203,
          10.388066291809082,
          null,
          9.955411911010742,
          10.32829475402832,
          null,
          10.32829475402832,
          10.597012519836426,
          null,
          10.597012519836426,
          10.579363822937012,
          null,
          10.579363822937012,
          10.539155006408691,
          null,
          10.539155006408691,
          10.487027168273926,
          null,
          9.646166801452637,
          9.628149032592773,
          null,
          -10.31751823425293,
          -10.32387638092041,
          null,
          -14.058043479919434,
          -14.057287216186523,
          null,
          20.25513458251953,
          20.227872848510742,
          null,
          22.60387420654297,
          22.605335235595703,
          null,
          6.024045944213867,
          6.023983955383301,
          null,
          -3.780052423477173,
          -3.780111789703369,
          null,
          -11.046089172363281,
          -11.045989990234375,
          null,
          -12.587645530700684,
          -12.546978950500488,
          null,
          -14.409512519836426,
          -14.409517288208008,
          null,
          -15.222929954528809,
          -15.2227201461792,
          null,
          -20.01341438293457,
          -20.013404846191406,
          null,
          26.395557403564453,
          26.38321876525879,
          null,
          29.901065826416016,
          29.901216506958008,
          null,
          28.50609588623047,
          28.50621795654297,
          null,
          23.285900115966797,
          23.28589630126953,
          null,
          17.382753372192383,
          17.418046951293945,
          null,
          -20.108633041381836,
          -19.94601821899414,
          null,
          -19.94601821899414,
          -19.826984405517578,
          null,
          -19.826984405517578,
          -19.70677947998047,
          null,
          -19.70677947998047,
          -19.70823860168457,
          null,
          -20.082841873168945,
          -20.06100082397461,
          null,
          -19.53052520751953,
          -19.501174926757812,
          null,
          -18.099090576171875,
          -18.095474243164062,
          null,
          -13.026230812072754,
          -13.000715255737305,
          null,
          -19.58891487121582,
          -19.54834747314453,
          null,
          -16.282817840576172,
          -16.161420822143555,
          null,
          -16.161420822143555,
          -16.164201736450195,
          null,
          -16.718833923339844,
          -16.718360900878906,
          null,
          -15.994160652160645,
          -15.994338989257812,
          null,
          -15.638413429260254,
          -15.669853210449219,
          null,
          -14.364713668823242,
          -14.18332290649414,
          null,
          -14.18332290649414,
          -13.94903564453125,
          null,
          -13.94903564453125,
          -13.942607879638672,
          null,
          -18.95069694519043,
          -18.910120010375977,
          null,
          49.43722152709961,
          49.20431900024414,
          null,
          49.20431900024414,
          48.63875961303711,
          null,
          48.63875961303711,
          48.487186431884766,
          null,
          48.487186431884766,
          46.93193817138672,
          null,
          46.93193817138672,
          46.50646209716797,
          null,
          46.50646209716797,
          45.582393646240234,
          null,
          45.582393646240234,
          43.47720718383789,
          null,
          43.47720718383789,
          41.9940299987793,
          null,
          27.344058990478516,
          27.335771560668945,
          null,
          27.34921646118164,
          27.349674224853516,
          null,
          28.05620574951172,
          28.056385040283203,
          null,
          23.0422420501709,
          23.02252197265625,
          null,
          24.370386123657227,
          24.37041664123535,
          null,
          26.033916473388672,
          26.03388786315918,
          null,
          26.176006317138672,
          26.175792694091797,
          null,
          26.96497917175293,
          26.967191696166992,
          null,
          26.711923599243164,
          26.709177017211914,
          null,
          39.037376403808594,
          38.988182067871094,
          null,
          45.82927322387695,
          45.83742141723633,
          null,
          35.3695182800293,
          35.369384765625,
          null,
          24.693645477294922,
          24.69355010986328,
          null,
          22.513193130493164,
          22.468793869018555,
          null,
          22.468793869018555,
          22.486114501953125,
          null,
          43.60783386230469,
          43.603919982910156,
          null,
          43.63074493408203,
          43.63084411621094,
          null,
          42.41996765136719,
          42.419193267822266,
          null,
          43.08442306518555,
          43.08448028564453,
          null,
          42.84274673461914,
          42.84274673461914,
          null,
          41.9940299987793,
          41.96422576904297,
          null,
          41.96422576904297,
          42.12643051147461,
          null,
          42.12643051147461,
          42.25698471069336,
          null,
          42.25698471069336,
          42.20402145385742,
          null,
          42.20402145385742,
          42.200775146484375,
          null,
          43.47720718383789,
          43.430938720703125,
          null,
          45.582393646240234,
          45.60544204711914,
          null,
          45.60544204711914,
          45.637001037597656,
          null,
          46.50646209716797,
          46.54988098144531,
          null,
          46.93193817138672,
          46.942100524902344,
          null,
          48.487186431884766,
          48.434608459472656,
          null,
          48.63875961303711,
          48.60554122924805,
          null,
          49.20431900024414,
          49.2131233215332,
          null,
          -3.643015146255493,
          -3.643015146255493,
          null,
          26.12809181213379,
          26.13091278076172,
          null,
          99.90038299560547,
          99.88536834716797,
          null,
          1.7789621353149414,
          1.7799674272537231,
          null,
          -18.230878829956055,
          -18.230876922607422,
          null,
          -13.227364540100098,
          -13.227494239807129,
          null,
          -12.994104385375977,
          -12.994105339050293,
          null,
          -9.839533805847168,
          -9.8283052444458,
          null,
          -10.302355766296387,
          -10.302596092224121,
          null,
          -10.420964241027832,
          -10.421513557434082,
          null,
          47.617733001708984,
          47.61872100830078,
          null,
          47.5175666809082,
          47.51692581176758,
          null,
          52.04090118408203,
          52.04111862182617,
          null,
          52.236793518066406,
          52.23908996582031,
          null,
          48.96269989013672,
          48.962730407714844,
          null,
          47.04201126098633,
          47.0420036315918,
          null,
          -10.16532039642334,
          -10.153093338012695,
          null,
          -11.79513168334961,
          -11.795130729675293,
          null,
          0.9977790713310242,
          1.2840152978897095,
          null,
          1.2840152978897095,
          1.7045037746429443,
          null,
          1.7045037746429443,
          1.7794642448425293,
          null,
          1.7794642448425293,
          1.815375804901123,
          null,
          1.815375804901123,
          1.8309394121170044,
          null,
          1.8309394121170044,
          1.8936858177185059,
          null,
          1.8936858177185059,
          2.0130302906036377,
          null,
          2.0130302906036377,
          2.0286865234375,
          null,
          2.0286865234375,
          2.0785012245178223,
          null,
          2.0785012245178223,
          2.27254581451416,
          null,
          2.27254581451416,
          2.337960720062256,
          null,
          2.337960720062256,
          2.3616058826446533,
          null,
          2.3616058826446533,
          2.4112186431884766,
          null,
          2.4112186431884766,
          2.9451797008514404,
          null,
          2.9451797008514404,
          3.6081690788269043,
          null,
          3.6081690788269043,
          3.788440465927124,
          null,
          3.788440465927124,
          3.9103517532348633,
          null,
          3.9103517532348633,
          3.970348596572876,
          null,
          3.970348596572876,
          4.162937641143799,
          null,
          4.162937641143799,
          4.381123065948486,
          null,
          4.381123065948486,
          4.745415687561035,
          null,
          4.745415687561035,
          4.831598281860352,
          null,
          4.831598281860352,
          4.937102794647217,
          null,
          4.937102794647217,
          4.997231960296631,
          null,
          5.1597208976745605,
          5.252777099609375,
          null,
          5.252777099609375,
          5.385806560516357,
          null,
          5.385806560516357,
          5.7929229736328125,
          null,
          5.7929229736328125,
          5.7967071533203125,
          null,
          5.7967071533203125,
          5.84600830078125,
          null,
          5.84600830078125,
          5.932253837585449,
          null,
          5.932253837585449,
          5.960118770599365,
          null,
          5.960118770599365,
          5.965870380401611,
          null,
          5.965870380401611,
          5.995057582855225,
          null,
          5.995057582855225,
          6.05439567565918,
          null,
          6.05439567565918,
          6.099391460418701,
          null,
          6.099391460418701,
          6.1527886390686035,
          null,
          6.1527886390686035,
          6.180682182312012,
          null,
          6.180682182312012,
          6.22625207901001,
          null,
          6.22625207901001,
          6.240499973297119,
          null,
          6.240499973297119,
          6.424980163574219,
          null,
          6.225274562835693,
          5.431126117706299,
          null,
          5.431126117706299,
          5.431109428405762,
          null,
          5.431109428405762,
          5.042060375213623,
          null,
          5.042060375213623,
          5.128471851348877,
          null,
          5.128471851348877,
          5.382123947143555,
          null,
          5.382123947143555,
          5.8018317222595215,
          null,
          5.8018317222595215,
          5.855163097381592,
          null,
          0.35845497250556946,
          0.30885279178619385,
          null,
          8.952641487121582,
          8.952757835388184,
          null,
          5.042060375213623,
          5.026303291320801,
          null,
          5.431109428405762,
          5.459533214569092,
          null,
          5.464194297790527,
          5.464138507843018,
          null,
          4.019500732421875,
          4.025888919830322,
          null,
          1.5821506977081299,
          1.580782175064087,
          null,
          5.397270679473877,
          5.399965763092041,
          null,
          4.293168544769287,
          4.273738384246826,
          null,
          5.540149688720703,
          5.519712448120117,
          null,
          5.750757217407227,
          5.750930309295654,
          null,
          1.7418068647384644,
          1.7886427640914917,
          null,
          -0.6313586235046387,
          -0.6320343017578125,
          null,
          4.016796588897705,
          4.016794204711914,
          null,
          6.240499973297119,
          6.281588077545166,
          null,
          6.311203956604004,
          6.331928730010986,
          null,
          6.22625207901001,
          6.383055686950684,
          null,
          6.383055686950684,
          6.70343017578125,
          null,
          6.70343017578125,
          7.058629512786865,
          null,
          7.058629512786865,
          7.147270202636719,
          null,
          7.147270202636719,
          7.452376365661621,
          null,
          7.452376365661621,
          7.574782848358154,
          null,
          7.574782848358154,
          7.579958915710449,
          null,
          7.579958915710449,
          7.603473663330078,
          null,
          7.603473663330078,
          7.6055474281311035,
          null,
          7.147270202636719,
          7.19520902633667,
          null,
          7.19520902633667,
          7.24677038192749,
          null,
          6.180682182312012,
          6.076908588409424,
          null,
          6.076908588409424,
          6.0567240715026855,
          null,
          6.0567240715026855,
          6.059558868408203,
          null,
          6.1527886390686035,
          6.221375942230225,
          null,
          6.099391460418701,
          6.035233020782471,
          null,
          6.05439567565918,
          6.0318217277526855,
          null,
          5.995057582855225,
          5.993955135345459,
          null,
          5.965870380401611,
          5.973319053649902,
          null,
          8.883501052856445,
          8.89975357055664,
          null,
          10.584556579589844,
          10.5987548828125,
          null,
          10.442914009094238,
          10.442914962768555,
          null,
          5.960118770599365,
          5.921209812164307,
          null,
          5.921209812164307,
          5.921680927276611,
          null,
          5.965651988983154,
          6.001428127288818,
          null,
          5.932253837585449,
          5.933300971984863,
          null,
          5.84600830078125,
          5.846516132354736,
          null,
          5.7967071533203125,
          5.7842864990234375,
          null,
          5.793659210205078,
          5.744321346282959,
          null,
          5.744321346282959,
          5.78621768951416,
          null,
          5.7929229736328125,
          5.828418254852295,
          null,
          5.385806560516357,
          5.413695812225342,
          null,
          5.252777099609375,
          5.356350421905518,
          null,
          5.356350421905518,
          5.297397613525391,
          null,
          5.297397613525391,
          5.303545951843262,
          null,
          5.303545951843262,
          5.3137006759643555,
          null,
          5.3137006759643555,
          5.260709762573242,
          null,
          5.260709762573242,
          5.268623352050781,
          null,
          4.240335941314697,
          4.240192413330078,
          null,
          5.303545951843262,
          5.327659606933594,
          null,
          4.937102794647217,
          4.947390556335449,
          null,
          4.831598281860352,
          4.802690029144287,
          null,
          4.745415687561035,
          4.919010162353516,
          null,
          4.919010162353516,
          4.934258937835693,
          null,
          4.934258937835693,
          4.8206257820129395,
          null,
          4.8206257820129395,
          4.800048351287842,
          null,
          4.800048351287842,
          4.7967729568481445,
          null,
          4.381123065948486,
          4.474812984466553,
          null,
          4.474812984466553,
          4.455307483673096,
          null,
          4.162937641143799,
          4.26172399520874,
          null,
          4.26172399520874,
          4.221922874450684,
          null,
          4.221922874450684,
          4.217006683349609,
          null,
          3.970348596572876,
          4.037696361541748,
          null,
          4.037696361541748,
          4.472255229949951,
          null,
          4.472255229949951,
          4.6940693855285645,
          null,
          4.6940693855285645,
          4.9594855308532715,
          null,
          4.9594855308532715,
          5.214542388916016,
          null,
          5.214542388916016,
          5.4807891845703125,
          null,
          5.4807891845703125,
          5.670647621154785,
          null,
          5.670647621154785,
          5.665607452392578,
          null,
          5.665607452392578,
          5.729142665863037,
          null,
          5.729142665863037,
          5.829031944274902,
          null,
          5.829031944274902,
          5.819798469543457,
          null,
          5.819798469543457,
          5.763741493225098,
          null,
          5.665607452392578,
          5.675543785095215,
          null,
          5.665080547332764,
          5.720860004425049,
          null,
          15.532881736755371,
          15.563035011291504,
          null,
          15.292454719543457,
          15.292460441589355,
          null,
          8.553374290466309,
          8.553426742553711,
          null,
          8.041803359985352,
          8.041746139526367,
          null,
          6.95851469039917,
          6.9586076736450195,
          null,
          11.465054512023926,
          11.418192863464355,
          null,
          14.57923698425293,
          14.60193920135498,
          null,
          12.956870079040527,
          12.95474910736084,
          null,
          13.125981330871582,
          13.156639099121094,
          null,
          8.33627700805664,
          8.337672233581543,
          null,
          7.286790370941162,
          7.286781311035156,
          null,
          7.234157562255859,
          7.233829021453857,
          null,
          6.364527225494385,
          6.373414039611816,
          null,
          6.227232933044434,
          6.227232933044434,
          null,
          5.874754905700684,
          5.874762058258057,
          null,
          5.369643688201904,
          5.369714260101318,
          null,
          3.528341054916382,
          3.5281941890716553,
          null,
          3.2166764736175537,
          3.2166454792022705,
          null,
          3.2562055587768555,
          3.2561824321746826,
          null,
          4.93904972076416,
          4.940989971160889,
          null,
          3.9103517532348633,
          3.8942997455596924,
          null,
          3.788440465927124,
          3.680997848510742,
          null,
          3.680997848510742,
          3.6837141513824463,
          null,
          3.6081690788269043,
          3.610948324203491,
          null,
          2.9451797008514404,
          2.9843640327453613,
          null,
          2.4112186431884766,
          2.242182493209839,
          null,
          2.242182493209839,
          2.2359132766723633,
          null,
          2.2359132766723633,
          2.23563289642334,
          null,
          2.23563289642334,
          2.1911075115203857,
          null,
          2.1911075115203857,
          2.227142333984375,
          null,
          2.227142333984375,
          2.2057301998138428,
          null,
          2.2057301998138428,
          2.2339930534362793,
          null,
          2.2339930534362793,
          2.2658374309539795,
          null,
          8.854279518127441,
          8.893016815185547,
          null,
          6.472499847412109,
          6.472500801086426,
          null,
          2.3623886108398438,
          2.362326145172119,
          null,
          2.2192978858947754,
          2.219289779663086,
          null,
          2.3616058826446533,
          2.30816650390625,
          null,
          2.337960720062256,
          2.3490538597106934,
          null,
          2.27254581451416,
          2.259162187576294,
          null,
          2.0785012245178223,
          2.0216224193573,
          null,
          2.0216224193573,
          1.9958970546722412,
          null,
          2.0286865234375,
          1.9996109008789062,
          null,
          2.0130302906036377,
          2.0215413570404053,
          null,
          1.8936858177185059,
          1.8907407522201538,
          null,
          1.8309394121170044,
          1.7544920444488525,
          null,
          1.7544920444488525,
          1.712839126586914,
          null,
          1.712839126586914,
          1.558854579925537,
          null,
          1.558854579925537,
          1.6397327184677124,
          null,
          1.6397327184677124,
          1.5404653549194336,
          null,
          1.5404653549194336,
          1.5440266132354736,
          null,
          -2.5270252227783203,
          -2.5595574378967285,
          null,
          1.7503595352172852,
          1.7338290214538574,
          null,
          1.815375804901123,
          1.9064581394195557,
          null,
          1.7794642448425293,
          2.038954973220825,
          null,
          2.038954973220825,
          2.0782275199890137,
          null,
          2.0782275199890137,
          2.22001051902771,
          null,
          2.22001051902771,
          2.4618115425109863,
          null,
          2.4618115425109863,
          2.325997829437256,
          null,
          2.325997829437256,
          2.293213129043579,
          null,
          2.293213129043579,
          2.274174213409424,
          null,
          2.3165345191955566,
          2.284451961517334,
          null,
          2.0782275199890137,
          2.0686898231506348,
          null,
          2.0686898231506348,
          2.1261680126190186,
          null,
          2.1261680126190186,
          2.0836124420166016,
          null,
          1.7045037746429443,
          1.7242889404296875,
          null,
          1.2840152978897095,
          1.3064453601837158,
          null
         ],
         "z": [
          21.81914710998535,
          21.813962936401367,
          null,
          39.90927505493164,
          39.90916061401367,
          null,
          40.86578369140625,
          40.86580276489258,
          null,
          -56.425968170166016,
          -56.424137115478516,
          null,
          -15.20824146270752,
          -15.189384460449219,
          null,
          -11.993132591247559,
          -11.989889144897461,
          null,
          -52.768516540527344,
          -52.7573127746582,
          null,
          -54.89900207519531,
          -54.899085998535156,
          null,
          -53.89183807373047,
          -53.89179992675781,
          null,
          -54.35872268676758,
          -54.35871124267578,
          null,
          -56.059974670410156,
          -56.06000900268555,
          null,
          -57.66183090209961,
          -57.66183853149414,
          null,
          -57.64836883544922,
          -57.64822006225586,
          null,
          -57.904903411865234,
          -57.90501022338867,
          null,
          -58.22990036010742,
          -58.22990036010742,
          null,
          -58.37826919555664,
          -58.37807846069336,
          null,
          -63.71345138549805,
          -63.720088958740234,
          null,
          -35.666046142578125,
          -35.66604232788086,
          null,
          -35.0079460144043,
          -35.00792694091797,
          null,
          -35.16911315917969,
          -35.16911315917969,
          null,
          -37.66450881958008,
          -37.66464614868164,
          null,
          -37.078792572021484,
          -37.07881546020508,
          null,
          -34.50667953491211,
          -34.506561279296875,
          null,
          -45.41366195678711,
          -45.44011306762695,
          null,
          -40.1745491027832,
          -40.133995056152344,
          null,
          -44.842620849609375,
          -44.85565185546875,
          null,
          -49.89069747924805,
          -49.89863586425781,
          null,
          -51.07137680053711,
          -51.07633590698242,
          null,
          -62.593116760253906,
          -62.54487991333008,
          null,
          -62.6134033203125,
          -62.61815643310547,
          null,
          -46.267459869384766,
          -46.25578308105469,
          null,
          -47.742958068847656,
          -47.743980407714844,
          null,
          -46.30755615234375,
          -46.30685806274414,
          null,
          -45.04795837402344,
          -45.05080032348633,
          null,
          -35.045406341552734,
          -34.79555892944336,
          null,
          -34.79555892944336,
          -34.69795227050781,
          null,
          -34.69795227050781,
          -34.7186393737793,
          null,
          -34.7186393737793,
          -34.717594146728516,
          null,
          -34.717594146728516,
          -34.707794189453125,
          null,
          -57.021820068359375,
          -57.030696868896484,
          null,
          -50.18444061279297,
          -50.452362060546875,
          null,
          -50.452362060546875,
          -50.60050964355469,
          null,
          -50.60050964355469,
          -50.63621139526367,
          null,
          -50.63621139526367,
          -50.59504699707031,
          null,
          -50.59504699707031,
          -50.61558151245117,
          null,
          -50.61558151245117,
          -50.56467819213867,
          null,
          -37.4708137512207,
          -37.428138732910156,
          null,
          -43.65025329589844,
          -43.650272369384766,
          null,
          -51.512367248535156,
          -51.51237106323242,
          null,
          -35.20634460449219,
          -35.20512771606445,
          null,
          -35.30929183959961,
          -35.30928421020508,
          null,
          -39.22611618041992,
          -39.22616958618164,
          null,
          -39.24225997924805,
          -39.24214553833008,
          null,
          -59.97611618041992,
          -59.935829162597656,
          null,
          -56.1743278503418,
          -56.17154312133789,
          null,
          -60.12553787231445,
          -60.16204833984375,
          null,
          -53.93697738647461,
          -53.93697738647461,
          null,
          -60.393646240234375,
          -60.39362716674805,
          null,
          -56.397403717041016,
          -56.39740753173828,
          null,
          -13.261465072631836,
          -13.211956977844238,
          null,
          -60.00584030151367,
          -59.99587631225586,
          null,
          -61.29878234863281,
          -61.298770904541016,
          null,
          -62.15917205810547,
          -62.15922546386719,
          null,
          -61.47395324707031,
          -61.47409439086914,
          null,
          -57.12416458129883,
          -57.12419509887695,
          null,
          -49.21234130859375,
          -49.211456298828125,
          null,
          -49.264556884765625,
          -49.264339447021484,
          null,
          -63.833702087402344,
          -63.833595275878906,
          null,
          -53.20048904418945,
          -53.20050811767578,
          null,
          -38.96164321899414,
          -38.96731948852539,
          null,
          -38.87871551513672,
          -38.87886047363281,
          null,
          -38.16771697998047,
          -38.16777420043945,
          null,
          -34.24002456665039,
          -34.24031066894531,
          null,
          -31.24049186706543,
          -31.24039077758789,
          null,
          -23.87317657470703,
          -23.798641204833984,
          null,
          -23.798641204833984,
          -23.75741195678711,
          null,
          -21.87764549255371,
          -21.8948917388916,
          null,
          -21.819053649902344,
          -21.818866729736328,
          null,
          -24.241653442382812,
          -24.242685317993164,
          null,
          -23.295059204101562,
          -23.29483413696289,
          null,
          -23.705564498901367,
          -23.705570220947266,
          null,
          -38.161861419677734,
          -38.09433364868164,
          null,
          -8.696454048156738,
          -8.670095443725586,
          null,
          -8.815529823303223,
          -8.815784454345703,
          null,
          -32.70719528198242,
          -32.82868576049805,
          null,
          -32.82868576049805,
          -32.9317741394043,
          null,
          -32.9317741394043,
          -32.98719787597656,
          null,
          -32.98719787597656,
          -32.911781311035156,
          null,
          -32.37612533569336,
          -32.417415618896484,
          null,
          -32.417415618896484,
          -32.46882629394531,
          null,
          -32.46882629394531,
          -32.41025161743164,
          null,
          -17.076047897338867,
          -17.076129913330078,
          null,
          -16.693161010742188,
          -16.693317413330078,
          null,
          -12.150641441345215,
          -12.204946517944336,
          null,
          -12.204946517944336,
          -12.169407844543457,
          null,
          -18.880970001220703,
          -18.849014282226562,
          null,
          -26.189834594726562,
          -26.191144943237305,
          null,
          -15.872871398925781,
          -15.861205101013184,
          null,
          -14.752057075500488,
          -14.428635597229004,
          null,
          -14.428635597229004,
          -14.233211517333984,
          null,
          -14.233211517333984,
          -13.940982818603516,
          null,
          -13.940982818603516,
          -13.767215728759766,
          null,
          -13.767215728759766,
          -13.799338340759277,
          null,
          -13.799338340759277,
          -13.851649284362793,
          null,
          -13.851649284362793,
          -13.73478889465332,
          null,
          -13.73478889465332,
          -13.714862823486328,
          null,
          -18.3980712890625,
          -18.398019790649414,
          null,
          -17.222562789916992,
          -17.222562789916992,
          null,
          5.748027801513672,
          5.748549938201904,
          null,
          -5.583188056945801,
          -5.583240032196045,
          null,
          -6.341063976287842,
          -6.341148853302002,
          null,
          -5.5379486083984375,
          -5.535233020782471,
          null,
          -7.513801574707031,
          -7.509984016418457,
          null,
          -13.343384742736816,
          -13.343442916870117,
          null,
          -13.784527778625488,
          -13.784085273742676,
          null,
          -14.752057075500488,
          -14.757637977600098,
          null,
          -14.757637977600098,
          -14.717596054077148,
          null,
          -14.717596054077148,
          -14.797550201416016,
          null,
          -14.797550201416016,
          -14.802687644958496,
          null,
          -14.744319915771484,
          -14.747282028198242,
          null,
          -5.450430393218994,
          -5.450439929962158,
          null,
          -6.325584411621094,
          -6.325624465942383,
          null,
          -5.249974250793457,
          -5.249914646148682,
          null,
          -5.928833484649658,
          -5.928807258605957,
          null,
          -16.716176986694336,
          -16.716215133666992,
          null,
          -19.748149871826172,
          -19.748319625854492,
          null,
          -19.99822998046875,
          -20.0080509185791,
          null,
          -22.022274017333984,
          -22.02340316772461,
          null,
          -22.756389617919922,
          -22.756404876708984,
          null,
          -16.79454231262207,
          -16.79452896118164,
          null,
          -17.25019645690918,
          -17.250091552734375,
          null,
          -18.686616897583008,
          -18.693954467773438,
          null,
          -18.34623146057129,
          -18.34627914428711,
          null,
          -17.120441436767578,
          -17.120271682739258,
          null,
          -17.673137664794922,
          -17.673847198486328,
          null,
          -14.241926193237305,
          -14.241597175598145,
          null,
          -13.8368501663208,
          -13.836885452270508,
          null,
          -13.505179405212402,
          -13.505175590515137,
          null,
          -10.675076484680176,
          -10.677765846252441,
          null,
          -10.352789878845215,
          -10.349796295166016,
          null,
          -10.266327857971191,
          -10.266396522521973,
          null,
          -9.94243049621582,
          -9.942138671875,
          null,
          -9.838828086853027,
          -9.737103462219238,
          null,
          -9.737103462219238,
          -9.76198673248291,
          null,
          -18.070026397705078,
          -17.986238479614258,
          null,
          -17.986238479614258,
          -17.931528091430664,
          null,
          -17.931528091430664,
          -17.917177200317383,
          null,
          -17.917177200317383,
          -17.79319190979004,
          null,
          -17.79319190979004,
          -17.79315948486328,
          null,
          -17.79315948486328,
          -17.81057357788086,
          null,
          -17.81057357788086,
          -17.843265533447266,
          null,
          -17.843265533447266,
          -18.015655517578125,
          null,
          -18.015655517578125,
          -18.08961296081543,
          null,
          -18.08961296081543,
          -18.041349411010742,
          null,
          -18.041349411010742,
          -17.996793746948242,
          null,
          -17.996793746948242,
          -18.039134979248047,
          null,
          -18.769039154052734,
          -18.799053192138672,
          null,
          -5.158726692199707,
          -5.15756368637085,
          null,
          -7.385666847229004,
          -7.3861236572265625,
          null,
          -7.78843879699707,
          -7.788444519042969,
          null,
          -8.43547248840332,
          -8.430644989013672,
          null,
          -12.943441390991211,
          -12.94385051727295,
          null,
          -27.030954360961914,
          -27.00878143310547,
          null,
          -27.80608558654785,
          -27.80632781982422,
          null,
          -27.46179962158203,
          -27.461381912231445,
          null,
          -28.118385314941406,
          -28.12206268310547,
          null,
          -25.46320915222168,
          -25.467500686645508,
          null,
          -23.51008415222168,
          -23.509944915771484,
          null,
          -18.769039154052734,
          -18.55657958984375,
          null,
          -18.55657958984375,
          -18.358854293823242,
          null,
          -18.358854293823242,
          -18.315227508544922,
          null,
          -18.315227508544922,
          -17.982770919799805,
          null,
          -17.982770919799805,
          -18.04471206665039,
          null,
          -18.04471206665039,
          -17.98032569885254,
          null,
          -17.98032569885254,
          -17.817764282226562,
          null,
          -17.817764282226562,
          -17.72701644897461,
          null,
          -17.72701644897461,
          -17.76287078857422,
          null,
          -18.310626983642578,
          -18.29222869873047,
          null,
          -45.3145866394043,
          -45.29681396484375,
          null,
          -46.261962890625,
          -46.26198196411133,
          null,
          -45.988861083984375,
          -45.988433837890625,
          null,
          -51.196285247802734,
          -51.199527740478516,
          null,
          -47.48245620727539,
          -47.482418060302734,
          null,
          -29.8406925201416,
          -29.84127426147461,
          null,
          -29.06376075744629,
          -29.063875198364258,
          null,
          -28.891857147216797,
          -28.892032623291016,
          null,
          -15.378911018371582,
          -15.391207695007324,
          null,
          -14.559865951538086,
          -14.448225975036621,
          null,
          -14.448225975036621,
          -14.573556900024414,
          null,
          -14.573556900024414,
          -14.779252052307129,
          null,
          -14.779252052307129,
          -14.738885879516602,
          null,
          -14.738885879516602,
          -14.708037376403809,
          null,
          -14.080729484558105,
          -14.067242622375488,
          null,
          7.392762660980225,
          7.4394917488098145,
          null,
          -16.387067794799805,
          -16.387624740600586,
          null,
          -22.219058990478516,
          -22.256057739257812,
          null,
          -19.03170394897461,
          -19.031286239624023,
          null,
          -16.8826847076416,
          -16.882844924926758,
          null,
          -11.918232917785645,
          -11.917895317077637,
          null,
          -16.172300338745117,
          -16.172330856323242,
          null,
          -12.819231033325195,
          -12.81783676147461,
          null,
          -12.881694793701172,
          -12.881705284118652,
          null,
          -12.426767349243164,
          -12.425437927246094,
          null,
          -17.808744430541992,
          -17.808835983276367,
          null,
          6.662067890167236,
          6.644820213317871,
          null,
          11.562430381774902,
          11.56279468536377,
          null,
          7.302229881286621,
          7.302152633666992,
          null,
          3.131291389465332,
          3.1312899589538574,
          null,
          12.36438274383545,
          12.436627388000488,
          null,
          -18.449121475219727,
          -18.570768356323242,
          null,
          -18.570768356323242,
          -18.69023323059082,
          null,
          -18.69023323059082,
          -18.661279678344727,
          null,
          -18.661279678344727,
          -18.68296241760254,
          null,
          -18.12157440185547,
          -18.176773071289062,
          null,
          -17.914396286010742,
          -17.909448623657227,
          null,
          9.223345756530762,
          9.273180961608887,
          null,
          -3.109692335128784,
          -3.082651138305664,
          null,
          -18.352991104125977,
          -18.34933090209961,
          null,
          12.77920913696289,
          12.892370223999023,
          null,
          12.892370223999023,
          12.881141662597656,
          null,
          -12.749018669128418,
          -12.749402046203613,
          null,
          -10.607181549072266,
          -10.608057975769043,
          null,
          -9.272294998168945,
          -9.250213623046875,
          null,
          -10.118986129760742,
          -9.987826347351074,
          null,
          -9.987826347351074,
          -9.948511123657227,
          null,
          -9.948511123657227,
          -9.921855926513672,
          null,
          -3.131943702697754,
          -3.1034646034240723,
          null,
          4.212988376617432,
          4.18073034286499,
          null,
          4.18073034286499,
          4.104264736175537,
          null,
          4.104264736175537,
          4.082821369171143,
          null,
          4.082821369171143,
          3.8622055053710938,
          null,
          3.8622055053710938,
          3.791818618774414,
          null,
          3.791818618774414,
          3.638470411300659,
          null,
          3.638470411300659,
          3.3156838417053223,
          null,
          3.3156838417053223,
          3.066509485244751,
          null,
          3.838428497314453,
          3.8432583808898926,
          null,
          3.872126340866089,
          3.872192144393921,
          null,
          3.423367738723755,
          3.423485517501831,
          null,
          3.6258206367492676,
          3.587460994720459,
          null,
          6.209336757659912,
          6.209406852722168,
          null,
          8.774938583374023,
          8.775505065917969,
          null,
          7.914065837860107,
          7.9138641357421875,
          null,
          7.635012149810791,
          7.637235164642334,
          null,
          6.804718494415283,
          6.8023176193237305,
          null,
          32.2311897277832,
          32.23750305175781,
          null,
          31.359209060668945,
          31.360036849975586,
          null,
          28.646196365356445,
          28.646488189697266,
          null,
          15.59270191192627,
          15.592879295349121,
          null,
          9.140098571777344,
          9.175116539001465,
          null,
          9.175116539001465,
          9.131830215454102,
          null,
          -5.354086399078369,
          -5.38602352142334,
          null,
          -5.167278289794922,
          -5.16702938079834,
          null,
          -7.391573429107666,
          -7.393253326416016,
          null,
          -5.783405780792236,
          -5.783410549163818,
          null,
          -4.366430759429932,
          -4.36643123626709,
          null,
          3.066509485244751,
          3.1924378871917725,
          null,
          3.1924378871917725,
          3.421246290206909,
          null,
          3.421246290206909,
          3.5655088424682617,
          null,
          3.5655088424682617,
          3.608125686645508,
          null,
          3.608125686645508,
          3.605381727218628,
          null,
          3.3156838417053223,
          2.9550580978393555,
          null,
          3.638470411300659,
          3.565293073654175,
          null,
          3.565293073654175,
          3.567244052886963,
          null,
          3.791818618774414,
          3.840996742248535,
          null,
          3.8622055053710938,
          3.8900299072265625,
          null,
          4.082821369171143,
          4.064838886260986,
          null,
          4.104264736175537,
          4.101688385009766,
          null,
          4.18073034286499,
          4.138633728027344,
          null,
          -16.575105667114258,
          -16.575105667114258,
          null,
          11.853559494018555,
          11.86851978302002,
          null,
          -39.22808074951172,
          -39.24275588989258,
          null,
          54.98857498168945,
          54.987552642822266,
          null,
          27.69843101501465,
          27.698427200317383,
          null,
          34.23550033569336,
          34.23575210571289,
          null,
          34.2348518371582,
          34.23372268676758,
          null,
          36.89591979980469,
          36.88848876953125,
          null,
          37.676544189453125,
          37.6764030456543,
          null,
          38.18755340576172,
          38.18743133544922,
          null,
          62.279232025146484,
          62.32384490966797,
          null,
          57.75917053222656,
          57.75857925415039,
          null,
          57.97216033935547,
          57.97223663330078,
          null,
          57.764434814453125,
          57.76227951049805,
          null,
          60.77181625366211,
          60.77178955078125,
          null,
          62.526065826416016,
          62.52607345581055,
          null,
          52.400325775146484,
          52.35186004638672,
          null,
          58.860687255859375,
          58.86069107055664,
          null,
          -45.65932083129883,
          -46.364768981933594,
          null,
          -46.364768981933594,
          -47.36469650268555,
          null,
          -47.36469650268555,
          -47.55542755126953,
          null,
          -47.55542755126953,
          -47.64645767211914,
          null,
          -47.64645767211914,
          -47.685420989990234,
          null,
          -47.685420989990234,
          -47.83961486816406,
          null,
          -47.83961486816406,
          -48.13754653930664,
          null,
          -48.13754653930664,
          -48.18062973022461,
          null,
          -48.18062973022461,
          -48.31645584106445,
          null,
          -48.31645584106445,
          -48.81902313232422,
          null,
          -48.81902313232422,
          -48.97261047363281,
          null,
          -48.97261047363281,
          -49.029293060302734,
          null,
          -49.029293060302734,
          -49.14657974243164,
          null,
          -49.14657974243164,
          -50.39114761352539,
          null,
          -50.39114761352539,
          -52.11810302734375,
          null,
          -52.11810302734375,
          -52.54339599609375,
          null,
          -52.54339599609375,
          -52.810791015625,
          null,
          -52.810791015625,
          -52.940738677978516,
          null,
          -52.940738677978516,
          -53.42215347290039,
          null,
          -53.42215347290039,
          -53.90680694580078,
          null,
          -53.90680694580078,
          -54.85565185546875,
          null,
          -54.85565185546875,
          -55.1639289855957,
          null,
          -55.1639289855957,
          -55.55450439453125,
          null,
          -55.55450439453125,
          -55.77262878417969,
          null,
          -56.424339294433594,
          -56.784915924072266,
          null,
          -56.784915924072266,
          -57.31782150268555,
          null,
          -57.31782150268555,
          -59.24364471435547,
          null,
          -59.24364471435547,
          -59.27787780761719,
          null,
          -59.27787780761719,
          -59.713382720947266,
          null,
          -59.713382720947266,
          -60.31230926513672,
          null,
          -60.31230926513672,
          -60.493927001953125,
          null,
          -60.493927001953125,
          -60.53152084350586,
          null,
          -60.53152084350586,
          -60.717063903808594,
          null,
          -60.717063903808594,
          -61.0847282409668,
          null,
          -61.0847282409668,
          -61.380165100097656,
          null,
          -61.380165100097656,
          -61.77337646484375,
          null,
          -61.77337646484375,
          -62.023502349853516,
          null,
          -62.023502349853516,
          -62.4908561706543,
          null,
          -62.4908561706543,
          -62.59858703613281,
          null,
          -62.59858703613281,
          -63.99453353881836,
          null,
          -64.05660247802734,
          -63.4483528137207,
          null,
          -63.4483528137207,
          -63.448307037353516,
          null,
          -63.448307037353516,
          -63.094017028808594,
          null,
          -63.094017028808594,
          -62.98406982421875,
          null,
          -62.98406982421875,
          -63.44127655029297,
          null,
          -63.44127655029297,
          -63.78225326538086,
          null,
          -63.78225326538086,
          -63.983924865722656,
          null,
          -63.031333923339844,
          -63.02687454223633,
          null,
          -63.80427932739258,
          -63.804195404052734,
          null,
          -63.094017028808594,
          -63.14915466308594,
          null,
          -63.448307037353516,
          -63.43330001831055,
          null,
          -63.353118896484375,
          -63.35301208496094,
          null,
          -59.15784454345703,
          -59.1822624206543,
          null,
          -49.840824127197266,
          -49.83928298950195,
          null,
          -52.44173812866211,
          -52.43837356567383,
          null,
          -60.135231018066406,
          -60.1308479309082,
          null,
          -63.33823013305664,
          -63.29261779785156,
          null,
          -63.8082389831543,
          -63.808414459228516,
          null,
          -63.13103485107422,
          -63.14320755004883,
          null,
          -62.51432418823242,
          -62.51421356201172,
          null,
          -62.84885025024414,
          -62.848846435546875,
          null,
          -62.59858703613281,
          -62.58467483520508,
          null,
          -62.65043258666992,
          -62.69456481933594,
          null,
          -62.4908561706543,
          -62.519874572753906,
          null,
          -62.519874572753906,
          -62.87489318847656,
          null,
          -62.87489318847656,
          -63.196617126464844,
          null,
          -63.196617126464844,
          -63.24241638183594,
          null,
          -63.24241638183594,
          -63.284244537353516,
          null,
          -63.284244537353516,
          -63.41853332519531,
          null,
          -63.41853332519531,
          -63.416500091552734,
          null,
          -63.416500091552734,
          -63.50108337402344,
          null,
          -63.50108337402344,
          -63.50017166137695,
          null,
          -63.24241638183594,
          -63.31932067871094,
          null,
          -63.31932067871094,
          -63.303043365478516,
          null,
          -62.023502349853516,
          -61.997493743896484,
          null,
          -61.997493743896484,
          -61.834686279296875,
          null,
          -61.834686279296875,
          -61.850135803222656,
          null,
          -61.77337646484375,
          -61.76957321166992,
          null,
          -61.380165100097656,
          -61.34164047241211,
          null,
          -61.0847282409668,
          -61.10740280151367,
          null,
          -60.717063903808594,
          -60.68865203857422,
          null,
          -60.53152084350586,
          -60.58029556274414,
          null,
          -60.066532135009766,
          -60.023643493652344,
          null,
          -55.67029571533203,
          -55.65803527832031,
          null,
          -55.79261779785156,
          -55.792606353759766,
          null,
          -60.493927001953125,
          -60.411258697509766,
          null,
          -60.411258697509766,
          -60.502052307128906,
          null,
          -60.43958282470703,
          -60.43522644042969,
          null,
          -60.31230926513672,
          -60.28837966918945,
          null,
          -59.713382720947266,
          -59.74442672729492,
          null,
          -59.27787780761719,
          -59.24667739868164,
          null,
          -59.25031280517578,
          -59.27768325805664,
          null,
          -59.27768325805664,
          -59.308773040771484,
          null,
          -59.24364471435547,
          -59.263031005859375,
          null,
          -57.31782150268555,
          -57.326202392578125,
          null,
          -56.784915924072266,
          -57.09335708618164,
          null,
          -57.09335708618164,
          -57.28440856933594,
          null,
          -57.28440856933594,
          -57.30135726928711,
          null,
          -57.30135726928711,
          -57.45777893066406,
          null,
          -57.45777893066406,
          -57.72061538696289,
          null,
          -57.72061538696289,
          -57.741424560546875,
          null,
          -63.706329345703125,
          -63.70643997192383,
          null,
          -57.30135726928711,
          -57.319705963134766,
          null,
          -55.55450439453125,
          -55.58268356323242,
          null,
          -55.1639289855957,
          -55.23817825317383,
          null,
          -54.85565185546875,
          -54.854942321777344,
          null,
          -54.854942321777344,
          -55.08049774169922,
          null,
          -55.08049774169922,
          -55.04301834106445,
          null,
          -55.04301834106445,
          -55.15347671508789,
          null,
          -55.15347671508789,
          -55.1285514831543,
          null,
          -53.90680694580078,
          -53.989715576171875,
          null,
          -53.989715576171875,
          -54.049705505371094,
          null,
          -53.42215347290039,
          -53.47712326049805,
          null,
          -53.47712326049805,
          -53.5987434387207,
          null,
          -53.5987434387207,
          -53.598819732666016,
          null,
          -52.940738677978516,
          -52.9437255859375,
          null,
          -52.9437255859375,
          -52.8856201171875,
          null,
          -52.8856201171875,
          -52.92264938354492,
          null,
          -52.92264938354492,
          -52.7835807800293,
          null,
          -52.7835807800293,
          -52.67271423339844,
          null,
          -52.67271423339844,
          -52.36760330200195,
          null,
          -52.36760330200195,
          -51.95633316040039,
          null,
          -51.95633316040039,
          -52.02240753173828,
          null,
          -52.02240753173828,
          -52.24646759033203,
          null,
          -52.24646759033203,
          -52.25790023803711,
          null,
          -52.25790023803711,
          -52.342529296875,
          null,
          -52.342529296875,
          -52.319252014160156,
          null,
          -52.02240753173828,
          -52.01838302612305,
          null,
          -52.021278381347656,
          -52.03986740112305,
          null,
          -46.04756546020508,
          -46.086856842041016,
          null,
          -45.73426818847656,
          -45.73415756225586,
          null,
          -51.28919219970703,
          -51.28927230834961,
          null,
          -51.145023345947266,
          -51.14502716064453,
          null,
          -50.58979415893555,
          -50.58867263793945,
          null,
          -47.87423324584961,
          -47.876617431640625,
          null,
          -47.71570587158203,
          -47.712890625,
          null,
          -47.95777130126953,
          -47.95189666748047,
          null,
          -48.810123443603516,
          -48.79494094848633,
          null,
          -51.1820182800293,
          -51.182247161865234,
          null,
          -51.3979606628418,
          -51.396514892578125,
          null,
          -51.46964645385742,
          -51.4716796875,
          null,
          -50.460208892822266,
          -50.49519729614258,
          null,
          -49.9196662902832,
          -49.9196662902832,
          null,
          -47.98164749145508,
          -47.98163604736328,
          null,
          -47.38724136352539,
          -47.38719177246094,
          null,
          -47.33588409423828,
          -47.33575439453125,
          null,
          -48.323631286621094,
          -48.32358169555664,
          null,
          -48.62527084350586,
          -48.62527847290039,
          null,
          -53.077171325683594,
          -53.079368591308594,
          null,
          -52.810791015625,
          -52.77737045288086,
          null,
          -52.54339599609375,
          -52.605350494384766,
          null,
          -52.605350494384766,
          -52.64510726928711,
          null,
          -52.11810302734375,
          -52.152313232421875,
          null,
          -50.39114761352539,
          -50.38266372680664,
          null,
          -49.14657974243164,
          -49.40360641479492,
          null,
          -49.40360641479492,
          -49.108402252197266,
          null,
          -49.108402252197266,
          -49.01261901855469,
          null,
          -49.01261901855469,
          -48.695674896240234,
          null,
          -48.695674896240234,
          -48.6024169921875,
          null,
          -48.6024169921875,
          -48.5984001159668,
          null,
          -48.5984001159668,
          -48.71128463745117,
          null,
          -48.71128463745117,
          -48.72553634643555,
          null,
          -48.19104766845703,
          -48.187625885009766,
          null,
          -48.40127182006836,
          -48.40127182006836,
          null,
          -47.63777542114258,
          -47.637664794921875,
          null,
          -48.61610794067383,
          -48.6161003112793,
          null,
          -49.029293060302734,
          -49.0526237487793,
          null,
          -48.97261047363281,
          -49.044429779052734,
          null,
          -48.81902313232422,
          -48.79596710205078,
          null,
          -48.31645584106445,
          -48.28055953979492,
          null,
          -48.28055953979492,
          -48.26220703125,
          null,
          -48.18062973022461,
          -48.211360931396484,
          null,
          -48.13754653930664,
          -48.066593170166016,
          null,
          -47.83961486816406,
          -47.81330490112305,
          null,
          -47.685420989990234,
          -47.86930847167969,
          null,
          -47.86930847167969,
          -47.90060806274414,
          null,
          -47.90060806274414,
          -48.0723991394043,
          null,
          -48.0723991394043,
          -48.110206604003906,
          null,
          -48.110206604003906,
          -48.16619110107422,
          null,
          -48.16619110107422,
          -48.23309326171875,
          null,
          -51.7690315246582,
          -51.79871368408203,
          null,
          -47.87131118774414,
          -47.879329681396484,
          null,
          -47.64645767211914,
          -47.61268615722656,
          null,
          -47.55542755126953,
          -47.899295806884766,
          null,
          -47.899295806884766,
          -47.82670974731445,
          null,
          -47.82670974731445,
          -47.69789123535156,
          null,
          -47.69789123535156,
          -47.624290466308594,
          null,
          -47.624290466308594,
          -47.426265716552734,
          null,
          -47.426265716552734,
          -47.26701354980469,
          null,
          -47.26701354980469,
          -47.22200012207031,
          null,
          -47.409698486328125,
          -47.39491653442383,
          null,
          -47.82670974731445,
          -47.67019271850586,
          null,
          -47.67019271850586,
          -47.623233795166016,
          null,
          -47.623233795166016,
          -47.603614807128906,
          null,
          -47.36469650268555,
          -47.33293533325195,
          null,
          -46.364768981933594,
          -46.336360931396484,
          null
         ]
        }
       ],
       "layout": {
        "height": 768,
        "legend": {
         "orientation": "h"
        },
        "template": {
         "data": {
          "bar": [
           {
            "error_x": {
             "color": "#2a3f5f"
            },
            "error_y": {
             "color": "#2a3f5f"
            },
            "marker": {
             "line": {
              "color": "#E5ECF6",
              "width": 0.5
             },
             "pattern": {
              "fillmode": "overlay",
              "size": 10,
              "solidity": 0.2
             }
            },
            "type": "bar"
           }
          ],
          "barpolar": [
           {
            "marker": {
             "line": {
              "color": "#E5ECF6",
              "width": 0.5
             },
             "pattern": {
              "fillmode": "overlay",
              "size": 10,
              "solidity": 0.2
             }
            },
            "type": "barpolar"
           }
          ],
          "carpet": [
           {
            "aaxis": {
             "endlinecolor": "#2a3f5f",
             "gridcolor": "white",
             "linecolor": "white",
             "minorgridcolor": "white",
             "startlinecolor": "#2a3f5f"
            },
            "baxis": {
             "endlinecolor": "#2a3f5f",
             "gridcolor": "white",
             "linecolor": "white",
             "minorgridcolor": "white",
             "startlinecolor": "#2a3f5f"
            },
            "type": "carpet"
           }
          ],
          "choropleth": [
           {
            "colorbar": {
             "outlinewidth": 0,
             "ticks": ""
            },
            "type": "choropleth"
           }
          ],
          "contour": [
           {
            "colorbar": {
             "outlinewidth": 0,
             "ticks": ""
            },
            "colorscale": [
             [
              0,
              "#0d0887"
             ],
             [
              0.1111111111111111,
              "#46039f"
             ],
             [
              0.2222222222222222,
              "#7201a8"
             ],
             [
              0.3333333333333333,
              "#9c179e"
             ],
             [
              0.4444444444444444,
              "#bd3786"
             ],
             [
              0.5555555555555556,
              "#d8576b"
             ],
             [
              0.6666666666666666,
              "#ed7953"
             ],
             [
              0.7777777777777778,
              "#fb9f3a"
             ],
             [
              0.8888888888888888,
              "#fdca26"
             ],
             [
              1,
              "#f0f921"
             ]
            ],
            "type": "contour"
           }
          ],
          "contourcarpet": [
           {
            "colorbar": {
             "outlinewidth": 0,
             "ticks": ""
            },
            "type": "contourcarpet"
           }
          ],
          "heatmap": [
           {
            "colorbar": {
             "outlinewidth": 0,
             "ticks": ""
            },
            "colorscale": [
             [
              0,
              "#0d0887"
             ],
             [
              0.1111111111111111,
              "#46039f"
             ],
             [
              0.2222222222222222,
              "#7201a8"
             ],
             [
              0.3333333333333333,
              "#9c179e"
             ],
             [
              0.4444444444444444,
              "#bd3786"
             ],
             [
              0.5555555555555556,
              "#d8576b"
             ],
             [
              0.6666666666666666,
              "#ed7953"
             ],
             [
              0.7777777777777778,
              "#fb9f3a"
             ],
             [
              0.8888888888888888,
              "#fdca26"
             ],
             [
              1,
              "#f0f921"
             ]
            ],
            "type": "heatmap"
           }
          ],
          "heatmapgl": [
           {
            "colorbar": {
             "outlinewidth": 0,
             "ticks": ""
            },
            "colorscale": [
             [
              0,
              "#0d0887"
             ],
             [
              0.1111111111111111,
              "#46039f"
             ],
             [
              0.2222222222222222,
              "#7201a8"
             ],
             [
              0.3333333333333333,
              "#9c179e"
             ],
             [
              0.4444444444444444,
              "#bd3786"
             ],
             [
              0.5555555555555556,
              "#d8576b"
             ],
             [
              0.6666666666666666,
              "#ed7953"
             ],
             [
              0.7777777777777778,
              "#fb9f3a"
             ],
             [
              0.8888888888888888,
              "#fdca26"
             ],
             [
              1,
              "#f0f921"
             ]
            ],
            "type": "heatmapgl"
           }
          ],
          "histogram": [
           {
            "marker": {
             "pattern": {
              "fillmode": "overlay",
              "size": 10,
              "solidity": 0.2
             }
            },
            "type": "histogram"
           }
          ],
          "histogram2d": [
           {
            "colorbar": {
             "outlinewidth": 0,
             "ticks": ""
            },
            "colorscale": [
             [
              0,
              "#0d0887"
             ],
             [
              0.1111111111111111,
              "#46039f"
             ],
             [
              0.2222222222222222,
              "#7201a8"
             ],
             [
              0.3333333333333333,
              "#9c179e"
             ],
             [
              0.4444444444444444,
              "#bd3786"
             ],
             [
              0.5555555555555556,
              "#d8576b"
             ],
             [
              0.6666666666666666,
              "#ed7953"
             ],
             [
              0.7777777777777778,
              "#fb9f3a"
             ],
             [
              0.8888888888888888,
              "#fdca26"
             ],
             [
              1,
              "#f0f921"
             ]
            ],
            "type": "histogram2d"
           }
          ],
          "histogram2dcontour": [
           {
            "colorbar": {
             "outlinewidth": 0,
             "ticks": ""
            },
            "colorscale": [
             [
              0,
              "#0d0887"
             ],
             [
              0.1111111111111111,
              "#46039f"
             ],
             [
              0.2222222222222222,
              "#7201a8"
             ],
             [
              0.3333333333333333,
              "#9c179e"
             ],
             [
              0.4444444444444444,
              "#bd3786"
             ],
             [
              0.5555555555555556,
              "#d8576b"
             ],
             [
              0.6666666666666666,
              "#ed7953"
             ],
             [
              0.7777777777777778,
              "#fb9f3a"
             ],
             [
              0.8888888888888888,
              "#fdca26"
             ],
             [
              1,
              "#f0f921"
             ]
            ],
            "type": "histogram2dcontour"
           }
          ],
          "mesh3d": [
           {
            "colorbar": {
             "outlinewidth": 0,
             "ticks": ""
            },
            "type": "mesh3d"
           }
          ],
          "parcoords": [
           {
            "line": {
             "colorbar": {
              "outlinewidth": 0,
              "ticks": ""
             }
            },
            "type": "parcoords"
           }
          ],
          "pie": [
           {
            "automargin": true,
            "type": "pie"
           }
          ],
          "scatter": [
           {
            "fillpattern": {
             "fillmode": "overlay",
             "size": 10,
             "solidity": 0.2
            },
            "type": "scatter"
           }
          ],
          "scatter3d": [
           {
            "line": {
             "colorbar": {
              "outlinewidth": 0,
              "ticks": ""
             }
            },
            "marker": {
             "colorbar": {
              "outlinewidth": 0,
              "ticks": ""
             }
            },
            "type": "scatter3d"
           }
          ],
          "scattercarpet": [
           {
            "marker": {
             "colorbar": {
              "outlinewidth": 0,
              "ticks": ""
             }
            },
            "type": "scattercarpet"
           }
          ],
          "scattergeo": [
           {
            "marker": {
             "colorbar": {
              "outlinewidth": 0,
              "ticks": ""
             }
            },
            "type": "scattergeo"
           }
          ],
          "scattergl": [
           {
            "marker": {
             "colorbar": {
              "outlinewidth": 0,
              "ticks": ""
             }
            },
            "type": "scattergl"
           }
          ],
          "scattermapbox": [
           {
            "marker": {
             "colorbar": {
              "outlinewidth": 0,
              "ticks": ""
             }
            },
            "type": "scattermapbox"
           }
          ],
          "scatterpolar": [
           {
            "marker": {
             "colorbar": {
              "outlinewidth": 0,
              "ticks": ""
             }
            },
            "type": "scatterpolar"
           }
          ],
          "scatterpolargl": [
           {
            "marker": {
             "colorbar": {
              "outlinewidth": 0,
              "ticks": ""
             }
            },
            "type": "scatterpolargl"
           }
          ],
          "scatterternary": [
           {
            "marker": {
             "colorbar": {
              "outlinewidth": 0,
              "ticks": ""
             }
            },
            "type": "scatterternary"
           }
          ],
          "surface": [
           {
            "colorbar": {
             "outlinewidth": 0,
             "ticks": ""
            },
            "colorscale": [
             [
              0,
              "#0d0887"
             ],
             [
              0.1111111111111111,
              "#46039f"
             ],
             [
              0.2222222222222222,
              "#7201a8"
             ],
             [
              0.3333333333333333,
              "#9c179e"
             ],
             [
              0.4444444444444444,
              "#bd3786"
             ],
             [
              0.5555555555555556,
              "#d8576b"
             ],
             [
              0.6666666666666666,
              "#ed7953"
             ],
             [
              0.7777777777777778,
              "#fb9f3a"
             ],
             [
              0.8888888888888888,
              "#fdca26"
             ],
             [
              1,
              "#f0f921"
             ]
            ],
            "type": "surface"
           }
          ],
          "table": [
           {
            "cells": {
             "fill": {
              "color": "#EBF0F8"
             },
             "line": {
              "color": "white"
             }
            },
            "header": {
             "fill": {
              "color": "#C8D4E3"
             },
             "line": {
              "color": "white"
             }
            },
            "type": "table"
           }
          ]
         },
         "layout": {
          "annotationdefaults": {
           "arrowcolor": "#2a3f5f",
           "arrowhead": 0,
           "arrowwidth": 1
          },
          "autotypenumbers": "strict",
          "coloraxis": {
           "colorbar": {
            "outlinewidth": 0,
            "ticks": ""
           }
          },
          "colorscale": {
           "diverging": [
            [
             0,
             "#8e0152"
            ],
            [
             0.1,
             "#c51b7d"
            ],
            [
             0.2,
             "#de77ae"
            ],
            [
             0.3,
             "#f1b6da"
            ],
            [
             0.4,
             "#fde0ef"
            ],
            [
             0.5,
             "#f7f7f7"
            ],
            [
             0.6,
             "#e6f5d0"
            ],
            [
             0.7,
             "#b8e186"
            ],
            [
             0.8,
             "#7fbc41"
            ],
            [
             0.9,
             "#4d9221"
            ],
            [
             1,
             "#276419"
            ]
           ],
           "sequential": [
            [
             0,
             "#0d0887"
            ],
            [
             0.1111111111111111,
             "#46039f"
            ],
            [
             0.2222222222222222,
             "#7201a8"
            ],
            [
             0.3333333333333333,
             "#9c179e"
            ],
            [
             0.4444444444444444,
             "#bd3786"
            ],
            [
             0.5555555555555556,
             "#d8576b"
            ],
            [
             0.6666666666666666,
             "#ed7953"
            ],
            [
             0.7777777777777778,
             "#fb9f3a"
            ],
            [
             0.8888888888888888,
             "#fdca26"
            ],
            [
             1,
             "#f0f921"
            ]
           ],
           "sequentialminus": [
            [
             0,
             "#0d0887"
            ],
            [
             0.1111111111111111,
             "#46039f"
            ],
            [
             0.2222222222222222,
             "#7201a8"
            ],
            [
             0.3333333333333333,
             "#9c179e"
            ],
            [
             0.4444444444444444,
             "#bd3786"
            ],
            [
             0.5555555555555556,
             "#d8576b"
            ],
            [
             0.6666666666666666,
             "#ed7953"
            ],
            [
             0.7777777777777778,
             "#fb9f3a"
            ],
            [
             0.8888888888888888,
             "#fdca26"
            ],
            [
             1,
             "#f0f921"
            ]
           ]
          },
          "colorway": [
           "#636efa",
           "#EF553B",
           "#00cc96",
           "#ab63fa",
           "#FFA15A",
           "#19d3f3",
           "#FF6692",
           "#B6E880",
           "#FF97FF",
           "#FECB52"
          ],
          "font": {
           "color": "#2a3f5f"
          },
          "geo": {
           "bgcolor": "white",
           "lakecolor": "white",
           "landcolor": "#E5ECF6",
           "showlakes": true,
           "showland": true,
           "subunitcolor": "white"
          },
          "hoverlabel": {
           "align": "left"
          },
          "hovermode": "closest",
          "mapbox": {
           "style": "light"
          },
          "paper_bgcolor": "white",
          "plot_bgcolor": "#E5ECF6",
          "polar": {
           "angularaxis": {
            "gridcolor": "white",
            "linecolor": "white",
            "ticks": ""
           },
           "bgcolor": "#E5ECF6",
           "radialaxis": {
            "gridcolor": "white",
            "linecolor": "white",
            "ticks": ""
           }
          },
          "scene": {
           "xaxis": {
            "backgroundcolor": "#E5ECF6",
            "gridcolor": "white",
            "gridwidth": 2,
            "linecolor": "white",
            "showbackground": true,
            "ticks": "",
            "zerolinecolor": "white"
           },
           "yaxis": {
            "backgroundcolor": "#E5ECF6",
            "gridcolor": "white",
            "gridwidth": 2,
            "linecolor": "white",
            "showbackground": true,
            "ticks": "",
            "zerolinecolor": "white"
           },
           "zaxis": {
            "backgroundcolor": "#E5ECF6",
            "gridcolor": "white",
            "gridwidth": 2,
            "linecolor": "white",
            "showbackground": true,
            "ticks": "",
            "zerolinecolor": "white"
           }
          },
          "shapedefaults": {
           "line": {
            "color": "#2a3f5f"
           }
          },
          "ternary": {
           "aaxis": {
            "gridcolor": "white",
            "linecolor": "white",
            "ticks": ""
           },
           "baxis": {
            "gridcolor": "white",
            "linecolor": "white",
            "ticks": ""
           },
           "bgcolor": "#E5ECF6",
           "caxis": {
            "gridcolor": "white",
            "linecolor": "white",
            "ticks": ""
           }
          },
          "title": {
           "x": 0.05
          },
          "xaxis": {
           "automargin": true,
           "gridcolor": "white",
           "linecolor": "white",
           "ticks": "",
           "title": {
            "standoff": 15
           },
           "zerolinecolor": "white",
           "zerolinewidth": 2
          },
          "yaxis": {
           "automargin": true,
           "gridcolor": "white",
           "linecolor": "white",
           "ticks": "",
           "title": {
            "standoff": 15
           },
           "zerolinecolor": "white",
           "zerolinewidth": 2
          }
         }
        },
        "width": 1024
       }
      },
      "text/html": [
       "<div>                            <div id=\"edcd8a18-8742-4d2e-857e-b542cb343fb7\" class=\"plotly-graph-div\" style=\"height:768px; width:1024px;\"></div>            <script type=\"text/javascript\">                require([\"plotly\"], function(Plotly) {                    window.PLOTLYENV=window.PLOTLYENV || {};                                    if (document.getElementById(\"edcd8a18-8742-4d2e-857e-b542cb343fb7\")) {                    Plotly.newPlot(                        \"edcd8a18-8742-4d2e-857e-b542cb343fb7\",                        [{\"colorscale\":[[0.0,\"rgb(255,255,255)\"],[0.125,\"rgb(240,240,240)\"],[0.25,\"rgb(217,217,217)\"],[0.375,\"rgb(189,189,189)\"],[0.5,\"rgb(150,150,150)\"],[0.625,\"rgb(115,115,115)\"],[0.75,\"rgb(82,82,82)\"],[0.875,\"rgb(37,37,37)\"],[1.0,\"rgb(0,0,0)\"]],\"opacity\":0.3,\"showscale\":false,\"x\":[2.683699999999998,64.3163],\"y\":[-19.854300000000002,103.8543],\"z\":[[33.5,33.5],[33.5,33.5]],\"type\":\"surface\"},{\"colorscale\":[[0.0,\"rgb(255,255,255)\"],[0.125,\"rgb(240,240,240)\"],[0.25,\"rgb(217,217,217)\"],[0.375,\"rgb(189,189,189)\"],[0.5,\"rgb(150,150,150)\"],[0.625,\"rgb(115,115,115)\"],[0.75,\"rgb(82,82,82)\"],[0.875,\"rgb(37,37,37)\"],[1.0,\"rgb(0,0,0)\"]],\"opacity\":0.3,\"showscale\":false,\"x\":[-64.3163,-2.683699999999998],\"y\":[-19.854300000000002,103.8543],\"z\":[[33.5,33.5],[33.5,33.5]],\"type\":\"surface\"},{\"colorscale\":[[0.0,\"rgb(255,255,255)\"],[0.125,\"rgb(240,240,240)\"],[0.25,\"rgb(217,217,217)\"],[0.375,\"rgb(189,189,189)\"],[0.5,\"rgb(150,150,150)\"],[0.625,\"rgb(115,115,115)\"],[0.75,\"rgb(82,82,82)\"],[0.875,\"rgb(37,37,37)\"],[1.0,\"rgb(0,0,0)\"]],\"opacity\":0.3,\"showscale\":false,\"x\":[2.683699999999998,64.3163],\"y\":[-19.854300000000002,103.8543],\"z\":[[-33.5,-33.5],[-33.5,-33.5]],\"type\":\"surface\"},{\"colorscale\":[[0.0,\"rgb(255,255,255)\"],[0.125,\"rgb(240,240,240)\"],[0.25,\"rgb(217,217,217)\"],[0.375,\"rgb(189,189,189)\"],[0.5,\"rgb(150,150,150)\"],[0.625,\"rgb(115,115,115)\"],[0.75,\"rgb(82,82,82)\"],[0.875,\"rgb(37,37,37)\"],[1.0,\"rgb(0,0,0)\"]],\"opacity\":0.3,\"showscale\":false,\"x\":[-64.3163,-2.683699999999998],\"y\":[-19.854300000000002,103.8543],\"z\":[[-33.5,-33.5],[-33.5,-33.5]],\"type\":\"surface\"},{\"colorscale\":[[0.0,\"rgb(255,255,255)\"],[0.125,\"rgb(240,240,240)\"],[0.25,\"rgb(217,217,217)\"],[0.375,\"rgb(189,189,189)\"],[0.5,\"rgb(150,150,150)\"],[0.625,\"rgb(115,115,115)\"],[0.75,\"rgb(82,82,82)\"],[0.875,\"rgb(37,37,37)\"],[1.0,\"rgb(0,0,0)\"]],\"opacity\":0.3,\"showscale\":false,\"x\":[2.683699999999998,64.3163],\"y\":[-19.854300000000002,103.8543],\"z\":[[33.5,33.5],[33.5,33.5]],\"type\":\"surface\"},{\"colorscale\":[[0.0,\"rgb(255,255,255)\"],[0.125,\"rgb(240,240,240)\"],[0.25,\"rgb(217,217,217)\"],[0.375,\"rgb(189,189,189)\"],[0.5,\"rgb(150,150,150)\"],[0.625,\"rgb(115,115,115)\"],[0.75,\"rgb(82,82,82)\"],[0.875,\"rgb(37,37,37)\"],[1.0,\"rgb(0,0,0)\"]],\"opacity\":0.3,\"showscale\":false,\"x\":[-64.3163,-2.683699999999998],\"y\":[-19.854300000000002,103.8543],\"z\":[[33.5,33.5],[33.5,33.5]],\"type\":\"surface\"},{\"colorscale\":[[0.0,\"rgb(255,255,255)\"],[0.125,\"rgb(240,240,240)\"],[0.25,\"rgb(217,217,217)\"],[0.375,\"rgb(189,189,189)\"],[0.5,\"rgb(150,150,150)\"],[0.625,\"rgb(115,115,115)\"],[0.75,\"rgb(82,82,82)\"],[0.875,\"rgb(37,37,37)\"],[1.0,\"rgb(0,0,0)\"]],\"opacity\":0.3,\"showscale\":false,\"x\":[2.683699999999998,64.3163],\"y\":[-19.854300000000002,103.8543],\"z\":[[-33.5,-33.5],[-33.5,-33.5]],\"type\":\"surface\"},{\"colorscale\":[[0.0,\"rgb(255,255,255)\"],[0.125,\"rgb(240,240,240)\"],[0.25,\"rgb(217,217,217)\"],[0.375,\"rgb(189,189,189)\"],[0.5,\"rgb(150,150,150)\"],[0.625,\"rgb(115,115,115)\"],[0.75,\"rgb(82,82,82)\"],[0.875,\"rgb(37,37,37)\"],[1.0,\"rgb(0,0,0)\"]],\"opacity\":0.3,\"showscale\":false,\"x\":[-64.3163,-2.683699999999998],\"y\":[-19.854300000000002,103.8543],\"z\":[[-33.5,-33.5],[-33.5,-33.5]],\"type\":\"surface\"},{\"colorscale\":[[0.0,\"rgb(255,255,255)\"],[0.125,\"rgb(240,240,240)\"],[0.25,\"rgb(217,217,217)\"],[0.375,\"rgb(189,189,189)\"],[0.5,\"rgb(150,150,150)\"],[0.625,\"rgb(115,115,115)\"],[0.75,\"rgb(82,82,82)\"],[0.875,\"rgb(37,37,37)\"],[1.0,\"rgb(0,0,0)\"]],\"opacity\":0.3,\"showscale\":false,\"x\":[2.683699999999998,64.3163],\"y\":[-19.854300000000002,103.8543],\"z\":[[33.5,33.5],[33.5,33.5]],\"type\":\"surface\"},{\"colorscale\":[[0.0,\"rgb(255,255,255)\"],[0.125,\"rgb(240,240,240)\"],[0.25,\"rgb(217,217,217)\"],[0.375,\"rgb(189,189,189)\"],[0.5,\"rgb(150,150,150)\"],[0.625,\"rgb(115,115,115)\"],[0.75,\"rgb(82,82,82)\"],[0.875,\"rgb(37,37,37)\"],[1.0,\"rgb(0,0,0)\"]],\"opacity\":0.3,\"showscale\":false,\"x\":[-64.3163,-2.683699999999998],\"y\":[-19.854300000000002,103.8543],\"z\":[[33.5,33.5],[33.5,33.5]],\"type\":\"surface\"},{\"colorscale\":[[0.0,\"rgb(255,255,255)\"],[0.125,\"rgb(240,240,240)\"],[0.25,\"rgb(217,217,217)\"],[0.375,\"rgb(189,189,189)\"],[0.5,\"rgb(150,150,150)\"],[0.625,\"rgb(115,115,115)\"],[0.75,\"rgb(82,82,82)\"],[0.875,\"rgb(37,37,37)\"],[1.0,\"rgb(0,0,0)\"]],\"opacity\":0.3,\"showscale\":false,\"x\":[2.683699999999998,64.3163],\"y\":[-19.854300000000002,103.8543],\"z\":[[-33.5,-33.5],[-33.5,-33.5]],\"type\":\"surface\"},{\"colorscale\":[[0.0,\"rgb(255,255,255)\"],[0.125,\"rgb(240,240,240)\"],[0.25,\"rgb(217,217,217)\"],[0.375,\"rgb(189,189,189)\"],[0.5,\"rgb(150,150,150)\"],[0.625,\"rgb(115,115,115)\"],[0.75,\"rgb(82,82,82)\"],[0.875,\"rgb(37,37,37)\"],[1.0,\"rgb(0,0,0)\"]],\"opacity\":0.3,\"showscale\":false,\"x\":[-64.3163,-2.683699999999998],\"y\":[-19.854300000000002,103.8543],\"z\":[[-33.5,-33.5],[-33.5,-33.5]],\"type\":\"surface\"},{\"colorscale\":[[0.0,\"rgb(255,255,255)\"],[0.125,\"rgb(240,240,240)\"],[0.25,\"rgb(217,217,217)\"],[0.375,\"rgb(189,189,189)\"],[0.5,\"rgb(150,150,150)\"],[0.625,\"rgb(115,115,115)\"],[0.75,\"rgb(82,82,82)\"],[0.875,\"rgb(37,37,37)\"],[1.0,\"rgb(0,0,0)\"]],\"opacity\":0.3,\"showscale\":false,\"x\":[2.683699999999998,64.3163],\"y\":[-19.854300000000002,103.8543],\"z\":[[33.5,33.5],[33.5,33.5]],\"type\":\"surface\"},{\"colorscale\":[[0.0,\"rgb(255,255,255)\"],[0.125,\"rgb(240,240,240)\"],[0.25,\"rgb(217,217,217)\"],[0.375,\"rgb(189,189,189)\"],[0.5,\"rgb(150,150,150)\"],[0.625,\"rgb(115,115,115)\"],[0.75,\"rgb(82,82,82)\"],[0.875,\"rgb(37,37,37)\"],[1.0,\"rgb(0,0,0)\"]],\"opacity\":0.3,\"showscale\":false,\"x\":[-64.3163,-2.683699999999998],\"y\":[-19.854300000000002,103.8543],\"z\":[[33.5,33.5],[33.5,33.5]],\"type\":\"surface\"},{\"colorscale\":[[0.0,\"rgb(255,255,255)\"],[0.125,\"rgb(240,240,240)\"],[0.25,\"rgb(217,217,217)\"],[0.375,\"rgb(189,189,189)\"],[0.5,\"rgb(150,150,150)\"],[0.625,\"rgb(115,115,115)\"],[0.75,\"rgb(82,82,82)\"],[0.875,\"rgb(37,37,37)\"],[1.0,\"rgb(0,0,0)\"]],\"opacity\":0.3,\"showscale\":false,\"x\":[2.683699999999998,64.3163],\"y\":[-19.854300000000002,103.8543],\"z\":[[-33.5,-33.5],[-33.5,-33.5]],\"type\":\"surface\"},{\"colorscale\":[[0.0,\"rgb(255,255,255)\"],[0.125,\"rgb(240,240,240)\"],[0.25,\"rgb(217,217,217)\"],[0.375,\"rgb(189,189,189)\"],[0.5,\"rgb(150,150,150)\"],[0.625,\"rgb(115,115,115)\"],[0.75,\"rgb(82,82,82)\"],[0.875,\"rgb(37,37,37)\"],[1.0,\"rgb(0,0,0)\"]],\"opacity\":0.3,\"showscale\":false,\"x\":[-64.3163,-2.683699999999998],\"y\":[-19.854300000000002,103.8543],\"z\":[[-33.5,-33.5],[-33.5,-33.5]],\"type\":\"surface\"},{\"colorscale\":[[0.0,\"rgb(255,255,255)\"],[0.125,\"rgb(240,240,240)\"],[0.25,\"rgb(217,217,217)\"],[0.375,\"rgb(189,189,189)\"],[0.5,\"rgb(150,150,150)\"],[0.625,\"rgb(115,115,115)\"],[0.75,\"rgb(82,82,82)\"],[0.875,\"rgb(37,37,37)\"],[1.0,\"rgb(0,0,0)\"]],\"opacity\":0.3,\"showscale\":false,\"x\":[2.683699999999998,64.3163],\"y\":[-19.854300000000002,103.8543],\"z\":[[33.5,33.5],[33.5,33.5]],\"type\":\"surface\"},{\"colorscale\":[[0.0,\"rgb(255,255,255)\"],[0.125,\"rgb(240,240,240)\"],[0.25,\"rgb(217,217,217)\"],[0.375,\"rgb(189,189,189)\"],[0.5,\"rgb(150,150,150)\"],[0.625,\"rgb(115,115,115)\"],[0.75,\"rgb(82,82,82)\"],[0.875,\"rgb(37,37,37)\"],[1.0,\"rgb(0,0,0)\"]],\"opacity\":0.3,\"showscale\":false,\"x\":[-64.3163,-2.683699999999998],\"y\":[-19.854300000000002,103.8543],\"z\":[[33.5,33.5],[33.5,33.5]],\"type\":\"surface\"},{\"colorscale\":[[0.0,\"rgb(255,255,255)\"],[0.125,\"rgb(240,240,240)\"],[0.25,\"rgb(217,217,217)\"],[0.375,\"rgb(189,189,189)\"],[0.5,\"rgb(150,150,150)\"],[0.625,\"rgb(115,115,115)\"],[0.75,\"rgb(82,82,82)\"],[0.875,\"rgb(37,37,37)\"],[1.0,\"rgb(0,0,0)\"]],\"opacity\":0.3,\"showscale\":false,\"x\":[2.683699999999998,64.3163],\"y\":[-19.854300000000002,103.8543],\"z\":[[-33.5,-33.5],[-33.5,-33.5]],\"type\":\"surface\"},{\"colorscale\":[[0.0,\"rgb(255,255,255)\"],[0.125,\"rgb(240,240,240)\"],[0.25,\"rgb(217,217,217)\"],[0.375,\"rgb(189,189,189)\"],[0.5,\"rgb(150,150,150)\"],[0.625,\"rgb(115,115,115)\"],[0.75,\"rgb(82,82,82)\"],[0.875,\"rgb(37,37,37)\"],[1.0,\"rgb(0,0,0)\"]],\"opacity\":0.3,\"showscale\":false,\"x\":[-64.3163,-2.683699999999998],\"y\":[-19.854300000000002,103.8543],\"z\":[[-33.5,-33.5],[-33.5,-33.5]],\"type\":\"surface\"},{\"colorscale\":[[0.0,\"rgb(255,255,255)\"],[0.125,\"rgb(240,240,240)\"],[0.25,\"rgb(217,217,217)\"],[0.375,\"rgb(189,189,189)\"],[0.5,\"rgb(150,150,150)\"],[0.625,\"rgb(115,115,115)\"],[0.75,\"rgb(82,82,82)\"],[0.875,\"rgb(37,37,37)\"],[1.0,\"rgb(0,0,0)\"]],\"opacity\":0.3,\"showscale\":false,\"x\":[2.683699999999998,64.3163],\"y\":[-19.854300000000002,103.8543],\"z\":[[33.5,33.5],[33.5,33.5]],\"type\":\"surface\"},{\"colorscale\":[[0.0,\"rgb(255,255,255)\"],[0.125,\"rgb(240,240,240)\"],[0.25,\"rgb(217,217,217)\"],[0.375,\"rgb(189,189,189)\"],[0.5,\"rgb(150,150,150)\"],[0.625,\"rgb(115,115,115)\"],[0.75,\"rgb(82,82,82)\"],[0.875,\"rgb(37,37,37)\"],[1.0,\"rgb(0,0,0)\"]],\"opacity\":0.3,\"showscale\":false,\"x\":[-64.3163,-2.683699999999998],\"y\":[-19.854300000000002,103.8543],\"z\":[[33.5,33.5],[33.5,33.5]],\"type\":\"surface\"},{\"colorscale\":[[0.0,\"rgb(255,255,255)\"],[0.125,\"rgb(240,240,240)\"],[0.25,\"rgb(217,217,217)\"],[0.375,\"rgb(189,189,189)\"],[0.5,\"rgb(150,150,150)\"],[0.625,\"rgb(115,115,115)\"],[0.75,\"rgb(82,82,82)\"],[0.875,\"rgb(37,37,37)\"],[1.0,\"rgb(0,0,0)\"]],\"opacity\":0.3,\"showscale\":false,\"x\":[2.683699999999998,64.3163],\"y\":[-19.854300000000002,103.8543],\"z\":[[-33.5,-33.5],[-33.5,-33.5]],\"type\":\"surface\"},{\"colorscale\":[[0.0,\"rgb(255,255,255)\"],[0.125,\"rgb(240,240,240)\"],[0.25,\"rgb(217,217,217)\"],[0.375,\"rgb(189,189,189)\"],[0.5,\"rgb(150,150,150)\"],[0.625,\"rgb(115,115,115)\"],[0.75,\"rgb(82,82,82)\"],[0.875,\"rgb(37,37,37)\"],[1.0,\"rgb(0,0,0)\"]],\"opacity\":0.3,\"showscale\":false,\"x\":[-64.3163,-2.683699999999998],\"y\":[-19.854300000000002,103.8543],\"z\":[[-33.5,-33.5],[-33.5,-33.5]],\"type\":\"surface\"},{\"colorscale\":[[0.0,\"rgb(255,255,255)\"],[0.125,\"rgb(240,240,240)\"],[0.25,\"rgb(217,217,217)\"],[0.375,\"rgb(189,189,189)\"],[0.5,\"rgb(150,150,150)\"],[0.625,\"rgb(115,115,115)\"],[0.75,\"rgb(82,82,82)\"],[0.875,\"rgb(37,37,37)\"],[1.0,\"rgb(0,0,0)\"]],\"opacity\":0.3,\"showscale\":false,\"x\":[2.683699999999998,64.3163],\"y\":[-19.854300000000002,103.8543],\"z\":[[33.5,33.5],[33.5,33.5]],\"type\":\"surface\"},{\"colorscale\":[[0.0,\"rgb(255,255,255)\"],[0.125,\"rgb(240,240,240)\"],[0.25,\"rgb(217,217,217)\"],[0.375,\"rgb(189,189,189)\"],[0.5,\"rgb(150,150,150)\"],[0.625,\"rgb(115,115,115)\"],[0.75,\"rgb(82,82,82)\"],[0.875,\"rgb(37,37,37)\"],[1.0,\"rgb(0,0,0)\"]],\"opacity\":0.3,\"showscale\":false,\"x\":[-64.3163,-2.683699999999998],\"y\":[-19.854300000000002,103.8543],\"z\":[[33.5,33.5],[33.5,33.5]],\"type\":\"surface\"},{\"colorscale\":[[0.0,\"rgb(255,255,255)\"],[0.125,\"rgb(240,240,240)\"],[0.25,\"rgb(217,217,217)\"],[0.375,\"rgb(189,189,189)\"],[0.5,\"rgb(150,150,150)\"],[0.625,\"rgb(115,115,115)\"],[0.75,\"rgb(82,82,82)\"],[0.875,\"rgb(37,37,37)\"],[1.0,\"rgb(0,0,0)\"]],\"opacity\":0.3,\"showscale\":false,\"x\":[2.683699999999998,64.3163],\"y\":[-19.854300000000002,103.8543],\"z\":[[-33.5,-33.5],[-33.5,-33.5]],\"type\":\"surface\"},{\"colorscale\":[[0.0,\"rgb(255,255,255)\"],[0.125,\"rgb(240,240,240)\"],[0.25,\"rgb(217,217,217)\"],[0.375,\"rgb(189,189,189)\"],[0.5,\"rgb(150,150,150)\"],[0.625,\"rgb(115,115,115)\"],[0.75,\"rgb(82,82,82)\"],[0.875,\"rgb(37,37,37)\"],[1.0,\"rgb(0,0,0)\"]],\"opacity\":0.3,\"showscale\":false,\"x\":[-64.3163,-2.683699999999998],\"y\":[-19.854300000000002,103.8543],\"z\":[[-33.5,-33.5],[-33.5,-33.5]],\"type\":\"surface\"},{\"colorscale\":[[0.0,\"rgb(255,255,255)\"],[0.125,\"rgb(240,240,240)\"],[0.25,\"rgb(217,217,217)\"],[0.375,\"rgb(189,189,189)\"],[0.5,\"rgb(150,150,150)\"],[0.625,\"rgb(115,115,115)\"],[0.75,\"rgb(82,82,82)\"],[0.875,\"rgb(37,37,37)\"],[1.0,\"rgb(0,0,0)\"]],\"opacity\":0.3,\"showscale\":false,\"x\":[2.683699999999998,64.3163],\"y\":[-19.854300000000002,103.8543],\"z\":[[33.5,33.5],[33.5,33.5]],\"type\":\"surface\"},{\"colorscale\":[[0.0,\"rgb(255,255,255)\"],[0.125,\"rgb(240,240,240)\"],[0.25,\"rgb(217,217,217)\"],[0.375,\"rgb(189,189,189)\"],[0.5,\"rgb(150,150,150)\"],[0.625,\"rgb(115,115,115)\"],[0.75,\"rgb(82,82,82)\"],[0.875,\"rgb(37,37,37)\"],[1.0,\"rgb(0,0,0)\"]],\"opacity\":0.3,\"showscale\":false,\"x\":[-64.3163,-2.683699999999998],\"y\":[-19.854300000000002,103.8543],\"z\":[[33.5,33.5],[33.5,33.5]],\"type\":\"surface\"},{\"colorscale\":[[0.0,\"rgb(255,255,255)\"],[0.125,\"rgb(240,240,240)\"],[0.25,\"rgb(217,217,217)\"],[0.375,\"rgb(189,189,189)\"],[0.5,\"rgb(150,150,150)\"],[0.625,\"rgb(115,115,115)\"],[0.75,\"rgb(82,82,82)\"],[0.875,\"rgb(37,37,37)\"],[1.0,\"rgb(0,0,0)\"]],\"opacity\":0.3,\"showscale\":false,\"x\":[2.683699999999998,64.3163],\"y\":[-19.854300000000002,103.8543],\"z\":[[-33.5,-33.5],[-33.5,-33.5]],\"type\":\"surface\"},{\"colorscale\":[[0.0,\"rgb(255,255,255)\"],[0.125,\"rgb(240,240,240)\"],[0.25,\"rgb(217,217,217)\"],[0.375,\"rgb(189,189,189)\"],[0.5,\"rgb(150,150,150)\"],[0.625,\"rgb(115,115,115)\"],[0.75,\"rgb(82,82,82)\"],[0.875,\"rgb(37,37,37)\"],[1.0,\"rgb(0,0,0)\"]],\"opacity\":0.3,\"showscale\":false,\"x\":[-64.3163,-2.683699999999998],\"y\":[-19.854300000000002,103.8543],\"z\":[[-33.5,-33.5],[-33.5,-33.5]],\"type\":\"surface\"},{\"colorscale\":[[0.0,\"rgb(255,255,255)\"],[0.125,\"rgb(240,240,240)\"],[0.25,\"rgb(217,217,217)\"],[0.375,\"rgb(189,189,189)\"],[0.5,\"rgb(150,150,150)\"],[0.625,\"rgb(115,115,115)\"],[0.75,\"rgb(82,82,82)\"],[0.875,\"rgb(37,37,37)\"],[1.0,\"rgb(0,0,0)\"]],\"opacity\":0.3,\"showscale\":false,\"x\":[2.683699999999998,64.3163],\"y\":[-19.854300000000002,103.8543],\"z\":[[33.5,33.5],[33.5,33.5]],\"type\":\"surface\"},{\"colorscale\":[[0.0,\"rgb(255,255,255)\"],[0.125,\"rgb(240,240,240)\"],[0.25,\"rgb(217,217,217)\"],[0.375,\"rgb(189,189,189)\"],[0.5,\"rgb(150,150,150)\"],[0.625,\"rgb(115,115,115)\"],[0.75,\"rgb(82,82,82)\"],[0.875,\"rgb(37,37,37)\"],[1.0,\"rgb(0,0,0)\"]],\"opacity\":0.3,\"showscale\":false,\"x\":[-64.3163,-2.683699999999998],\"y\":[-19.854300000000002,103.8543],\"z\":[[33.5,33.5],[33.5,33.5]],\"type\":\"surface\"},{\"colorscale\":[[0.0,\"rgb(255,255,255)\"],[0.125,\"rgb(240,240,240)\"],[0.25,\"rgb(217,217,217)\"],[0.375,\"rgb(189,189,189)\"],[0.5,\"rgb(150,150,150)\"],[0.625,\"rgb(115,115,115)\"],[0.75,\"rgb(82,82,82)\"],[0.875,\"rgb(37,37,37)\"],[1.0,\"rgb(0,0,0)\"]],\"opacity\":0.3,\"showscale\":false,\"x\":[2.683699999999998,64.3163],\"y\":[-19.854300000000002,103.8543],\"z\":[[-33.5,-33.5],[-33.5,-33.5]],\"type\":\"surface\"},{\"colorscale\":[[0.0,\"rgb(255,255,255)\"],[0.125,\"rgb(240,240,240)\"],[0.25,\"rgb(217,217,217)\"],[0.375,\"rgb(189,189,189)\"],[0.5,\"rgb(150,150,150)\"],[0.625,\"rgb(115,115,115)\"],[0.75,\"rgb(82,82,82)\"],[0.875,\"rgb(37,37,37)\"],[1.0,\"rgb(0,0,0)\"]],\"opacity\":0.3,\"showscale\":false,\"x\":[-64.3163,-2.683699999999998],\"y\":[-19.854300000000002,103.8543],\"z\":[[-33.5,-33.5],[-33.5,-33.5]],\"type\":\"surface\"},{\"colorscale\":[[0.0,\"rgb(255,255,255)\"],[0.125,\"rgb(240,240,240)\"],[0.25,\"rgb(217,217,217)\"],[0.375,\"rgb(189,189,189)\"],[0.5,\"rgb(150,150,150)\"],[0.625,\"rgb(115,115,115)\"],[0.75,\"rgb(82,82,82)\"],[0.875,\"rgb(37,37,37)\"],[1.0,\"rgb(0,0,0)\"]],\"opacity\":0.3,\"showscale\":false,\"x\":[2.683699999999998,64.3163],\"y\":[-19.854300000000002,103.8543],\"z\":[[33.5,33.5],[33.5,33.5]],\"type\":\"surface\"},{\"colorscale\":[[0.0,\"rgb(255,255,255)\"],[0.125,\"rgb(240,240,240)\"],[0.25,\"rgb(217,217,217)\"],[0.375,\"rgb(189,189,189)\"],[0.5,\"rgb(150,150,150)\"],[0.625,\"rgb(115,115,115)\"],[0.75,\"rgb(82,82,82)\"],[0.875,\"rgb(37,37,37)\"],[1.0,\"rgb(0,0,0)\"]],\"opacity\":0.3,\"showscale\":false,\"x\":[-64.3163,-2.683699999999998],\"y\":[-19.854300000000002,103.8543],\"z\":[[33.5,33.5],[33.5,33.5]],\"type\":\"surface\"},{\"colorscale\":[[0.0,\"rgb(255,255,255)\"],[0.125,\"rgb(240,240,240)\"],[0.25,\"rgb(217,217,217)\"],[0.375,\"rgb(189,189,189)\"],[0.5,\"rgb(150,150,150)\"],[0.625,\"rgb(115,115,115)\"],[0.75,\"rgb(82,82,82)\"],[0.875,\"rgb(37,37,37)\"],[1.0,\"rgb(0,0,0)\"]],\"opacity\":0.3,\"showscale\":false,\"x\":[2.683699999999998,64.3163],\"y\":[-19.854300000000002,103.8543],\"z\":[[-33.5,-33.5],[-33.5,-33.5]],\"type\":\"surface\"},{\"colorscale\":[[0.0,\"rgb(255,255,255)\"],[0.125,\"rgb(240,240,240)\"],[0.25,\"rgb(217,217,217)\"],[0.375,\"rgb(189,189,189)\"],[0.5,\"rgb(150,150,150)\"],[0.625,\"rgb(115,115,115)\"],[0.75,\"rgb(82,82,82)\"],[0.875,\"rgb(37,37,37)\"],[1.0,\"rgb(0,0,0)\"]],\"opacity\":0.3,\"showscale\":false,\"x\":[-64.3163,-2.683699999999998],\"y\":[-19.854300000000002,103.8543],\"z\":[[-33.5,-33.5],[-33.5,-33.5]],\"type\":\"surface\"},{\"colorscale\":[[0.0,\"rgb(3, 5, 18)\"],[0.09090909090909091,\"rgb(25, 25, 51)\"],[0.18181818181818182,\"rgb(44, 42, 87)\"],[0.2727272727272727,\"rgb(58, 60, 125)\"],[0.36363636363636365,\"rgb(62, 83, 160)\"],[0.45454545454545453,\"rgb(62, 109, 178)\"],[0.5454545454545454,\"rgb(72, 134, 187)\"],[0.6363636363636364,\"rgb(89, 159, 196)\"],[0.7272727272727273,\"rgb(114, 184, 205)\"],[0.8181818181818182,\"rgb(149, 207, 216)\"],[0.9090909090909091,\"rgb(192, 229, 232)\"],[1.0,\"rgb(234, 252, 253)\"]],\"opacity\":0.1,\"showscale\":false,\"x\":[2.683699999999998,64.3163],\"y\":[-19.854300000000002,103.8543],\"z\":[[3.068999999999999,3.068999999999999],[3.068999999999999,3.068999999999999]],\"type\":\"surface\"},{\"colorscale\":[[0.0,\"rgb(3, 5, 18)\"],[0.09090909090909091,\"rgb(25, 25, 51)\"],[0.18181818181818182,\"rgb(44, 42, 87)\"],[0.2727272727272727,\"rgb(58, 60, 125)\"],[0.36363636363636365,\"rgb(62, 83, 160)\"],[0.45454545454545453,\"rgb(62, 109, 178)\"],[0.5454545454545454,\"rgb(72, 134, 187)\"],[0.6363636363636364,\"rgb(89, 159, 196)\"],[0.7272727272727273,\"rgb(114, 184, 205)\"],[0.8181818181818182,\"rgb(149, 207, 216)\"],[0.9090909090909091,\"rgb(192, 229, 232)\"],[1.0,\"rgb(234, 252, 253)\"]],\"opacity\":0.1,\"showscale\":false,\"x\":[2.683699999999998,64.3163],\"y\":[-19.854300000000002,103.8543],\"z\":[[63.931,63.931],[63.931,63.931]],\"type\":\"surface\"},{\"colorscale\":[[0.0,\"rgb(3, 5, 18)\"],[0.09090909090909091,\"rgb(25, 25, 51)\"],[0.18181818181818182,\"rgb(44, 42, 87)\"],[0.2727272727272727,\"rgb(58, 60, 125)\"],[0.36363636363636365,\"rgb(62, 83, 160)\"],[0.45454545454545453,\"rgb(62, 109, 178)\"],[0.5454545454545454,\"rgb(72, 134, 187)\"],[0.6363636363636364,\"rgb(89, 159, 196)\"],[0.7272727272727273,\"rgb(114, 184, 205)\"],[0.8181818181818182,\"rgb(149, 207, 216)\"],[0.9090909090909091,\"rgb(192, 229, 232)\"],[1.0,\"rgb(234, 252, 253)\"]],\"opacity\":0.1,\"showscale\":false,\"x\":[-64.3163,-2.683699999999998],\"y\":[-19.854300000000002,103.8543],\"z\":[[3.068999999999999,3.068999999999999],[3.068999999999999,3.068999999999999]],\"type\":\"surface\"},{\"colorscale\":[[0.0,\"rgb(3, 5, 18)\"],[0.09090909090909091,\"rgb(25, 25, 51)\"],[0.18181818181818182,\"rgb(44, 42, 87)\"],[0.2727272727272727,\"rgb(58, 60, 125)\"],[0.36363636363636365,\"rgb(62, 83, 160)\"],[0.45454545454545453,\"rgb(62, 109, 178)\"],[0.5454545454545454,\"rgb(72, 134, 187)\"],[0.6363636363636364,\"rgb(89, 159, 196)\"],[0.7272727272727273,\"rgb(114, 184, 205)\"],[0.8181818181818182,\"rgb(149, 207, 216)\"],[0.9090909090909091,\"rgb(192, 229, 232)\"],[1.0,\"rgb(234, 252, 253)\"]],\"opacity\":0.1,\"showscale\":false,\"x\":[-64.3163,-2.683699999999998],\"y\":[-19.854300000000002,103.8543],\"z\":[[63.931,63.931],[63.931,63.931]],\"type\":\"surface\"},{\"colorscale\":[[0.0,\"rgb(3, 5, 18)\"],[0.09090909090909091,\"rgb(25, 25, 51)\"],[0.18181818181818182,\"rgb(44, 42, 87)\"],[0.2727272727272727,\"rgb(58, 60, 125)\"],[0.36363636363636365,\"rgb(62, 83, 160)\"],[0.45454545454545453,\"rgb(62, 109, 178)\"],[0.5454545454545454,\"rgb(72, 134, 187)\"],[0.6363636363636364,\"rgb(89, 159, 196)\"],[0.7272727272727273,\"rgb(114, 184, 205)\"],[0.8181818181818182,\"rgb(149, 207, 216)\"],[0.9090909090909091,\"rgb(192, 229, 232)\"],[1.0,\"rgb(234, 252, 253)\"]],\"opacity\":0.1,\"showscale\":false,\"x\":[2.683699999999998,64.3163],\"y\":[-19.854300000000002,103.8543],\"z\":[[-63.931,-63.931],[-63.931,-63.931]],\"type\":\"surface\"},{\"colorscale\":[[0.0,\"rgb(3, 5, 18)\"],[0.09090909090909091,\"rgb(25, 25, 51)\"],[0.18181818181818182,\"rgb(44, 42, 87)\"],[0.2727272727272727,\"rgb(58, 60, 125)\"],[0.36363636363636365,\"rgb(62, 83, 160)\"],[0.45454545454545453,\"rgb(62, 109, 178)\"],[0.5454545454545454,\"rgb(72, 134, 187)\"],[0.6363636363636364,\"rgb(89, 159, 196)\"],[0.7272727272727273,\"rgb(114, 184, 205)\"],[0.8181818181818182,\"rgb(149, 207, 216)\"],[0.9090909090909091,\"rgb(192, 229, 232)\"],[1.0,\"rgb(234, 252, 253)\"]],\"opacity\":0.1,\"showscale\":false,\"x\":[2.683699999999998,64.3163],\"y\":[-19.854300000000002,103.8543],\"z\":[[-3.068999999999999,-3.068999999999999],[-3.068999999999999,-3.068999999999999]],\"type\":\"surface\"},{\"colorscale\":[[0.0,\"rgb(3, 5, 18)\"],[0.09090909090909091,\"rgb(25, 25, 51)\"],[0.18181818181818182,\"rgb(44, 42, 87)\"],[0.2727272727272727,\"rgb(58, 60, 125)\"],[0.36363636363636365,\"rgb(62, 83, 160)\"],[0.45454545454545453,\"rgb(62, 109, 178)\"],[0.5454545454545454,\"rgb(72, 134, 187)\"],[0.6363636363636364,\"rgb(89, 159, 196)\"],[0.7272727272727273,\"rgb(114, 184, 205)\"],[0.8181818181818182,\"rgb(149, 207, 216)\"],[0.9090909090909091,\"rgb(192, 229, 232)\"],[1.0,\"rgb(234, 252, 253)\"]],\"opacity\":0.1,\"showscale\":false,\"x\":[-64.3163,-2.683699999999998],\"y\":[-19.854300000000002,103.8543],\"z\":[[-63.931,-63.931],[-63.931,-63.931]],\"type\":\"surface\"},{\"colorscale\":[[0.0,\"rgb(3, 5, 18)\"],[0.09090909090909091,\"rgb(25, 25, 51)\"],[0.18181818181818182,\"rgb(44, 42, 87)\"],[0.2727272727272727,\"rgb(58, 60, 125)\"],[0.36363636363636365,\"rgb(62, 83, 160)\"],[0.45454545454545453,\"rgb(62, 109, 178)\"],[0.5454545454545454,\"rgb(72, 134, 187)\"],[0.6363636363636364,\"rgb(89, 159, 196)\"],[0.7272727272727273,\"rgb(114, 184, 205)\"],[0.8181818181818182,\"rgb(149, 207, 216)\"],[0.9090909090909091,\"rgb(192, 229, 232)\"],[1.0,\"rgb(234, 252, 253)\"]],\"opacity\":0.1,\"showscale\":false,\"x\":[-64.3163,-2.683699999999998],\"y\":[-19.854300000000002,103.8543],\"z\":[[-3.068999999999999,-3.068999999999999],[-3.068999999999999,-3.068999999999999]],\"type\":\"surface\"},{\"colorscale\":[[0.0,\"rgb(3, 5, 18)\"],[0.09090909090909091,\"rgb(25, 25, 51)\"],[0.18181818181818182,\"rgb(44, 42, 87)\"],[0.2727272727272727,\"rgb(58, 60, 125)\"],[0.36363636363636365,\"rgb(62, 83, 160)\"],[0.45454545454545453,\"rgb(62, 109, 178)\"],[0.5454545454545454,\"rgb(72, 134, 187)\"],[0.6363636363636364,\"rgb(89, 159, 196)\"],[0.7272727272727273,\"rgb(114, 184, 205)\"],[0.8181818181818182,\"rgb(149, 207, 216)\"],[0.9090909090909091,\"rgb(192, 229, 232)\"],[1.0,\"rgb(234, 252, 253)\"]],\"opacity\":0.1,\"showscale\":false,\"x\":[2.683699999999998,64.3163],\"y\":[-19.854300000000002,103.8543],\"z\":[[3.068999999999999,3.068999999999999],[3.068999999999999,3.068999999999999]],\"type\":\"surface\"},{\"colorscale\":[[0.0,\"rgb(3, 5, 18)\"],[0.09090909090909091,\"rgb(25, 25, 51)\"],[0.18181818181818182,\"rgb(44, 42, 87)\"],[0.2727272727272727,\"rgb(58, 60, 125)\"],[0.36363636363636365,\"rgb(62, 83, 160)\"],[0.45454545454545453,\"rgb(62, 109, 178)\"],[0.5454545454545454,\"rgb(72, 134, 187)\"],[0.6363636363636364,\"rgb(89, 159, 196)\"],[0.7272727272727273,\"rgb(114, 184, 205)\"],[0.8181818181818182,\"rgb(149, 207, 216)\"],[0.9090909090909091,\"rgb(192, 229, 232)\"],[1.0,\"rgb(234, 252, 253)\"]],\"opacity\":0.1,\"showscale\":false,\"x\":[2.683699999999998,64.3163],\"y\":[-19.854300000000002,103.8543],\"z\":[[63.931,63.931],[63.931,63.931]],\"type\":\"surface\"},{\"colorscale\":[[0.0,\"rgb(3, 5, 18)\"],[0.09090909090909091,\"rgb(25, 25, 51)\"],[0.18181818181818182,\"rgb(44, 42, 87)\"],[0.2727272727272727,\"rgb(58, 60, 125)\"],[0.36363636363636365,\"rgb(62, 83, 160)\"],[0.45454545454545453,\"rgb(62, 109, 178)\"],[0.5454545454545454,\"rgb(72, 134, 187)\"],[0.6363636363636364,\"rgb(89, 159, 196)\"],[0.7272727272727273,\"rgb(114, 184, 205)\"],[0.8181818181818182,\"rgb(149, 207, 216)\"],[0.9090909090909091,\"rgb(192, 229, 232)\"],[1.0,\"rgb(234, 252, 253)\"]],\"opacity\":0.1,\"showscale\":false,\"x\":[-64.3163,-2.683699999999998],\"y\":[-19.854300000000002,103.8543],\"z\":[[3.068999999999999,3.068999999999999],[3.068999999999999,3.068999999999999]],\"type\":\"surface\"},{\"colorscale\":[[0.0,\"rgb(3, 5, 18)\"],[0.09090909090909091,\"rgb(25, 25, 51)\"],[0.18181818181818182,\"rgb(44, 42, 87)\"],[0.2727272727272727,\"rgb(58, 60, 125)\"],[0.36363636363636365,\"rgb(62, 83, 160)\"],[0.45454545454545453,\"rgb(62, 109, 178)\"],[0.5454545454545454,\"rgb(72, 134, 187)\"],[0.6363636363636364,\"rgb(89, 159, 196)\"],[0.7272727272727273,\"rgb(114, 184, 205)\"],[0.8181818181818182,\"rgb(149, 207, 216)\"],[0.9090909090909091,\"rgb(192, 229, 232)\"],[1.0,\"rgb(234, 252, 253)\"]],\"opacity\":0.1,\"showscale\":false,\"x\":[-64.3163,-2.683699999999998],\"y\":[-19.854300000000002,103.8543],\"z\":[[63.931,63.931],[63.931,63.931]],\"type\":\"surface\"},{\"colorscale\":[[0.0,\"rgb(3, 5, 18)\"],[0.09090909090909091,\"rgb(25, 25, 51)\"],[0.18181818181818182,\"rgb(44, 42, 87)\"],[0.2727272727272727,\"rgb(58, 60, 125)\"],[0.36363636363636365,\"rgb(62, 83, 160)\"],[0.45454545454545453,\"rgb(62, 109, 178)\"],[0.5454545454545454,\"rgb(72, 134, 187)\"],[0.6363636363636364,\"rgb(89, 159, 196)\"],[0.7272727272727273,\"rgb(114, 184, 205)\"],[0.8181818181818182,\"rgb(149, 207, 216)\"],[0.9090909090909091,\"rgb(192, 229, 232)\"],[1.0,\"rgb(234, 252, 253)\"]],\"opacity\":0.1,\"showscale\":false,\"x\":[2.683699999999998,64.3163],\"y\":[-19.854300000000002,103.8543],\"z\":[[-63.931,-63.931],[-63.931,-63.931]],\"type\":\"surface\"},{\"colorscale\":[[0.0,\"rgb(3, 5, 18)\"],[0.09090909090909091,\"rgb(25, 25, 51)\"],[0.18181818181818182,\"rgb(44, 42, 87)\"],[0.2727272727272727,\"rgb(58, 60, 125)\"],[0.36363636363636365,\"rgb(62, 83, 160)\"],[0.45454545454545453,\"rgb(62, 109, 178)\"],[0.5454545454545454,\"rgb(72, 134, 187)\"],[0.6363636363636364,\"rgb(89, 159, 196)\"],[0.7272727272727273,\"rgb(114, 184, 205)\"],[0.8181818181818182,\"rgb(149, 207, 216)\"],[0.9090909090909091,\"rgb(192, 229, 232)\"],[1.0,\"rgb(234, 252, 253)\"]],\"opacity\":0.1,\"showscale\":false,\"x\":[2.683699999999998,64.3163],\"y\":[-19.854300000000002,103.8543],\"z\":[[-3.068999999999999,-3.068999999999999],[-3.068999999999999,-3.068999999999999]],\"type\":\"surface\"},{\"colorscale\":[[0.0,\"rgb(3, 5, 18)\"],[0.09090909090909091,\"rgb(25, 25, 51)\"],[0.18181818181818182,\"rgb(44, 42, 87)\"],[0.2727272727272727,\"rgb(58, 60, 125)\"],[0.36363636363636365,\"rgb(62, 83, 160)\"],[0.45454545454545453,\"rgb(62, 109, 178)\"],[0.5454545454545454,\"rgb(72, 134, 187)\"],[0.6363636363636364,\"rgb(89, 159, 196)\"],[0.7272727272727273,\"rgb(114, 184, 205)\"],[0.8181818181818182,\"rgb(149, 207, 216)\"],[0.9090909090909091,\"rgb(192, 229, 232)\"],[1.0,\"rgb(234, 252, 253)\"]],\"opacity\":0.1,\"showscale\":false,\"x\":[-64.3163,-2.683699999999998],\"y\":[-19.854300000000002,103.8543],\"z\":[[-63.931,-63.931],[-63.931,-63.931]],\"type\":\"surface\"},{\"colorscale\":[[0.0,\"rgb(3, 5, 18)\"],[0.09090909090909091,\"rgb(25, 25, 51)\"],[0.18181818181818182,\"rgb(44, 42, 87)\"],[0.2727272727272727,\"rgb(58, 60, 125)\"],[0.36363636363636365,\"rgb(62, 83, 160)\"],[0.45454545454545453,\"rgb(62, 109, 178)\"],[0.5454545454545454,\"rgb(72, 134, 187)\"],[0.6363636363636364,\"rgb(89, 159, 196)\"],[0.7272727272727273,\"rgb(114, 184, 205)\"],[0.8181818181818182,\"rgb(149, 207, 216)\"],[0.9090909090909091,\"rgb(192, 229, 232)\"],[1.0,\"rgb(234, 252, 253)\"]],\"opacity\":0.1,\"showscale\":false,\"x\":[-64.3163,-2.683699999999998],\"y\":[-19.854300000000002,103.8543],\"z\":[[-3.068999999999999,-3.068999999999999],[-3.068999999999999,-3.068999999999999]],\"type\":\"surface\"},{\"colorscale\":[[0.0,\"rgb(3, 5, 18)\"],[0.09090909090909091,\"rgb(25, 25, 51)\"],[0.18181818181818182,\"rgb(44, 42, 87)\"],[0.2727272727272727,\"rgb(58, 60, 125)\"],[0.36363636363636365,\"rgb(62, 83, 160)\"],[0.45454545454545453,\"rgb(62, 109, 178)\"],[0.5454545454545454,\"rgb(72, 134, 187)\"],[0.6363636363636364,\"rgb(89, 159, 196)\"],[0.7272727272727273,\"rgb(114, 184, 205)\"],[0.8181818181818182,\"rgb(149, 207, 216)\"],[0.9090909090909091,\"rgb(192, 229, 232)\"],[1.0,\"rgb(234, 252, 253)\"]],\"opacity\":0.1,\"showscale\":false,\"x\":[2.683699999999998,64.3163],\"y\":[-19.854300000000002,103.8543],\"z\":[[3.068999999999999,3.068999999999999],[3.068999999999999,3.068999999999999]],\"type\":\"surface\"},{\"colorscale\":[[0.0,\"rgb(3, 5, 18)\"],[0.09090909090909091,\"rgb(25, 25, 51)\"],[0.18181818181818182,\"rgb(44, 42, 87)\"],[0.2727272727272727,\"rgb(58, 60, 125)\"],[0.36363636363636365,\"rgb(62, 83, 160)\"],[0.45454545454545453,\"rgb(62, 109, 178)\"],[0.5454545454545454,\"rgb(72, 134, 187)\"],[0.6363636363636364,\"rgb(89, 159, 196)\"],[0.7272727272727273,\"rgb(114, 184, 205)\"],[0.8181818181818182,\"rgb(149, 207, 216)\"],[0.9090909090909091,\"rgb(192, 229, 232)\"],[1.0,\"rgb(234, 252, 253)\"]],\"opacity\":0.1,\"showscale\":false,\"x\":[2.683699999999998,64.3163],\"y\":[-19.854300000000002,103.8543],\"z\":[[63.931,63.931],[63.931,63.931]],\"type\":\"surface\"},{\"colorscale\":[[0.0,\"rgb(3, 5, 18)\"],[0.09090909090909091,\"rgb(25, 25, 51)\"],[0.18181818181818182,\"rgb(44, 42, 87)\"],[0.2727272727272727,\"rgb(58, 60, 125)\"],[0.36363636363636365,\"rgb(62, 83, 160)\"],[0.45454545454545453,\"rgb(62, 109, 178)\"],[0.5454545454545454,\"rgb(72, 134, 187)\"],[0.6363636363636364,\"rgb(89, 159, 196)\"],[0.7272727272727273,\"rgb(114, 184, 205)\"],[0.8181818181818182,\"rgb(149, 207, 216)\"],[0.9090909090909091,\"rgb(192, 229, 232)\"],[1.0,\"rgb(234, 252, 253)\"]],\"opacity\":0.1,\"showscale\":false,\"x\":[-64.3163,-2.683699999999998],\"y\":[-19.854300000000002,103.8543],\"z\":[[3.068999999999999,3.068999999999999],[3.068999999999999,3.068999999999999]],\"type\":\"surface\"},{\"colorscale\":[[0.0,\"rgb(3, 5, 18)\"],[0.09090909090909091,\"rgb(25, 25, 51)\"],[0.18181818181818182,\"rgb(44, 42, 87)\"],[0.2727272727272727,\"rgb(58, 60, 125)\"],[0.36363636363636365,\"rgb(62, 83, 160)\"],[0.45454545454545453,\"rgb(62, 109, 178)\"],[0.5454545454545454,\"rgb(72, 134, 187)\"],[0.6363636363636364,\"rgb(89, 159, 196)\"],[0.7272727272727273,\"rgb(114, 184, 205)\"],[0.8181818181818182,\"rgb(149, 207, 216)\"],[0.9090909090909091,\"rgb(192, 229, 232)\"],[1.0,\"rgb(234, 252, 253)\"]],\"opacity\":0.1,\"showscale\":false,\"x\":[-64.3163,-2.683699999999998],\"y\":[-19.854300000000002,103.8543],\"z\":[[63.931,63.931],[63.931,63.931]],\"type\":\"surface\"},{\"colorscale\":[[0.0,\"rgb(3, 5, 18)\"],[0.09090909090909091,\"rgb(25, 25, 51)\"],[0.18181818181818182,\"rgb(44, 42, 87)\"],[0.2727272727272727,\"rgb(58, 60, 125)\"],[0.36363636363636365,\"rgb(62, 83, 160)\"],[0.45454545454545453,\"rgb(62, 109, 178)\"],[0.5454545454545454,\"rgb(72, 134, 187)\"],[0.6363636363636364,\"rgb(89, 159, 196)\"],[0.7272727272727273,\"rgb(114, 184, 205)\"],[0.8181818181818182,\"rgb(149, 207, 216)\"],[0.9090909090909091,\"rgb(192, 229, 232)\"],[1.0,\"rgb(234, 252, 253)\"]],\"opacity\":0.1,\"showscale\":false,\"x\":[2.683699999999998,64.3163],\"y\":[-19.854300000000002,103.8543],\"z\":[[-63.931,-63.931],[-63.931,-63.931]],\"type\":\"surface\"},{\"colorscale\":[[0.0,\"rgb(3, 5, 18)\"],[0.09090909090909091,\"rgb(25, 25, 51)\"],[0.18181818181818182,\"rgb(44, 42, 87)\"],[0.2727272727272727,\"rgb(58, 60, 125)\"],[0.36363636363636365,\"rgb(62, 83, 160)\"],[0.45454545454545453,\"rgb(62, 109, 178)\"],[0.5454545454545454,\"rgb(72, 134, 187)\"],[0.6363636363636364,\"rgb(89, 159, 196)\"],[0.7272727272727273,\"rgb(114, 184, 205)\"],[0.8181818181818182,\"rgb(149, 207, 216)\"],[0.9090909090909091,\"rgb(192, 229, 232)\"],[1.0,\"rgb(234, 252, 253)\"]],\"opacity\":0.1,\"showscale\":false,\"x\":[2.683699999999998,64.3163],\"y\":[-19.854300000000002,103.8543],\"z\":[[-3.068999999999999,-3.068999999999999],[-3.068999999999999,-3.068999999999999]],\"type\":\"surface\"},{\"colorscale\":[[0.0,\"rgb(3, 5, 18)\"],[0.09090909090909091,\"rgb(25, 25, 51)\"],[0.18181818181818182,\"rgb(44, 42, 87)\"],[0.2727272727272727,\"rgb(58, 60, 125)\"],[0.36363636363636365,\"rgb(62, 83, 160)\"],[0.45454545454545453,\"rgb(62, 109, 178)\"],[0.5454545454545454,\"rgb(72, 134, 187)\"],[0.6363636363636364,\"rgb(89, 159, 196)\"],[0.7272727272727273,\"rgb(114, 184, 205)\"],[0.8181818181818182,\"rgb(149, 207, 216)\"],[0.9090909090909091,\"rgb(192, 229, 232)\"],[1.0,\"rgb(234, 252, 253)\"]],\"opacity\":0.1,\"showscale\":false,\"x\":[-64.3163,-2.683699999999998],\"y\":[-19.854300000000002,103.8543],\"z\":[[-63.931,-63.931],[-63.931,-63.931]],\"type\":\"surface\"},{\"colorscale\":[[0.0,\"rgb(3, 5, 18)\"],[0.09090909090909091,\"rgb(25, 25, 51)\"],[0.18181818181818182,\"rgb(44, 42, 87)\"],[0.2727272727272727,\"rgb(58, 60, 125)\"],[0.36363636363636365,\"rgb(62, 83, 160)\"],[0.45454545454545453,\"rgb(62, 109, 178)\"],[0.5454545454545454,\"rgb(72, 134, 187)\"],[0.6363636363636364,\"rgb(89, 159, 196)\"],[0.7272727272727273,\"rgb(114, 184, 205)\"],[0.8181818181818182,\"rgb(149, 207, 216)\"],[0.9090909090909091,\"rgb(192, 229, 232)\"],[1.0,\"rgb(234, 252, 253)\"]],\"opacity\":0.1,\"showscale\":false,\"x\":[-64.3163,-2.683699999999998],\"y\":[-19.854300000000002,103.8543],\"z\":[[-3.068999999999999,-3.068999999999999],[-3.068999999999999,-3.068999999999999]],\"type\":\"surface\"},{\"colorscale\":[[0.0,\"rgb(3, 5, 18)\"],[0.09090909090909091,\"rgb(25, 25, 51)\"],[0.18181818181818182,\"rgb(44, 42, 87)\"],[0.2727272727272727,\"rgb(58, 60, 125)\"],[0.36363636363636365,\"rgb(62, 83, 160)\"],[0.45454545454545453,\"rgb(62, 109, 178)\"],[0.5454545454545454,\"rgb(72, 134, 187)\"],[0.6363636363636364,\"rgb(89, 159, 196)\"],[0.7272727272727273,\"rgb(114, 184, 205)\"],[0.8181818181818182,\"rgb(149, 207, 216)\"],[0.9090909090909091,\"rgb(192, 229, 232)\"],[1.0,\"rgb(234, 252, 253)\"]],\"opacity\":0.1,\"showscale\":false,\"x\":[2.683699999999998,64.3163],\"y\":[-19.854300000000002,103.8543],\"z\":[[3.068999999999999,3.068999999999999],[3.068999999999999,3.068999999999999]],\"type\":\"surface\"},{\"colorscale\":[[0.0,\"rgb(3, 5, 18)\"],[0.09090909090909091,\"rgb(25, 25, 51)\"],[0.18181818181818182,\"rgb(44, 42, 87)\"],[0.2727272727272727,\"rgb(58, 60, 125)\"],[0.36363636363636365,\"rgb(62, 83, 160)\"],[0.45454545454545453,\"rgb(62, 109, 178)\"],[0.5454545454545454,\"rgb(72, 134, 187)\"],[0.6363636363636364,\"rgb(89, 159, 196)\"],[0.7272727272727273,\"rgb(114, 184, 205)\"],[0.8181818181818182,\"rgb(149, 207, 216)\"],[0.9090909090909091,\"rgb(192, 229, 232)\"],[1.0,\"rgb(234, 252, 253)\"]],\"opacity\":0.1,\"showscale\":false,\"x\":[2.683699999999998,64.3163],\"y\":[-19.854300000000002,103.8543],\"z\":[[63.931,63.931],[63.931,63.931]],\"type\":\"surface\"},{\"colorscale\":[[0.0,\"rgb(3, 5, 18)\"],[0.09090909090909091,\"rgb(25, 25, 51)\"],[0.18181818181818182,\"rgb(44, 42, 87)\"],[0.2727272727272727,\"rgb(58, 60, 125)\"],[0.36363636363636365,\"rgb(62, 83, 160)\"],[0.45454545454545453,\"rgb(62, 109, 178)\"],[0.5454545454545454,\"rgb(72, 134, 187)\"],[0.6363636363636364,\"rgb(89, 159, 196)\"],[0.7272727272727273,\"rgb(114, 184, 205)\"],[0.8181818181818182,\"rgb(149, 207, 216)\"],[0.9090909090909091,\"rgb(192, 229, 232)\"],[1.0,\"rgb(234, 252, 253)\"]],\"opacity\":0.1,\"showscale\":false,\"x\":[-64.3163,-2.683699999999998],\"y\":[-19.854300000000002,103.8543],\"z\":[[3.068999999999999,3.068999999999999],[3.068999999999999,3.068999999999999]],\"type\":\"surface\"},{\"colorscale\":[[0.0,\"rgb(3, 5, 18)\"],[0.09090909090909091,\"rgb(25, 25, 51)\"],[0.18181818181818182,\"rgb(44, 42, 87)\"],[0.2727272727272727,\"rgb(58, 60, 125)\"],[0.36363636363636365,\"rgb(62, 83, 160)\"],[0.45454545454545453,\"rgb(62, 109, 178)\"],[0.5454545454545454,\"rgb(72, 134, 187)\"],[0.6363636363636364,\"rgb(89, 159, 196)\"],[0.7272727272727273,\"rgb(114, 184, 205)\"],[0.8181818181818182,\"rgb(149, 207, 216)\"],[0.9090909090909091,\"rgb(192, 229, 232)\"],[1.0,\"rgb(234, 252, 253)\"]],\"opacity\":0.1,\"showscale\":false,\"x\":[-64.3163,-2.683699999999998],\"y\":[-19.854300000000002,103.8543],\"z\":[[63.931,63.931],[63.931,63.931]],\"type\":\"surface\"},{\"colorscale\":[[0.0,\"rgb(3, 5, 18)\"],[0.09090909090909091,\"rgb(25, 25, 51)\"],[0.18181818181818182,\"rgb(44, 42, 87)\"],[0.2727272727272727,\"rgb(58, 60, 125)\"],[0.36363636363636365,\"rgb(62, 83, 160)\"],[0.45454545454545453,\"rgb(62, 109, 178)\"],[0.5454545454545454,\"rgb(72, 134, 187)\"],[0.6363636363636364,\"rgb(89, 159, 196)\"],[0.7272727272727273,\"rgb(114, 184, 205)\"],[0.8181818181818182,\"rgb(149, 207, 216)\"],[0.9090909090909091,\"rgb(192, 229, 232)\"],[1.0,\"rgb(234, 252, 253)\"]],\"opacity\":0.1,\"showscale\":false,\"x\":[2.683699999999998,64.3163],\"y\":[-19.854300000000002,103.8543],\"z\":[[-63.931,-63.931],[-63.931,-63.931]],\"type\":\"surface\"},{\"colorscale\":[[0.0,\"rgb(3, 5, 18)\"],[0.09090909090909091,\"rgb(25, 25, 51)\"],[0.18181818181818182,\"rgb(44, 42, 87)\"],[0.2727272727272727,\"rgb(58, 60, 125)\"],[0.36363636363636365,\"rgb(62, 83, 160)\"],[0.45454545454545453,\"rgb(62, 109, 178)\"],[0.5454545454545454,\"rgb(72, 134, 187)\"],[0.6363636363636364,\"rgb(89, 159, 196)\"],[0.7272727272727273,\"rgb(114, 184, 205)\"],[0.8181818181818182,\"rgb(149, 207, 216)\"],[0.9090909090909091,\"rgb(192, 229, 232)\"],[1.0,\"rgb(234, 252, 253)\"]],\"opacity\":0.1,\"showscale\":false,\"x\":[2.683699999999998,64.3163],\"y\":[-19.854300000000002,103.8543],\"z\":[[-3.068999999999999,-3.068999999999999],[-3.068999999999999,-3.068999999999999]],\"type\":\"surface\"},{\"colorscale\":[[0.0,\"rgb(3, 5, 18)\"],[0.09090909090909091,\"rgb(25, 25, 51)\"],[0.18181818181818182,\"rgb(44, 42, 87)\"],[0.2727272727272727,\"rgb(58, 60, 125)\"],[0.36363636363636365,\"rgb(62, 83, 160)\"],[0.45454545454545453,\"rgb(62, 109, 178)\"],[0.5454545454545454,\"rgb(72, 134, 187)\"],[0.6363636363636364,\"rgb(89, 159, 196)\"],[0.7272727272727273,\"rgb(114, 184, 205)\"],[0.8181818181818182,\"rgb(149, 207, 216)\"],[0.9090909090909091,\"rgb(192, 229, 232)\"],[1.0,\"rgb(234, 252, 253)\"]],\"opacity\":0.1,\"showscale\":false,\"x\":[-64.3163,-2.683699999999998],\"y\":[-19.854300000000002,103.8543],\"z\":[[-63.931,-63.931],[-63.931,-63.931]],\"type\":\"surface\"},{\"colorscale\":[[0.0,\"rgb(3, 5, 18)\"],[0.09090909090909091,\"rgb(25, 25, 51)\"],[0.18181818181818182,\"rgb(44, 42, 87)\"],[0.2727272727272727,\"rgb(58, 60, 125)\"],[0.36363636363636365,\"rgb(62, 83, 160)\"],[0.45454545454545453,\"rgb(62, 109, 178)\"],[0.5454545454545454,\"rgb(72, 134, 187)\"],[0.6363636363636364,\"rgb(89, 159, 196)\"],[0.7272727272727273,\"rgb(114, 184, 205)\"],[0.8181818181818182,\"rgb(149, 207, 216)\"],[0.9090909090909091,\"rgb(192, 229, 232)\"],[1.0,\"rgb(234, 252, 253)\"]],\"opacity\":0.1,\"showscale\":false,\"x\":[-64.3163,-2.683699999999998],\"y\":[-19.854300000000002,103.8543],\"z\":[[-3.068999999999999,-3.068999999999999],[-3.068999999999999,-3.068999999999999]],\"type\":\"surface\"},{\"colorscale\":[[0.0,\"rgb(3, 5, 18)\"],[0.09090909090909091,\"rgb(25, 25, 51)\"],[0.18181818181818182,\"rgb(44, 42, 87)\"],[0.2727272727272727,\"rgb(58, 60, 125)\"],[0.36363636363636365,\"rgb(62, 83, 160)\"],[0.45454545454545453,\"rgb(62, 109, 178)\"],[0.5454545454545454,\"rgb(72, 134, 187)\"],[0.6363636363636364,\"rgb(89, 159, 196)\"],[0.7272727272727273,\"rgb(114, 184, 205)\"],[0.8181818181818182,\"rgb(149, 207, 216)\"],[0.9090909090909091,\"rgb(192, 229, 232)\"],[1.0,\"rgb(234, 252, 253)\"]],\"opacity\":0.1,\"showscale\":false,\"x\":[2.683699999999998,64.3163],\"y\":[-19.854300000000002,103.8543],\"z\":[[3.068999999999999,3.068999999999999],[3.068999999999999,3.068999999999999]],\"type\":\"surface\"},{\"colorscale\":[[0.0,\"rgb(3, 5, 18)\"],[0.09090909090909091,\"rgb(25, 25, 51)\"],[0.18181818181818182,\"rgb(44, 42, 87)\"],[0.2727272727272727,\"rgb(58, 60, 125)\"],[0.36363636363636365,\"rgb(62, 83, 160)\"],[0.45454545454545453,\"rgb(62, 109, 178)\"],[0.5454545454545454,\"rgb(72, 134, 187)\"],[0.6363636363636364,\"rgb(89, 159, 196)\"],[0.7272727272727273,\"rgb(114, 184, 205)\"],[0.8181818181818182,\"rgb(149, 207, 216)\"],[0.9090909090909091,\"rgb(192, 229, 232)\"],[1.0,\"rgb(234, 252, 253)\"]],\"opacity\":0.1,\"showscale\":false,\"x\":[2.683699999999998,64.3163],\"y\":[-19.854300000000002,103.8543],\"z\":[[63.931,63.931],[63.931,63.931]],\"type\":\"surface\"},{\"colorscale\":[[0.0,\"rgb(3, 5, 18)\"],[0.09090909090909091,\"rgb(25, 25, 51)\"],[0.18181818181818182,\"rgb(44, 42, 87)\"],[0.2727272727272727,\"rgb(58, 60, 125)\"],[0.36363636363636365,\"rgb(62, 83, 160)\"],[0.45454545454545453,\"rgb(62, 109, 178)\"],[0.5454545454545454,\"rgb(72, 134, 187)\"],[0.6363636363636364,\"rgb(89, 159, 196)\"],[0.7272727272727273,\"rgb(114, 184, 205)\"],[0.8181818181818182,\"rgb(149, 207, 216)\"],[0.9090909090909091,\"rgb(192, 229, 232)\"],[1.0,\"rgb(234, 252, 253)\"]],\"opacity\":0.1,\"showscale\":false,\"x\":[-64.3163,-2.683699999999998],\"y\":[-19.854300000000002,103.8543],\"z\":[[3.068999999999999,3.068999999999999],[3.068999999999999,3.068999999999999]],\"type\":\"surface\"},{\"colorscale\":[[0.0,\"rgb(3, 5, 18)\"],[0.09090909090909091,\"rgb(25, 25, 51)\"],[0.18181818181818182,\"rgb(44, 42, 87)\"],[0.2727272727272727,\"rgb(58, 60, 125)\"],[0.36363636363636365,\"rgb(62, 83, 160)\"],[0.45454545454545453,\"rgb(62, 109, 178)\"],[0.5454545454545454,\"rgb(72, 134, 187)\"],[0.6363636363636364,\"rgb(89, 159, 196)\"],[0.7272727272727273,\"rgb(114, 184, 205)\"],[0.8181818181818182,\"rgb(149, 207, 216)\"],[0.9090909090909091,\"rgb(192, 229, 232)\"],[1.0,\"rgb(234, 252, 253)\"]],\"opacity\":0.1,\"showscale\":false,\"x\":[-64.3163,-2.683699999999998],\"y\":[-19.854300000000002,103.8543],\"z\":[[63.931,63.931],[63.931,63.931]],\"type\":\"surface\"},{\"colorscale\":[[0.0,\"rgb(3, 5, 18)\"],[0.09090909090909091,\"rgb(25, 25, 51)\"],[0.18181818181818182,\"rgb(44, 42, 87)\"],[0.2727272727272727,\"rgb(58, 60, 125)\"],[0.36363636363636365,\"rgb(62, 83, 160)\"],[0.45454545454545453,\"rgb(62, 109, 178)\"],[0.5454545454545454,\"rgb(72, 134, 187)\"],[0.6363636363636364,\"rgb(89, 159, 196)\"],[0.7272727272727273,\"rgb(114, 184, 205)\"],[0.8181818181818182,\"rgb(149, 207, 216)\"],[0.9090909090909091,\"rgb(192, 229, 232)\"],[1.0,\"rgb(234, 252, 253)\"]],\"opacity\":0.1,\"showscale\":false,\"x\":[2.683699999999998,64.3163],\"y\":[-19.854300000000002,103.8543],\"z\":[[-63.931,-63.931],[-63.931,-63.931]],\"type\":\"surface\"},{\"colorscale\":[[0.0,\"rgb(3, 5, 18)\"],[0.09090909090909091,\"rgb(25, 25, 51)\"],[0.18181818181818182,\"rgb(44, 42, 87)\"],[0.2727272727272727,\"rgb(58, 60, 125)\"],[0.36363636363636365,\"rgb(62, 83, 160)\"],[0.45454545454545453,\"rgb(62, 109, 178)\"],[0.5454545454545454,\"rgb(72, 134, 187)\"],[0.6363636363636364,\"rgb(89, 159, 196)\"],[0.7272727272727273,\"rgb(114, 184, 205)\"],[0.8181818181818182,\"rgb(149, 207, 216)\"],[0.9090909090909091,\"rgb(192, 229, 232)\"],[1.0,\"rgb(234, 252, 253)\"]],\"opacity\":0.1,\"showscale\":false,\"x\":[2.683699999999998,64.3163],\"y\":[-19.854300000000002,103.8543],\"z\":[[-3.068999999999999,-3.068999999999999],[-3.068999999999999,-3.068999999999999]],\"type\":\"surface\"},{\"colorscale\":[[0.0,\"rgb(3, 5, 18)\"],[0.09090909090909091,\"rgb(25, 25, 51)\"],[0.18181818181818182,\"rgb(44, 42, 87)\"],[0.2727272727272727,\"rgb(58, 60, 125)\"],[0.36363636363636365,\"rgb(62, 83, 160)\"],[0.45454545454545453,\"rgb(62, 109, 178)\"],[0.5454545454545454,\"rgb(72, 134, 187)\"],[0.6363636363636364,\"rgb(89, 159, 196)\"],[0.7272727272727273,\"rgb(114, 184, 205)\"],[0.8181818181818182,\"rgb(149, 207, 216)\"],[0.9090909090909091,\"rgb(192, 229, 232)\"],[1.0,\"rgb(234, 252, 253)\"]],\"opacity\":0.1,\"showscale\":false,\"x\":[-64.3163,-2.683699999999998],\"y\":[-19.854300000000002,103.8543],\"z\":[[-63.931,-63.931],[-63.931,-63.931]],\"type\":\"surface\"},{\"colorscale\":[[0.0,\"rgb(3, 5, 18)\"],[0.09090909090909091,\"rgb(25, 25, 51)\"],[0.18181818181818182,\"rgb(44, 42, 87)\"],[0.2727272727272727,\"rgb(58, 60, 125)\"],[0.36363636363636365,\"rgb(62, 83, 160)\"],[0.45454545454545453,\"rgb(62, 109, 178)\"],[0.5454545454545454,\"rgb(72, 134, 187)\"],[0.6363636363636364,\"rgb(89, 159, 196)\"],[0.7272727272727273,\"rgb(114, 184, 205)\"],[0.8181818181818182,\"rgb(149, 207, 216)\"],[0.9090909090909091,\"rgb(192, 229, 232)\"],[1.0,\"rgb(234, 252, 253)\"]],\"opacity\":0.1,\"showscale\":false,\"x\":[-64.3163,-2.683699999999998],\"y\":[-19.854300000000002,103.8543],\"z\":[[-3.068999999999999,-3.068999999999999],[-3.068999999999999,-3.068999999999999]],\"type\":\"surface\"},{\"colorscale\":[[0.0,\"rgb(3, 5, 18)\"],[0.09090909090909091,\"rgb(25, 25, 51)\"],[0.18181818181818182,\"rgb(44, 42, 87)\"],[0.2727272727272727,\"rgb(58, 60, 125)\"],[0.36363636363636365,\"rgb(62, 83, 160)\"],[0.45454545454545453,\"rgb(62, 109, 178)\"],[0.5454545454545454,\"rgb(72, 134, 187)\"],[0.6363636363636364,\"rgb(89, 159, 196)\"],[0.7272727272727273,\"rgb(114, 184, 205)\"],[0.8181818181818182,\"rgb(149, 207, 216)\"],[0.9090909090909091,\"rgb(192, 229, 232)\"],[1.0,\"rgb(234, 252, 253)\"]],\"opacity\":0.1,\"showscale\":false,\"x\":[2.683699999999998,64.3163],\"y\":[-19.854300000000002,103.8543],\"z\":[[3.068999999999999,3.068999999999999],[3.068999999999999,3.068999999999999]],\"type\":\"surface\"},{\"colorscale\":[[0.0,\"rgb(3, 5, 18)\"],[0.09090909090909091,\"rgb(25, 25, 51)\"],[0.18181818181818182,\"rgb(44, 42, 87)\"],[0.2727272727272727,\"rgb(58, 60, 125)\"],[0.36363636363636365,\"rgb(62, 83, 160)\"],[0.45454545454545453,\"rgb(62, 109, 178)\"],[0.5454545454545454,\"rgb(72, 134, 187)\"],[0.6363636363636364,\"rgb(89, 159, 196)\"],[0.7272727272727273,\"rgb(114, 184, 205)\"],[0.8181818181818182,\"rgb(149, 207, 216)\"],[0.9090909090909091,\"rgb(192, 229, 232)\"],[1.0,\"rgb(234, 252, 253)\"]],\"opacity\":0.1,\"showscale\":false,\"x\":[2.683699999999998,64.3163],\"y\":[-19.854300000000002,103.8543],\"z\":[[63.931,63.931],[63.931,63.931]],\"type\":\"surface\"},{\"colorscale\":[[0.0,\"rgb(3, 5, 18)\"],[0.09090909090909091,\"rgb(25, 25, 51)\"],[0.18181818181818182,\"rgb(44, 42, 87)\"],[0.2727272727272727,\"rgb(58, 60, 125)\"],[0.36363636363636365,\"rgb(62, 83, 160)\"],[0.45454545454545453,\"rgb(62, 109, 178)\"],[0.5454545454545454,\"rgb(72, 134, 187)\"],[0.6363636363636364,\"rgb(89, 159, 196)\"],[0.7272727272727273,\"rgb(114, 184, 205)\"],[0.8181818181818182,\"rgb(149, 207, 216)\"],[0.9090909090909091,\"rgb(192, 229, 232)\"],[1.0,\"rgb(234, 252, 253)\"]],\"opacity\":0.1,\"showscale\":false,\"x\":[-64.3163,-2.683699999999998],\"y\":[-19.854300000000002,103.8543],\"z\":[[3.068999999999999,3.068999999999999],[3.068999999999999,3.068999999999999]],\"type\":\"surface\"},{\"colorscale\":[[0.0,\"rgb(3, 5, 18)\"],[0.09090909090909091,\"rgb(25, 25, 51)\"],[0.18181818181818182,\"rgb(44, 42, 87)\"],[0.2727272727272727,\"rgb(58, 60, 125)\"],[0.36363636363636365,\"rgb(62, 83, 160)\"],[0.45454545454545453,\"rgb(62, 109, 178)\"],[0.5454545454545454,\"rgb(72, 134, 187)\"],[0.6363636363636364,\"rgb(89, 159, 196)\"],[0.7272727272727273,\"rgb(114, 184, 205)\"],[0.8181818181818182,\"rgb(149, 207, 216)\"],[0.9090909090909091,\"rgb(192, 229, 232)\"],[1.0,\"rgb(234, 252, 253)\"]],\"opacity\":0.1,\"showscale\":false,\"x\":[-64.3163,-2.683699999999998],\"y\":[-19.854300000000002,103.8543],\"z\":[[63.931,63.931],[63.931,63.931]],\"type\":\"surface\"},{\"colorscale\":[[0.0,\"rgb(3, 5, 18)\"],[0.09090909090909091,\"rgb(25, 25, 51)\"],[0.18181818181818182,\"rgb(44, 42, 87)\"],[0.2727272727272727,\"rgb(58, 60, 125)\"],[0.36363636363636365,\"rgb(62, 83, 160)\"],[0.45454545454545453,\"rgb(62, 109, 178)\"],[0.5454545454545454,\"rgb(72, 134, 187)\"],[0.6363636363636364,\"rgb(89, 159, 196)\"],[0.7272727272727273,\"rgb(114, 184, 205)\"],[0.8181818181818182,\"rgb(149, 207, 216)\"],[0.9090909090909091,\"rgb(192, 229, 232)\"],[1.0,\"rgb(234, 252, 253)\"]],\"opacity\":0.1,\"showscale\":false,\"x\":[2.683699999999998,64.3163],\"y\":[-19.854300000000002,103.8543],\"z\":[[-63.931,-63.931],[-63.931,-63.931]],\"type\":\"surface\"},{\"colorscale\":[[0.0,\"rgb(3, 5, 18)\"],[0.09090909090909091,\"rgb(25, 25, 51)\"],[0.18181818181818182,\"rgb(44, 42, 87)\"],[0.2727272727272727,\"rgb(58, 60, 125)\"],[0.36363636363636365,\"rgb(62, 83, 160)\"],[0.45454545454545453,\"rgb(62, 109, 178)\"],[0.5454545454545454,\"rgb(72, 134, 187)\"],[0.6363636363636364,\"rgb(89, 159, 196)\"],[0.7272727272727273,\"rgb(114, 184, 205)\"],[0.8181818181818182,\"rgb(149, 207, 216)\"],[0.9090909090909091,\"rgb(192, 229, 232)\"],[1.0,\"rgb(234, 252, 253)\"]],\"opacity\":0.1,\"showscale\":false,\"x\":[2.683699999999998,64.3163],\"y\":[-19.854300000000002,103.8543],\"z\":[[-3.068999999999999,-3.068999999999999],[-3.068999999999999,-3.068999999999999]],\"type\":\"surface\"},{\"colorscale\":[[0.0,\"rgb(3, 5, 18)\"],[0.09090909090909091,\"rgb(25, 25, 51)\"],[0.18181818181818182,\"rgb(44, 42, 87)\"],[0.2727272727272727,\"rgb(58, 60, 125)\"],[0.36363636363636365,\"rgb(62, 83, 160)\"],[0.45454545454545453,\"rgb(62, 109, 178)\"],[0.5454545454545454,\"rgb(72, 134, 187)\"],[0.6363636363636364,\"rgb(89, 159, 196)\"],[0.7272727272727273,\"rgb(114, 184, 205)\"],[0.8181818181818182,\"rgb(149, 207, 216)\"],[0.9090909090909091,\"rgb(192, 229, 232)\"],[1.0,\"rgb(234, 252, 253)\"]],\"opacity\":0.1,\"showscale\":false,\"x\":[-64.3163,-2.683699999999998],\"y\":[-19.854300000000002,103.8543],\"z\":[[-63.931,-63.931],[-63.931,-63.931]],\"type\":\"surface\"},{\"colorscale\":[[0.0,\"rgb(3, 5, 18)\"],[0.09090909090909091,\"rgb(25, 25, 51)\"],[0.18181818181818182,\"rgb(44, 42, 87)\"],[0.2727272727272727,\"rgb(58, 60, 125)\"],[0.36363636363636365,\"rgb(62, 83, 160)\"],[0.45454545454545453,\"rgb(62, 109, 178)\"],[0.5454545454545454,\"rgb(72, 134, 187)\"],[0.6363636363636364,\"rgb(89, 159, 196)\"],[0.7272727272727273,\"rgb(114, 184, 205)\"],[0.8181818181818182,\"rgb(149, 207, 216)\"],[0.9090909090909091,\"rgb(192, 229, 232)\"],[1.0,\"rgb(234, 252, 253)\"]],\"opacity\":0.1,\"showscale\":false,\"x\":[-64.3163,-2.683699999999998],\"y\":[-19.854300000000002,103.8543],\"z\":[[-3.068999999999999,-3.068999999999999],[-3.068999999999999,-3.068999999999999]],\"type\":\"surface\"},{\"colorscale\":[[0.0,\"rgb(3, 5, 18)\"],[0.09090909090909091,\"rgb(25, 25, 51)\"],[0.18181818181818182,\"rgb(44, 42, 87)\"],[0.2727272727272727,\"rgb(58, 60, 125)\"],[0.36363636363636365,\"rgb(62, 83, 160)\"],[0.45454545454545453,\"rgb(62, 109, 178)\"],[0.5454545454545454,\"rgb(72, 134, 187)\"],[0.6363636363636364,\"rgb(89, 159, 196)\"],[0.7272727272727273,\"rgb(114, 184, 205)\"],[0.8181818181818182,\"rgb(149, 207, 216)\"],[0.9090909090909091,\"rgb(192, 229, 232)\"],[1.0,\"rgb(234, 252, 253)\"]],\"opacity\":0.1,\"showscale\":false,\"x\":[2.683699999999998,64.3163],\"y\":[-19.854300000000002,103.8543],\"z\":[[3.068999999999999,3.068999999999999],[3.068999999999999,3.068999999999999]],\"type\":\"surface\"},{\"colorscale\":[[0.0,\"rgb(3, 5, 18)\"],[0.09090909090909091,\"rgb(25, 25, 51)\"],[0.18181818181818182,\"rgb(44, 42, 87)\"],[0.2727272727272727,\"rgb(58, 60, 125)\"],[0.36363636363636365,\"rgb(62, 83, 160)\"],[0.45454545454545453,\"rgb(62, 109, 178)\"],[0.5454545454545454,\"rgb(72, 134, 187)\"],[0.6363636363636364,\"rgb(89, 159, 196)\"],[0.7272727272727273,\"rgb(114, 184, 205)\"],[0.8181818181818182,\"rgb(149, 207, 216)\"],[0.9090909090909091,\"rgb(192, 229, 232)\"],[1.0,\"rgb(234, 252, 253)\"]],\"opacity\":0.1,\"showscale\":false,\"x\":[2.683699999999998,64.3163],\"y\":[-19.854300000000002,103.8543],\"z\":[[63.931,63.931],[63.931,63.931]],\"type\":\"surface\"},{\"colorscale\":[[0.0,\"rgb(3, 5, 18)\"],[0.09090909090909091,\"rgb(25, 25, 51)\"],[0.18181818181818182,\"rgb(44, 42, 87)\"],[0.2727272727272727,\"rgb(58, 60, 125)\"],[0.36363636363636365,\"rgb(62, 83, 160)\"],[0.45454545454545453,\"rgb(62, 109, 178)\"],[0.5454545454545454,\"rgb(72, 134, 187)\"],[0.6363636363636364,\"rgb(89, 159, 196)\"],[0.7272727272727273,\"rgb(114, 184, 205)\"],[0.8181818181818182,\"rgb(149, 207, 216)\"],[0.9090909090909091,\"rgb(192, 229, 232)\"],[1.0,\"rgb(234, 252, 253)\"]],\"opacity\":0.1,\"showscale\":false,\"x\":[-64.3163,-2.683699999999998],\"y\":[-19.854300000000002,103.8543],\"z\":[[3.068999999999999,3.068999999999999],[3.068999999999999,3.068999999999999]],\"type\":\"surface\"},{\"colorscale\":[[0.0,\"rgb(3, 5, 18)\"],[0.09090909090909091,\"rgb(25, 25, 51)\"],[0.18181818181818182,\"rgb(44, 42, 87)\"],[0.2727272727272727,\"rgb(58, 60, 125)\"],[0.36363636363636365,\"rgb(62, 83, 160)\"],[0.45454545454545453,\"rgb(62, 109, 178)\"],[0.5454545454545454,\"rgb(72, 134, 187)\"],[0.6363636363636364,\"rgb(89, 159, 196)\"],[0.7272727272727273,\"rgb(114, 184, 205)\"],[0.8181818181818182,\"rgb(149, 207, 216)\"],[0.9090909090909091,\"rgb(192, 229, 232)\"],[1.0,\"rgb(234, 252, 253)\"]],\"opacity\":0.1,\"showscale\":false,\"x\":[-64.3163,-2.683699999999998],\"y\":[-19.854300000000002,103.8543],\"z\":[[63.931,63.931],[63.931,63.931]],\"type\":\"surface\"},{\"colorscale\":[[0.0,\"rgb(3, 5, 18)\"],[0.09090909090909091,\"rgb(25, 25, 51)\"],[0.18181818181818182,\"rgb(44, 42, 87)\"],[0.2727272727272727,\"rgb(58, 60, 125)\"],[0.36363636363636365,\"rgb(62, 83, 160)\"],[0.45454545454545453,\"rgb(62, 109, 178)\"],[0.5454545454545454,\"rgb(72, 134, 187)\"],[0.6363636363636364,\"rgb(89, 159, 196)\"],[0.7272727272727273,\"rgb(114, 184, 205)\"],[0.8181818181818182,\"rgb(149, 207, 216)\"],[0.9090909090909091,\"rgb(192, 229, 232)\"],[1.0,\"rgb(234, 252, 253)\"]],\"opacity\":0.1,\"showscale\":false,\"x\":[2.683699999999998,64.3163],\"y\":[-19.854300000000002,103.8543],\"z\":[[-63.931,-63.931],[-63.931,-63.931]],\"type\":\"surface\"},{\"colorscale\":[[0.0,\"rgb(3, 5, 18)\"],[0.09090909090909091,\"rgb(25, 25, 51)\"],[0.18181818181818182,\"rgb(44, 42, 87)\"],[0.2727272727272727,\"rgb(58, 60, 125)\"],[0.36363636363636365,\"rgb(62, 83, 160)\"],[0.45454545454545453,\"rgb(62, 109, 178)\"],[0.5454545454545454,\"rgb(72, 134, 187)\"],[0.6363636363636364,\"rgb(89, 159, 196)\"],[0.7272727272727273,\"rgb(114, 184, 205)\"],[0.8181818181818182,\"rgb(149, 207, 216)\"],[0.9090909090909091,\"rgb(192, 229, 232)\"],[1.0,\"rgb(234, 252, 253)\"]],\"opacity\":0.1,\"showscale\":false,\"x\":[2.683699999999998,64.3163],\"y\":[-19.854300000000002,103.8543],\"z\":[[-3.068999999999999,-3.068999999999999],[-3.068999999999999,-3.068999999999999]],\"type\":\"surface\"},{\"colorscale\":[[0.0,\"rgb(3, 5, 18)\"],[0.09090909090909091,\"rgb(25, 25, 51)\"],[0.18181818181818182,\"rgb(44, 42, 87)\"],[0.2727272727272727,\"rgb(58, 60, 125)\"],[0.36363636363636365,\"rgb(62, 83, 160)\"],[0.45454545454545453,\"rgb(62, 109, 178)\"],[0.5454545454545454,\"rgb(72, 134, 187)\"],[0.6363636363636364,\"rgb(89, 159, 196)\"],[0.7272727272727273,\"rgb(114, 184, 205)\"],[0.8181818181818182,\"rgb(149, 207, 216)\"],[0.9090909090909091,\"rgb(192, 229, 232)\"],[1.0,\"rgb(234, 252, 253)\"]],\"opacity\":0.1,\"showscale\":false,\"x\":[-64.3163,-2.683699999999998],\"y\":[-19.854300000000002,103.8543],\"z\":[[-63.931,-63.931],[-63.931,-63.931]],\"type\":\"surface\"},{\"colorscale\":[[0.0,\"rgb(3, 5, 18)\"],[0.09090909090909091,\"rgb(25, 25, 51)\"],[0.18181818181818182,\"rgb(44, 42, 87)\"],[0.2727272727272727,\"rgb(58, 60, 125)\"],[0.36363636363636365,\"rgb(62, 83, 160)\"],[0.45454545454545453,\"rgb(62, 109, 178)\"],[0.5454545454545454,\"rgb(72, 134, 187)\"],[0.6363636363636364,\"rgb(89, 159, 196)\"],[0.7272727272727273,\"rgb(114, 184, 205)\"],[0.8181818181818182,\"rgb(149, 207, 216)\"],[0.9090909090909091,\"rgb(192, 229, 232)\"],[1.0,\"rgb(234, 252, 253)\"]],\"opacity\":0.1,\"showscale\":false,\"x\":[-64.3163,-2.683699999999998],\"y\":[-19.854300000000002,103.8543],\"z\":[[-3.068999999999999,-3.068999999999999],[-3.068999999999999,-3.068999999999999]],\"type\":\"surface\"},{\"colorscale\":[[0.0,\"rgb(3, 5, 18)\"],[0.09090909090909091,\"rgb(25, 25, 51)\"],[0.18181818181818182,\"rgb(44, 42, 87)\"],[0.2727272727272727,\"rgb(58, 60, 125)\"],[0.36363636363636365,\"rgb(62, 83, 160)\"],[0.45454545454545453,\"rgb(62, 109, 178)\"],[0.5454545454545454,\"rgb(72, 134, 187)\"],[0.6363636363636364,\"rgb(89, 159, 196)\"],[0.7272727272727273,\"rgb(114, 184, 205)\"],[0.8181818181818182,\"rgb(149, 207, 216)\"],[0.9090909090909091,\"rgb(192, 229, 232)\"],[1.0,\"rgb(234, 252, 253)\"]],\"opacity\":0.1,\"showscale\":false,\"x\":[2.683699999999998,64.3163],\"y\":[-19.854300000000002,103.8543],\"z\":[[3.068999999999999,3.068999999999999],[3.068999999999999,3.068999999999999]],\"type\":\"surface\"},{\"colorscale\":[[0.0,\"rgb(3, 5, 18)\"],[0.09090909090909091,\"rgb(25, 25, 51)\"],[0.18181818181818182,\"rgb(44, 42, 87)\"],[0.2727272727272727,\"rgb(58, 60, 125)\"],[0.36363636363636365,\"rgb(62, 83, 160)\"],[0.45454545454545453,\"rgb(62, 109, 178)\"],[0.5454545454545454,\"rgb(72, 134, 187)\"],[0.6363636363636364,\"rgb(89, 159, 196)\"],[0.7272727272727273,\"rgb(114, 184, 205)\"],[0.8181818181818182,\"rgb(149, 207, 216)\"],[0.9090909090909091,\"rgb(192, 229, 232)\"],[1.0,\"rgb(234, 252, 253)\"]],\"opacity\":0.1,\"showscale\":false,\"x\":[2.683699999999998,64.3163],\"y\":[-19.854300000000002,103.8543],\"z\":[[63.931,63.931],[63.931,63.931]],\"type\":\"surface\"},{\"colorscale\":[[0.0,\"rgb(3, 5, 18)\"],[0.09090909090909091,\"rgb(25, 25, 51)\"],[0.18181818181818182,\"rgb(44, 42, 87)\"],[0.2727272727272727,\"rgb(58, 60, 125)\"],[0.36363636363636365,\"rgb(62, 83, 160)\"],[0.45454545454545453,\"rgb(62, 109, 178)\"],[0.5454545454545454,\"rgb(72, 134, 187)\"],[0.6363636363636364,\"rgb(89, 159, 196)\"],[0.7272727272727273,\"rgb(114, 184, 205)\"],[0.8181818181818182,\"rgb(149, 207, 216)\"],[0.9090909090909091,\"rgb(192, 229, 232)\"],[1.0,\"rgb(234, 252, 253)\"]],\"opacity\":0.1,\"showscale\":false,\"x\":[-64.3163,-2.683699999999998],\"y\":[-19.854300000000002,103.8543],\"z\":[[3.068999999999999,3.068999999999999],[3.068999999999999,3.068999999999999]],\"type\":\"surface\"},{\"colorscale\":[[0.0,\"rgb(3, 5, 18)\"],[0.09090909090909091,\"rgb(25, 25, 51)\"],[0.18181818181818182,\"rgb(44, 42, 87)\"],[0.2727272727272727,\"rgb(58, 60, 125)\"],[0.36363636363636365,\"rgb(62, 83, 160)\"],[0.45454545454545453,\"rgb(62, 109, 178)\"],[0.5454545454545454,\"rgb(72, 134, 187)\"],[0.6363636363636364,\"rgb(89, 159, 196)\"],[0.7272727272727273,\"rgb(114, 184, 205)\"],[0.8181818181818182,\"rgb(149, 207, 216)\"],[0.9090909090909091,\"rgb(192, 229, 232)\"],[1.0,\"rgb(234, 252, 253)\"]],\"opacity\":0.1,\"showscale\":false,\"x\":[-64.3163,-2.683699999999998],\"y\":[-19.854300000000002,103.8543],\"z\":[[63.931,63.931],[63.931,63.931]],\"type\":\"surface\"},{\"colorscale\":[[0.0,\"rgb(3, 5, 18)\"],[0.09090909090909091,\"rgb(25, 25, 51)\"],[0.18181818181818182,\"rgb(44, 42, 87)\"],[0.2727272727272727,\"rgb(58, 60, 125)\"],[0.36363636363636365,\"rgb(62, 83, 160)\"],[0.45454545454545453,\"rgb(62, 109, 178)\"],[0.5454545454545454,\"rgb(72, 134, 187)\"],[0.6363636363636364,\"rgb(89, 159, 196)\"],[0.7272727272727273,\"rgb(114, 184, 205)\"],[0.8181818181818182,\"rgb(149, 207, 216)\"],[0.9090909090909091,\"rgb(192, 229, 232)\"],[1.0,\"rgb(234, 252, 253)\"]],\"opacity\":0.1,\"showscale\":false,\"x\":[2.683699999999998,64.3163],\"y\":[-19.854300000000002,103.8543],\"z\":[[-63.931,-63.931],[-63.931,-63.931]],\"type\":\"surface\"},{\"colorscale\":[[0.0,\"rgb(3, 5, 18)\"],[0.09090909090909091,\"rgb(25, 25, 51)\"],[0.18181818181818182,\"rgb(44, 42, 87)\"],[0.2727272727272727,\"rgb(58, 60, 125)\"],[0.36363636363636365,\"rgb(62, 83, 160)\"],[0.45454545454545453,\"rgb(62, 109, 178)\"],[0.5454545454545454,\"rgb(72, 134, 187)\"],[0.6363636363636364,\"rgb(89, 159, 196)\"],[0.7272727272727273,\"rgb(114, 184, 205)\"],[0.8181818181818182,\"rgb(149, 207, 216)\"],[0.9090909090909091,\"rgb(192, 229, 232)\"],[1.0,\"rgb(234, 252, 253)\"]],\"opacity\":0.1,\"showscale\":false,\"x\":[2.683699999999998,64.3163],\"y\":[-19.854300000000002,103.8543],\"z\":[[-3.068999999999999,-3.068999999999999],[-3.068999999999999,-3.068999999999999]],\"type\":\"surface\"},{\"colorscale\":[[0.0,\"rgb(3, 5, 18)\"],[0.09090909090909091,\"rgb(25, 25, 51)\"],[0.18181818181818182,\"rgb(44, 42, 87)\"],[0.2727272727272727,\"rgb(58, 60, 125)\"],[0.36363636363636365,\"rgb(62, 83, 160)\"],[0.45454545454545453,\"rgb(62, 109, 178)\"],[0.5454545454545454,\"rgb(72, 134, 187)\"],[0.6363636363636364,\"rgb(89, 159, 196)\"],[0.7272727272727273,\"rgb(114, 184, 205)\"],[0.8181818181818182,\"rgb(149, 207, 216)\"],[0.9090909090909091,\"rgb(192, 229, 232)\"],[1.0,\"rgb(234, 252, 253)\"]],\"opacity\":0.1,\"showscale\":false,\"x\":[-64.3163,-2.683699999999998],\"y\":[-19.854300000000002,103.8543],\"z\":[[-63.931,-63.931],[-63.931,-63.931]],\"type\":\"surface\"},{\"colorscale\":[[0.0,\"rgb(3, 5, 18)\"],[0.09090909090909091,\"rgb(25, 25, 51)\"],[0.18181818181818182,\"rgb(44, 42, 87)\"],[0.2727272727272727,\"rgb(58, 60, 125)\"],[0.36363636363636365,\"rgb(62, 83, 160)\"],[0.45454545454545453,\"rgb(62, 109, 178)\"],[0.5454545454545454,\"rgb(72, 134, 187)\"],[0.6363636363636364,\"rgb(89, 159, 196)\"],[0.7272727272727273,\"rgb(114, 184, 205)\"],[0.8181818181818182,\"rgb(149, 207, 216)\"],[0.9090909090909091,\"rgb(192, 229, 232)\"],[1.0,\"rgb(234, 252, 253)\"]],\"opacity\":0.1,\"showscale\":false,\"x\":[-64.3163,-2.683699999999998],\"y\":[-19.854300000000002,103.8543],\"z\":[[-3.068999999999999,-3.068999999999999],[-3.068999999999999,-3.068999999999999]],\"type\":\"surface\"},{\"colorscale\":[[0.0,\"rgb(3, 5, 18)\"],[0.09090909090909091,\"rgb(25, 25, 51)\"],[0.18181818181818182,\"rgb(44, 42, 87)\"],[0.2727272727272727,\"rgb(58, 60, 125)\"],[0.36363636363636365,\"rgb(62, 83, 160)\"],[0.45454545454545453,\"rgb(62, 109, 178)\"],[0.5454545454545454,\"rgb(72, 134, 187)\"],[0.6363636363636364,\"rgb(89, 159, 196)\"],[0.7272727272727273,\"rgb(114, 184, 205)\"],[0.8181818181818182,\"rgb(149, 207, 216)\"],[0.9090909090909091,\"rgb(192, 229, 232)\"],[1.0,\"rgb(234, 252, 253)\"]],\"opacity\":0.1,\"showscale\":false,\"x\":[2.683699999999998,64.3163],\"y\":[-19.854300000000002,103.8543],\"z\":[[3.068999999999999,3.068999999999999],[3.068999999999999,3.068999999999999]],\"type\":\"surface\"},{\"colorscale\":[[0.0,\"rgb(3, 5, 18)\"],[0.09090909090909091,\"rgb(25, 25, 51)\"],[0.18181818181818182,\"rgb(44, 42, 87)\"],[0.2727272727272727,\"rgb(58, 60, 125)\"],[0.36363636363636365,\"rgb(62, 83, 160)\"],[0.45454545454545453,\"rgb(62, 109, 178)\"],[0.5454545454545454,\"rgb(72, 134, 187)\"],[0.6363636363636364,\"rgb(89, 159, 196)\"],[0.7272727272727273,\"rgb(114, 184, 205)\"],[0.8181818181818182,\"rgb(149, 207, 216)\"],[0.9090909090909091,\"rgb(192, 229, 232)\"],[1.0,\"rgb(234, 252, 253)\"]],\"opacity\":0.1,\"showscale\":false,\"x\":[2.683699999999998,64.3163],\"y\":[-19.854300000000002,103.8543],\"z\":[[63.931,63.931],[63.931,63.931]],\"type\":\"surface\"},{\"colorscale\":[[0.0,\"rgb(3, 5, 18)\"],[0.09090909090909091,\"rgb(25, 25, 51)\"],[0.18181818181818182,\"rgb(44, 42, 87)\"],[0.2727272727272727,\"rgb(58, 60, 125)\"],[0.36363636363636365,\"rgb(62, 83, 160)\"],[0.45454545454545453,\"rgb(62, 109, 178)\"],[0.5454545454545454,\"rgb(72, 134, 187)\"],[0.6363636363636364,\"rgb(89, 159, 196)\"],[0.7272727272727273,\"rgb(114, 184, 205)\"],[0.8181818181818182,\"rgb(149, 207, 216)\"],[0.9090909090909091,\"rgb(192, 229, 232)\"],[1.0,\"rgb(234, 252, 253)\"]],\"opacity\":0.1,\"showscale\":false,\"x\":[-64.3163,-2.683699999999998],\"y\":[-19.854300000000002,103.8543],\"z\":[[3.068999999999999,3.068999999999999],[3.068999999999999,3.068999999999999]],\"type\":\"surface\"},{\"colorscale\":[[0.0,\"rgb(3, 5, 18)\"],[0.09090909090909091,\"rgb(25, 25, 51)\"],[0.18181818181818182,\"rgb(44, 42, 87)\"],[0.2727272727272727,\"rgb(58, 60, 125)\"],[0.36363636363636365,\"rgb(62, 83, 160)\"],[0.45454545454545453,\"rgb(62, 109, 178)\"],[0.5454545454545454,\"rgb(72, 134, 187)\"],[0.6363636363636364,\"rgb(89, 159, 196)\"],[0.7272727272727273,\"rgb(114, 184, 205)\"],[0.8181818181818182,\"rgb(149, 207, 216)\"],[0.9090909090909091,\"rgb(192, 229, 232)\"],[1.0,\"rgb(234, 252, 253)\"]],\"opacity\":0.1,\"showscale\":false,\"x\":[-64.3163,-2.683699999999998],\"y\":[-19.854300000000002,103.8543],\"z\":[[63.931,63.931],[63.931,63.931]],\"type\":\"surface\"},{\"colorscale\":[[0.0,\"rgb(3, 5, 18)\"],[0.09090909090909091,\"rgb(25, 25, 51)\"],[0.18181818181818182,\"rgb(44, 42, 87)\"],[0.2727272727272727,\"rgb(58, 60, 125)\"],[0.36363636363636365,\"rgb(62, 83, 160)\"],[0.45454545454545453,\"rgb(62, 109, 178)\"],[0.5454545454545454,\"rgb(72, 134, 187)\"],[0.6363636363636364,\"rgb(89, 159, 196)\"],[0.7272727272727273,\"rgb(114, 184, 205)\"],[0.8181818181818182,\"rgb(149, 207, 216)\"],[0.9090909090909091,\"rgb(192, 229, 232)\"],[1.0,\"rgb(234, 252, 253)\"]],\"opacity\":0.1,\"showscale\":false,\"x\":[2.683699999999998,64.3163],\"y\":[-19.854300000000002,103.8543],\"z\":[[-63.931,-63.931],[-63.931,-63.931]],\"type\":\"surface\"},{\"colorscale\":[[0.0,\"rgb(3, 5, 18)\"],[0.09090909090909091,\"rgb(25, 25, 51)\"],[0.18181818181818182,\"rgb(44, 42, 87)\"],[0.2727272727272727,\"rgb(58, 60, 125)\"],[0.36363636363636365,\"rgb(62, 83, 160)\"],[0.45454545454545453,\"rgb(62, 109, 178)\"],[0.5454545454545454,\"rgb(72, 134, 187)\"],[0.6363636363636364,\"rgb(89, 159, 196)\"],[0.7272727272727273,\"rgb(114, 184, 205)\"],[0.8181818181818182,\"rgb(149, 207, 216)\"],[0.9090909090909091,\"rgb(192, 229, 232)\"],[1.0,\"rgb(234, 252, 253)\"]],\"opacity\":0.1,\"showscale\":false,\"x\":[2.683699999999998,64.3163],\"y\":[-19.854300000000002,103.8543],\"z\":[[-3.068999999999999,-3.068999999999999],[-3.068999999999999,-3.068999999999999]],\"type\":\"surface\"},{\"colorscale\":[[0.0,\"rgb(3, 5, 18)\"],[0.09090909090909091,\"rgb(25, 25, 51)\"],[0.18181818181818182,\"rgb(44, 42, 87)\"],[0.2727272727272727,\"rgb(58, 60, 125)\"],[0.36363636363636365,\"rgb(62, 83, 160)\"],[0.45454545454545453,\"rgb(62, 109, 178)\"],[0.5454545454545454,\"rgb(72, 134, 187)\"],[0.6363636363636364,\"rgb(89, 159, 196)\"],[0.7272727272727273,\"rgb(114, 184, 205)\"],[0.8181818181818182,\"rgb(149, 207, 216)\"],[0.9090909090909091,\"rgb(192, 229, 232)\"],[1.0,\"rgb(234, 252, 253)\"]],\"opacity\":0.1,\"showscale\":false,\"x\":[-64.3163,-2.683699999999998],\"y\":[-19.854300000000002,103.8543],\"z\":[[-63.931,-63.931],[-63.931,-63.931]],\"type\":\"surface\"},{\"colorscale\":[[0.0,\"rgb(3, 5, 18)\"],[0.09090909090909091,\"rgb(25, 25, 51)\"],[0.18181818181818182,\"rgb(44, 42, 87)\"],[0.2727272727272727,\"rgb(58, 60, 125)\"],[0.36363636363636365,\"rgb(62, 83, 160)\"],[0.45454545454545453,\"rgb(62, 109, 178)\"],[0.5454545454545454,\"rgb(72, 134, 187)\"],[0.6363636363636364,\"rgb(89, 159, 196)\"],[0.7272727272727273,\"rgb(114, 184, 205)\"],[0.8181818181818182,\"rgb(149, 207, 216)\"],[0.9090909090909091,\"rgb(192, 229, 232)\"],[1.0,\"rgb(234, 252, 253)\"]],\"opacity\":0.1,\"showscale\":false,\"x\":[-64.3163,-2.683699999999998],\"y\":[-19.854300000000002,103.8543],\"z\":[[-3.068999999999999,-3.068999999999999],[-3.068999999999999,-3.068999999999999]],\"type\":\"surface\"},{\"colorscale\":[[0.0,\"rgb(3, 5, 18)\"],[0.09090909090909091,\"rgb(25, 25, 51)\"],[0.18181818181818182,\"rgb(44, 42, 87)\"],[0.2727272727272727,\"rgb(58, 60, 125)\"],[0.36363636363636365,\"rgb(62, 83, 160)\"],[0.45454545454545453,\"rgb(62, 109, 178)\"],[0.5454545454545454,\"rgb(72, 134, 187)\"],[0.6363636363636364,\"rgb(89, 159, 196)\"],[0.7272727272727273,\"rgb(114, 184, 205)\"],[0.8181818181818182,\"rgb(149, 207, 216)\"],[0.9090909090909091,\"rgb(192, 229, 232)\"],[1.0,\"rgb(234, 252, 253)\"]],\"opacity\":0.1,\"showscale\":false,\"x\":[2.683699999999998,64.3163],\"y\":[-19.854300000000002,103.8543],\"z\":[[3.068999999999999,3.068999999999999],[3.068999999999999,3.068999999999999]],\"type\":\"surface\"},{\"colorscale\":[[0.0,\"rgb(3, 5, 18)\"],[0.09090909090909091,\"rgb(25, 25, 51)\"],[0.18181818181818182,\"rgb(44, 42, 87)\"],[0.2727272727272727,\"rgb(58, 60, 125)\"],[0.36363636363636365,\"rgb(62, 83, 160)\"],[0.45454545454545453,\"rgb(62, 109, 178)\"],[0.5454545454545454,\"rgb(72, 134, 187)\"],[0.6363636363636364,\"rgb(89, 159, 196)\"],[0.7272727272727273,\"rgb(114, 184, 205)\"],[0.8181818181818182,\"rgb(149, 207, 216)\"],[0.9090909090909091,\"rgb(192, 229, 232)\"],[1.0,\"rgb(234, 252, 253)\"]],\"opacity\":0.1,\"showscale\":false,\"x\":[2.683699999999998,64.3163],\"y\":[-19.854300000000002,103.8543],\"z\":[[63.931,63.931],[63.931,63.931]],\"type\":\"surface\"},{\"colorscale\":[[0.0,\"rgb(3, 5, 18)\"],[0.09090909090909091,\"rgb(25, 25, 51)\"],[0.18181818181818182,\"rgb(44, 42, 87)\"],[0.2727272727272727,\"rgb(58, 60, 125)\"],[0.36363636363636365,\"rgb(62, 83, 160)\"],[0.45454545454545453,\"rgb(62, 109, 178)\"],[0.5454545454545454,\"rgb(72, 134, 187)\"],[0.6363636363636364,\"rgb(89, 159, 196)\"],[0.7272727272727273,\"rgb(114, 184, 205)\"],[0.8181818181818182,\"rgb(149, 207, 216)\"],[0.9090909090909091,\"rgb(192, 229, 232)\"],[1.0,\"rgb(234, 252, 253)\"]],\"opacity\":0.1,\"showscale\":false,\"x\":[-64.3163,-2.683699999999998],\"y\":[-19.854300000000002,103.8543],\"z\":[[3.068999999999999,3.068999999999999],[3.068999999999999,3.068999999999999]],\"type\":\"surface\"},{\"colorscale\":[[0.0,\"rgb(3, 5, 18)\"],[0.09090909090909091,\"rgb(25, 25, 51)\"],[0.18181818181818182,\"rgb(44, 42, 87)\"],[0.2727272727272727,\"rgb(58, 60, 125)\"],[0.36363636363636365,\"rgb(62, 83, 160)\"],[0.45454545454545453,\"rgb(62, 109, 178)\"],[0.5454545454545454,\"rgb(72, 134, 187)\"],[0.6363636363636364,\"rgb(89, 159, 196)\"],[0.7272727272727273,\"rgb(114, 184, 205)\"],[0.8181818181818182,\"rgb(149, 207, 216)\"],[0.9090909090909091,\"rgb(192, 229, 232)\"],[1.0,\"rgb(234, 252, 253)\"]],\"opacity\":0.1,\"showscale\":false,\"x\":[-64.3163,-2.683699999999998],\"y\":[-19.854300000000002,103.8543],\"z\":[[63.931,63.931],[63.931,63.931]],\"type\":\"surface\"},{\"colorscale\":[[0.0,\"rgb(3, 5, 18)\"],[0.09090909090909091,\"rgb(25, 25, 51)\"],[0.18181818181818182,\"rgb(44, 42, 87)\"],[0.2727272727272727,\"rgb(58, 60, 125)\"],[0.36363636363636365,\"rgb(62, 83, 160)\"],[0.45454545454545453,\"rgb(62, 109, 178)\"],[0.5454545454545454,\"rgb(72, 134, 187)\"],[0.6363636363636364,\"rgb(89, 159, 196)\"],[0.7272727272727273,\"rgb(114, 184, 205)\"],[0.8181818181818182,\"rgb(149, 207, 216)\"],[0.9090909090909091,\"rgb(192, 229, 232)\"],[1.0,\"rgb(234, 252, 253)\"]],\"opacity\":0.1,\"showscale\":false,\"x\":[2.683699999999998,64.3163],\"y\":[-19.854300000000002,103.8543],\"z\":[[-63.931,-63.931],[-63.931,-63.931]],\"type\":\"surface\"},{\"colorscale\":[[0.0,\"rgb(3, 5, 18)\"],[0.09090909090909091,\"rgb(25, 25, 51)\"],[0.18181818181818182,\"rgb(44, 42, 87)\"],[0.2727272727272727,\"rgb(58, 60, 125)\"],[0.36363636363636365,\"rgb(62, 83, 160)\"],[0.45454545454545453,\"rgb(62, 109, 178)\"],[0.5454545454545454,\"rgb(72, 134, 187)\"],[0.6363636363636364,\"rgb(89, 159, 196)\"],[0.7272727272727273,\"rgb(114, 184, 205)\"],[0.8181818181818182,\"rgb(149, 207, 216)\"],[0.9090909090909091,\"rgb(192, 229, 232)\"],[1.0,\"rgb(234, 252, 253)\"]],\"opacity\":0.1,\"showscale\":false,\"x\":[2.683699999999998,64.3163],\"y\":[-19.854300000000002,103.8543],\"z\":[[-3.068999999999999,-3.068999999999999],[-3.068999999999999,-3.068999999999999]],\"type\":\"surface\"},{\"colorscale\":[[0.0,\"rgb(3, 5, 18)\"],[0.09090909090909091,\"rgb(25, 25, 51)\"],[0.18181818181818182,\"rgb(44, 42, 87)\"],[0.2727272727272727,\"rgb(58, 60, 125)\"],[0.36363636363636365,\"rgb(62, 83, 160)\"],[0.45454545454545453,\"rgb(62, 109, 178)\"],[0.5454545454545454,\"rgb(72, 134, 187)\"],[0.6363636363636364,\"rgb(89, 159, 196)\"],[0.7272727272727273,\"rgb(114, 184, 205)\"],[0.8181818181818182,\"rgb(149, 207, 216)\"],[0.9090909090909091,\"rgb(192, 229, 232)\"],[1.0,\"rgb(234, 252, 253)\"]],\"opacity\":0.1,\"showscale\":false,\"x\":[-64.3163,-2.683699999999998],\"y\":[-19.854300000000002,103.8543],\"z\":[[-63.931,-63.931],[-63.931,-63.931]],\"type\":\"surface\"},{\"colorscale\":[[0.0,\"rgb(3, 5, 18)\"],[0.09090909090909091,\"rgb(25, 25, 51)\"],[0.18181818181818182,\"rgb(44, 42, 87)\"],[0.2727272727272727,\"rgb(58, 60, 125)\"],[0.36363636363636365,\"rgb(62, 83, 160)\"],[0.45454545454545453,\"rgb(62, 109, 178)\"],[0.5454545454545454,\"rgb(72, 134, 187)\"],[0.6363636363636364,\"rgb(89, 159, 196)\"],[0.7272727272727273,\"rgb(114, 184, 205)\"],[0.8181818181818182,\"rgb(149, 207, 216)\"],[0.9090909090909091,\"rgb(192, 229, 232)\"],[1.0,\"rgb(234, 252, 253)\"]],\"opacity\":0.1,\"showscale\":false,\"x\":[-64.3163,-2.683699999999998],\"y\":[-19.854300000000002,103.8543],\"z\":[[-3.068999999999999,-3.068999999999999],[-3.068999999999999,-3.068999999999999]],\"type\":\"surface\"},{\"marker\":{\"color\":[13.96875,11.00390625,16.93359375,7.05078125,13.96875,20.88671875,15.9453125,10.015625,9.02734375,12.98046875,9.02734375,8.0390625,11.9921875,11.00390625,14.95703125,12.98046875,13.96875,13.96875,8.0390625,17.921875,14.95703125,13.96875,17.921875,16.93359375,17.921875,16.93359375,18.91015625,19.8984375,18.91015625,18.91015625,16.93359375,10.015625,18.91015625,19.8984375,19.8984375,21.875,13.96875,21.875,21.875,20.88671875,21.875,36.69921875,18.91015625,21.875,22.86328125,23.8515625,20.88671875,13.96875,22.86328125,21.875,21.875,32.74609375,15.9453125,20.88671875,20.88671875,19.8984375,28.79296875,11.00390625,22.86328125,20.88671875,21.875,21.875,13.96875,21.875,21.875,20.88671875,20.88671875,7.05078125,16.93359375,22.86328125,26.81640625,17.921875,21.875,8.0390625,7.05078125,23.8515625,18.91015625,22.86328125,22.86328125,10.015625,24.83984375,12.98046875,12.98046875,10.015625,9.02734375,7.05078125,9.02734375,8.0390625,20.88671875,31.7578125,21.875,20.88671875,14.95703125,9.02734375,11.00390625,9.02734375,8.0390625,28.79296875,10.015625,23.8515625,36.69921875,11.9921875,43.6171875,23.8515625,9.02734375,14.95703125,19.8984375,10.015625,12.98046875,13.96875,10.015625,17.921875,14.95703125,11.9921875,14.95703125,8.0390625,12.98046875,8.0390625,15.9453125,8.0390625,14.95703125,15.9453125,11.00390625,12.98046875,11.9921875,10.015625,14.95703125,13.96875,10.015625,15.9453125,13.96875,8.0390625,13.96875,9.02734375,16.93359375,18.91015625,8.0390625,13.96875,10.015625,8.0390625,29.78125,20.88671875,21.875,23.8515625,7.05078125,8.0390625,14.95703125,15.9453125,19.8984375,19.8984375,17.921875,12.98046875,12.98046875,13.96875,10.015625,17.921875,14.95703125,13.96875,47.5703125,9.02734375,20.88671875,17.921875,9.02734375,14.95703125,12.98046875,9.02734375,11.9921875,8.0390625,23.8515625,18.91015625,20.88671875,14.95703125,17.921875,14.95703125,15.9453125,17.921875,10.015625,20.88671875,19.8984375,10.015625,11.9921875,11.9921875,56.46484375,9.02734375,26.81640625,16.93359375,14.95703125,20.88671875,12.98046875,12.98046875,19.8984375,12.98046875,14.95703125,14.95703125,9.02734375,11.00390625,18.91015625,18.91015625,9.02734375,9.02734375,6.0625,12.98046875,9.02734375,9.02734375,8.0390625,8.0390625,10.015625,10.015625,11.00390625,13.96875,17.921875,20.88671875,20.88671875,11.9921875,11.00390625,11.9921875,25.828125,22.86328125,10.015625,15.9453125,12.98046875,17.921875,11.9921875,19.8984375,11.9921875,15.9453125,22.86328125,23.8515625,13.96875,9.02734375,14.95703125,10.015625,11.9921875,33.734375,15.9453125,41.640625,10.015625,11.9921875,15.9453125,21.875,21.875,21.875,21.875,20.88671875,21.875,20.88671875,19.8984375,16.93359375,18.91015625,16.93359375,13.96875,11.9921875,8.0390625,22.86328125,35.7109375,8.0390625,19.8984375,18.91015625,18.91015625,19.8984375,10.015625,11.9921875,11.00390625,19.8984375,25.828125,12.98046875,23.8515625,27.8046875,8.0390625,16.93359375,20.88671875,19.8984375,13.96875,10.015625,8.0390625,8.0390625,11.9921875,9.02734375,11.9921875,10.015625,10.015625,7.05078125,26.81640625,15.9453125,9.02734375,23.8515625,10.015625,16.93359375,18.91015625,18.91015625,20.88671875,15.9453125,11.00390625,11.9921875,18.91015625,11.9921875,13.96875,12.98046875,10.015625,10.015625,8.0390625,8.0390625,11.00390625,28.79296875,10.015625,8.0390625,11.00390625,19.8984375,10.015625,16.93359375,10.015625,11.00390625,11.00390625,24.83984375,9.02734375,28.79296875,23.8515625,8.0390625,20.88671875,50.53515625,10.015625,14.95703125,22.86328125,11.00390625,21.875,17.921875,14.95703125,8.0390625,12.98046875,11.00390625,14.95703125,17.921875,18.91015625,17.921875,9.02734375,11.00390625,11.9921875,16.93359375,10.015625,8.0390625,9.02734375,9.02734375,11.00390625,18.91015625,9.02734375,30.76953125,31.7578125,8.0390625,7.05078125,10.015625,13.96875,9.02734375,13.96875,11.9921875,11.00390625,14.95703125,11.00390625,14.95703125,11.9921875,10.015625,13.96875,16.93359375,14.95703125,9.02734375,26.81640625,17.921875,15.9453125,8.0390625,16.93359375,8.0390625,30.76953125,7.05078125,13.96875,37.6875,11.9921875,34.72265625,13.96875,11.9921875,15.9453125,27.8046875,8.0390625,8.0390625,17.921875,8.0390625,11.9921875,14.95703125,16.93359375,17.921875,19.8984375,14.95703125,8.0390625,18.91015625,16.93359375,14.95703125,18.91015625,17.921875,21.875,20.88671875,10.015625,10.015625,17.921875,9.02734375,6.0625,7.05078125,11.9921875,15.9453125,20.88671875,11.9921875,10.015625,20.88671875,14.95703125,11.9921875,13.96875,12.98046875,11.00390625,14.95703125,8.0390625,11.00390625,12.98046875,12.98046875,8.0390625,19.8984375,20.88671875,9.02734375,16.93359375,13.96875,9.02734375,10.015625,7.05078125,7.05078125,9.02734375,16.93359375,8.0390625,15.9453125,20.88671875,11.00390625,11.9921875,15.9453125,12.98046875,11.00390625,11.9921875,17.921875,13.96875,7.05078125,20.88671875,9.02734375,13.96875,13.96875,8.0390625,9.02734375,14.95703125,15.9453125,40.65234375,11.00390625,9.02734375,10.015625,8.0390625,9.02734375,7.05078125,9.02734375,8.0390625,11.00390625,11.00390625,17.921875,10.015625,11.00390625,13.96875,30.76953125,9.02734375,32.74609375,9.02734375,8.0390625,27.8046875,14.95703125,11.00390625,20.88671875,8.0390625,19.8984375,9.02734375,18.91015625,8.0390625,19.8984375,8.0390625,39.6640625,15.9453125,20.88671875,12.98046875,9.02734375,7.05078125,13.96875,8.0390625,16.93359375,8.0390625,17.921875,7.05078125,9.02734375,7.05078125,15.9453125,10.015625,13.96875,19.8984375,27.8046875,19.8984375,21.875,11.00390625,14.95703125,10.015625,14.95703125,12.98046875,13.96875,11.00390625,15.9453125,18.91015625,6.0625,12.98046875,11.00390625,19.8984375,18.91015625,11.00390625,15.9453125,11.00390625,9.02734375,9.02734375,9.02734375,9.02734375,8.0390625,11.9921875,8.0390625,16.93359375,11.00390625,7.05078125,10.015625,15.9453125,12.98046875,45.59375,10.015625,11.9921875,17.921875,16.93359375,21.875,8.0390625,17.921875,19.8984375,19.8984375,13.96875,11.00390625,17.921875,8.0390625,15.9453125,18.91015625,11.00390625,23.8515625,11.9921875,25.828125,9.02734375,11.00390625,9.02734375,30.76953125,20.88671875,18.91015625,10.015625,11.00390625,11.00390625,15.9453125,34.72265625,24.83984375,16.93359375,11.00390625,10.015625,15.9453125,24.83984375,11.00390625,14.95703125,10.015625,10.015625,11.00390625,41.640625,11.00390625,27.8046875,10.015625,20.88671875,8.0390625,15.9453125,11.9921875,8.0390625,18.91015625,21.875,6.0625,10.015625,14.95703125,10.015625,9.02734375,13.96875,13.96875,8.0390625,9.02734375,14.95703125,29.78125,12.98046875,6.0625,16.93359375,24.83984375,21.875,25.828125,9.02734375,22.86328125,12.98046875,7.05078125,11.9921875,17.921875,9.02734375,21.875,22.86328125,10.015625,15.9453125,8.0390625,17.921875,8.0390625,8.0390625,11.9921875,10.015625,24.83984375,26.81640625,27.8046875,7.05078125],\"size\":3,\"symbol\":\"square\"},\"mode\":\"markers\",\"name\":\"larpix packets\",\"opacity\":1.0,\"showlegend\":true,\"visible\":\"legendonly\",\"x\":[62.09930000000001,62.09930000000001,-38.5991,-38.5991,-54.5615,-28.844299999999997,-28.4009,-33.2783,-35.4953,-35.0519,-34.60850000000001,-34.16510000000001,-33.7217,-37.712300000000006,-37.26890000000001,-36.8255,-36.3821,-35.938700000000004,-39.9293,-39.4859,-39.042500000000004,-38.5991,-38.1557,-41.7029,-41.2595,-40.8161,-40.372699999999995,-43.9199,-43.4765,-43.033100000000005,-42.5897,-42.1463,-46.136900000000004,-45.6935,-45.250099999999996,-44.8067,-44.3633,-48.353899999999996,-47.9105,-47.4671,-47.0237,-46.5803,-50.5709,-50.1275,-49.6841,-49.240700000000004,-48.7973,-52.7879,-52.344500000000004,-51.9011,-51.4577,-51.014300000000006,-55.0049,-54.5615,-54.118100000000005,-53.67470000000001,-53.2313,-57.221900000000005,-56.77850000000001,-56.3351,-55.8917,-55.448299999999996,-59.438900000000004,-58.99550000000001,-58.552099999999996,-58.1087,-57.6653,-57.221900000000005,-61.655899999999995,-61.2125,-60.7691,-60.325700000000005,-59.88230000000001,-59.438900000000004,-63.8729,-63.429500000000004,-62.9861,-62.5427,-62.09930000000001,-61.655899999999995,-64.3163,-63.8729,14.212099999999998,21.7499,56.3351,2.683699999999999,4.013900000000001,4.457299999999998,50.5709,51.014300000000006,51.4577,51.9011,52.344500000000004,2.683699999999999,3.127099999999996,3.127099999999996,3.5704999999999982,3.5704999999999982,4.013900000000001,4.013900000000001,4.013900000000001,4.457299999999998,4.457299999999998,4.457299999999998,4.900699999999995,4.900699999999995,5.344099999999997,5.7875,5.7875,6.2308999999999966,6.2308999999999966,6.6742999999999935,7.117699999999997,7.117699999999997,7.561099999999999,7.561099999999999,8.004499999999997,8.004499999999997,8.447899999999999,8.447899999999999,8.891299999999998,9.334699999999998,9.334699999999998,9.778099999999998,9.778099999999998,10.221499999999997,10.221499999999997,10.664899999999998,10.664899999999998,11.108299999999996,11.5517,11.5517,11.995099999999997,11.995099999999997,12.4385,12.881899999999996,13.325299999999999,13.325299999999999,13.768699999999999,14.212099999999998,49.6841,50.1275,52.7879,53.2313,13.325299999999999,13.768699999999999,14.212099999999998,14.655499999999998,15.098899999999997,15.542300000000001,15.9857,16.4291,16.4291,16.8725,16.8725,17.3159,17.7593,18.2027,18.2027,18.646099999999997,18.646099999999997,19.089499999999997,19.5329,19.5329,19.976300000000002,19.976300000000002,20.4197,20.4197,20.8631,21.3065,21.7499,22.1933,22.636699999999998,23.080099999999998,23.5235,23.9669,24.4103,24.4103,24.8537,25.2971,25.2971,25.740499999999997,25.740499999999997,26.1839,26.1839,26.6273,27.0707,27.0707,27.514099999999996,27.514099999999996,27.9575,28.4009,28.4009,28.844299999999997,28.844299999999997,29.287699999999994,29.287699999999994,29.73109999999999,30.174500000000002,31.061299999999996,35.0519,35.0519,48.7973,53.67470000000001,25.740499999999997,28.844299999999997,30.174500000000002,30.6179,31.061299999999996,31.061299999999996,31.504700000000003,31.9481,32.39149999999999,32.83489999999999,32.83489999999999,33.2783,33.2783,33.7217,34.16510000000001,34.16510000000001,34.60850000000001,34.60850000000001,35.0519,35.0519,35.4953,35.4953,35.938700000000004,36.3821,36.8255,36.8255,37.26890000000001,37.26890000000001,37.712300000000006,37.712300000000006,38.1557,38.1557,38.5991,38.5991,39.042500000000004,39.4859,39.9293,40.372699999999995,40.8161,41.2595,41.7029,42.1463,42.5897,43.033100000000005,43.4765,43.9199,44.3633,44.8067,45.250099999999996,38.5991,39.042500000000004,39.042500000000004,38.5991,39.042500000000004,17.7593,18.2027,25.2971,25.740499999999997,-16.8725,-16.8725,-16.4291,-16.4291,-29.73109999999999,-30.174500000000002,-29.73109999999999,-64.3163,-63.8729,-63.429500000000004,-62.9861,-62.5427,-62.09930000000001,-61.2125,-4.457299999999998,-62.5427,-62.09930000000001,-61.655899999999995,-61.655899999999995,-61.2125,-61.2125,-60.7691,-60.7691,-60.325700000000005,-59.88230000000001,-59.88230000000001,-59.438900000000004,-58.99550000000001,-58.552099999999996,-58.1087,-57.6653,-57.6653,-57.221900000000005,-56.77850000000001,-56.77850000000001,-56.3351,-55.8917,-55.8917,-55.448299999999996,-52.7879,-52.344500000000004,-52.344500000000004,-51.9011,-55.8917,-55.448299999999996,-55.0049,-54.5615,-54.5615,-54.118100000000005,-54.118100000000005,-53.67470000000001,-53.67470000000001,-53.2313,-53.2313,-53.2313,-52.7879,-52.7879,-52.7879,-52.344500000000004,-52.344500000000004,-52.344500000000004,-51.9011,-51.9011,-51.4577,-51.014300000000006,-51.014300000000006,-50.5709,-50.5709,-50.1275,-50.1275,-49.6841,-49.6841,-49.240700000000004,-49.240700000000004,-48.7973,-48.7973,-48.353899999999996,-53.2313,-52.7879,-52.344500000000004,-52.344500000000004,-52.344500000000004,-51.9011,-51.9011,-51.9011,-49.6841,-49.240700000000004,-48.7973,-48.353899999999996,-47.9105,-47.9105,-47.4671,-47.4671,-47.0237,-46.5803,-46.5803,-46.136900000000004,-46.136900000000004,-45.6935,-45.6935,-45.250099999999996,-44.8067,-44.8067,-44.3633,-44.3633,-43.9199,-43.9199,-43.4765,-43.4765,-43.4765,-43.033100000000005,-43.033100000000005,-42.5897,-42.5897,-42.5897,-42.1463,-42.1463,-42.1463,-41.7029,-41.7029,-41.7029,-42.1463,-41.7029,-41.2595,-40.8161,-40.372699999999995,-39.9293,-39.4859,-39.4859,-39.042500000000004,-38.5991,-38.1557,-37.712300000000006,-37.26890000000001,-36.8255,-36.3821,-35.938700000000004,-35.938700000000004,-35.4953,-35.0519,-37.712300000000006,-35.4953,-35.0519,-34.60850000000001,-34.16510000000001,-33.7217,-33.7217,-33.2783,-32.83489999999999,-32.39149999999999,-32.39149999999999,-31.9481,-31.9481,-31.504700000000003,-31.504700000000003,-31.061299999999996,-31.061299999999996,-30.6179,-30.6179,-30.174500000000002,-29.73109999999999,-29.287699999999994,-29.287699999999994,-28.844299999999997,-28.4009,-28.4009,-27.9575,-27.514099999999996,-27.9575,-27.514099999999996,-27.0707,-27.0707,-26.6273,-26.1839,-26.1839,-25.740499999999997,-25.2971,-25.2971,-24.8537,-24.8537,-24.4103,-24.4103,-23.9669,-23.5235,-23.5235,-23.080099999999998,-23.080099999999998,-22.636699999999998,-22.636699999999998,-22.1933,-22.1933,-21.7499,-21.7499,-21.3065,-20.8631,-20.4197,-19.089499999999997,-21.3065,-20.8631,-20.8631,-20.4197,-20.4197,-19.976300000000002,-19.976300000000002,-19.5329,-19.5329,-19.089499999999997,-19.089499999999997,-19.089499999999997,-18.646099999999997,-18.646099999999997,-18.646099999999997,-18.2027,-18.2027,-17.7593,-17.7593,-17.3159,-17.3159,-16.8725,-16.8725,-16.4291,-16.4291,-15.9857,-15.542300000000001,-15.098899999999997,-14.655499999999998,-18.2027,-18.2027,-17.7593,-17.7593,-17.3159,-17.3159,-16.8725,-16.4291,-15.9857,-14.212099999999998,-13.768699999999999,-13.768699999999999,-13.325299999999999,-13.325299999999999,-12.881899999999996,-12.4385,-11.995099999999997,-11.995099999999997,-11.5517,-11.5517,-11.108299999999996,-11.108299999999996,-10.664899999999998,-10.664899999999998,-10.221499999999997,-10.221499999999997,-9.778099999999998,-9.778099999999998,-9.334699999999998,-8.891299999999998,-8.447899999999999,-8.447899999999999,-8.004499999999997,-8.004499999999997,-7.561099999999999,-7.561099999999999,-7.117699999999997,-6.6742999999999935,-16.8725,-16.8725,-16.4291,-16.4291,-15.9857,-7.561099999999999,-7.561099999999999,-7.117699999999997,-7.117699999999997,-6.6742999999999935,-6.6742999999999935,-6.2308999999999966,-5.7875,-5.7875,-5.344099999999997,-5.344099999999997,-4.900699999999995,-4.457299999999998,-4.013900000000001,-4.013900000000001,-3.5704999999999982,-3.5704999999999982,-3.127099999999996,-2.683699999999999,-15.9857,-15.9857,-15.542300000000001,-15.542300000000001,-15.098899999999997,-15.098899999999997,-15.098899999999997,-15.098899999999997,-14.655499999999998,-14.655499999999998,-62.5427,-57.221900000000005,-56.77850000000001,-56.77850000000001,-56.77850000000001,-38.5991,-56.77850000000001,-56.77850000000001,-56.77850000000001,-56.3351,-56.3351,-50.5709,-50.5709,-56.3351,-55.8917,-50.5709,-50.5709,-50.1275,-50.1275,-49.6841,-49.6841,-49.240700000000004,-55.8917,-55.8917,-49.240700000000004,-49.240700000000004,-48.7973,-48.7973,-55.8917,-55.448299999999996,-48.7973,-48.7973,-48.353899999999996,-48.353899999999996,-55.448299999999996,-55.448299999999996,-55.0049,-55.0049,-55.0049,-43.9199,-47.4671,-47.0237,-53.2313,-5.7875,-39.4859,-39.4859,-39.4859,-39.042500000000004,-39.4859,-39.4859,-39.042500000000004,-24.8537,-24.8537,-24.8537,-24.8537,-25.2971,-24.8537,-24.8537,-25.740499999999997,-25.740499999999997,-25.2971,-25.2971,-25.740499999999997,-25.740499999999997,-25.2971],\"y\":[22.2687,22.7121,-16.30709999999999,-16.30709999999999,17.3913,42.2217,42.2217,42.665099999999995,43.10850000000001,43.10850000000001,43.10850000000001,43.10850000000001,43.10850000000001,43.5519,43.5519,43.5519,43.5519,43.5519,43.9953,43.9953,43.9953,43.9953,43.9953,44.438700000000004,44.438700000000004,44.438700000000004,44.438700000000004,44.8821,44.8821,44.8821,44.8821,44.8821,45.3255,45.3255,45.3255,45.3255,45.3255,45.76890000000001,45.76890000000001,45.76890000000001,45.76890000000001,45.76890000000001,46.212300000000006,46.212300000000006,46.212300000000006,46.212300000000006,46.212300000000006,46.6557,46.6557,46.6557,46.6557,46.6557,47.0991,47.0991,47.0991,47.0991,47.0991,47.542500000000004,47.542500000000004,47.542500000000004,47.542500000000004,47.542500000000004,47.9859,47.9859,47.9859,47.9859,47.9859,47.9859,48.4293,48.4293,48.4293,48.4293,48.4293,48.4293,48.872699999999995,48.872699999999995,48.872699999999995,48.872699999999995,48.872699999999995,48.872699999999995,49.3161,49.3161,-18.0807,-7.439099999999996,4.089300000000003,4.976100000000002,4.976100000000002,4.976100000000002,4.976099999999997,4.976099999999997,4.976099999999997,4.976099999999997,4.976099999999997,5.419500000000005,5.419500000000005,5.419500000000005,5.419500000000005,5.419500000000005,5.419500000000005,5.419500000000005,5.419500000000005,5.419500000000005,5.419500000000005,5.419500000000005,5.419500000000005,5.419500000000005,5.419500000000005,5.419500000000005,5.419500000000005,5.419500000000005,5.419500000000005,5.419500000000005,5.419500000000005,5.419500000000005,5.419500000000005,5.419500000000005,5.419500000000005,5.419500000000005,5.419500000000005,5.419500000000005,5.419500000000005,5.419500000000005,5.419500000000005,5.419500000000005,5.419500000000005,5.419500000000005,5.419500000000005,5.419500000000005,5.419500000000005,5.419500000000005,5.419500000000005,5.419500000000005,5.419500000000005,5.419500000000005,5.419500000000005,5.419500000000005,5.419500000000005,5.419500000000005,5.419500000000005,5.419500000000005,5.419499999999999,5.419499999999999,5.419499999999999,5.419499999999999,5.8629000000000016,5.8629000000000016,5.8629000000000016,5.8629000000000016,5.8629000000000016,5.8629000000000016,5.8629000000000016,5.8629000000000016,5.8629000000000016,5.8629000000000016,5.8629000000000016,5.8629000000000016,5.8629000000000016,5.8629000000000016,5.8629000000000016,5.8629000000000016,5.8629000000000016,5.8629000000000016,5.8629000000000016,5.8629000000000016,5.8629000000000016,5.8629000000000016,5.8629000000000016,5.8629000000000016,5.8629000000000016,5.8629000000000016,5.8629000000000016,5.8629000000000016,5.8629000000000016,5.8629000000000016,5.8629000000000016,5.8629000000000016,5.8629000000000016,5.8629000000000016,5.8629000000000016,5.8629000000000016,5.8629000000000016,5.8629000000000016,5.8629000000000016,5.8629000000000016,5.8629000000000016,5.8629000000000016,5.8629000000000016,5.8629000000000016,5.8629000000000016,5.8629000000000016,5.8629000000000016,5.8629000000000016,5.8629000000000016,5.8629000000000016,5.8629000000000016,5.8629000000000016,5.8629000000000016,5.8629000000000016,5.8629000000000016,5.8629000000000016,5.8629000000000016,5.8629000000000016,5.8629000000000016,5.8629000000000016,6.306300000000005,6.306300000000005,6.306300000000005,6.306300000000005,6.306300000000005,6.306300000000005,6.306300000000005,6.306300000000005,6.306300000000005,6.306300000000005,6.306300000000005,6.306300000000005,6.306300000000005,6.3062999999999985,6.3062999999999985,6.3062999999999985,6.3062999999999985,6.3062999999999985,6.3062999999999985,6.3062999999999985,6.3062999999999985,6.3062999999999985,6.3062999999999985,6.3062999999999985,6.3062999999999985,6.3062999999999985,6.3062999999999985,6.3062999999999985,6.3062999999999985,6.3062999999999985,6.3062999999999985,6.3062999999999985,6.3062999999999985,6.3062999999999985,6.3062999999999985,6.3062999999999985,6.3062999999999985,6.3062999999999985,6.3062999999999985,6.3062999999999985,6.3062999999999985,6.3062999999999985,6.3062999999999985,6.3062999999999985,6.3062999999999985,6.3062999999999985,6.3062999999999985,6.3062999999999985,6.3062999999999985,6.749699999999995,7.193099999999992,7.193099999999992,7.636500000000001,7.636500000000001,-8.3259,-8.3259,18.7215,18.7215,-19.410900000000005,-19.410900000000005,-19.410900000000005,-19.410900000000005,-18.0807,-17.637300000000003,-17.637300000000003,0.9855000000000018,0.9855000000000018,0.9855000000000018,0.9855000000000018,0.9855000000000018,0.9855000000000018,0.9855000000000018,0.9855000000000018,1.4289000000000045,1.4289000000000045,1.4289000000000045,1.4289000000000045,1.4289000000000045,1.4289000000000045,1.4289000000000045,1.4289000000000045,1.4289000000000045,1.4289000000000045,1.4289000000000045,1.4289000000000045,1.4289000000000045,1.4289000000000045,1.4289000000000045,1.4289000000000045,1.4289000000000045,1.4289000000000045,1.4289000000000045,1.4289000000000045,1.4289000000000045,1.4289000000000045,1.4289000000000045,1.4289000000000045,1.4289000000000045,1.4289000000000045,1.4289000000000045,1.4289000000000045,1.8723000000000014,1.8723000000000014,1.8723000000000014,1.8723000000000014,1.8723000000000014,1.8723000000000014,1.8723000000000014,1.8723000000000014,1.8723000000000014,1.8723000000000014,1.8723000000000014,1.8723000000000014,1.8723000000000014,1.8723000000000014,1.8723000000000014,1.8723000000000014,1.8723000000000014,1.8723000000000014,1.8723000000000014,1.8723000000000014,1.8723000000000014,1.8723000000000014,1.8723000000000014,1.8723000000000014,1.8723000000000014,1.8723000000000014,1.8723000000000014,1.8723000000000014,1.8723000000000014,1.8723000000000014,1.8723000000000014,1.8723000000000014,1.8723000000000014,1.8723000000000014,2.315700000000004,2.315700000000004,2.315700000000004,2.315700000000004,2.315700000000004,2.315700000000004,2.315700000000004,2.315700000000004,2.315700000000004,2.315700000000004,2.315700000000004,2.315700000000004,2.315700000000004,2.315700000000004,2.315700000000004,2.315700000000004,2.315700000000004,2.315700000000004,2.315700000000004,2.315700000000004,2.315700000000004,2.315700000000004,2.315700000000004,2.315700000000004,2.315700000000004,2.315700000000004,2.315700000000004,2.315700000000004,2.315700000000004,2.315700000000004,2.315700000000004,2.315700000000004,2.315700000000004,2.315700000000004,2.315700000000004,2.315700000000004,2.315700000000004,2.315700000000004,2.315700000000004,2.315700000000004,2.315700000000004,2.315700000000004,2.315700000000004,2.315700000000004,2.759100000000001,2.759100000000001,2.759100000000001,2.759100000000001,2.759100000000001,2.759100000000001,2.759100000000001,2.759100000000001,2.759100000000001,2.759100000000001,2.759100000000001,2.759100000000001,2.759100000000001,2.759100000000001,2.759100000000001,2.759100000000001,2.759100000000001,2.759100000000001,2.759100000000001,3.2025000000000032,3.2025000000000032,3.2025000000000032,3.2025000000000032,3.2025000000000032,3.2025000000000032,3.2025000000000032,3.202499999999998,3.202499999999998,3.202499999999998,3.202499999999998,3.202499999999998,3.202499999999998,3.202499999999998,3.202499999999998,3.202499999999998,3.202499999999998,3.202499999999998,3.202499999999998,3.202499999999998,3.202499999999998,3.202499999999998,3.202499999999998,3.202499999999998,3.202499999999998,3.202499999999998,3.202499999999998,3.202499999999998,3.6459,3.6459,3.6459,3.6459,3.6459,3.6459,3.6459,3.6459,3.6459,3.6459,3.6459,3.6459,3.6459,3.6459,3.6459,3.6459,3.6459,3.6459,3.6459,3.6459,3.6459,3.6459,3.6459,3.6459,3.6459,3.6459,3.6459,3.6459,3.6459,4.089300000000003,4.089300000000003,4.089300000000003,4.089300000000003,4.089300000000003,4.089300000000003,4.089300000000003,4.089300000000003,4.089300000000003,4.089300000000003,4.089300000000003,4.089300000000003,4.089300000000003,4.089300000000003,4.089300000000003,4.089300000000003,4.089300000000003,4.089300000000003,4.089300000000003,4.089300000000003,4.089300000000003,4.089300000000003,4.089300000000003,4.089300000000003,4.089300000000003,4.089300000000003,4.089300000000003,4.089300000000003,4.089300000000003,4.5327,4.5327,4.5327,4.5327,4.5327,4.5327,4.5327,4.5327,4.5327,4.5327,4.5327,4.5327,4.5327,4.5327,4.5327,4.5327,4.5327,4.5327,4.5327,4.5327,4.5327,4.5327,4.5327,4.5327,4.5327,4.5327,4.5327,4.5327,4.5327,4.5327,4.5327,4.5327,4.5327,4.5327,4.5327,4.5327,4.5327,4.5327,4.976099999999997,4.976099999999997,4.976099999999997,4.976099999999997,4.976099999999997,4.976099999999997,4.976099999999997,4.976099999999997,4.976099999999997,4.976099999999997,4.976099999999997,4.976099999999997,4.976099999999997,4.976099999999997,4.976099999999997,4.976099999999997,4.976099999999997,4.976099999999997,4.976099999999997,4.976099999999997,4.976099999999997,4.976099999999997,4.976099999999997,4.976099999999997,5.419499999999999,5.419499999999999,5.419499999999999,5.419499999999999,5.419499999999999,5.419499999999999,5.8629000000000016,5.8629000000000016,5.8629000000000016,5.8629000000000016,23.1555,-19.854300000000002,-19.854300000000002,-19.854300000000002,-19.854300000000002,-19.854300000000002,-19.410900000000005,-19.410900000000005,-18.967499999999994,-18.967499999999994,-18.524099999999997,-18.524099999999997,-18.524099999999997,-18.0807,-18.0807,-18.0807,-18.0807,-18.0807,-18.0807,-18.0807,-18.0807,-18.0807,-17.637300000000003,-17.637300000000003,-17.637300000000003,-17.637300000000003,-17.637300000000003,-17.637300000000003,-17.193900000000006,-17.193900000000006,-17.193900000000006,-17.193900000000006,-17.193900000000006,-17.193900000000006,-16.7505,-16.7505,-16.7505,-16.7505,-16.307100000000002,-15.863700000000005,-14.090100000000007,-14.090100000000007,-11.873099999999999,-8.3259,9.853499999999997,10.296899999999994,10.296899999999994,10.296899999999994,10.740300000000001,10.740300000000001,10.740300000000001,47.542500000000004,47.9859,48.4293,48.4293,48.872699999999995,48.872699999999995,48.872699999999995,49.3161,49.3161,49.3161,49.3161,49.7595,49.7595,49.7595],\"z\":[8.704477262004634,8.752370836469263,11.610020779525437,12.07299199935018,11.40248195684538,3.021106425535371,3.1807516737508,2.9412838014276566,3.005141900713828,2.9572483262491995,2.9732128510707425,2.9572483262491995,2.925319276606114,3.069,3.005141900713828,2.9891773758922855,2.9572483262491995,3.005141900713828,3.1807516737508,3.037070950356914,3.021106425535371,3.021106425535371,3.021106425535371,3.1009290496430855,3.053035475178457,3.053035475178457,3.037070950356914,3.1807516737508,3.069,3.053035475178457,3.148822624107714,3.228645248215428,3.2446097730369714,3.1328580992861714,3.148822624107714,3.1009290496430855,3.260574297858514,3.196716198572343,3.1807516737508,3.1807516737508,3.2126807233938854,3.084964524821543,3.3563614467877714,3.2446097730369714,3.260574297858514,3.196716198572343,3.340396921966229,3.500042170181657,3.324432397144686,3.308467872323143,3.308467872323143,3.2126807233938854,3.4521485957170284,3.4521485957170284,3.3882904964308573,3.3882904964308573,3.3882904964308573,3.6756519432186288,3.436184070895486,3.372325971609315,3.3882904964308573,3.547935744646286,3.5798647942893718,3.4840776453601143,3.4840776453601143,3.531971219824743,3.531971219824743,3.5798647942893718,3.6117938439324577,3.563900269467829,3.436184070895486,3.4202195460739433,3.531971219824743,3.8193326666125147,3.691616468040172,3.6596874183970862,3.500042170181657,3.563900269467829,3.5958293191109147,3.643722893575543,3.5798647942893718,3.7714390921478858,-57.162041475665816,-39.106163902500825,-59.81215259604194,-56.587318582090276,-57.768693418884446,-57.83255151817061,-63.10084470927976,-63.05295113481513,-62.893305886599705,-62.877341361778164,-62.7815542128489,-56.71503478066262,-56.74696383030571,-56.2999571353025,-57.46536744727513,-56.63521215655491,-57.96026771674296,-57.44940292245359,-56.874680028878046,-57.7527288940629,-57.28975767423816,-56.842750979234964,-57.20993505013045,-56.73099930548416,-57.066254326736555,-57.32168672388125,-56.874680028878046,-57.3057221990597,-56.8587155040565,-57.353615773524325,-57.49729649691822,-57.050289801915014,-57.52922554656131,-57.0822188515581,-57.625012695490554,-57.17800600048736,-57.672906269955185,-57.22589957495198,-57.72079984441982,-57.83255151817061,-57.385544823167415,-57.94430319192141,-57.49729649691822,-58.10394844013685,-57.65694174513364,-58.07201939049376,-57.625012695490554,-58.087983915315306,-58.16780653942302,-57.72079984441982,-58.24762916353073,-57.800622468527536,-58.26359368835227,-58.29552273799536,-58.59884870960468,-58.119912964958395,-58.55095513514004,-58.80638753228474,-63.35627710642446,-63.180667333387476,-63.08488018445822,-63.32434805678137,-58.4232389365677,-58.56691965996159,-58.47113251103233,-58.61481323442622,-58.646742284069305,-58.75849395782011,-58.8702456315709,-59.06181992942942,-58.61481323442622,-59.09374897907251,-58.646742284069305,-59.10971350389404,-59.20550065282331,-59.572684723718794,-59.1256780287156,-59.66847187264805,-59.15760707835867,-59.4290040003249,-59.73232997193422,-59.221465177644845,-59.66847187264805,-59.221465177644845,-59.74829449675576,-59.301287801752565,-59.70040092229114,-59.73232997193422,-59.844081645685016,-60.00372689390044,-60.03565594354353,-60.147407617294334,-60.19530119175896,-60.24319476622359,-60.56248526265445,-60.115478567651245,-60.37091096479594,-60.62634336194062,-60.163372142115875,-60.897740283906856,-60.434769064082104,-61.009491957657644,-60.530556213011366,-60.70616598604833,-60.84984670944222,-60.402840014439015,-60.92966933354993,-60.48266263854673,-60.8817757590853,-61.041421007300734,-60.59441431229753,-61.05738553212228,-60.610378837119086,-61.29685340444543,-60.817917659799136,-61.12124363140845,-61.29685340444543,-61.424569603017765,-61.967363446950216,-61.52035675194702,-63.452064255353704,-63.42013520571062,-60.722130510869874,-61.23299530515925,-61.15317268105154,-61.36071150373159,-61.53632127676856,-61.08931458176536,-61.45649865266084,-61.50439222712548,-61.56825032641164,-61.79175367391325,-61.34474697891005,-61.98332797177177,-61.53632127676856,-61.7757891490917,-62.1429732199872,-61.63210842569782,-62.17490226963027,-61.72789557462708,-62.302618468202624,-61.82368272355634,-62.33454751784571,-61.8875408228425,-62.17490226963027,-62.27068941855954,-62.46226371641804,-62.01525702141485,-62.574015390168846,-62.12700869516565,-62.79751873767045,-62.350512042667255,-62.84541231213508,-62.39840561713188,-62.97312851070742,-62.44629919159651,-62.79751873767045,-62.7815542128489,-62.861376836956616,-62.893305886599705,-63.02102208517205,-63.02102208517205,-63.11680923410131,-63.180667333387476,-63.212596383030565,-63.26048995749519,-63.32434805678137,-63.3403125816029,-63.40417068088908,-63.42013520571062,-63.468028780175246,-62.909270411421254,-63.27645448231674,-62.82944778731354,-63.27645448231674,-63.29241900713828,-31.66146395538329,-31.8530382532418,-22.865010778713163,-22.865010778713163,-51.877783759735124,-51.43077706473192,-51.84585471009204,-51.398848015088845,-35.99308156229997,-35.88132988854917,-36.088868711229225,-45.891086951656554,-45.891086951656554,-45.98687410058581,-46.09862577433661,-46.19441292326586,-46.25827102255204,-46.529667944518266,-57.92833866709988,-46.25827102255204,-46.19441292326586,-46.465809845232094,-45.97090957576427,-46.817029391306036,-46.178448398444324,-46.48177437005363,-46.03476767505043,-46.433880795589005,-46.817029391306036,-46.3221291218382,-46.64141961826906,-46.753171292019864,-46.64141961826906,-46.89685201541376,-47.072461788450724,-46.60949056862598,-47.00860368916455,-47.21614251184461,-46.769135816841406,-47.15228441255844,-47.423681334524666,-46.86492296577067,-47.43964585934621,-48.38155282381724,-48.44541092310341,-47.934546128814034,-48.14208495149409,-47.26403608630924,-47.02456821398609,-47.29596513595232,-47.59929110756163,-47.12035536291535,-47.63122015720472,-47.16824893737998,-47.8866525543494,-47.391752284881576,-48.38155282381724,-47.77490088059861,-47.32789418559541,-48.71680784506964,-47.998404228100206,-47.55139753309701,-48.71680784506964,-48.11015590185101,-47.63122015720472,-48.285765674887976,-47.67911373166935,-47.934546128814034,-48.04629780256484,-47.59929110756163,-48.15804947631564,-47.711042781312436,-48.23787210042335,-47.79086540542015,-48.253836625244894,-47.80682993024169,-48.46137544792495,-47.95051065363558,-48.46137544792495,-48.014368752921754,-48.50926902238958,-48.44541092310341,-48.44541092310341,-48.41348187346033,-47.91858160399249,-47.4715749089893,-48.285765674887976,-47.56736205791855,-47.12035536291535,-48.301730199709525,-48.349623774174155,-48.33365924935261,-48.301730199709525,-48.71680784506964,-48.17401400113718,-48.65294974578346,-48.20594305078026,-48.668914270605015,-48.892417618106606,-48.41348187346033,-48.892417618106606,-48.42944639828187,-48.98820476703587,-48.541198072032664,-48.956275717392785,-49.29153073864518,-48.81259499399889,-49.17977906489438,-48.73277236989118,-49.56292766061141,-48.98820476703587,-49.834324582577636,-49.211708114537466,-48.74873689471273,-49.62678575989758,-49.17977906489438,-49.64275028471913,-49.11592096560821,-48.668914270605015,-49.64275028471913,-49.11592096560821,-48.62102069614038,-49.802395532934554,-49.11592096560821,-48.46137544792495,-49.38731788757444,-49.38731788757444,-49.499069561325236,-49.57889218543295,-49.65871480954066,-49.69064385918375,-49.866253632220726,-49.41924693721752,-49.88221815704227,-49.97800530597152,-50.089756979722324,-50.089756979722324,-50.16957960383004,-50.13765055418695,-50.24940222793775,-50.44097652579627,-49.99396983079306,-50.153615079008496,-50.4888701002609,-50.345189376867005,-50.696408922940954,-50.45694105061781,-50.4888701002609,-50.50483462508244,-50.82412512151329,-50.377118426510094,-50.74430249740558,-50.90394774562101,-51.09552204347953,-50.64851534847632,-51.14341561794415,-50.696408922940954,-51.14341561794415,-50.696408922940954,-51.35095444062421,-50.90394774562101,-51.31902539098113,-50.85605417115638,-51.271131816516494,-51.31902539098113,-51.654280412233526,-51.19130919240878,-51.54252873848272,-51.686209461876615,-51.23920276687342,-51.84585471009204,-51.877783759735124,-51.686209461876615,-51.54252873848272,-52.06935805759364,-51.52656421366119,-51.81392566044896,-52.10128710723673,-51.654280412233526,-52.0533935327721,-52.244967830630614,-51.7979611356274,-52.30882592991678,-51.86181923491358,-52.30882592991678,-51.86181923491358,-52.260932355452155,-52.580222851883015,-52.10128710723673,-52.5004002277753,-52.0533935327721,-52.78776167456307,-52.260932355452155,-52.80372619938462,-52.35671950438141,-52.75583262491998,-52.30882592991678,-52.73986810009844,-52.93144239795696,-52.963371447600046,-53.186874795101645,-52.80372619938462,-53.0591585965293,-52.45250665331067,-52.963371447600046,-52.516364752596836,-53.138981220637014,-52.580222851883015,-53.21880384474473,-52.77179714974153,-53.63388149010484,-53.01126502206468,-52.564258327061474,-53.64984601492638,-53.07512312135084,-52.62811642634764,-53.45827171706787,-53.01126502206468,-53.761597688677185,-53.107052170993924,-53.80949126314181,-53.154945745458555,-53.93720746171416,-53.26669741920936,-53.93720746171416,-53.426342667424784,-53.55405886599713,-53.53809434117559,-53.36248456813861,-53.8414203127849,-53.426342667424784,-52.64408095116919,-53.52212981635404,-52.67601000081227,-53.5061652915325,-52.73986810009844,-53.55405886599713,-53.8414203127849,-53.80949126314181,-53.681775064569464,-54.032994610643414,-53.58598791564022,-54.09685270992959,-53.64984601492638,-53.98510103617879,-54.032994610643414,-54.36824963189581,-53.92124293689261,-54.44807225600353,-53.9531719865357,-54.432107731181986,-53.98510103617879,-54.54385940493279,-54.09685270992959,-54.44807225600353,-53.394413617781694,-54.65561107868359,-54.20860438368038,-54.57578845457588,-54.63964655386204,-54.83122085172056,-54.38421415671736,-54.86314990136365,-54.416143206360445,-55.24629849708067,-54.5119303552897,-55.565588993511525,-55.182440397794494,-52.99530049724312,-52.516364752596836,-52.851619773849244,-52.40461307884605,-52.72390357527691,-55.37401469565301,-54.68754012832667,-55.358050170831476,-54.91104347582827,-55.15051134815142,-54.68754012832667,-55.070688724043706,-55.278227546723755,-54.83122085172056,-55.629447092797704,-55.022795149579075,-55.326121121188386,-55.4059437452961,-55.58155351833307,-55.13454682332987,-55.629447092797704,-55.182440397794494,-55.67734066726233,-55.72523424172696,-52.819690724206154,-52.37268402920296,-52.62811642634764,-52.18110973134444,-52.548293802239925,-51.7979611356274,-52.3886485540245,-51.84585471009204,-52.42057760366758,-51.973570908664385,-57.32168672388125,-16.830420396169956,-16.6228815734899,-17.085852793314643,-17.59671758760401,-11.115120510057608,-16.654810623132985,-17.101817318136185,-16.782526821705325,-16.830420396169956,-16.654810623132985,-13.254366836144351,-13.813125204898352,-16.766562296883784,-16.543058949382186,-13.094721587928921,-13.605586382218295,-12.982969914178124,-13.477870183645951,-12.85525371560578,-13.350153985073609,-13.270331360965894,-16.52709442456064,-16.974101119563844,-12.583856793639551,-13.110686112750466,-12.599821318461094,-13.046828013464296,-16.447271800452928,-16.68673967277607,-12.376317970959494,-12.982969914178124,-12.424211545424123,-12.871218240427321,-16.495165374917555,-17.0698882684931,-16.63884609831144,-17.085852793314643,-16.990065644385385,-8.449044864859948,-8.896051559863148,-8.832193460576978,-8.62465463789692,-31.230421785201628,-13.605586382218295,-13.270331360965894,-13.717338055969094,-13.334189460252066,-13.41401208435978,-13.861018779362983,-13.493834708467494,-17.612682112425556,-17.500930438674757,-17.165675417422356,-17.628646637247098,-16.91024302027767,-17.181639942243898,-17.628646637247098,-16.590952523846813,-17.085852793314643,-16.670775147954526,-17.245498041530073,-16.57498799902527,-17.02199469402847,-16.6228815734899],\"type\":\"scatter3d\"},{\"mode\":\"lines\",\"name\":\"edep segments\",\"showlegend\":true,\"visible\":\"legendonly\",\"x\":[-57.753326416015625,-57.726646423339844,null,-50.7025032043457,-50.702327728271484,null,-51.92179870605469,-51.921791076660156,null,-62.49777603149414,-62.42673110961914,null,12.557831764221191,12.540748596191406,null,-64.27275848388672,-64.27365112304688,null,-43.82344436645508,-43.77937316894531,null,-46.08298873901367,-46.08305358886719,null,-44.351524353027344,-44.35152816772461,null,-43.657508850097656,-43.65748977661133,null,-43.38004684448242,-43.37996292114258,null,-46.66221237182617,-46.66221237182617,null,-48.11458206176758,-48.11468505859375,null,-48.19806671142578,-48.19821548461914,null,-47.24107360839844,-47.24107360839844,null,-45.49659729003906,-45.496463775634766,null,-46.98096466064453,-46.98103332519531,null,-24.920883178710938,-24.92087745666504,null,-15.000948905944824,-15.000951766967773,null,-14.999005317687988,-14.999003410339355,null,-16.0629940032959,-16.063159942626953,null,-14.637224197387695,-14.636321067810059,null,-22.957077026367188,-22.957088470458984,null,-25.276973724365234,-25.27794075012207,null,-29.069074630737305,-29.0982723236084,null,-16.171815872192383,-16.136043548583984,null,-45.135955810546875,-45.181678771972656,null,-33.43257522583008,-33.38290786743164,null,-44.550052642822266,-44.56319808959961,null,-44.83158874511719,-44.850196838378906,null,-29.58938980102539,-29.599510192871094,null,-28.31072425842285,-28.310836791992188,null,-27.89218521118164,-27.8900203704834,null,-30.759666442871094,-30.762527465820312,null,-29.833776473999023,-29.848474502563477,null,-29.848474502563477,-29.935504913330078,null,-29.935504913330078,-30.066795349121094,null,-30.066795349121094,-30.16573143005371,null,-30.16573143005371,-30.14754295349121,null,-4.327244281768799,-4.308150291442871,null,-17.116153717041016,-16.880352020263672,null,-16.880352020263672,-16.7275390625,null,-16.7275390625,-16.480878829956055,null,-16.480878829956055,-16.337987899780273,null,-16.337987899780273,-16.280683517456055,null,-16.280683517456055,-16.25963592529297,null,-16.18232536315918,-16.208351135253906,null,-12.4135160446167,-12.413276672363281,null,-15.864765167236328,-15.863242149353027,null,14.4209566116333,14.456266403198242,null,11.437172889709473,11.437175750732422,null,5.4072585105896,5.4070820808410645,null,5.618933200836182,5.619051456451416,null,24.245845794677734,24.21647071838379,null,14.138998031616211,14.21643352508545,null,8.541301727294922,8.555256843566895,null,15.307631492614746,15.307641983032227,null,9.600614547729492,9.6005277633667,null,13.504599571228027,13.504598617553711,null,9.919965744018555,9.913408279418945,null,13.9439115524292,13.990738868713379,null,7.866942882537842,7.866908550262451,null,8.088183403015137,8.088273048400879,null,5.23914098739624,5.238502025604248,null,12.723625183105469,12.723657608032227,null,15.38200855255127,15.382094383239746,null,15.433313369750977,15.433778762817383,null,-22.00321388244629,-22.003368377685547,null,16.15608024597168,16.156099319458008,null,48.78946304321289,48.740962982177734,null,49.49813461303711,49.49911117553711,null,48.06250762939453,48.062904357910156,null,35.133792877197266,35.1336555480957,null,33.15102767944336,33.15109634399414,null,25.55152130126953,25.5550594329834,null,25.5550594329834,25.471593856811523,null,13.020084381103516,12.983513832092285,null,13.144335746765137,13.144339561462402,null,15.182076454162598,15.181811332702637,null,16.286897659301758,16.286785125732422,null,22.421146392822266,22.421260833740234,null,21.929916381835938,21.967708587646484,null,-57.835777282714844,-57.868709564208984,null,-57.687015533447266,-57.687015533447266,null,17.624103546142578,17.7802734375,null,17.7802734375,18.009870529174805,null,18.009870529174805,18.06810760498047,null,18.06810760498047,18.06820297241211,null,-6.1204915046691895,-5.954504013061523,null,-5.954504013061523,-5.836205959320068,null,-5.836205959320068,-5.765785217285156,null,-38.63773727416992,-38.63774108886719,null,-38.420772552490234,-38.420711517333984,null,-38.55352783203125,-38.46445846557617,null,-38.46445846557617,-38.461917877197266,null,-61.495262145996094,-61.4837646484375,null,-64.12505340576172,-64.12606811523438,null,-55.288387298583984,-55.26953125,null,-50.76460647583008,-50.00996398925781,null,-50.00996398925781,-49.37955093383789,null,-49.37955093383789,-48.99838638305664,null,-48.99838638305664,-48.6972770690918,null,-48.6972770690918,-48.64641189575195,null,-48.64641189575195,-48.57277297973633,null,-48.57277297973633,-48.47467041015625,null,-48.47467041015625,-48.43244171142578,null,-38.470054626464844,-38.470008850097656,null,-42.262088775634766,-42.26209259033203,null,-46.64566421508789,-46.64498519897461,null,-56.7214469909668,-56.7214241027832,null,-59.078983306884766,-59.079017639160156,null,-60.051170349121094,-60.05989456176758,null,-48.14945983886719,-48.14498519897461,null,-48.578182220458984,-48.57830810546875,null,-47.92230987548828,-47.900638580322266,null,-50.76460647583008,-50.511592864990234,null,-50.511592864990234,-50.32682800292969,null,-50.32682800292969,-50.42409896850586,null,-50.42409896850586,-50.48588180541992,null,-50.37089538574219,-50.37489700317383,null,-50.03632354736328,-50.036285400390625,null,-52.04916763305664,-52.049171447753906,null,-53.229190826416016,-53.22919845581055,null,-54.26884460449219,-54.268863677978516,null,-55.498130798339844,-55.49802780151367,null,-60.85044479370117,-60.85329818725586,null,-59.77727127075195,-59.76988983154297,null,-57.04683303833008,-57.07159423828125,null,-54.22573471069336,-54.225738525390625,null,-48.53904724121094,-48.53904342651367,null,-48.18614959716797,-48.18568801879883,null,-53.87084197998047,-53.86482238769531,null,-54.15013885498047,-54.15012741088867,null,-54.594207763671875,-54.594398498535156,null,-53.663665771484375,-53.66341018676758,null,-53.074188232421875,-53.074161529541016,null,-52.526695251464844,-52.52666091918945,null,-52.748783111572266,-52.748779296875,null,-58.12242126464844,-58.12544250488281,null,-57.91539764404297,-57.917049407958984,null,-57.50733184814453,-57.50709533691406,null,-57.005615234375,-57.006229400634766,null,-53.47645950317383,-53.364158630371094,null,-53.364158630371094,-53.42298126220703,null,-57.5659294128418,-57.08588409423828,null,-57.08588409423828,-56.82383346557617,null,-56.82383346557617,-56.625064849853516,null,-56.625064849853516,-56.258819580078125,null,-56.258819580078125,-56.04511642456055,null,-56.04511642456055,-55.78744888305664,null,-55.78744888305664,-55.53862380981445,null,-55.53862380981445,-55.24305725097656,null,-55.24305725097656,-55.05805587768555,null,-55.05805587768555,-54.973812103271484,null,-54.973812103271484,-54.895423889160156,null,-54.895423889160156,-54.92424774169922,null,-24.857839584350586,-24.80170440673828,null,-2.594980239868164,-2.5949766635894775,null,-2.96199369430542,-2.961388111114502,null,-6.364643096923828,-6.364655494689941,null,-17.770774841308594,-17.7742919921875,null,-16.76096534729004,-16.749414443969727,null,-21.517353057861328,-21.47319984436035,null,-23.06092071533203,-23.06119728088379,null,-22.798086166381836,-22.797121047973633,null,-35.942161560058594,-35.949337005615234,null,-32.75954818725586,-32.76143264770508,null,-31.27073860168457,-31.270965576171875,null,-24.857839584350586,-24.682044982910156,null,-24.682044982910156,-25.06447410583496,null,-25.06447410583496,-25.3093204498291,null,-25.3093204498291,-25.603458404541016,null,-25.603458404541016,-25.72223472595215,null,-25.72223472595215,-25.611268997192383,null,-25.611268997192383,-25.634241104125977,null,-25.634241104125977,-25.59588050842285,null,-25.59588050842285,-25.585416793823242,null,-25.3145694732666,-25.335569381713867,null,-26.605323791503906,-26.590932846069336,null,-27.37238121032715,-27.37237548828125,null,-27.77748680114746,-27.777549743652344,null,-28.937501907348633,-28.936933517456055,null,-30.46342658996582,-30.463470458984375,null,-36.59906005859375,-36.595069885253906,null,-37.265655517578125,-37.265594482421875,null,-37.394710540771484,-37.39549255371094,null,-38.57711410522461,-38.54798889160156,null,-39.47799301147461,-39.30867004394531,null,-39.30867004394531,-39.249210357666016,null,-39.249210357666016,-39.32207107543945,null,-39.32207107543945,-39.46731185913086,null,-39.46731185913086,-39.4836311340332,null,-41.634525299072266,-41.679176330566406,null,-49.1196174621582,-49.103004455566406,null,-54.05712890625,-54.05693817138672,null,-39.2166748046875,-39.23637008666992,null,-37.51996994018555,-37.519962310791016,null,-33.0394287109375,-33.038917541503906,null,-41.265281677246094,-41.265140533447266,null,-52.21495819091797,-52.215030670166016,null,-54.477840423583984,-54.50689697265625,null,-53.17610549926758,-53.176109313964844,null,-52.32079315185547,-52.31935501098633,null,-56.532989501953125,-56.532920837402344,null,-41.64434051513672,-41.59906005859375,null,-54.50922393798828,-54.50932693481445,null,-56.3637809753418,-56.364070892333984,null,-51.41693878173828,-51.41694259643555,null,-54.56479263305664,-54.58620071411133,null,-56.547080993652344,-56.674259185791016,null,-56.674259185791016,-56.64610290527344,null,-56.64610290527344,-56.743831634521484,null,-56.743831634521484,-56.7498664855957,null,-56.921688079833984,-56.9483642578125,null,-55.68098068237305,-55.640804290771484,null,-45.18559646606445,-45.183753967285156,null,-42.502220153808594,-42.47934341430664,null,-49.73826599121094,-49.76726150512695,null,-38.72150802612305,-38.585758209228516,null,-38.585758209228516,-38.55415344238281,null,-41.088104248046875,-41.087589263916016,null,-44.06133270263672,-44.06275177001953,null,-43.77607345581055,-43.71873092651367,null,-47.402549743652344,-47.28301239013672,null,-47.28301239013672,-47.147769927978516,null,-47.147769927978516,-47.15011215209961,null,62.87055587768555,62.8770637512207,null,-65.5,-64.36064147949219,null,-64.36064147949219,-61.58746337890625,null,-61.58746337890625,-60.842105865478516,null,-60.842105865478516,-53.17921447753906,null,-53.17921447753906,-51.09549331665039,null,-51.09549331665039,-46.55840301513672,null,-46.55840301513672,-36.366600036621094,null,-36.366600036621094,-29.11695671081543,null,58.152381896972656,58.201454162597656,null,58.22447967529297,58.22499465942383,null,53.935420989990234,53.93543243408203,null,52.90333557128906,52.928627014160156,null,51.199954986572266,51.19970703125,null,62.44012451171875,62.44053649902344,null,62.33344650268555,62.3336296081543,null,61.67520523071289,61.673187255859375,null,61.938846588134766,61.95839309692383,null,32.6729621887207,32.6666259765625,null,33.548030853271484,33.54383850097656,null,43.552879333496094,43.5528564453125,null,58.54689407348633,58.547000885009766,null,61.96036148071289,62.073604583740234,null,62.073604583740234,62.08439254760742,null,-21.98281478881836,-22.021085739135742,null,-21.758955001831055,-21.758888244628906,null,-21.139856338500977,-21.139484405517578,null,-21.443220138549805,-21.44318962097168,null,-22.093881607055664,-22.093883514404297,null,-29.11695671081543,-28.885181427001953,null,-28.885181427001953,-28.71595001220703,null,-28.71595001220703,-28.650142669677734,null,-28.650142669677734,-28.490816116333008,null,-28.490816116333008,-28.49114227294922,null,-36.366600036621094,-36.11973190307617,null,-46.55840301513672,-46.47920608520508,null,-46.47920608520508,-46.5140495300293,null,-51.09549331665039,-51.02864074707031,null,-53.17921447753906,-53.15568923950195,null,-60.842105865478516,-60.803462982177734,null,-61.58746337890625,-61.575714111328125,null,-64.36064147949219,-64.3008041381836,null,-29.76699447631836,-29.766990661621094,null,-43.1383056640625,-43.123878479003906,null,60.760990142822266,60.71561050415039,null,-52.531673431396484,-52.53119659423828,null,8.994141578674316,8.994140625,null,6.755476474761963,6.755574703216553,null,6.62212610244751,6.6201653480529785,null,9.453384399414062,9.457666397094727,null,9.439568519592285,9.439559936523438,null,9.436750411987305,9.436973571777344,null,-40.983829498291016,-40.96127700805664,null,-43.26881790161133,-43.26858901977539,null,-46.966739654541016,-46.96657943725586,null,-48.25511169433594,-48.255706787109375,null,-50.80861282348633,-50.80869674682617,null,-51.24243927001953,-51.242401123046875,null,5.541111469268799,5.542280673980713,null,5.385291576385498,5.385305404663086,null,-65.5,-61.09054946899414,null,-61.09054946899414,-54.772987365722656,null,-54.772987365722656,-53.605812072753906,null,-53.605812072753906,-53.043514251708984,null,-53.043514251708984,-52.80058670043945,null,-52.80058670043945,-51.830223083496094,null,-51.830223083496094,-49.944366455078125,null,-49.944366455078125,-49.66850280761719,null,-49.66850280761719,-48.80555725097656,null,-48.80555725097656,-45.678672790527344,null,-45.678672790527344,-44.71377182006836,null,-44.71377182006836,-44.35346603393555,null,-44.35346603393555,-43.6057014465332,null,-43.6057014465332,-35.64180374145508,null,-35.64180374145508,-25.055173873901367,null,-25.055173873901367,-22.25914192199707,null,-22.25914192199707,-20.52176284790039,null,-20.52176284790039,-19.67303466796875,null,-19.67303466796875,-16.617795944213867,null,-16.617795944213867,-13.47545051574707,null,-13.47545051574707,-7.563286781311035,null,-7.563286781311035,-5.758875370025635,null,-5.758875370025635,-3.5504140853881836,null,-3.5504140853881836,-2.298459529876709,null,1.5,3.651745557785034,null,3.651745557785034,6.881218910217285,null,6.881218910217285,18.235654830932617,null,18.235654830932617,18.438581466674805,null,18.438581466674805,21.02322006225586,null,21.02322006225586,24.54361915588379,null,24.54361915588379,25.628061294555664,null,25.628061294555664,25.850698471069336,null,25.850698471069336,26.952043533325195,null,26.952043533325195,29.115333557128906,null,29.115333557128906,30.86515998840332,null,30.86515998840332,33.25834274291992,null,33.25834274291992,34.7538948059082,null,34.7538948059082,37.47951126098633,null,37.47951126098633,38.12276840209961,null,38.12276840209961,46.52097702026367,null,47.85026550292969,49.805564880371094,null,49.805564880371094,49.80565643310547,null,49.80565643310547,50.8185920715332,null,50.8185920715332,52.140743255615234,null,52.140743255615234,53.14775466918945,null,53.14775466918945,53.883811950683594,null,53.883811950683594,54.287437438964844,null,62.69674301147461,62.692298889160156,null,63.4661865234375,63.466304779052734,null,50.8185920715332,50.86019515991211,null,49.80565643310547,49.82624053955078,null,49.8344841003418,49.83444595336914,null,33.22026824951172,33.17710876464844,null,49.689170837402344,49.689022064208984,null,54.449710845947266,54.45114517211914,null,56.20785903930664,56.26605987548828,null,48.80448532104492,48.803062438964844,null,48.819149017333984,48.81886291503906,null,54.116615295410156,54.104034423828125,null,54.7540397644043,54.7545280456543,null,49.304508209228516,49.30450439453125,null,38.12276840209961,38.16145324707031,null,38.1750602722168,38.1861457824707,null,37.47951126098633,38.03063201904297,null,38.03063201904297,38.63894271850586,null,38.63894271850586,39.006256103515625,null,39.006256103515625,39.05265808105469,null,39.05265808105469,39.089298248291016,null,39.089298248291016,38.94274139404297,null,38.94274139404297,38.76683807373047,null,38.76683807373047,38.73883056640625,null,38.73883056640625,38.73595428466797,null,39.05265808105469,39.12156677246094,null,39.12156677246094,39.1265754699707,null,34.7538948059082,34.90089416503906,null,34.90089416503906,34.87732696533203,null,34.87732696533203,34.86736297607422,null,33.25834274291992,33.31816864013672,null,30.86515998840332,30.919782638549805,null,29.115333557128906,29.12885093688965,null,26.952043533325195,27.003414154052734,null,25.850698471069336,25.863014221191406,null,34.489715576171875,34.50962829589844,null,37.26295852661133,37.30930709838867,null,36.80058288574219,36.800575256347656,null,25.628061294555664,25.891569137573242,null,25.891569137573242,25.997604370117188,null,25.73723602294922,25.76474380493164,null,24.54361915588379,24.565357208251953,null,21.02322006225586,21.03542709350586,null,18.438581466674805,18.466123580932617,null,18.275171279907227,18.323131561279297,null,18.323131561279297,18.31998062133789,null,18.235654830932617,18.264917373657227,null,6.881218910217285,6.900338649749756,null,3.651745557785034,4.136848449707031,null,4.136848449707031,4.5201616287231445,null,4.5201616287231445,4.501637935638428,null,4.501637935638428,4.266525745391846,null,4.266525745391846,4.194027423858643,null,4.194027423858643,4.160246849060059,null,2.712773561477661,2.7127816677093506,null,4.501637935638428,4.498805999755859,null,-3.5504140853881836,-3.5393216609954834,null,-5.758875370025635,-5.707003116607666,null,-7.563286781311035,-7.304871559143066,null,-7.304871559143066,-7.247350215911865,null,-7.247350215911865,-7.144434452056885,null,-7.144434452056885,-7.2231292724609375,null,-7.2231292724609375,-7.23020601272583,null,-13.47545051574707,-13.37165355682373,null,-13.37165355682373,-13.414270401000977,null,-16.617795944213867,-16.525432586669922,null,-16.525432586669922,-16.48859214782715,null,-16.48859214782715,-16.490497589111328,null,-19.67303466796875,-19.413278579711914,null,-19.413278579711914,-17.78923988342285,null,-17.78923988342285,-17.12787437438965,null,-17.12787437438965,-16.4508056640625,null,-16.4508056640625,-16.185617446899414,null,-16.185617446899414,-15.513252258300781,null,-15.513252258300781,-15.147459030151367,null,-15.147459030151367,-15.018747329711914,null,-15.018747329711914,-14.838634490966797,null,-14.838634490966797,-14.639589309692383,null,-14.639589309692383,-14.626251220703125,null,-14.626251220703125,-14.647331237792969,null,-15.018747329711914,-14.983750343322754,null,-15.020112037658691,-15.013239860534668,null,-21.3760986328125,-21.382953643798828,null,-21.321434020996094,-21.321487426757812,null,-13.419827461242676,-13.4197359085083,null,-13.532249450683594,-13.532425880432129,null,-11.622506141662598,-11.619675636291504,null,-3.721327066421509,-3.7040560245513916,null,-4.869065761566162,-4.871079921722412,null,-4.882455825805664,-4.8628692626953125,null,-15.374627113342285,-15.411090850830078,null,-9.677757263183594,-9.671955108642578,null,-10.88828182220459,-10.888832092285156,null,-10.92628288269043,-10.92306137084961,null,-18.5515193939209,-18.58611297607422,null,-18.017051696777344,-18.017047882080078,null,-17.54692268371582,-17.546937942504883,null,-16.670745849609375,-16.670654296875,null,-16.929115295410156,-16.9289608001709,null,-18.37644386291504,-18.37649917602539,null,-18.450841903686523,-18.450918197631836,null,-16.12918472290039,-16.12384796142578,null,-20.52176284790039,-20.483304977416992,null,-22.25914192199707,-22.10642433166504,null,-22.10642433166504,-22.024938583374023,null,-25.055173873901367,-25.03428840637207,null,-35.64180374145508,-35.618167877197266,null,-43.6057014465332,-42.97970962524414,null,-42.97970962524414,-42.538665771484375,null,-42.538665771484375,-42.48988342285156,null,-42.48988342285156,-42.290889739990234,null,-42.290889739990234,-42.04890060424805,null,-42.04890060424805,-41.86858367919922,null,-41.86858367919922,-41.88258361816406,null,-41.88258361816406,-41.8631591796875,null,-44.74470520019531,-44.7761344909668,null,-42.812232971191406,-42.81222915649414,null,-42.95366287231445,-42.953731536865234,null,-42.27545928955078,-42.27540588378906,null,-44.35346603393555,-44.262351989746094,null,-44.71377182006836,-44.656429290771484,null,-45.678672790527344,-45.654361724853516,null,-48.80555725097656,-48.72331237792969,null,-48.72331237792969,-48.75440216064453,null,-49.66850280761719,-49.64879608154297,null,-49.944366455078125,-49.87838363647461,null,-51.830223083496094,-51.806583404541016,null,-52.80058670043945,-52.531925201416016,null,-52.531925201416016,-52.4818000793457,null,-52.4818000793457,-52.362056732177734,null,-52.362056732177734,-52.1947021484375,null,-52.1947021484375,-52.14289093017578,null,-52.14289093017578,-52.11366653442383,null,-49.395965576171875,-49.37228775024414,null,-52.52705764770508,-52.50758743286133,null,-53.043514251708984,-52.98575210571289,null,-53.605812072753906,-52.83124923706055,null,-52.83124923706055,-52.68086242675781,null,-52.68086242675781,-52.21343231201172,null,-52.21343231201172,-51.90331268310547,null,-51.90331268310547,-52.04922866821289,null,-52.04922866821289,-52.01388931274414,null,-52.01388931274414,-52.1019287109375,null,-52.0458869934082,-52.06501007080078,null,-52.68086242675781,-52.5854377746582,null,-52.5854377746582,-52.48898696899414,null,-52.48898696899414,-52.498321533203125,null,-54.772987365722656,-54.748741149902344,null,-61.09054946899414,-61.05015563964844,null],\"y\":[-20.056377410888672,-20.01441192626953,null,-18.628299713134766,-18.62790298461914,null,-19.179277420043945,-19.17927360534668,null,23.323625564575195,23.334213256835938,null,-3.899641513824463,-3.856599807739258,null,20.01466941833496,20.017261505126953,null,-11.881669998168945,-11.902459144592285,null,-9.488317489624023,-9.488269805908203,null,-9.686575889587402,-9.686576843261719,null,-9.743589401245117,-9.743597984313965,null,-9.300012588500977,-9.300000190734863,null,-9.052292823791504,-9.05229377746582,null,-8.819141387939453,-8.819023132324219,null,-8.978933334350586,-8.978856086730957,null,-10.519904136657715,-10.519903182983398,null,-15.183304786682129,-15.183358192443848,null,-19.492979049682617,-19.493030548095703,null,-18.0866641998291,-18.0866641998291,null,-18.94960594177246,-18.94959259033203,null,-18.888259887695312,-18.888261795043945,null,-16.900339126586914,-16.900297164916992,null,-16.634443283081055,-16.63434600830078,null,-17.100357055664062,-17.10030174255371,null,-2.4535892009735107,-2.4111690521240234,null,-2.1953306198120117,-2.1936683654785156,null,9.518393516540527,9.550806045532227,null,21.35293960571289,21.37154769897461,null,20.670358657836914,20.667394638061523,null,18.620058059692383,18.620616912841797,null,19.286497116088867,19.33266258239746,null,-5.380212306976318,-5.332660675048828,null,-11.387792587280273,-11.388224601745605,null,-11.756697654724121,-11.7559814453125,null,-13.556056022644043,-13.555789947509766,null,-18.216236114501953,-17.971900939941406,null,-17.971900939941406,-17.74506378173828,null,-17.74506378173828,-17.607975006103516,null,-17.607975006103516,-17.66516876220703,null,-17.66516876220703,-17.69957160949707,null,0.8616989254951477,0.9105412364006042,null,-19.342687606811523,-19.383543014526367,null,-19.383543014526367,-19.35799217224121,null,-19.35799217224121,-19.269607543945312,null,-19.269607543945312,-19.376184463500977,null,-19.376184463500977,-19.480897903442383,null,-19.480897903442383,-19.471494674682617,null,-12.750526428222656,-12.75184440612793,null,-12.559612274169922,-12.55942440032959,null,-19.247390747070312,-19.24614715576172,null,-19.661537170410156,-19.696916580200195,null,-16.671846389770508,-16.67183494567871,null,-16.991802215576172,-16.99169921875,null,-17.25757598876953,-17.25761604309082,null,-5.6496405601501465,-5.645891189575195,null,-18.24049949645996,-18.241287231445312,null,-18.890439987182617,-18.85926055908203,null,-19.902202606201172,-19.90220069885254,null,-9.805846214294434,-9.80581283569336,null,-17.65286636352539,-17.652870178222656,null,-17.89434814453125,-17.891904830932617,null,6.243456840515137,6.229034900665283,null,8.115071296691895,8.115050315856934,null,9.633119583129883,9.633164405822754,null,10.237448692321777,10.237554550170898,null,9.264725685119629,9.264724731445312,null,8.514445304870605,8.513304710388184,null,8.862906455993652,8.86303424835205,null,47.50056076049805,47.500709533691406,null,-20.049551010131836,-20.0495548248291,null,10.998056411743164,11.008817672729492,null,10.840806007385254,10.841331481933594,null,8.664645195007324,8.663955688476562,null,11.810728073120117,11.810873985290527,null,11.469642639160156,11.469244003295898,null,18.47317886352539,18.59785270690918,null,18.59785270690918,18.696353912353516,null,22.966411590576172,22.995826721191406,null,22.866474151611328,22.866439819335938,null,21.810440063476562,21.810056686401367,null,22.108827590942383,22.108867645263672,null,22.20736312866211,22.20770263671875,null,-7.396986961364746,-7.401247024536133,null,-13.439485549926758,-13.466333389282227,null,-13.318203926086426,-13.318053245544434,null,-8.606040954589844,-8.471960067749023,null,-8.471960067749023,-8.374689102172852,null,-8.374689102172852,-8.218254089355469,null,-8.218254089355469,-8.149731636047363,null,-8.57874870300293,-8.403486251831055,null,-8.403486251831055,-8.312495231628418,null,-8.312495231628418,-8.380853652954102,null,-18.417036056518555,-18.41704750061035,null,-17.74661636352539,-17.74622344970703,null,-19.82465362548828,-19.703886032104492,null,-19.703886032104492,-19.63431167602539,null,-11.115753173828125,-11.079056739807129,null,-19.508726119995117,-19.509183883666992,null,-19.405920028686523,-19.3917293548584,null,-18.388559341430664,-18.02581787109375,null,-18.02581787109375,-17.868911743164062,null,-17.868911743164062,-17.69029426574707,null,-17.69029426574707,-17.530881881713867,null,-17.530881881713867,-17.38558006286621,null,-17.38558006286621,-17.168033599853516,null,-17.168033599853516,-17.142349243164062,null,-17.142349243164062,-17.061460494995117,null,-17.531482696533203,-17.531410217285156,null,-17.803848266601562,-17.803808212280273,null,2.550020694732666,2.550128698348999,null,1.188098430633545,1.188020944595337,null,2.830496072769165,2.8304569721221924,null,4.488063812255859,4.4982500076293945,null,-7.60318660736084,-7.600655555725098,null,-16.32216453552246,-16.322120666503906,null,-15.880295753479004,-15.83523941040039,null,-18.388559341430664,-18.256322860717773,null,-18.256322860717773,-18.186203002929688,null,-18.186203002929688,-18.068742752075195,null,-18.068742752075195,-18.08387565612793,null,-18.15151023864746,-18.14727020263672,null,-6.319260120391846,-6.319265842437744,null,-7.810845851898193,-7.810848236083984,null,-8.653813362121582,-8.653786659240723,null,-10.366104125976562,-10.366117477416992,null,-16.198877334594727,-16.19894027709961,null,-15.834424018859863,-15.835138320922852,null,-15.368993759155273,-15.347940444946289,null,-6.678199768066406,-6.6347761154174805,null,-12.90516471862793,-12.905172348022461,null,-19.90913963317871,-19.909133911132812,null,-19.9025821685791,-19.902057647705078,null,15.928380966186523,15.879290580749512,null,18.205596923828125,18.205825805664062,null,15.837288856506348,15.837189674377441,null,15.62283992767334,15.622963905334473,null,14.250520706176758,14.250839233398438,null,6.5117292404174805,6.511721134185791,null,5.799528121948242,5.7995285987854,null,-6.098106384277344,-6.100137710571289,null,-6.109142780303955,-6.104205131530762,null,-6.608962059020996,-6.60879373550415,null,-8.058320999145508,-8.058489799499512,null,-12.119250297546387,-12.030085563659668,null,-12.030085563659668,-11.973957061767578,null,-20.6678466796875,-20.065580368041992,null,-20.065580368041992,-19.567052841186523,null,-19.567052841186523,-19.144609451293945,null,-19.144609451293945,-18.443958282470703,null,-18.443958282470703,-17.925275802612305,null,-17.925275802612305,-17.362716674804688,null,-17.362716674804688,-16.976516723632812,null,-16.976516723632812,-16.844898223876953,null,-16.844898223876953,-16.637365341186523,null,-16.637365341186523,-16.457717895507812,null,-16.457717895507812,-16.570005416870117,null,-16.570005416870117,-16.64580535888672,null,47.572105407714844,47.624271392822266,null,58.945735931396484,58.94544219970703,null,59.42258834838867,59.422847747802734,null,58.72856140136719,58.72859573364258,null,49.989017486572266,49.987518310546875,null,49.678829193115234,49.680824279785156,null,41.81700134277344,41.82468032836914,null,41.54848861694336,41.548545837402344,null,41.37992858886719,41.379356384277344,null,48.92947769165039,48.9361686706543,null,45.1774787902832,45.170040130615234,null,45.9713134765625,45.971397399902344,null,47.572105407714844,48.44401168823242,null,48.44401168823242,49.03519058227539,null,49.03519058227539,49.21310043334961,null,49.21310043334961,49.311424255371094,null,49.311424255371094,49.62755584716797,null,49.62755584716797,49.85707092285156,null,49.85707092285156,49.90217971801758,null,49.90217971801758,49.86559295654297,null,49.86559295654297,49.83030700683594,null,49.213706970214844,49.21613693237305,null,16.840744018554688,16.796281814575195,null,19.21038246154785,19.21038246154785,null,19.821752548217773,19.822053909301758,null,18.363801956176758,18.36372184753418,null,17.893701553344727,17.893274307250977,null,32.069522857666016,32.09282684326172,null,30.20758819580078,30.20751953125,null,29.96650505065918,29.966815948486328,null,10.395496368408203,10.388066291809082,null,9.955411911010742,10.32829475402832,null,10.32829475402832,10.597012519836426,null,10.597012519836426,10.579363822937012,null,10.579363822937012,10.539155006408691,null,10.539155006408691,10.487027168273926,null,9.646166801452637,9.628149032592773,null,-10.31751823425293,-10.32387638092041,null,-14.058043479919434,-14.057287216186523,null,20.25513458251953,20.227872848510742,null,22.60387420654297,22.605335235595703,null,6.024045944213867,6.023983955383301,null,-3.780052423477173,-3.780111789703369,null,-11.046089172363281,-11.045989990234375,null,-12.587645530700684,-12.546978950500488,null,-14.409512519836426,-14.409517288208008,null,-15.222929954528809,-15.2227201461792,null,-20.01341438293457,-20.013404846191406,null,26.395557403564453,26.38321876525879,null,29.901065826416016,29.901216506958008,null,28.50609588623047,28.50621795654297,null,23.285900115966797,23.28589630126953,null,17.382753372192383,17.418046951293945,null,-20.108633041381836,-19.94601821899414,null,-19.94601821899414,-19.826984405517578,null,-19.826984405517578,-19.70677947998047,null,-19.70677947998047,-19.70823860168457,null,-20.082841873168945,-20.06100082397461,null,-19.53052520751953,-19.501174926757812,null,-18.099090576171875,-18.095474243164062,null,-13.026230812072754,-13.000715255737305,null,-19.58891487121582,-19.54834747314453,null,-16.282817840576172,-16.161420822143555,null,-16.161420822143555,-16.164201736450195,null,-16.718833923339844,-16.718360900878906,null,-15.994160652160645,-15.994338989257812,null,-15.638413429260254,-15.669853210449219,null,-14.364713668823242,-14.18332290649414,null,-14.18332290649414,-13.94903564453125,null,-13.94903564453125,-13.942607879638672,null,-18.95069694519043,-18.910120010375977,null,49.43722152709961,49.20431900024414,null,49.20431900024414,48.63875961303711,null,48.63875961303711,48.487186431884766,null,48.487186431884766,46.93193817138672,null,46.93193817138672,46.50646209716797,null,46.50646209716797,45.582393646240234,null,45.582393646240234,43.47720718383789,null,43.47720718383789,41.9940299987793,null,27.344058990478516,27.335771560668945,null,27.34921646118164,27.349674224853516,null,28.05620574951172,28.056385040283203,null,23.0422420501709,23.02252197265625,null,24.370386123657227,24.37041664123535,null,26.033916473388672,26.03388786315918,null,26.176006317138672,26.175792694091797,null,26.96497917175293,26.967191696166992,null,26.711923599243164,26.709177017211914,null,39.037376403808594,38.988182067871094,null,45.82927322387695,45.83742141723633,null,35.3695182800293,35.369384765625,null,24.693645477294922,24.69355010986328,null,22.513193130493164,22.468793869018555,null,22.468793869018555,22.486114501953125,null,43.60783386230469,43.603919982910156,null,43.63074493408203,43.63084411621094,null,42.41996765136719,42.419193267822266,null,43.08442306518555,43.08448028564453,null,42.84274673461914,42.84274673461914,null,41.9940299987793,41.96422576904297,null,41.96422576904297,42.12643051147461,null,42.12643051147461,42.25698471069336,null,42.25698471069336,42.20402145385742,null,42.20402145385742,42.200775146484375,null,43.47720718383789,43.430938720703125,null,45.582393646240234,45.60544204711914,null,45.60544204711914,45.637001037597656,null,46.50646209716797,46.54988098144531,null,46.93193817138672,46.942100524902344,null,48.487186431884766,48.434608459472656,null,48.63875961303711,48.60554122924805,null,49.20431900024414,49.2131233215332,null,-3.643015146255493,-3.643015146255493,null,26.12809181213379,26.13091278076172,null,99.90038299560547,99.88536834716797,null,1.7789621353149414,1.7799674272537231,null,-18.230878829956055,-18.230876922607422,null,-13.227364540100098,-13.227494239807129,null,-12.994104385375977,-12.994105339050293,null,-9.839533805847168,-9.8283052444458,null,-10.302355766296387,-10.302596092224121,null,-10.420964241027832,-10.421513557434082,null,47.617733001708984,47.61872100830078,null,47.5175666809082,47.51692581176758,null,52.04090118408203,52.04111862182617,null,52.236793518066406,52.23908996582031,null,48.96269989013672,48.962730407714844,null,47.04201126098633,47.0420036315918,null,-10.16532039642334,-10.153093338012695,null,-11.79513168334961,-11.795130729675293,null,0.9977790713310242,1.2840152978897095,null,1.2840152978897095,1.7045037746429443,null,1.7045037746429443,1.7794642448425293,null,1.7794642448425293,1.815375804901123,null,1.815375804901123,1.8309394121170044,null,1.8309394121170044,1.8936858177185059,null,1.8936858177185059,2.0130302906036377,null,2.0130302906036377,2.0286865234375,null,2.0286865234375,2.0785012245178223,null,2.0785012245178223,2.27254581451416,null,2.27254581451416,2.337960720062256,null,2.337960720062256,2.3616058826446533,null,2.3616058826446533,2.4112186431884766,null,2.4112186431884766,2.9451797008514404,null,2.9451797008514404,3.6081690788269043,null,3.6081690788269043,3.788440465927124,null,3.788440465927124,3.9103517532348633,null,3.9103517532348633,3.970348596572876,null,3.970348596572876,4.162937641143799,null,4.162937641143799,4.381123065948486,null,4.381123065948486,4.745415687561035,null,4.745415687561035,4.831598281860352,null,4.831598281860352,4.937102794647217,null,4.937102794647217,4.997231960296631,null,5.1597208976745605,5.252777099609375,null,5.252777099609375,5.385806560516357,null,5.385806560516357,5.7929229736328125,null,5.7929229736328125,5.7967071533203125,null,5.7967071533203125,5.84600830078125,null,5.84600830078125,5.932253837585449,null,5.932253837585449,5.960118770599365,null,5.960118770599365,5.965870380401611,null,5.965870380401611,5.995057582855225,null,5.995057582855225,6.05439567565918,null,6.05439567565918,6.099391460418701,null,6.099391460418701,6.1527886390686035,null,6.1527886390686035,6.180682182312012,null,6.180682182312012,6.22625207901001,null,6.22625207901001,6.240499973297119,null,6.240499973297119,6.424980163574219,null,6.225274562835693,5.431126117706299,null,5.431126117706299,5.431109428405762,null,5.431109428405762,5.042060375213623,null,5.042060375213623,5.128471851348877,null,5.128471851348877,5.382123947143555,null,5.382123947143555,5.8018317222595215,null,5.8018317222595215,5.855163097381592,null,0.35845497250556946,0.30885279178619385,null,8.952641487121582,8.952757835388184,null,5.042060375213623,5.026303291320801,null,5.431109428405762,5.459533214569092,null,5.464194297790527,5.464138507843018,null,4.019500732421875,4.025888919830322,null,1.5821506977081299,1.580782175064087,null,5.397270679473877,5.399965763092041,null,4.293168544769287,4.273738384246826,null,5.540149688720703,5.519712448120117,null,5.750757217407227,5.750930309295654,null,1.7418068647384644,1.7886427640914917,null,-0.6313586235046387,-0.6320343017578125,null,4.016796588897705,4.016794204711914,null,6.240499973297119,6.281588077545166,null,6.311203956604004,6.331928730010986,null,6.22625207901001,6.383055686950684,null,6.383055686950684,6.70343017578125,null,6.70343017578125,7.058629512786865,null,7.058629512786865,7.147270202636719,null,7.147270202636719,7.452376365661621,null,7.452376365661621,7.574782848358154,null,7.574782848358154,7.579958915710449,null,7.579958915710449,7.603473663330078,null,7.603473663330078,7.6055474281311035,null,7.147270202636719,7.19520902633667,null,7.19520902633667,7.24677038192749,null,6.180682182312012,6.076908588409424,null,6.076908588409424,6.0567240715026855,null,6.0567240715026855,6.059558868408203,null,6.1527886390686035,6.221375942230225,null,6.099391460418701,6.035233020782471,null,6.05439567565918,6.0318217277526855,null,5.995057582855225,5.993955135345459,null,5.965870380401611,5.973319053649902,null,8.883501052856445,8.89975357055664,null,10.584556579589844,10.5987548828125,null,10.442914009094238,10.442914962768555,null,5.960118770599365,5.921209812164307,null,5.921209812164307,5.921680927276611,null,5.965651988983154,6.001428127288818,null,5.932253837585449,5.933300971984863,null,5.84600830078125,5.846516132354736,null,5.7967071533203125,5.7842864990234375,null,5.793659210205078,5.744321346282959,null,5.744321346282959,5.78621768951416,null,5.7929229736328125,5.828418254852295,null,5.385806560516357,5.413695812225342,null,5.252777099609375,5.356350421905518,null,5.356350421905518,5.297397613525391,null,5.297397613525391,5.303545951843262,null,5.303545951843262,5.3137006759643555,null,5.3137006759643555,5.260709762573242,null,5.260709762573242,5.268623352050781,null,4.240335941314697,4.240192413330078,null,5.303545951843262,5.327659606933594,null,4.937102794647217,4.947390556335449,null,4.831598281860352,4.802690029144287,null,4.745415687561035,4.919010162353516,null,4.919010162353516,4.934258937835693,null,4.934258937835693,4.8206257820129395,null,4.8206257820129395,4.800048351287842,null,4.800048351287842,4.7967729568481445,null,4.381123065948486,4.474812984466553,null,4.474812984466553,4.455307483673096,null,4.162937641143799,4.26172399520874,null,4.26172399520874,4.221922874450684,null,4.221922874450684,4.217006683349609,null,3.970348596572876,4.037696361541748,null,4.037696361541748,4.472255229949951,null,4.472255229949951,4.6940693855285645,null,4.6940693855285645,4.9594855308532715,null,4.9594855308532715,5.214542388916016,null,5.214542388916016,5.4807891845703125,null,5.4807891845703125,5.670647621154785,null,5.670647621154785,5.665607452392578,null,5.665607452392578,5.729142665863037,null,5.729142665863037,5.829031944274902,null,5.829031944274902,5.819798469543457,null,5.819798469543457,5.763741493225098,null,5.665607452392578,5.675543785095215,null,5.665080547332764,5.720860004425049,null,15.532881736755371,15.563035011291504,null,15.292454719543457,15.292460441589355,null,8.553374290466309,8.553426742553711,null,8.041803359985352,8.041746139526367,null,6.95851469039917,6.9586076736450195,null,11.465054512023926,11.418192863464355,null,14.57923698425293,14.60193920135498,null,12.956870079040527,12.95474910736084,null,13.125981330871582,13.156639099121094,null,8.33627700805664,8.337672233581543,null,7.286790370941162,7.286781311035156,null,7.234157562255859,7.233829021453857,null,6.364527225494385,6.373414039611816,null,6.227232933044434,6.227232933044434,null,5.874754905700684,5.874762058258057,null,5.369643688201904,5.369714260101318,null,3.528341054916382,3.5281941890716553,null,3.2166764736175537,3.2166454792022705,null,3.2562055587768555,3.2561824321746826,null,4.93904972076416,4.940989971160889,null,3.9103517532348633,3.8942997455596924,null,3.788440465927124,3.680997848510742,null,3.680997848510742,3.6837141513824463,null,3.6081690788269043,3.610948324203491,null,2.9451797008514404,2.9843640327453613,null,2.4112186431884766,2.242182493209839,null,2.242182493209839,2.2359132766723633,null,2.2359132766723633,2.23563289642334,null,2.23563289642334,2.1911075115203857,null,2.1911075115203857,2.227142333984375,null,2.227142333984375,2.2057301998138428,null,2.2057301998138428,2.2339930534362793,null,2.2339930534362793,2.2658374309539795,null,8.854279518127441,8.893016815185547,null,6.472499847412109,6.472500801086426,null,2.3623886108398438,2.362326145172119,null,2.2192978858947754,2.219289779663086,null,2.3616058826446533,2.30816650390625,null,2.337960720062256,2.3490538597106934,null,2.27254581451416,2.259162187576294,null,2.0785012245178223,2.0216224193573,null,2.0216224193573,1.9958970546722412,null,2.0286865234375,1.9996109008789062,null,2.0130302906036377,2.0215413570404053,null,1.8936858177185059,1.8907407522201538,null,1.8309394121170044,1.7544920444488525,null,1.7544920444488525,1.712839126586914,null,1.712839126586914,1.558854579925537,null,1.558854579925537,1.6397327184677124,null,1.6397327184677124,1.5404653549194336,null,1.5404653549194336,1.5440266132354736,null,-2.5270252227783203,-2.5595574378967285,null,1.7503595352172852,1.7338290214538574,null,1.815375804901123,1.9064581394195557,null,1.7794642448425293,2.038954973220825,null,2.038954973220825,2.0782275199890137,null,2.0782275199890137,2.22001051902771,null,2.22001051902771,2.4618115425109863,null,2.4618115425109863,2.325997829437256,null,2.325997829437256,2.293213129043579,null,2.293213129043579,2.274174213409424,null,2.3165345191955566,2.284451961517334,null,2.0782275199890137,2.0686898231506348,null,2.0686898231506348,2.1261680126190186,null,2.1261680126190186,2.0836124420166016,null,1.7045037746429443,1.7242889404296875,null,1.2840152978897095,1.3064453601837158,null],\"z\":[21.81914710998535,21.813962936401367,null,39.90927505493164,39.90916061401367,null,40.86578369140625,40.86580276489258,null,-56.425968170166016,-56.424137115478516,null,-15.20824146270752,-15.189384460449219,null,-11.993132591247559,-11.989889144897461,null,-52.768516540527344,-52.7573127746582,null,-54.89900207519531,-54.899085998535156,null,-53.89183807373047,-53.89179992675781,null,-54.35872268676758,-54.35871124267578,null,-56.059974670410156,-56.06000900268555,null,-57.66183090209961,-57.66183853149414,null,-57.64836883544922,-57.64822006225586,null,-57.904903411865234,-57.90501022338867,null,-58.22990036010742,-58.22990036010742,null,-58.37826919555664,-58.37807846069336,null,-63.71345138549805,-63.720088958740234,null,-35.666046142578125,-35.66604232788086,null,-35.0079460144043,-35.00792694091797,null,-35.16911315917969,-35.16911315917969,null,-37.66450881958008,-37.66464614868164,null,-37.078792572021484,-37.07881546020508,null,-34.50667953491211,-34.506561279296875,null,-45.41366195678711,-45.44011306762695,null,-40.1745491027832,-40.133995056152344,null,-44.842620849609375,-44.85565185546875,null,-49.89069747924805,-49.89863586425781,null,-51.07137680053711,-51.07633590698242,null,-62.593116760253906,-62.54487991333008,null,-62.6134033203125,-62.61815643310547,null,-46.267459869384766,-46.25578308105469,null,-47.742958068847656,-47.743980407714844,null,-46.30755615234375,-46.30685806274414,null,-45.04795837402344,-45.05080032348633,null,-35.045406341552734,-34.79555892944336,null,-34.79555892944336,-34.69795227050781,null,-34.69795227050781,-34.7186393737793,null,-34.7186393737793,-34.717594146728516,null,-34.717594146728516,-34.707794189453125,null,-57.021820068359375,-57.030696868896484,null,-50.18444061279297,-50.452362060546875,null,-50.452362060546875,-50.60050964355469,null,-50.60050964355469,-50.63621139526367,null,-50.63621139526367,-50.59504699707031,null,-50.59504699707031,-50.61558151245117,null,-50.61558151245117,-50.56467819213867,null,-37.4708137512207,-37.428138732910156,null,-43.65025329589844,-43.650272369384766,null,-51.512367248535156,-51.51237106323242,null,-35.20634460449219,-35.20512771606445,null,-35.30929183959961,-35.30928421020508,null,-39.22611618041992,-39.22616958618164,null,-39.24225997924805,-39.24214553833008,null,-59.97611618041992,-59.935829162597656,null,-56.1743278503418,-56.17154312133789,null,-60.12553787231445,-60.16204833984375,null,-53.93697738647461,-53.93697738647461,null,-60.393646240234375,-60.39362716674805,null,-56.397403717041016,-56.39740753173828,null,-13.261465072631836,-13.211956977844238,null,-60.00584030151367,-59.99587631225586,null,-61.29878234863281,-61.298770904541016,null,-62.15917205810547,-62.15922546386719,null,-61.47395324707031,-61.47409439086914,null,-57.12416458129883,-57.12419509887695,null,-49.21234130859375,-49.211456298828125,null,-49.264556884765625,-49.264339447021484,null,-63.833702087402344,-63.833595275878906,null,-53.20048904418945,-53.20050811767578,null,-38.96164321899414,-38.96731948852539,null,-38.87871551513672,-38.87886047363281,null,-38.16771697998047,-38.16777420043945,null,-34.24002456665039,-34.24031066894531,null,-31.24049186706543,-31.24039077758789,null,-23.87317657470703,-23.798641204833984,null,-23.798641204833984,-23.75741195678711,null,-21.87764549255371,-21.8948917388916,null,-21.819053649902344,-21.818866729736328,null,-24.241653442382812,-24.242685317993164,null,-23.295059204101562,-23.29483413696289,null,-23.705564498901367,-23.705570220947266,null,-38.161861419677734,-38.09433364868164,null,-8.696454048156738,-8.670095443725586,null,-8.815529823303223,-8.815784454345703,null,-32.70719528198242,-32.82868576049805,null,-32.82868576049805,-32.9317741394043,null,-32.9317741394043,-32.98719787597656,null,-32.98719787597656,-32.911781311035156,null,-32.37612533569336,-32.417415618896484,null,-32.417415618896484,-32.46882629394531,null,-32.46882629394531,-32.41025161743164,null,-17.076047897338867,-17.076129913330078,null,-16.693161010742188,-16.693317413330078,null,-12.150641441345215,-12.204946517944336,null,-12.204946517944336,-12.169407844543457,null,-18.880970001220703,-18.849014282226562,null,-26.189834594726562,-26.191144943237305,null,-15.872871398925781,-15.861205101013184,null,-14.752057075500488,-14.428635597229004,null,-14.428635597229004,-14.233211517333984,null,-14.233211517333984,-13.940982818603516,null,-13.940982818603516,-13.767215728759766,null,-13.767215728759766,-13.799338340759277,null,-13.799338340759277,-13.851649284362793,null,-13.851649284362793,-13.73478889465332,null,-13.73478889465332,-13.714862823486328,null,-18.3980712890625,-18.398019790649414,null,-17.222562789916992,-17.222562789916992,null,5.748027801513672,5.748549938201904,null,-5.583188056945801,-5.583240032196045,null,-6.341063976287842,-6.341148853302002,null,-5.5379486083984375,-5.535233020782471,null,-7.513801574707031,-7.509984016418457,null,-13.343384742736816,-13.343442916870117,null,-13.784527778625488,-13.784085273742676,null,-14.752057075500488,-14.757637977600098,null,-14.757637977600098,-14.717596054077148,null,-14.717596054077148,-14.797550201416016,null,-14.797550201416016,-14.802687644958496,null,-14.744319915771484,-14.747282028198242,null,-5.450430393218994,-5.450439929962158,null,-6.325584411621094,-6.325624465942383,null,-5.249974250793457,-5.249914646148682,null,-5.928833484649658,-5.928807258605957,null,-16.716176986694336,-16.716215133666992,null,-19.748149871826172,-19.748319625854492,null,-19.99822998046875,-20.0080509185791,null,-22.022274017333984,-22.02340316772461,null,-22.756389617919922,-22.756404876708984,null,-16.79454231262207,-16.79452896118164,null,-17.25019645690918,-17.250091552734375,null,-18.686616897583008,-18.693954467773438,null,-18.34623146057129,-18.34627914428711,null,-17.120441436767578,-17.120271682739258,null,-17.673137664794922,-17.673847198486328,null,-14.241926193237305,-14.241597175598145,null,-13.8368501663208,-13.836885452270508,null,-13.505179405212402,-13.505175590515137,null,-10.675076484680176,-10.677765846252441,null,-10.352789878845215,-10.349796295166016,null,-10.266327857971191,-10.266396522521973,null,-9.94243049621582,-9.942138671875,null,-9.838828086853027,-9.737103462219238,null,-9.737103462219238,-9.76198673248291,null,-18.070026397705078,-17.986238479614258,null,-17.986238479614258,-17.931528091430664,null,-17.931528091430664,-17.917177200317383,null,-17.917177200317383,-17.79319190979004,null,-17.79319190979004,-17.79315948486328,null,-17.79315948486328,-17.81057357788086,null,-17.81057357788086,-17.843265533447266,null,-17.843265533447266,-18.015655517578125,null,-18.015655517578125,-18.08961296081543,null,-18.08961296081543,-18.041349411010742,null,-18.041349411010742,-17.996793746948242,null,-17.996793746948242,-18.039134979248047,null,-18.769039154052734,-18.799053192138672,null,-5.158726692199707,-5.15756368637085,null,-7.385666847229004,-7.3861236572265625,null,-7.78843879699707,-7.788444519042969,null,-8.43547248840332,-8.430644989013672,null,-12.943441390991211,-12.94385051727295,null,-27.030954360961914,-27.00878143310547,null,-27.80608558654785,-27.80632781982422,null,-27.46179962158203,-27.461381912231445,null,-28.118385314941406,-28.12206268310547,null,-25.46320915222168,-25.467500686645508,null,-23.51008415222168,-23.509944915771484,null,-18.769039154052734,-18.55657958984375,null,-18.55657958984375,-18.358854293823242,null,-18.358854293823242,-18.315227508544922,null,-18.315227508544922,-17.982770919799805,null,-17.982770919799805,-18.04471206665039,null,-18.04471206665039,-17.98032569885254,null,-17.98032569885254,-17.817764282226562,null,-17.817764282226562,-17.72701644897461,null,-17.72701644897461,-17.76287078857422,null,-18.310626983642578,-18.29222869873047,null,-45.3145866394043,-45.29681396484375,null,-46.261962890625,-46.26198196411133,null,-45.988861083984375,-45.988433837890625,null,-51.196285247802734,-51.199527740478516,null,-47.48245620727539,-47.482418060302734,null,-29.8406925201416,-29.84127426147461,null,-29.06376075744629,-29.063875198364258,null,-28.891857147216797,-28.892032623291016,null,-15.378911018371582,-15.391207695007324,null,-14.559865951538086,-14.448225975036621,null,-14.448225975036621,-14.573556900024414,null,-14.573556900024414,-14.779252052307129,null,-14.779252052307129,-14.738885879516602,null,-14.738885879516602,-14.708037376403809,null,-14.080729484558105,-14.067242622375488,null,7.392762660980225,7.4394917488098145,null,-16.387067794799805,-16.387624740600586,null,-22.219058990478516,-22.256057739257812,null,-19.03170394897461,-19.031286239624023,null,-16.8826847076416,-16.882844924926758,null,-11.918232917785645,-11.917895317077637,null,-16.172300338745117,-16.172330856323242,null,-12.819231033325195,-12.81783676147461,null,-12.881694793701172,-12.881705284118652,null,-12.426767349243164,-12.425437927246094,null,-17.808744430541992,-17.808835983276367,null,6.662067890167236,6.644820213317871,null,11.562430381774902,11.56279468536377,null,7.302229881286621,7.302152633666992,null,3.131291389465332,3.1312899589538574,null,12.36438274383545,12.436627388000488,null,-18.449121475219727,-18.570768356323242,null,-18.570768356323242,-18.69023323059082,null,-18.69023323059082,-18.661279678344727,null,-18.661279678344727,-18.68296241760254,null,-18.12157440185547,-18.176773071289062,null,-17.914396286010742,-17.909448623657227,null,9.223345756530762,9.273180961608887,null,-3.109692335128784,-3.082651138305664,null,-18.352991104125977,-18.34933090209961,null,12.77920913696289,12.892370223999023,null,12.892370223999023,12.881141662597656,null,-12.749018669128418,-12.749402046203613,null,-10.607181549072266,-10.608057975769043,null,-9.272294998168945,-9.250213623046875,null,-10.118986129760742,-9.987826347351074,null,-9.987826347351074,-9.948511123657227,null,-9.948511123657227,-9.921855926513672,null,-3.131943702697754,-3.1034646034240723,null,4.212988376617432,4.18073034286499,null,4.18073034286499,4.104264736175537,null,4.104264736175537,4.082821369171143,null,4.082821369171143,3.8622055053710938,null,3.8622055053710938,3.791818618774414,null,3.791818618774414,3.638470411300659,null,3.638470411300659,3.3156838417053223,null,3.3156838417053223,3.066509485244751,null,3.838428497314453,3.8432583808898926,null,3.872126340866089,3.872192144393921,null,3.423367738723755,3.423485517501831,null,3.6258206367492676,3.587460994720459,null,6.209336757659912,6.209406852722168,null,8.774938583374023,8.775505065917969,null,7.914065837860107,7.9138641357421875,null,7.635012149810791,7.637235164642334,null,6.804718494415283,6.8023176193237305,null,32.2311897277832,32.23750305175781,null,31.359209060668945,31.360036849975586,null,28.646196365356445,28.646488189697266,null,15.59270191192627,15.592879295349121,null,9.140098571777344,9.175116539001465,null,9.175116539001465,9.131830215454102,null,-5.354086399078369,-5.38602352142334,null,-5.167278289794922,-5.16702938079834,null,-7.391573429107666,-7.393253326416016,null,-5.783405780792236,-5.783410549163818,null,-4.366430759429932,-4.36643123626709,null,3.066509485244751,3.1924378871917725,null,3.1924378871917725,3.421246290206909,null,3.421246290206909,3.5655088424682617,null,3.5655088424682617,3.608125686645508,null,3.608125686645508,3.605381727218628,null,3.3156838417053223,2.9550580978393555,null,3.638470411300659,3.565293073654175,null,3.565293073654175,3.567244052886963,null,3.791818618774414,3.840996742248535,null,3.8622055053710938,3.8900299072265625,null,4.082821369171143,4.064838886260986,null,4.104264736175537,4.101688385009766,null,4.18073034286499,4.138633728027344,null,-16.575105667114258,-16.575105667114258,null,11.853559494018555,11.86851978302002,null,-39.22808074951172,-39.24275588989258,null,54.98857498168945,54.987552642822266,null,27.69843101501465,27.698427200317383,null,34.23550033569336,34.23575210571289,null,34.2348518371582,34.23372268676758,null,36.89591979980469,36.88848876953125,null,37.676544189453125,37.6764030456543,null,38.18755340576172,38.18743133544922,null,62.279232025146484,62.32384490966797,null,57.75917053222656,57.75857925415039,null,57.97216033935547,57.97223663330078,null,57.764434814453125,57.76227951049805,null,60.77181625366211,60.77178955078125,null,62.526065826416016,62.52607345581055,null,52.400325775146484,52.35186004638672,null,58.860687255859375,58.86069107055664,null,-45.65932083129883,-46.364768981933594,null,-46.364768981933594,-47.36469650268555,null,-47.36469650268555,-47.55542755126953,null,-47.55542755126953,-47.64645767211914,null,-47.64645767211914,-47.685420989990234,null,-47.685420989990234,-47.83961486816406,null,-47.83961486816406,-48.13754653930664,null,-48.13754653930664,-48.18062973022461,null,-48.18062973022461,-48.31645584106445,null,-48.31645584106445,-48.81902313232422,null,-48.81902313232422,-48.97261047363281,null,-48.97261047363281,-49.029293060302734,null,-49.029293060302734,-49.14657974243164,null,-49.14657974243164,-50.39114761352539,null,-50.39114761352539,-52.11810302734375,null,-52.11810302734375,-52.54339599609375,null,-52.54339599609375,-52.810791015625,null,-52.810791015625,-52.940738677978516,null,-52.940738677978516,-53.42215347290039,null,-53.42215347290039,-53.90680694580078,null,-53.90680694580078,-54.85565185546875,null,-54.85565185546875,-55.1639289855957,null,-55.1639289855957,-55.55450439453125,null,-55.55450439453125,-55.77262878417969,null,-56.424339294433594,-56.784915924072266,null,-56.784915924072266,-57.31782150268555,null,-57.31782150268555,-59.24364471435547,null,-59.24364471435547,-59.27787780761719,null,-59.27787780761719,-59.713382720947266,null,-59.713382720947266,-60.31230926513672,null,-60.31230926513672,-60.493927001953125,null,-60.493927001953125,-60.53152084350586,null,-60.53152084350586,-60.717063903808594,null,-60.717063903808594,-61.0847282409668,null,-61.0847282409668,-61.380165100097656,null,-61.380165100097656,-61.77337646484375,null,-61.77337646484375,-62.023502349853516,null,-62.023502349853516,-62.4908561706543,null,-62.4908561706543,-62.59858703613281,null,-62.59858703613281,-63.99453353881836,null,-64.05660247802734,-63.4483528137207,null,-63.4483528137207,-63.448307037353516,null,-63.448307037353516,-63.094017028808594,null,-63.094017028808594,-62.98406982421875,null,-62.98406982421875,-63.44127655029297,null,-63.44127655029297,-63.78225326538086,null,-63.78225326538086,-63.983924865722656,null,-63.031333923339844,-63.02687454223633,null,-63.80427932739258,-63.804195404052734,null,-63.094017028808594,-63.14915466308594,null,-63.448307037353516,-63.43330001831055,null,-63.353118896484375,-63.35301208496094,null,-59.15784454345703,-59.1822624206543,null,-49.840824127197266,-49.83928298950195,null,-52.44173812866211,-52.43837356567383,null,-60.135231018066406,-60.1308479309082,null,-63.33823013305664,-63.29261779785156,null,-63.8082389831543,-63.808414459228516,null,-63.13103485107422,-63.14320755004883,null,-62.51432418823242,-62.51421356201172,null,-62.84885025024414,-62.848846435546875,null,-62.59858703613281,-62.58467483520508,null,-62.65043258666992,-62.69456481933594,null,-62.4908561706543,-62.519874572753906,null,-62.519874572753906,-62.87489318847656,null,-62.87489318847656,-63.196617126464844,null,-63.196617126464844,-63.24241638183594,null,-63.24241638183594,-63.284244537353516,null,-63.284244537353516,-63.41853332519531,null,-63.41853332519531,-63.416500091552734,null,-63.416500091552734,-63.50108337402344,null,-63.50108337402344,-63.50017166137695,null,-63.24241638183594,-63.31932067871094,null,-63.31932067871094,-63.303043365478516,null,-62.023502349853516,-61.997493743896484,null,-61.997493743896484,-61.834686279296875,null,-61.834686279296875,-61.850135803222656,null,-61.77337646484375,-61.76957321166992,null,-61.380165100097656,-61.34164047241211,null,-61.0847282409668,-61.10740280151367,null,-60.717063903808594,-60.68865203857422,null,-60.53152084350586,-60.58029556274414,null,-60.066532135009766,-60.023643493652344,null,-55.67029571533203,-55.65803527832031,null,-55.79261779785156,-55.792606353759766,null,-60.493927001953125,-60.411258697509766,null,-60.411258697509766,-60.502052307128906,null,-60.43958282470703,-60.43522644042969,null,-60.31230926513672,-60.28837966918945,null,-59.713382720947266,-59.74442672729492,null,-59.27787780761719,-59.24667739868164,null,-59.25031280517578,-59.27768325805664,null,-59.27768325805664,-59.308773040771484,null,-59.24364471435547,-59.263031005859375,null,-57.31782150268555,-57.326202392578125,null,-56.784915924072266,-57.09335708618164,null,-57.09335708618164,-57.28440856933594,null,-57.28440856933594,-57.30135726928711,null,-57.30135726928711,-57.45777893066406,null,-57.45777893066406,-57.72061538696289,null,-57.72061538696289,-57.741424560546875,null,-63.706329345703125,-63.70643997192383,null,-57.30135726928711,-57.319705963134766,null,-55.55450439453125,-55.58268356323242,null,-55.1639289855957,-55.23817825317383,null,-54.85565185546875,-54.854942321777344,null,-54.854942321777344,-55.08049774169922,null,-55.08049774169922,-55.04301834106445,null,-55.04301834106445,-55.15347671508789,null,-55.15347671508789,-55.1285514831543,null,-53.90680694580078,-53.989715576171875,null,-53.989715576171875,-54.049705505371094,null,-53.42215347290039,-53.47712326049805,null,-53.47712326049805,-53.5987434387207,null,-53.5987434387207,-53.598819732666016,null,-52.940738677978516,-52.9437255859375,null,-52.9437255859375,-52.8856201171875,null,-52.8856201171875,-52.92264938354492,null,-52.92264938354492,-52.7835807800293,null,-52.7835807800293,-52.67271423339844,null,-52.67271423339844,-52.36760330200195,null,-52.36760330200195,-51.95633316040039,null,-51.95633316040039,-52.02240753173828,null,-52.02240753173828,-52.24646759033203,null,-52.24646759033203,-52.25790023803711,null,-52.25790023803711,-52.342529296875,null,-52.342529296875,-52.319252014160156,null,-52.02240753173828,-52.01838302612305,null,-52.021278381347656,-52.03986740112305,null,-46.04756546020508,-46.086856842041016,null,-45.73426818847656,-45.73415756225586,null,-51.28919219970703,-51.28927230834961,null,-51.145023345947266,-51.14502716064453,null,-50.58979415893555,-50.58867263793945,null,-47.87423324584961,-47.876617431640625,null,-47.71570587158203,-47.712890625,null,-47.95777130126953,-47.95189666748047,null,-48.810123443603516,-48.79494094848633,null,-51.1820182800293,-51.182247161865234,null,-51.3979606628418,-51.396514892578125,null,-51.46964645385742,-51.4716796875,null,-50.460208892822266,-50.49519729614258,null,-49.9196662902832,-49.9196662902832,null,-47.98164749145508,-47.98163604736328,null,-47.38724136352539,-47.38719177246094,null,-47.33588409423828,-47.33575439453125,null,-48.323631286621094,-48.32358169555664,null,-48.62527084350586,-48.62527847290039,null,-53.077171325683594,-53.079368591308594,null,-52.810791015625,-52.77737045288086,null,-52.54339599609375,-52.605350494384766,null,-52.605350494384766,-52.64510726928711,null,-52.11810302734375,-52.152313232421875,null,-50.39114761352539,-50.38266372680664,null,-49.14657974243164,-49.40360641479492,null,-49.40360641479492,-49.108402252197266,null,-49.108402252197266,-49.01261901855469,null,-49.01261901855469,-48.695674896240234,null,-48.695674896240234,-48.6024169921875,null,-48.6024169921875,-48.5984001159668,null,-48.5984001159668,-48.71128463745117,null,-48.71128463745117,-48.72553634643555,null,-48.19104766845703,-48.187625885009766,null,-48.40127182006836,-48.40127182006836,null,-47.63777542114258,-47.637664794921875,null,-48.61610794067383,-48.6161003112793,null,-49.029293060302734,-49.0526237487793,null,-48.97261047363281,-49.044429779052734,null,-48.81902313232422,-48.79596710205078,null,-48.31645584106445,-48.28055953979492,null,-48.28055953979492,-48.26220703125,null,-48.18062973022461,-48.211360931396484,null,-48.13754653930664,-48.066593170166016,null,-47.83961486816406,-47.81330490112305,null,-47.685420989990234,-47.86930847167969,null,-47.86930847167969,-47.90060806274414,null,-47.90060806274414,-48.0723991394043,null,-48.0723991394043,-48.110206604003906,null,-48.110206604003906,-48.16619110107422,null,-48.16619110107422,-48.23309326171875,null,-51.7690315246582,-51.79871368408203,null,-47.87131118774414,-47.879329681396484,null,-47.64645767211914,-47.61268615722656,null,-47.55542755126953,-47.899295806884766,null,-47.899295806884766,-47.82670974731445,null,-47.82670974731445,-47.69789123535156,null,-47.69789123535156,-47.624290466308594,null,-47.624290466308594,-47.426265716552734,null,-47.426265716552734,-47.26701354980469,null,-47.26701354980469,-47.22200012207031,null,-47.409698486328125,-47.39491653442383,null,-47.82670974731445,-47.67019271850586,null,-47.67019271850586,-47.623233795166016,null,-47.623233795166016,-47.603614807128906,null,-47.36469650268555,-47.33293533325195,null,-46.364768981933594,-46.336360931396484,null],\"type\":\"scatter3d\"}],                        {\"template\":{\"data\":{\"histogram2dcontour\":[{\"type\":\"histogram2dcontour\",\"colorbar\":{\"outlinewidth\":0,\"ticks\":\"\"},\"colorscale\":[[0.0,\"#0d0887\"],[0.1111111111111111,\"#46039f\"],[0.2222222222222222,\"#7201a8\"],[0.3333333333333333,\"#9c179e\"],[0.4444444444444444,\"#bd3786\"],[0.5555555555555556,\"#d8576b\"],[0.6666666666666666,\"#ed7953\"],[0.7777777777777778,\"#fb9f3a\"],[0.8888888888888888,\"#fdca26\"],[1.0,\"#f0f921\"]]}],\"choropleth\":[{\"type\":\"choropleth\",\"colorbar\":{\"outlinewidth\":0,\"ticks\":\"\"}}],\"histogram2d\":[{\"type\":\"histogram2d\",\"colorbar\":{\"outlinewidth\":0,\"ticks\":\"\"},\"colorscale\":[[0.0,\"#0d0887\"],[0.1111111111111111,\"#46039f\"],[0.2222222222222222,\"#7201a8\"],[0.3333333333333333,\"#9c179e\"],[0.4444444444444444,\"#bd3786\"],[0.5555555555555556,\"#d8576b\"],[0.6666666666666666,\"#ed7953\"],[0.7777777777777778,\"#fb9f3a\"],[0.8888888888888888,\"#fdca26\"],[1.0,\"#f0f921\"]]}],\"heatmap\":[{\"type\":\"heatmap\",\"colorbar\":{\"outlinewidth\":0,\"ticks\":\"\"},\"colorscale\":[[0.0,\"#0d0887\"],[0.1111111111111111,\"#46039f\"],[0.2222222222222222,\"#7201a8\"],[0.3333333333333333,\"#9c179e\"],[0.4444444444444444,\"#bd3786\"],[0.5555555555555556,\"#d8576b\"],[0.6666666666666666,\"#ed7953\"],[0.7777777777777778,\"#fb9f3a\"],[0.8888888888888888,\"#fdca26\"],[1.0,\"#f0f921\"]]}],\"heatmapgl\":[{\"type\":\"heatmapgl\",\"colorbar\":{\"outlinewidth\":0,\"ticks\":\"\"},\"colorscale\":[[0.0,\"#0d0887\"],[0.1111111111111111,\"#46039f\"],[0.2222222222222222,\"#7201a8\"],[0.3333333333333333,\"#9c179e\"],[0.4444444444444444,\"#bd3786\"],[0.5555555555555556,\"#d8576b\"],[0.6666666666666666,\"#ed7953\"],[0.7777777777777778,\"#fb9f3a\"],[0.8888888888888888,\"#fdca26\"],[1.0,\"#f0f921\"]]}],\"contourcarpet\":[{\"type\":\"contourcarpet\",\"colorbar\":{\"outlinewidth\":0,\"ticks\":\"\"}}],\"contour\":[{\"type\":\"contour\",\"colorbar\":{\"outlinewidth\":0,\"ticks\":\"\"},\"colorscale\":[[0.0,\"#0d0887\"],[0.1111111111111111,\"#46039f\"],[0.2222222222222222,\"#7201a8\"],[0.3333333333333333,\"#9c179e\"],[0.4444444444444444,\"#bd3786\"],[0.5555555555555556,\"#d8576b\"],[0.6666666666666666,\"#ed7953\"],[0.7777777777777778,\"#fb9f3a\"],[0.8888888888888888,\"#fdca26\"],[1.0,\"#f0f921\"]]}],\"surface\":[{\"type\":\"surface\",\"colorbar\":{\"outlinewidth\":0,\"ticks\":\"\"},\"colorscale\":[[0.0,\"#0d0887\"],[0.1111111111111111,\"#46039f\"],[0.2222222222222222,\"#7201a8\"],[0.3333333333333333,\"#9c179e\"],[0.4444444444444444,\"#bd3786\"],[0.5555555555555556,\"#d8576b\"],[0.6666666666666666,\"#ed7953\"],[0.7777777777777778,\"#fb9f3a\"],[0.8888888888888888,\"#fdca26\"],[1.0,\"#f0f921\"]]}],\"mesh3d\":[{\"type\":\"mesh3d\",\"colorbar\":{\"outlinewidth\":0,\"ticks\":\"\"}}],\"scatter\":[{\"fillpattern\":{\"fillmode\":\"overlay\",\"size\":10,\"solidity\":0.2},\"type\":\"scatter\"}],\"parcoords\":[{\"type\":\"parcoords\",\"line\":{\"colorbar\":{\"outlinewidth\":0,\"ticks\":\"\"}}}],\"scatterpolargl\":[{\"type\":\"scatterpolargl\",\"marker\":{\"colorbar\":{\"outlinewidth\":0,\"ticks\":\"\"}}}],\"bar\":[{\"error_x\":{\"color\":\"#2a3f5f\"},\"error_y\":{\"color\":\"#2a3f5f\"},\"marker\":{\"line\":{\"color\":\"#E5ECF6\",\"width\":0.5},\"pattern\":{\"fillmode\":\"overlay\",\"size\":10,\"solidity\":0.2}},\"type\":\"bar\"}],\"scattergeo\":[{\"type\":\"scattergeo\",\"marker\":{\"colorbar\":{\"outlinewidth\":0,\"ticks\":\"\"}}}],\"scatterpolar\":[{\"type\":\"scatterpolar\",\"marker\":{\"colorbar\":{\"outlinewidth\":0,\"ticks\":\"\"}}}],\"histogram\":[{\"marker\":{\"pattern\":{\"fillmode\":\"overlay\",\"size\":10,\"solidity\":0.2}},\"type\":\"histogram\"}],\"scattergl\":[{\"type\":\"scattergl\",\"marker\":{\"colorbar\":{\"outlinewidth\":0,\"ticks\":\"\"}}}],\"scatter3d\":[{\"type\":\"scatter3d\",\"line\":{\"colorbar\":{\"outlinewidth\":0,\"ticks\":\"\"}},\"marker\":{\"colorbar\":{\"outlinewidth\":0,\"ticks\":\"\"}}}],\"scattermapbox\":[{\"type\":\"scattermapbox\",\"marker\":{\"colorbar\":{\"outlinewidth\":0,\"ticks\":\"\"}}}],\"scatterternary\":[{\"type\":\"scatterternary\",\"marker\":{\"colorbar\":{\"outlinewidth\":0,\"ticks\":\"\"}}}],\"scattercarpet\":[{\"type\":\"scattercarpet\",\"marker\":{\"colorbar\":{\"outlinewidth\":0,\"ticks\":\"\"}}}],\"carpet\":[{\"aaxis\":{\"endlinecolor\":\"#2a3f5f\",\"gridcolor\":\"white\",\"linecolor\":\"white\",\"minorgridcolor\":\"white\",\"startlinecolor\":\"#2a3f5f\"},\"baxis\":{\"endlinecolor\":\"#2a3f5f\",\"gridcolor\":\"white\",\"linecolor\":\"white\",\"minorgridcolor\":\"white\",\"startlinecolor\":\"#2a3f5f\"},\"type\":\"carpet\"}],\"table\":[{\"cells\":{\"fill\":{\"color\":\"#EBF0F8\"},\"line\":{\"color\":\"white\"}},\"header\":{\"fill\":{\"color\":\"#C8D4E3\"},\"line\":{\"color\":\"white\"}},\"type\":\"table\"}],\"barpolar\":[{\"marker\":{\"line\":{\"color\":\"#E5ECF6\",\"width\":0.5},\"pattern\":{\"fillmode\":\"overlay\",\"size\":10,\"solidity\":0.2}},\"type\":\"barpolar\"}],\"pie\":[{\"automargin\":true,\"type\":\"pie\"}]},\"layout\":{\"autotypenumbers\":\"strict\",\"colorway\":[\"#636efa\",\"#EF553B\",\"#00cc96\",\"#ab63fa\",\"#FFA15A\",\"#19d3f3\",\"#FF6692\",\"#B6E880\",\"#FF97FF\",\"#FECB52\"],\"font\":{\"color\":\"#2a3f5f\"},\"hovermode\":\"closest\",\"hoverlabel\":{\"align\":\"left\"},\"paper_bgcolor\":\"white\",\"plot_bgcolor\":\"#E5ECF6\",\"polar\":{\"bgcolor\":\"#E5ECF6\",\"angularaxis\":{\"gridcolor\":\"white\",\"linecolor\":\"white\",\"ticks\":\"\"},\"radialaxis\":{\"gridcolor\":\"white\",\"linecolor\":\"white\",\"ticks\":\"\"}},\"ternary\":{\"bgcolor\":\"#E5ECF6\",\"aaxis\":{\"gridcolor\":\"white\",\"linecolor\":\"white\",\"ticks\":\"\"},\"baxis\":{\"gridcolor\":\"white\",\"linecolor\":\"white\",\"ticks\":\"\"},\"caxis\":{\"gridcolor\":\"white\",\"linecolor\":\"white\",\"ticks\":\"\"}},\"coloraxis\":{\"colorbar\":{\"outlinewidth\":0,\"ticks\":\"\"}},\"colorscale\":{\"sequential\":[[0.0,\"#0d0887\"],[0.1111111111111111,\"#46039f\"],[0.2222222222222222,\"#7201a8\"],[0.3333333333333333,\"#9c179e\"],[0.4444444444444444,\"#bd3786\"],[0.5555555555555556,\"#d8576b\"],[0.6666666666666666,\"#ed7953\"],[0.7777777777777778,\"#fb9f3a\"],[0.8888888888888888,\"#fdca26\"],[1.0,\"#f0f921\"]],\"sequentialminus\":[[0.0,\"#0d0887\"],[0.1111111111111111,\"#46039f\"],[0.2222222222222222,\"#7201a8\"],[0.3333333333333333,\"#9c179e\"],[0.4444444444444444,\"#bd3786\"],[0.5555555555555556,\"#d8576b\"],[0.6666666666666666,\"#ed7953\"],[0.7777777777777778,\"#fb9f3a\"],[0.8888888888888888,\"#fdca26\"],[1.0,\"#f0f921\"]],\"diverging\":[[0,\"#8e0152\"],[0.1,\"#c51b7d\"],[0.2,\"#de77ae\"],[0.3,\"#f1b6da\"],[0.4,\"#fde0ef\"],[0.5,\"#f7f7f7\"],[0.6,\"#e6f5d0\"],[0.7,\"#b8e186\"],[0.8,\"#7fbc41\"],[0.9,\"#4d9221\"],[1,\"#276419\"]]},\"xaxis\":{\"gridcolor\":\"white\",\"linecolor\":\"white\",\"ticks\":\"\",\"title\":{\"standoff\":15},\"zerolinecolor\":\"white\",\"automargin\":true,\"zerolinewidth\":2},\"yaxis\":{\"gridcolor\":\"white\",\"linecolor\":\"white\",\"ticks\":\"\",\"title\":{\"standoff\":15},\"zerolinecolor\":\"white\",\"automargin\":true,\"zerolinewidth\":2},\"scene\":{\"xaxis\":{\"backgroundcolor\":\"#E5ECF6\",\"gridcolor\":\"white\",\"linecolor\":\"white\",\"showbackground\":true,\"ticks\":\"\",\"zerolinecolor\":\"white\",\"gridwidth\":2},\"yaxis\":{\"backgroundcolor\":\"#E5ECF6\",\"gridcolor\":\"white\",\"linecolor\":\"white\",\"showbackground\":true,\"ticks\":\"\",\"zerolinecolor\":\"white\",\"gridwidth\":2},\"zaxis\":{\"backgroundcolor\":\"#E5ECF6\",\"gridcolor\":\"white\",\"linecolor\":\"white\",\"showbackground\":true,\"ticks\":\"\",\"zerolinecolor\":\"white\",\"gridwidth\":2}},\"shapedefaults\":{\"line\":{\"color\":\"#2a3f5f\"}},\"annotationdefaults\":{\"arrowcolor\":\"#2a3f5f\",\"arrowhead\":0,\"arrowwidth\":1},\"geo\":{\"bgcolor\":\"white\",\"landcolor\":\"#E5ECF6\",\"subunitcolor\":\"white\",\"showland\":true,\"showlakes\":true,\"lakecolor\":\"white\"},\"title\":{\"x\":0.05},\"mapbox\":{\"style\":\"light\"}}},\"legend\":{\"orientation\":\"h\"},\"width\":1024,\"height\":768},                        {\"responsive\": true}                    ).then(function(){\n",
       "                            \n",
       "var gd = document.getElementById('edcd8a18-8742-4d2e-857e-b542cb343fb7');\n",
       "var x = new MutationObserver(function (mutations, observer) {{\n",
       "        var display = window.getComputedStyle(gd).display;\n",
       "        if (!display || display === 'none') {{\n",
       "            console.log([gd, 'removed!']);\n",
       "            Plotly.purge(gd);\n",
       "            observer.disconnect();\n",
       "        }}\n",
       "}});\n",
       "\n",
       "// Listen for the removal of the full notebook cells\n",
       "var notebookContainer = gd.closest('#notebook-container');\n",
       "if (notebookContainer) {{\n",
       "    x.observe(notebookContainer, {childList: true});\n",
       "}}\n",
       "\n",
       "// Listen for the clearing of the current output cell\n",
       "var outputEl = gd.closest('.output');\n",
       "if (outputEl) {{\n",
       "    x.observe(outputEl, {childList: true});\n",
       "}}\n",
       "\n",
       "                        })                };                });            </script>        </div>"
      ]
     },
     "metadata": {},
     "output_type": "display_data"
    }
   ],
   "source": [
    "fig = go.Figure()\n",
    "\n",
    "fig.add_traces(draw_cathode_planes(\n",
    "    geom_dict,\n",
    "    tpc_centers,\n",
    "    showscale=False,\n",
    "    opacity=0.3,\n",
    "    colorscale='Greys',\n",
    "))\n",
    "\n",
    "fig.add_traces(draw_anode_planes(\n",
    "    geom_dict,\n",
    "    tpc_centers,\n",
    "    showscale=False,\n",
    "    opacity=0.1,\n",
    "    colorscale='ice',\n",
    "))\n",
    "\n",
    "trace = go.Scatter3d(\n",
    "        x=x, y=y, z=z,\n",
    "        marker_color=dQ,\n",
    "        name='larpix packets',\n",
    "        mode='markers',\n",
    "        visible='legendonly',\n",
    "        marker_size=3,\n",
    "        marker_symbol='square',\n",
    "        showlegend=True,\n",
    "        opacity=1.\n",
    "        )\n",
    "\n",
    "tracks = plot_tracks(seg_ev, \n",
    "                     mode=\"lines\",\n",
    "                     name=\"edep segments\",\n",
    "                     visible='legendonly',\n",
    "                     showlegend=True\n",
    "                     )\n",
    "\n",
    "fig.update_layout(\n",
    "    width=1024, height=768,\n",
    "    legend_orientation=\"h\",\n",
    ")\n",
    "\n",
    "fig.add_traces(trace)\n",
    "fig.add_traces(tracks)\n",
    "fig.show()"
   ]
  },
  {
   "cell_type": "code",
   "execution_count": null,
   "id": "0e0ced88-e877-4c48-b192-87f34c03244b",
   "metadata": {},
   "outputs": [],
   "source": []
  }
 ],
 "metadata": {
  "kernelspec": {
   "display_name": "Python 3 (ipykernel)",
   "language": "python",
   "name": "python3"
  },
  "language_info": {
   "codemirror_mode": {
    "name": "ipython",
    "version": 3
   },
   "file_extension": ".py",
   "mimetype": "text/x-python",
   "name": "python",
   "nbconvert_exporter": "python",
   "pygments_lexer": "ipython3",
   "version": "3.8.10"
  }
 },
 "nbformat": 4,
 "nbformat_minor": 5
}
