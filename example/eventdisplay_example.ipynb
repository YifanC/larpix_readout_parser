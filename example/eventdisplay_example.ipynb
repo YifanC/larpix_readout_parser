{
 "cells": [
  {
   "cell_type": "code",
   "execution_count": 1,
   "id": "c0f96def-cd86-458e-aef2-f0510457a3dc",
   "metadata": {},
   "outputs": [],
   "source": [
    "from LarpixParser import event_parser as EvtParser\n",
    "from LarpixParser import hit_parser as HitParser\n",
    "from LarpixParser import util as util\n",
    "\n",
    "import h5py\n",
    "import numpy as np\n",
    "import plotly.graph_objects as go\n",
    "import yaml"
   ]
  },
  {
   "cell_type": "code",
   "execution_count": 2,
   "id": "d54ee463-6c96-49a1-9ce4-3dee9ed1f230",
   "metadata": {},
   "outputs": [],
   "source": [
    "switch_xz = False\n",
    "# module0, 2x2, ndlar\n",
    "detector = \"2x2\""
   ]
  },
  {
   "cell_type": "code",
   "execution_count": 3,
   "id": "3564fb51-3f16-4672-9263-47cc2899dabf",
   "metadata": {},
   "outputs": [],
   "source": [
    "def draw_cathode_planes(geom_dict, tpc_centers, **kwargs):\n",
    "    \n",
    "    pos = np.array(list(geom_dict.values())) / 10.\n",
    "    traces = []\n",
    "    for i_mod in range(len(tpc_centers)):\n",
    "        x = np.array([pos[:, 0].min() + tpc_centers[i_mod][2], pos[:, 0].max() + tpc_centers[i_mod][2]])\n",
    "        y = np.array([pos[:, 1].min() + tpc_centers[i_mod][1], pos[:, 1].max() + tpc_centers[i_mod][1]])\n",
    "        z = np.full((2,2),  tpc_centers[i_mod][0])\n",
    "        \n",
    "        traces.append(go.Surface(x=x, y=y, z=z, **kwargs))\n",
    "    \n",
    "    return traces"
   ]
  },
  {
   "cell_type": "code",
   "execution_count": 4,
   "id": "1541f7d4-22fb-4ef6-9d20-9571e770615d",
   "metadata": {},
   "outputs": [],
   "source": [
    "def draw_anode_planes(geom_dict, tpc_centers, **kwargs):\n",
    "    \n",
    "    pos = np.array(list(geom_dict.values())) / 10.\n",
    "    traces = []\n",
    "    \n",
    "    for i_mod in range(len(tpc_centers)):\n",
    "        x = np.array([pos[:, 0].min() + tpc_centers[i_mod][2], pos[:, 0].max() + tpc_centers[i_mod][2]])\n",
    "        y = np.array([pos[:, 1].min() + tpc_centers[i_mod][1], pos[:, 1].max() + tpc_centers[i_mod][1]])\n",
    "        z1 = np.full((2,2),  pos[:, 2].min() + tpc_centers[i_mod][0])\n",
    "        z2 = np.full((2,2),  pos[:, 2].max() + tpc_centers[i_mod][0])\n",
    "        \n",
    "        traces.append(go.Surface(x=x, y=y, z=z1, **kwargs))\n",
    "        traces.append(go.Surface(x=x, y=y, z=z2, **kwargs))\n",
    "    \n",
    "    return traces"
   ]
  },
  {
   "cell_type": "code",
   "execution_count": 5,
   "id": "c50fc86d-e1a7-4c2b-b544-f9849b69942c",
   "metadata": {},
   "outputs": [],
   "source": [
    "def plot_tracks(tracks, **kwargs):\n",
    "    \n",
    "    def to_list(axis):\n",
    "        return np.column_stack([\n",
    "            tracks[f'{axis}_start'],\n",
    "            tracks[f'{axis}_end'],\n",
    "            np.full(len(tracks), None)\n",
    "        ]).flatten().tolist()\n",
    "        \n",
    "    x, y, z = (to_list(axis) for axis in 'xyz')\n",
    "\n",
    "    trace = go.Scatter3d(x=z, y=y, z=x, **kwargs)\n",
    "    \n",
    "    return trace"
   ]
  },
  {
   "cell_type": "code",
   "execution_count": 6,
   "id": "6fa1c92a-322d-4b51-80a2-341edefacb70",
   "metadata": {},
   "outputs": [],
   "source": [
    "f = h5py.File('/sdf/group/neutrino/cyifan/nd_lar_2x2/MiniRun3_1E19_RHC.larnd_v2.00123.LARNDSIM.h5', 'r')\n",
    "# f = h5py.File('/sdf/data/neutrino/kterao/dunend_train_prod/prod_2x2_larnd-sim/production_3668049/job_17008405_0013/output_17008405_13-larndsim.h5', 'r')\n",
    "packets = f['packets'] # readout\n",
    "segs = f['tracks'] # Geant4 truth\n",
    "assn = f['mc_packets_assn'] # G4-readout association\n",
    "vtx = f['vertices']\n",
    "traj = f['trajectories']"
   ]
  },
  {
   "cell_type": "code",
   "execution_count": 7,
   "id": "b6c7705a-6831-4ce0-899b-c411d49c5d83",
   "metadata": {},
   "outputs": [],
   "source": [
    "'''\n",
    "    Loading LArPix geometry and run configuration\n",
    "    Option 1: Use the default, the installed package data\n",
    "              It's recommended, if you are not doing something unusual.\n",
    "'''\n",
    "\n",
    "run_config, geom_dict = util.detector_configuration(detector)"
   ]
  },
  {
   "cell_type": "code",
   "execution_count": 8,
   "id": "ef69b3ff-f414-4387-832e-9a78b494655c",
   "metadata": {},
   "outputs": [
    {
     "data": {
      "text/plain": [
       "'\\n    Loading LArPix geometry and run configuration\\n    Option 2: Point a pre-load LArPix geometry dictionary stored in a pickle file and a run configuration yaml file\\n'"
      ]
     },
     "execution_count": 8,
     "metadata": {},
     "output_type": "execute_result"
    }
   ],
   "source": [
    "'''\n",
    "    Loading LArPix geometry and run configuration\n",
    "    Option 2: Point a pre-load LArPix geometry dictionary stored in a pickle file and a run configuration yaml file\n",
    "'''\n",
    "# geom_dict = util.load_geom_dict(\"../src/LarpixParser/config_repo/dict_repo/multi_tile_layout-3.0.40.pkl\")\n",
    "\n",
    "# run_config_path = '../src/LarpixParser/config_repo/ndlar-module.yaml'\n",
    "# run_config = util.get_run_config(run_config_path)"
   ]
  },
  {
   "cell_type": "code",
   "execution_count": 9,
   "id": "c51594dc-1698-459b-b99d-606e3e34c6b1",
   "metadata": {},
   "outputs": [
    {
     "data": {
      "text/plain": [
       "'\\n    Loading LArPix geometry and run configuration\\n    Option 3: Build a LArPix geometry dictionary on the fly and load a run configuration yaml file\\n'"
      ]
     },
     "execution_count": 9,
     "metadata": {},
     "output_type": "execute_result"
    }
   ],
   "source": [
    "'''\n",
    "    Loading LArPix geometry and run configuration\n",
    "    Option 3: Build a LArPix geometry dictionary on the fly and load a run configuration yaml file\n",
    "'''\n",
    "# from LarpixParser import geom_to_dict as DictBuilder\n",
    "# geom_repo = '../src/LarpixParser/config_repo'\n",
    "# larpix_layout_name = 'multi_tile_layout-3.0.40'\n",
    "# geom_dict = DictBuilder.larpix_layout_to_dict(geom_repo, larpix_layout_name, save_dict=False)\n",
    "\n",
    "# run_config_path = '../src/LarpixParser/config_repo/ndlar-module.yaml'\n",
    "# run_config = util.get_run_config(run_config_path)"
   ]
  },
  {
   "cell_type": "code",
   "execution_count": 10,
   "id": "b6b0f918",
   "metadata": {},
   "outputs": [],
   "source": [
    "if switch_xz:\n",
    "    tpc_centers_tp = np.array(run_config['tpc_offsets'])\n",
    "    tpc_centers = np.copy(tpc_centers_tp)\n",
    "    tpc_centers[:,0] = tpc_centers_tp[:,2]\n",
    "    tpc_centers[:,2] = tpc_centers_tp[:,0]\n",
    "else:\n",
    "    tpc_centers = run_config['tpc_offsets']"
   ]
  },
  {
   "cell_type": "code",
   "execution_count": 37,
   "id": "f70ccd8c-c6b2-4c7a-8505-a8f2fa5afe50",
   "metadata": {},
   "outputs": [],
   "source": [
    "pckt_event_ids = EvtParser.packet_to_eventid(assn, segs, vtx)\n",
    "event_ids = EvtParser.get_eventid(vtx)\n",
    "t0_grp = EvtParser.get_t0_event(vtx, run_config)"
   ]
  },
  {
   "cell_type": "code",
   "execution_count": 38,
   "id": "417abcd2-06b0-4a46-ba1e-f3a6841fda13",
   "metadata": {},
   "outputs": [],
   "source": [
    "i_ev = 123\n",
    "t0 = t0_grp[i_ev]\n",
    "evt_id = event_ids[i_ev]\n",
    "\n",
    "pckt_mask = pckt_event_ids == evt_id\n",
    "packets_ev = packets[pckt_mask]\n",
    "assn_ev = assn[pckt_mask]\n",
    "seg_ev = segs[segs['eventID'] == evt_id]\n",
    "    \n",
    "x,y,z,dQ = HitParser.hit_parser_charge(t0, packets_ev, geom_dict, run_config, switch_xz)\n",
    "\n",
    "x = np.array(x) / 10.\n",
    "y = np.array(y) / 10.\n",
    "z = np.array(z) / 10.\n"
   ]
  },
  {
   "cell_type": "code",
   "execution_count": 41,
   "id": "94dea060",
   "metadata": {},
   "outputs": [
    {
     "data": {
      "text/plain": [
       "123"
      ]
     },
     "execution_count": 41,
     "metadata": {},
     "output_type": "execute_result"
    }
   ],
   "source": [
    "evt_id"
   ]
  },
  {
   "cell_type": "code",
   "execution_count": 39,
   "id": "7eeb7935-aeb3-491b-82aa-b27e21f914b1",
   "metadata": {
    "tags": []
   },
   "outputs": [
    {
     "data": {
      "application/vnd.plotly.v1+json": {
       "config": {
        "plotlyServerURL": "https://plot.ly"
       },
       "data": [
        {
         "colorscale": [
          [
           0,
           "rgb(255,255,255)"
          ],
          [
           0.125,
           "rgb(240,240,240)"
          ],
          [
           0.25,
           "rgb(217,217,217)"
          ],
          [
           0.375,
           "rgb(189,189,189)"
          ],
          [
           0.5,
           "rgb(150,150,150)"
          ],
          [
           0.625,
           "rgb(115,115,115)"
          ],
          [
           0.75,
           "rgb(82,82,82)"
          ],
          [
           0.875,
           "rgb(37,37,37)"
          ],
          [
           1,
           "rgb(0,0,0)"
          ]
         ],
         "opacity": 0.3,
         "showscale": false,
         "type": "surface",
         "x": [
          2.683699999999998,
          64.3163
         ],
         "y": [
          -19.854300000000002,
          103.8543
         ],
         "z": [
          [
           33.5,
           33.5
          ],
          [
           33.5,
           33.5
          ]
         ]
        },
        {
         "colorscale": [
          [
           0,
           "rgb(255,255,255)"
          ],
          [
           0.125,
           "rgb(240,240,240)"
          ],
          [
           0.25,
           "rgb(217,217,217)"
          ],
          [
           0.375,
           "rgb(189,189,189)"
          ],
          [
           0.5,
           "rgb(150,150,150)"
          ],
          [
           0.625,
           "rgb(115,115,115)"
          ],
          [
           0.75,
           "rgb(82,82,82)"
          ],
          [
           0.875,
           "rgb(37,37,37)"
          ],
          [
           1,
           "rgb(0,0,0)"
          ]
         ],
         "opacity": 0.3,
         "showscale": false,
         "type": "surface",
         "x": [
          -64.3163,
          -2.683699999999998
         ],
         "y": [
          -19.854300000000002,
          103.8543
         ],
         "z": [
          [
           33.5,
           33.5
          ],
          [
           33.5,
           33.5
          ]
         ]
        },
        {
         "colorscale": [
          [
           0,
           "rgb(255,255,255)"
          ],
          [
           0.125,
           "rgb(240,240,240)"
          ],
          [
           0.25,
           "rgb(217,217,217)"
          ],
          [
           0.375,
           "rgb(189,189,189)"
          ],
          [
           0.5,
           "rgb(150,150,150)"
          ],
          [
           0.625,
           "rgb(115,115,115)"
          ],
          [
           0.75,
           "rgb(82,82,82)"
          ],
          [
           0.875,
           "rgb(37,37,37)"
          ],
          [
           1,
           "rgb(0,0,0)"
          ]
         ],
         "opacity": 0.3,
         "showscale": false,
         "type": "surface",
         "x": [
          2.683699999999998,
          64.3163
         ],
         "y": [
          -19.854300000000002,
          103.8543
         ],
         "z": [
          [
           -33.5,
           -33.5
          ],
          [
           -33.5,
           -33.5
          ]
         ]
        },
        {
         "colorscale": [
          [
           0,
           "rgb(255,255,255)"
          ],
          [
           0.125,
           "rgb(240,240,240)"
          ],
          [
           0.25,
           "rgb(217,217,217)"
          ],
          [
           0.375,
           "rgb(189,189,189)"
          ],
          [
           0.5,
           "rgb(150,150,150)"
          ],
          [
           0.625,
           "rgb(115,115,115)"
          ],
          [
           0.75,
           "rgb(82,82,82)"
          ],
          [
           0.875,
           "rgb(37,37,37)"
          ],
          [
           1,
           "rgb(0,0,0)"
          ]
         ],
         "opacity": 0.3,
         "showscale": false,
         "type": "surface",
         "x": [
          -64.3163,
          -2.683699999999998
         ],
         "y": [
          -19.854300000000002,
          103.8543
         ],
         "z": [
          [
           -33.5,
           -33.5
          ],
          [
           -33.5,
           -33.5
          ]
         ]
        },
        {
         "colorscale": [
          [
           0,
           "rgb(255,255,255)"
          ],
          [
           0.125,
           "rgb(240,240,240)"
          ],
          [
           0.25,
           "rgb(217,217,217)"
          ],
          [
           0.375,
           "rgb(189,189,189)"
          ],
          [
           0.5,
           "rgb(150,150,150)"
          ],
          [
           0.625,
           "rgb(115,115,115)"
          ],
          [
           0.75,
           "rgb(82,82,82)"
          ],
          [
           0.875,
           "rgb(37,37,37)"
          ],
          [
           1,
           "rgb(0,0,0)"
          ]
         ],
         "opacity": 0.3,
         "showscale": false,
         "type": "surface",
         "x": [
          2.683699999999998,
          64.3163
         ],
         "y": [
          -19.854300000000002,
          103.8543
         ],
         "z": [
          [
           33.5,
           33.5
          ],
          [
           33.5,
           33.5
          ]
         ]
        },
        {
         "colorscale": [
          [
           0,
           "rgb(255,255,255)"
          ],
          [
           0.125,
           "rgb(240,240,240)"
          ],
          [
           0.25,
           "rgb(217,217,217)"
          ],
          [
           0.375,
           "rgb(189,189,189)"
          ],
          [
           0.5,
           "rgb(150,150,150)"
          ],
          [
           0.625,
           "rgb(115,115,115)"
          ],
          [
           0.75,
           "rgb(82,82,82)"
          ],
          [
           0.875,
           "rgb(37,37,37)"
          ],
          [
           1,
           "rgb(0,0,0)"
          ]
         ],
         "opacity": 0.3,
         "showscale": false,
         "type": "surface",
         "x": [
          -64.3163,
          -2.683699999999998
         ],
         "y": [
          -19.854300000000002,
          103.8543
         ],
         "z": [
          [
           33.5,
           33.5
          ],
          [
           33.5,
           33.5
          ]
         ]
        },
        {
         "colorscale": [
          [
           0,
           "rgb(255,255,255)"
          ],
          [
           0.125,
           "rgb(240,240,240)"
          ],
          [
           0.25,
           "rgb(217,217,217)"
          ],
          [
           0.375,
           "rgb(189,189,189)"
          ],
          [
           0.5,
           "rgb(150,150,150)"
          ],
          [
           0.625,
           "rgb(115,115,115)"
          ],
          [
           0.75,
           "rgb(82,82,82)"
          ],
          [
           0.875,
           "rgb(37,37,37)"
          ],
          [
           1,
           "rgb(0,0,0)"
          ]
         ],
         "opacity": 0.3,
         "showscale": false,
         "type": "surface",
         "x": [
          2.683699999999998,
          64.3163
         ],
         "y": [
          -19.854300000000002,
          103.8543
         ],
         "z": [
          [
           -33.5,
           -33.5
          ],
          [
           -33.5,
           -33.5
          ]
         ]
        },
        {
         "colorscale": [
          [
           0,
           "rgb(255,255,255)"
          ],
          [
           0.125,
           "rgb(240,240,240)"
          ],
          [
           0.25,
           "rgb(217,217,217)"
          ],
          [
           0.375,
           "rgb(189,189,189)"
          ],
          [
           0.5,
           "rgb(150,150,150)"
          ],
          [
           0.625,
           "rgb(115,115,115)"
          ],
          [
           0.75,
           "rgb(82,82,82)"
          ],
          [
           0.875,
           "rgb(37,37,37)"
          ],
          [
           1,
           "rgb(0,0,0)"
          ]
         ],
         "opacity": 0.3,
         "showscale": false,
         "type": "surface",
         "x": [
          -64.3163,
          -2.683699999999998
         ],
         "y": [
          -19.854300000000002,
          103.8543
         ],
         "z": [
          [
           -33.5,
           -33.5
          ],
          [
           -33.5,
           -33.5
          ]
         ]
        },
        {
         "colorscale": [
          [
           0,
           "rgb(255,255,255)"
          ],
          [
           0.125,
           "rgb(240,240,240)"
          ],
          [
           0.25,
           "rgb(217,217,217)"
          ],
          [
           0.375,
           "rgb(189,189,189)"
          ],
          [
           0.5,
           "rgb(150,150,150)"
          ],
          [
           0.625,
           "rgb(115,115,115)"
          ],
          [
           0.75,
           "rgb(82,82,82)"
          ],
          [
           0.875,
           "rgb(37,37,37)"
          ],
          [
           1,
           "rgb(0,0,0)"
          ]
         ],
         "opacity": 0.3,
         "showscale": false,
         "type": "surface",
         "x": [
          2.683699999999998,
          64.3163
         ],
         "y": [
          -19.854300000000002,
          103.8543
         ],
         "z": [
          [
           33.5,
           33.5
          ],
          [
           33.5,
           33.5
          ]
         ]
        },
        {
         "colorscale": [
          [
           0,
           "rgb(255,255,255)"
          ],
          [
           0.125,
           "rgb(240,240,240)"
          ],
          [
           0.25,
           "rgb(217,217,217)"
          ],
          [
           0.375,
           "rgb(189,189,189)"
          ],
          [
           0.5,
           "rgb(150,150,150)"
          ],
          [
           0.625,
           "rgb(115,115,115)"
          ],
          [
           0.75,
           "rgb(82,82,82)"
          ],
          [
           0.875,
           "rgb(37,37,37)"
          ],
          [
           1,
           "rgb(0,0,0)"
          ]
         ],
         "opacity": 0.3,
         "showscale": false,
         "type": "surface",
         "x": [
          -64.3163,
          -2.683699999999998
         ],
         "y": [
          -19.854300000000002,
          103.8543
         ],
         "z": [
          [
           33.5,
           33.5
          ],
          [
           33.5,
           33.5
          ]
         ]
        },
        {
         "colorscale": [
          [
           0,
           "rgb(255,255,255)"
          ],
          [
           0.125,
           "rgb(240,240,240)"
          ],
          [
           0.25,
           "rgb(217,217,217)"
          ],
          [
           0.375,
           "rgb(189,189,189)"
          ],
          [
           0.5,
           "rgb(150,150,150)"
          ],
          [
           0.625,
           "rgb(115,115,115)"
          ],
          [
           0.75,
           "rgb(82,82,82)"
          ],
          [
           0.875,
           "rgb(37,37,37)"
          ],
          [
           1,
           "rgb(0,0,0)"
          ]
         ],
         "opacity": 0.3,
         "showscale": false,
         "type": "surface",
         "x": [
          2.683699999999998,
          64.3163
         ],
         "y": [
          -19.854300000000002,
          103.8543
         ],
         "z": [
          [
           -33.5,
           -33.5
          ],
          [
           -33.5,
           -33.5
          ]
         ]
        },
        {
         "colorscale": [
          [
           0,
           "rgb(255,255,255)"
          ],
          [
           0.125,
           "rgb(240,240,240)"
          ],
          [
           0.25,
           "rgb(217,217,217)"
          ],
          [
           0.375,
           "rgb(189,189,189)"
          ],
          [
           0.5,
           "rgb(150,150,150)"
          ],
          [
           0.625,
           "rgb(115,115,115)"
          ],
          [
           0.75,
           "rgb(82,82,82)"
          ],
          [
           0.875,
           "rgb(37,37,37)"
          ],
          [
           1,
           "rgb(0,0,0)"
          ]
         ],
         "opacity": 0.3,
         "showscale": false,
         "type": "surface",
         "x": [
          -64.3163,
          -2.683699999999998
         ],
         "y": [
          -19.854300000000002,
          103.8543
         ],
         "z": [
          [
           -33.5,
           -33.5
          ],
          [
           -33.5,
           -33.5
          ]
         ]
        },
        {
         "colorscale": [
          [
           0,
           "rgb(255,255,255)"
          ],
          [
           0.125,
           "rgb(240,240,240)"
          ],
          [
           0.25,
           "rgb(217,217,217)"
          ],
          [
           0.375,
           "rgb(189,189,189)"
          ],
          [
           0.5,
           "rgb(150,150,150)"
          ],
          [
           0.625,
           "rgb(115,115,115)"
          ],
          [
           0.75,
           "rgb(82,82,82)"
          ],
          [
           0.875,
           "rgb(37,37,37)"
          ],
          [
           1,
           "rgb(0,0,0)"
          ]
         ],
         "opacity": 0.3,
         "showscale": false,
         "type": "surface",
         "x": [
          2.683699999999998,
          64.3163
         ],
         "y": [
          -19.854300000000002,
          103.8543
         ],
         "z": [
          [
           33.5,
           33.5
          ],
          [
           33.5,
           33.5
          ]
         ]
        },
        {
         "colorscale": [
          [
           0,
           "rgb(255,255,255)"
          ],
          [
           0.125,
           "rgb(240,240,240)"
          ],
          [
           0.25,
           "rgb(217,217,217)"
          ],
          [
           0.375,
           "rgb(189,189,189)"
          ],
          [
           0.5,
           "rgb(150,150,150)"
          ],
          [
           0.625,
           "rgb(115,115,115)"
          ],
          [
           0.75,
           "rgb(82,82,82)"
          ],
          [
           0.875,
           "rgb(37,37,37)"
          ],
          [
           1,
           "rgb(0,0,0)"
          ]
         ],
         "opacity": 0.3,
         "showscale": false,
         "type": "surface",
         "x": [
          -64.3163,
          -2.683699999999998
         ],
         "y": [
          -19.854300000000002,
          103.8543
         ],
         "z": [
          [
           33.5,
           33.5
          ],
          [
           33.5,
           33.5
          ]
         ]
        },
        {
         "colorscale": [
          [
           0,
           "rgb(255,255,255)"
          ],
          [
           0.125,
           "rgb(240,240,240)"
          ],
          [
           0.25,
           "rgb(217,217,217)"
          ],
          [
           0.375,
           "rgb(189,189,189)"
          ],
          [
           0.5,
           "rgb(150,150,150)"
          ],
          [
           0.625,
           "rgb(115,115,115)"
          ],
          [
           0.75,
           "rgb(82,82,82)"
          ],
          [
           0.875,
           "rgb(37,37,37)"
          ],
          [
           1,
           "rgb(0,0,0)"
          ]
         ],
         "opacity": 0.3,
         "showscale": false,
         "type": "surface",
         "x": [
          2.683699999999998,
          64.3163
         ],
         "y": [
          -19.854300000000002,
          103.8543
         ],
         "z": [
          [
           -33.5,
           -33.5
          ],
          [
           -33.5,
           -33.5
          ]
         ]
        },
        {
         "colorscale": [
          [
           0,
           "rgb(255,255,255)"
          ],
          [
           0.125,
           "rgb(240,240,240)"
          ],
          [
           0.25,
           "rgb(217,217,217)"
          ],
          [
           0.375,
           "rgb(189,189,189)"
          ],
          [
           0.5,
           "rgb(150,150,150)"
          ],
          [
           0.625,
           "rgb(115,115,115)"
          ],
          [
           0.75,
           "rgb(82,82,82)"
          ],
          [
           0.875,
           "rgb(37,37,37)"
          ],
          [
           1,
           "rgb(0,0,0)"
          ]
         ],
         "opacity": 0.3,
         "showscale": false,
         "type": "surface",
         "x": [
          -64.3163,
          -2.683699999999998
         ],
         "y": [
          -19.854300000000002,
          103.8543
         ],
         "z": [
          [
           -33.5,
           -33.5
          ],
          [
           -33.5,
           -33.5
          ]
         ]
        },
        {
         "colorscale": [
          [
           0,
           "rgb(255,255,255)"
          ],
          [
           0.125,
           "rgb(240,240,240)"
          ],
          [
           0.25,
           "rgb(217,217,217)"
          ],
          [
           0.375,
           "rgb(189,189,189)"
          ],
          [
           0.5,
           "rgb(150,150,150)"
          ],
          [
           0.625,
           "rgb(115,115,115)"
          ],
          [
           0.75,
           "rgb(82,82,82)"
          ],
          [
           0.875,
           "rgb(37,37,37)"
          ],
          [
           1,
           "rgb(0,0,0)"
          ]
         ],
         "opacity": 0.3,
         "showscale": false,
         "type": "surface",
         "x": [
          2.683699999999998,
          64.3163
         ],
         "y": [
          -19.854300000000002,
          103.8543
         ],
         "z": [
          [
           33.5,
           33.5
          ],
          [
           33.5,
           33.5
          ]
         ]
        },
        {
         "colorscale": [
          [
           0,
           "rgb(255,255,255)"
          ],
          [
           0.125,
           "rgb(240,240,240)"
          ],
          [
           0.25,
           "rgb(217,217,217)"
          ],
          [
           0.375,
           "rgb(189,189,189)"
          ],
          [
           0.5,
           "rgb(150,150,150)"
          ],
          [
           0.625,
           "rgb(115,115,115)"
          ],
          [
           0.75,
           "rgb(82,82,82)"
          ],
          [
           0.875,
           "rgb(37,37,37)"
          ],
          [
           1,
           "rgb(0,0,0)"
          ]
         ],
         "opacity": 0.3,
         "showscale": false,
         "type": "surface",
         "x": [
          -64.3163,
          -2.683699999999998
         ],
         "y": [
          -19.854300000000002,
          103.8543
         ],
         "z": [
          [
           33.5,
           33.5
          ],
          [
           33.5,
           33.5
          ]
         ]
        },
        {
         "colorscale": [
          [
           0,
           "rgb(255,255,255)"
          ],
          [
           0.125,
           "rgb(240,240,240)"
          ],
          [
           0.25,
           "rgb(217,217,217)"
          ],
          [
           0.375,
           "rgb(189,189,189)"
          ],
          [
           0.5,
           "rgb(150,150,150)"
          ],
          [
           0.625,
           "rgb(115,115,115)"
          ],
          [
           0.75,
           "rgb(82,82,82)"
          ],
          [
           0.875,
           "rgb(37,37,37)"
          ],
          [
           1,
           "rgb(0,0,0)"
          ]
         ],
         "opacity": 0.3,
         "showscale": false,
         "type": "surface",
         "x": [
          2.683699999999998,
          64.3163
         ],
         "y": [
          -19.854300000000002,
          103.8543
         ],
         "z": [
          [
           -33.5,
           -33.5
          ],
          [
           -33.5,
           -33.5
          ]
         ]
        },
        {
         "colorscale": [
          [
           0,
           "rgb(255,255,255)"
          ],
          [
           0.125,
           "rgb(240,240,240)"
          ],
          [
           0.25,
           "rgb(217,217,217)"
          ],
          [
           0.375,
           "rgb(189,189,189)"
          ],
          [
           0.5,
           "rgb(150,150,150)"
          ],
          [
           0.625,
           "rgb(115,115,115)"
          ],
          [
           0.75,
           "rgb(82,82,82)"
          ],
          [
           0.875,
           "rgb(37,37,37)"
          ],
          [
           1,
           "rgb(0,0,0)"
          ]
         ],
         "opacity": 0.3,
         "showscale": false,
         "type": "surface",
         "x": [
          -64.3163,
          -2.683699999999998
         ],
         "y": [
          -19.854300000000002,
          103.8543
         ],
         "z": [
          [
           -33.5,
           -33.5
          ],
          [
           -33.5,
           -33.5
          ]
         ]
        },
        {
         "colorscale": [
          [
           0,
           "rgb(255,255,255)"
          ],
          [
           0.125,
           "rgb(240,240,240)"
          ],
          [
           0.25,
           "rgb(217,217,217)"
          ],
          [
           0.375,
           "rgb(189,189,189)"
          ],
          [
           0.5,
           "rgb(150,150,150)"
          ],
          [
           0.625,
           "rgb(115,115,115)"
          ],
          [
           0.75,
           "rgb(82,82,82)"
          ],
          [
           0.875,
           "rgb(37,37,37)"
          ],
          [
           1,
           "rgb(0,0,0)"
          ]
         ],
         "opacity": 0.3,
         "showscale": false,
         "type": "surface",
         "x": [
          2.683699999999998,
          64.3163
         ],
         "y": [
          -19.854300000000002,
          103.8543
         ],
         "z": [
          [
           33.5,
           33.5
          ],
          [
           33.5,
           33.5
          ]
         ]
        },
        {
         "colorscale": [
          [
           0,
           "rgb(255,255,255)"
          ],
          [
           0.125,
           "rgb(240,240,240)"
          ],
          [
           0.25,
           "rgb(217,217,217)"
          ],
          [
           0.375,
           "rgb(189,189,189)"
          ],
          [
           0.5,
           "rgb(150,150,150)"
          ],
          [
           0.625,
           "rgb(115,115,115)"
          ],
          [
           0.75,
           "rgb(82,82,82)"
          ],
          [
           0.875,
           "rgb(37,37,37)"
          ],
          [
           1,
           "rgb(0,0,0)"
          ]
         ],
         "opacity": 0.3,
         "showscale": false,
         "type": "surface",
         "x": [
          -64.3163,
          -2.683699999999998
         ],
         "y": [
          -19.854300000000002,
          103.8543
         ],
         "z": [
          [
           33.5,
           33.5
          ],
          [
           33.5,
           33.5
          ]
         ]
        },
        {
         "colorscale": [
          [
           0,
           "rgb(255,255,255)"
          ],
          [
           0.125,
           "rgb(240,240,240)"
          ],
          [
           0.25,
           "rgb(217,217,217)"
          ],
          [
           0.375,
           "rgb(189,189,189)"
          ],
          [
           0.5,
           "rgb(150,150,150)"
          ],
          [
           0.625,
           "rgb(115,115,115)"
          ],
          [
           0.75,
           "rgb(82,82,82)"
          ],
          [
           0.875,
           "rgb(37,37,37)"
          ],
          [
           1,
           "rgb(0,0,0)"
          ]
         ],
         "opacity": 0.3,
         "showscale": false,
         "type": "surface",
         "x": [
          2.683699999999998,
          64.3163
         ],
         "y": [
          -19.854300000000002,
          103.8543
         ],
         "z": [
          [
           -33.5,
           -33.5
          ],
          [
           -33.5,
           -33.5
          ]
         ]
        },
        {
         "colorscale": [
          [
           0,
           "rgb(255,255,255)"
          ],
          [
           0.125,
           "rgb(240,240,240)"
          ],
          [
           0.25,
           "rgb(217,217,217)"
          ],
          [
           0.375,
           "rgb(189,189,189)"
          ],
          [
           0.5,
           "rgb(150,150,150)"
          ],
          [
           0.625,
           "rgb(115,115,115)"
          ],
          [
           0.75,
           "rgb(82,82,82)"
          ],
          [
           0.875,
           "rgb(37,37,37)"
          ],
          [
           1,
           "rgb(0,0,0)"
          ]
         ],
         "opacity": 0.3,
         "showscale": false,
         "type": "surface",
         "x": [
          -64.3163,
          -2.683699999999998
         ],
         "y": [
          -19.854300000000002,
          103.8543
         ],
         "z": [
          [
           -33.5,
           -33.5
          ],
          [
           -33.5,
           -33.5
          ]
         ]
        },
        {
         "colorscale": [
          [
           0,
           "rgb(255,255,255)"
          ],
          [
           0.125,
           "rgb(240,240,240)"
          ],
          [
           0.25,
           "rgb(217,217,217)"
          ],
          [
           0.375,
           "rgb(189,189,189)"
          ],
          [
           0.5,
           "rgb(150,150,150)"
          ],
          [
           0.625,
           "rgb(115,115,115)"
          ],
          [
           0.75,
           "rgb(82,82,82)"
          ],
          [
           0.875,
           "rgb(37,37,37)"
          ],
          [
           1,
           "rgb(0,0,0)"
          ]
         ],
         "opacity": 0.3,
         "showscale": false,
         "type": "surface",
         "x": [
          2.683699999999998,
          64.3163
         ],
         "y": [
          -19.854300000000002,
          103.8543
         ],
         "z": [
          [
           33.5,
           33.5
          ],
          [
           33.5,
           33.5
          ]
         ]
        },
        {
         "colorscale": [
          [
           0,
           "rgb(255,255,255)"
          ],
          [
           0.125,
           "rgb(240,240,240)"
          ],
          [
           0.25,
           "rgb(217,217,217)"
          ],
          [
           0.375,
           "rgb(189,189,189)"
          ],
          [
           0.5,
           "rgb(150,150,150)"
          ],
          [
           0.625,
           "rgb(115,115,115)"
          ],
          [
           0.75,
           "rgb(82,82,82)"
          ],
          [
           0.875,
           "rgb(37,37,37)"
          ],
          [
           1,
           "rgb(0,0,0)"
          ]
         ],
         "opacity": 0.3,
         "showscale": false,
         "type": "surface",
         "x": [
          -64.3163,
          -2.683699999999998
         ],
         "y": [
          -19.854300000000002,
          103.8543
         ],
         "z": [
          [
           33.5,
           33.5
          ],
          [
           33.5,
           33.5
          ]
         ]
        },
        {
         "colorscale": [
          [
           0,
           "rgb(255,255,255)"
          ],
          [
           0.125,
           "rgb(240,240,240)"
          ],
          [
           0.25,
           "rgb(217,217,217)"
          ],
          [
           0.375,
           "rgb(189,189,189)"
          ],
          [
           0.5,
           "rgb(150,150,150)"
          ],
          [
           0.625,
           "rgb(115,115,115)"
          ],
          [
           0.75,
           "rgb(82,82,82)"
          ],
          [
           0.875,
           "rgb(37,37,37)"
          ],
          [
           1,
           "rgb(0,0,0)"
          ]
         ],
         "opacity": 0.3,
         "showscale": false,
         "type": "surface",
         "x": [
          2.683699999999998,
          64.3163
         ],
         "y": [
          -19.854300000000002,
          103.8543
         ],
         "z": [
          [
           -33.5,
           -33.5
          ],
          [
           -33.5,
           -33.5
          ]
         ]
        },
        {
         "colorscale": [
          [
           0,
           "rgb(255,255,255)"
          ],
          [
           0.125,
           "rgb(240,240,240)"
          ],
          [
           0.25,
           "rgb(217,217,217)"
          ],
          [
           0.375,
           "rgb(189,189,189)"
          ],
          [
           0.5,
           "rgb(150,150,150)"
          ],
          [
           0.625,
           "rgb(115,115,115)"
          ],
          [
           0.75,
           "rgb(82,82,82)"
          ],
          [
           0.875,
           "rgb(37,37,37)"
          ],
          [
           1,
           "rgb(0,0,0)"
          ]
         ],
         "opacity": 0.3,
         "showscale": false,
         "type": "surface",
         "x": [
          -64.3163,
          -2.683699999999998
         ],
         "y": [
          -19.854300000000002,
          103.8543
         ],
         "z": [
          [
           -33.5,
           -33.5
          ],
          [
           -33.5,
           -33.5
          ]
         ]
        },
        {
         "colorscale": [
          [
           0,
           "rgb(255,255,255)"
          ],
          [
           0.125,
           "rgb(240,240,240)"
          ],
          [
           0.25,
           "rgb(217,217,217)"
          ],
          [
           0.375,
           "rgb(189,189,189)"
          ],
          [
           0.5,
           "rgb(150,150,150)"
          ],
          [
           0.625,
           "rgb(115,115,115)"
          ],
          [
           0.75,
           "rgb(82,82,82)"
          ],
          [
           0.875,
           "rgb(37,37,37)"
          ],
          [
           1,
           "rgb(0,0,0)"
          ]
         ],
         "opacity": 0.3,
         "showscale": false,
         "type": "surface",
         "x": [
          2.683699999999998,
          64.3163
         ],
         "y": [
          -19.854300000000002,
          103.8543
         ],
         "z": [
          [
           33.5,
           33.5
          ],
          [
           33.5,
           33.5
          ]
         ]
        },
        {
         "colorscale": [
          [
           0,
           "rgb(255,255,255)"
          ],
          [
           0.125,
           "rgb(240,240,240)"
          ],
          [
           0.25,
           "rgb(217,217,217)"
          ],
          [
           0.375,
           "rgb(189,189,189)"
          ],
          [
           0.5,
           "rgb(150,150,150)"
          ],
          [
           0.625,
           "rgb(115,115,115)"
          ],
          [
           0.75,
           "rgb(82,82,82)"
          ],
          [
           0.875,
           "rgb(37,37,37)"
          ],
          [
           1,
           "rgb(0,0,0)"
          ]
         ],
         "opacity": 0.3,
         "showscale": false,
         "type": "surface",
         "x": [
          -64.3163,
          -2.683699999999998
         ],
         "y": [
          -19.854300000000002,
          103.8543
         ],
         "z": [
          [
           33.5,
           33.5
          ],
          [
           33.5,
           33.5
          ]
         ]
        },
        {
         "colorscale": [
          [
           0,
           "rgb(255,255,255)"
          ],
          [
           0.125,
           "rgb(240,240,240)"
          ],
          [
           0.25,
           "rgb(217,217,217)"
          ],
          [
           0.375,
           "rgb(189,189,189)"
          ],
          [
           0.5,
           "rgb(150,150,150)"
          ],
          [
           0.625,
           "rgb(115,115,115)"
          ],
          [
           0.75,
           "rgb(82,82,82)"
          ],
          [
           0.875,
           "rgb(37,37,37)"
          ],
          [
           1,
           "rgb(0,0,0)"
          ]
         ],
         "opacity": 0.3,
         "showscale": false,
         "type": "surface",
         "x": [
          2.683699999999998,
          64.3163
         ],
         "y": [
          -19.854300000000002,
          103.8543
         ],
         "z": [
          [
           -33.5,
           -33.5
          ],
          [
           -33.5,
           -33.5
          ]
         ]
        },
        {
         "colorscale": [
          [
           0,
           "rgb(255,255,255)"
          ],
          [
           0.125,
           "rgb(240,240,240)"
          ],
          [
           0.25,
           "rgb(217,217,217)"
          ],
          [
           0.375,
           "rgb(189,189,189)"
          ],
          [
           0.5,
           "rgb(150,150,150)"
          ],
          [
           0.625,
           "rgb(115,115,115)"
          ],
          [
           0.75,
           "rgb(82,82,82)"
          ],
          [
           0.875,
           "rgb(37,37,37)"
          ],
          [
           1,
           "rgb(0,0,0)"
          ]
         ],
         "opacity": 0.3,
         "showscale": false,
         "type": "surface",
         "x": [
          -64.3163,
          -2.683699999999998
         ],
         "y": [
          -19.854300000000002,
          103.8543
         ],
         "z": [
          [
           -33.5,
           -33.5
          ],
          [
           -33.5,
           -33.5
          ]
         ]
        },
        {
         "colorscale": [
          [
           0,
           "rgb(255,255,255)"
          ],
          [
           0.125,
           "rgb(240,240,240)"
          ],
          [
           0.25,
           "rgb(217,217,217)"
          ],
          [
           0.375,
           "rgb(189,189,189)"
          ],
          [
           0.5,
           "rgb(150,150,150)"
          ],
          [
           0.625,
           "rgb(115,115,115)"
          ],
          [
           0.75,
           "rgb(82,82,82)"
          ],
          [
           0.875,
           "rgb(37,37,37)"
          ],
          [
           1,
           "rgb(0,0,0)"
          ]
         ],
         "opacity": 0.3,
         "showscale": false,
         "type": "surface",
         "x": [
          2.683699999999998,
          64.3163
         ],
         "y": [
          -19.854300000000002,
          103.8543
         ],
         "z": [
          [
           33.5,
           33.5
          ],
          [
           33.5,
           33.5
          ]
         ]
        },
        {
         "colorscale": [
          [
           0,
           "rgb(255,255,255)"
          ],
          [
           0.125,
           "rgb(240,240,240)"
          ],
          [
           0.25,
           "rgb(217,217,217)"
          ],
          [
           0.375,
           "rgb(189,189,189)"
          ],
          [
           0.5,
           "rgb(150,150,150)"
          ],
          [
           0.625,
           "rgb(115,115,115)"
          ],
          [
           0.75,
           "rgb(82,82,82)"
          ],
          [
           0.875,
           "rgb(37,37,37)"
          ],
          [
           1,
           "rgb(0,0,0)"
          ]
         ],
         "opacity": 0.3,
         "showscale": false,
         "type": "surface",
         "x": [
          -64.3163,
          -2.683699999999998
         ],
         "y": [
          -19.854300000000002,
          103.8543
         ],
         "z": [
          [
           33.5,
           33.5
          ],
          [
           33.5,
           33.5
          ]
         ]
        },
        {
         "colorscale": [
          [
           0,
           "rgb(255,255,255)"
          ],
          [
           0.125,
           "rgb(240,240,240)"
          ],
          [
           0.25,
           "rgb(217,217,217)"
          ],
          [
           0.375,
           "rgb(189,189,189)"
          ],
          [
           0.5,
           "rgb(150,150,150)"
          ],
          [
           0.625,
           "rgb(115,115,115)"
          ],
          [
           0.75,
           "rgb(82,82,82)"
          ],
          [
           0.875,
           "rgb(37,37,37)"
          ],
          [
           1,
           "rgb(0,0,0)"
          ]
         ],
         "opacity": 0.3,
         "showscale": false,
         "type": "surface",
         "x": [
          2.683699999999998,
          64.3163
         ],
         "y": [
          -19.854300000000002,
          103.8543
         ],
         "z": [
          [
           -33.5,
           -33.5
          ],
          [
           -33.5,
           -33.5
          ]
         ]
        },
        {
         "colorscale": [
          [
           0,
           "rgb(255,255,255)"
          ],
          [
           0.125,
           "rgb(240,240,240)"
          ],
          [
           0.25,
           "rgb(217,217,217)"
          ],
          [
           0.375,
           "rgb(189,189,189)"
          ],
          [
           0.5,
           "rgb(150,150,150)"
          ],
          [
           0.625,
           "rgb(115,115,115)"
          ],
          [
           0.75,
           "rgb(82,82,82)"
          ],
          [
           0.875,
           "rgb(37,37,37)"
          ],
          [
           1,
           "rgb(0,0,0)"
          ]
         ],
         "opacity": 0.3,
         "showscale": false,
         "type": "surface",
         "x": [
          -64.3163,
          -2.683699999999998
         ],
         "y": [
          -19.854300000000002,
          103.8543
         ],
         "z": [
          [
           -33.5,
           -33.5
          ],
          [
           -33.5,
           -33.5
          ]
         ]
        },
        {
         "colorscale": [
          [
           0,
           "rgb(255,255,255)"
          ],
          [
           0.125,
           "rgb(240,240,240)"
          ],
          [
           0.25,
           "rgb(217,217,217)"
          ],
          [
           0.375,
           "rgb(189,189,189)"
          ],
          [
           0.5,
           "rgb(150,150,150)"
          ],
          [
           0.625,
           "rgb(115,115,115)"
          ],
          [
           0.75,
           "rgb(82,82,82)"
          ],
          [
           0.875,
           "rgb(37,37,37)"
          ],
          [
           1,
           "rgb(0,0,0)"
          ]
         ],
         "opacity": 0.3,
         "showscale": false,
         "type": "surface",
         "x": [
          2.683699999999998,
          64.3163
         ],
         "y": [
          -19.854300000000002,
          103.8543
         ],
         "z": [
          [
           33.5,
           33.5
          ],
          [
           33.5,
           33.5
          ]
         ]
        },
        {
         "colorscale": [
          [
           0,
           "rgb(255,255,255)"
          ],
          [
           0.125,
           "rgb(240,240,240)"
          ],
          [
           0.25,
           "rgb(217,217,217)"
          ],
          [
           0.375,
           "rgb(189,189,189)"
          ],
          [
           0.5,
           "rgb(150,150,150)"
          ],
          [
           0.625,
           "rgb(115,115,115)"
          ],
          [
           0.75,
           "rgb(82,82,82)"
          ],
          [
           0.875,
           "rgb(37,37,37)"
          ],
          [
           1,
           "rgb(0,0,0)"
          ]
         ],
         "opacity": 0.3,
         "showscale": false,
         "type": "surface",
         "x": [
          -64.3163,
          -2.683699999999998
         ],
         "y": [
          -19.854300000000002,
          103.8543
         ],
         "z": [
          [
           33.5,
           33.5
          ],
          [
           33.5,
           33.5
          ]
         ]
        },
        {
         "colorscale": [
          [
           0,
           "rgb(255,255,255)"
          ],
          [
           0.125,
           "rgb(240,240,240)"
          ],
          [
           0.25,
           "rgb(217,217,217)"
          ],
          [
           0.375,
           "rgb(189,189,189)"
          ],
          [
           0.5,
           "rgb(150,150,150)"
          ],
          [
           0.625,
           "rgb(115,115,115)"
          ],
          [
           0.75,
           "rgb(82,82,82)"
          ],
          [
           0.875,
           "rgb(37,37,37)"
          ],
          [
           1,
           "rgb(0,0,0)"
          ]
         ],
         "opacity": 0.3,
         "showscale": false,
         "type": "surface",
         "x": [
          2.683699999999998,
          64.3163
         ],
         "y": [
          -19.854300000000002,
          103.8543
         ],
         "z": [
          [
           -33.5,
           -33.5
          ],
          [
           -33.5,
           -33.5
          ]
         ]
        },
        {
         "colorscale": [
          [
           0,
           "rgb(255,255,255)"
          ],
          [
           0.125,
           "rgb(240,240,240)"
          ],
          [
           0.25,
           "rgb(217,217,217)"
          ],
          [
           0.375,
           "rgb(189,189,189)"
          ],
          [
           0.5,
           "rgb(150,150,150)"
          ],
          [
           0.625,
           "rgb(115,115,115)"
          ],
          [
           0.75,
           "rgb(82,82,82)"
          ],
          [
           0.875,
           "rgb(37,37,37)"
          ],
          [
           1,
           "rgb(0,0,0)"
          ]
         ],
         "opacity": 0.3,
         "showscale": false,
         "type": "surface",
         "x": [
          -64.3163,
          -2.683699999999998
         ],
         "y": [
          -19.854300000000002,
          103.8543
         ],
         "z": [
          [
           -33.5,
           -33.5
          ],
          [
           -33.5,
           -33.5
          ]
         ]
        },
        {
         "colorscale": [
          [
           0,
           "rgb(3, 5, 18)"
          ],
          [
           0.09090909090909091,
           "rgb(25, 25, 51)"
          ],
          [
           0.18181818181818182,
           "rgb(44, 42, 87)"
          ],
          [
           0.2727272727272727,
           "rgb(58, 60, 125)"
          ],
          [
           0.36363636363636365,
           "rgb(62, 83, 160)"
          ],
          [
           0.45454545454545453,
           "rgb(62, 109, 178)"
          ],
          [
           0.5454545454545454,
           "rgb(72, 134, 187)"
          ],
          [
           0.6363636363636364,
           "rgb(89, 159, 196)"
          ],
          [
           0.7272727272727273,
           "rgb(114, 184, 205)"
          ],
          [
           0.8181818181818182,
           "rgb(149, 207, 216)"
          ],
          [
           0.9090909090909091,
           "rgb(192, 229, 232)"
          ],
          [
           1,
           "rgb(234, 252, 253)"
          ]
         ],
         "opacity": 0.1,
         "showscale": false,
         "type": "surface",
         "x": [
          2.683699999999998,
          64.3163
         ],
         "y": [
          -19.854300000000002,
          103.8543
         ],
         "z": [
          [
           3.068999999999999,
           3.068999999999999
          ],
          [
           3.068999999999999,
           3.068999999999999
          ]
         ]
        },
        {
         "colorscale": [
          [
           0,
           "rgb(3, 5, 18)"
          ],
          [
           0.09090909090909091,
           "rgb(25, 25, 51)"
          ],
          [
           0.18181818181818182,
           "rgb(44, 42, 87)"
          ],
          [
           0.2727272727272727,
           "rgb(58, 60, 125)"
          ],
          [
           0.36363636363636365,
           "rgb(62, 83, 160)"
          ],
          [
           0.45454545454545453,
           "rgb(62, 109, 178)"
          ],
          [
           0.5454545454545454,
           "rgb(72, 134, 187)"
          ],
          [
           0.6363636363636364,
           "rgb(89, 159, 196)"
          ],
          [
           0.7272727272727273,
           "rgb(114, 184, 205)"
          ],
          [
           0.8181818181818182,
           "rgb(149, 207, 216)"
          ],
          [
           0.9090909090909091,
           "rgb(192, 229, 232)"
          ],
          [
           1,
           "rgb(234, 252, 253)"
          ]
         ],
         "opacity": 0.1,
         "showscale": false,
         "type": "surface",
         "x": [
          2.683699999999998,
          64.3163
         ],
         "y": [
          -19.854300000000002,
          103.8543
         ],
         "z": [
          [
           63.931,
           63.931
          ],
          [
           63.931,
           63.931
          ]
         ]
        },
        {
         "colorscale": [
          [
           0,
           "rgb(3, 5, 18)"
          ],
          [
           0.09090909090909091,
           "rgb(25, 25, 51)"
          ],
          [
           0.18181818181818182,
           "rgb(44, 42, 87)"
          ],
          [
           0.2727272727272727,
           "rgb(58, 60, 125)"
          ],
          [
           0.36363636363636365,
           "rgb(62, 83, 160)"
          ],
          [
           0.45454545454545453,
           "rgb(62, 109, 178)"
          ],
          [
           0.5454545454545454,
           "rgb(72, 134, 187)"
          ],
          [
           0.6363636363636364,
           "rgb(89, 159, 196)"
          ],
          [
           0.7272727272727273,
           "rgb(114, 184, 205)"
          ],
          [
           0.8181818181818182,
           "rgb(149, 207, 216)"
          ],
          [
           0.9090909090909091,
           "rgb(192, 229, 232)"
          ],
          [
           1,
           "rgb(234, 252, 253)"
          ]
         ],
         "opacity": 0.1,
         "showscale": false,
         "type": "surface",
         "x": [
          -64.3163,
          -2.683699999999998
         ],
         "y": [
          -19.854300000000002,
          103.8543
         ],
         "z": [
          [
           3.068999999999999,
           3.068999999999999
          ],
          [
           3.068999999999999,
           3.068999999999999
          ]
         ]
        },
        {
         "colorscale": [
          [
           0,
           "rgb(3, 5, 18)"
          ],
          [
           0.09090909090909091,
           "rgb(25, 25, 51)"
          ],
          [
           0.18181818181818182,
           "rgb(44, 42, 87)"
          ],
          [
           0.2727272727272727,
           "rgb(58, 60, 125)"
          ],
          [
           0.36363636363636365,
           "rgb(62, 83, 160)"
          ],
          [
           0.45454545454545453,
           "rgb(62, 109, 178)"
          ],
          [
           0.5454545454545454,
           "rgb(72, 134, 187)"
          ],
          [
           0.6363636363636364,
           "rgb(89, 159, 196)"
          ],
          [
           0.7272727272727273,
           "rgb(114, 184, 205)"
          ],
          [
           0.8181818181818182,
           "rgb(149, 207, 216)"
          ],
          [
           0.9090909090909091,
           "rgb(192, 229, 232)"
          ],
          [
           1,
           "rgb(234, 252, 253)"
          ]
         ],
         "opacity": 0.1,
         "showscale": false,
         "type": "surface",
         "x": [
          -64.3163,
          -2.683699999999998
         ],
         "y": [
          -19.854300000000002,
          103.8543
         ],
         "z": [
          [
           63.931,
           63.931
          ],
          [
           63.931,
           63.931
          ]
         ]
        },
        {
         "colorscale": [
          [
           0,
           "rgb(3, 5, 18)"
          ],
          [
           0.09090909090909091,
           "rgb(25, 25, 51)"
          ],
          [
           0.18181818181818182,
           "rgb(44, 42, 87)"
          ],
          [
           0.2727272727272727,
           "rgb(58, 60, 125)"
          ],
          [
           0.36363636363636365,
           "rgb(62, 83, 160)"
          ],
          [
           0.45454545454545453,
           "rgb(62, 109, 178)"
          ],
          [
           0.5454545454545454,
           "rgb(72, 134, 187)"
          ],
          [
           0.6363636363636364,
           "rgb(89, 159, 196)"
          ],
          [
           0.7272727272727273,
           "rgb(114, 184, 205)"
          ],
          [
           0.8181818181818182,
           "rgb(149, 207, 216)"
          ],
          [
           0.9090909090909091,
           "rgb(192, 229, 232)"
          ],
          [
           1,
           "rgb(234, 252, 253)"
          ]
         ],
         "opacity": 0.1,
         "showscale": false,
         "type": "surface",
         "x": [
          2.683699999999998,
          64.3163
         ],
         "y": [
          -19.854300000000002,
          103.8543
         ],
         "z": [
          [
           -63.931,
           -63.931
          ],
          [
           -63.931,
           -63.931
          ]
         ]
        },
        {
         "colorscale": [
          [
           0,
           "rgb(3, 5, 18)"
          ],
          [
           0.09090909090909091,
           "rgb(25, 25, 51)"
          ],
          [
           0.18181818181818182,
           "rgb(44, 42, 87)"
          ],
          [
           0.2727272727272727,
           "rgb(58, 60, 125)"
          ],
          [
           0.36363636363636365,
           "rgb(62, 83, 160)"
          ],
          [
           0.45454545454545453,
           "rgb(62, 109, 178)"
          ],
          [
           0.5454545454545454,
           "rgb(72, 134, 187)"
          ],
          [
           0.6363636363636364,
           "rgb(89, 159, 196)"
          ],
          [
           0.7272727272727273,
           "rgb(114, 184, 205)"
          ],
          [
           0.8181818181818182,
           "rgb(149, 207, 216)"
          ],
          [
           0.9090909090909091,
           "rgb(192, 229, 232)"
          ],
          [
           1,
           "rgb(234, 252, 253)"
          ]
         ],
         "opacity": 0.1,
         "showscale": false,
         "type": "surface",
         "x": [
          2.683699999999998,
          64.3163
         ],
         "y": [
          -19.854300000000002,
          103.8543
         ],
         "z": [
          [
           -3.068999999999999,
           -3.068999999999999
          ],
          [
           -3.068999999999999,
           -3.068999999999999
          ]
         ]
        },
        {
         "colorscale": [
          [
           0,
           "rgb(3, 5, 18)"
          ],
          [
           0.09090909090909091,
           "rgb(25, 25, 51)"
          ],
          [
           0.18181818181818182,
           "rgb(44, 42, 87)"
          ],
          [
           0.2727272727272727,
           "rgb(58, 60, 125)"
          ],
          [
           0.36363636363636365,
           "rgb(62, 83, 160)"
          ],
          [
           0.45454545454545453,
           "rgb(62, 109, 178)"
          ],
          [
           0.5454545454545454,
           "rgb(72, 134, 187)"
          ],
          [
           0.6363636363636364,
           "rgb(89, 159, 196)"
          ],
          [
           0.7272727272727273,
           "rgb(114, 184, 205)"
          ],
          [
           0.8181818181818182,
           "rgb(149, 207, 216)"
          ],
          [
           0.9090909090909091,
           "rgb(192, 229, 232)"
          ],
          [
           1,
           "rgb(234, 252, 253)"
          ]
         ],
         "opacity": 0.1,
         "showscale": false,
         "type": "surface",
         "x": [
          -64.3163,
          -2.683699999999998
         ],
         "y": [
          -19.854300000000002,
          103.8543
         ],
         "z": [
          [
           -63.931,
           -63.931
          ],
          [
           -63.931,
           -63.931
          ]
         ]
        },
        {
         "colorscale": [
          [
           0,
           "rgb(3, 5, 18)"
          ],
          [
           0.09090909090909091,
           "rgb(25, 25, 51)"
          ],
          [
           0.18181818181818182,
           "rgb(44, 42, 87)"
          ],
          [
           0.2727272727272727,
           "rgb(58, 60, 125)"
          ],
          [
           0.36363636363636365,
           "rgb(62, 83, 160)"
          ],
          [
           0.45454545454545453,
           "rgb(62, 109, 178)"
          ],
          [
           0.5454545454545454,
           "rgb(72, 134, 187)"
          ],
          [
           0.6363636363636364,
           "rgb(89, 159, 196)"
          ],
          [
           0.7272727272727273,
           "rgb(114, 184, 205)"
          ],
          [
           0.8181818181818182,
           "rgb(149, 207, 216)"
          ],
          [
           0.9090909090909091,
           "rgb(192, 229, 232)"
          ],
          [
           1,
           "rgb(234, 252, 253)"
          ]
         ],
         "opacity": 0.1,
         "showscale": false,
         "type": "surface",
         "x": [
          -64.3163,
          -2.683699999999998
         ],
         "y": [
          -19.854300000000002,
          103.8543
         ],
         "z": [
          [
           -3.068999999999999,
           -3.068999999999999
          ],
          [
           -3.068999999999999,
           -3.068999999999999
          ]
         ]
        },
        {
         "colorscale": [
          [
           0,
           "rgb(3, 5, 18)"
          ],
          [
           0.09090909090909091,
           "rgb(25, 25, 51)"
          ],
          [
           0.18181818181818182,
           "rgb(44, 42, 87)"
          ],
          [
           0.2727272727272727,
           "rgb(58, 60, 125)"
          ],
          [
           0.36363636363636365,
           "rgb(62, 83, 160)"
          ],
          [
           0.45454545454545453,
           "rgb(62, 109, 178)"
          ],
          [
           0.5454545454545454,
           "rgb(72, 134, 187)"
          ],
          [
           0.6363636363636364,
           "rgb(89, 159, 196)"
          ],
          [
           0.7272727272727273,
           "rgb(114, 184, 205)"
          ],
          [
           0.8181818181818182,
           "rgb(149, 207, 216)"
          ],
          [
           0.9090909090909091,
           "rgb(192, 229, 232)"
          ],
          [
           1,
           "rgb(234, 252, 253)"
          ]
         ],
         "opacity": 0.1,
         "showscale": false,
         "type": "surface",
         "x": [
          2.683699999999998,
          64.3163
         ],
         "y": [
          -19.854300000000002,
          103.8543
         ],
         "z": [
          [
           3.068999999999999,
           3.068999999999999
          ],
          [
           3.068999999999999,
           3.068999999999999
          ]
         ]
        },
        {
         "colorscale": [
          [
           0,
           "rgb(3, 5, 18)"
          ],
          [
           0.09090909090909091,
           "rgb(25, 25, 51)"
          ],
          [
           0.18181818181818182,
           "rgb(44, 42, 87)"
          ],
          [
           0.2727272727272727,
           "rgb(58, 60, 125)"
          ],
          [
           0.36363636363636365,
           "rgb(62, 83, 160)"
          ],
          [
           0.45454545454545453,
           "rgb(62, 109, 178)"
          ],
          [
           0.5454545454545454,
           "rgb(72, 134, 187)"
          ],
          [
           0.6363636363636364,
           "rgb(89, 159, 196)"
          ],
          [
           0.7272727272727273,
           "rgb(114, 184, 205)"
          ],
          [
           0.8181818181818182,
           "rgb(149, 207, 216)"
          ],
          [
           0.9090909090909091,
           "rgb(192, 229, 232)"
          ],
          [
           1,
           "rgb(234, 252, 253)"
          ]
         ],
         "opacity": 0.1,
         "showscale": false,
         "type": "surface",
         "x": [
          2.683699999999998,
          64.3163
         ],
         "y": [
          -19.854300000000002,
          103.8543
         ],
         "z": [
          [
           63.931,
           63.931
          ],
          [
           63.931,
           63.931
          ]
         ]
        },
        {
         "colorscale": [
          [
           0,
           "rgb(3, 5, 18)"
          ],
          [
           0.09090909090909091,
           "rgb(25, 25, 51)"
          ],
          [
           0.18181818181818182,
           "rgb(44, 42, 87)"
          ],
          [
           0.2727272727272727,
           "rgb(58, 60, 125)"
          ],
          [
           0.36363636363636365,
           "rgb(62, 83, 160)"
          ],
          [
           0.45454545454545453,
           "rgb(62, 109, 178)"
          ],
          [
           0.5454545454545454,
           "rgb(72, 134, 187)"
          ],
          [
           0.6363636363636364,
           "rgb(89, 159, 196)"
          ],
          [
           0.7272727272727273,
           "rgb(114, 184, 205)"
          ],
          [
           0.8181818181818182,
           "rgb(149, 207, 216)"
          ],
          [
           0.9090909090909091,
           "rgb(192, 229, 232)"
          ],
          [
           1,
           "rgb(234, 252, 253)"
          ]
         ],
         "opacity": 0.1,
         "showscale": false,
         "type": "surface",
         "x": [
          -64.3163,
          -2.683699999999998
         ],
         "y": [
          -19.854300000000002,
          103.8543
         ],
         "z": [
          [
           3.068999999999999,
           3.068999999999999
          ],
          [
           3.068999999999999,
           3.068999999999999
          ]
         ]
        },
        {
         "colorscale": [
          [
           0,
           "rgb(3, 5, 18)"
          ],
          [
           0.09090909090909091,
           "rgb(25, 25, 51)"
          ],
          [
           0.18181818181818182,
           "rgb(44, 42, 87)"
          ],
          [
           0.2727272727272727,
           "rgb(58, 60, 125)"
          ],
          [
           0.36363636363636365,
           "rgb(62, 83, 160)"
          ],
          [
           0.45454545454545453,
           "rgb(62, 109, 178)"
          ],
          [
           0.5454545454545454,
           "rgb(72, 134, 187)"
          ],
          [
           0.6363636363636364,
           "rgb(89, 159, 196)"
          ],
          [
           0.7272727272727273,
           "rgb(114, 184, 205)"
          ],
          [
           0.8181818181818182,
           "rgb(149, 207, 216)"
          ],
          [
           0.9090909090909091,
           "rgb(192, 229, 232)"
          ],
          [
           1,
           "rgb(234, 252, 253)"
          ]
         ],
         "opacity": 0.1,
         "showscale": false,
         "type": "surface",
         "x": [
          -64.3163,
          -2.683699999999998
         ],
         "y": [
          -19.854300000000002,
          103.8543
         ],
         "z": [
          [
           63.931,
           63.931
          ],
          [
           63.931,
           63.931
          ]
         ]
        },
        {
         "colorscale": [
          [
           0,
           "rgb(3, 5, 18)"
          ],
          [
           0.09090909090909091,
           "rgb(25, 25, 51)"
          ],
          [
           0.18181818181818182,
           "rgb(44, 42, 87)"
          ],
          [
           0.2727272727272727,
           "rgb(58, 60, 125)"
          ],
          [
           0.36363636363636365,
           "rgb(62, 83, 160)"
          ],
          [
           0.45454545454545453,
           "rgb(62, 109, 178)"
          ],
          [
           0.5454545454545454,
           "rgb(72, 134, 187)"
          ],
          [
           0.6363636363636364,
           "rgb(89, 159, 196)"
          ],
          [
           0.7272727272727273,
           "rgb(114, 184, 205)"
          ],
          [
           0.8181818181818182,
           "rgb(149, 207, 216)"
          ],
          [
           0.9090909090909091,
           "rgb(192, 229, 232)"
          ],
          [
           1,
           "rgb(234, 252, 253)"
          ]
         ],
         "opacity": 0.1,
         "showscale": false,
         "type": "surface",
         "x": [
          2.683699999999998,
          64.3163
         ],
         "y": [
          -19.854300000000002,
          103.8543
         ],
         "z": [
          [
           -63.931,
           -63.931
          ],
          [
           -63.931,
           -63.931
          ]
         ]
        },
        {
         "colorscale": [
          [
           0,
           "rgb(3, 5, 18)"
          ],
          [
           0.09090909090909091,
           "rgb(25, 25, 51)"
          ],
          [
           0.18181818181818182,
           "rgb(44, 42, 87)"
          ],
          [
           0.2727272727272727,
           "rgb(58, 60, 125)"
          ],
          [
           0.36363636363636365,
           "rgb(62, 83, 160)"
          ],
          [
           0.45454545454545453,
           "rgb(62, 109, 178)"
          ],
          [
           0.5454545454545454,
           "rgb(72, 134, 187)"
          ],
          [
           0.6363636363636364,
           "rgb(89, 159, 196)"
          ],
          [
           0.7272727272727273,
           "rgb(114, 184, 205)"
          ],
          [
           0.8181818181818182,
           "rgb(149, 207, 216)"
          ],
          [
           0.9090909090909091,
           "rgb(192, 229, 232)"
          ],
          [
           1,
           "rgb(234, 252, 253)"
          ]
         ],
         "opacity": 0.1,
         "showscale": false,
         "type": "surface",
         "x": [
          2.683699999999998,
          64.3163
         ],
         "y": [
          -19.854300000000002,
          103.8543
         ],
         "z": [
          [
           -3.068999999999999,
           -3.068999999999999
          ],
          [
           -3.068999999999999,
           -3.068999999999999
          ]
         ]
        },
        {
         "colorscale": [
          [
           0,
           "rgb(3, 5, 18)"
          ],
          [
           0.09090909090909091,
           "rgb(25, 25, 51)"
          ],
          [
           0.18181818181818182,
           "rgb(44, 42, 87)"
          ],
          [
           0.2727272727272727,
           "rgb(58, 60, 125)"
          ],
          [
           0.36363636363636365,
           "rgb(62, 83, 160)"
          ],
          [
           0.45454545454545453,
           "rgb(62, 109, 178)"
          ],
          [
           0.5454545454545454,
           "rgb(72, 134, 187)"
          ],
          [
           0.6363636363636364,
           "rgb(89, 159, 196)"
          ],
          [
           0.7272727272727273,
           "rgb(114, 184, 205)"
          ],
          [
           0.8181818181818182,
           "rgb(149, 207, 216)"
          ],
          [
           0.9090909090909091,
           "rgb(192, 229, 232)"
          ],
          [
           1,
           "rgb(234, 252, 253)"
          ]
         ],
         "opacity": 0.1,
         "showscale": false,
         "type": "surface",
         "x": [
          -64.3163,
          -2.683699999999998
         ],
         "y": [
          -19.854300000000002,
          103.8543
         ],
         "z": [
          [
           -63.931,
           -63.931
          ],
          [
           -63.931,
           -63.931
          ]
         ]
        },
        {
         "colorscale": [
          [
           0,
           "rgb(3, 5, 18)"
          ],
          [
           0.09090909090909091,
           "rgb(25, 25, 51)"
          ],
          [
           0.18181818181818182,
           "rgb(44, 42, 87)"
          ],
          [
           0.2727272727272727,
           "rgb(58, 60, 125)"
          ],
          [
           0.36363636363636365,
           "rgb(62, 83, 160)"
          ],
          [
           0.45454545454545453,
           "rgb(62, 109, 178)"
          ],
          [
           0.5454545454545454,
           "rgb(72, 134, 187)"
          ],
          [
           0.6363636363636364,
           "rgb(89, 159, 196)"
          ],
          [
           0.7272727272727273,
           "rgb(114, 184, 205)"
          ],
          [
           0.8181818181818182,
           "rgb(149, 207, 216)"
          ],
          [
           0.9090909090909091,
           "rgb(192, 229, 232)"
          ],
          [
           1,
           "rgb(234, 252, 253)"
          ]
         ],
         "opacity": 0.1,
         "showscale": false,
         "type": "surface",
         "x": [
          -64.3163,
          -2.683699999999998
         ],
         "y": [
          -19.854300000000002,
          103.8543
         ],
         "z": [
          [
           -3.068999999999999,
           -3.068999999999999
          ],
          [
           -3.068999999999999,
           -3.068999999999999
          ]
         ]
        },
        {
         "colorscale": [
          [
           0,
           "rgb(3, 5, 18)"
          ],
          [
           0.09090909090909091,
           "rgb(25, 25, 51)"
          ],
          [
           0.18181818181818182,
           "rgb(44, 42, 87)"
          ],
          [
           0.2727272727272727,
           "rgb(58, 60, 125)"
          ],
          [
           0.36363636363636365,
           "rgb(62, 83, 160)"
          ],
          [
           0.45454545454545453,
           "rgb(62, 109, 178)"
          ],
          [
           0.5454545454545454,
           "rgb(72, 134, 187)"
          ],
          [
           0.6363636363636364,
           "rgb(89, 159, 196)"
          ],
          [
           0.7272727272727273,
           "rgb(114, 184, 205)"
          ],
          [
           0.8181818181818182,
           "rgb(149, 207, 216)"
          ],
          [
           0.9090909090909091,
           "rgb(192, 229, 232)"
          ],
          [
           1,
           "rgb(234, 252, 253)"
          ]
         ],
         "opacity": 0.1,
         "showscale": false,
         "type": "surface",
         "x": [
          2.683699999999998,
          64.3163
         ],
         "y": [
          -19.854300000000002,
          103.8543
         ],
         "z": [
          [
           3.068999999999999,
           3.068999999999999
          ],
          [
           3.068999999999999,
           3.068999999999999
          ]
         ]
        },
        {
         "colorscale": [
          [
           0,
           "rgb(3, 5, 18)"
          ],
          [
           0.09090909090909091,
           "rgb(25, 25, 51)"
          ],
          [
           0.18181818181818182,
           "rgb(44, 42, 87)"
          ],
          [
           0.2727272727272727,
           "rgb(58, 60, 125)"
          ],
          [
           0.36363636363636365,
           "rgb(62, 83, 160)"
          ],
          [
           0.45454545454545453,
           "rgb(62, 109, 178)"
          ],
          [
           0.5454545454545454,
           "rgb(72, 134, 187)"
          ],
          [
           0.6363636363636364,
           "rgb(89, 159, 196)"
          ],
          [
           0.7272727272727273,
           "rgb(114, 184, 205)"
          ],
          [
           0.8181818181818182,
           "rgb(149, 207, 216)"
          ],
          [
           0.9090909090909091,
           "rgb(192, 229, 232)"
          ],
          [
           1,
           "rgb(234, 252, 253)"
          ]
         ],
         "opacity": 0.1,
         "showscale": false,
         "type": "surface",
         "x": [
          2.683699999999998,
          64.3163
         ],
         "y": [
          -19.854300000000002,
          103.8543
         ],
         "z": [
          [
           63.931,
           63.931
          ],
          [
           63.931,
           63.931
          ]
         ]
        },
        {
         "colorscale": [
          [
           0,
           "rgb(3, 5, 18)"
          ],
          [
           0.09090909090909091,
           "rgb(25, 25, 51)"
          ],
          [
           0.18181818181818182,
           "rgb(44, 42, 87)"
          ],
          [
           0.2727272727272727,
           "rgb(58, 60, 125)"
          ],
          [
           0.36363636363636365,
           "rgb(62, 83, 160)"
          ],
          [
           0.45454545454545453,
           "rgb(62, 109, 178)"
          ],
          [
           0.5454545454545454,
           "rgb(72, 134, 187)"
          ],
          [
           0.6363636363636364,
           "rgb(89, 159, 196)"
          ],
          [
           0.7272727272727273,
           "rgb(114, 184, 205)"
          ],
          [
           0.8181818181818182,
           "rgb(149, 207, 216)"
          ],
          [
           0.9090909090909091,
           "rgb(192, 229, 232)"
          ],
          [
           1,
           "rgb(234, 252, 253)"
          ]
         ],
         "opacity": 0.1,
         "showscale": false,
         "type": "surface",
         "x": [
          -64.3163,
          -2.683699999999998
         ],
         "y": [
          -19.854300000000002,
          103.8543
         ],
         "z": [
          [
           3.068999999999999,
           3.068999999999999
          ],
          [
           3.068999999999999,
           3.068999999999999
          ]
         ]
        },
        {
         "colorscale": [
          [
           0,
           "rgb(3, 5, 18)"
          ],
          [
           0.09090909090909091,
           "rgb(25, 25, 51)"
          ],
          [
           0.18181818181818182,
           "rgb(44, 42, 87)"
          ],
          [
           0.2727272727272727,
           "rgb(58, 60, 125)"
          ],
          [
           0.36363636363636365,
           "rgb(62, 83, 160)"
          ],
          [
           0.45454545454545453,
           "rgb(62, 109, 178)"
          ],
          [
           0.5454545454545454,
           "rgb(72, 134, 187)"
          ],
          [
           0.6363636363636364,
           "rgb(89, 159, 196)"
          ],
          [
           0.7272727272727273,
           "rgb(114, 184, 205)"
          ],
          [
           0.8181818181818182,
           "rgb(149, 207, 216)"
          ],
          [
           0.9090909090909091,
           "rgb(192, 229, 232)"
          ],
          [
           1,
           "rgb(234, 252, 253)"
          ]
         ],
         "opacity": 0.1,
         "showscale": false,
         "type": "surface",
         "x": [
          -64.3163,
          -2.683699999999998
         ],
         "y": [
          -19.854300000000002,
          103.8543
         ],
         "z": [
          [
           63.931,
           63.931
          ],
          [
           63.931,
           63.931
          ]
         ]
        },
        {
         "colorscale": [
          [
           0,
           "rgb(3, 5, 18)"
          ],
          [
           0.09090909090909091,
           "rgb(25, 25, 51)"
          ],
          [
           0.18181818181818182,
           "rgb(44, 42, 87)"
          ],
          [
           0.2727272727272727,
           "rgb(58, 60, 125)"
          ],
          [
           0.36363636363636365,
           "rgb(62, 83, 160)"
          ],
          [
           0.45454545454545453,
           "rgb(62, 109, 178)"
          ],
          [
           0.5454545454545454,
           "rgb(72, 134, 187)"
          ],
          [
           0.6363636363636364,
           "rgb(89, 159, 196)"
          ],
          [
           0.7272727272727273,
           "rgb(114, 184, 205)"
          ],
          [
           0.8181818181818182,
           "rgb(149, 207, 216)"
          ],
          [
           0.9090909090909091,
           "rgb(192, 229, 232)"
          ],
          [
           1,
           "rgb(234, 252, 253)"
          ]
         ],
         "opacity": 0.1,
         "showscale": false,
         "type": "surface",
         "x": [
          2.683699999999998,
          64.3163
         ],
         "y": [
          -19.854300000000002,
          103.8543
         ],
         "z": [
          [
           -63.931,
           -63.931
          ],
          [
           -63.931,
           -63.931
          ]
         ]
        },
        {
         "colorscale": [
          [
           0,
           "rgb(3, 5, 18)"
          ],
          [
           0.09090909090909091,
           "rgb(25, 25, 51)"
          ],
          [
           0.18181818181818182,
           "rgb(44, 42, 87)"
          ],
          [
           0.2727272727272727,
           "rgb(58, 60, 125)"
          ],
          [
           0.36363636363636365,
           "rgb(62, 83, 160)"
          ],
          [
           0.45454545454545453,
           "rgb(62, 109, 178)"
          ],
          [
           0.5454545454545454,
           "rgb(72, 134, 187)"
          ],
          [
           0.6363636363636364,
           "rgb(89, 159, 196)"
          ],
          [
           0.7272727272727273,
           "rgb(114, 184, 205)"
          ],
          [
           0.8181818181818182,
           "rgb(149, 207, 216)"
          ],
          [
           0.9090909090909091,
           "rgb(192, 229, 232)"
          ],
          [
           1,
           "rgb(234, 252, 253)"
          ]
         ],
         "opacity": 0.1,
         "showscale": false,
         "type": "surface",
         "x": [
          2.683699999999998,
          64.3163
         ],
         "y": [
          -19.854300000000002,
          103.8543
         ],
         "z": [
          [
           -3.068999999999999,
           -3.068999999999999
          ],
          [
           -3.068999999999999,
           -3.068999999999999
          ]
         ]
        },
        {
         "colorscale": [
          [
           0,
           "rgb(3, 5, 18)"
          ],
          [
           0.09090909090909091,
           "rgb(25, 25, 51)"
          ],
          [
           0.18181818181818182,
           "rgb(44, 42, 87)"
          ],
          [
           0.2727272727272727,
           "rgb(58, 60, 125)"
          ],
          [
           0.36363636363636365,
           "rgb(62, 83, 160)"
          ],
          [
           0.45454545454545453,
           "rgb(62, 109, 178)"
          ],
          [
           0.5454545454545454,
           "rgb(72, 134, 187)"
          ],
          [
           0.6363636363636364,
           "rgb(89, 159, 196)"
          ],
          [
           0.7272727272727273,
           "rgb(114, 184, 205)"
          ],
          [
           0.8181818181818182,
           "rgb(149, 207, 216)"
          ],
          [
           0.9090909090909091,
           "rgb(192, 229, 232)"
          ],
          [
           1,
           "rgb(234, 252, 253)"
          ]
         ],
         "opacity": 0.1,
         "showscale": false,
         "type": "surface",
         "x": [
          -64.3163,
          -2.683699999999998
         ],
         "y": [
          -19.854300000000002,
          103.8543
         ],
         "z": [
          [
           -63.931,
           -63.931
          ],
          [
           -63.931,
           -63.931
          ]
         ]
        },
        {
         "colorscale": [
          [
           0,
           "rgb(3, 5, 18)"
          ],
          [
           0.09090909090909091,
           "rgb(25, 25, 51)"
          ],
          [
           0.18181818181818182,
           "rgb(44, 42, 87)"
          ],
          [
           0.2727272727272727,
           "rgb(58, 60, 125)"
          ],
          [
           0.36363636363636365,
           "rgb(62, 83, 160)"
          ],
          [
           0.45454545454545453,
           "rgb(62, 109, 178)"
          ],
          [
           0.5454545454545454,
           "rgb(72, 134, 187)"
          ],
          [
           0.6363636363636364,
           "rgb(89, 159, 196)"
          ],
          [
           0.7272727272727273,
           "rgb(114, 184, 205)"
          ],
          [
           0.8181818181818182,
           "rgb(149, 207, 216)"
          ],
          [
           0.9090909090909091,
           "rgb(192, 229, 232)"
          ],
          [
           1,
           "rgb(234, 252, 253)"
          ]
         ],
         "opacity": 0.1,
         "showscale": false,
         "type": "surface",
         "x": [
          -64.3163,
          -2.683699999999998
         ],
         "y": [
          -19.854300000000002,
          103.8543
         ],
         "z": [
          [
           -3.068999999999999,
           -3.068999999999999
          ],
          [
           -3.068999999999999,
           -3.068999999999999
          ]
         ]
        },
        {
         "colorscale": [
          [
           0,
           "rgb(3, 5, 18)"
          ],
          [
           0.09090909090909091,
           "rgb(25, 25, 51)"
          ],
          [
           0.18181818181818182,
           "rgb(44, 42, 87)"
          ],
          [
           0.2727272727272727,
           "rgb(58, 60, 125)"
          ],
          [
           0.36363636363636365,
           "rgb(62, 83, 160)"
          ],
          [
           0.45454545454545453,
           "rgb(62, 109, 178)"
          ],
          [
           0.5454545454545454,
           "rgb(72, 134, 187)"
          ],
          [
           0.6363636363636364,
           "rgb(89, 159, 196)"
          ],
          [
           0.7272727272727273,
           "rgb(114, 184, 205)"
          ],
          [
           0.8181818181818182,
           "rgb(149, 207, 216)"
          ],
          [
           0.9090909090909091,
           "rgb(192, 229, 232)"
          ],
          [
           1,
           "rgb(234, 252, 253)"
          ]
         ],
         "opacity": 0.1,
         "showscale": false,
         "type": "surface",
         "x": [
          2.683699999999998,
          64.3163
         ],
         "y": [
          -19.854300000000002,
          103.8543
         ],
         "z": [
          [
           3.068999999999999,
           3.068999999999999
          ],
          [
           3.068999999999999,
           3.068999999999999
          ]
         ]
        },
        {
         "colorscale": [
          [
           0,
           "rgb(3, 5, 18)"
          ],
          [
           0.09090909090909091,
           "rgb(25, 25, 51)"
          ],
          [
           0.18181818181818182,
           "rgb(44, 42, 87)"
          ],
          [
           0.2727272727272727,
           "rgb(58, 60, 125)"
          ],
          [
           0.36363636363636365,
           "rgb(62, 83, 160)"
          ],
          [
           0.45454545454545453,
           "rgb(62, 109, 178)"
          ],
          [
           0.5454545454545454,
           "rgb(72, 134, 187)"
          ],
          [
           0.6363636363636364,
           "rgb(89, 159, 196)"
          ],
          [
           0.7272727272727273,
           "rgb(114, 184, 205)"
          ],
          [
           0.8181818181818182,
           "rgb(149, 207, 216)"
          ],
          [
           0.9090909090909091,
           "rgb(192, 229, 232)"
          ],
          [
           1,
           "rgb(234, 252, 253)"
          ]
         ],
         "opacity": 0.1,
         "showscale": false,
         "type": "surface",
         "x": [
          2.683699999999998,
          64.3163
         ],
         "y": [
          -19.854300000000002,
          103.8543
         ],
         "z": [
          [
           63.931,
           63.931
          ],
          [
           63.931,
           63.931
          ]
         ]
        },
        {
         "colorscale": [
          [
           0,
           "rgb(3, 5, 18)"
          ],
          [
           0.09090909090909091,
           "rgb(25, 25, 51)"
          ],
          [
           0.18181818181818182,
           "rgb(44, 42, 87)"
          ],
          [
           0.2727272727272727,
           "rgb(58, 60, 125)"
          ],
          [
           0.36363636363636365,
           "rgb(62, 83, 160)"
          ],
          [
           0.45454545454545453,
           "rgb(62, 109, 178)"
          ],
          [
           0.5454545454545454,
           "rgb(72, 134, 187)"
          ],
          [
           0.6363636363636364,
           "rgb(89, 159, 196)"
          ],
          [
           0.7272727272727273,
           "rgb(114, 184, 205)"
          ],
          [
           0.8181818181818182,
           "rgb(149, 207, 216)"
          ],
          [
           0.9090909090909091,
           "rgb(192, 229, 232)"
          ],
          [
           1,
           "rgb(234, 252, 253)"
          ]
         ],
         "opacity": 0.1,
         "showscale": false,
         "type": "surface",
         "x": [
          -64.3163,
          -2.683699999999998
         ],
         "y": [
          -19.854300000000002,
          103.8543
         ],
         "z": [
          [
           3.068999999999999,
           3.068999999999999
          ],
          [
           3.068999999999999,
           3.068999999999999
          ]
         ]
        },
        {
         "colorscale": [
          [
           0,
           "rgb(3, 5, 18)"
          ],
          [
           0.09090909090909091,
           "rgb(25, 25, 51)"
          ],
          [
           0.18181818181818182,
           "rgb(44, 42, 87)"
          ],
          [
           0.2727272727272727,
           "rgb(58, 60, 125)"
          ],
          [
           0.36363636363636365,
           "rgb(62, 83, 160)"
          ],
          [
           0.45454545454545453,
           "rgb(62, 109, 178)"
          ],
          [
           0.5454545454545454,
           "rgb(72, 134, 187)"
          ],
          [
           0.6363636363636364,
           "rgb(89, 159, 196)"
          ],
          [
           0.7272727272727273,
           "rgb(114, 184, 205)"
          ],
          [
           0.8181818181818182,
           "rgb(149, 207, 216)"
          ],
          [
           0.9090909090909091,
           "rgb(192, 229, 232)"
          ],
          [
           1,
           "rgb(234, 252, 253)"
          ]
         ],
         "opacity": 0.1,
         "showscale": false,
         "type": "surface",
         "x": [
          -64.3163,
          -2.683699999999998
         ],
         "y": [
          -19.854300000000002,
          103.8543
         ],
         "z": [
          [
           63.931,
           63.931
          ],
          [
           63.931,
           63.931
          ]
         ]
        },
        {
         "colorscale": [
          [
           0,
           "rgb(3, 5, 18)"
          ],
          [
           0.09090909090909091,
           "rgb(25, 25, 51)"
          ],
          [
           0.18181818181818182,
           "rgb(44, 42, 87)"
          ],
          [
           0.2727272727272727,
           "rgb(58, 60, 125)"
          ],
          [
           0.36363636363636365,
           "rgb(62, 83, 160)"
          ],
          [
           0.45454545454545453,
           "rgb(62, 109, 178)"
          ],
          [
           0.5454545454545454,
           "rgb(72, 134, 187)"
          ],
          [
           0.6363636363636364,
           "rgb(89, 159, 196)"
          ],
          [
           0.7272727272727273,
           "rgb(114, 184, 205)"
          ],
          [
           0.8181818181818182,
           "rgb(149, 207, 216)"
          ],
          [
           0.9090909090909091,
           "rgb(192, 229, 232)"
          ],
          [
           1,
           "rgb(234, 252, 253)"
          ]
         ],
         "opacity": 0.1,
         "showscale": false,
         "type": "surface",
         "x": [
          2.683699999999998,
          64.3163
         ],
         "y": [
          -19.854300000000002,
          103.8543
         ],
         "z": [
          [
           -63.931,
           -63.931
          ],
          [
           -63.931,
           -63.931
          ]
         ]
        },
        {
         "colorscale": [
          [
           0,
           "rgb(3, 5, 18)"
          ],
          [
           0.09090909090909091,
           "rgb(25, 25, 51)"
          ],
          [
           0.18181818181818182,
           "rgb(44, 42, 87)"
          ],
          [
           0.2727272727272727,
           "rgb(58, 60, 125)"
          ],
          [
           0.36363636363636365,
           "rgb(62, 83, 160)"
          ],
          [
           0.45454545454545453,
           "rgb(62, 109, 178)"
          ],
          [
           0.5454545454545454,
           "rgb(72, 134, 187)"
          ],
          [
           0.6363636363636364,
           "rgb(89, 159, 196)"
          ],
          [
           0.7272727272727273,
           "rgb(114, 184, 205)"
          ],
          [
           0.8181818181818182,
           "rgb(149, 207, 216)"
          ],
          [
           0.9090909090909091,
           "rgb(192, 229, 232)"
          ],
          [
           1,
           "rgb(234, 252, 253)"
          ]
         ],
         "opacity": 0.1,
         "showscale": false,
         "type": "surface",
         "x": [
          2.683699999999998,
          64.3163
         ],
         "y": [
          -19.854300000000002,
          103.8543
         ],
         "z": [
          [
           -3.068999999999999,
           -3.068999999999999
          ],
          [
           -3.068999999999999,
           -3.068999999999999
          ]
         ]
        },
        {
         "colorscale": [
          [
           0,
           "rgb(3, 5, 18)"
          ],
          [
           0.09090909090909091,
           "rgb(25, 25, 51)"
          ],
          [
           0.18181818181818182,
           "rgb(44, 42, 87)"
          ],
          [
           0.2727272727272727,
           "rgb(58, 60, 125)"
          ],
          [
           0.36363636363636365,
           "rgb(62, 83, 160)"
          ],
          [
           0.45454545454545453,
           "rgb(62, 109, 178)"
          ],
          [
           0.5454545454545454,
           "rgb(72, 134, 187)"
          ],
          [
           0.6363636363636364,
           "rgb(89, 159, 196)"
          ],
          [
           0.7272727272727273,
           "rgb(114, 184, 205)"
          ],
          [
           0.8181818181818182,
           "rgb(149, 207, 216)"
          ],
          [
           0.9090909090909091,
           "rgb(192, 229, 232)"
          ],
          [
           1,
           "rgb(234, 252, 253)"
          ]
         ],
         "opacity": 0.1,
         "showscale": false,
         "type": "surface",
         "x": [
          -64.3163,
          -2.683699999999998
         ],
         "y": [
          -19.854300000000002,
          103.8543
         ],
         "z": [
          [
           -63.931,
           -63.931
          ],
          [
           -63.931,
           -63.931
          ]
         ]
        },
        {
         "colorscale": [
          [
           0,
           "rgb(3, 5, 18)"
          ],
          [
           0.09090909090909091,
           "rgb(25, 25, 51)"
          ],
          [
           0.18181818181818182,
           "rgb(44, 42, 87)"
          ],
          [
           0.2727272727272727,
           "rgb(58, 60, 125)"
          ],
          [
           0.36363636363636365,
           "rgb(62, 83, 160)"
          ],
          [
           0.45454545454545453,
           "rgb(62, 109, 178)"
          ],
          [
           0.5454545454545454,
           "rgb(72, 134, 187)"
          ],
          [
           0.6363636363636364,
           "rgb(89, 159, 196)"
          ],
          [
           0.7272727272727273,
           "rgb(114, 184, 205)"
          ],
          [
           0.8181818181818182,
           "rgb(149, 207, 216)"
          ],
          [
           0.9090909090909091,
           "rgb(192, 229, 232)"
          ],
          [
           1,
           "rgb(234, 252, 253)"
          ]
         ],
         "opacity": 0.1,
         "showscale": false,
         "type": "surface",
         "x": [
          -64.3163,
          -2.683699999999998
         ],
         "y": [
          -19.854300000000002,
          103.8543
         ],
         "z": [
          [
           -3.068999999999999,
           -3.068999999999999
          ],
          [
           -3.068999999999999,
           -3.068999999999999
          ]
         ]
        },
        {
         "colorscale": [
          [
           0,
           "rgb(3, 5, 18)"
          ],
          [
           0.09090909090909091,
           "rgb(25, 25, 51)"
          ],
          [
           0.18181818181818182,
           "rgb(44, 42, 87)"
          ],
          [
           0.2727272727272727,
           "rgb(58, 60, 125)"
          ],
          [
           0.36363636363636365,
           "rgb(62, 83, 160)"
          ],
          [
           0.45454545454545453,
           "rgb(62, 109, 178)"
          ],
          [
           0.5454545454545454,
           "rgb(72, 134, 187)"
          ],
          [
           0.6363636363636364,
           "rgb(89, 159, 196)"
          ],
          [
           0.7272727272727273,
           "rgb(114, 184, 205)"
          ],
          [
           0.8181818181818182,
           "rgb(149, 207, 216)"
          ],
          [
           0.9090909090909091,
           "rgb(192, 229, 232)"
          ],
          [
           1,
           "rgb(234, 252, 253)"
          ]
         ],
         "opacity": 0.1,
         "showscale": false,
         "type": "surface",
         "x": [
          2.683699999999998,
          64.3163
         ],
         "y": [
          -19.854300000000002,
          103.8543
         ],
         "z": [
          [
           3.068999999999999,
           3.068999999999999
          ],
          [
           3.068999999999999,
           3.068999999999999
          ]
         ]
        },
        {
         "colorscale": [
          [
           0,
           "rgb(3, 5, 18)"
          ],
          [
           0.09090909090909091,
           "rgb(25, 25, 51)"
          ],
          [
           0.18181818181818182,
           "rgb(44, 42, 87)"
          ],
          [
           0.2727272727272727,
           "rgb(58, 60, 125)"
          ],
          [
           0.36363636363636365,
           "rgb(62, 83, 160)"
          ],
          [
           0.45454545454545453,
           "rgb(62, 109, 178)"
          ],
          [
           0.5454545454545454,
           "rgb(72, 134, 187)"
          ],
          [
           0.6363636363636364,
           "rgb(89, 159, 196)"
          ],
          [
           0.7272727272727273,
           "rgb(114, 184, 205)"
          ],
          [
           0.8181818181818182,
           "rgb(149, 207, 216)"
          ],
          [
           0.9090909090909091,
           "rgb(192, 229, 232)"
          ],
          [
           1,
           "rgb(234, 252, 253)"
          ]
         ],
         "opacity": 0.1,
         "showscale": false,
         "type": "surface",
         "x": [
          2.683699999999998,
          64.3163
         ],
         "y": [
          -19.854300000000002,
          103.8543
         ],
         "z": [
          [
           63.931,
           63.931
          ],
          [
           63.931,
           63.931
          ]
         ]
        },
        {
         "colorscale": [
          [
           0,
           "rgb(3, 5, 18)"
          ],
          [
           0.09090909090909091,
           "rgb(25, 25, 51)"
          ],
          [
           0.18181818181818182,
           "rgb(44, 42, 87)"
          ],
          [
           0.2727272727272727,
           "rgb(58, 60, 125)"
          ],
          [
           0.36363636363636365,
           "rgb(62, 83, 160)"
          ],
          [
           0.45454545454545453,
           "rgb(62, 109, 178)"
          ],
          [
           0.5454545454545454,
           "rgb(72, 134, 187)"
          ],
          [
           0.6363636363636364,
           "rgb(89, 159, 196)"
          ],
          [
           0.7272727272727273,
           "rgb(114, 184, 205)"
          ],
          [
           0.8181818181818182,
           "rgb(149, 207, 216)"
          ],
          [
           0.9090909090909091,
           "rgb(192, 229, 232)"
          ],
          [
           1,
           "rgb(234, 252, 253)"
          ]
         ],
         "opacity": 0.1,
         "showscale": false,
         "type": "surface",
         "x": [
          -64.3163,
          -2.683699999999998
         ],
         "y": [
          -19.854300000000002,
          103.8543
         ],
         "z": [
          [
           3.068999999999999,
           3.068999999999999
          ],
          [
           3.068999999999999,
           3.068999999999999
          ]
         ]
        },
        {
         "colorscale": [
          [
           0,
           "rgb(3, 5, 18)"
          ],
          [
           0.09090909090909091,
           "rgb(25, 25, 51)"
          ],
          [
           0.18181818181818182,
           "rgb(44, 42, 87)"
          ],
          [
           0.2727272727272727,
           "rgb(58, 60, 125)"
          ],
          [
           0.36363636363636365,
           "rgb(62, 83, 160)"
          ],
          [
           0.45454545454545453,
           "rgb(62, 109, 178)"
          ],
          [
           0.5454545454545454,
           "rgb(72, 134, 187)"
          ],
          [
           0.6363636363636364,
           "rgb(89, 159, 196)"
          ],
          [
           0.7272727272727273,
           "rgb(114, 184, 205)"
          ],
          [
           0.8181818181818182,
           "rgb(149, 207, 216)"
          ],
          [
           0.9090909090909091,
           "rgb(192, 229, 232)"
          ],
          [
           1,
           "rgb(234, 252, 253)"
          ]
         ],
         "opacity": 0.1,
         "showscale": false,
         "type": "surface",
         "x": [
          -64.3163,
          -2.683699999999998
         ],
         "y": [
          -19.854300000000002,
          103.8543
         ],
         "z": [
          [
           63.931,
           63.931
          ],
          [
           63.931,
           63.931
          ]
         ]
        },
        {
         "colorscale": [
          [
           0,
           "rgb(3, 5, 18)"
          ],
          [
           0.09090909090909091,
           "rgb(25, 25, 51)"
          ],
          [
           0.18181818181818182,
           "rgb(44, 42, 87)"
          ],
          [
           0.2727272727272727,
           "rgb(58, 60, 125)"
          ],
          [
           0.36363636363636365,
           "rgb(62, 83, 160)"
          ],
          [
           0.45454545454545453,
           "rgb(62, 109, 178)"
          ],
          [
           0.5454545454545454,
           "rgb(72, 134, 187)"
          ],
          [
           0.6363636363636364,
           "rgb(89, 159, 196)"
          ],
          [
           0.7272727272727273,
           "rgb(114, 184, 205)"
          ],
          [
           0.8181818181818182,
           "rgb(149, 207, 216)"
          ],
          [
           0.9090909090909091,
           "rgb(192, 229, 232)"
          ],
          [
           1,
           "rgb(234, 252, 253)"
          ]
         ],
         "opacity": 0.1,
         "showscale": false,
         "type": "surface",
         "x": [
          2.683699999999998,
          64.3163
         ],
         "y": [
          -19.854300000000002,
          103.8543
         ],
         "z": [
          [
           -63.931,
           -63.931
          ],
          [
           -63.931,
           -63.931
          ]
         ]
        },
        {
         "colorscale": [
          [
           0,
           "rgb(3, 5, 18)"
          ],
          [
           0.09090909090909091,
           "rgb(25, 25, 51)"
          ],
          [
           0.18181818181818182,
           "rgb(44, 42, 87)"
          ],
          [
           0.2727272727272727,
           "rgb(58, 60, 125)"
          ],
          [
           0.36363636363636365,
           "rgb(62, 83, 160)"
          ],
          [
           0.45454545454545453,
           "rgb(62, 109, 178)"
          ],
          [
           0.5454545454545454,
           "rgb(72, 134, 187)"
          ],
          [
           0.6363636363636364,
           "rgb(89, 159, 196)"
          ],
          [
           0.7272727272727273,
           "rgb(114, 184, 205)"
          ],
          [
           0.8181818181818182,
           "rgb(149, 207, 216)"
          ],
          [
           0.9090909090909091,
           "rgb(192, 229, 232)"
          ],
          [
           1,
           "rgb(234, 252, 253)"
          ]
         ],
         "opacity": 0.1,
         "showscale": false,
         "type": "surface",
         "x": [
          2.683699999999998,
          64.3163
         ],
         "y": [
          -19.854300000000002,
          103.8543
         ],
         "z": [
          [
           -3.068999999999999,
           -3.068999999999999
          ],
          [
           -3.068999999999999,
           -3.068999999999999
          ]
         ]
        },
        {
         "colorscale": [
          [
           0,
           "rgb(3, 5, 18)"
          ],
          [
           0.09090909090909091,
           "rgb(25, 25, 51)"
          ],
          [
           0.18181818181818182,
           "rgb(44, 42, 87)"
          ],
          [
           0.2727272727272727,
           "rgb(58, 60, 125)"
          ],
          [
           0.36363636363636365,
           "rgb(62, 83, 160)"
          ],
          [
           0.45454545454545453,
           "rgb(62, 109, 178)"
          ],
          [
           0.5454545454545454,
           "rgb(72, 134, 187)"
          ],
          [
           0.6363636363636364,
           "rgb(89, 159, 196)"
          ],
          [
           0.7272727272727273,
           "rgb(114, 184, 205)"
          ],
          [
           0.8181818181818182,
           "rgb(149, 207, 216)"
          ],
          [
           0.9090909090909091,
           "rgb(192, 229, 232)"
          ],
          [
           1,
           "rgb(234, 252, 253)"
          ]
         ],
         "opacity": 0.1,
         "showscale": false,
         "type": "surface",
         "x": [
          -64.3163,
          -2.683699999999998
         ],
         "y": [
          -19.854300000000002,
          103.8543
         ],
         "z": [
          [
           -63.931,
           -63.931
          ],
          [
           -63.931,
           -63.931
          ]
         ]
        },
        {
         "colorscale": [
          [
           0,
           "rgb(3, 5, 18)"
          ],
          [
           0.09090909090909091,
           "rgb(25, 25, 51)"
          ],
          [
           0.18181818181818182,
           "rgb(44, 42, 87)"
          ],
          [
           0.2727272727272727,
           "rgb(58, 60, 125)"
          ],
          [
           0.36363636363636365,
           "rgb(62, 83, 160)"
          ],
          [
           0.45454545454545453,
           "rgb(62, 109, 178)"
          ],
          [
           0.5454545454545454,
           "rgb(72, 134, 187)"
          ],
          [
           0.6363636363636364,
           "rgb(89, 159, 196)"
          ],
          [
           0.7272727272727273,
           "rgb(114, 184, 205)"
          ],
          [
           0.8181818181818182,
           "rgb(149, 207, 216)"
          ],
          [
           0.9090909090909091,
           "rgb(192, 229, 232)"
          ],
          [
           1,
           "rgb(234, 252, 253)"
          ]
         ],
         "opacity": 0.1,
         "showscale": false,
         "type": "surface",
         "x": [
          -64.3163,
          -2.683699999999998
         ],
         "y": [
          -19.854300000000002,
          103.8543
         ],
         "z": [
          [
           -3.068999999999999,
           -3.068999999999999
          ],
          [
           -3.068999999999999,
           -3.068999999999999
          ]
         ]
        },
        {
         "colorscale": [
          [
           0,
           "rgb(3, 5, 18)"
          ],
          [
           0.09090909090909091,
           "rgb(25, 25, 51)"
          ],
          [
           0.18181818181818182,
           "rgb(44, 42, 87)"
          ],
          [
           0.2727272727272727,
           "rgb(58, 60, 125)"
          ],
          [
           0.36363636363636365,
           "rgb(62, 83, 160)"
          ],
          [
           0.45454545454545453,
           "rgb(62, 109, 178)"
          ],
          [
           0.5454545454545454,
           "rgb(72, 134, 187)"
          ],
          [
           0.6363636363636364,
           "rgb(89, 159, 196)"
          ],
          [
           0.7272727272727273,
           "rgb(114, 184, 205)"
          ],
          [
           0.8181818181818182,
           "rgb(149, 207, 216)"
          ],
          [
           0.9090909090909091,
           "rgb(192, 229, 232)"
          ],
          [
           1,
           "rgb(234, 252, 253)"
          ]
         ],
         "opacity": 0.1,
         "showscale": false,
         "type": "surface",
         "x": [
          2.683699999999998,
          64.3163
         ],
         "y": [
          -19.854300000000002,
          103.8543
         ],
         "z": [
          [
           3.068999999999999,
           3.068999999999999
          ],
          [
           3.068999999999999,
           3.068999999999999
          ]
         ]
        },
        {
         "colorscale": [
          [
           0,
           "rgb(3, 5, 18)"
          ],
          [
           0.09090909090909091,
           "rgb(25, 25, 51)"
          ],
          [
           0.18181818181818182,
           "rgb(44, 42, 87)"
          ],
          [
           0.2727272727272727,
           "rgb(58, 60, 125)"
          ],
          [
           0.36363636363636365,
           "rgb(62, 83, 160)"
          ],
          [
           0.45454545454545453,
           "rgb(62, 109, 178)"
          ],
          [
           0.5454545454545454,
           "rgb(72, 134, 187)"
          ],
          [
           0.6363636363636364,
           "rgb(89, 159, 196)"
          ],
          [
           0.7272727272727273,
           "rgb(114, 184, 205)"
          ],
          [
           0.8181818181818182,
           "rgb(149, 207, 216)"
          ],
          [
           0.9090909090909091,
           "rgb(192, 229, 232)"
          ],
          [
           1,
           "rgb(234, 252, 253)"
          ]
         ],
         "opacity": 0.1,
         "showscale": false,
         "type": "surface",
         "x": [
          2.683699999999998,
          64.3163
         ],
         "y": [
          -19.854300000000002,
          103.8543
         ],
         "z": [
          [
           63.931,
           63.931
          ],
          [
           63.931,
           63.931
          ]
         ]
        },
        {
         "colorscale": [
          [
           0,
           "rgb(3, 5, 18)"
          ],
          [
           0.09090909090909091,
           "rgb(25, 25, 51)"
          ],
          [
           0.18181818181818182,
           "rgb(44, 42, 87)"
          ],
          [
           0.2727272727272727,
           "rgb(58, 60, 125)"
          ],
          [
           0.36363636363636365,
           "rgb(62, 83, 160)"
          ],
          [
           0.45454545454545453,
           "rgb(62, 109, 178)"
          ],
          [
           0.5454545454545454,
           "rgb(72, 134, 187)"
          ],
          [
           0.6363636363636364,
           "rgb(89, 159, 196)"
          ],
          [
           0.7272727272727273,
           "rgb(114, 184, 205)"
          ],
          [
           0.8181818181818182,
           "rgb(149, 207, 216)"
          ],
          [
           0.9090909090909091,
           "rgb(192, 229, 232)"
          ],
          [
           1,
           "rgb(234, 252, 253)"
          ]
         ],
         "opacity": 0.1,
         "showscale": false,
         "type": "surface",
         "x": [
          -64.3163,
          -2.683699999999998
         ],
         "y": [
          -19.854300000000002,
          103.8543
         ],
         "z": [
          [
           3.068999999999999,
           3.068999999999999
          ],
          [
           3.068999999999999,
           3.068999999999999
          ]
         ]
        },
        {
         "colorscale": [
          [
           0,
           "rgb(3, 5, 18)"
          ],
          [
           0.09090909090909091,
           "rgb(25, 25, 51)"
          ],
          [
           0.18181818181818182,
           "rgb(44, 42, 87)"
          ],
          [
           0.2727272727272727,
           "rgb(58, 60, 125)"
          ],
          [
           0.36363636363636365,
           "rgb(62, 83, 160)"
          ],
          [
           0.45454545454545453,
           "rgb(62, 109, 178)"
          ],
          [
           0.5454545454545454,
           "rgb(72, 134, 187)"
          ],
          [
           0.6363636363636364,
           "rgb(89, 159, 196)"
          ],
          [
           0.7272727272727273,
           "rgb(114, 184, 205)"
          ],
          [
           0.8181818181818182,
           "rgb(149, 207, 216)"
          ],
          [
           0.9090909090909091,
           "rgb(192, 229, 232)"
          ],
          [
           1,
           "rgb(234, 252, 253)"
          ]
         ],
         "opacity": 0.1,
         "showscale": false,
         "type": "surface",
         "x": [
          -64.3163,
          -2.683699999999998
         ],
         "y": [
          -19.854300000000002,
          103.8543
         ],
         "z": [
          [
           63.931,
           63.931
          ],
          [
           63.931,
           63.931
          ]
         ]
        },
        {
         "colorscale": [
          [
           0,
           "rgb(3, 5, 18)"
          ],
          [
           0.09090909090909091,
           "rgb(25, 25, 51)"
          ],
          [
           0.18181818181818182,
           "rgb(44, 42, 87)"
          ],
          [
           0.2727272727272727,
           "rgb(58, 60, 125)"
          ],
          [
           0.36363636363636365,
           "rgb(62, 83, 160)"
          ],
          [
           0.45454545454545453,
           "rgb(62, 109, 178)"
          ],
          [
           0.5454545454545454,
           "rgb(72, 134, 187)"
          ],
          [
           0.6363636363636364,
           "rgb(89, 159, 196)"
          ],
          [
           0.7272727272727273,
           "rgb(114, 184, 205)"
          ],
          [
           0.8181818181818182,
           "rgb(149, 207, 216)"
          ],
          [
           0.9090909090909091,
           "rgb(192, 229, 232)"
          ],
          [
           1,
           "rgb(234, 252, 253)"
          ]
         ],
         "opacity": 0.1,
         "showscale": false,
         "type": "surface",
         "x": [
          2.683699999999998,
          64.3163
         ],
         "y": [
          -19.854300000000002,
          103.8543
         ],
         "z": [
          [
           -63.931,
           -63.931
          ],
          [
           -63.931,
           -63.931
          ]
         ]
        },
        {
         "colorscale": [
          [
           0,
           "rgb(3, 5, 18)"
          ],
          [
           0.09090909090909091,
           "rgb(25, 25, 51)"
          ],
          [
           0.18181818181818182,
           "rgb(44, 42, 87)"
          ],
          [
           0.2727272727272727,
           "rgb(58, 60, 125)"
          ],
          [
           0.36363636363636365,
           "rgb(62, 83, 160)"
          ],
          [
           0.45454545454545453,
           "rgb(62, 109, 178)"
          ],
          [
           0.5454545454545454,
           "rgb(72, 134, 187)"
          ],
          [
           0.6363636363636364,
           "rgb(89, 159, 196)"
          ],
          [
           0.7272727272727273,
           "rgb(114, 184, 205)"
          ],
          [
           0.8181818181818182,
           "rgb(149, 207, 216)"
          ],
          [
           0.9090909090909091,
           "rgb(192, 229, 232)"
          ],
          [
           1,
           "rgb(234, 252, 253)"
          ]
         ],
         "opacity": 0.1,
         "showscale": false,
         "type": "surface",
         "x": [
          2.683699999999998,
          64.3163
         ],
         "y": [
          -19.854300000000002,
          103.8543
         ],
         "z": [
          [
           -3.068999999999999,
           -3.068999999999999
          ],
          [
           -3.068999999999999,
           -3.068999999999999
          ]
         ]
        },
        {
         "colorscale": [
          [
           0,
           "rgb(3, 5, 18)"
          ],
          [
           0.09090909090909091,
           "rgb(25, 25, 51)"
          ],
          [
           0.18181818181818182,
           "rgb(44, 42, 87)"
          ],
          [
           0.2727272727272727,
           "rgb(58, 60, 125)"
          ],
          [
           0.36363636363636365,
           "rgb(62, 83, 160)"
          ],
          [
           0.45454545454545453,
           "rgb(62, 109, 178)"
          ],
          [
           0.5454545454545454,
           "rgb(72, 134, 187)"
          ],
          [
           0.6363636363636364,
           "rgb(89, 159, 196)"
          ],
          [
           0.7272727272727273,
           "rgb(114, 184, 205)"
          ],
          [
           0.8181818181818182,
           "rgb(149, 207, 216)"
          ],
          [
           0.9090909090909091,
           "rgb(192, 229, 232)"
          ],
          [
           1,
           "rgb(234, 252, 253)"
          ]
         ],
         "opacity": 0.1,
         "showscale": false,
         "type": "surface",
         "x": [
          -64.3163,
          -2.683699999999998
         ],
         "y": [
          -19.854300000000002,
          103.8543
         ],
         "z": [
          [
           -63.931,
           -63.931
          ],
          [
           -63.931,
           -63.931
          ]
         ]
        },
        {
         "colorscale": [
          [
           0,
           "rgb(3, 5, 18)"
          ],
          [
           0.09090909090909091,
           "rgb(25, 25, 51)"
          ],
          [
           0.18181818181818182,
           "rgb(44, 42, 87)"
          ],
          [
           0.2727272727272727,
           "rgb(58, 60, 125)"
          ],
          [
           0.36363636363636365,
           "rgb(62, 83, 160)"
          ],
          [
           0.45454545454545453,
           "rgb(62, 109, 178)"
          ],
          [
           0.5454545454545454,
           "rgb(72, 134, 187)"
          ],
          [
           0.6363636363636364,
           "rgb(89, 159, 196)"
          ],
          [
           0.7272727272727273,
           "rgb(114, 184, 205)"
          ],
          [
           0.8181818181818182,
           "rgb(149, 207, 216)"
          ],
          [
           0.9090909090909091,
           "rgb(192, 229, 232)"
          ],
          [
           1,
           "rgb(234, 252, 253)"
          ]
         ],
         "opacity": 0.1,
         "showscale": false,
         "type": "surface",
         "x": [
          -64.3163,
          -2.683699999999998
         ],
         "y": [
          -19.854300000000002,
          103.8543
         ],
         "z": [
          [
           -3.068999999999999,
           -3.068999999999999
          ],
          [
           -3.068999999999999,
           -3.068999999999999
          ]
         ]
        },
        {
         "colorscale": [
          [
           0,
           "rgb(3, 5, 18)"
          ],
          [
           0.09090909090909091,
           "rgb(25, 25, 51)"
          ],
          [
           0.18181818181818182,
           "rgb(44, 42, 87)"
          ],
          [
           0.2727272727272727,
           "rgb(58, 60, 125)"
          ],
          [
           0.36363636363636365,
           "rgb(62, 83, 160)"
          ],
          [
           0.45454545454545453,
           "rgb(62, 109, 178)"
          ],
          [
           0.5454545454545454,
           "rgb(72, 134, 187)"
          ],
          [
           0.6363636363636364,
           "rgb(89, 159, 196)"
          ],
          [
           0.7272727272727273,
           "rgb(114, 184, 205)"
          ],
          [
           0.8181818181818182,
           "rgb(149, 207, 216)"
          ],
          [
           0.9090909090909091,
           "rgb(192, 229, 232)"
          ],
          [
           1,
           "rgb(234, 252, 253)"
          ]
         ],
         "opacity": 0.1,
         "showscale": false,
         "type": "surface",
         "x": [
          2.683699999999998,
          64.3163
         ],
         "y": [
          -19.854300000000002,
          103.8543
         ],
         "z": [
          [
           3.068999999999999,
           3.068999999999999
          ],
          [
           3.068999999999999,
           3.068999999999999
          ]
         ]
        },
        {
         "colorscale": [
          [
           0,
           "rgb(3, 5, 18)"
          ],
          [
           0.09090909090909091,
           "rgb(25, 25, 51)"
          ],
          [
           0.18181818181818182,
           "rgb(44, 42, 87)"
          ],
          [
           0.2727272727272727,
           "rgb(58, 60, 125)"
          ],
          [
           0.36363636363636365,
           "rgb(62, 83, 160)"
          ],
          [
           0.45454545454545453,
           "rgb(62, 109, 178)"
          ],
          [
           0.5454545454545454,
           "rgb(72, 134, 187)"
          ],
          [
           0.6363636363636364,
           "rgb(89, 159, 196)"
          ],
          [
           0.7272727272727273,
           "rgb(114, 184, 205)"
          ],
          [
           0.8181818181818182,
           "rgb(149, 207, 216)"
          ],
          [
           0.9090909090909091,
           "rgb(192, 229, 232)"
          ],
          [
           1,
           "rgb(234, 252, 253)"
          ]
         ],
         "opacity": 0.1,
         "showscale": false,
         "type": "surface",
         "x": [
          2.683699999999998,
          64.3163
         ],
         "y": [
          -19.854300000000002,
          103.8543
         ],
         "z": [
          [
           63.931,
           63.931
          ],
          [
           63.931,
           63.931
          ]
         ]
        },
        {
         "colorscale": [
          [
           0,
           "rgb(3, 5, 18)"
          ],
          [
           0.09090909090909091,
           "rgb(25, 25, 51)"
          ],
          [
           0.18181818181818182,
           "rgb(44, 42, 87)"
          ],
          [
           0.2727272727272727,
           "rgb(58, 60, 125)"
          ],
          [
           0.36363636363636365,
           "rgb(62, 83, 160)"
          ],
          [
           0.45454545454545453,
           "rgb(62, 109, 178)"
          ],
          [
           0.5454545454545454,
           "rgb(72, 134, 187)"
          ],
          [
           0.6363636363636364,
           "rgb(89, 159, 196)"
          ],
          [
           0.7272727272727273,
           "rgb(114, 184, 205)"
          ],
          [
           0.8181818181818182,
           "rgb(149, 207, 216)"
          ],
          [
           0.9090909090909091,
           "rgb(192, 229, 232)"
          ],
          [
           1,
           "rgb(234, 252, 253)"
          ]
         ],
         "opacity": 0.1,
         "showscale": false,
         "type": "surface",
         "x": [
          -64.3163,
          -2.683699999999998
         ],
         "y": [
          -19.854300000000002,
          103.8543
         ],
         "z": [
          [
           3.068999999999999,
           3.068999999999999
          ],
          [
           3.068999999999999,
           3.068999999999999
          ]
         ]
        },
        {
         "colorscale": [
          [
           0,
           "rgb(3, 5, 18)"
          ],
          [
           0.09090909090909091,
           "rgb(25, 25, 51)"
          ],
          [
           0.18181818181818182,
           "rgb(44, 42, 87)"
          ],
          [
           0.2727272727272727,
           "rgb(58, 60, 125)"
          ],
          [
           0.36363636363636365,
           "rgb(62, 83, 160)"
          ],
          [
           0.45454545454545453,
           "rgb(62, 109, 178)"
          ],
          [
           0.5454545454545454,
           "rgb(72, 134, 187)"
          ],
          [
           0.6363636363636364,
           "rgb(89, 159, 196)"
          ],
          [
           0.7272727272727273,
           "rgb(114, 184, 205)"
          ],
          [
           0.8181818181818182,
           "rgb(149, 207, 216)"
          ],
          [
           0.9090909090909091,
           "rgb(192, 229, 232)"
          ],
          [
           1,
           "rgb(234, 252, 253)"
          ]
         ],
         "opacity": 0.1,
         "showscale": false,
         "type": "surface",
         "x": [
          -64.3163,
          -2.683699999999998
         ],
         "y": [
          -19.854300000000002,
          103.8543
         ],
         "z": [
          [
           63.931,
           63.931
          ],
          [
           63.931,
           63.931
          ]
         ]
        },
        {
         "colorscale": [
          [
           0,
           "rgb(3, 5, 18)"
          ],
          [
           0.09090909090909091,
           "rgb(25, 25, 51)"
          ],
          [
           0.18181818181818182,
           "rgb(44, 42, 87)"
          ],
          [
           0.2727272727272727,
           "rgb(58, 60, 125)"
          ],
          [
           0.36363636363636365,
           "rgb(62, 83, 160)"
          ],
          [
           0.45454545454545453,
           "rgb(62, 109, 178)"
          ],
          [
           0.5454545454545454,
           "rgb(72, 134, 187)"
          ],
          [
           0.6363636363636364,
           "rgb(89, 159, 196)"
          ],
          [
           0.7272727272727273,
           "rgb(114, 184, 205)"
          ],
          [
           0.8181818181818182,
           "rgb(149, 207, 216)"
          ],
          [
           0.9090909090909091,
           "rgb(192, 229, 232)"
          ],
          [
           1,
           "rgb(234, 252, 253)"
          ]
         ],
         "opacity": 0.1,
         "showscale": false,
         "type": "surface",
         "x": [
          2.683699999999998,
          64.3163
         ],
         "y": [
          -19.854300000000002,
          103.8543
         ],
         "z": [
          [
           -63.931,
           -63.931
          ],
          [
           -63.931,
           -63.931
          ]
         ]
        },
        {
         "colorscale": [
          [
           0,
           "rgb(3, 5, 18)"
          ],
          [
           0.09090909090909091,
           "rgb(25, 25, 51)"
          ],
          [
           0.18181818181818182,
           "rgb(44, 42, 87)"
          ],
          [
           0.2727272727272727,
           "rgb(58, 60, 125)"
          ],
          [
           0.36363636363636365,
           "rgb(62, 83, 160)"
          ],
          [
           0.45454545454545453,
           "rgb(62, 109, 178)"
          ],
          [
           0.5454545454545454,
           "rgb(72, 134, 187)"
          ],
          [
           0.6363636363636364,
           "rgb(89, 159, 196)"
          ],
          [
           0.7272727272727273,
           "rgb(114, 184, 205)"
          ],
          [
           0.8181818181818182,
           "rgb(149, 207, 216)"
          ],
          [
           0.9090909090909091,
           "rgb(192, 229, 232)"
          ],
          [
           1,
           "rgb(234, 252, 253)"
          ]
         ],
         "opacity": 0.1,
         "showscale": false,
         "type": "surface",
         "x": [
          2.683699999999998,
          64.3163
         ],
         "y": [
          -19.854300000000002,
          103.8543
         ],
         "z": [
          [
           -3.068999999999999,
           -3.068999999999999
          ],
          [
           -3.068999999999999,
           -3.068999999999999
          ]
         ]
        },
        {
         "colorscale": [
          [
           0,
           "rgb(3, 5, 18)"
          ],
          [
           0.09090909090909091,
           "rgb(25, 25, 51)"
          ],
          [
           0.18181818181818182,
           "rgb(44, 42, 87)"
          ],
          [
           0.2727272727272727,
           "rgb(58, 60, 125)"
          ],
          [
           0.36363636363636365,
           "rgb(62, 83, 160)"
          ],
          [
           0.45454545454545453,
           "rgb(62, 109, 178)"
          ],
          [
           0.5454545454545454,
           "rgb(72, 134, 187)"
          ],
          [
           0.6363636363636364,
           "rgb(89, 159, 196)"
          ],
          [
           0.7272727272727273,
           "rgb(114, 184, 205)"
          ],
          [
           0.8181818181818182,
           "rgb(149, 207, 216)"
          ],
          [
           0.9090909090909091,
           "rgb(192, 229, 232)"
          ],
          [
           1,
           "rgb(234, 252, 253)"
          ]
         ],
         "opacity": 0.1,
         "showscale": false,
         "type": "surface",
         "x": [
          -64.3163,
          -2.683699999999998
         ],
         "y": [
          -19.854300000000002,
          103.8543
         ],
         "z": [
          [
           -63.931,
           -63.931
          ],
          [
           -63.931,
           -63.931
          ]
         ]
        },
        {
         "colorscale": [
          [
           0,
           "rgb(3, 5, 18)"
          ],
          [
           0.09090909090909091,
           "rgb(25, 25, 51)"
          ],
          [
           0.18181818181818182,
           "rgb(44, 42, 87)"
          ],
          [
           0.2727272727272727,
           "rgb(58, 60, 125)"
          ],
          [
           0.36363636363636365,
           "rgb(62, 83, 160)"
          ],
          [
           0.45454545454545453,
           "rgb(62, 109, 178)"
          ],
          [
           0.5454545454545454,
           "rgb(72, 134, 187)"
          ],
          [
           0.6363636363636364,
           "rgb(89, 159, 196)"
          ],
          [
           0.7272727272727273,
           "rgb(114, 184, 205)"
          ],
          [
           0.8181818181818182,
           "rgb(149, 207, 216)"
          ],
          [
           0.9090909090909091,
           "rgb(192, 229, 232)"
          ],
          [
           1,
           "rgb(234, 252, 253)"
          ]
         ],
         "opacity": 0.1,
         "showscale": false,
         "type": "surface",
         "x": [
          -64.3163,
          -2.683699999999998
         ],
         "y": [
          -19.854300000000002,
          103.8543
         ],
         "z": [
          [
           -3.068999999999999,
           -3.068999999999999
          ],
          [
           -3.068999999999999,
           -3.068999999999999
          ]
         ]
        },
        {
         "colorscale": [
          [
           0,
           "rgb(3, 5, 18)"
          ],
          [
           0.09090909090909091,
           "rgb(25, 25, 51)"
          ],
          [
           0.18181818181818182,
           "rgb(44, 42, 87)"
          ],
          [
           0.2727272727272727,
           "rgb(58, 60, 125)"
          ],
          [
           0.36363636363636365,
           "rgb(62, 83, 160)"
          ],
          [
           0.45454545454545453,
           "rgb(62, 109, 178)"
          ],
          [
           0.5454545454545454,
           "rgb(72, 134, 187)"
          ],
          [
           0.6363636363636364,
           "rgb(89, 159, 196)"
          ],
          [
           0.7272727272727273,
           "rgb(114, 184, 205)"
          ],
          [
           0.8181818181818182,
           "rgb(149, 207, 216)"
          ],
          [
           0.9090909090909091,
           "rgb(192, 229, 232)"
          ],
          [
           1,
           "rgb(234, 252, 253)"
          ]
         ],
         "opacity": 0.1,
         "showscale": false,
         "type": "surface",
         "x": [
          2.683699999999998,
          64.3163
         ],
         "y": [
          -19.854300000000002,
          103.8543
         ],
         "z": [
          [
           3.068999999999999,
           3.068999999999999
          ],
          [
           3.068999999999999,
           3.068999999999999
          ]
         ]
        },
        {
         "colorscale": [
          [
           0,
           "rgb(3, 5, 18)"
          ],
          [
           0.09090909090909091,
           "rgb(25, 25, 51)"
          ],
          [
           0.18181818181818182,
           "rgb(44, 42, 87)"
          ],
          [
           0.2727272727272727,
           "rgb(58, 60, 125)"
          ],
          [
           0.36363636363636365,
           "rgb(62, 83, 160)"
          ],
          [
           0.45454545454545453,
           "rgb(62, 109, 178)"
          ],
          [
           0.5454545454545454,
           "rgb(72, 134, 187)"
          ],
          [
           0.6363636363636364,
           "rgb(89, 159, 196)"
          ],
          [
           0.7272727272727273,
           "rgb(114, 184, 205)"
          ],
          [
           0.8181818181818182,
           "rgb(149, 207, 216)"
          ],
          [
           0.9090909090909091,
           "rgb(192, 229, 232)"
          ],
          [
           1,
           "rgb(234, 252, 253)"
          ]
         ],
         "opacity": 0.1,
         "showscale": false,
         "type": "surface",
         "x": [
          2.683699999999998,
          64.3163
         ],
         "y": [
          -19.854300000000002,
          103.8543
         ],
         "z": [
          [
           63.931,
           63.931
          ],
          [
           63.931,
           63.931
          ]
         ]
        },
        {
         "colorscale": [
          [
           0,
           "rgb(3, 5, 18)"
          ],
          [
           0.09090909090909091,
           "rgb(25, 25, 51)"
          ],
          [
           0.18181818181818182,
           "rgb(44, 42, 87)"
          ],
          [
           0.2727272727272727,
           "rgb(58, 60, 125)"
          ],
          [
           0.36363636363636365,
           "rgb(62, 83, 160)"
          ],
          [
           0.45454545454545453,
           "rgb(62, 109, 178)"
          ],
          [
           0.5454545454545454,
           "rgb(72, 134, 187)"
          ],
          [
           0.6363636363636364,
           "rgb(89, 159, 196)"
          ],
          [
           0.7272727272727273,
           "rgb(114, 184, 205)"
          ],
          [
           0.8181818181818182,
           "rgb(149, 207, 216)"
          ],
          [
           0.9090909090909091,
           "rgb(192, 229, 232)"
          ],
          [
           1,
           "rgb(234, 252, 253)"
          ]
         ],
         "opacity": 0.1,
         "showscale": false,
         "type": "surface",
         "x": [
          -64.3163,
          -2.683699999999998
         ],
         "y": [
          -19.854300000000002,
          103.8543
         ],
         "z": [
          [
           3.068999999999999,
           3.068999999999999
          ],
          [
           3.068999999999999,
           3.068999999999999
          ]
         ]
        },
        {
         "colorscale": [
          [
           0,
           "rgb(3, 5, 18)"
          ],
          [
           0.09090909090909091,
           "rgb(25, 25, 51)"
          ],
          [
           0.18181818181818182,
           "rgb(44, 42, 87)"
          ],
          [
           0.2727272727272727,
           "rgb(58, 60, 125)"
          ],
          [
           0.36363636363636365,
           "rgb(62, 83, 160)"
          ],
          [
           0.45454545454545453,
           "rgb(62, 109, 178)"
          ],
          [
           0.5454545454545454,
           "rgb(72, 134, 187)"
          ],
          [
           0.6363636363636364,
           "rgb(89, 159, 196)"
          ],
          [
           0.7272727272727273,
           "rgb(114, 184, 205)"
          ],
          [
           0.8181818181818182,
           "rgb(149, 207, 216)"
          ],
          [
           0.9090909090909091,
           "rgb(192, 229, 232)"
          ],
          [
           1,
           "rgb(234, 252, 253)"
          ]
         ],
         "opacity": 0.1,
         "showscale": false,
         "type": "surface",
         "x": [
          -64.3163,
          -2.683699999999998
         ],
         "y": [
          -19.854300000000002,
          103.8543
         ],
         "z": [
          [
           63.931,
           63.931
          ],
          [
           63.931,
           63.931
          ]
         ]
        },
        {
         "colorscale": [
          [
           0,
           "rgb(3, 5, 18)"
          ],
          [
           0.09090909090909091,
           "rgb(25, 25, 51)"
          ],
          [
           0.18181818181818182,
           "rgb(44, 42, 87)"
          ],
          [
           0.2727272727272727,
           "rgb(58, 60, 125)"
          ],
          [
           0.36363636363636365,
           "rgb(62, 83, 160)"
          ],
          [
           0.45454545454545453,
           "rgb(62, 109, 178)"
          ],
          [
           0.5454545454545454,
           "rgb(72, 134, 187)"
          ],
          [
           0.6363636363636364,
           "rgb(89, 159, 196)"
          ],
          [
           0.7272727272727273,
           "rgb(114, 184, 205)"
          ],
          [
           0.8181818181818182,
           "rgb(149, 207, 216)"
          ],
          [
           0.9090909090909091,
           "rgb(192, 229, 232)"
          ],
          [
           1,
           "rgb(234, 252, 253)"
          ]
         ],
         "opacity": 0.1,
         "showscale": false,
         "type": "surface",
         "x": [
          2.683699999999998,
          64.3163
         ],
         "y": [
          -19.854300000000002,
          103.8543
         ],
         "z": [
          [
           -63.931,
           -63.931
          ],
          [
           -63.931,
           -63.931
          ]
         ]
        },
        {
         "colorscale": [
          [
           0,
           "rgb(3, 5, 18)"
          ],
          [
           0.09090909090909091,
           "rgb(25, 25, 51)"
          ],
          [
           0.18181818181818182,
           "rgb(44, 42, 87)"
          ],
          [
           0.2727272727272727,
           "rgb(58, 60, 125)"
          ],
          [
           0.36363636363636365,
           "rgb(62, 83, 160)"
          ],
          [
           0.45454545454545453,
           "rgb(62, 109, 178)"
          ],
          [
           0.5454545454545454,
           "rgb(72, 134, 187)"
          ],
          [
           0.6363636363636364,
           "rgb(89, 159, 196)"
          ],
          [
           0.7272727272727273,
           "rgb(114, 184, 205)"
          ],
          [
           0.8181818181818182,
           "rgb(149, 207, 216)"
          ],
          [
           0.9090909090909091,
           "rgb(192, 229, 232)"
          ],
          [
           1,
           "rgb(234, 252, 253)"
          ]
         ],
         "opacity": 0.1,
         "showscale": false,
         "type": "surface",
         "x": [
          2.683699999999998,
          64.3163
         ],
         "y": [
          -19.854300000000002,
          103.8543
         ],
         "z": [
          [
           -3.068999999999999,
           -3.068999999999999
          ],
          [
           -3.068999999999999,
           -3.068999999999999
          ]
         ]
        },
        {
         "colorscale": [
          [
           0,
           "rgb(3, 5, 18)"
          ],
          [
           0.09090909090909091,
           "rgb(25, 25, 51)"
          ],
          [
           0.18181818181818182,
           "rgb(44, 42, 87)"
          ],
          [
           0.2727272727272727,
           "rgb(58, 60, 125)"
          ],
          [
           0.36363636363636365,
           "rgb(62, 83, 160)"
          ],
          [
           0.45454545454545453,
           "rgb(62, 109, 178)"
          ],
          [
           0.5454545454545454,
           "rgb(72, 134, 187)"
          ],
          [
           0.6363636363636364,
           "rgb(89, 159, 196)"
          ],
          [
           0.7272727272727273,
           "rgb(114, 184, 205)"
          ],
          [
           0.8181818181818182,
           "rgb(149, 207, 216)"
          ],
          [
           0.9090909090909091,
           "rgb(192, 229, 232)"
          ],
          [
           1,
           "rgb(234, 252, 253)"
          ]
         ],
         "opacity": 0.1,
         "showscale": false,
         "type": "surface",
         "x": [
          -64.3163,
          -2.683699999999998
         ],
         "y": [
          -19.854300000000002,
          103.8543
         ],
         "z": [
          [
           -63.931,
           -63.931
          ],
          [
           -63.931,
           -63.931
          ]
         ]
        },
        {
         "colorscale": [
          [
           0,
           "rgb(3, 5, 18)"
          ],
          [
           0.09090909090909091,
           "rgb(25, 25, 51)"
          ],
          [
           0.18181818181818182,
           "rgb(44, 42, 87)"
          ],
          [
           0.2727272727272727,
           "rgb(58, 60, 125)"
          ],
          [
           0.36363636363636365,
           "rgb(62, 83, 160)"
          ],
          [
           0.45454545454545453,
           "rgb(62, 109, 178)"
          ],
          [
           0.5454545454545454,
           "rgb(72, 134, 187)"
          ],
          [
           0.6363636363636364,
           "rgb(89, 159, 196)"
          ],
          [
           0.7272727272727273,
           "rgb(114, 184, 205)"
          ],
          [
           0.8181818181818182,
           "rgb(149, 207, 216)"
          ],
          [
           0.9090909090909091,
           "rgb(192, 229, 232)"
          ],
          [
           1,
           "rgb(234, 252, 253)"
          ]
         ],
         "opacity": 0.1,
         "showscale": false,
         "type": "surface",
         "x": [
          -64.3163,
          -2.683699999999998
         ],
         "y": [
          -19.854300000000002,
          103.8543
         ],
         "z": [
          [
           -3.068999999999999,
           -3.068999999999999
          ],
          [
           -3.068999999999999,
           -3.068999999999999
          ]
         ]
        },
        {
         "colorscale": [
          [
           0,
           "rgb(3, 5, 18)"
          ],
          [
           0.09090909090909091,
           "rgb(25, 25, 51)"
          ],
          [
           0.18181818181818182,
           "rgb(44, 42, 87)"
          ],
          [
           0.2727272727272727,
           "rgb(58, 60, 125)"
          ],
          [
           0.36363636363636365,
           "rgb(62, 83, 160)"
          ],
          [
           0.45454545454545453,
           "rgb(62, 109, 178)"
          ],
          [
           0.5454545454545454,
           "rgb(72, 134, 187)"
          ],
          [
           0.6363636363636364,
           "rgb(89, 159, 196)"
          ],
          [
           0.7272727272727273,
           "rgb(114, 184, 205)"
          ],
          [
           0.8181818181818182,
           "rgb(149, 207, 216)"
          ],
          [
           0.9090909090909091,
           "rgb(192, 229, 232)"
          ],
          [
           1,
           "rgb(234, 252, 253)"
          ]
         ],
         "opacity": 0.1,
         "showscale": false,
         "type": "surface",
         "x": [
          2.683699999999998,
          64.3163
         ],
         "y": [
          -19.854300000000002,
          103.8543
         ],
         "z": [
          [
           3.068999999999999,
           3.068999999999999
          ],
          [
           3.068999999999999,
           3.068999999999999
          ]
         ]
        },
        {
         "colorscale": [
          [
           0,
           "rgb(3, 5, 18)"
          ],
          [
           0.09090909090909091,
           "rgb(25, 25, 51)"
          ],
          [
           0.18181818181818182,
           "rgb(44, 42, 87)"
          ],
          [
           0.2727272727272727,
           "rgb(58, 60, 125)"
          ],
          [
           0.36363636363636365,
           "rgb(62, 83, 160)"
          ],
          [
           0.45454545454545453,
           "rgb(62, 109, 178)"
          ],
          [
           0.5454545454545454,
           "rgb(72, 134, 187)"
          ],
          [
           0.6363636363636364,
           "rgb(89, 159, 196)"
          ],
          [
           0.7272727272727273,
           "rgb(114, 184, 205)"
          ],
          [
           0.8181818181818182,
           "rgb(149, 207, 216)"
          ],
          [
           0.9090909090909091,
           "rgb(192, 229, 232)"
          ],
          [
           1,
           "rgb(234, 252, 253)"
          ]
         ],
         "opacity": 0.1,
         "showscale": false,
         "type": "surface",
         "x": [
          2.683699999999998,
          64.3163
         ],
         "y": [
          -19.854300000000002,
          103.8543
         ],
         "z": [
          [
           63.931,
           63.931
          ],
          [
           63.931,
           63.931
          ]
         ]
        },
        {
         "colorscale": [
          [
           0,
           "rgb(3, 5, 18)"
          ],
          [
           0.09090909090909091,
           "rgb(25, 25, 51)"
          ],
          [
           0.18181818181818182,
           "rgb(44, 42, 87)"
          ],
          [
           0.2727272727272727,
           "rgb(58, 60, 125)"
          ],
          [
           0.36363636363636365,
           "rgb(62, 83, 160)"
          ],
          [
           0.45454545454545453,
           "rgb(62, 109, 178)"
          ],
          [
           0.5454545454545454,
           "rgb(72, 134, 187)"
          ],
          [
           0.6363636363636364,
           "rgb(89, 159, 196)"
          ],
          [
           0.7272727272727273,
           "rgb(114, 184, 205)"
          ],
          [
           0.8181818181818182,
           "rgb(149, 207, 216)"
          ],
          [
           0.9090909090909091,
           "rgb(192, 229, 232)"
          ],
          [
           1,
           "rgb(234, 252, 253)"
          ]
         ],
         "opacity": 0.1,
         "showscale": false,
         "type": "surface",
         "x": [
          -64.3163,
          -2.683699999999998
         ],
         "y": [
          -19.854300000000002,
          103.8543
         ],
         "z": [
          [
           3.068999999999999,
           3.068999999999999
          ],
          [
           3.068999999999999,
           3.068999999999999
          ]
         ]
        },
        {
         "colorscale": [
          [
           0,
           "rgb(3, 5, 18)"
          ],
          [
           0.09090909090909091,
           "rgb(25, 25, 51)"
          ],
          [
           0.18181818181818182,
           "rgb(44, 42, 87)"
          ],
          [
           0.2727272727272727,
           "rgb(58, 60, 125)"
          ],
          [
           0.36363636363636365,
           "rgb(62, 83, 160)"
          ],
          [
           0.45454545454545453,
           "rgb(62, 109, 178)"
          ],
          [
           0.5454545454545454,
           "rgb(72, 134, 187)"
          ],
          [
           0.6363636363636364,
           "rgb(89, 159, 196)"
          ],
          [
           0.7272727272727273,
           "rgb(114, 184, 205)"
          ],
          [
           0.8181818181818182,
           "rgb(149, 207, 216)"
          ],
          [
           0.9090909090909091,
           "rgb(192, 229, 232)"
          ],
          [
           1,
           "rgb(234, 252, 253)"
          ]
         ],
         "opacity": 0.1,
         "showscale": false,
         "type": "surface",
         "x": [
          -64.3163,
          -2.683699999999998
         ],
         "y": [
          -19.854300000000002,
          103.8543
         ],
         "z": [
          [
           63.931,
           63.931
          ],
          [
           63.931,
           63.931
          ]
         ]
        },
        {
         "colorscale": [
          [
           0,
           "rgb(3, 5, 18)"
          ],
          [
           0.09090909090909091,
           "rgb(25, 25, 51)"
          ],
          [
           0.18181818181818182,
           "rgb(44, 42, 87)"
          ],
          [
           0.2727272727272727,
           "rgb(58, 60, 125)"
          ],
          [
           0.36363636363636365,
           "rgb(62, 83, 160)"
          ],
          [
           0.45454545454545453,
           "rgb(62, 109, 178)"
          ],
          [
           0.5454545454545454,
           "rgb(72, 134, 187)"
          ],
          [
           0.6363636363636364,
           "rgb(89, 159, 196)"
          ],
          [
           0.7272727272727273,
           "rgb(114, 184, 205)"
          ],
          [
           0.8181818181818182,
           "rgb(149, 207, 216)"
          ],
          [
           0.9090909090909091,
           "rgb(192, 229, 232)"
          ],
          [
           1,
           "rgb(234, 252, 253)"
          ]
         ],
         "opacity": 0.1,
         "showscale": false,
         "type": "surface",
         "x": [
          2.683699999999998,
          64.3163
         ],
         "y": [
          -19.854300000000002,
          103.8543
         ],
         "z": [
          [
           -63.931,
           -63.931
          ],
          [
           -63.931,
           -63.931
          ]
         ]
        },
        {
         "colorscale": [
          [
           0,
           "rgb(3, 5, 18)"
          ],
          [
           0.09090909090909091,
           "rgb(25, 25, 51)"
          ],
          [
           0.18181818181818182,
           "rgb(44, 42, 87)"
          ],
          [
           0.2727272727272727,
           "rgb(58, 60, 125)"
          ],
          [
           0.36363636363636365,
           "rgb(62, 83, 160)"
          ],
          [
           0.45454545454545453,
           "rgb(62, 109, 178)"
          ],
          [
           0.5454545454545454,
           "rgb(72, 134, 187)"
          ],
          [
           0.6363636363636364,
           "rgb(89, 159, 196)"
          ],
          [
           0.7272727272727273,
           "rgb(114, 184, 205)"
          ],
          [
           0.8181818181818182,
           "rgb(149, 207, 216)"
          ],
          [
           0.9090909090909091,
           "rgb(192, 229, 232)"
          ],
          [
           1,
           "rgb(234, 252, 253)"
          ]
         ],
         "opacity": 0.1,
         "showscale": false,
         "type": "surface",
         "x": [
          2.683699999999998,
          64.3163
         ],
         "y": [
          -19.854300000000002,
          103.8543
         ],
         "z": [
          [
           -3.068999999999999,
           -3.068999999999999
          ],
          [
           -3.068999999999999,
           -3.068999999999999
          ]
         ]
        },
        {
         "colorscale": [
          [
           0,
           "rgb(3, 5, 18)"
          ],
          [
           0.09090909090909091,
           "rgb(25, 25, 51)"
          ],
          [
           0.18181818181818182,
           "rgb(44, 42, 87)"
          ],
          [
           0.2727272727272727,
           "rgb(58, 60, 125)"
          ],
          [
           0.36363636363636365,
           "rgb(62, 83, 160)"
          ],
          [
           0.45454545454545453,
           "rgb(62, 109, 178)"
          ],
          [
           0.5454545454545454,
           "rgb(72, 134, 187)"
          ],
          [
           0.6363636363636364,
           "rgb(89, 159, 196)"
          ],
          [
           0.7272727272727273,
           "rgb(114, 184, 205)"
          ],
          [
           0.8181818181818182,
           "rgb(149, 207, 216)"
          ],
          [
           0.9090909090909091,
           "rgb(192, 229, 232)"
          ],
          [
           1,
           "rgb(234, 252, 253)"
          ]
         ],
         "opacity": 0.1,
         "showscale": false,
         "type": "surface",
         "x": [
          -64.3163,
          -2.683699999999998
         ],
         "y": [
          -19.854300000000002,
          103.8543
         ],
         "z": [
          [
           -63.931,
           -63.931
          ],
          [
           -63.931,
           -63.931
          ]
         ]
        },
        {
         "colorscale": [
          [
           0,
           "rgb(3, 5, 18)"
          ],
          [
           0.09090909090909091,
           "rgb(25, 25, 51)"
          ],
          [
           0.18181818181818182,
           "rgb(44, 42, 87)"
          ],
          [
           0.2727272727272727,
           "rgb(58, 60, 125)"
          ],
          [
           0.36363636363636365,
           "rgb(62, 83, 160)"
          ],
          [
           0.45454545454545453,
           "rgb(62, 109, 178)"
          ],
          [
           0.5454545454545454,
           "rgb(72, 134, 187)"
          ],
          [
           0.6363636363636364,
           "rgb(89, 159, 196)"
          ],
          [
           0.7272727272727273,
           "rgb(114, 184, 205)"
          ],
          [
           0.8181818181818182,
           "rgb(149, 207, 216)"
          ],
          [
           0.9090909090909091,
           "rgb(192, 229, 232)"
          ],
          [
           1,
           "rgb(234, 252, 253)"
          ]
         ],
         "opacity": 0.1,
         "showscale": false,
         "type": "surface",
         "x": [
          -64.3163,
          -2.683699999999998
         ],
         "y": [
          -19.854300000000002,
          103.8543
         ],
         "z": [
          [
           -3.068999999999999,
           -3.068999999999999
          ],
          [
           -3.068999999999999,
           -3.068999999999999
          ]
         ]
        },
        {
         "colorscale": [
          [
           0,
           "rgb(3, 5, 18)"
          ],
          [
           0.09090909090909091,
           "rgb(25, 25, 51)"
          ],
          [
           0.18181818181818182,
           "rgb(44, 42, 87)"
          ],
          [
           0.2727272727272727,
           "rgb(58, 60, 125)"
          ],
          [
           0.36363636363636365,
           "rgb(62, 83, 160)"
          ],
          [
           0.45454545454545453,
           "rgb(62, 109, 178)"
          ],
          [
           0.5454545454545454,
           "rgb(72, 134, 187)"
          ],
          [
           0.6363636363636364,
           "rgb(89, 159, 196)"
          ],
          [
           0.7272727272727273,
           "rgb(114, 184, 205)"
          ],
          [
           0.8181818181818182,
           "rgb(149, 207, 216)"
          ],
          [
           0.9090909090909091,
           "rgb(192, 229, 232)"
          ],
          [
           1,
           "rgb(234, 252, 253)"
          ]
         ],
         "opacity": 0.1,
         "showscale": false,
         "type": "surface",
         "x": [
          2.683699999999998,
          64.3163
         ],
         "y": [
          -19.854300000000002,
          103.8543
         ],
         "z": [
          [
           3.068999999999999,
           3.068999999999999
          ],
          [
           3.068999999999999,
           3.068999999999999
          ]
         ]
        },
        {
         "colorscale": [
          [
           0,
           "rgb(3, 5, 18)"
          ],
          [
           0.09090909090909091,
           "rgb(25, 25, 51)"
          ],
          [
           0.18181818181818182,
           "rgb(44, 42, 87)"
          ],
          [
           0.2727272727272727,
           "rgb(58, 60, 125)"
          ],
          [
           0.36363636363636365,
           "rgb(62, 83, 160)"
          ],
          [
           0.45454545454545453,
           "rgb(62, 109, 178)"
          ],
          [
           0.5454545454545454,
           "rgb(72, 134, 187)"
          ],
          [
           0.6363636363636364,
           "rgb(89, 159, 196)"
          ],
          [
           0.7272727272727273,
           "rgb(114, 184, 205)"
          ],
          [
           0.8181818181818182,
           "rgb(149, 207, 216)"
          ],
          [
           0.9090909090909091,
           "rgb(192, 229, 232)"
          ],
          [
           1,
           "rgb(234, 252, 253)"
          ]
         ],
         "opacity": 0.1,
         "showscale": false,
         "type": "surface",
         "x": [
          2.683699999999998,
          64.3163
         ],
         "y": [
          -19.854300000000002,
          103.8543
         ],
         "z": [
          [
           63.931,
           63.931
          ],
          [
           63.931,
           63.931
          ]
         ]
        },
        {
         "colorscale": [
          [
           0,
           "rgb(3, 5, 18)"
          ],
          [
           0.09090909090909091,
           "rgb(25, 25, 51)"
          ],
          [
           0.18181818181818182,
           "rgb(44, 42, 87)"
          ],
          [
           0.2727272727272727,
           "rgb(58, 60, 125)"
          ],
          [
           0.36363636363636365,
           "rgb(62, 83, 160)"
          ],
          [
           0.45454545454545453,
           "rgb(62, 109, 178)"
          ],
          [
           0.5454545454545454,
           "rgb(72, 134, 187)"
          ],
          [
           0.6363636363636364,
           "rgb(89, 159, 196)"
          ],
          [
           0.7272727272727273,
           "rgb(114, 184, 205)"
          ],
          [
           0.8181818181818182,
           "rgb(149, 207, 216)"
          ],
          [
           0.9090909090909091,
           "rgb(192, 229, 232)"
          ],
          [
           1,
           "rgb(234, 252, 253)"
          ]
         ],
         "opacity": 0.1,
         "showscale": false,
         "type": "surface",
         "x": [
          -64.3163,
          -2.683699999999998
         ],
         "y": [
          -19.854300000000002,
          103.8543
         ],
         "z": [
          [
           3.068999999999999,
           3.068999999999999
          ],
          [
           3.068999999999999,
           3.068999999999999
          ]
         ]
        },
        {
         "colorscale": [
          [
           0,
           "rgb(3, 5, 18)"
          ],
          [
           0.09090909090909091,
           "rgb(25, 25, 51)"
          ],
          [
           0.18181818181818182,
           "rgb(44, 42, 87)"
          ],
          [
           0.2727272727272727,
           "rgb(58, 60, 125)"
          ],
          [
           0.36363636363636365,
           "rgb(62, 83, 160)"
          ],
          [
           0.45454545454545453,
           "rgb(62, 109, 178)"
          ],
          [
           0.5454545454545454,
           "rgb(72, 134, 187)"
          ],
          [
           0.6363636363636364,
           "rgb(89, 159, 196)"
          ],
          [
           0.7272727272727273,
           "rgb(114, 184, 205)"
          ],
          [
           0.8181818181818182,
           "rgb(149, 207, 216)"
          ],
          [
           0.9090909090909091,
           "rgb(192, 229, 232)"
          ],
          [
           1,
           "rgb(234, 252, 253)"
          ]
         ],
         "opacity": 0.1,
         "showscale": false,
         "type": "surface",
         "x": [
          -64.3163,
          -2.683699999999998
         ],
         "y": [
          -19.854300000000002,
          103.8543
         ],
         "z": [
          [
           63.931,
           63.931
          ],
          [
           63.931,
           63.931
          ]
         ]
        },
        {
         "colorscale": [
          [
           0,
           "rgb(3, 5, 18)"
          ],
          [
           0.09090909090909091,
           "rgb(25, 25, 51)"
          ],
          [
           0.18181818181818182,
           "rgb(44, 42, 87)"
          ],
          [
           0.2727272727272727,
           "rgb(58, 60, 125)"
          ],
          [
           0.36363636363636365,
           "rgb(62, 83, 160)"
          ],
          [
           0.45454545454545453,
           "rgb(62, 109, 178)"
          ],
          [
           0.5454545454545454,
           "rgb(72, 134, 187)"
          ],
          [
           0.6363636363636364,
           "rgb(89, 159, 196)"
          ],
          [
           0.7272727272727273,
           "rgb(114, 184, 205)"
          ],
          [
           0.8181818181818182,
           "rgb(149, 207, 216)"
          ],
          [
           0.9090909090909091,
           "rgb(192, 229, 232)"
          ],
          [
           1,
           "rgb(234, 252, 253)"
          ]
         ],
         "opacity": 0.1,
         "showscale": false,
         "type": "surface",
         "x": [
          2.683699999999998,
          64.3163
         ],
         "y": [
          -19.854300000000002,
          103.8543
         ],
         "z": [
          [
           -63.931,
           -63.931
          ],
          [
           -63.931,
           -63.931
          ]
         ]
        },
        {
         "colorscale": [
          [
           0,
           "rgb(3, 5, 18)"
          ],
          [
           0.09090909090909091,
           "rgb(25, 25, 51)"
          ],
          [
           0.18181818181818182,
           "rgb(44, 42, 87)"
          ],
          [
           0.2727272727272727,
           "rgb(58, 60, 125)"
          ],
          [
           0.36363636363636365,
           "rgb(62, 83, 160)"
          ],
          [
           0.45454545454545453,
           "rgb(62, 109, 178)"
          ],
          [
           0.5454545454545454,
           "rgb(72, 134, 187)"
          ],
          [
           0.6363636363636364,
           "rgb(89, 159, 196)"
          ],
          [
           0.7272727272727273,
           "rgb(114, 184, 205)"
          ],
          [
           0.8181818181818182,
           "rgb(149, 207, 216)"
          ],
          [
           0.9090909090909091,
           "rgb(192, 229, 232)"
          ],
          [
           1,
           "rgb(234, 252, 253)"
          ]
         ],
         "opacity": 0.1,
         "showscale": false,
         "type": "surface",
         "x": [
          2.683699999999998,
          64.3163
         ],
         "y": [
          -19.854300000000002,
          103.8543
         ],
         "z": [
          [
           -3.068999999999999,
           -3.068999999999999
          ],
          [
           -3.068999999999999,
           -3.068999999999999
          ]
         ]
        },
        {
         "colorscale": [
          [
           0,
           "rgb(3, 5, 18)"
          ],
          [
           0.09090909090909091,
           "rgb(25, 25, 51)"
          ],
          [
           0.18181818181818182,
           "rgb(44, 42, 87)"
          ],
          [
           0.2727272727272727,
           "rgb(58, 60, 125)"
          ],
          [
           0.36363636363636365,
           "rgb(62, 83, 160)"
          ],
          [
           0.45454545454545453,
           "rgb(62, 109, 178)"
          ],
          [
           0.5454545454545454,
           "rgb(72, 134, 187)"
          ],
          [
           0.6363636363636364,
           "rgb(89, 159, 196)"
          ],
          [
           0.7272727272727273,
           "rgb(114, 184, 205)"
          ],
          [
           0.8181818181818182,
           "rgb(149, 207, 216)"
          ],
          [
           0.9090909090909091,
           "rgb(192, 229, 232)"
          ],
          [
           1,
           "rgb(234, 252, 253)"
          ]
         ],
         "opacity": 0.1,
         "showscale": false,
         "type": "surface",
         "x": [
          -64.3163,
          -2.683699999999998
         ],
         "y": [
          -19.854300000000002,
          103.8543
         ],
         "z": [
          [
           -63.931,
           -63.931
          ],
          [
           -63.931,
           -63.931
          ]
         ]
        },
        {
         "colorscale": [
          [
           0,
           "rgb(3, 5, 18)"
          ],
          [
           0.09090909090909091,
           "rgb(25, 25, 51)"
          ],
          [
           0.18181818181818182,
           "rgb(44, 42, 87)"
          ],
          [
           0.2727272727272727,
           "rgb(58, 60, 125)"
          ],
          [
           0.36363636363636365,
           "rgb(62, 83, 160)"
          ],
          [
           0.45454545454545453,
           "rgb(62, 109, 178)"
          ],
          [
           0.5454545454545454,
           "rgb(72, 134, 187)"
          ],
          [
           0.6363636363636364,
           "rgb(89, 159, 196)"
          ],
          [
           0.7272727272727273,
           "rgb(114, 184, 205)"
          ],
          [
           0.8181818181818182,
           "rgb(149, 207, 216)"
          ],
          [
           0.9090909090909091,
           "rgb(192, 229, 232)"
          ],
          [
           1,
           "rgb(234, 252, 253)"
          ]
         ],
         "opacity": 0.1,
         "showscale": false,
         "type": "surface",
         "x": [
          -64.3163,
          -2.683699999999998
         ],
         "y": [
          -19.854300000000002,
          103.8543
         ],
         "z": [
          [
           -3.068999999999999,
           -3.068999999999999
          ],
          [
           -3.068999999999999,
           -3.068999999999999
          ]
         ]
        },
        {
         "marker": {
          "color": [
           7.05078125,
           11.9921875,
           20.88671875,
           10.015625,
           13.96875,
           30.76953125,
           16.93359375,
           11.9921875,
           16.93359375,
           10.015625,
           10.015625,
           7.05078125,
           11.9921875,
           8.0390625,
           9.02734375,
           8.0390625,
           12.98046875,
           8.0390625,
           8.0390625,
           10.015625,
           10.015625,
           9.02734375,
           13.96875,
           8.0390625,
           17.921875,
           12.98046875,
           9.02734375,
           18.91015625,
           14.95703125,
           14.95703125,
           9.02734375,
           16.93359375,
           9.02734375,
           37.6875,
           11.00390625,
           32.74609375,
           8.0390625,
           15.9453125,
           18.91015625,
           14.95703125,
           16.93359375,
           19.8984375,
           7.05078125,
           11.9921875,
           10.015625,
           10.015625,
           12.98046875,
           9.02734375,
           6.0625,
           9.02734375,
           7.05078125,
           9.02734375,
           8.0390625,
           9.02734375,
           8.0390625,
           8.0390625,
           7.05078125,
           8.0390625,
           13.96875,
           31.7578125,
           9.02734375,
           9.02734375,
           10.015625,
           10.015625,
           13.96875,
           10.015625,
           11.00390625,
           14.95703125,
           13.96875,
           12.98046875,
           7.05078125,
           18.91015625,
           10.015625,
           11.00390625,
           19.8984375,
           11.00390625,
           10.015625,
           11.00390625,
           14.95703125,
           24.83984375,
           18.91015625,
           8.0390625,
           15.9453125,
           12.98046875,
           11.9921875,
           19.8984375,
           21.875,
           10.015625,
           15.9453125,
           17.921875,
           21.875,
           12.98046875,
           8.0390625,
           11.9921875,
           16.93359375,
           8.0390625,
           23.8515625,
           8.0390625,
           14.95703125,
           21.875,
           18.91015625,
           18.91015625,
           16.93359375,
           14.95703125,
           13.96875,
           8.0390625,
           9.02734375,
           14.95703125,
           13.96875,
           8.0390625,
           10.015625,
           16.93359375,
           11.00390625,
           14.95703125,
           16.93359375,
           11.9921875,
           12.98046875,
           10.015625,
           34.72265625,
           12.98046875,
           34.72265625,
           9.02734375,
           33.734375,
           16.93359375,
           13.96875,
           8.0390625,
           14.95703125,
           19.8984375,
           11.00390625,
           13.96875,
           16.93359375,
           15.9453125,
           16.93359375,
           12.98046875,
           19.8984375,
           14.95703125,
           17.921875,
           17.921875,
           11.9921875,
           9.02734375,
           19.8984375,
           12.98046875,
           11.00390625,
           14.95703125,
           8.0390625,
           18.91015625,
           13.96875,
           21.875,
           19.8984375,
           11.00390625,
           13.96875,
           18.91015625,
           20.88671875,
           13.96875,
           9.02734375,
           20.88671875,
           21.875,
           14.95703125,
           7.05078125,
           21.875,
           11.9921875,
           10.015625,
           11.00390625,
           13.96875,
           11.00390625,
           11.00390625,
           14.95703125,
           7.05078125,
           13.96875,
           12.98046875,
           9.02734375,
           8.0390625,
           11.9921875,
           16.93359375,
           11.9921875,
           12.98046875,
           9.02734375,
           12.98046875,
           10.015625,
           9.02734375,
           7.05078125,
           9.02734375,
           7.05078125,
           10.015625,
           9.02734375,
           8.0390625,
           9.02734375,
           8.0390625,
           10.015625,
           8.0390625,
           12.98046875,
           11.00390625,
           9.02734375,
           11.00390625,
           19.8984375,
           15.9453125,
           11.00390625,
           15.9453125,
           19.8984375,
           11.00390625,
           14.95703125,
           18.91015625,
           11.9921875,
           12.98046875,
           18.91015625,
           11.00390625,
           13.96875,
           20.88671875,
           18.91015625,
           19.8984375,
           10.015625,
           10.015625,
           9.02734375,
           20.88671875,
           8.0390625,
           25.828125,
           12.98046875,
           11.9921875,
           51.5234375,
           9.02734375,
           21.875,
           11.9921875,
           10.015625,
           20.88671875,
           13.96875,
           9.02734375,
           14.95703125,
           11.00390625,
           11.9921875,
           12.98046875,
           11.00390625,
           16.93359375,
           18.91015625,
           13.96875,
           11.9921875,
           8.0390625,
           9.02734375,
           14.95703125,
           11.9921875,
           13.96875,
           9.02734375,
           9.02734375,
           11.00390625,
           9.02734375,
           8.0390625,
           7.05078125,
           11.00390625,
           9.02734375,
           19.8984375,
           9.02734375,
           15.9453125,
           14.95703125,
           52.51171875,
           14.95703125,
           34.72265625,
           8.0390625,
           9.02734375,
           24.83984375,
           9.02734375,
           11.00390625,
           29.78125,
           10.015625,
           30.76953125,
           8.0390625,
           9.02734375,
           16.93359375,
           23.8515625,
           13.96875,
           21.875,
           7.05078125,
           11.00390625,
           7.05078125,
           12.98046875,
           29.78125,
           11.00390625,
           19.8984375,
           7.05078125,
           9.02734375,
           22.86328125,
           11.9921875,
           31.7578125,
           8.0390625,
           13.96875,
           9.02734375,
           28.79296875,
           11.00390625,
           41.640625,
           9.02734375,
           7.05078125,
           13.96875,
           25.828125,
           10.015625,
           30.76953125,
           9.02734375,
           8.0390625,
           15.9453125,
           21.875,
           16.93359375,
           15.9453125,
           11.9921875,
           34.72265625,
           9.02734375,
           7.05078125,
           12.98046875,
           12.98046875,
           23.8515625,
           11.00390625,
           20.88671875,
           17.921875,
           14.95703125,
           12.98046875,
           8.0390625,
           11.00390625,
           11.9921875,
           11.9921875,
           31.7578125,
           11.00390625,
           19.8984375,
           11.00390625,
           20.88671875,
           10.015625,
           27.8046875,
           10.015625,
           11.9921875,
           24.83984375,
           13.96875,
           28.79296875,
           8.0390625,
           14.95703125,
           20.88671875,
           12.98046875,
           23.8515625,
           8.0390625,
           9.02734375,
           8.0390625,
           32.74609375,
           10.015625,
           24.83984375,
           11.00390625,
           11.9921875,
           26.81640625,
           10.015625,
           21.875,
           9.02734375,
           13.96875,
           9.02734375,
           26.81640625,
           9.02734375,
           11.9921875,
           9.02734375,
           16.93359375,
           11.00390625,
           30.76953125,
           9.02734375,
           8.0390625,
           10.015625,
           23.8515625,
           12.98046875,
           25.828125,
           9.02734375,
           9.02734375,
           28.79296875,
           11.00390625,
           25.828125,
           8.0390625,
           10.015625,
           15.9453125,
           7.05078125,
           19.8984375,
           9.02734375,
           11.9921875,
           26.81640625,
           11.00390625,
           22.86328125,
           8.0390625,
           15.9453125,
           21.875,
           11.00390625,
           13.96875,
           12.98046875,
           28.79296875,
           11.9921875,
           11.00390625,
           8.0390625,
           9.02734375,
           12.98046875,
           23.8515625,
           11.00390625,
           17.921875,
           13.96875,
           16.93359375,
           14.95703125,
           20.88671875,
           17.921875,
           10.015625,
           11.9921875,
           11.00390625,
           26.81640625,
           11.00390625,
           11.9921875,
           8.0390625,
           12.98046875,
           23.8515625,
           20.88671875,
           19.8984375,
           11.9921875,
           12.98046875,
           8.0390625,
           9.02734375,
           18.91015625,
           11.9921875,
           28.79296875,
           8.0390625,
           10.015625,
           7.05078125,
           16.93359375,
           13.96875,
           9.02734375,
           11.00390625,
           14.95703125,
           13.96875,
           11.00390625,
           10.015625,
           7.05078125,
           11.00390625,
           38.67578125,
           10.015625,
           28.79296875,
           9.02734375,
           8.0390625,
           17.921875,
           11.9921875,
           11.00390625,
           21.875,
           11.9921875,
           11.9921875,
           16.93359375,
           13.96875,
           18.91015625,
           12.98046875,
           23.8515625,
           8.0390625,
           15.9453125,
           18.91015625,
           16.93359375,
           13.96875,
           11.00390625,
           13.96875,
           29.78125,
           9.02734375,
           6.0625,
           30.76953125,
           7.05078125,
           24.83984375,
           22.86328125,
           10.015625,
           16.93359375,
           27.8046875,
           11.9921875,
           9.02734375,
           8.0390625,
           12.98046875,
           19.8984375,
           11.9921875,
           20.88671875,
           15.9453125,
           11.00390625,
           13.96875,
           23.8515625,
           11.9921875,
           11.9921875,
           9.02734375,
           13.96875,
           23.8515625,
           11.9921875,
           16.93359375,
           9.02734375,
           11.9921875,
           11.9921875,
           14.95703125,
           10.015625,
           11.9921875,
           11.9921875,
           9.02734375,
           12.98046875,
           24.83984375,
           10.015625,
           17.921875,
           11.00390625,
           8.0390625,
           18.91015625,
           12.98046875,
           11.00390625,
           15.9453125,
           8.0390625,
           9.02734375,
           8.0390625,
           11.00390625,
           26.81640625,
           9.02734375,
           16.93359375,
           9.02734375,
           12.98046875,
           10.015625,
           23.8515625,
           20.88671875,
           8.0390625,
           11.00390625,
           11.00390625,
           26.81640625,
           18.91015625,
           13.96875,
           10.015625,
           19.8984375,
           11.9921875,
           12.98046875,
           11.9921875,
           9.02734375,
           13.96875,
           12.98046875,
           24.83984375,
           9.02734375,
           9.02734375,
           16.93359375,
           51.5234375,
           11.9921875,
           11.9921875,
           23.8515625,
           14.95703125,
           12.98046875,
           12.98046875,
           9.02734375,
           28.79296875,
           10.015625,
           12.98046875,
           21.875,
           9.02734375,
           15.9453125,
           20.88671875,
           7.05078125,
           12.98046875,
           10.015625,
           13.96875,
           11.00390625,
           11.00390625,
           26.81640625,
           9.02734375,
           17.921875,
           13.96875,
           11.9921875,
           11.00390625,
           12.98046875,
           11.00390625,
           12.98046875,
           8.0390625,
           13.96875,
           16.93359375,
           10.015625,
           28.79296875,
           7.05078125,
           11.9921875,
           9.02734375,
           15.9453125,
           21.875,
           12.98046875,
           8.0390625,
           18.91015625,
           16.93359375,
           29.78125,
           11.00390625,
           12.98046875,
           22.86328125,
           11.00390625,
           8.0390625,
           16.93359375,
           21.875,
           14.95703125,
           7.05078125,
           10.015625,
           13.96875,
           15.9453125,
           7.05078125,
           9.02734375,
           11.00390625,
           18.91015625,
           8.0390625,
           10.015625,
           16.93359375,
           15.9453125,
           16.93359375,
           8.0390625,
           13.96875,
           19.8984375,
           11.9921875,
           11.00390625,
           23.8515625,
           8.0390625,
           12.98046875,
           9.02734375,
           11.00390625,
           14.95703125,
           12.98046875,
           17.921875,
           18.91015625,
           12.98046875,
           11.9921875,
           13.96875,
           19.8984375,
           9.02734375,
           14.95703125,
           19.8984375,
           18.91015625,
           17.921875,
           14.95703125,
           20.88671875,
           9.02734375,
           12.98046875,
           15.9453125,
           17.921875,
           19.8984375,
           8.0390625,
           15.9453125,
           9.02734375,
           10.015625,
           14.95703125,
           17.921875,
           11.9921875,
           22.86328125,
           17.921875,
           14.95703125,
           14.95703125,
           13.96875,
           21.875,
           11.00390625,
           15.9453125,
           13.96875,
           11.00390625,
           17.921875,
           18.91015625,
           8.0390625,
           17.921875,
           15.9453125,
           19.8984375,
           11.9921875,
           21.875,
           16.93359375,
           12.98046875,
           12.98046875,
           16.93359375,
           22.86328125,
           19.8984375,
           17.921875,
           9.02734375,
           27.8046875,
           28.79296875,
           26.81640625,
           31.7578125,
           29.78125,
           29.78125,
           33.734375,
           33.734375,
           21.875,
           15.9453125,
           8.0390625,
           14.95703125,
           10.015625,
           9.02734375,
           10.015625,
           73.265625,
           8.0390625,
           8.0390625,
           9.02734375,
           8.0390625,
           11.00390625,
           9.02734375,
           13.96875,
           11.9921875,
           24.83984375,
           14.95703125,
           11.00390625,
           28.79296875,
           20.88671875,
           12.98046875,
           10.015625,
           28.79296875,
           17.921875,
           17.921875,
           9.02734375,
           26.81640625,
           15.9453125,
           15.9453125,
           20.88671875,
           19.8984375,
           8.0390625,
           28.79296875,
           19.8984375,
           11.00390625,
           22.86328125,
           21.875,
           10.015625,
           11.00390625,
           22.86328125,
           8.0390625,
           18.91015625,
           21.875,
           11.9921875,
           10.015625,
           13.96875,
           30.76953125,
           77.21875,
           10.015625,
           24.83984375,
           136.515625,
           88.08984375,
           23.8515625,
           11.00390625,
           20.88671875,
           70.30078125,
           39.6640625,
           10.015625,
           17.921875,
           45.59375,
           33.734375,
           10.015625,
           16.93359375,
           29.78125,
           31.7578125,
           9.02734375,
           16.93359375,
           18.91015625,
           27.8046875,
           8.0390625,
           7.05078125,
           17.921875,
           9.02734375,
           8.0390625,
           16.93359375,
           15.9453125,
           21.875,
           20.88671875,
           19.8984375,
           9.02734375,
           11.00390625,
           10.015625,
           11.00390625,
           10.015625,
           20.88671875,
           8.0390625,
           13.96875,
           14.95703125,
           8.0390625,
           10.015625,
           25.828125,
           9.02734375,
           10.015625,
           20.88671875,
           14.95703125,
           10.015625,
           17.921875,
           9.02734375,
           19.8984375,
           8.0390625,
           20.88671875,
           11.00390625,
           13.96875,
           11.00390625,
           13.96875,
           14.95703125,
           10.015625,
           16.93359375,
           7.05078125,
           11.9921875,
           33.734375,
           8.0390625,
           16.93359375,
           17.921875,
           14.95703125,
           7.05078125,
           10.015625,
           22.86328125,
           7.05078125,
           10.015625,
           13.96875,
           13.96875,
           9.02734375,
           22.86328125,
           18.91015625,
           21.875,
           8.0390625,
           8.0390625,
           9.02734375,
           17.921875,
           11.00390625,
           11.9921875,
           10.015625,
           13.96875,
           14.95703125,
           7.05078125,
           16.93359375,
           11.9921875,
           13.96875,
           17.921875,
           17.921875,
           11.00390625,
           11.00390625,
           22.86328125,
           19.8984375,
           10.015625,
           11.9921875,
           10.015625,
           8.0390625,
           12.98046875,
           21.875,
           17.921875,
           14.95703125,
           19.8984375,
           19.8984375,
           14.95703125,
           9.02734375,
           15.9453125,
           11.00390625,
           8.0390625,
           7.05078125,
           11.9921875,
           20.88671875,
           22.86328125,
           22.86328125,
           11.9921875,
           8.0390625,
           20.88671875,
           12.98046875,
           10.015625,
           15.9453125,
           17.921875,
           11.9921875,
           15.9453125,
           13.96875,
           9.02734375,
           13.96875,
           17.921875,
           11.9921875,
           17.921875,
           16.93359375,
           15.9453125,
           13.96875,
           11.9921875,
           10.015625,
           13.96875,
           10.015625,
           14.95703125,
           28.79296875,
           12.98046875,
           39.6640625,
           17.921875,
           11.9921875,
           16.93359375,
           9.02734375,
           14.95703125,
           17.921875,
           22.86328125,
           16.93359375,
           13.96875,
           10.015625,
           11.9921875,
           34.72265625,
           7.05078125,
           13.96875,
           11.9921875,
           9.02734375,
           17.921875,
           15.9453125,
           18.91015625,
           9.02734375,
           8.0390625,
           15.9453125,
           7.05078125,
           16.93359375,
           13.96875,
           11.00390625,
           12.98046875,
           11.9921875,
           17.921875,
           8.0390625,
           12.98046875,
           17.921875,
           9.02734375,
           18.91015625,
           13.96875,
           9.02734375,
           15.9453125,
           13.96875,
           9.02734375,
           16.93359375,
           15.9453125,
           7.05078125,
           9.02734375,
           17.921875,
           16.93359375,
           18.91015625,
           10.015625,
           17.921875,
           15.9453125,
           11.9921875,
           8.0390625,
           8.0390625,
           18.91015625,
           31.7578125,
           10.015625,
           21.875,
           14.95703125,
           10.015625,
           11.9921875,
           13.96875,
           20.88671875,
           13.96875,
           7.05078125,
           9.02734375,
           14.95703125,
           13.96875,
           11.9921875,
           8.0390625,
           17.921875,
           9.02734375,
           15.9453125,
           16.93359375,
           16.93359375,
           18.91015625,
           10.015625,
           14.95703125,
           9.02734375,
           15.9453125,
           14.95703125,
           22.86328125,
           22.86328125,
           15.9453125,
           10.015625,
           12.98046875,
           17.921875,
           11.00390625,
           7.05078125,
           15.9453125,
           14.95703125,
           13.96875,
           39.6640625,
           12.98046875,
           11.00390625,
           11.00390625,
           11.00390625,
           15.9453125,
           11.9921875,
           8.0390625,
           8.0390625,
           9.02734375,
           11.9921875,
           8.0390625,
           15.9453125,
           17.921875,
           18.91015625,
           17.921875,
           7.05078125,
           18.91015625,
           18.91015625,
           13.96875,
           10.015625,
           10.015625,
           16.93359375,
           20.88671875,
           17.921875,
           11.9921875,
           12.98046875,
           18.91015625,
           11.9921875,
           8.0390625,
           11.00390625,
           9.02734375,
           11.00390625,
           17.921875,
           15.9453125,
           17.921875,
           14.95703125,
           8.0390625,
           11.9921875,
           12.98046875,
           8.0390625,
           17.921875,
           19.8984375,
           13.96875,
           9.02734375,
           23.8515625,
           21.875,
           11.9921875,
           11.9921875,
           13.96875,
           10.015625,
           20.88671875,
           10.015625,
           17.921875,
           11.9921875,
           12.98046875,
           11.9921875,
           8.0390625,
           11.9921875,
           11.00390625,
           14.95703125,
           7.05078125,
           13.96875,
           10.015625,
           16.93359375,
           9.02734375,
           13.96875,
           8.0390625,
           9.02734375,
           8.0390625,
           11.9921875,
           19.8984375,
           14.95703125,
           10.015625,
           13.96875,
           13.96875,
           14.95703125,
           8.0390625,
           8.0390625,
           11.00390625,
           26.81640625,
           13.96875,
           10.015625,
           26.81640625,
           12.98046875,
           24.83984375,
           10.015625,
           7.05078125,
           9.02734375,
           12.98046875,
           13.96875,
           9.02734375,
           12.98046875,
           11.00390625,
           11.9921875,
           15.9453125,
           8.0390625,
           17.921875,
           17.921875,
           14.95703125,
           16.93359375,
           14.95703125,
           12.98046875,
           9.02734375,
           14.95703125,
           9.02734375,
           11.9921875,
           37.6875,
           10.015625,
           37.6875,
           31.7578125,
           12.98046875,
           36.69921875,
           8.0390625,
           11.9921875,
           13.96875,
           8.0390625,
           11.00390625,
           11.00390625,
           10.015625,
           11.9921875,
           18.91015625,
           21.875,
           13.96875,
           9.02734375,
           24.83984375,
           11.00390625,
           12.98046875,
           11.9921875,
           7.05078125,
           17.921875,
           8.0390625,
           13.96875,
           11.9921875,
           9.02734375,
           16.93359375,
           18.91015625,
           19.8984375,
           14.95703125,
           26.81640625,
           10.015625,
           17.921875,
           26.81640625,
           11.9921875,
           9.02734375,
           11.9921875,
           11.00390625,
           7.05078125,
           15.9453125,
           9.02734375,
           8.0390625,
           15.9453125,
           12.98046875,
           16.93359375,
           11.9921875,
           10.015625,
           11.9921875,
           11.9921875,
           10.015625,
           8.0390625,
           8.0390625,
           7.05078125,
           8.0390625,
           7.05078125,
           8.0390625,
           21.875,
           14.95703125,
           7.05078125,
           8.0390625,
           8.0390625,
           11.00390625,
           11.00390625,
           13.96875,
           12.98046875,
           13.96875,
           10.015625,
           9.02734375,
           15.9453125,
           14.95703125,
           17.921875,
           11.00390625,
           7.05078125,
           10.015625,
           8.0390625,
           17.921875,
           11.9921875,
           9.02734375,
           13.96875,
           19.8984375,
           20.88671875,
           15.9453125,
           11.9921875,
           10.015625,
           9.02734375,
           12.98046875,
           15.9453125,
           13.96875,
           14.95703125,
           11.9921875,
           9.02734375,
           22.86328125,
           11.9921875,
           23.8515625,
           17.921875,
           18.91015625,
           9.02734375,
           14.95703125,
           13.96875,
           9.02734375,
           9.02734375,
           13.96875,
           12.98046875,
           9.02734375,
           21.875,
           11.9921875,
           7.05078125,
           9.02734375,
           8.0390625,
           9.02734375,
           10.015625,
           9.02734375,
           10.015625,
           11.9921875,
           14.95703125,
           15.9453125,
           16.93359375,
           17.921875,
           11.00390625,
           10.015625,
           18.91015625,
           12.98046875,
           9.02734375,
           14.95703125,
           17.921875,
           20.88671875,
           14.95703125,
           19.8984375,
           20.88671875,
           13.96875,
           13.96875,
           14.95703125,
           9.02734375,
           15.9453125,
           17.921875,
           16.93359375,
           10.015625,
           15.9453125,
           21.875,
           14.95703125,
           13.96875,
           9.02734375,
           13.96875,
           9.02734375,
           10.015625,
           12.98046875,
           18.91015625,
           10.015625,
           37.6875,
           12.98046875,
           35.7109375,
           8.0390625,
           32.74609375,
           13.96875,
           11.00390625,
           12.98046875,
           11.9921875,
           12.98046875,
           11.9921875,
           11.9921875,
           11.9921875,
           13.96875,
           19.8984375,
           13.96875,
           9.02734375,
           18.91015625,
           9.02734375,
           15.9453125,
           13.96875,
           8.0390625,
           14.95703125,
           20.88671875,
           9.02734375,
           12.98046875,
           12.98046875,
           11.9921875,
           17.921875,
           11.9921875,
           9.02734375,
           12.98046875,
           9.02734375,
           11.00390625,
           12.98046875,
           16.93359375,
           12.98046875,
           10.015625,
           12.98046875,
           14.95703125,
           15.9453125,
           11.9921875,
           15.9453125,
           10.015625,
           15.9453125,
           9.02734375,
           6.0625,
           10.015625,
           11.00390625,
           9.02734375,
           9.02734375,
           7.05078125,
           7.05078125,
           9.02734375,
           12.98046875,
           12.98046875,
           16.93359375,
           11.00390625,
           21.875,
           14.95703125,
           19.8984375,
           10.015625,
           7.05078125,
           7.05078125,
           10.015625,
           10.015625,
           18.91015625,
           8.0390625,
           10.015625,
           10.015625,
           15.9453125,
           10.015625,
           8.0390625,
           8.0390625,
           35.7109375,
           9.02734375,
           8.0390625,
           8.0390625,
           13.96875,
           10.015625,
           10.015625,
           8.0390625,
           11.9921875,
           8.0390625,
           8.0390625,
           16.93359375,
           11.00390625,
           17.921875,
           17.921875,
           16.93359375,
           11.00390625,
           9.02734375,
           33.734375,
           9.02734375,
           11.9921875,
           11.00390625,
           11.9921875,
           13.96875,
           19.8984375,
           11.00390625,
           9.02734375,
           10.015625,
           12.98046875,
           13.96875,
           18.91015625,
           13.96875,
           16.93359375,
           12.98046875,
           13.96875,
           20.88671875,
           8.0390625,
           14.95703125,
           23.8515625,
           24.83984375,
           11.00390625,
           17.921875,
           19.8984375,
           17.921875,
           8.0390625,
           15.9453125,
           21.875,
           11.9921875,
           14.95703125,
           15.9453125,
           15.9453125,
           12.98046875,
           15.9453125,
           11.9921875,
           10.015625,
           12.98046875,
           9.02734375,
           16.93359375,
           11.9921875,
           13.96875,
           8.0390625,
           14.95703125,
           8.0390625,
           21.875,
           11.9921875,
           11.00390625,
           15.9453125,
           16.93359375,
           13.96875,
           7.05078125,
           18.91015625,
           14.95703125,
           11.9921875,
           9.02734375,
           8.0390625,
           11.9921875,
           18.91015625,
           11.00390625,
           11.9921875,
           20.88671875,
           10.015625,
           11.9921875,
           17.921875,
           14.95703125,
           8.0390625,
           13.96875,
           16.93359375,
           11.9921875,
           11.00390625,
           9.02734375,
           14.95703125,
           13.96875,
           9.02734375,
           20.88671875,
           16.93359375,
           16.93359375,
           18.91015625,
           17.921875,
           13.96875,
           8.0390625,
           15.9453125,
           19.8984375,
           12.98046875,
           11.9921875,
           14.95703125,
           38.67578125,
           10.015625,
           28.79296875,
           13.96875,
           8.0390625,
           32.74609375,
           13.96875,
           13.96875,
           29.78125,
           10.015625,
           23.8515625,
           10.015625,
           12.98046875,
           11.00390625,
           18.91015625,
           11.9921875,
           9.02734375,
           11.00390625,
           33.734375,
           11.00390625,
           27.8046875,
           8.0390625,
           40.65234375,
           11.00390625,
           17.921875,
           11.00390625,
           11.9921875,
           20.88671875,
           12.98046875,
           8.0390625,
           8.0390625,
           9.02734375,
           8.0390625,
           9.02734375,
           6.0625,
           7.05078125,
           13.96875,
           16.93359375,
           20.88671875,
           32.74609375,
           7.05078125,
           10.015625,
           8.0390625,
           9.02734375,
           11.00390625,
           8.0390625,
           7.05078125,
           9.02734375,
           8.0390625,
           9.02734375,
           9.02734375,
           8.0390625,
           17.921875,
           9.02734375,
           10.015625,
           14.95703125,
           13.96875,
           12.98046875,
           12.98046875,
           11.9921875,
           8.0390625,
           9.02734375,
           11.00390625,
           11.00390625,
           10.015625,
           7.05078125,
           12.98046875,
           8.0390625,
           14.95703125,
           13.96875,
           9.02734375,
           14.95703125,
           13.96875,
           15.9453125,
           11.00390625,
           11.9921875,
           12.98046875,
           42.62890625,
           9.02734375,
           8.0390625,
           10.015625,
           15.9453125,
           9.02734375,
           13.96875,
           10.015625,
           16.93359375,
           8.0390625,
           12.98046875,
           13.96875,
           10.015625,
           11.9921875,
           11.9921875,
           10.015625,
           13.96875,
           12.98046875,
           11.9921875,
           12.98046875,
           20.88671875,
           11.00390625,
           13.96875,
           10.015625,
           7.05078125,
           40.65234375,
           13.96875,
           31.7578125,
           9.02734375,
           12.98046875,
           17.921875,
           18.91015625,
           9.02734375,
           11.9921875,
           16.93359375,
           7.05078125,
           10.015625,
           20.88671875,
           8.0390625,
           11.00390625,
           10.015625,
           25.828125,
           16.93359375,
           17.921875,
           12.98046875,
           7.05078125,
           21.875,
           11.00390625,
           8.0390625,
           9.02734375,
           15.9453125,
           11.00390625,
           12.98046875,
           11.9921875,
           11.00390625,
           11.00390625,
           6.0625,
           8.0390625,
           11.9921875,
           11.00390625,
           15.9453125,
           11.00390625,
           18.91015625,
           13.96875,
           9.02734375,
           11.9921875,
           12.98046875,
           8.0390625,
           19.8984375,
           7.05078125,
           18.91015625,
           8.0390625,
           11.9921875,
           11.9921875,
           11.00390625,
           6.0625,
           8.0390625,
           11.00390625,
           11.9921875,
           11.9921875,
           25.828125,
           11.00390625,
           13.96875,
           11.00390625,
           11.00390625,
           11.00390625,
           11.00390625,
           8.0390625,
           13.96875,
           19.8984375,
           12.98046875,
           7.05078125,
           7.05078125,
           16.93359375,
           11.9921875,
           31.7578125,
           8.0390625,
           17.921875,
           10.015625,
           15.9453125,
           9.02734375,
           31.7578125,
           11.00390625,
           34.72265625,
           11.00390625,
           31.7578125,
           10.015625,
           29.78125,
           8.0390625,
           24.83984375,
           15.9453125,
           9.02734375,
           23.8515625,
           10.015625,
           11.9921875,
           9.02734375,
           16.93359375,
           9.02734375,
           15.9453125,
           10.015625,
           12.98046875,
           9.02734375,
           15.9453125,
           10.015625,
           14.95703125,
           13.96875,
           11.00390625,
           14.95703125,
           9.02734375,
           11.00390625,
           11.00390625,
           18.91015625,
           17.921875,
           16.93359375,
           8.0390625,
           17.921875,
           18.91015625,
           13.96875,
           11.00390625,
           11.9921875,
           11.00390625,
           21.875,
           13.96875,
           11.9921875,
           9.02734375,
           17.921875,
           28.79296875,
           18.91015625,
           14.95703125,
           7.05078125,
           14.95703125,
           8.0390625,
           16.93359375,
           13.96875,
           13.96875,
           16.93359375,
           7.05078125,
           19.8984375,
           11.00390625,
           13.96875,
           9.02734375,
           16.93359375,
           12.98046875,
           11.00390625,
           21.875,
           14.95703125,
           6.0625,
           15.9453125,
           14.95703125,
           8.0390625,
           12.98046875,
           11.9921875,
           14.95703125,
           11.9921875,
           14.95703125,
           11.9921875,
           12.98046875,
           13.96875,
           15.9453125,
           13.96875,
           21.875,
           14.95703125,
           19.8984375,
           19.8984375,
           18.91015625,
           15.9453125,
           17.921875,
           13.96875,
           12.98046875,
           11.00390625,
           14.95703125,
           15.9453125,
           19.8984375,
           13.96875,
           8.0390625,
           13.96875,
           8.0390625,
           20.88671875,
           15.9453125,
           9.02734375,
           13.96875,
           11.00390625,
           11.00390625,
           11.00390625,
           12.98046875,
           14.95703125,
           9.02734375,
           24.83984375,
           10.015625,
           15.9453125,
           11.9921875,
           23.8515625,
           11.00390625,
           20.88671875,
           10.015625,
           11.9921875,
           13.96875,
           9.02734375,
           13.96875,
           15.9453125,
           12.98046875,
           10.015625,
           8.0390625,
           15.9453125,
           10.015625,
           15.9453125,
           13.96875,
           11.00390625,
           15.9453125,
           16.93359375,
           16.93359375,
           7.05078125,
           15.9453125,
           11.00390625,
           11.9921875,
           20.88671875,
           10.015625,
           17.921875,
           12.98046875,
           13.96875,
           11.00390625,
           12.98046875,
           11.00390625,
           12.98046875,
           13.96875,
           8.0390625,
           14.95703125,
           10.015625,
           19.8984375,
           14.95703125,
           19.8984375,
           9.02734375,
           12.98046875,
           11.00390625,
           31.7578125,
           24.83984375,
           10.015625,
           11.00390625,
           16.93359375,
           10.015625,
           15.9453125,
           10.015625,
           11.9921875,
           17.921875,
           20.88671875,
           9.02734375,
           14.95703125,
           7.05078125,
           29.78125,
           15.9453125,
           29.78125,
           11.00390625,
           11.9921875,
           8.0390625,
           15.9453125,
           10.015625,
           11.00390625,
           12.98046875,
           8.0390625,
           19.8984375,
           13.96875,
           10.015625,
           18.91015625,
           17.921875,
           12.98046875,
           11.00390625,
           10.015625,
           13.96875,
           15.9453125,
           14.95703125,
           16.93359375,
           16.93359375,
           18.91015625,
           13.96875,
           8.0390625,
           19.8984375,
           19.8984375,
           11.9921875,
           11.00390625,
           10.015625,
           13.96875,
           13.96875,
           14.95703125,
           14.95703125,
           11.9921875,
           11.9921875,
           9.02734375,
           9.02734375,
           8.0390625,
           8.0390625,
           7.05078125,
           7.05078125,
           7.05078125,
           7.05078125,
           9.02734375
          ],
          "size": 3,
          "symbol": "square"
         },
         "mode": "markers",
         "name": "larpix packets",
         "opacity": 1,
         "showlegend": true,
         "type": "scatter3d",
         "visible": "legendonly",
         "x": [
          41.7029,
          36.3821,
          53.2313,
          53.67470000000001,
          11.5517,
          55.448299999999996,
          55.448299999999996,
          55.448299999999996,
          55.448299999999996,
          55.0049,
          55.448299999999996,
          55.448299999999996,
          12.881899999999996,
          47.0237,
          47.9105,
          48.7973,
          49.6841,
          50.1275,
          50.1275,
          50.5709,
          51.014300000000006,
          51.014300000000006,
          51.4577,
          51.4577,
          51.9011,
          52.344500000000004,
          52.344500000000004,
          52.7879,
          53.2313,
          53.67470000000001,
          54.118100000000005,
          54.118100000000005,
          54.5615,
          54.5615,
          55.0049,
          55.0049,
          55.448299999999996,
          55.448299999999996,
          55.8917,
          56.3351,
          56.77850000000001,
          57.221900000000005,
          57.6653,
          57.6653,
          58.1087,
          58.552099999999996,
          58.99550000000001,
          59.438900000000004,
          59.438900000000004,
          59.88230000000001,
          60.325700000000005,
          62.5427,
          6.6742999999999935,
          7.117699999999997,
          8.447899999999999,
          11.108299999999996,
          11.995099999999997,
          12.4385,
          12.881899999999996,
          12.881899999999996,
          13.325299999999999,
          13.768699999999999,
          14.212099999999998,
          14.655499999999998,
          15.098899999999997,
          15.542300000000001,
          15.9857,
          16.4291,
          16.8725,
          17.3159,
          17.3159,
          17.7593,
          18.2027,
          18.2027,
          18.646099999999997,
          19.089499999999997,
          19.089499999999997,
          19.5329,
          19.5329,
          19.976300000000002,
          20.4197,
          20.8631,
          20.8631,
          21.3065,
          21.3065,
          21.7499,
          22.1933,
          22.636699999999998,
          22.636699999999998,
          23.080099999999998,
          23.5235,
          23.9669,
          23.9669,
          24.4103,
          24.4103,
          24.8537,
          24.8537,
          25.2971,
          25.2971,
          25.740499999999997,
          26.1839,
          26.6273,
          27.0707,
          27.514099999999996,
          27.9575,
          27.9575,
          28.4009,
          28.4009,
          28.844299999999997,
          28.844299999999997,
          29.287699999999994,
          29.287699999999994,
          29.73109999999999,
          29.73109999999999,
          30.174500000000002,
          30.6179,
          30.6179,
          31.061299999999996,
          31.061299999999996,
          31.504700000000003,
          31.504700000000003,
          31.9481,
          31.9481,
          31.9481,
          32.39149999999999,
          32.83489999999999,
          32.83489999999999,
          33.2783,
          33.7217,
          33.7217,
          34.16510000000001,
          34.16510000000001,
          34.60850000000001,
          34.60850000000001,
          35.0519,
          35.4953,
          35.938700000000004,
          36.3821,
          36.8255,
          36.8255,
          37.26890000000001,
          37.712300000000006,
          37.712300000000006,
          38.1557,
          38.1557,
          38.5991,
          39.042500000000004,
          39.4859,
          39.9293,
          40.372699999999995,
          40.372699999999995,
          40.8161,
          41.2595,
          41.7029,
          41.7029,
          42.1463,
          42.5897,
          43.033100000000005,
          43.033100000000005,
          43.4765,
          43.9199,
          43.9199,
          44.3633,
          44.3633,
          44.8067,
          44.8067,
          45.250099999999996,
          45.250099999999996,
          45.6935,
          46.136900000000004,
          46.136900000000004,
          46.5803,
          46.5803,
          47.0237,
          47.4671,
          47.9105,
          48.353899999999996,
          48.7973,
          49.240700000000004,
          49.6841,
          50.1275,
          50.5709,
          55.0049,
          58.1087,
          58.552099999999996,
          58.99550000000001,
          59.438900000000004,
          59.88230000000001,
          60.325700000000005,
          60.325700000000005,
          60.7691,
          61.2125,
          61.2125,
          61.655899999999995,
          62.09930000000001,
          62.5427,
          62.5427,
          62.9861,
          63.429500000000004,
          63.8729,
          63.8729,
          64.3163,
          2.683699999999999,
          3.127099999999996,
          3.5704999999999982,
          4.013900000000001,
          4.013900000000001,
          4.457299999999998,
          4.900699999999995,
          5.344099999999997,
          5.7875,
          5.7875,
          6.2308999999999966,
          6.2308999999999966,
          6.6742999999999935,
          6.6742999999999935,
          6.6742999999999935,
          7.117699999999997,
          7.117699999999997,
          7.561099999999999,
          7.561099999999999,
          8.004499999999997,
          8.004499999999997,
          8.447899999999999,
          8.891299999999998,
          9.334699999999998,
          9.334699999999998,
          9.778099999999998,
          9.778099999999998,
          10.221499999999997,
          10.221499999999997,
          10.664899999999998,
          11.108299999999996,
          11.5517,
          11.995099999999997,
          11.995099999999997,
          12.4385,
          12.4385,
          12.881899999999996,
          13.325299999999999,
          13.768699999999999,
          14.212099999999998,
          14.655499999999998,
          15.098899999999997,
          15.542300000000001,
          16.4291,
          31.9481,
          7.117699999999997,
          7.117699999999997,
          7.561099999999999,
          7.561099999999999,
          64.3163,
          64.3163,
          64.3163,
          64.3163,
          63.8729,
          64.3163,
          64.3163,
          62.9861,
          63.429500000000004,
          63.429500000000004,
          63.8729,
          63.8729,
          64.3163,
          62.09930000000001,
          62.5427,
          62.5427,
          62.9861,
          62.9861,
          63.429500000000004,
          61.2125,
          61.2125,
          61.655899999999995,
          61.655899999999995,
          62.09930000000001,
          62.09930000000001,
          59.88230000000001,
          60.325700000000005,
          60.325700000000005,
          60.7691,
          60.7691,
          61.2125,
          61.2125,
          59.438900000000004,
          59.438900000000004,
          59.88230000000001,
          59.88230000000001,
          60.325700000000005,
          58.1087,
          58.552099999999996,
          58.552099999999996,
          58.99550000000001,
          58.99550000000001,
          59.438900000000004,
          57.221900000000005,
          57.6653,
          57.6653,
          58.1087,
          58.1087,
          62.09930000000001,
          62.09930000000001,
          62.5427,
          56.3351,
          56.3351,
          56.77850000000001,
          56.77850000000001,
          57.221900000000005,
          57.221900000000005,
          62.5427,
          62.5427,
          62.9861,
          50.5709,
          55.448299999999996,
          55.448299999999996,
          55.8917,
          55.8917,
          56.3351,
          56.3351,
          54.5615,
          54.5615,
          55.0049,
          55.0049,
          55.448299999999996,
          53.67470000000001,
          53.67470000000001,
          54.118100000000005,
          54.118100000000005,
          54.5615,
          52.7879,
          52.7879,
          53.2313,
          53.2313,
          53.67470000000001,
          51.4577,
          51.9011,
          51.9011,
          52.344500000000004,
          52.344500000000004,
          50.5709,
          51.014300000000006,
          51.014300000000006,
          51.4577,
          51.4577,
          49.6841,
          49.6841,
          50.1275,
          50.1275,
          50.5709,
          50.5709,
          48.7973,
          48.7973,
          49.240700000000004,
          49.240700000000004,
          49.6841,
          49.6841,
          47.9105,
          47.9105,
          48.353899999999996,
          48.353899999999996,
          48.7973,
          47.0237,
          47.0237,
          47.4671,
          47.4671,
          47.9105,
          63.429500000000004,
          63.429500000000004,
          63.8729,
          64.3163,
          45.6935,
          46.136900000000004,
          46.136900000000004,
          46.5803,
          46.5803,
          47.0237,
          62.09930000000001,
          62.5427,
          62.9861,
          62.9861,
          63.429500000000004,
          63.429500000000004,
          63.8729,
          63.8729,
          44.8067,
          44.8067,
          45.250099999999996,
          45.250099999999996,
          45.6935,
          45.6935,
          59.88230000000001,
          60.325700000000005,
          60.7691,
          61.2125,
          61.655899999999995,
          43.9199,
          43.9199,
          44.3633,
          44.3633,
          44.8067,
          44.8067,
          57.6653,
          58.1087,
          58.1087,
          58.552099999999996,
          58.99550000000001,
          59.438900000000004,
          59.438900000000004,
          59.88230000000001,
          43.033100000000005,
          43.033100000000005,
          43.4765,
          43.4765,
          43.9199,
          43.9199,
          55.448299999999996,
          55.8917,
          56.3351,
          56.3351,
          56.77850000000001,
          56.77850000000001,
          57.221900000000005,
          57.221900000000005,
          57.6653,
          58.1087,
          42.1463,
          42.1463,
          42.5897,
          42.5897,
          43.033100000000005,
          53.2313,
          53.67470000000001,
          54.118100000000005,
          54.118100000000005,
          54.5615,
          55.0049,
          55.0049,
          55.448299999999996,
          41.2595,
          41.2595,
          41.7029,
          41.7029,
          42.1463,
          51.4577,
          51.9011,
          52.344500000000004,
          52.7879,
          52.7879,
          53.2313,
          53.2313,
          53.67470000000001,
          40.372699999999995,
          40.372699999999995,
          40.8161,
          40.8161,
          49.6841,
          50.1275,
          50.1275,
          50.5709,
          51.014300000000006,
          51.014300000000006,
          51.4577,
          39.4859,
          39.4859,
          39.9293,
          39.9293,
          47.9105,
          48.353899999999996,
          48.353899999999996,
          48.7973,
          49.240700000000004,
          49.240700000000004,
          38.1557,
          38.5991,
          38.5991,
          39.042500000000004,
          39.042500000000004,
          46.136900000000004,
          46.5803,
          46.5803,
          47.0237,
          47.0237,
          47.4671,
          47.4671,
          37.26890000000001,
          37.712300000000006,
          37.712300000000006,
          38.1557,
          38.1557,
          44.3633,
          44.8067,
          44.8067,
          45.250099999999996,
          45.250099999999996,
          45.6935,
          46.136900000000004,
          36.3821,
          36.3821,
          36.8255,
          36.8255,
          37.26890000000001,
          37.26890000000001,
          42.5897,
          43.033100000000005,
          43.033100000000005,
          43.4765,
          43.9199,
          44.3633,
          35.4953,
          35.938700000000004,
          35.938700000000004,
          36.3821,
          41.2595,
          41.2595,
          41.7029,
          42.1463,
          42.1463,
          42.5897,
          34.60850000000001,
          34.60850000000001,
          35.0519,
          35.0519,
          35.4953,
          35.4953,
          39.4859,
          39.4859,
          39.9293,
          39.9293,
          40.372699999999995,
          40.8161,
          33.7217,
          33.7217,
          34.16510000000001,
          34.16510000000001,
          34.60850000000001,
          37.26890000000001,
          37.712300000000006,
          38.1557,
          38.1557,
          38.5991,
          39.042500000000004,
          39.042500000000004,
          39.4859,
          32.83489999999999,
          32.83489999999999,
          33.2783,
          33.2783,
          33.7217,
          35.4953,
          35.938700000000004,
          35.938700000000004,
          36.3821,
          36.3821,
          36.8255,
          36.8255,
          37.26890000000001,
          31.9481,
          31.9481,
          32.39149999999999,
          32.39149999999999,
          32.83489999999999,
          33.2783,
          33.7217,
          33.7217,
          34.16510000000001,
          34.60850000000001,
          34.60850000000001,
          35.0519,
          58.1087,
          58.1087,
          58.552099999999996,
          31.061299999999996,
          31.061299999999996,
          31.504700000000003,
          31.504700000000003,
          31.504700000000003,
          31.504700000000003,
          31.9481,
          31.9481,
          32.39149999999999,
          32.39149999999999,
          32.83489999999999,
          32.83489999999999,
          33.2783,
          58.552099999999996,
          58.99550000000001,
          59.438900000000004,
          29.287699999999994,
          29.73109999999999,
          29.73109999999999,
          30.174500000000002,
          30.174500000000002,
          30.174500000000002,
          30.174500000000002,
          30.6179,
          30.6179,
          30.6179,
          30.6179,
          31.061299999999996,
          31.061299999999996,
          59.438900000000004,
          59.88230000000001,
          59.88230000000001,
          27.514099999999996,
          27.9575,
          28.4009,
          28.4009,
          28.844299999999997,
          28.844299999999997,
          29.287699999999994,
          29.287699999999994,
          29.287699999999994,
          29.73109999999999,
          29.73109999999999,
          60.325700000000005,
          60.325700000000005,
          60.7691,
          25.740499999999997,
          25.740499999999997,
          26.1839,
          26.6273,
          27.0707,
          27.0707,
          27.514099999999996,
          27.514099999999996,
          27.9575,
          27.9575,
          28.4009,
          28.4009,
          28.4009,
          28.4009,
          28.844299999999997,
          28.844299999999997,
          28.844299999999997,
          28.844299999999997,
          29.287699999999994,
          29.287699999999994,
          29.73109999999999,
          29.73109999999999,
          30.174500000000002,
          30.174500000000002,
          30.6179,
          30.6179,
          31.061299999999996,
          31.061299999999996,
          31.504700000000003,
          31.9481,
          31.9481,
          32.39149999999999,
          32.39149999999999,
          32.83489999999999,
          33.2783,
          33.7217,
          33.7217,
          34.16510000000001,
          34.60850000000001,
          35.0519,
          35.4953,
          35.938700000000004,
          36.3821,
          36.8255,
          37.26890000000001,
          37.712300000000006,
          38.1557,
          60.7691,
          60.7691,
          61.2125,
          21.7499,
          21.7499,
          21.7499,
          22.1933,
          22.636699999999998,
          23.080099999999998,
          23.5235,
          23.5235,
          23.9669,
          23.9669,
          24.4103,
          24.4103,
          24.4103,
          24.8537,
          24.8537,
          24.8537,
          24.8537,
          25.2971,
          25.2971,
          25.2971,
          25.2971,
          25.740499999999997,
          25.740499999999997,
          25.740499999999997,
          26.1839,
          26.1839,
          26.1839,
          26.6273,
          26.6273,
          26.6273,
          27.0707,
          27.0707,
          27.0707,
          27.514099999999996,
          27.514099999999996,
          27.514099999999996,
          27.9575,
          27.9575,
          61.2125,
          5.7875,
          21.7499,
          21.7499,
          21.7499,
          21.7499,
          22.1933,
          22.1933,
          22.1933,
          22.1933,
          22.1933,
          22.636699999999998,
          22.636699999999998,
          22.636699999999998,
          22.636699999999998,
          23.080099999999998,
          23.080099999999998,
          23.080099999999998,
          23.080099999999998,
          23.5235,
          23.5235,
          23.5235,
          23.5235,
          23.9669,
          23.9669,
          23.9669,
          23.9669,
          24.4103,
          24.4103,
          24.4103,
          24.8537,
          25.2971,
          48.7973,
          49.240700000000004,
          61.655899999999995,
          5.7875,
          5.7875,
          21.7499,
          22.1933,
          22.1933,
          22.636699999999998,
          23.080099999999998,
          23.080099999999998,
          23.5235,
          23.5235,
          23.9669,
          23.9669,
          24.4103,
          24.4103,
          24.4103,
          24.8537,
          24.8537,
          24.8537,
          25.2971,
          25.2971,
          25.740499999999997,
          25.740499999999997,
          26.1839,
          26.1839,
          26.6273,
          26.6273,
          27.0707,
          27.0707,
          27.514099999999996,
          27.514099999999996,
          27.9575,
          27.9575,
          28.4009,
          28.4009,
          28.844299999999997,
          28.844299999999997,
          29.287699999999994,
          29.73109999999999,
          30.174500000000002,
          62.09930000000001,
          62.09930000000001,
          62.5427,
          25.2971,
          25.2971,
          25.740499999999997,
          25.740499999999997,
          26.1839,
          26.6273,
          27.0707,
          27.9575,
          28.4009,
          29.73109999999999,
          30.174500000000002,
          30.6179,
          30.6179,
          31.061299999999996,
          31.061299999999996,
          31.504700000000003,
          31.504700000000003,
          31.9481,
          32.39149999999999,
          32.39149999999999,
          32.83489999999999,
          33.2783,
          33.7217,
          33.7217,
          34.16510000000001,
          34.60850000000001,
          35.0519,
          35.0519,
          35.4953,
          35.938700000000004,
          62.5427,
          62.5427,
          62.9861,
          27.514099999999996,
          27.9575,
          28.4009,
          28.4009,
          28.844299999999997,
          28.844299999999997,
          29.287699999999994,
          29.287699999999994,
          29.73109999999999,
          35.938700000000004,
          36.3821,
          36.8255,
          37.26890000000001,
          37.712300000000006,
          37.712300000000006,
          38.1557,
          38.5991,
          38.5991,
          39.042500000000004,
          39.4859,
          39.9293,
          39.9293,
          40.372699999999995,
          40.372699999999995,
          40.8161,
          41.2595,
          41.7029,
          63.429500000000004,
          63.8729,
          63.8729,
          64.3163,
          29.73109999999999,
          29.73109999999999,
          30.174500000000002,
          30.174500000000002,
          30.6179,
          30.6179,
          31.061299999999996,
          31.061299999999996,
          31.504700000000003,
          41.7029,
          42.1463,
          42.5897,
          42.5897,
          43.033100000000005,
          43.4765,
          43.9199,
          44.3633,
          44.3633,
          44.8067,
          44.8067,
          45.250099999999996,
          45.250099999999996,
          45.6935,
          45.6935,
          46.136900000000004,
          46.5803,
          47.0237,
          47.4671,
          31.061299999999996,
          31.9481,
          31.9481,
          32.39149999999999,
          32.83489999999999,
          32.83489999999999,
          33.2783,
          33.2783,
          33.7217,
          44.3633,
          44.8067,
          44.8067,
          47.4671,
          47.9105,
          48.353899999999996,
          48.353899999999996,
          48.7973,
          49.240700000000004,
          49.240700000000004,
          49.6841,
          50.1275,
          50.1275,
          50.5709,
          50.5709,
          51.014300000000006,
          51.4577,
          51.9011,
          51.9011,
          52.344500000000004,
          52.344500000000004,
          52.7879,
          53.2313,
          61.2125,
          61.2125,
          61.655899999999995,
          34.16510000000001,
          34.60850000000001,
          34.60850000000001,
          35.0519,
          35.0519,
          35.4953,
          35.938700000000004,
          36.8255,
          52.7879,
          53.2313,
          53.67470000000001,
          54.118100000000005,
          54.118100000000005,
          54.5615,
          55.0049,
          55.0049,
          55.448299999999996,
          55.8917,
          56.3351,
          56.77850000000001,
          56.77850000000001,
          57.221900000000005,
          57.221900000000005,
          57.6653,
          58.1087,
          58.552099999999996,
          58.99550000000001,
          59.438900000000004,
          59.438900000000004,
          59.88230000000001,
          60.325700000000005,
          35.938700000000004,
          36.3821,
          36.3821,
          36.8255,
          36.8255,
          36.8255,
          37.26890000000001,
          37.26890000000001,
          37.712300000000006,
          37.712300000000006,
          38.1557,
          59.88230000000001,
          60.325700000000005,
          60.325700000000005,
          60.7691,
          60.7691,
          61.2125,
          61.655899999999995,
          62.09930000000001,
          62.5427,
          62.9861,
          62.9861,
          63.429500000000004,
          63.8729,
          63.8729,
          64.3163,
          64.3163,
          38.5991,
          39.042500000000004,
          39.4859,
          39.4859,
          39.9293,
          40.372699999999995,
          40.372699999999995,
          40.8161,
          40.8161,
          41.2595,
          41.2595,
          41.7029,
          41.7029,
          42.1463,
          42.1463,
          42.5897,
          42.5897,
          43.033100000000005,
          43.033100000000005,
          43.4765,
          43.9199,
          43.9199,
          44.3633,
          44.8067,
          45.250099999999996,
          45.250099999999996,
          45.6935,
          45.6935,
          46.136900000000004,
          46.5803,
          46.5803,
          47.0237,
          47.0237,
          47.4671,
          47.4671,
          47.9105,
          47.9105,
          48.353899999999996,
          48.353899999999996,
          48.7973,
          48.7973,
          49.240700000000004,
          49.240700000000004,
          49.6841,
          49.6841,
          50.1275,
          50.1275,
          50.1275,
          50.5709,
          51.014300000000006,
          51.014300000000006,
          51.4577,
          51.4577,
          51.9011,
          51.9011,
          52.344500000000004,
          52.344500000000004,
          52.7879,
          53.2313,
          53.2313,
          53.67470000000001,
          -64.3163,
          -64.3163,
          -63.8729,
          -58.99550000000001,
          -58.552099999999996,
          -64.3163,
          -63.8729,
          -63.429500000000004,
          -63.429500000000004,
          -62.9861,
          -62.9861,
          -62.5427,
          -62.5427,
          -62.09930000000001,
          -61.655899999999995,
          -61.2125,
          -61.2125,
          -60.7691,
          -60.325700000000005,
          -60.325700000000005,
          -59.88230000000001,
          -59.88230000000001,
          -59.438900000000004,
          -59.438900000000004,
          -58.99550000000001,
          -58.99550000000001,
          -58.99550000000001,
          -58.552099999999996,
          -58.552099999999996,
          -58.1087,
          -58.1087,
          -57.6653,
          -57.6653,
          -57.221900000000005,
          -57.221900000000005,
          -56.77850000000001,
          -56.77850000000001,
          -56.3351,
          -55.8917,
          -55.448299999999996,
          -55.0049,
          -55.0049,
          -54.5615,
          -54.5615,
          -54.118100000000005,
          -54.118100000000005,
          -53.67470000000001,
          -53.2313,
          -53.2313,
          -52.7879,
          -52.7879,
          -52.344500000000004,
          -51.9011,
          -51.4577,
          -51.014300000000006,
          -50.5709,
          -50.1275,
          -50.1275,
          -50.1275,
          -50.1275,
          -49.6841,
          -49.6841,
          -49.240700000000004,
          -49.240700000000004,
          -48.7973,
          -48.353899999999996,
          -48.353899999999996,
          -47.9105,
          -47.4671,
          -47.0237,
          -47.0237,
          -46.5803,
          -46.136900000000004,
          -45.6935,
          -45.250099999999996,
          -44.8067,
          -44.3633,
          -43.4765,
          -50.5709,
          -50.5709,
          -50.1275,
          -50.1275,
          -50.1275,
          -47.4671,
          -47.0237,
          -46.5803,
          -46.136900000000004,
          -45.250099999999996,
          -44.8067,
          -44.3633,
          -43.9199,
          -43.4765,
          -43.4765,
          -43.033100000000005,
          -42.5897,
          -42.1463,
          -41.7029,
          -41.7029,
          -41.2595,
          -41.2595,
          -40.8161,
          -40.372699999999995,
          -40.372699999999995,
          -39.9293,
          -39.4859,
          -39.042500000000004,
          -38.5991,
          -38.1557,
          -38.1557,
          -37.712300000000006,
          -37.712300000000006,
          -37.26890000000001,
          -36.8255,
          -36.3821,
          -36.3821,
          -35.938700000000004,
          -35.938700000000004,
          -35.4953,
          -35.4953,
          -35.0519,
          -34.60850000000001,
          -34.16510000000001,
          -34.16510000000001,
          -33.7217,
          -33.7217,
          -33.2783,
          -33.2783,
          -32.83489999999999,
          -32.83489999999999,
          -32.39149999999999,
          -11.108299999999996,
          -26.1839,
          -25.2971,
          -24.8537,
          -24.4103,
          -23.9669,
          -23.5235,
          -23.5235,
          -23.080099999999998,
          -22.636699999999998,
          -22.1933,
          -21.7499,
          -21.3065,
          -20.8631,
          -20.8631,
          -20.4197,
          -19.976300000000002,
          -19.976300000000002,
          -19.5329,
          -19.089499999999997,
          -18.646099999999997,
          -18.2027,
          -17.7593,
          -17.3159,
          -16.8725,
          -16.4291,
          -16.4291,
          -15.9857,
          -15.9857,
          -15.542300000000001,
          -15.098899999999997,
          -14.655499999999998,
          -14.655499999999998,
          -14.212099999999998,
          -13.768699999999999,
          -13.325299999999999,
          -13.325299999999999,
          -12.881899999999996,
          -12.881899999999996,
          -12.4385,
          -12.4385,
          -11.995099999999997,
          -11.5517,
          -11.5517,
          -11.108299999999996,
          -11.108299999999996,
          -10.664899999999998,
          -10.664899999999998,
          -10.221499999999997,
          -10.221499999999997,
          -9.778099999999998,
          -9.778099999999998,
          -9.334699999999998,
          -9.334699999999998,
          -8.891299999999998,
          -8.891299999999998,
          -8.447899999999999,
          -8.447899999999999,
          -8.004499999999997,
          -8.004499999999997,
          -7.561099999999999,
          -7.117699999999997,
          -7.117699999999997,
          -6.6742999999999935,
          -6.6742999999999935,
          -6.2308999999999966,
          -5.7875,
          -5.344099999999997,
          -5.344099999999997,
          -4.900699999999995,
          -4.900699999999995,
          -4.457299999999998,
          -4.013900000000001,
          -4.013900000000001,
          -3.5704999999999982,
          -3.5704999999999982,
          -3.127099999999996,
          -3.127099999999996,
          -2.683699999999999,
          -28.844299999999997,
          -28.4009,
          -27.9575,
          -27.514099999999996,
          -27.0707,
          -26.6273,
          -26.1839,
          -25.740499999999997,
          -25.2971,
          -24.8537,
          -24.8537,
          -24.4103,
          -23.9669,
          -23.5235,
          -23.080099999999998,
          -22.1933,
          -11.108299999999996,
          -28.844299999999997,
          -28.4009,
          61.2125,
          61.2125,
          61.655899999999995,
          61.655899999999995,
          60.7691,
          61.2125,
          61.655899999999995,
          61.655899999999995,
          59.438900000000004,
          59.88230000000001,
          60.325700000000005,
          60.325700000000005,
          60.7691,
          25.740499999999997,
          26.1839,
          26.6273,
          27.0707,
          27.0707,
          27.514099999999996,
          27.514099999999996,
          27.514099999999996,
          27.9575,
          27.9575,
          28.4009,
          28.844299999999997,
          29.287699999999994,
          29.287699999999994,
          29.73109999999999,
          30.174500000000002,
          30.174500000000002,
          30.6179,
          31.061299999999996,
          31.504700000000003,
          31.9481,
          32.39149999999999,
          32.83489999999999,
          33.2783,
          33.2783,
          33.7217,
          33.7217,
          34.16510000000001,
          34.16510000000001,
          34.60850000000001,
          35.0519,
          35.4953,
          35.4953,
          35.938700000000004,
          35.938700000000004,
          36.3821,
          36.8255,
          37.26890000000001,
          37.26890000000001,
          37.712300000000006,
          37.712300000000006,
          38.1557,
          38.5991,
          38.5991,
          39.042500000000004,
          39.042500000000004,
          39.4859,
          39.4859,
          39.9293,
          40.372699999999995,
          40.8161,
          40.8161,
          41.2595,
          41.7029,
          41.7029,
          42.1463,
          42.5897,
          43.033100000000005,
          43.033100000000005,
          43.4765,
          43.4765,
          43.9199,
          43.9199,
          44.3633,
          44.3633,
          44.8067,
          44.8067,
          45.250099999999996,
          45.250099999999996,
          45.6935,
          46.136900000000004,
          46.136900000000004,
          46.5803,
          46.5803,
          47.0237,
          47.0237,
          47.4671,
          47.9105,
          48.353899999999996,
          48.353899999999996,
          48.7973,
          48.7973,
          49.240700000000004,
          49.6841,
          49.6841,
          50.1275,
          50.5709,
          50.5709,
          51.014300000000006,
          51.4577,
          51.4577,
          51.9011,
          52.344500000000004,
          52.7879,
          52.7879,
          53.2313,
          53.2313,
          53.67470000000001,
          53.67470000000001,
          54.118100000000005,
          54.5615,
          55.0049,
          55.448299999999996,
          55.8917,
          56.3351,
          56.3351,
          56.77850000000001,
          57.221900000000005,
          57.6653,
          57.6653,
          58.1087,
          58.1087,
          58.552099999999996,
          58.552099999999996,
          58.552099999999996,
          58.99550000000001,
          58.99550000000001,
          58.99550000000001,
          59.438900000000004,
          59.438900000000004,
          59.88230000000001,
          59.88230000000001,
          60.325700000000005,
          60.325700000000005,
          60.7691,
          60.7691,
          61.2125,
          61.2125,
          61.655899999999995,
          61.655899999999995,
          62.09930000000001,
          62.09930000000001,
          62.5427,
          62.5427,
          62.9861,
          62.9861,
          63.429500000000004,
          63.429500000000004,
          63.8729,
          64.3163,
          26.1839,
          26.6273,
          27.0707,
          27.514099999999996,
          33.2783,
          37.26890000000001,
          25.740499999999997,
          25.2971,
          25.2971,
          25.740499999999997,
          25.740499999999997,
          3.5704999999999982,
          4.457299999999998,
          7.117699999999997,
          9.778099999999998,
          10.221499999999997,
          11.108299999999996,
          11.995099999999997,
          13.325299999999999,
          16.8725,
          17.3159,
          17.7593,
          18.2027,
          2.683699999999999,
          3.127099999999996,
          3.127099999999996,
          3.5704999999999982,
          4.013900000000001,
          4.457299999999998,
          4.457299999999998,
          4.900699999999995,
          4.900699999999995,
          5.344099999999997,
          5.344099999999997,
          5.7875,
          6.2308999999999966,
          6.2308999999999966,
          6.6742999999999935,
          6.6742999999999935,
          7.117699999999997,
          7.561099999999999,
          7.561099999999999,
          8.004499999999997,
          8.447899999999999,
          8.891299999999998,
          9.334699999999998,
          9.778099999999998,
          10.221499999999997,
          10.221499999999997,
          10.664899999999998,
          11.108299999999996,
          11.108299999999996,
          11.5517,
          11.995099999999997,
          12.4385,
          12.881899999999996,
          13.325299999999999,
          13.768699999999999,
          14.212099999999998,
          14.655499999999998,
          15.098899999999997,
          15.542300000000001,
          15.9857,
          16.4291,
          16.8725,
          17.3159,
          17.7593,
          18.2027,
          39.9293,
          39.4859,
          -20.8631,
          -20.4197,
          -24.8537,
          -24.8537,
          -20.8631,
          -20.8631,
          -20.4197,
          -24.8537,
          -24.8537,
          -20.8631,
          -20.8631,
          -24.8537,
          -24.8537,
          -24.4103,
          -20.8631,
          -20.8631,
          -19.5329,
          -25.740499999999997,
          -25.740499999999997,
          -25.2971,
          -22.1933,
          -22.1933,
          -21.7499,
          -21.7499,
          -21.3065,
          -20.8631,
          -27.0707,
          -27.0707,
          -26.6273,
          -26.6273,
          -26.1839,
          -26.1839,
          -25.740499999999997,
          -22.1933,
          -30.6179,
          -30.174500000000002,
          -30.174500000000002,
          -29.73109999999999,
          -29.73109999999999,
          -29.287699999999994,
          -29.287699999999994,
          -28.844299999999997,
          -28.844299999999997,
          -28.4009,
          -28.4009,
          -27.9575,
          -27.9575,
          -27.514099999999996,
          -27.514099999999996,
          -4.457299999999998,
          -55.0049,
          -55.0049,
          -54.5615,
          -40.8161,
          -40.372699999999995,
          -39.4859,
          -39.042500000000004,
          -38.5991,
          -38.5991,
          -38.1557,
          -37.712300000000006,
          -37.26890000000001,
          -36.8255,
          -36.3821,
          -35.938700000000004,
          -35.938700000000004,
          -35.4953,
          -35.0519,
          -34.60850000000001,
          -34.60850000000001,
          -34.16510000000001,
          -34.16510000000001,
          -33.7217,
          -33.7217,
          -33.2783,
          -33.2783,
          -32.83489999999999,
          -32.83489999999999,
          -32.39149999999999,
          -32.39149999999999,
          -31.9481,
          -31.9481,
          -31.504700000000003,
          -31.504700000000003,
          -31.061299999999996,
          -31.061299999999996,
          -30.6179,
          -30.6179,
          -30.6179,
          -30.174500000000002,
          -30.174500000000002,
          -29.73109999999999,
          -29.73109999999999,
          -29.287699999999994,
          -29.287699999999994,
          -28.844299999999997,
          -28.844299999999997,
          -28.4009,
          -28.4009,
          -27.9575,
          -27.9575,
          -27.514099999999996,
          -27.514099999999996,
          -27.0707,
          -27.0707,
          -26.6273,
          -26.6273,
          -26.1839,
          -26.1839,
          -25.740499999999997,
          -25.2971,
          -24.8537,
          -24.4103,
          -24.4103,
          -23.9669,
          -23.5235,
          -23.5235,
          -23.080099999999998,
          -23.080099999999998,
          -22.636699999999998,
          -22.1933,
          -22.1933,
          -21.7499,
          -21.7499,
          -21.3065,
          -20.8631,
          -20.4197,
          -20.4197,
          -19.976300000000002,
          -19.976300000000002,
          -19.5329,
          -19.5329,
          -19.089499999999997,
          -19.089499999999997,
          -18.646099999999997,
          -18.646099999999997,
          -18.2027,
          -18.2027,
          -17.7593,
          -17.7593,
          -17.3159,
          -17.3159,
          -16.8725,
          -16.4291,
          -16.4291,
          -15.9857,
          -15.542300000000001,
          -15.542300000000001,
          -15.098899999999997,
          -15.098899999999997,
          -14.655499999999998,
          -14.212099999999998,
          -14.212099999999998,
          -13.768699999999999,
          -13.768699999999999,
          -13.325299999999999,
          -13.325299999999999,
          -12.881899999999996,
          -12.881899999999996,
          -12.4385,
          -11.995099999999997,
          -11.5517,
          -11.108299999999996,
          -10.664899999999998,
          -10.664899999999998,
          -10.221499999999997,
          -10.221499999999997,
          -9.778099999999998,
          -9.778099999999998,
          -9.334699999999998,
          -9.334699999999998,
          -8.891299999999998,
          -8.891299999999998,
          -8.447899999999999,
          -8.447899999999999,
          -8.004499999999997,
          -7.561099999999999,
          -7.117699999999997,
          -7.117699999999997,
          -6.6742999999999935,
          -6.6742999999999935,
          -6.2308999999999966,
          -6.2308999999999966,
          -5.7875,
          -5.344099999999997,
          -5.344099999999997,
          -4.900699999999995,
          -4.900699999999995,
          -4.457299999999998,
          -4.457299999999998,
          -4.013900000000001,
          -4.013900000000001,
          -3.5704999999999982,
          -3.5704999999999982,
          -3.127099999999996,
          -3.127099999999996,
          -2.683699999999999,
          -64.3163,
          -63.8729,
          -63.8729,
          -63.429500000000004,
          -63.429500000000004,
          -62.9861,
          -62.9861,
          -62.5427,
          -62.5427,
          -62.09930000000001,
          -61.655899999999995,
          -61.2125,
          -61.2125,
          -60.7691,
          -60.325700000000005,
          -60.325700000000005,
          -59.88230000000001,
          -59.438900000000004,
          -59.438900000000004,
          -58.99550000000001,
          -58.99550000000001,
          -58.552099999999996,
          -58.552099999999996,
          -58.1087,
          -58.1087,
          -57.6653,
          -57.6653,
          -57.221900000000005,
          -57.221900000000005,
          -56.77850000000001,
          -56.3351,
          -55.8917,
          -55.448299999999996,
          -55.448299999999996,
          -55.0049,
          -55.0049,
          -55.0049,
          -54.5615,
          -54.5615,
          -54.5615,
          -54.118100000000005,
          -54.118100000000005,
          -53.67470000000001,
          -53.67470000000001,
          -53.2313,
          -52.7879,
          -52.344500000000004,
          -52.344500000000004,
          -51.9011,
          -51.9011,
          -51.4577,
          -51.4577,
          -51.014300000000006,
          -51.014300000000006,
          -50.5709,
          -50.5709,
          -50.1275,
          -50.1275,
          -49.6841,
          -49.6841,
          -49.240700000000004,
          -48.7973,
          -48.7973,
          -48.353899999999996,
          -47.9105,
          -47.4671,
          -47.4671,
          -47.0237,
          -47.0237,
          -46.5803,
          -46.136900000000004,
          -45.6935,
          -45.250099999999996,
          -44.8067,
          -44.3633,
          -44.3633,
          -43.9199,
          -43.4765,
          -43.033100000000005,
          -42.5897,
          -42.5897,
          -42.1463,
          -41.7029,
          -41.2595,
          -40.8161,
          -40.372699999999995,
          -39.9293,
          -39.4859,
          -39.042500000000004,
          -38.5991,
          -38.1557,
          -36.3821,
          -35.938700000000004,
          -35.4953,
          -33.7217,
          -31.9481
         ],
         "y": [
          84.7881,
          98.9769,
          101.1939,
          101.1939,
          4.5327,
          72.8163,
          72.8163,
          73.2597,
          73.2597,
          73.7031,
          73.7031,
          73.7031,
          74.14649999999999,
          74.1465,
          74.1465,
          74.1465,
          74.1465,
          74.1465,
          74.1465,
          74.1465,
          74.1465,
          74.1465,
          74.1465,
          74.1465,
          74.1465,
          74.1465,
          74.1465,
          74.1465,
          74.1465,
          74.1465,
          74.1465,
          74.1465,
          74.1465,
          74.1465,
          74.1465,
          74.1465,
          74.1465,
          74.1465,
          74.1465,
          74.1465,
          74.1465,
          74.1465,
          74.1465,
          74.1465,
          74.1465,
          74.1465,
          74.1465,
          74.1465,
          74.1465,
          74.1465,
          74.1465,
          74.1465,
          74.5899,
          74.5899,
          74.5899,
          74.5899,
          74.5899,
          74.5899,
          74.5899,
          74.5899,
          74.5899,
          74.5899,
          74.5899,
          74.5899,
          74.5899,
          74.5899,
          74.5899,
          74.5899,
          74.5899,
          74.5899,
          74.5899,
          74.5899,
          74.5899,
          74.5899,
          74.5899,
          74.5899,
          74.5899,
          74.5899,
          74.5899,
          74.5899,
          74.5899,
          74.5899,
          74.5899,
          74.5899,
          74.5899,
          74.5899,
          74.5899,
          74.5899,
          74.5899,
          74.5899,
          74.5899,
          74.5899,
          74.5899,
          74.5899,
          74.5899,
          74.5899,
          74.5899,
          74.5899,
          74.5899,
          74.5899,
          74.5899,
          74.5899,
          74.5899,
          74.5899,
          74.5899,
          74.5899,
          74.5899,
          74.5899,
          74.5899,
          74.5899,
          74.5899,
          74.5899,
          74.5899,
          74.5899,
          74.5899,
          74.5899,
          74.5899,
          74.5899,
          74.5899,
          74.5899,
          74.5899,
          74.5899,
          74.5899,
          74.5899,
          74.5899,
          74.5899,
          74.5899,
          74.5899,
          74.5899,
          74.5899,
          74.5899,
          74.5899,
          74.5899,
          74.5899,
          74.5899,
          74.5899,
          74.5899,
          74.5899,
          74.5899,
          74.5899,
          74.5899,
          74.5899,
          74.5899,
          74.5899,
          74.5899,
          74.5899,
          74.5899,
          74.5899,
          74.5899,
          74.5899,
          74.5899,
          74.5899,
          74.5899,
          74.5899,
          74.5899,
          74.5899,
          74.5899,
          74.5899,
          74.5899,
          74.5899,
          74.5899,
          74.5899,
          74.5899,
          74.5899,
          74.5899,
          74.5899,
          74.5899,
          74.5899,
          74.5899,
          74.5899,
          74.5899,
          74.5899,
          74.5899,
          74.5899,
          74.5899,
          74.5899,
          74.5899,
          74.5899,
          74.5899,
          74.5899,
          74.5899,
          74.5899,
          74.5899,
          74.5899,
          74.5899,
          74.5899,
          74.5899,
          74.5899,
          74.5899,
          74.5899,
          74.5899,
          74.5899,
          74.5899,
          74.5899,
          74.5899,
          74.5899,
          74.5899,
          74.5899,
          74.5899,
          74.5899,
          74.5899,
          74.5899,
          75.0333,
          75.0333,
          75.0333,
          75.0333,
          75.0333,
          75.0333,
          75.0333,
          75.0333,
          75.0333,
          75.0333,
          75.0333,
          75.0333,
          75.0333,
          75.0333,
          75.0333,
          75.0333,
          75.0333,
          75.0333,
          75.0333,
          75.0333,
          75.0333,
          75.0333,
          75.0333,
          75.0333,
          75.0333,
          75.0333,
          75.0333,
          75.0333,
          75.0333,
          75.0333,
          75.0333,
          75.0333,
          75.0333,
          75.0333,
          75.0333,
          75.0333,
          75.0333,
          75.0333,
          75.0333,
          75.0333,
          75.0333,
          75.0333,
          75.0333,
          75.0333,
          75.0333,
          75.4767,
          75.4767,
          75.4767,
          75.4767,
          75.47670000000001,
          75.47670000000001,
          75.9201,
          75.9201,
          79.91069999999999,
          79.91069999999999,
          79.91069999999999,
          80.35409999999999,
          80.35409999999999,
          80.35409999999999,
          80.35409999999999,
          80.35409999999999,
          80.35409999999999,
          80.7975,
          80.7975,
          80.7975,
          80.7975,
          80.7975,
          80.7975,
          81.2409,
          81.2409,
          81.2409,
          81.2409,
          81.2409,
          81.2409,
          81.6843,
          81.6843,
          81.6843,
          81.6843,
          81.6843,
          81.6843,
          81.6843,
          82.1277,
          82.1277,
          82.1277,
          82.1277,
          82.1277,
          82.5711,
          82.5711,
          82.5711,
          82.5711,
          82.5711,
          82.5711,
          83.0145,
          83.0145,
          83.0145,
          83.0145,
          83.0145,
          83.0145,
          83.0145,
          83.0145,
          83.4579,
          83.4579,
          83.4579,
          83.4579,
          83.4579,
          83.4579,
          83.4579,
          83.4579,
          83.4579,
          83.9013,
          83.9013,
          83.9013,
          83.9013,
          83.9013,
          83.9013,
          83.9013,
          84.3447,
          84.3447,
          84.3447,
          84.3447,
          84.3447,
          84.7881,
          84.7881,
          84.7881,
          84.7881,
          84.7881,
          85.23150000000001,
          85.23150000000001,
          85.23150000000001,
          85.23150000000001,
          85.23150000000001,
          85.67490000000001,
          85.67490000000001,
          85.67490000000001,
          85.67490000000001,
          85.67490000000001,
          86.1183,
          86.1183,
          86.1183,
          86.1183,
          86.1183,
          86.5617,
          86.5617,
          86.5617,
          86.5617,
          86.5617,
          86.5617,
          87.0051,
          87.0051,
          87.0051,
          87.0051,
          87.0051,
          87.0051,
          87.4485,
          87.4485,
          87.4485,
          87.4485,
          87.4485,
          87.89189999999999,
          87.89189999999999,
          87.89189999999999,
          87.89189999999999,
          87.89189999999999,
          87.89189999999999,
          87.89189999999999,
          87.89189999999999,
          87.89189999999999,
          88.3353,
          88.3353,
          88.3353,
          88.3353,
          88.3353,
          88.3353,
          88.3353,
          88.3353,
          88.3353,
          88.3353,
          88.3353,
          88.3353,
          88.3353,
          88.3353,
          88.7787,
          88.7787,
          88.7787,
          88.7787,
          88.7787,
          88.7787,
          88.7787,
          88.7787,
          88.7787,
          88.7787,
          88.7787,
          89.2221,
          89.2221,
          89.2221,
          89.2221,
          89.2221,
          89.2221,
          89.2221,
          89.2221,
          89.2221,
          89.2221,
          89.2221,
          89.2221,
          89.2221,
          89.2221,
          89.6655,
          89.6655,
          89.6655,
          89.6655,
          89.6655,
          89.6655,
          89.6655,
          89.6655,
          89.6655,
          89.6655,
          89.6655,
          89.6655,
          89.6655,
          89.6655,
          89.6655,
          89.6655,
          90.10889999999999,
          90.10889999999999,
          90.10889999999999,
          90.10889999999999,
          90.10889999999999,
          90.10889999999999,
          90.10889999999999,
          90.10889999999999,
          90.10889999999999,
          90.10889999999999,
          90.10889999999999,
          90.10889999999999,
          90.10889999999999,
          90.5523,
          90.5523,
          90.5523,
          90.5523,
          90.5523,
          90.5523,
          90.5523,
          90.5523,
          90.5523,
          90.5523,
          90.5523,
          90.5523,
          90.5523,
          90.9957,
          90.9957,
          90.9957,
          90.9957,
          90.9957,
          90.9957,
          90.9957,
          90.9957,
          90.9957,
          90.9957,
          90.9957,
          91.43910000000001,
          91.43910000000001,
          91.43910000000001,
          91.43910000000001,
          91.43910000000001,
          91.43910000000001,
          91.43910000000001,
          91.43910000000001,
          91.43910000000001,
          91.43910000000001,
          91.88250000000001,
          91.88250000000001,
          91.88250000000001,
          91.88250000000001,
          91.88250000000001,
          91.88250000000001,
          91.88250000000001,
          91.88250000000001,
          91.88250000000001,
          91.88250000000001,
          91.88250000000001,
          91.88250000000001,
          92.3259,
          92.3259,
          92.3259,
          92.3259,
          92.3259,
          92.3259,
          92.3259,
          92.3259,
          92.3259,
          92.3259,
          92.3259,
          92.3259,
          92.7693,
          92.7693,
          92.7693,
          92.7693,
          92.7693,
          92.7693,
          92.7693,
          92.7693,
          92.7693,
          92.7693,
          92.7693,
          92.7693,
          93.21270000000001,
          93.21270000000001,
          93.21270000000001,
          93.21270000000001,
          93.21270000000001,
          93.21270000000001,
          93.21270000000001,
          93.21270000000001,
          93.21270000000001,
          93.21270000000001,
          93.65610000000001,
          93.65610000000001,
          93.65610000000001,
          93.65610000000001,
          93.65610000000001,
          93.65610000000001,
          93.65610000000001,
          93.65610000000001,
          93.65610000000001,
          93.65610000000001,
          93.65610000000001,
          93.65610000000001,
          94.0995,
          94.0995,
          94.0995,
          94.0995,
          94.0995,
          94.0995,
          94.0995,
          94.0995,
          94.0995,
          94.0995,
          94.0995,
          94.0995,
          94.0995,
          94.5429,
          94.5429,
          94.5429,
          94.5429,
          94.5429,
          94.5429,
          94.5429,
          94.5429,
          94.5429,
          94.5429,
          94.5429,
          94.5429,
          94.5429,
          94.9863,
          94.9863,
          94.9863,
          94.9863,
          94.9863,
          94.9863,
          94.9863,
          94.9863,
          94.9863,
          94.9863,
          94.9863,
          94.9863,
          94.9863,
          94.9863,
          94.9863,
          95.4297,
          95.4297,
          95.4297,
          95.4297,
          95.4297,
          95.4297,
          95.4297,
          95.4297,
          95.4297,
          95.4297,
          95.4297,
          95.4297,
          95.4297,
          95.4297,
          95.4297,
          95.4297,
          95.8731,
          95.8731,
          95.8731,
          95.8731,
          95.8731,
          95.8731,
          95.8731,
          95.8731,
          95.8731,
          95.8731,
          95.8731,
          95.8731,
          95.8731,
          95.8731,
          95.8731,
          95.8731,
          96.31649999999999,
          96.31649999999999,
          96.31649999999999,
          96.31649999999999,
          96.31649999999999,
          96.31649999999999,
          96.31649999999999,
          96.31649999999999,
          96.31649999999999,
          96.31649999999999,
          96.31649999999999,
          96.31649999999999,
          96.31649999999999,
          96.31649999999999,
          96.75989999999999,
          96.75989999999999,
          96.75989999999999,
          96.75989999999999,
          96.75989999999999,
          96.75989999999999,
          96.75989999999999,
          96.75989999999999,
          96.75989999999999,
          96.75989999999999,
          96.75989999999999,
          96.75989999999999,
          96.75989999999999,
          96.75989999999999,
          96.75989999999999,
          96.75989999999999,
          96.75989999999999,
          96.75989999999999,
          96.75989999999999,
          96.75989999999999,
          96.75989999999999,
          96.75989999999999,
          96.75989999999999,
          96.75989999999999,
          96.75989999999999,
          96.75989999999999,
          96.75989999999999,
          96.75989999999999,
          96.75989999999999,
          96.75989999999999,
          96.75989999999999,
          96.75989999999999,
          96.75989999999999,
          96.75989999999999,
          96.75989999999999,
          96.7599,
          96.7599,
          96.7599,
          96.7599,
          96.7599,
          96.7599,
          96.7599,
          96.7599,
          96.7599,
          96.7599,
          96.7599,
          96.7599,
          96.7599,
          96.7599,
          96.7599,
          97.2033,
          97.2033,
          97.2033,
          97.2033,
          97.2033,
          97.2033,
          97.2033,
          97.2033,
          97.2033,
          97.2033,
          97.2033,
          97.2033,
          97.2033,
          97.2033,
          97.2033,
          97.2033,
          97.2033,
          97.2033,
          97.2033,
          97.2033,
          97.2033,
          97.2033,
          97.2033,
          97.2033,
          97.2033,
          97.2033,
          97.2033,
          97.2033,
          97.2033,
          97.2033,
          97.2033,
          97.2033,
          97.2033,
          97.2033,
          97.2033,
          97.2033,
          97.2033,
          97.2033,
          97.2033,
          97.6467,
          97.6467,
          97.6467,
          97.6467,
          97.6467,
          97.6467,
          97.6467,
          97.6467,
          97.6467,
          97.6467,
          97.6467,
          97.6467,
          97.6467,
          97.6467,
          97.6467,
          97.6467,
          97.6467,
          97.6467,
          97.6467,
          97.6467,
          97.6467,
          97.6467,
          97.6467,
          97.6467,
          97.6467,
          97.6467,
          97.6467,
          97.6467,
          97.6467,
          97.6467,
          97.6467,
          97.6467,
          97.6467,
          97.6467,
          98.09009999999999,
          98.09009999999999,
          98.09009999999999,
          98.09009999999999,
          98.09009999999999,
          98.09009999999999,
          98.09009999999999,
          98.09009999999999,
          98.09009999999999,
          98.09009999999999,
          98.09009999999999,
          98.09009999999999,
          98.09009999999999,
          98.09009999999999,
          98.09009999999999,
          98.09009999999999,
          98.09009999999999,
          98.09009999999999,
          98.09009999999999,
          98.09009999999999,
          98.09009999999999,
          98.09009999999999,
          98.09009999999999,
          98.09009999999999,
          98.09009999999999,
          98.09009999999999,
          98.09009999999999,
          98.09009999999999,
          98.09009999999999,
          98.09009999999999,
          98.09009999999999,
          98.09009999999999,
          98.09009999999999,
          98.09009999999999,
          98.09009999999999,
          98.09009999999999,
          98.09009999999999,
          98.09009999999999,
          98.09009999999999,
          98.0901,
          98.0901,
          98.0901,
          98.5335,
          98.5335,
          98.5335,
          98.5335,
          98.5335,
          98.5335,
          98.5335,
          98.5335,
          98.5335,
          98.5335,
          98.5335,
          98.5335,
          98.5335,
          98.5335,
          98.5335,
          98.5335,
          98.5335,
          98.5335,
          98.5335,
          98.5335,
          98.5335,
          98.5335,
          98.5335,
          98.5335,
          98.5335,
          98.5335,
          98.5335,
          98.5335,
          98.5335,
          98.5335,
          98.5335,
          98.5335,
          98.5335,
          98.9769,
          98.9769,
          98.9769,
          98.9769,
          98.9769,
          98.9769,
          98.9769,
          98.9769,
          98.9769,
          98.9769,
          98.9769,
          98.9769,
          98.9769,
          98.9769,
          98.9769,
          98.9769,
          98.9769,
          98.9769,
          98.9769,
          98.9769,
          98.9769,
          98.9769,
          98.9769,
          98.9769,
          98.9769,
          98.9769,
          98.9769,
          98.9769,
          98.9769,
          98.9769,
          98.9769,
          99.4203,
          99.4203,
          99.4203,
          99.4203,
          99.4203,
          99.4203,
          99.4203,
          99.4203,
          99.4203,
          99.4203,
          99.4203,
          99.4203,
          99.4203,
          99.4203,
          99.4203,
          99.4203,
          99.4203,
          99.4203,
          99.4203,
          99.4203,
          99.4203,
          99.4203,
          99.4203,
          99.4203,
          99.4203,
          99.4203,
          99.4203,
          99.4203,
          99.8637,
          99.8637,
          99.8637,
          99.8637,
          99.8637,
          99.8637,
          99.8637,
          99.8637,
          99.86370000000001,
          99.86370000000001,
          99.86370000000001,
          99.86370000000001,
          99.86370000000001,
          99.86370000000001,
          99.86370000000001,
          99.86370000000001,
          99.86370000000001,
          99.86370000000001,
          99.86370000000001,
          99.86370000000001,
          99.86370000000001,
          99.86370000000001,
          99.86370000000001,
          99.86370000000001,
          99.86370000000001,
          99.86370000000001,
          99.86370000000001,
          99.86370000000001,
          99.86370000000001,
          99.86370000000001,
          99.86370000000001,
          99.86370000000001,
          99.86370000000001,
          99.86370000000001,
          99.86370000000001,
          100.3071,
          100.3071,
          100.3071,
          100.3071,
          100.3071,
          100.3071,
          100.3071,
          100.3071,
          100.3071,
          100.3071,
          100.3071,
          100.3071,
          100.3071,
          100.3071,
          100.3071,
          100.3071,
          100.3071,
          100.3071,
          100.3071,
          100.3071,
          100.3071,
          100.3071,
          100.3071,
          100.3071,
          100.3071,
          100.3071,
          100.3071,
          100.3071,
          100.3071,
          100.3071,
          100.3071,
          100.7505,
          100.7505,
          100.7505,
          100.7505,
          100.7505,
          100.7505,
          100.7505,
          100.7505,
          100.7505,
          100.7505,
          100.7505,
          100.7505,
          100.7505,
          100.7505,
          100.7505,
          100.7505,
          100.7505,
          100.7505,
          100.7505,
          100.7505,
          100.7505,
          100.7505,
          100.7505,
          100.7505,
          100.7505,
          100.7505,
          100.7505,
          101.19390000000001,
          101.19390000000001,
          101.19390000000001,
          101.19390000000001,
          101.19390000000001,
          101.19390000000001,
          101.19390000000001,
          101.63730000000001,
          101.63730000000001,
          101.63730000000001,
          101.63730000000001,
          101.63730000000001,
          101.63730000000001,
          101.63730000000001,
          101.63730000000001,
          101.63730000000001,
          101.63730000000001,
          101.63730000000001,
          102.08070000000001,
          102.08070000000001,
          102.08070000000001,
          102.08070000000001,
          102.08070000000001,
          102.08070000000001,
          102.08070000000001,
          102.5241,
          102.5241,
          102.5241,
          102.5241,
          102.5241,
          102.5241,
          102.5241,
          102.5241,
          102.5241,
          102.5241,
          102.9675,
          102.9675,
          102.9675,
          102.9675,
          102.9675,
          102.9675,
          102.9675,
          102.9675,
          102.9675,
          102.9675,
          102.9675,
          103.4109,
          103.4109,
          103.4109,
          103.4109,
          103.4109,
          103.4109,
          103.4109,
          103.4109,
          103.4109,
          103.4109,
          103.85430000000001,
          103.85430000000001,
          103.85430000000001,
          103.85430000000001,
          103.85430000000001,
          74.5899,
          74.5899,
          74.5899,
          74.5899,
          74.5899,
          75.0333,
          75.0333,
          75.0333,
          75.0333,
          75.0333,
          75.0333,
          75.0333,
          75.0333,
          75.0333,
          75.0333,
          75.0333,
          75.0333,
          75.0333,
          75.0333,
          75.0333,
          75.0333,
          75.0333,
          75.0333,
          75.0333,
          75.0333,
          75.0333,
          75.0333,
          75.0333,
          75.0333,
          75.0333,
          75.0333,
          75.0333,
          75.0333,
          75.0333,
          75.0333,
          75.0333,
          75.0333,
          75.0333,
          75.0333,
          75.0333,
          75.0333,
          75.0333,
          75.0333,
          75.0333,
          75.0333,
          75.0333,
          75.0333,
          75.0333,
          75.0333,
          75.0333,
          75.0333,
          75.0333,
          75.0333,
          75.0333,
          75.0333,
          75.0333,
          75.0333,
          75.0333,
          75.0333,
          75.0333,
          75.0333,
          75.0333,
          75.0333,
          75.0333,
          75.0333,
          75.0333,
          75.0333,
          75.0333,
          75.0333,
          75.0333,
          75.0333,
          75.0333,
          75.0333,
          75.0333,
          75.0333,
          75.0333,
          75.0333,
          75.0333,
          75.47670000000001,
          75.47670000000001,
          75.47670000000001,
          75.47670000000001,
          75.47670000000001,
          75.47670000000001,
          75.47670000000001,
          75.47670000000001,
          75.47670000000001,
          75.47670000000001,
          75.47670000000001,
          75.47670000000001,
          75.47670000000001,
          75.47670000000001,
          75.47670000000001,
          75.47670000000001,
          75.47670000000001,
          75.47670000000001,
          75.47670000000001,
          75.47670000000001,
          75.47670000000001,
          75.47670000000001,
          75.47670000000001,
          75.47670000000001,
          75.47670000000001,
          75.47670000000001,
          75.47670000000001,
          75.47670000000001,
          75.47670000000001,
          75.47670000000001,
          75.47670000000001,
          75.47670000000001,
          75.47670000000001,
          75.47670000000001,
          75.47670000000001,
          75.47670000000001,
          75.47670000000001,
          75.47670000000001,
          75.47670000000001,
          75.47670000000001,
          75.47670000000001,
          75.47670000000001,
          75.47670000000001,
          75.47670000000001,
          75.47670000000001,
          75.47670000000001,
          75.47670000000001,
          75.4767,
          75.4767,
          75.4767,
          75.4767,
          75.4767,
          77.2503,
          75.0333,
          75.0333,
          75.0333,
          75.0333,
          75.0333,
          75.0333,
          75.0333,
          75.0333,
          75.0333,
          75.0333,
          75.0333,
          75.0333,
          75.0333,
          75.0333,
          75.0333,
          75.0333,
          75.0333,
          75.0333,
          75.0333,
          75.0333,
          75.0333,
          75.0333,
          75.0333,
          75.0333,
          75.0333,
          75.0333,
          75.0333,
          75.0333,
          75.0333,
          75.0333,
          75.0333,
          75.0333,
          75.0333,
          75.0333,
          75.0333,
          75.0333,
          75.0333,
          75.0333,
          75.0333,
          75.0333,
          75.0333,
          75.0333,
          75.0333,
          75.0333,
          75.0333,
          75.0333,
          75.0333,
          75.0333,
          75.0333,
          75.0333,
          75.0333,
          75.0333,
          75.0333,
          75.0333,
          75.0333,
          75.0333,
          75.0333,
          75.0333,
          75.0333,
          75.0333,
          75.0333,
          75.0333,
          75.0333,
          75.0333,
          75.0333,
          75.0333,
          75.0333,
          75.0333,
          75.0333,
          75.0333,
          75.0333,
          75.0333,
          75.0333,
          75.0333,
          75.0333,
          75.0333,
          75.0333,
          75.0333,
          75.47670000000001,
          75.47670000000001,
          75.47670000000001,
          75.47670000000001,
          75.47670000000001,
          75.47670000000001,
          75.47670000000001,
          75.47670000000001,
          75.47670000000001,
          75.47670000000001,
          75.47670000000001,
          75.47670000000001,
          75.47670000000001,
          75.47670000000001,
          75.47670000000001,
          75.47670000000001,
          75.47670000000001,
          75.9201,
          75.9201,
          83.0145,
          83.0145,
          83.0145,
          83.0145,
          83.4579,
          83.4579,
          83.4579,
          83.4579,
          83.90129999999999,
          83.90129999999999,
          83.90129999999999,
          83.90129999999999,
          83.90129999999999,
          84.3447,
          84.3447,
          84.3447,
          84.3447,
          84.3447,
          84.3447,
          84.3447,
          84.3447,
          84.3447,
          84.3447,
          84.3447,
          84.3447,
          84.3447,
          84.3447,
          84.3447,
          84.3447,
          84.3447,
          84.3447,
          84.3447,
          84.3447,
          84.3447,
          84.3447,
          84.3447,
          84.3447,
          84.3447,
          84.3447,
          84.3447,
          84.3447,
          84.3447,
          84.3447,
          84.3447,
          84.3447,
          84.3447,
          84.3447,
          84.3447,
          84.3447,
          84.3447,
          84.3447,
          84.3447,
          84.3447,
          84.3447,
          84.3447,
          84.3447,
          84.3447,
          84.3447,
          84.3447,
          84.3447,
          84.3447,
          84.3447,
          84.3447,
          84.3447,
          84.3447,
          84.3447,
          84.3447,
          84.3447,
          84.3447,
          84.3447,
          84.3447,
          84.3447,
          84.3447,
          84.3447,
          84.3447,
          84.3447,
          84.3447,
          84.3447,
          84.3447,
          84.3447,
          84.3447,
          84.3447,
          84.3447,
          84.3447,
          84.3447,
          84.3447,
          84.3447,
          84.3447,
          84.3447,
          84.3447,
          84.3447,
          84.3447,
          84.3447,
          84.3447,
          84.3447,
          84.3447,
          84.3447,
          84.3447,
          84.3447,
          84.3447,
          84.3447,
          84.3447,
          84.3447,
          84.3447,
          84.3447,
          84.3447,
          84.3447,
          84.3447,
          84.3447,
          84.3447,
          84.3447,
          84.3447,
          84.3447,
          84.3447,
          84.3447,
          84.3447,
          84.3447,
          84.3447,
          84.3447,
          84.3447,
          84.3447,
          84.3447,
          84.3447,
          84.3447,
          84.3447,
          84.3447,
          84.3447,
          84.3447,
          84.3447,
          84.3447,
          84.3447,
          84.3447,
          84.3447,
          84.3447,
          84.3447,
          84.3447,
          84.3447,
          84.3447,
          84.3447,
          84.3447,
          84.3447,
          84.3447,
          84.3447,
          84.3447,
          84.3447,
          84.3447,
          84.3447,
          84.3447,
          84.3447,
          84.3447,
          84.3447,
          84.3447,
          84.3447,
          84.7881,
          84.7881,
          84.7881,
          84.7881,
          84.7881,
          84.7881,
          61.2879,
          61.7313,
          61.7313,
          61.7313,
          61.7313,
          84.3447,
          84.3447,
          84.3447,
          84.3447,
          84.3447,
          84.3447,
          84.3447,
          84.3447,
          84.3447,
          84.3447,
          84.3447,
          84.3447,
          84.7881,
          84.7881,
          84.7881,
          84.7881,
          84.7881,
          84.7881,
          84.7881,
          84.7881,
          84.7881,
          84.7881,
          84.7881,
          84.7881,
          84.7881,
          84.7881,
          84.7881,
          84.7881,
          84.7881,
          84.7881,
          84.7881,
          84.7881,
          84.7881,
          84.7881,
          84.7881,
          84.7881,
          84.7881,
          84.7881,
          84.7881,
          84.7881,
          84.7881,
          84.7881,
          84.7881,
          84.7881,
          84.7881,
          84.7881,
          84.7881,
          84.7881,
          84.7881,
          84.7881,
          84.7881,
          84.7881,
          84.7881,
          84.7881,
          84.7881,
          84.7881,
          84.7881,
          102.9675,
          103.4109,
          81.6843,
          81.6843,
          82.1277,
          82.1277,
          82.1277,
          82.1277,
          82.1277,
          82.5711,
          82.5711,
          82.5711,
          82.5711,
          83.0145,
          83.0145,
          83.0145,
          83.0145,
          83.0145,
          83.0145,
          83.4579,
          83.4579,
          83.4579,
          83.4579,
          83.4579,
          83.4579,
          83.4579,
          83.4579,
          83.4579,
          83.9013,
          83.9013,
          83.9013,
          83.9013,
          83.9013,
          83.9013,
          83.9013,
          83.9013,
          84.3447,
          84.3447,
          84.3447,
          84.3447,
          84.3447,
          84.3447,
          84.3447,
          84.3447,
          84.3447,
          84.3447,
          84.3447,
          84.3447,
          84.3447,
          84.3447,
          84.3447,
          84.3447,
          84.7881,
          84.7881,
          84.7881,
          84.7881,
          84.7881,
          84.7881,
          84.7881,
          84.7881,
          84.7881,
          84.7881,
          84.7881,
          84.7881,
          84.7881,
          84.7881,
          84.7881,
          84.7881,
          84.7881,
          84.7881,
          84.7881,
          84.7881,
          84.7881,
          84.7881,
          84.7881,
          84.7881,
          84.7881,
          84.7881,
          84.7881,
          84.7881,
          84.7881,
          84.7881,
          84.7881,
          84.7881,
          84.7881,
          84.7881,
          84.7881,
          84.7881,
          84.7881,
          84.7881,
          84.7881,
          84.7881,
          84.7881,
          84.7881,
          84.7881,
          84.7881,
          84.7881,
          84.7881,
          84.7881,
          84.7881,
          84.7881,
          84.7881,
          84.7881,
          84.7881,
          84.7881,
          84.7881,
          84.7881,
          84.7881,
          84.7881,
          84.7881,
          84.7881,
          84.7881,
          84.7881,
          84.7881,
          84.7881,
          84.7881,
          84.7881,
          84.7881,
          84.7881,
          84.7881,
          84.7881,
          84.7881,
          84.7881,
          84.7881,
          84.7881,
          84.7881,
          84.7881,
          84.7881,
          84.7881,
          84.7881,
          84.7881,
          84.7881,
          84.7881,
          84.7881,
          84.7881,
          84.7881,
          84.7881,
          84.7881,
          84.7881,
          84.7881,
          84.7881,
          84.7881,
          84.7881,
          84.7881,
          84.7881,
          84.7881,
          84.7881,
          84.7881,
          84.7881,
          84.7881,
          84.7881,
          84.7881,
          84.7881,
          84.7881,
          84.7881,
          84.7881,
          84.7881,
          84.7881,
          84.7881,
          84.7881,
          84.7881,
          84.7881,
          84.7881,
          84.7881,
          84.7881,
          84.7881,
          84.7881,
          84.7881,
          84.7881,
          84.7881,
          84.7881,
          84.7881,
          84.7881,
          84.7881,
          84.7881,
          84.7881,
          84.7881,
          84.7881,
          84.7881,
          84.7881,
          84.7881,
          84.7881,
          84.7881,
          84.7881,
          84.7881,
          84.7881,
          84.7881,
          84.7881,
          84.7881,
          84.7881,
          84.7881,
          84.7881,
          84.7881,
          84.7881,
          84.7881,
          84.7881,
          84.7881,
          84.7881,
          84.7881,
          85.2315,
          85.2315,
          85.2315,
          85.2315,
          85.2315,
          85.2315,
          85.2315,
          85.2315,
          85.2315,
          85.2315,
          85.2315,
          85.2315,
          85.2315,
          85.2315,
          85.2315,
          85.2315,
          85.2315,
          85.2315,
          85.2315,
          85.2315,
          85.2315,
          85.2315,
          85.2315,
          85.2315,
          85.2315,
          85.2315,
          85.2315,
          85.2315,
          85.2315,
          85.2315,
          85.2315,
          85.2315,
          85.2315,
          85.2315,
          85.2315,
          85.2315,
          85.2315,
          85.2315,
          85.2315,
          85.2315,
          85.2315,
          85.2315,
          85.2315,
          85.2315,
          85.2315,
          85.2315,
          85.2315,
          85.2315,
          85.2315,
          85.2315,
          85.2315,
          85.2315,
          85.2315,
          85.2315,
          85.2315,
          85.2315,
          85.2315,
          85.2315,
          85.2315,
          85.2315,
          85.2315,
          85.2315,
          85.2315,
          85.2315,
          85.2315,
          85.2315,
          85.2315,
          85.2315,
          85.2315,
          85.2315,
          85.2315,
          85.2315,
          85.2315,
          85.2315,
          85.2315,
          85.2315,
          85.2315,
          85.2315,
          85.2315,
          85.2315,
          85.2315,
          85.2315,
          85.2315,
          85.2315,
          85.2315,
          85.2315,
          85.2315,
          85.2315,
          85.2315,
          85.2315,
          85.2315,
          85.2315,
          85.2315,
          85.2315,
          85.2315,
          85.23150000000001
         ],
         "z": [
          33.06634214063062,
          21.619777845487498,
          32.12443517520803,
          31.964789926992598,
          40.22368064000883,
          52.276896880273696,
          51.829890183367375,
          52.24496782777593,
          51.7979611356274,
          51.941641859972854,
          52.06935805569052,
          51.54252873943428,
          42.027671941988494,
          50.15361507710538,
          50.28133127758084,
          50.249402225083074,
          50.520799149903986,
          50.90394774657257,
          50.40904747329851,
          50.90394774657257,
          51.015699418420255,
          50.56869272151393,
          51.079557518657985,
          50.632550821751664,
          50.98377037068029,
          51.30306086711114,
          50.85605417020482,
          51.30306086711114,
          51.46270611532657,
          51.574457787174254,
          51.92567733134507,
          51.382883491218855,
          52.276896880273696,
          51.68620945902194,
          52.11725163205826,
          51.65428041128197,
          52.35671950438141,
          51.73410303538968,
          52.02146448408057,
          52.16514520366822,
          52.260932356403714,
          52.292861404143686,
          52.73986810105,
          52.16514520366822,
          52.62811642444452,
          52.77179714878997,
          52.707939048552234,
          52.99530049724312,
          52.276896880273696,
          53.01126502111312,
          52.99530049724312,
          53.68177506171479,
          41.40505547775456,
          41.341197377516835,
          41.532771673472226,
          42.235210766571676,
          42.219246242701686,
          43.01747248377883,
          42.61835936324026,
          42.17135266633394,
          42.42678506252707,
          42.50660768663478,
          42.793969135325675,
          42.57046578687251,
          42.7620400875857,
          43.00150795990885,
          43.097295107886545,
          43.161153208124276,
          43.240975832231996,
          43.416585604317405,
          42.96957890741108,
          43.416585604317405,
          43.656053476640544,
          43.20904677973423,
          43.59219537640281,
          43.84762777259594,
          43.40062108044742,
          44.007273020811375,
          43.56026632866285,
          43.87955682509371,
          44.03920207330914,
          44.374457093609976,
          43.87955682509371,
          44.374457093609976,
          43.92745039670366,
          44.2627054170045,
          44.40638614134995,
          44.78953473801853,
          44.27866994563228,
          44.64585401367309,
          44.64585401367309,
          44.917250938494,
          44.47024424158767,
          45.17268333468712,
          44.693747590040836,
          45.34829310677253,
          44.869357362126244,
          45.41215120701027,
          44.869357362126244,
          45.140754282189356,
          45.2844350065348,
          45.39618668314028,
          45.50793835498796,
          45.61969002683564,
          45.779335275051075,
          45.33232858290255,
          46.018803147374214,
          45.55583193135571,
          45.954945051894285,
          45.50793835498796,
          46.27423554832514,
          45.7474062273111,
          46.22634197195739,
          45.779335275051075,
          46.194412924217424,
          46.41791626791279,
          45.97090957576427,
          46.75317129297142,
          46.22634197195739,
          46.89685201255907,
          46.44984532041055,
          47.12035536101223,
          46.59352604475599,
          46.146519347849676,
          46.80106486458137,
          47.00860368916455,
          46.529667944518266,
          46.86492296481911,
          47.152284413509996,
          46.705277716603675,
          47.20017798511994,
          46.75317129297142,
          47.280000609227656,
          46.832993917079136,
          47.26403608535768,
          47.43964585744309,
          47.50350395768082,
          47.6152556295285,
          47.79086540637171,
          47.343858709465394,
          47.79086540637171,
          47.99840422619709,
          47.55139753404857,
          48.04629780256484,
          47.599291105658516,
          48.094191374174784,
          48.25383662239021,
          48.237872098520235,
          48.38155282286568,
          48.668914271556574,
          48.221907574650245,
          48.605056171318836,
          48.68487879542655,
          48.87645309138195,
          48.42944639923343,
          48.860488567511965,
          48.95627571548967,
          49.163814540072835,
          48.71680784316652,
          49.163814540072835,
          49.43521146013595,
          48.988204767987426,
          49.54696313674143,
          49.09995643983511,
          49.6587148085891,
          49.21170811168279,
          49.64275028471913,
          49.131885487575076,
          49.738537432696816,
          49.866253633172285,
          49.40328241239598,
          50.057827929127676,
          49.61082123222136,
          49.93011172865222,
          49.83432458067452,
          50.23343770121309,
          50.45694104966625,
          50.20150865347313,
          50.329224849190794,
          50.79219606996709,
          50.36115390168855,
          50.88798321794479,
          51.90971280747509,
          52.612151900574545,
          52.6440809483145,
          52.580222852834574,
          52.88354882063764,
          53.07512312135084,
          53.218803845696286,
          52.723903572422216,
          53.154945745458555,
          53.37844909391172,
          52.9314423970054,
          53.426342665521666,
          53.426342665521666,
          53.63388149010484,
          53.18687479319853,
          53.713704114212554,
          53.76159768582251,
          54.08088818225336,
          53.601952437607075,
          53.969136510405676,
          40.064035391793404,
          40.3513968357265,
          40.367361364354274,
          40.65472280828737,
          40.20771611613885,
          40.49507756007194,
          40.6227937605474,
          40.702616384655116,
          40.98997782858821,
          40.54297113643969,
          41.213481177041366,
          40.73454543239508,
          41.660487873947694,
          41.03787140495596,
          40.59086470804964,
          41.59662977370996,
          41.10172950519369,
          41.86802669377307,
          41.16558760543142,
          41.43698452549453,
          40.98997782858821,
          41.38909094912678,
          41.58066524983998,
          41.8360976460331,
          41.341197377516835,
          41.915920270140816,
          41.42102000162455,
          41.899955746270834,
          41.452949049364506,
          41.9318847940108,
          41.97977837037855,
          42.12345909472399,
          42.29906886680941,
          41.8360976460331,
          42.68221746347799,
          42.05960099448626,
          42.5864303107425,
          42.3948560147871,
          42.650288410980224,
          42.857827235563406,
          42.730111035087944,
          42.84186271169342,
          43.097295107886545,
          43.25694035610197,
          46.86492296481911,
          41.660487873947694,
          40.98997782858821,
          41.29330380114908,
          40.766474484892846,
          50.249402225083074,
          49.802395532934554,
          50.057827929127676,
          49.61082123222136,
          50.34518937781857,
          50.45694104966625,
          49.91414720478223,
          50.6006217740117,
          50.632550821751664,
          50.13765055323539,
          50.56869272151393,
          50.073792452997665,
          50.16957960097536,
          50.80816059383708,
          50.64851534562165,
          50.20150865347313,
          50.6006217740117,
          50.13765055323539,
          50.66447987424943,
          51.015699418420255,
          50.425012001926284,
          50.99973489455027,
          50.55272819764395,
          50.98377037068029,
          50.40904747329851,
          51.31902539098113,
          51.47867063919656,
          50.840089646334846,
          51.287096338483366,
          50.80816059383708,
          51.382883491218855,
          50.66447987424943,
          51.71813851151969,
          51.143415618895716,
          51.590422311044236,
          51.04762846616022,
          51.271131814613376,
          51.7979611356274,
          51.702173987649715,
          51.255167290743394,
          51.75006755925966,
          51.20727371437565,
          51.41481253895883,
          52.0853225795605,
          51.86181923586514,
          51.41481253895883,
          51.68620945902194,
          51.23920276687342,
          51.67024493515195,
          51.22323824300342,
          51.67024493515195,
          52.612151900574545,
          51.89374828360511,
          52.13321615592825,
          51.68620945902194,
          52.10128710818829,
          51.606386834914225,
          51.89374828360511,
          51.44674158669879,
          51.86181923586514,
          53.745633161952526,
          52.45250665235911,
          51.941641859972854,
          52.48443570009907,
          52.03742900795055,
          52.292861404143686,
          51.8139256594974,
          52.73986810105,
          52.22900330390595,
          52.67601000081227,
          52.181109732296,
          52.42057760461914,
          52.9314423970054,
          52.468471176229095,
          52.835655249027695,
          52.38864855212138,
          52.99530049724312,
          53.043194068853076,
          52.59618737670455,
          53.01126502111312,
          52.56425832420679,
          52.787761672659954,
          53.426342665521666,
          53.61791696623486,
          53.01126502111312,
          53.362484565283935,
          52.851619772897685,
          53.282661941176215,
          53.63388149010484,
          53.18687479319853,
          53.68177506171479,
          53.13898122158857,
          54.032994610643414,
          53.44230718939165,
          53.87334936242799,
          53.41037814165168,
          53.77756221445029,
          53.18687479319853,
          54.12878175862111,
          53.61791696623486,
          54.08088818225336,
          53.63388149010484,
          53.98510103427567,
          53.41037814165168,
          54.416143207312004,
          53.88931388629796,
          54.240533430468794,
          53.79352673832027,
          54.176675334988865,
          54.67157560350513,
          54.16071080636108,
          54.52789487915968,
          54.032994610643414,
          54.304391530706525,
          60.01969141872199,
          59.49286209770796,
          59.81215259413882,
          59.7323299700311,
          54.76736275148282,
          54.783327275352804,
          54.33632058320429,
          54.70350465124509,
          54.22456890659881,
          54.91104347582827,
          59.76425902252887,
          59.71636544616111,
          60.01969141872199,
          59.540755674075704,
          60.03565594259197,
          59.58864924568566,
          59.93986879461428,
          59.476897573837974,
          55.27822754386908,
          54.48000130279193,
          54.97490157606601,
          54.52789487915968,
          54.879114423330506,
          54.384214154814245,
          59.78022354639885,
          59.8281171180088,
          59.860046170506564,
          59.78022354639885,
          59.78022354639885,
          55.37401469660458,
          54.783327275352804,
          55.29419207249687,
          54.783327275352804,
          55.11858229565365,
          54.62368202713738,
          59.971797842354235,
          59.98776236622423,
          59.540755674075704,
          59.76425902252887,
          59.796188070268826,
          59.92390427074429,
          59.476897573837974,
          59.876010694376546,
          55.75716328851537,
          55.10261777178366,
          55.501730892322236,
          55.03875967154594,
          55.48576636845225,
          54.83122085172056,
          60.03565594259197,
          59.8281171180088,
          59.93986879461428,
          59.49286209770796,
          60.083549518959714,
          59.572684721815676,
          59.876010694376546,
          59.429003997470225,
          59.860046170506564,
          59.93986879461428,
          55.90084401286081,
          55.38997922047456,
          55.75716328851537,
          55.246298496129114,
          55.54962446868999,
          60.25915929104514,
          59.8281171180088,
          59.98776236622423,
          59.540755674075704,
          59.8281171180088,
          59.971797842354235,
          59.52479115020573,
          59.7323299700311,
          55.90084401286081,
          55.453837320712296,
          55.90084401286081,
          55.43787279208451,
          55.932773065358575,
          59.8281171180088,
          59.89197521824652,
          59.90793974211651,
          60.01969141872199,
          59.572684721815676,
          60.03565594259197,
          59.58864924568566,
          60.01969141872199,
          56.699070253937954,
          55.90084401286081,
          56.1882054615517,
          55.67734066440765,
          59.84408164663658,
          60.22723023854737,
          59.71636544616111,
          59.876010694376546,
          59.971797842354235,
          59.52479115020573,
          59.92390427074429,
          56.36381523363711,
          55.9168085367308,
          56.2839926095294,
          55.821021388753095,
          59.92390427074429,
          60.13144309056967,
          59.66847186979337,
          59.860046170506564,
          60.01969141872199,
          59.572684721815676,
          56.79485740191565,
          56.60328310596026,
          56.15627640905393,
          56.491531434112574,
          56.02856021333628,
          60.13144309056967,
          60.083549518959714,
          59.6365428220534,
          60.067584990331945,
          59.62057829818342,
          60.03565594259197,
          59.58864924568566,
          56.87468002602336,
          56.87468002602336,
          56.42767333387485,
          56.82678645441342,
          56.2839926095294,
          59.92390427074429,
          60.32301739128286,
          59.8281171180088,
          60.115478566699686,
          59.66847186979337,
          60.003726894852,
          59.93986879461428,
          57.25782862269195,
          56.60328310596026,
          57.16204147471426,
          56.68310573006797,
          57.14607695084427,
          56.5553895295925,
          59.95583331848426,
          60.067584990331945,
          59.62057829818342,
          59.93986879461428,
          59.95583331848426,
          59.98776236622423,
          56.87468002602336,
          57.401509347037404,
          56.954502650131076,
          56.954502650131076,
          60.09951404282971,
          59.65250734592339,
          60.003726894852,
          60.163372143067434,
          59.71636544616111,
          60.003726894852,
          57.704835319598274,
          57.17800599858424,
          57.57711911912281,
          57.13011242697429,
          57.4972964950151,
          56.92257360239112,
          60.291088338785094,
          59.84408164663658,
          60.22723023854737,
          59.78022354639885,
          59.98776236622423,
          60.003726894852,
          57.73676436733824,
          57.28975767518972,
          57.91237413942365,
          57.417473870907386,
          57.57711911912281,
          59.93986879461428,
          59.93986879461428,
          60.291088338785094,
          59.81215259413882,
          60.01969141872199,
          60.41880453926056,
          59.78022354639885,
          60.386875486762804,
          57.99219676353137,
          57.54519007138284,
          58.0560548637691,
          57.593083642992795,
          57.704835319598274,
          60.067584990331945,
          60.1953011908074,
          59.748294493901085,
          60.25915929104514,
          59.81215259413882,
          60.1953011908074,
          59.748294493901085,
          60.01969141872199,
          58.21570011198453,
          57.768693419836005,
          58.31148725996222,
          57.8644805678137,
          57.84851604394372,
          60.083549518959714,
          60.41880453926056,
          59.876010694376546,
          60.051620466461955,
          60.179336666937424,
          59.7323299700311,
          60.01969141872199,
          49.6587148085891,
          49.21170811168279,
          49.052062863467356,
          58.519026084545395,
          58.07201938763908,
          60.21126571467738,
          59.76425902252887,
          58.359380836329976,
          57.91237413942365,
          60.179336666937424,
          59.684436398421155,
          60.33898191515285,
          59.876010694376546,
          60.163372143067434,
          59.684436398421155,
          60.09951404282971,
          49.2915307357905,
          49.243637164180555,
          49.21170811168279,
          60.25915929104514,
          60.24319476717515,
          59.796188070268826,
          60.21126571467738,
          59.58864924568566,
          58.662706808890846,
          58.21570011198453,
          60.27512381491512,
          59.8281171180088,
          58.45516798430767,
          58.00816129215915,
          60.163372143067434,
          59.71636544616111,
          49.32345978828827,
          49.307495264418286,
          48.860488567511965,
          60.163372143067434,
          60.21126571467738,
          60.37091096289281,
          59.92390427074429,
          60.32301739128286,
          59.876010694376546,
          60.163372143067434,
          58.91813920508397,
          58.471132508177654,
          58.726564909128584,
          58.27955821222226,
          49.068027392095146,
          48.62102069518882,
          48.94031119161968,
          60.33898191515285,
          59.89197521824652,
          60.25915929104514,
          60.067584990331945,
          61.328782452185386,
          59.93986879461428,
          61.58421484837851,
          60.897740283906856,
          61.312817928315404,
          60.86581123140909,
          61.53632127676856,
          61.08931457986224,
          59.06181992942942,
          58.614813232523105,
          61.48842770040081,
          61.04142100825229,
          58.91813920508397,
          58.471132508177654,
          61.568250324508526,
          61.121243632360006,
          61.7757891490917,
          61.312817928315404,
          61.648072948616246,
          61.20106625646772,
          61.7757891490917,
          61.328782452185386,
          61.83964724932944,
          61.39264055242312,
          61.887540820939385,
          62.04718606915482,
          61.60017937700629,
          62.19086679350026,
          61.743860096593934,
          62.14297321713251,
          62.254724893737986,
          62.36647656558567,
          61.91946987343715,
          62.318582993975724,
          62.44629918969339,
          62.54208633767108,
          62.574015390168846,
          62.6219089617788,
          62.68576706201653,
          62.781554209994226,
          62.765589686124244,
          62.82944778636198,
          62.845412310231964,
          49.14785001620286,
          48.605056171318836,
          48.7327723670365,
          60.897740283906856,
          59.572684721815676,
          58.99796182919168,
          61.21703078033771,
          61.137208156229995,
          61.05738553212228,
          61.10527910373223,
          60.03565594259197,
          61.23299530420769,
          60.03565594259197,
          60.993527431884544,
          60.48266263949829,
          60.03565594259197,
          61.18510172783995,
          60.62634335908594,
          60.03565594259197,
          59.46093304996799,
          61.34474697605536,
          60.70616598319366,
          60.083549518959714,
          59.44496852609801,
          61.34474697605536,
          60.83388218366912,
          59.34918137336251,
          61.16913720396995,
          60.72213051182143,
          59.31725232562254,
          61.47246317653084,
          60.929669331646814,
          59.25339422538482,
          61.328782452185386,
          60.83388218366912,
          59.23742970151483,
          61.440534128790866,
          60.801953135929146,
          59.14164255353713,
          61.47246317653084,
          58.854281104846244,
          48.58909164744885,
          50.02589888138771,
          61.10527910373223,
          60.56248526360601,
          59.70040092229114,
          59.25339422538482,
          61.34474697605536,
          60.70616598319366,
          60.25915929104514,
          59.81215259413882,
          59.365145901990296,
          61.28088888057543,
          60.77002408343138,
          60.32301739128286,
          59.876010694376546,
          61.42456960016308,
          60.78598860730138,
          60.33898191515285,
          59.89197521824652,
          61.42456960016308,
          60.754059559561405,
          60.307052862655084,
          59.84408164663658,
          61.23299530420769,
          60.67423693545369,
          60.22723023854737,
          59.78022354639885,
          61.45649865266084,
          60.65827241158371,
          59.76425902252887,
          61.39264055242312,
          61.28088888057543,
          42.44274959115485,
          42.4906431627648,
          48.38155282286568,
          50.121686029365414,
          49.67467933245909,
          60.817917659799136,
          61.10527910373223,
          60.48266263949829,
          61.05738553212228,
          61.05738553212228,
          59.70040092229114,
          60.897740283906856,
          59.55672019794569,
          59.71636544616111,
          59.2693587492548,
          60.03565594259197,
          59.52479115020573,
          59.0777844532994,
          59.90793974211651,
          59.429003997470225,
          58.981997305321705,
          59.796188070268826,
          59.34918137336251,
          59.8281171180088,
          59.31725232562254,
          59.78022354639885,
          59.221465177644845,
          59.46093304996799,
          59.01392635306168,
          59.38111042586028,
          58.91813920508397,
          59.189536125147086,
          58.74252943299856,
          59.045855405559436,
          58.59884870865311,
          59.12567802966716,
          58.67867133276083,
          59.189536125147086,
          58.534990608415384,
          58.63077775639308,
          58.45516798430767,
          58.58288418478313,
          48.39751734673566,
          47.918581602089375,
          48.1740139982825,
          59.23742970151483,
          58.79042300460851,
          59.01392635306168,
          58.56691966091315,
          58.74252943299856,
          58.39130988406994,
          58.26359368835227,
          59.301287801752565,
          58.96603278145172,
          58.55095513228537,
          58.407274412697724,
          58.55095513228537,
          58.0560548637691,
          58.43920346043768,
          57.99219676353137,
          58.21570011198453,
          57.704835319598274,
          58.10394844013685,
          58.16780654037458,
          57.704835319598274,
          57.89640961555367,
          57.80062246757598,
          57.80062246757598,
          57.35361577066965,
          57.46536744727513,
          57.43343839477736,
          57.46536744727513,
          57.018360750368814,
          57.28975767518972,
          57.14607695084427,
          48.06226232643482,
          47.6152556295285,
          47.79086540637171,
          58.24762916448229,
          58.087983916266865,
          57.976232239661385,
          57.529225547512866,
          57.91237413942365,
          57.46536744727513,
          57.625012695490554,
          57.17800599858424,
          57.449402923405145,
          57.16204147471426,
          56.93853812626109,
          56.906609078521136,
          56.79485740191565,
          56.85871550215338,
          56.41170881000486,
          56.635212153700216,
          56.68310573006797,
          56.23609903316164,
          56.50749595798256,
          56.379779757507094,
          56.39574428137708,
          55.948737589228564,
          56.22013450929167,
          55.77312781714314,
          56.060489261076235,
          55.75716328851537,
          55.7252342407754,
          47.74297183000397,
          47.87068803047943,
          47.42368133357311,
          47.74297183000397,
          57.43343839477736,
          56.98643170262885,
          57.28975767518972,
          56.842750978283405,
          57.22589957495198,
          56.77889287804567,
          57.209935051082006,
          56.762928354175685,
          56.50749595798256,
          55.75716328851537,
          55.70926971690542,
          55.90084401286081,
          55.37401469660458,
          55.54962446868999,
          55.37401469660458,
          55.40594374434454,
          55.3580501679768,
          54.91104347582827,
          55.59751804029994,
          55.11858229565365,
          55.32612112023683,
          54.79929179922279,
          55.03875967154594,
          54.59175297939741,
          54.86314989946052,
          54.76736275148282,
          54.57578845552744,
          54.62368202713738,
          57.13011242697429,
          56.523460481852545,
          56.076453784946224,
          56.379779757507094,
          56.268028085659424,
          55.821021388753095,
          56.076453784946224,
          55.629447092797704,
          55.75716328851537,
          55.69330519303543,
          55.53365994482,
          55.08665324791368,
          54.65561107963515,
          54.384214154814245,
          54.416143207312004,
          53.969136510405676,
          54.288427006836535,
          54.240533430468794,
          53.79352673832027,
          54.09685271088115,
          54.01703008677343,
          53.5700233898671,
          54.11281723475113,
          53.66581053784481,
          53.79352673832027,
          53.66581053784481,
          53.82545578606024,
          53.330555517543964,
          53.50616528962938,
          53.05915859748086,
          53.52212981349936,
          53.298626469804006,
          36.83920137498706,
          36.392194682838536,
          36.28044300623306,
          55.54962446868999,
          55.56558899255997,
          55.11858229565365,
          55.453837320712296,
          55.00683062380597,
          55.08665324791368,
          54.97490157606601,
          54.8950789519583,
          53.2028393170685,
          53.10705216909081,
          53.12301669296079,
          53.07512312135084,
          52.62811642444452,
          52.91547787313541,
          53.043194068853076,
          52.54829380033681,
          52.723903572422216,
          52.6440809483145,
          52.50040022872686,
          52.59618737670455,
          52.149180679798235,
          52.532329276466825,
          52.06935805569052,
          52.24496782777593,
          51.98953543158281,
          51.90971280747509,
          51.86181923586514,
          51.845854707237365,
          51.398848015088845,
          51.54252873943428,
          51.574457787174254,
          55.10261777178366,
          54.83122085172056,
          54.384214154814245,
          54.81525632785058,
          54.36824963094425,
          53.921242934037934,
          54.62368202713738,
          54.1447462824911,
          54.432107731181986,
          53.98510103427567,
          54.1447462824911,
          51.702173987649715,
          51.845854707237365,
          51.255167290743394,
          51.46270611532657,
          51.015699418420255,
          51.33498991485111,
          51.23920276687342,
          51.143415618895716,
          51.063592994787996,
          51.30306086711114,
          50.74430249835714,
          50.840089646334846,
          50.840089646334846,
          50.39308294942852,
          50.85605417020482,
          50.39308294942852,
          53.82545578606024,
          53.729668638082536,
          53.68177506171479,
          53.23476836956627,
          53.37844909391172,
          53.25073289343625,
          52.80372619652993,
          53.043194068853076,
          52.59618737670455,
          53.02722954498309,
          52.580222852834574,
          52.787761672659954,
          52.34075498051143,
          52.56425832420679,
          52.10128710818829,
          52.468471176229095,
          52.005499955452784,
          52.35671950438141,
          52.02146448408057,
          51.95760638384284,
          51.877783759735124,
          51.4307770628288,
          51.55849326330427,
          51.35095443872109,
          51.271131814613376,
          50.99973489455027,
          51.143415618895716,
          50.696408921989395,
          50.90394774657257,
          51.04762846616022,
          50.520799149903986,
          50.68044439811941,
          50.23343770121309,
          50.48887009740622,
          50.02589888138771,
          50.28133127758084,
          49.83432458067452,
          50.08975697686765,
          49.64275028471913,
          49.94607625728,
          49.49906956037368,
          49.738537432696816,
          49.2915307357905,
          49.56292766061141,
          49.11592096370509,
          49.131885487575076,
          49.626785760849145,
          49.03609833959738,
          49.179779063942824,
          49.08399191596512,
          48.63698521905881,
          48.97224023935964,
          48.52523354721112,
          48.70084331929654,
          48.25383662239021,
          48.7327723670365,
          48.413481870605644,
          48.25383662239021,
          48.25383662239021,
          47.80682993024169,
          47.98243970232711,
          26.20159646736718,
          26.648603164273503,
          26.105809319389483,
          27.335077728745166,
          27.207361533027502,
          26.12177384325947,
          26.265454567604912,
          26.233525515107146,
          26.69649673588345,
          26.393170763322576,
          26.840177460228894,
          26.600709587905747,
          27.047716284812072,
          26.7443903122512,
          26.840177460228894,
          26.82421293635891,
          27.271219628507435,
          26.99982270844432,
          27.063680808682058,
          27.510687500830578,
          27.15946795665975,
          27.606474653566075,
          27.095609856422023,
          27.542616553328344,
          26.840177460228894,
          27.47875845309061,
          27.92576514999693,
          27.239290580767467,
          27.686297277673788,
          27.41490035285288,
          27.92576514999693,
          27.702261801543774,
          28.14926849369229,
          27.702261801543774,
          28.16523302232007,
          27.782084425651487,
          28.261020170297776,
          28.133303969822304,
          28.245055646427783,
          28.18119754619006,
          27.973658721606874,
          28.436629942383185,
          28.229091117800003,
          28.708026862446292,
          28.436629942383185,
          28.899601163159485,
          28.644168766966356,
          28.372771842145447,
          28.9794237872672,
          28.708026862446292,
          29.155033559352614,
          28.91556568702947,
          29.02731735887715,
          29.155033559352614,
          29.170998083222592,
          29.362572383935788,
          29.107139982984865,
          29.618004780128917,
          30.128869572515168,
          30.575876269421485,
          29.298714283698057,
          29.82554359995429,
          29.554146679891183,
          30.001153376797504,
          29.889401700192025,
          29.69782740423663,
          30.176763148882912,
          30.001153376797504,
          30.11290504864518,
          30.065011472277433,
          30.512018169183754,
          30.160798625012934,
          30.352372920968328,
          30.512018169183754,
          30.671663417399184,
          30.86323771335458,
          30.86323771335458,
          30.895166765852345,
          28.947494734769435,
          29.841508128582074,
          28.93153021089945,
          29.82554359995429,
          30.36833744483831,
          29.937295276559773,
          29.937295276559773,
          30.240621249120647,
          30.400266497336077,
          30.623769841031436,
          30.671663417399184,
          30.783415089246866,
          30.895166765852345,
          30.70359246513915,
          31.26235083389315,
          31.05481201406777,
          31.26235083389315,
          31.294279886390918,
          31.230421786153187,
          31.70935753079947,
          31.3102444102609,
          31.757251107167217,
          31.613570382821774,
          31.517783234844075,
          31.964789926992598,
          31.64549943056174,
          31.8690027790149,
          31.948825403122612,
          31.964789926992598,
          31.964789926992598,
          32.41179662389892,
          32.028648027230325,
          32.475654724136646,
          32.25215137568349,
          32.347938523661185,
          32.39583210002893,
          32.84283879217746,
          32.23618685181351,
          32.71512259645979,
          32.37986757140115,
          32.82687426830747,
          32.76301616806974,
          32.8907323685452,
          32.71512259645979,
          33.21002286497606,
          32.986519516522904,
          33.43352621342922,
          32.93862594015515,
          33.41756168480144,
          33.178093812478295,
          33.625100509384616,
          33.481419785039165,
          30.144834096385146,
          34.07733858371482,
          34.189090255562505,
          34.46048718038342,
          34.50838075199336,
          34.42855812788565,
          34.891529348661955,
          34.34873550377794,
          34.77977767681428,
          34.69995505270656,
          34.85960030092198,
          35.00328102050963,
          35.0352100730074,
          35.35450056943826,
          34.90749387253193,
          35.258713421460556,
          35.53011034152367,
          35.05117459687738,
          35.54607486539365,
          35.56203938926363,
          35.64186201337135,
          35.84940083795452,
          35.817471790214555,
          35.92922346206224,
          36.152726810515404,
          36.31237205873082,
          35.86536536182451,
          36.58376897879394,
          36.07290418640768,
          36.408159206708525,
          36.5199108785562,
          36.8072723272471,
          36.36026563034078,
          36.63166255516168,
          36.83920137498706,
          36.966917575462524,
          36.5199108785562,
          37.04674019957024,
          36.599733502663916,
          37.286208071893384,
          36.82323685111708,
          37.15849187141792,
          37.669356668561974,
          37.15849187141792,
          37.7332147687997,
          37.2702435480234,
          37.797072864279635,
          37.286208071893384,
          37.63742761606421,
          37.19042092391568,
          37.74917929266969,
          37.302172595763366,
          37.81303739290742,
          37.3660306960011,
          37.972682641122844,
          37.50971142034654,
          38.05250526523056,
          37.60549856832424,
          38.10039883684051,
          37.653392144691985,
          38.06846978910055,
          38.46758290963911,
          37.94075358862508,
          38.32390218529367,
          37.87689548838735,
          38.40372480940138,
          38.3877602855314,
          38.70705078196225,
          38.244079561185956,
          38.72301530583224,
          38.27600860892592,
          38.70705078196225,
          38.89862507791766,
          38.45161838576913,
          38.97844770202537,
          38.53144100987684,
          39.122128426370814,
          38.67512172946449,
          39.074234850003066,
          33.422793066983125,
          33.678225463176254,
          33.7261190347862,
          33.78997713502393,
          33.85383523526166,
          34.061374059844844,
          33.98155143573713,
          34.300841932167984,
          34.15716120782254,
          34.42855812788565,
          33.438757590853115,
          34.20505477943249,
          34.34873550377794,
          34.85960030092198,
          34.58820337610108,
          34.62013242859884,
          37.95671811249507,
          33.45472211472309,
          33.34297044287541,
          -38.77090888219999,
          -38.27600860892592,
          -38.8507315063077,
          -38.37179576166142,
          -37.860930964517365,
          -37.78110834040965,
          -38.64319268172453,
          -38.06846978910055,
          -37.71725024017192,
          -37.98864716499283,
          -38.06846978910055,
          -37.49374689647656,
          -38.13232788933827,
          -33.78997713502393,
          -34.013480483477096,
          -33.86979975913165,
          -34.22101930806027,
          -33.64629641067849,
          -34.747848624316504,
          -34.15716120782254,
          -33.69418998704624,
          -34.46048718038342,
          -33.77401261115395,
          -34.20505477943249,
          -34.300841932167984,
          -34.39662908014568,
          -33.933657859369376,
          -34.36470002764791,
          -34.55627432836111,
          -34.061374059844844,
          -34.2848774035402,
          -34.55627432836111,
          -34.41259360401567,
          -34.49241622812338,
          -34.572238852231095,
          -34.747848624316504,
          -35.258713421460556,
          -34.69995505270656,
          -35.06713912074736,
          -34.49241622812338,
          -34.98731649663965,
          -34.50838075199336,
          -34.891529348661955,
          -34.843635772294206,
          -35.05117459687738,
          -34.60416789997106,
          -35.17889079735284,
          -34.71591957657654,
          -35.09906817324513,
          -35.0352100730074,
          -35.32257151694049,
          -34.875564824791965,
          -35.35450056943826,
          -34.90749387253193,
          -35.24274889283278,
          -35.67379106586911,
          -35.09906817324513,
          -35.402394141048205,
          -34.955387448899685,
          -35.65782654199913,
          -35.17889079735284,
          -35.466252241285936,
          -35.4981812937837,
          -35.817471790214555,
          -35.3066069930705,
          -35.53011034152367,
          -35.817471790214555,
          -35.37046509330824,
          -35.705720113609075,
          -35.75361368997683,
          -35.92922346206224,
          -35.48221676515592,
          -35.99308156229997,
          -35.54607486539365,
          -35.99308156229997,
          -35.54607486539365,
          -36.025010610039935,
          -35.578003917891415,
          -36.07290418640768,
          -35.62589748950136,
          -36.088868710277666,
          -35.64186201337135,
          -35.97711703842999,
          -36.28044300623306,
          -35.817471790214555,
          -36.31237205873082,
          -35.86536536182451,
          -36.29640753486085,
          -35.84940083795452,
          -36.26447848236308,
          -36.344301106470795,
          -36.48798183081624,
          -36.00904608616995,
          -36.599733502663916,
          -36.152726810515404,
          -36.44008825444849,
          -36.647627079031665,
          -36.200620382125344,
          -36.50394635468622,
          -36.79130780337711,
          -36.31237205873082,
          -36.663591602901654,
          -36.77534327950713,
          -36.32833658260081,
          -36.82323685111708,
          -36.82323685111708,
          -36.98288209933251,
          -36.5199108785562,
          -37.286208071893384,
          -36.647627079031665,
          -37.01481115183027,
          -36.56780445492395,
          -36.95095305159254,
          -37.06270472344022,
          -37.11059829980797,
          -37.12656282367796,
          -37.222349971655646,
          -37.31813711963335,
          -36.85516590361485,
          -37.31813711963335,
          -37.302172595763366,
          -37.541640468086506,
          -37.09463377593799,
          -37.63742761606421,
          -37.19042092391568,
          -37.860930964517365,
          -37.334101648261125,
          -36.88709495135481,
          -38.116363360710494,
          -37.477782367848775,
          -37.030775675700255,
          -37.84496644064738,
          -37.39795974374106,
          -37.98864716499283,
          -37.46181784397879,
          -37.95671811249507,
          -37.39795974374106,
          -37.89286001701513,
          -37.44585332010881,
          -37.89286001701513,
          -37.42988879623883,
          -38.244079561185956,
          -37.70128571630194,
          -38.32390218529367,
          -37.87689548838735,
          -38.483547433509095,
          -37.84496644064738,
          -38.21215051344599,
          -37.71725024017192,
          -38.19618598481821,
          -37.70128571630194,
          -37.98864716499283,
          -38.164256937078235,
          -34.02944500734708,
          -33.90172881162941,
          -34.15716120782254,
          -34.189090255562505,
          -35.09906817324513,
          -35.24274889283278,
          -28.77188496268402,
          -28.708026862446292,
          -29.155033559352614,
          -28.548381614230863,
          -28.995388311137184,
          -31.326208934130882,
          -31.37410251049863,
          -31.741286578539437,
          -31.8690027790149,
          -31.980754450862584,
          -32.18829327544576,
          -32.475654724136646,
          -32.39583210002893,
          -32.986519516522904,
          -33.114235716998365,
          -33.178093812478295,
          -33.41756168480144,
          -31.342173458000865,
          -31.10270558567772,
          -31.613570382821774,
          -31.390067034368617,
          -31.390067034368617,
          -31.358137986628645,
          -31.805144678777168,
          -31.43796061073636,
          -31.88496730288488,
          -31.358137986628645,
          -31.88496730288488,
          -31.932860879252633,
          -31.58164133032401,
          -32.07654160359807,
          -31.677428483059504,
          -32.12443517520803,
          -31.789180154907182,
          -31.773215631037203,
          -32.22022232318572,
          -31.980754450862584,
          -31.948825403122612,
          -32.09250612746806,
          -32.028648027230325,
          -31.99671897949036,
          -31.837073731274934,
          -32.284080423423454,
          -31.99671897949036,
          -32.01268350336035,
          -32.57144187211434,
          -32.37986757140115,
          -32.26811589955347,
          -32.41179662389892,
          -32.39583210002893,
          -32.55547734824437,
          -32.39583210002893,
          -32.619335443724296,
          -32.77898069193972,
          -32.651264496222055,
          -32.794945220567506,
          -32.84283879217746,
          -32.77898069193972,
          -33.06634214063062,
          -33.01844856426287,
          -33.06634214063062,
          -33.22598738884604,
          -7.555031473901987,
          -7.618889574139717,
          -29.107139982984865,
          -29.362572383935788,
          -28.963459263397215,
          -29.490288579653452,
          -28.612239714468593,
          -29.059246411374914,
          -28.787849486554006,
          -28.9794237872672,
          -29.42643047941572,
          -28.500488042620912,
          -28.947494734769435,
          -28.787849486554006,
          -29.234856183460323,
          -29.18696260709258,
          -28.05348134571459,
          -28.516452566490898,
          -28.229091117800003,
          -28.59627519059861,
          -29.0752109352449,
          -28.93153021089945,
          -27.845942525889217,
          -28.292949218037734,
          -27.941729673866917,
          -28.388736366015433,
          -28.117339445952325,
          -28.19716207006004,
          -27.63840370130604,
          -28.245055646427783,
          -28.02155229797463,
          -28.46855899012315,
          -28.245055646427783,
          -28.692062338576307,
          -28.708026862446292,
          -27.7661199017815,
          -26.40913529195036,
          -26.776319359991163,
          -27.41490035285288,
          -26.904035560466628,
          -27.367006781242928,
          -26.904035560466628,
          -27.382971305112914,
          -27.239290580767467,
          -27.686297277673788,
          -27.271219628507435,
          -27.73419084928373,
          -27.047716284812072,
          -27.686297277673788,
          -27.127538908919785,
          -27.814013473391448,
          -29.98518884816972,
          -23.647272495920323,
          -24.142172764436587,
          -23.790953220265767,
          -26.393170763322576,
          -26.010022171411787,
          -26.20159646736718,
          -26.169667419627217,
          -25.978093118914025,
          -26.44106433969032,
          -26.329312667842647,
          -26.44106433969032,
          -26.361241715582604,
          -26.44106433969032,
          -26.840177460228894,
          -26.504922439928055,
          -26.95192913207658,
          -26.63263863564572,
          -26.79228388386115,
          -26.664567688143485,
          -27.111574380292005,
          -26.45702886356031,
          -26.967893660704355,
          -26.56878054016579,
          -27.015787232314306,
          -26.45702886356031,
          -27.111574380292005,
          -26.616674111775733,
          -27.19139700439972,
          -26.53685148766802,
          -27.047716284812072,
          -26.600709587905747,
          -27.127538908919785,
          -26.69649673588345,
          -27.19139700439972,
          -26.648603164273503,
          -27.111574380292005,
          -26.40913529195036,
          -27.079645332552037,
          -27.526652029458358,
          -26.664567688143485,
          -27.287184157135215,
          -26.808248412488933,
          -27.57454560106831,
          -26.888071036596642,
          -27.526652029458358,
          -27.031751756184292,
          -27.622439177436057,
          -27.19139700439972,
          -27.670332749046008,
          -27.127538908919785,
          -27.702261801543774,
          -27.287184157135215,
          -27.798048949521466,
          -27.494722976960595,
          -27.941729673866917,
          -27.590510124938294,
          -28.05348134571459,
          -27.558581077198323,
          -28.005587774104647,
          -27.798048949521466,
          -27.798048949521466,
          -27.845942525889217,
          -27.590510124938294,
          -28.14926849369229,
          -27.973658721606874,
          -27.92576514999693,
          -28.372771842145447,
          -27.941729673866917,
          -28.404700894643213,
          -28.16523302232007,
          -28.101374922082346,
          -28.548381614230863,
          -27.90980062136915,
          -28.436629942383185,
          -28.388736366015433,
          -28.404700894643213,
          -28.388736366015433,
          -28.835743062921757,
          -28.4206654185132,
          -28.867672110661722,
          -28.452594466253164,
          -28.899601163159485,
          -28.388736366015433,
          -28.851707586791736,
          -28.229091117800003,
          -28.803814015181786,
          -28.500488042620912,
          -28.963459263397215,
          -28.46855899012315,
          -28.963459263397215,
          -28.708026862446292,
          -29.155033559352614,
          -28.947494734769435,
          -28.867672110661722,
          -29.378536907805774,
          -28.93153021089945,
          -28.963459263397215,
          -29.41046595554574,
          -28.9794237872672,
          -29.42643047941572,
          -29.09117545911488,
          -29.059246411374914,
          -29.506253103523438,
          -29.123104511612645,
          -29.570111203761165,
          -29.139069035482628,
          -29.60204025625893,
          -29.139069035482628,
          -29.58607572763115,
          -29.394501431675753,
          -29.490288579653452,
          -29.58607572763115,
          -29.618004780128917,
          -29.522217632151218,
          -29.969224324299738,
          -29.570111203761165,
          -30.01711790066749,
          -29.490288579653452,
          -29.969224324299738,
          -29.64993382786888,
          -30.096940524775203,
          -29.793614552214326,
          -30.288514820730597,
          -29.85747265245206,
          -30.304479344600576,
          -30.03308242453747,
          -29.98518884816972,
          -29.85747265245206,
          -30.352372920968328,
          -30.03308242453747,
          -30.48008912144379,
          -30.065011472277433,
          -30.512018169183754,
          -30.224656720492863,
          -30.001153376797504,
          -30.52798269305374,
          -30.11290504864518,
          -30.607805317161457,
          -30.176763148882912,
          -30.623769841031436,
          -30.224656720492863,
          -30.70359246513915,
          -30.352372920968328,
          -30.79937961787465,
          -30.48008912144379,
          -30.92709581359231,
          -30.607805317161457,
          -23.359911047229428,
          -23.343946523359445,
          -23.790953220265767,
          -23.21623032764178,
          -23.727095120028036,
          -23.264123899251732,
          -23.790953220265767,
          -23.487627247704893,
          -23.934633944611214,
          -23.615343448180354,
          -23.663237019790305,
          -23.695166072288067,
          -24.174101816934357,
          -23.727095120028036,
          -23.663237019790305,
          -24.110243716696623,
          -23.902704892113448,
          -23.663237019790305,
          -24.158137288306573,
          -23.822882268005735,
          -24.269888964912052,
          -23.822882268005735,
          -24.269888964912052,
          -23.902704892113448,
          -24.34971158901977,
          -24.03042109258891,
          -24.47742778473743,
          -24.09427919282664,
          -24.54128588497516,
          -24.221995388544304,
          -24.20603086467432,
          -24.317782536522003,
          -24.062350140328878,
          -24.621108509082877,
          -23.503591771574875,
          -24.23795991241429,
          -24.684966609320607,
          -23.551485347942624,
          -24.07831466419886,
          -24.63707303295286,
          -24.25392444104207,
          -24.732860185688356,
          -24.381640636759734,
          -24.86057638140602,
          -24.573214937472926,
          -24.669002085450625,
          -24.381640636759734,
          -24.92443448164375,
          -24.09427919282664,
          -24.892505433903786,
          -24.605143985212894,
          -25.052150682119212,
          -24.557250408845142,
          -25.14793783009691,
          -24.589179461342912,
          -25.14793783009691,
          -24.780753757298307,
          -25.259689501944592,
          -24.908469957773768,
          -25.355476649922288,
          -25.068115205989194,
          -25.02022162962145,
          -25.467228326527767,
          -25.17986687783688,
          -25.21179593033464,
          -25.163902353966893,
          -25.610909050873214,
          -25.116008777599145,
          -25.610909050873214,
          -25.339512126052306,
          -25.387405702420054,
          -25.467228326527767,
          -25.5310864267655,
          -25.610909050873214,
          -25.57897999837545,
          -26.025986695281766,
          -25.75458977046086,
          -25.786518822958623,
          -25.70669619885091,
          -25.73862524659088,
          -26.185631943497196,
          -25.882305970936322,
          -25.930199547304074,
          -26.041951219151752,
          -26.057915743021738,
          -26.13773836712945,
          -26.20159646736718,
          -26.073880266891717,
          -26.265454567604912,
          -26.089844795519504,
          -26.53685148766802,
          -26.504922439928055,
          -26.552816011538006,
          -26.53685148766802,
          -26.648603164273503,
          -26.72842578838122
         ]
        },
        {
         "mode": "lines",
         "name": "edep segments",
         "showlegend": true,
         "type": "scatter3d",
         "visible": "legendonly",
         "x": [],
         "y": [],
         "z": []
        }
       ],
       "layout": {
        "height": 768,
        "legend": {
         "orientation": "h"
        },
        "template": {
         "data": {
          "bar": [
           {
            "error_x": {
             "color": "#2a3f5f"
            },
            "error_y": {
             "color": "#2a3f5f"
            },
            "marker": {
             "line": {
              "color": "#E5ECF6",
              "width": 0.5
             },
             "pattern": {
              "fillmode": "overlay",
              "size": 10,
              "solidity": 0.2
             }
            },
            "type": "bar"
           }
          ],
          "barpolar": [
           {
            "marker": {
             "line": {
              "color": "#E5ECF6",
              "width": 0.5
             },
             "pattern": {
              "fillmode": "overlay",
              "size": 10,
              "solidity": 0.2
             }
            },
            "type": "barpolar"
           }
          ],
          "carpet": [
           {
            "aaxis": {
             "endlinecolor": "#2a3f5f",
             "gridcolor": "white",
             "linecolor": "white",
             "minorgridcolor": "white",
             "startlinecolor": "#2a3f5f"
            },
            "baxis": {
             "endlinecolor": "#2a3f5f",
             "gridcolor": "white",
             "linecolor": "white",
             "minorgridcolor": "white",
             "startlinecolor": "#2a3f5f"
            },
            "type": "carpet"
           }
          ],
          "choropleth": [
           {
            "colorbar": {
             "outlinewidth": 0,
             "ticks": ""
            },
            "type": "choropleth"
           }
          ],
          "contour": [
           {
            "colorbar": {
             "outlinewidth": 0,
             "ticks": ""
            },
            "colorscale": [
             [
              0,
              "#0d0887"
             ],
             [
              0.1111111111111111,
              "#46039f"
             ],
             [
              0.2222222222222222,
              "#7201a8"
             ],
             [
              0.3333333333333333,
              "#9c179e"
             ],
             [
              0.4444444444444444,
              "#bd3786"
             ],
             [
              0.5555555555555556,
              "#d8576b"
             ],
             [
              0.6666666666666666,
              "#ed7953"
             ],
             [
              0.7777777777777778,
              "#fb9f3a"
             ],
             [
              0.8888888888888888,
              "#fdca26"
             ],
             [
              1,
              "#f0f921"
             ]
            ],
            "type": "contour"
           }
          ],
          "contourcarpet": [
           {
            "colorbar": {
             "outlinewidth": 0,
             "ticks": ""
            },
            "type": "contourcarpet"
           }
          ],
          "heatmap": [
           {
            "colorbar": {
             "outlinewidth": 0,
             "ticks": ""
            },
            "colorscale": [
             [
              0,
              "#0d0887"
             ],
             [
              0.1111111111111111,
              "#46039f"
             ],
             [
              0.2222222222222222,
              "#7201a8"
             ],
             [
              0.3333333333333333,
              "#9c179e"
             ],
             [
              0.4444444444444444,
              "#bd3786"
             ],
             [
              0.5555555555555556,
              "#d8576b"
             ],
             [
              0.6666666666666666,
              "#ed7953"
             ],
             [
              0.7777777777777778,
              "#fb9f3a"
             ],
             [
              0.8888888888888888,
              "#fdca26"
             ],
             [
              1,
              "#f0f921"
             ]
            ],
            "type": "heatmap"
           }
          ],
          "heatmapgl": [
           {
            "colorbar": {
             "outlinewidth": 0,
             "ticks": ""
            },
            "colorscale": [
             [
              0,
              "#0d0887"
             ],
             [
              0.1111111111111111,
              "#46039f"
             ],
             [
              0.2222222222222222,
              "#7201a8"
             ],
             [
              0.3333333333333333,
              "#9c179e"
             ],
             [
              0.4444444444444444,
              "#bd3786"
             ],
             [
              0.5555555555555556,
              "#d8576b"
             ],
             [
              0.6666666666666666,
              "#ed7953"
             ],
             [
              0.7777777777777778,
              "#fb9f3a"
             ],
             [
              0.8888888888888888,
              "#fdca26"
             ],
             [
              1,
              "#f0f921"
             ]
            ],
            "type": "heatmapgl"
           }
          ],
          "histogram": [
           {
            "marker": {
             "pattern": {
              "fillmode": "overlay",
              "size": 10,
              "solidity": 0.2
             }
            },
            "type": "histogram"
           }
          ],
          "histogram2d": [
           {
            "colorbar": {
             "outlinewidth": 0,
             "ticks": ""
            },
            "colorscale": [
             [
              0,
              "#0d0887"
             ],
             [
              0.1111111111111111,
              "#46039f"
             ],
             [
              0.2222222222222222,
              "#7201a8"
             ],
             [
              0.3333333333333333,
              "#9c179e"
             ],
             [
              0.4444444444444444,
              "#bd3786"
             ],
             [
              0.5555555555555556,
              "#d8576b"
             ],
             [
              0.6666666666666666,
              "#ed7953"
             ],
             [
              0.7777777777777778,
              "#fb9f3a"
             ],
             [
              0.8888888888888888,
              "#fdca26"
             ],
             [
              1,
              "#f0f921"
             ]
            ],
            "type": "histogram2d"
           }
          ],
          "histogram2dcontour": [
           {
            "colorbar": {
             "outlinewidth": 0,
             "ticks": ""
            },
            "colorscale": [
             [
              0,
              "#0d0887"
             ],
             [
              0.1111111111111111,
              "#46039f"
             ],
             [
              0.2222222222222222,
              "#7201a8"
             ],
             [
              0.3333333333333333,
              "#9c179e"
             ],
             [
              0.4444444444444444,
              "#bd3786"
             ],
             [
              0.5555555555555556,
              "#d8576b"
             ],
             [
              0.6666666666666666,
              "#ed7953"
             ],
             [
              0.7777777777777778,
              "#fb9f3a"
             ],
             [
              0.8888888888888888,
              "#fdca26"
             ],
             [
              1,
              "#f0f921"
             ]
            ],
            "type": "histogram2dcontour"
           }
          ],
          "mesh3d": [
           {
            "colorbar": {
             "outlinewidth": 0,
             "ticks": ""
            },
            "type": "mesh3d"
           }
          ],
          "parcoords": [
           {
            "line": {
             "colorbar": {
              "outlinewidth": 0,
              "ticks": ""
             }
            },
            "type": "parcoords"
           }
          ],
          "pie": [
           {
            "automargin": true,
            "type": "pie"
           }
          ],
          "scatter": [
           {
            "fillpattern": {
             "fillmode": "overlay",
             "size": 10,
             "solidity": 0.2
            },
            "type": "scatter"
           }
          ],
          "scatter3d": [
           {
            "line": {
             "colorbar": {
              "outlinewidth": 0,
              "ticks": ""
             }
            },
            "marker": {
             "colorbar": {
              "outlinewidth": 0,
              "ticks": ""
             }
            },
            "type": "scatter3d"
           }
          ],
          "scattercarpet": [
           {
            "marker": {
             "colorbar": {
              "outlinewidth": 0,
              "ticks": ""
             }
            },
            "type": "scattercarpet"
           }
          ],
          "scattergeo": [
           {
            "marker": {
             "colorbar": {
              "outlinewidth": 0,
              "ticks": ""
             }
            },
            "type": "scattergeo"
           }
          ],
          "scattergl": [
           {
            "marker": {
             "colorbar": {
              "outlinewidth": 0,
              "ticks": ""
             }
            },
            "type": "scattergl"
           }
          ],
          "scattermapbox": [
           {
            "marker": {
             "colorbar": {
              "outlinewidth": 0,
              "ticks": ""
             }
            },
            "type": "scattermapbox"
           }
          ],
          "scatterpolar": [
           {
            "marker": {
             "colorbar": {
              "outlinewidth": 0,
              "ticks": ""
             }
            },
            "type": "scatterpolar"
           }
          ],
          "scatterpolargl": [
           {
            "marker": {
             "colorbar": {
              "outlinewidth": 0,
              "ticks": ""
             }
            },
            "type": "scatterpolargl"
           }
          ],
          "scatterternary": [
           {
            "marker": {
             "colorbar": {
              "outlinewidth": 0,
              "ticks": ""
             }
            },
            "type": "scatterternary"
           }
          ],
          "surface": [
           {
            "colorbar": {
             "outlinewidth": 0,
             "ticks": ""
            },
            "colorscale": [
             [
              0,
              "#0d0887"
             ],
             [
              0.1111111111111111,
              "#46039f"
             ],
             [
              0.2222222222222222,
              "#7201a8"
             ],
             [
              0.3333333333333333,
              "#9c179e"
             ],
             [
              0.4444444444444444,
              "#bd3786"
             ],
             [
              0.5555555555555556,
              "#d8576b"
             ],
             [
              0.6666666666666666,
              "#ed7953"
             ],
             [
              0.7777777777777778,
              "#fb9f3a"
             ],
             [
              0.8888888888888888,
              "#fdca26"
             ],
             [
              1,
              "#f0f921"
             ]
            ],
            "type": "surface"
           }
          ],
          "table": [
           {
            "cells": {
             "fill": {
              "color": "#EBF0F8"
             },
             "line": {
              "color": "white"
             }
            },
            "header": {
             "fill": {
              "color": "#C8D4E3"
             },
             "line": {
              "color": "white"
             }
            },
            "type": "table"
           }
          ]
         },
         "layout": {
          "annotationdefaults": {
           "arrowcolor": "#2a3f5f",
           "arrowhead": 0,
           "arrowwidth": 1
          },
          "autotypenumbers": "strict",
          "coloraxis": {
           "colorbar": {
            "outlinewidth": 0,
            "ticks": ""
           }
          },
          "colorscale": {
           "diverging": [
            [
             0,
             "#8e0152"
            ],
            [
             0.1,
             "#c51b7d"
            ],
            [
             0.2,
             "#de77ae"
            ],
            [
             0.3,
             "#f1b6da"
            ],
            [
             0.4,
             "#fde0ef"
            ],
            [
             0.5,
             "#f7f7f7"
            ],
            [
             0.6,
             "#e6f5d0"
            ],
            [
             0.7,
             "#b8e186"
            ],
            [
             0.8,
             "#7fbc41"
            ],
            [
             0.9,
             "#4d9221"
            ],
            [
             1,
             "#276419"
            ]
           ],
           "sequential": [
            [
             0,
             "#0d0887"
            ],
            [
             0.1111111111111111,
             "#46039f"
            ],
            [
             0.2222222222222222,
             "#7201a8"
            ],
            [
             0.3333333333333333,
             "#9c179e"
            ],
            [
             0.4444444444444444,
             "#bd3786"
            ],
            [
             0.5555555555555556,
             "#d8576b"
            ],
            [
             0.6666666666666666,
             "#ed7953"
            ],
            [
             0.7777777777777778,
             "#fb9f3a"
            ],
            [
             0.8888888888888888,
             "#fdca26"
            ],
            [
             1,
             "#f0f921"
            ]
           ],
           "sequentialminus": [
            [
             0,
             "#0d0887"
            ],
            [
             0.1111111111111111,
             "#46039f"
            ],
            [
             0.2222222222222222,
             "#7201a8"
            ],
            [
             0.3333333333333333,
             "#9c179e"
            ],
            [
             0.4444444444444444,
             "#bd3786"
            ],
            [
             0.5555555555555556,
             "#d8576b"
            ],
            [
             0.6666666666666666,
             "#ed7953"
            ],
            [
             0.7777777777777778,
             "#fb9f3a"
            ],
            [
             0.8888888888888888,
             "#fdca26"
            ],
            [
             1,
             "#f0f921"
            ]
           ]
          },
          "colorway": [
           "#636efa",
           "#EF553B",
           "#00cc96",
           "#ab63fa",
           "#FFA15A",
           "#19d3f3",
           "#FF6692",
           "#B6E880",
           "#FF97FF",
           "#FECB52"
          ],
          "font": {
           "color": "#2a3f5f"
          },
          "geo": {
           "bgcolor": "white",
           "lakecolor": "white",
           "landcolor": "#E5ECF6",
           "showlakes": true,
           "showland": true,
           "subunitcolor": "white"
          },
          "hoverlabel": {
           "align": "left"
          },
          "hovermode": "closest",
          "mapbox": {
           "style": "light"
          },
          "paper_bgcolor": "white",
          "plot_bgcolor": "#E5ECF6",
          "polar": {
           "angularaxis": {
            "gridcolor": "white",
            "linecolor": "white",
            "ticks": ""
           },
           "bgcolor": "#E5ECF6",
           "radialaxis": {
            "gridcolor": "white",
            "linecolor": "white",
            "ticks": ""
           }
          },
          "scene": {
           "xaxis": {
            "backgroundcolor": "#E5ECF6",
            "gridcolor": "white",
            "gridwidth": 2,
            "linecolor": "white",
            "showbackground": true,
            "ticks": "",
            "zerolinecolor": "white"
           },
           "yaxis": {
            "backgroundcolor": "#E5ECF6",
            "gridcolor": "white",
            "gridwidth": 2,
            "linecolor": "white",
            "showbackground": true,
            "ticks": "",
            "zerolinecolor": "white"
           },
           "zaxis": {
            "backgroundcolor": "#E5ECF6",
            "gridcolor": "white",
            "gridwidth": 2,
            "linecolor": "white",
            "showbackground": true,
            "ticks": "",
            "zerolinecolor": "white"
           }
          },
          "shapedefaults": {
           "line": {
            "color": "#2a3f5f"
           }
          },
          "ternary": {
           "aaxis": {
            "gridcolor": "white",
            "linecolor": "white",
            "ticks": ""
           },
           "baxis": {
            "gridcolor": "white",
            "linecolor": "white",
            "ticks": ""
           },
           "bgcolor": "#E5ECF6",
           "caxis": {
            "gridcolor": "white",
            "linecolor": "white",
            "ticks": ""
           }
          },
          "title": {
           "x": 0.05
          },
          "xaxis": {
           "automargin": true,
           "gridcolor": "white",
           "linecolor": "white",
           "ticks": "",
           "title": {
            "standoff": 15
           },
           "zerolinecolor": "white",
           "zerolinewidth": 2
          },
          "yaxis": {
           "automargin": true,
           "gridcolor": "white",
           "linecolor": "white",
           "ticks": "",
           "title": {
            "standoff": 15
           },
           "zerolinecolor": "white",
           "zerolinewidth": 2
          }
         }
        },
        "width": 1024
       }
      },
      "text/html": [
       "<div>                            <div id=\"cdb72883-5c9c-45a9-b649-25c691c231c7\" class=\"plotly-graph-div\" style=\"height:768px; width:1024px;\"></div>            <script type=\"text/javascript\">                require([\"plotly\"], function(Plotly) {                    window.PLOTLYENV=window.PLOTLYENV || {};                                    if (document.getElementById(\"cdb72883-5c9c-45a9-b649-25c691c231c7\")) {                    Plotly.newPlot(                        \"cdb72883-5c9c-45a9-b649-25c691c231c7\",                        [{\"colorscale\":[[0.0,\"rgb(255,255,255)\"],[0.125,\"rgb(240,240,240)\"],[0.25,\"rgb(217,217,217)\"],[0.375,\"rgb(189,189,189)\"],[0.5,\"rgb(150,150,150)\"],[0.625,\"rgb(115,115,115)\"],[0.75,\"rgb(82,82,82)\"],[0.875,\"rgb(37,37,37)\"],[1.0,\"rgb(0,0,0)\"]],\"opacity\":0.3,\"showscale\":false,\"x\":[2.683699999999998,64.3163],\"y\":[-19.854300000000002,103.8543],\"z\":[[33.5,33.5],[33.5,33.5]],\"type\":\"surface\"},{\"colorscale\":[[0.0,\"rgb(255,255,255)\"],[0.125,\"rgb(240,240,240)\"],[0.25,\"rgb(217,217,217)\"],[0.375,\"rgb(189,189,189)\"],[0.5,\"rgb(150,150,150)\"],[0.625,\"rgb(115,115,115)\"],[0.75,\"rgb(82,82,82)\"],[0.875,\"rgb(37,37,37)\"],[1.0,\"rgb(0,0,0)\"]],\"opacity\":0.3,\"showscale\":false,\"x\":[-64.3163,-2.683699999999998],\"y\":[-19.854300000000002,103.8543],\"z\":[[33.5,33.5],[33.5,33.5]],\"type\":\"surface\"},{\"colorscale\":[[0.0,\"rgb(255,255,255)\"],[0.125,\"rgb(240,240,240)\"],[0.25,\"rgb(217,217,217)\"],[0.375,\"rgb(189,189,189)\"],[0.5,\"rgb(150,150,150)\"],[0.625,\"rgb(115,115,115)\"],[0.75,\"rgb(82,82,82)\"],[0.875,\"rgb(37,37,37)\"],[1.0,\"rgb(0,0,0)\"]],\"opacity\":0.3,\"showscale\":false,\"x\":[2.683699999999998,64.3163],\"y\":[-19.854300000000002,103.8543],\"z\":[[-33.5,-33.5],[-33.5,-33.5]],\"type\":\"surface\"},{\"colorscale\":[[0.0,\"rgb(255,255,255)\"],[0.125,\"rgb(240,240,240)\"],[0.25,\"rgb(217,217,217)\"],[0.375,\"rgb(189,189,189)\"],[0.5,\"rgb(150,150,150)\"],[0.625,\"rgb(115,115,115)\"],[0.75,\"rgb(82,82,82)\"],[0.875,\"rgb(37,37,37)\"],[1.0,\"rgb(0,0,0)\"]],\"opacity\":0.3,\"showscale\":false,\"x\":[-64.3163,-2.683699999999998],\"y\":[-19.854300000000002,103.8543],\"z\":[[-33.5,-33.5],[-33.5,-33.5]],\"type\":\"surface\"},{\"colorscale\":[[0.0,\"rgb(255,255,255)\"],[0.125,\"rgb(240,240,240)\"],[0.25,\"rgb(217,217,217)\"],[0.375,\"rgb(189,189,189)\"],[0.5,\"rgb(150,150,150)\"],[0.625,\"rgb(115,115,115)\"],[0.75,\"rgb(82,82,82)\"],[0.875,\"rgb(37,37,37)\"],[1.0,\"rgb(0,0,0)\"]],\"opacity\":0.3,\"showscale\":false,\"x\":[2.683699999999998,64.3163],\"y\":[-19.854300000000002,103.8543],\"z\":[[33.5,33.5],[33.5,33.5]],\"type\":\"surface\"},{\"colorscale\":[[0.0,\"rgb(255,255,255)\"],[0.125,\"rgb(240,240,240)\"],[0.25,\"rgb(217,217,217)\"],[0.375,\"rgb(189,189,189)\"],[0.5,\"rgb(150,150,150)\"],[0.625,\"rgb(115,115,115)\"],[0.75,\"rgb(82,82,82)\"],[0.875,\"rgb(37,37,37)\"],[1.0,\"rgb(0,0,0)\"]],\"opacity\":0.3,\"showscale\":false,\"x\":[-64.3163,-2.683699999999998],\"y\":[-19.854300000000002,103.8543],\"z\":[[33.5,33.5],[33.5,33.5]],\"type\":\"surface\"},{\"colorscale\":[[0.0,\"rgb(255,255,255)\"],[0.125,\"rgb(240,240,240)\"],[0.25,\"rgb(217,217,217)\"],[0.375,\"rgb(189,189,189)\"],[0.5,\"rgb(150,150,150)\"],[0.625,\"rgb(115,115,115)\"],[0.75,\"rgb(82,82,82)\"],[0.875,\"rgb(37,37,37)\"],[1.0,\"rgb(0,0,0)\"]],\"opacity\":0.3,\"showscale\":false,\"x\":[2.683699999999998,64.3163],\"y\":[-19.854300000000002,103.8543],\"z\":[[-33.5,-33.5],[-33.5,-33.5]],\"type\":\"surface\"},{\"colorscale\":[[0.0,\"rgb(255,255,255)\"],[0.125,\"rgb(240,240,240)\"],[0.25,\"rgb(217,217,217)\"],[0.375,\"rgb(189,189,189)\"],[0.5,\"rgb(150,150,150)\"],[0.625,\"rgb(115,115,115)\"],[0.75,\"rgb(82,82,82)\"],[0.875,\"rgb(37,37,37)\"],[1.0,\"rgb(0,0,0)\"]],\"opacity\":0.3,\"showscale\":false,\"x\":[-64.3163,-2.683699999999998],\"y\":[-19.854300000000002,103.8543],\"z\":[[-33.5,-33.5],[-33.5,-33.5]],\"type\":\"surface\"},{\"colorscale\":[[0.0,\"rgb(255,255,255)\"],[0.125,\"rgb(240,240,240)\"],[0.25,\"rgb(217,217,217)\"],[0.375,\"rgb(189,189,189)\"],[0.5,\"rgb(150,150,150)\"],[0.625,\"rgb(115,115,115)\"],[0.75,\"rgb(82,82,82)\"],[0.875,\"rgb(37,37,37)\"],[1.0,\"rgb(0,0,0)\"]],\"opacity\":0.3,\"showscale\":false,\"x\":[2.683699999999998,64.3163],\"y\":[-19.854300000000002,103.8543],\"z\":[[33.5,33.5],[33.5,33.5]],\"type\":\"surface\"},{\"colorscale\":[[0.0,\"rgb(255,255,255)\"],[0.125,\"rgb(240,240,240)\"],[0.25,\"rgb(217,217,217)\"],[0.375,\"rgb(189,189,189)\"],[0.5,\"rgb(150,150,150)\"],[0.625,\"rgb(115,115,115)\"],[0.75,\"rgb(82,82,82)\"],[0.875,\"rgb(37,37,37)\"],[1.0,\"rgb(0,0,0)\"]],\"opacity\":0.3,\"showscale\":false,\"x\":[-64.3163,-2.683699999999998],\"y\":[-19.854300000000002,103.8543],\"z\":[[33.5,33.5],[33.5,33.5]],\"type\":\"surface\"},{\"colorscale\":[[0.0,\"rgb(255,255,255)\"],[0.125,\"rgb(240,240,240)\"],[0.25,\"rgb(217,217,217)\"],[0.375,\"rgb(189,189,189)\"],[0.5,\"rgb(150,150,150)\"],[0.625,\"rgb(115,115,115)\"],[0.75,\"rgb(82,82,82)\"],[0.875,\"rgb(37,37,37)\"],[1.0,\"rgb(0,0,0)\"]],\"opacity\":0.3,\"showscale\":false,\"x\":[2.683699999999998,64.3163],\"y\":[-19.854300000000002,103.8543],\"z\":[[-33.5,-33.5],[-33.5,-33.5]],\"type\":\"surface\"},{\"colorscale\":[[0.0,\"rgb(255,255,255)\"],[0.125,\"rgb(240,240,240)\"],[0.25,\"rgb(217,217,217)\"],[0.375,\"rgb(189,189,189)\"],[0.5,\"rgb(150,150,150)\"],[0.625,\"rgb(115,115,115)\"],[0.75,\"rgb(82,82,82)\"],[0.875,\"rgb(37,37,37)\"],[1.0,\"rgb(0,0,0)\"]],\"opacity\":0.3,\"showscale\":false,\"x\":[-64.3163,-2.683699999999998],\"y\":[-19.854300000000002,103.8543],\"z\":[[-33.5,-33.5],[-33.5,-33.5]],\"type\":\"surface\"},{\"colorscale\":[[0.0,\"rgb(255,255,255)\"],[0.125,\"rgb(240,240,240)\"],[0.25,\"rgb(217,217,217)\"],[0.375,\"rgb(189,189,189)\"],[0.5,\"rgb(150,150,150)\"],[0.625,\"rgb(115,115,115)\"],[0.75,\"rgb(82,82,82)\"],[0.875,\"rgb(37,37,37)\"],[1.0,\"rgb(0,0,0)\"]],\"opacity\":0.3,\"showscale\":false,\"x\":[2.683699999999998,64.3163],\"y\":[-19.854300000000002,103.8543],\"z\":[[33.5,33.5],[33.5,33.5]],\"type\":\"surface\"},{\"colorscale\":[[0.0,\"rgb(255,255,255)\"],[0.125,\"rgb(240,240,240)\"],[0.25,\"rgb(217,217,217)\"],[0.375,\"rgb(189,189,189)\"],[0.5,\"rgb(150,150,150)\"],[0.625,\"rgb(115,115,115)\"],[0.75,\"rgb(82,82,82)\"],[0.875,\"rgb(37,37,37)\"],[1.0,\"rgb(0,0,0)\"]],\"opacity\":0.3,\"showscale\":false,\"x\":[-64.3163,-2.683699999999998],\"y\":[-19.854300000000002,103.8543],\"z\":[[33.5,33.5],[33.5,33.5]],\"type\":\"surface\"},{\"colorscale\":[[0.0,\"rgb(255,255,255)\"],[0.125,\"rgb(240,240,240)\"],[0.25,\"rgb(217,217,217)\"],[0.375,\"rgb(189,189,189)\"],[0.5,\"rgb(150,150,150)\"],[0.625,\"rgb(115,115,115)\"],[0.75,\"rgb(82,82,82)\"],[0.875,\"rgb(37,37,37)\"],[1.0,\"rgb(0,0,0)\"]],\"opacity\":0.3,\"showscale\":false,\"x\":[2.683699999999998,64.3163],\"y\":[-19.854300000000002,103.8543],\"z\":[[-33.5,-33.5],[-33.5,-33.5]],\"type\":\"surface\"},{\"colorscale\":[[0.0,\"rgb(255,255,255)\"],[0.125,\"rgb(240,240,240)\"],[0.25,\"rgb(217,217,217)\"],[0.375,\"rgb(189,189,189)\"],[0.5,\"rgb(150,150,150)\"],[0.625,\"rgb(115,115,115)\"],[0.75,\"rgb(82,82,82)\"],[0.875,\"rgb(37,37,37)\"],[1.0,\"rgb(0,0,0)\"]],\"opacity\":0.3,\"showscale\":false,\"x\":[-64.3163,-2.683699999999998],\"y\":[-19.854300000000002,103.8543],\"z\":[[-33.5,-33.5],[-33.5,-33.5]],\"type\":\"surface\"},{\"colorscale\":[[0.0,\"rgb(255,255,255)\"],[0.125,\"rgb(240,240,240)\"],[0.25,\"rgb(217,217,217)\"],[0.375,\"rgb(189,189,189)\"],[0.5,\"rgb(150,150,150)\"],[0.625,\"rgb(115,115,115)\"],[0.75,\"rgb(82,82,82)\"],[0.875,\"rgb(37,37,37)\"],[1.0,\"rgb(0,0,0)\"]],\"opacity\":0.3,\"showscale\":false,\"x\":[2.683699999999998,64.3163],\"y\":[-19.854300000000002,103.8543],\"z\":[[33.5,33.5],[33.5,33.5]],\"type\":\"surface\"},{\"colorscale\":[[0.0,\"rgb(255,255,255)\"],[0.125,\"rgb(240,240,240)\"],[0.25,\"rgb(217,217,217)\"],[0.375,\"rgb(189,189,189)\"],[0.5,\"rgb(150,150,150)\"],[0.625,\"rgb(115,115,115)\"],[0.75,\"rgb(82,82,82)\"],[0.875,\"rgb(37,37,37)\"],[1.0,\"rgb(0,0,0)\"]],\"opacity\":0.3,\"showscale\":false,\"x\":[-64.3163,-2.683699999999998],\"y\":[-19.854300000000002,103.8543],\"z\":[[33.5,33.5],[33.5,33.5]],\"type\":\"surface\"},{\"colorscale\":[[0.0,\"rgb(255,255,255)\"],[0.125,\"rgb(240,240,240)\"],[0.25,\"rgb(217,217,217)\"],[0.375,\"rgb(189,189,189)\"],[0.5,\"rgb(150,150,150)\"],[0.625,\"rgb(115,115,115)\"],[0.75,\"rgb(82,82,82)\"],[0.875,\"rgb(37,37,37)\"],[1.0,\"rgb(0,0,0)\"]],\"opacity\":0.3,\"showscale\":false,\"x\":[2.683699999999998,64.3163],\"y\":[-19.854300000000002,103.8543],\"z\":[[-33.5,-33.5],[-33.5,-33.5]],\"type\":\"surface\"},{\"colorscale\":[[0.0,\"rgb(255,255,255)\"],[0.125,\"rgb(240,240,240)\"],[0.25,\"rgb(217,217,217)\"],[0.375,\"rgb(189,189,189)\"],[0.5,\"rgb(150,150,150)\"],[0.625,\"rgb(115,115,115)\"],[0.75,\"rgb(82,82,82)\"],[0.875,\"rgb(37,37,37)\"],[1.0,\"rgb(0,0,0)\"]],\"opacity\":0.3,\"showscale\":false,\"x\":[-64.3163,-2.683699999999998],\"y\":[-19.854300000000002,103.8543],\"z\":[[-33.5,-33.5],[-33.5,-33.5]],\"type\":\"surface\"},{\"colorscale\":[[0.0,\"rgb(255,255,255)\"],[0.125,\"rgb(240,240,240)\"],[0.25,\"rgb(217,217,217)\"],[0.375,\"rgb(189,189,189)\"],[0.5,\"rgb(150,150,150)\"],[0.625,\"rgb(115,115,115)\"],[0.75,\"rgb(82,82,82)\"],[0.875,\"rgb(37,37,37)\"],[1.0,\"rgb(0,0,0)\"]],\"opacity\":0.3,\"showscale\":false,\"x\":[2.683699999999998,64.3163],\"y\":[-19.854300000000002,103.8543],\"z\":[[33.5,33.5],[33.5,33.5]],\"type\":\"surface\"},{\"colorscale\":[[0.0,\"rgb(255,255,255)\"],[0.125,\"rgb(240,240,240)\"],[0.25,\"rgb(217,217,217)\"],[0.375,\"rgb(189,189,189)\"],[0.5,\"rgb(150,150,150)\"],[0.625,\"rgb(115,115,115)\"],[0.75,\"rgb(82,82,82)\"],[0.875,\"rgb(37,37,37)\"],[1.0,\"rgb(0,0,0)\"]],\"opacity\":0.3,\"showscale\":false,\"x\":[-64.3163,-2.683699999999998],\"y\":[-19.854300000000002,103.8543],\"z\":[[33.5,33.5],[33.5,33.5]],\"type\":\"surface\"},{\"colorscale\":[[0.0,\"rgb(255,255,255)\"],[0.125,\"rgb(240,240,240)\"],[0.25,\"rgb(217,217,217)\"],[0.375,\"rgb(189,189,189)\"],[0.5,\"rgb(150,150,150)\"],[0.625,\"rgb(115,115,115)\"],[0.75,\"rgb(82,82,82)\"],[0.875,\"rgb(37,37,37)\"],[1.0,\"rgb(0,0,0)\"]],\"opacity\":0.3,\"showscale\":false,\"x\":[2.683699999999998,64.3163],\"y\":[-19.854300000000002,103.8543],\"z\":[[-33.5,-33.5],[-33.5,-33.5]],\"type\":\"surface\"},{\"colorscale\":[[0.0,\"rgb(255,255,255)\"],[0.125,\"rgb(240,240,240)\"],[0.25,\"rgb(217,217,217)\"],[0.375,\"rgb(189,189,189)\"],[0.5,\"rgb(150,150,150)\"],[0.625,\"rgb(115,115,115)\"],[0.75,\"rgb(82,82,82)\"],[0.875,\"rgb(37,37,37)\"],[1.0,\"rgb(0,0,0)\"]],\"opacity\":0.3,\"showscale\":false,\"x\":[-64.3163,-2.683699999999998],\"y\":[-19.854300000000002,103.8543],\"z\":[[-33.5,-33.5],[-33.5,-33.5]],\"type\":\"surface\"},{\"colorscale\":[[0.0,\"rgb(255,255,255)\"],[0.125,\"rgb(240,240,240)\"],[0.25,\"rgb(217,217,217)\"],[0.375,\"rgb(189,189,189)\"],[0.5,\"rgb(150,150,150)\"],[0.625,\"rgb(115,115,115)\"],[0.75,\"rgb(82,82,82)\"],[0.875,\"rgb(37,37,37)\"],[1.0,\"rgb(0,0,0)\"]],\"opacity\":0.3,\"showscale\":false,\"x\":[2.683699999999998,64.3163],\"y\":[-19.854300000000002,103.8543],\"z\":[[33.5,33.5],[33.5,33.5]],\"type\":\"surface\"},{\"colorscale\":[[0.0,\"rgb(255,255,255)\"],[0.125,\"rgb(240,240,240)\"],[0.25,\"rgb(217,217,217)\"],[0.375,\"rgb(189,189,189)\"],[0.5,\"rgb(150,150,150)\"],[0.625,\"rgb(115,115,115)\"],[0.75,\"rgb(82,82,82)\"],[0.875,\"rgb(37,37,37)\"],[1.0,\"rgb(0,0,0)\"]],\"opacity\":0.3,\"showscale\":false,\"x\":[-64.3163,-2.683699999999998],\"y\":[-19.854300000000002,103.8543],\"z\":[[33.5,33.5],[33.5,33.5]],\"type\":\"surface\"},{\"colorscale\":[[0.0,\"rgb(255,255,255)\"],[0.125,\"rgb(240,240,240)\"],[0.25,\"rgb(217,217,217)\"],[0.375,\"rgb(189,189,189)\"],[0.5,\"rgb(150,150,150)\"],[0.625,\"rgb(115,115,115)\"],[0.75,\"rgb(82,82,82)\"],[0.875,\"rgb(37,37,37)\"],[1.0,\"rgb(0,0,0)\"]],\"opacity\":0.3,\"showscale\":false,\"x\":[2.683699999999998,64.3163],\"y\":[-19.854300000000002,103.8543],\"z\":[[-33.5,-33.5],[-33.5,-33.5]],\"type\":\"surface\"},{\"colorscale\":[[0.0,\"rgb(255,255,255)\"],[0.125,\"rgb(240,240,240)\"],[0.25,\"rgb(217,217,217)\"],[0.375,\"rgb(189,189,189)\"],[0.5,\"rgb(150,150,150)\"],[0.625,\"rgb(115,115,115)\"],[0.75,\"rgb(82,82,82)\"],[0.875,\"rgb(37,37,37)\"],[1.0,\"rgb(0,0,0)\"]],\"opacity\":0.3,\"showscale\":false,\"x\":[-64.3163,-2.683699999999998],\"y\":[-19.854300000000002,103.8543],\"z\":[[-33.5,-33.5],[-33.5,-33.5]],\"type\":\"surface\"},{\"colorscale\":[[0.0,\"rgb(255,255,255)\"],[0.125,\"rgb(240,240,240)\"],[0.25,\"rgb(217,217,217)\"],[0.375,\"rgb(189,189,189)\"],[0.5,\"rgb(150,150,150)\"],[0.625,\"rgb(115,115,115)\"],[0.75,\"rgb(82,82,82)\"],[0.875,\"rgb(37,37,37)\"],[1.0,\"rgb(0,0,0)\"]],\"opacity\":0.3,\"showscale\":false,\"x\":[2.683699999999998,64.3163],\"y\":[-19.854300000000002,103.8543],\"z\":[[33.5,33.5],[33.5,33.5]],\"type\":\"surface\"},{\"colorscale\":[[0.0,\"rgb(255,255,255)\"],[0.125,\"rgb(240,240,240)\"],[0.25,\"rgb(217,217,217)\"],[0.375,\"rgb(189,189,189)\"],[0.5,\"rgb(150,150,150)\"],[0.625,\"rgb(115,115,115)\"],[0.75,\"rgb(82,82,82)\"],[0.875,\"rgb(37,37,37)\"],[1.0,\"rgb(0,0,0)\"]],\"opacity\":0.3,\"showscale\":false,\"x\":[-64.3163,-2.683699999999998],\"y\":[-19.854300000000002,103.8543],\"z\":[[33.5,33.5],[33.5,33.5]],\"type\":\"surface\"},{\"colorscale\":[[0.0,\"rgb(255,255,255)\"],[0.125,\"rgb(240,240,240)\"],[0.25,\"rgb(217,217,217)\"],[0.375,\"rgb(189,189,189)\"],[0.5,\"rgb(150,150,150)\"],[0.625,\"rgb(115,115,115)\"],[0.75,\"rgb(82,82,82)\"],[0.875,\"rgb(37,37,37)\"],[1.0,\"rgb(0,0,0)\"]],\"opacity\":0.3,\"showscale\":false,\"x\":[2.683699999999998,64.3163],\"y\":[-19.854300000000002,103.8543],\"z\":[[-33.5,-33.5],[-33.5,-33.5]],\"type\":\"surface\"},{\"colorscale\":[[0.0,\"rgb(255,255,255)\"],[0.125,\"rgb(240,240,240)\"],[0.25,\"rgb(217,217,217)\"],[0.375,\"rgb(189,189,189)\"],[0.5,\"rgb(150,150,150)\"],[0.625,\"rgb(115,115,115)\"],[0.75,\"rgb(82,82,82)\"],[0.875,\"rgb(37,37,37)\"],[1.0,\"rgb(0,0,0)\"]],\"opacity\":0.3,\"showscale\":false,\"x\":[-64.3163,-2.683699999999998],\"y\":[-19.854300000000002,103.8543],\"z\":[[-33.5,-33.5],[-33.5,-33.5]],\"type\":\"surface\"},{\"colorscale\":[[0.0,\"rgb(255,255,255)\"],[0.125,\"rgb(240,240,240)\"],[0.25,\"rgb(217,217,217)\"],[0.375,\"rgb(189,189,189)\"],[0.5,\"rgb(150,150,150)\"],[0.625,\"rgb(115,115,115)\"],[0.75,\"rgb(82,82,82)\"],[0.875,\"rgb(37,37,37)\"],[1.0,\"rgb(0,0,0)\"]],\"opacity\":0.3,\"showscale\":false,\"x\":[2.683699999999998,64.3163],\"y\":[-19.854300000000002,103.8543],\"z\":[[33.5,33.5],[33.5,33.5]],\"type\":\"surface\"},{\"colorscale\":[[0.0,\"rgb(255,255,255)\"],[0.125,\"rgb(240,240,240)\"],[0.25,\"rgb(217,217,217)\"],[0.375,\"rgb(189,189,189)\"],[0.5,\"rgb(150,150,150)\"],[0.625,\"rgb(115,115,115)\"],[0.75,\"rgb(82,82,82)\"],[0.875,\"rgb(37,37,37)\"],[1.0,\"rgb(0,0,0)\"]],\"opacity\":0.3,\"showscale\":false,\"x\":[-64.3163,-2.683699999999998],\"y\":[-19.854300000000002,103.8543],\"z\":[[33.5,33.5],[33.5,33.5]],\"type\":\"surface\"},{\"colorscale\":[[0.0,\"rgb(255,255,255)\"],[0.125,\"rgb(240,240,240)\"],[0.25,\"rgb(217,217,217)\"],[0.375,\"rgb(189,189,189)\"],[0.5,\"rgb(150,150,150)\"],[0.625,\"rgb(115,115,115)\"],[0.75,\"rgb(82,82,82)\"],[0.875,\"rgb(37,37,37)\"],[1.0,\"rgb(0,0,0)\"]],\"opacity\":0.3,\"showscale\":false,\"x\":[2.683699999999998,64.3163],\"y\":[-19.854300000000002,103.8543],\"z\":[[-33.5,-33.5],[-33.5,-33.5]],\"type\":\"surface\"},{\"colorscale\":[[0.0,\"rgb(255,255,255)\"],[0.125,\"rgb(240,240,240)\"],[0.25,\"rgb(217,217,217)\"],[0.375,\"rgb(189,189,189)\"],[0.5,\"rgb(150,150,150)\"],[0.625,\"rgb(115,115,115)\"],[0.75,\"rgb(82,82,82)\"],[0.875,\"rgb(37,37,37)\"],[1.0,\"rgb(0,0,0)\"]],\"opacity\":0.3,\"showscale\":false,\"x\":[-64.3163,-2.683699999999998],\"y\":[-19.854300000000002,103.8543],\"z\":[[-33.5,-33.5],[-33.5,-33.5]],\"type\":\"surface\"},{\"colorscale\":[[0.0,\"rgb(255,255,255)\"],[0.125,\"rgb(240,240,240)\"],[0.25,\"rgb(217,217,217)\"],[0.375,\"rgb(189,189,189)\"],[0.5,\"rgb(150,150,150)\"],[0.625,\"rgb(115,115,115)\"],[0.75,\"rgb(82,82,82)\"],[0.875,\"rgb(37,37,37)\"],[1.0,\"rgb(0,0,0)\"]],\"opacity\":0.3,\"showscale\":false,\"x\":[2.683699999999998,64.3163],\"y\":[-19.854300000000002,103.8543],\"z\":[[33.5,33.5],[33.5,33.5]],\"type\":\"surface\"},{\"colorscale\":[[0.0,\"rgb(255,255,255)\"],[0.125,\"rgb(240,240,240)\"],[0.25,\"rgb(217,217,217)\"],[0.375,\"rgb(189,189,189)\"],[0.5,\"rgb(150,150,150)\"],[0.625,\"rgb(115,115,115)\"],[0.75,\"rgb(82,82,82)\"],[0.875,\"rgb(37,37,37)\"],[1.0,\"rgb(0,0,0)\"]],\"opacity\":0.3,\"showscale\":false,\"x\":[-64.3163,-2.683699999999998],\"y\":[-19.854300000000002,103.8543],\"z\":[[33.5,33.5],[33.5,33.5]],\"type\":\"surface\"},{\"colorscale\":[[0.0,\"rgb(255,255,255)\"],[0.125,\"rgb(240,240,240)\"],[0.25,\"rgb(217,217,217)\"],[0.375,\"rgb(189,189,189)\"],[0.5,\"rgb(150,150,150)\"],[0.625,\"rgb(115,115,115)\"],[0.75,\"rgb(82,82,82)\"],[0.875,\"rgb(37,37,37)\"],[1.0,\"rgb(0,0,0)\"]],\"opacity\":0.3,\"showscale\":false,\"x\":[2.683699999999998,64.3163],\"y\":[-19.854300000000002,103.8543],\"z\":[[-33.5,-33.5],[-33.5,-33.5]],\"type\":\"surface\"},{\"colorscale\":[[0.0,\"rgb(255,255,255)\"],[0.125,\"rgb(240,240,240)\"],[0.25,\"rgb(217,217,217)\"],[0.375,\"rgb(189,189,189)\"],[0.5,\"rgb(150,150,150)\"],[0.625,\"rgb(115,115,115)\"],[0.75,\"rgb(82,82,82)\"],[0.875,\"rgb(37,37,37)\"],[1.0,\"rgb(0,0,0)\"]],\"opacity\":0.3,\"showscale\":false,\"x\":[-64.3163,-2.683699999999998],\"y\":[-19.854300000000002,103.8543],\"z\":[[-33.5,-33.5],[-33.5,-33.5]],\"type\":\"surface\"},{\"colorscale\":[[0.0,\"rgb(3, 5, 18)\"],[0.09090909090909091,\"rgb(25, 25, 51)\"],[0.18181818181818182,\"rgb(44, 42, 87)\"],[0.2727272727272727,\"rgb(58, 60, 125)\"],[0.36363636363636365,\"rgb(62, 83, 160)\"],[0.45454545454545453,\"rgb(62, 109, 178)\"],[0.5454545454545454,\"rgb(72, 134, 187)\"],[0.6363636363636364,\"rgb(89, 159, 196)\"],[0.7272727272727273,\"rgb(114, 184, 205)\"],[0.8181818181818182,\"rgb(149, 207, 216)\"],[0.9090909090909091,\"rgb(192, 229, 232)\"],[1.0,\"rgb(234, 252, 253)\"]],\"opacity\":0.1,\"showscale\":false,\"x\":[2.683699999999998,64.3163],\"y\":[-19.854300000000002,103.8543],\"z\":[[3.068999999999999,3.068999999999999],[3.068999999999999,3.068999999999999]],\"type\":\"surface\"},{\"colorscale\":[[0.0,\"rgb(3, 5, 18)\"],[0.09090909090909091,\"rgb(25, 25, 51)\"],[0.18181818181818182,\"rgb(44, 42, 87)\"],[0.2727272727272727,\"rgb(58, 60, 125)\"],[0.36363636363636365,\"rgb(62, 83, 160)\"],[0.45454545454545453,\"rgb(62, 109, 178)\"],[0.5454545454545454,\"rgb(72, 134, 187)\"],[0.6363636363636364,\"rgb(89, 159, 196)\"],[0.7272727272727273,\"rgb(114, 184, 205)\"],[0.8181818181818182,\"rgb(149, 207, 216)\"],[0.9090909090909091,\"rgb(192, 229, 232)\"],[1.0,\"rgb(234, 252, 253)\"]],\"opacity\":0.1,\"showscale\":false,\"x\":[2.683699999999998,64.3163],\"y\":[-19.854300000000002,103.8543],\"z\":[[63.931,63.931],[63.931,63.931]],\"type\":\"surface\"},{\"colorscale\":[[0.0,\"rgb(3, 5, 18)\"],[0.09090909090909091,\"rgb(25, 25, 51)\"],[0.18181818181818182,\"rgb(44, 42, 87)\"],[0.2727272727272727,\"rgb(58, 60, 125)\"],[0.36363636363636365,\"rgb(62, 83, 160)\"],[0.45454545454545453,\"rgb(62, 109, 178)\"],[0.5454545454545454,\"rgb(72, 134, 187)\"],[0.6363636363636364,\"rgb(89, 159, 196)\"],[0.7272727272727273,\"rgb(114, 184, 205)\"],[0.8181818181818182,\"rgb(149, 207, 216)\"],[0.9090909090909091,\"rgb(192, 229, 232)\"],[1.0,\"rgb(234, 252, 253)\"]],\"opacity\":0.1,\"showscale\":false,\"x\":[-64.3163,-2.683699999999998],\"y\":[-19.854300000000002,103.8543],\"z\":[[3.068999999999999,3.068999999999999],[3.068999999999999,3.068999999999999]],\"type\":\"surface\"},{\"colorscale\":[[0.0,\"rgb(3, 5, 18)\"],[0.09090909090909091,\"rgb(25, 25, 51)\"],[0.18181818181818182,\"rgb(44, 42, 87)\"],[0.2727272727272727,\"rgb(58, 60, 125)\"],[0.36363636363636365,\"rgb(62, 83, 160)\"],[0.45454545454545453,\"rgb(62, 109, 178)\"],[0.5454545454545454,\"rgb(72, 134, 187)\"],[0.6363636363636364,\"rgb(89, 159, 196)\"],[0.7272727272727273,\"rgb(114, 184, 205)\"],[0.8181818181818182,\"rgb(149, 207, 216)\"],[0.9090909090909091,\"rgb(192, 229, 232)\"],[1.0,\"rgb(234, 252, 253)\"]],\"opacity\":0.1,\"showscale\":false,\"x\":[-64.3163,-2.683699999999998],\"y\":[-19.854300000000002,103.8543],\"z\":[[63.931,63.931],[63.931,63.931]],\"type\":\"surface\"},{\"colorscale\":[[0.0,\"rgb(3, 5, 18)\"],[0.09090909090909091,\"rgb(25, 25, 51)\"],[0.18181818181818182,\"rgb(44, 42, 87)\"],[0.2727272727272727,\"rgb(58, 60, 125)\"],[0.36363636363636365,\"rgb(62, 83, 160)\"],[0.45454545454545453,\"rgb(62, 109, 178)\"],[0.5454545454545454,\"rgb(72, 134, 187)\"],[0.6363636363636364,\"rgb(89, 159, 196)\"],[0.7272727272727273,\"rgb(114, 184, 205)\"],[0.8181818181818182,\"rgb(149, 207, 216)\"],[0.9090909090909091,\"rgb(192, 229, 232)\"],[1.0,\"rgb(234, 252, 253)\"]],\"opacity\":0.1,\"showscale\":false,\"x\":[2.683699999999998,64.3163],\"y\":[-19.854300000000002,103.8543],\"z\":[[-63.931,-63.931],[-63.931,-63.931]],\"type\":\"surface\"},{\"colorscale\":[[0.0,\"rgb(3, 5, 18)\"],[0.09090909090909091,\"rgb(25, 25, 51)\"],[0.18181818181818182,\"rgb(44, 42, 87)\"],[0.2727272727272727,\"rgb(58, 60, 125)\"],[0.36363636363636365,\"rgb(62, 83, 160)\"],[0.45454545454545453,\"rgb(62, 109, 178)\"],[0.5454545454545454,\"rgb(72, 134, 187)\"],[0.6363636363636364,\"rgb(89, 159, 196)\"],[0.7272727272727273,\"rgb(114, 184, 205)\"],[0.8181818181818182,\"rgb(149, 207, 216)\"],[0.9090909090909091,\"rgb(192, 229, 232)\"],[1.0,\"rgb(234, 252, 253)\"]],\"opacity\":0.1,\"showscale\":false,\"x\":[2.683699999999998,64.3163],\"y\":[-19.854300000000002,103.8543],\"z\":[[-3.068999999999999,-3.068999999999999],[-3.068999999999999,-3.068999999999999]],\"type\":\"surface\"},{\"colorscale\":[[0.0,\"rgb(3, 5, 18)\"],[0.09090909090909091,\"rgb(25, 25, 51)\"],[0.18181818181818182,\"rgb(44, 42, 87)\"],[0.2727272727272727,\"rgb(58, 60, 125)\"],[0.36363636363636365,\"rgb(62, 83, 160)\"],[0.45454545454545453,\"rgb(62, 109, 178)\"],[0.5454545454545454,\"rgb(72, 134, 187)\"],[0.6363636363636364,\"rgb(89, 159, 196)\"],[0.7272727272727273,\"rgb(114, 184, 205)\"],[0.8181818181818182,\"rgb(149, 207, 216)\"],[0.9090909090909091,\"rgb(192, 229, 232)\"],[1.0,\"rgb(234, 252, 253)\"]],\"opacity\":0.1,\"showscale\":false,\"x\":[-64.3163,-2.683699999999998],\"y\":[-19.854300000000002,103.8543],\"z\":[[-63.931,-63.931],[-63.931,-63.931]],\"type\":\"surface\"},{\"colorscale\":[[0.0,\"rgb(3, 5, 18)\"],[0.09090909090909091,\"rgb(25, 25, 51)\"],[0.18181818181818182,\"rgb(44, 42, 87)\"],[0.2727272727272727,\"rgb(58, 60, 125)\"],[0.36363636363636365,\"rgb(62, 83, 160)\"],[0.45454545454545453,\"rgb(62, 109, 178)\"],[0.5454545454545454,\"rgb(72, 134, 187)\"],[0.6363636363636364,\"rgb(89, 159, 196)\"],[0.7272727272727273,\"rgb(114, 184, 205)\"],[0.8181818181818182,\"rgb(149, 207, 216)\"],[0.9090909090909091,\"rgb(192, 229, 232)\"],[1.0,\"rgb(234, 252, 253)\"]],\"opacity\":0.1,\"showscale\":false,\"x\":[-64.3163,-2.683699999999998],\"y\":[-19.854300000000002,103.8543],\"z\":[[-3.068999999999999,-3.068999999999999],[-3.068999999999999,-3.068999999999999]],\"type\":\"surface\"},{\"colorscale\":[[0.0,\"rgb(3, 5, 18)\"],[0.09090909090909091,\"rgb(25, 25, 51)\"],[0.18181818181818182,\"rgb(44, 42, 87)\"],[0.2727272727272727,\"rgb(58, 60, 125)\"],[0.36363636363636365,\"rgb(62, 83, 160)\"],[0.45454545454545453,\"rgb(62, 109, 178)\"],[0.5454545454545454,\"rgb(72, 134, 187)\"],[0.6363636363636364,\"rgb(89, 159, 196)\"],[0.7272727272727273,\"rgb(114, 184, 205)\"],[0.8181818181818182,\"rgb(149, 207, 216)\"],[0.9090909090909091,\"rgb(192, 229, 232)\"],[1.0,\"rgb(234, 252, 253)\"]],\"opacity\":0.1,\"showscale\":false,\"x\":[2.683699999999998,64.3163],\"y\":[-19.854300000000002,103.8543],\"z\":[[3.068999999999999,3.068999999999999],[3.068999999999999,3.068999999999999]],\"type\":\"surface\"},{\"colorscale\":[[0.0,\"rgb(3, 5, 18)\"],[0.09090909090909091,\"rgb(25, 25, 51)\"],[0.18181818181818182,\"rgb(44, 42, 87)\"],[0.2727272727272727,\"rgb(58, 60, 125)\"],[0.36363636363636365,\"rgb(62, 83, 160)\"],[0.45454545454545453,\"rgb(62, 109, 178)\"],[0.5454545454545454,\"rgb(72, 134, 187)\"],[0.6363636363636364,\"rgb(89, 159, 196)\"],[0.7272727272727273,\"rgb(114, 184, 205)\"],[0.8181818181818182,\"rgb(149, 207, 216)\"],[0.9090909090909091,\"rgb(192, 229, 232)\"],[1.0,\"rgb(234, 252, 253)\"]],\"opacity\":0.1,\"showscale\":false,\"x\":[2.683699999999998,64.3163],\"y\":[-19.854300000000002,103.8543],\"z\":[[63.931,63.931],[63.931,63.931]],\"type\":\"surface\"},{\"colorscale\":[[0.0,\"rgb(3, 5, 18)\"],[0.09090909090909091,\"rgb(25, 25, 51)\"],[0.18181818181818182,\"rgb(44, 42, 87)\"],[0.2727272727272727,\"rgb(58, 60, 125)\"],[0.36363636363636365,\"rgb(62, 83, 160)\"],[0.45454545454545453,\"rgb(62, 109, 178)\"],[0.5454545454545454,\"rgb(72, 134, 187)\"],[0.6363636363636364,\"rgb(89, 159, 196)\"],[0.7272727272727273,\"rgb(114, 184, 205)\"],[0.8181818181818182,\"rgb(149, 207, 216)\"],[0.9090909090909091,\"rgb(192, 229, 232)\"],[1.0,\"rgb(234, 252, 253)\"]],\"opacity\":0.1,\"showscale\":false,\"x\":[-64.3163,-2.683699999999998],\"y\":[-19.854300000000002,103.8543],\"z\":[[3.068999999999999,3.068999999999999],[3.068999999999999,3.068999999999999]],\"type\":\"surface\"},{\"colorscale\":[[0.0,\"rgb(3, 5, 18)\"],[0.09090909090909091,\"rgb(25, 25, 51)\"],[0.18181818181818182,\"rgb(44, 42, 87)\"],[0.2727272727272727,\"rgb(58, 60, 125)\"],[0.36363636363636365,\"rgb(62, 83, 160)\"],[0.45454545454545453,\"rgb(62, 109, 178)\"],[0.5454545454545454,\"rgb(72, 134, 187)\"],[0.6363636363636364,\"rgb(89, 159, 196)\"],[0.7272727272727273,\"rgb(114, 184, 205)\"],[0.8181818181818182,\"rgb(149, 207, 216)\"],[0.9090909090909091,\"rgb(192, 229, 232)\"],[1.0,\"rgb(234, 252, 253)\"]],\"opacity\":0.1,\"showscale\":false,\"x\":[-64.3163,-2.683699999999998],\"y\":[-19.854300000000002,103.8543],\"z\":[[63.931,63.931],[63.931,63.931]],\"type\":\"surface\"},{\"colorscale\":[[0.0,\"rgb(3, 5, 18)\"],[0.09090909090909091,\"rgb(25, 25, 51)\"],[0.18181818181818182,\"rgb(44, 42, 87)\"],[0.2727272727272727,\"rgb(58, 60, 125)\"],[0.36363636363636365,\"rgb(62, 83, 160)\"],[0.45454545454545453,\"rgb(62, 109, 178)\"],[0.5454545454545454,\"rgb(72, 134, 187)\"],[0.6363636363636364,\"rgb(89, 159, 196)\"],[0.7272727272727273,\"rgb(114, 184, 205)\"],[0.8181818181818182,\"rgb(149, 207, 216)\"],[0.9090909090909091,\"rgb(192, 229, 232)\"],[1.0,\"rgb(234, 252, 253)\"]],\"opacity\":0.1,\"showscale\":false,\"x\":[2.683699999999998,64.3163],\"y\":[-19.854300000000002,103.8543],\"z\":[[-63.931,-63.931],[-63.931,-63.931]],\"type\":\"surface\"},{\"colorscale\":[[0.0,\"rgb(3, 5, 18)\"],[0.09090909090909091,\"rgb(25, 25, 51)\"],[0.18181818181818182,\"rgb(44, 42, 87)\"],[0.2727272727272727,\"rgb(58, 60, 125)\"],[0.36363636363636365,\"rgb(62, 83, 160)\"],[0.45454545454545453,\"rgb(62, 109, 178)\"],[0.5454545454545454,\"rgb(72, 134, 187)\"],[0.6363636363636364,\"rgb(89, 159, 196)\"],[0.7272727272727273,\"rgb(114, 184, 205)\"],[0.8181818181818182,\"rgb(149, 207, 216)\"],[0.9090909090909091,\"rgb(192, 229, 232)\"],[1.0,\"rgb(234, 252, 253)\"]],\"opacity\":0.1,\"showscale\":false,\"x\":[2.683699999999998,64.3163],\"y\":[-19.854300000000002,103.8543],\"z\":[[-3.068999999999999,-3.068999999999999],[-3.068999999999999,-3.068999999999999]],\"type\":\"surface\"},{\"colorscale\":[[0.0,\"rgb(3, 5, 18)\"],[0.09090909090909091,\"rgb(25, 25, 51)\"],[0.18181818181818182,\"rgb(44, 42, 87)\"],[0.2727272727272727,\"rgb(58, 60, 125)\"],[0.36363636363636365,\"rgb(62, 83, 160)\"],[0.45454545454545453,\"rgb(62, 109, 178)\"],[0.5454545454545454,\"rgb(72, 134, 187)\"],[0.6363636363636364,\"rgb(89, 159, 196)\"],[0.7272727272727273,\"rgb(114, 184, 205)\"],[0.8181818181818182,\"rgb(149, 207, 216)\"],[0.9090909090909091,\"rgb(192, 229, 232)\"],[1.0,\"rgb(234, 252, 253)\"]],\"opacity\":0.1,\"showscale\":false,\"x\":[-64.3163,-2.683699999999998],\"y\":[-19.854300000000002,103.8543],\"z\":[[-63.931,-63.931],[-63.931,-63.931]],\"type\":\"surface\"},{\"colorscale\":[[0.0,\"rgb(3, 5, 18)\"],[0.09090909090909091,\"rgb(25, 25, 51)\"],[0.18181818181818182,\"rgb(44, 42, 87)\"],[0.2727272727272727,\"rgb(58, 60, 125)\"],[0.36363636363636365,\"rgb(62, 83, 160)\"],[0.45454545454545453,\"rgb(62, 109, 178)\"],[0.5454545454545454,\"rgb(72, 134, 187)\"],[0.6363636363636364,\"rgb(89, 159, 196)\"],[0.7272727272727273,\"rgb(114, 184, 205)\"],[0.8181818181818182,\"rgb(149, 207, 216)\"],[0.9090909090909091,\"rgb(192, 229, 232)\"],[1.0,\"rgb(234, 252, 253)\"]],\"opacity\":0.1,\"showscale\":false,\"x\":[-64.3163,-2.683699999999998],\"y\":[-19.854300000000002,103.8543],\"z\":[[-3.068999999999999,-3.068999999999999],[-3.068999999999999,-3.068999999999999]],\"type\":\"surface\"},{\"colorscale\":[[0.0,\"rgb(3, 5, 18)\"],[0.09090909090909091,\"rgb(25, 25, 51)\"],[0.18181818181818182,\"rgb(44, 42, 87)\"],[0.2727272727272727,\"rgb(58, 60, 125)\"],[0.36363636363636365,\"rgb(62, 83, 160)\"],[0.45454545454545453,\"rgb(62, 109, 178)\"],[0.5454545454545454,\"rgb(72, 134, 187)\"],[0.6363636363636364,\"rgb(89, 159, 196)\"],[0.7272727272727273,\"rgb(114, 184, 205)\"],[0.8181818181818182,\"rgb(149, 207, 216)\"],[0.9090909090909091,\"rgb(192, 229, 232)\"],[1.0,\"rgb(234, 252, 253)\"]],\"opacity\":0.1,\"showscale\":false,\"x\":[2.683699999999998,64.3163],\"y\":[-19.854300000000002,103.8543],\"z\":[[3.068999999999999,3.068999999999999],[3.068999999999999,3.068999999999999]],\"type\":\"surface\"},{\"colorscale\":[[0.0,\"rgb(3, 5, 18)\"],[0.09090909090909091,\"rgb(25, 25, 51)\"],[0.18181818181818182,\"rgb(44, 42, 87)\"],[0.2727272727272727,\"rgb(58, 60, 125)\"],[0.36363636363636365,\"rgb(62, 83, 160)\"],[0.45454545454545453,\"rgb(62, 109, 178)\"],[0.5454545454545454,\"rgb(72, 134, 187)\"],[0.6363636363636364,\"rgb(89, 159, 196)\"],[0.7272727272727273,\"rgb(114, 184, 205)\"],[0.8181818181818182,\"rgb(149, 207, 216)\"],[0.9090909090909091,\"rgb(192, 229, 232)\"],[1.0,\"rgb(234, 252, 253)\"]],\"opacity\":0.1,\"showscale\":false,\"x\":[2.683699999999998,64.3163],\"y\":[-19.854300000000002,103.8543],\"z\":[[63.931,63.931],[63.931,63.931]],\"type\":\"surface\"},{\"colorscale\":[[0.0,\"rgb(3, 5, 18)\"],[0.09090909090909091,\"rgb(25, 25, 51)\"],[0.18181818181818182,\"rgb(44, 42, 87)\"],[0.2727272727272727,\"rgb(58, 60, 125)\"],[0.36363636363636365,\"rgb(62, 83, 160)\"],[0.45454545454545453,\"rgb(62, 109, 178)\"],[0.5454545454545454,\"rgb(72, 134, 187)\"],[0.6363636363636364,\"rgb(89, 159, 196)\"],[0.7272727272727273,\"rgb(114, 184, 205)\"],[0.8181818181818182,\"rgb(149, 207, 216)\"],[0.9090909090909091,\"rgb(192, 229, 232)\"],[1.0,\"rgb(234, 252, 253)\"]],\"opacity\":0.1,\"showscale\":false,\"x\":[-64.3163,-2.683699999999998],\"y\":[-19.854300000000002,103.8543],\"z\":[[3.068999999999999,3.068999999999999],[3.068999999999999,3.068999999999999]],\"type\":\"surface\"},{\"colorscale\":[[0.0,\"rgb(3, 5, 18)\"],[0.09090909090909091,\"rgb(25, 25, 51)\"],[0.18181818181818182,\"rgb(44, 42, 87)\"],[0.2727272727272727,\"rgb(58, 60, 125)\"],[0.36363636363636365,\"rgb(62, 83, 160)\"],[0.45454545454545453,\"rgb(62, 109, 178)\"],[0.5454545454545454,\"rgb(72, 134, 187)\"],[0.6363636363636364,\"rgb(89, 159, 196)\"],[0.7272727272727273,\"rgb(114, 184, 205)\"],[0.8181818181818182,\"rgb(149, 207, 216)\"],[0.9090909090909091,\"rgb(192, 229, 232)\"],[1.0,\"rgb(234, 252, 253)\"]],\"opacity\":0.1,\"showscale\":false,\"x\":[-64.3163,-2.683699999999998],\"y\":[-19.854300000000002,103.8543],\"z\":[[63.931,63.931],[63.931,63.931]],\"type\":\"surface\"},{\"colorscale\":[[0.0,\"rgb(3, 5, 18)\"],[0.09090909090909091,\"rgb(25, 25, 51)\"],[0.18181818181818182,\"rgb(44, 42, 87)\"],[0.2727272727272727,\"rgb(58, 60, 125)\"],[0.36363636363636365,\"rgb(62, 83, 160)\"],[0.45454545454545453,\"rgb(62, 109, 178)\"],[0.5454545454545454,\"rgb(72, 134, 187)\"],[0.6363636363636364,\"rgb(89, 159, 196)\"],[0.7272727272727273,\"rgb(114, 184, 205)\"],[0.8181818181818182,\"rgb(149, 207, 216)\"],[0.9090909090909091,\"rgb(192, 229, 232)\"],[1.0,\"rgb(234, 252, 253)\"]],\"opacity\":0.1,\"showscale\":false,\"x\":[2.683699999999998,64.3163],\"y\":[-19.854300000000002,103.8543],\"z\":[[-63.931,-63.931],[-63.931,-63.931]],\"type\":\"surface\"},{\"colorscale\":[[0.0,\"rgb(3, 5, 18)\"],[0.09090909090909091,\"rgb(25, 25, 51)\"],[0.18181818181818182,\"rgb(44, 42, 87)\"],[0.2727272727272727,\"rgb(58, 60, 125)\"],[0.36363636363636365,\"rgb(62, 83, 160)\"],[0.45454545454545453,\"rgb(62, 109, 178)\"],[0.5454545454545454,\"rgb(72, 134, 187)\"],[0.6363636363636364,\"rgb(89, 159, 196)\"],[0.7272727272727273,\"rgb(114, 184, 205)\"],[0.8181818181818182,\"rgb(149, 207, 216)\"],[0.9090909090909091,\"rgb(192, 229, 232)\"],[1.0,\"rgb(234, 252, 253)\"]],\"opacity\":0.1,\"showscale\":false,\"x\":[2.683699999999998,64.3163],\"y\":[-19.854300000000002,103.8543],\"z\":[[-3.068999999999999,-3.068999999999999],[-3.068999999999999,-3.068999999999999]],\"type\":\"surface\"},{\"colorscale\":[[0.0,\"rgb(3, 5, 18)\"],[0.09090909090909091,\"rgb(25, 25, 51)\"],[0.18181818181818182,\"rgb(44, 42, 87)\"],[0.2727272727272727,\"rgb(58, 60, 125)\"],[0.36363636363636365,\"rgb(62, 83, 160)\"],[0.45454545454545453,\"rgb(62, 109, 178)\"],[0.5454545454545454,\"rgb(72, 134, 187)\"],[0.6363636363636364,\"rgb(89, 159, 196)\"],[0.7272727272727273,\"rgb(114, 184, 205)\"],[0.8181818181818182,\"rgb(149, 207, 216)\"],[0.9090909090909091,\"rgb(192, 229, 232)\"],[1.0,\"rgb(234, 252, 253)\"]],\"opacity\":0.1,\"showscale\":false,\"x\":[-64.3163,-2.683699999999998],\"y\":[-19.854300000000002,103.8543],\"z\":[[-63.931,-63.931],[-63.931,-63.931]],\"type\":\"surface\"},{\"colorscale\":[[0.0,\"rgb(3, 5, 18)\"],[0.09090909090909091,\"rgb(25, 25, 51)\"],[0.18181818181818182,\"rgb(44, 42, 87)\"],[0.2727272727272727,\"rgb(58, 60, 125)\"],[0.36363636363636365,\"rgb(62, 83, 160)\"],[0.45454545454545453,\"rgb(62, 109, 178)\"],[0.5454545454545454,\"rgb(72, 134, 187)\"],[0.6363636363636364,\"rgb(89, 159, 196)\"],[0.7272727272727273,\"rgb(114, 184, 205)\"],[0.8181818181818182,\"rgb(149, 207, 216)\"],[0.9090909090909091,\"rgb(192, 229, 232)\"],[1.0,\"rgb(234, 252, 253)\"]],\"opacity\":0.1,\"showscale\":false,\"x\":[-64.3163,-2.683699999999998],\"y\":[-19.854300000000002,103.8543],\"z\":[[-3.068999999999999,-3.068999999999999],[-3.068999999999999,-3.068999999999999]],\"type\":\"surface\"},{\"colorscale\":[[0.0,\"rgb(3, 5, 18)\"],[0.09090909090909091,\"rgb(25, 25, 51)\"],[0.18181818181818182,\"rgb(44, 42, 87)\"],[0.2727272727272727,\"rgb(58, 60, 125)\"],[0.36363636363636365,\"rgb(62, 83, 160)\"],[0.45454545454545453,\"rgb(62, 109, 178)\"],[0.5454545454545454,\"rgb(72, 134, 187)\"],[0.6363636363636364,\"rgb(89, 159, 196)\"],[0.7272727272727273,\"rgb(114, 184, 205)\"],[0.8181818181818182,\"rgb(149, 207, 216)\"],[0.9090909090909091,\"rgb(192, 229, 232)\"],[1.0,\"rgb(234, 252, 253)\"]],\"opacity\":0.1,\"showscale\":false,\"x\":[2.683699999999998,64.3163],\"y\":[-19.854300000000002,103.8543],\"z\":[[3.068999999999999,3.068999999999999],[3.068999999999999,3.068999999999999]],\"type\":\"surface\"},{\"colorscale\":[[0.0,\"rgb(3, 5, 18)\"],[0.09090909090909091,\"rgb(25, 25, 51)\"],[0.18181818181818182,\"rgb(44, 42, 87)\"],[0.2727272727272727,\"rgb(58, 60, 125)\"],[0.36363636363636365,\"rgb(62, 83, 160)\"],[0.45454545454545453,\"rgb(62, 109, 178)\"],[0.5454545454545454,\"rgb(72, 134, 187)\"],[0.6363636363636364,\"rgb(89, 159, 196)\"],[0.7272727272727273,\"rgb(114, 184, 205)\"],[0.8181818181818182,\"rgb(149, 207, 216)\"],[0.9090909090909091,\"rgb(192, 229, 232)\"],[1.0,\"rgb(234, 252, 253)\"]],\"opacity\":0.1,\"showscale\":false,\"x\":[2.683699999999998,64.3163],\"y\":[-19.854300000000002,103.8543],\"z\":[[63.931,63.931],[63.931,63.931]],\"type\":\"surface\"},{\"colorscale\":[[0.0,\"rgb(3, 5, 18)\"],[0.09090909090909091,\"rgb(25, 25, 51)\"],[0.18181818181818182,\"rgb(44, 42, 87)\"],[0.2727272727272727,\"rgb(58, 60, 125)\"],[0.36363636363636365,\"rgb(62, 83, 160)\"],[0.45454545454545453,\"rgb(62, 109, 178)\"],[0.5454545454545454,\"rgb(72, 134, 187)\"],[0.6363636363636364,\"rgb(89, 159, 196)\"],[0.7272727272727273,\"rgb(114, 184, 205)\"],[0.8181818181818182,\"rgb(149, 207, 216)\"],[0.9090909090909091,\"rgb(192, 229, 232)\"],[1.0,\"rgb(234, 252, 253)\"]],\"opacity\":0.1,\"showscale\":false,\"x\":[-64.3163,-2.683699999999998],\"y\":[-19.854300000000002,103.8543],\"z\":[[3.068999999999999,3.068999999999999],[3.068999999999999,3.068999999999999]],\"type\":\"surface\"},{\"colorscale\":[[0.0,\"rgb(3, 5, 18)\"],[0.09090909090909091,\"rgb(25, 25, 51)\"],[0.18181818181818182,\"rgb(44, 42, 87)\"],[0.2727272727272727,\"rgb(58, 60, 125)\"],[0.36363636363636365,\"rgb(62, 83, 160)\"],[0.45454545454545453,\"rgb(62, 109, 178)\"],[0.5454545454545454,\"rgb(72, 134, 187)\"],[0.6363636363636364,\"rgb(89, 159, 196)\"],[0.7272727272727273,\"rgb(114, 184, 205)\"],[0.8181818181818182,\"rgb(149, 207, 216)\"],[0.9090909090909091,\"rgb(192, 229, 232)\"],[1.0,\"rgb(234, 252, 253)\"]],\"opacity\":0.1,\"showscale\":false,\"x\":[-64.3163,-2.683699999999998],\"y\":[-19.854300000000002,103.8543],\"z\":[[63.931,63.931],[63.931,63.931]],\"type\":\"surface\"},{\"colorscale\":[[0.0,\"rgb(3, 5, 18)\"],[0.09090909090909091,\"rgb(25, 25, 51)\"],[0.18181818181818182,\"rgb(44, 42, 87)\"],[0.2727272727272727,\"rgb(58, 60, 125)\"],[0.36363636363636365,\"rgb(62, 83, 160)\"],[0.45454545454545453,\"rgb(62, 109, 178)\"],[0.5454545454545454,\"rgb(72, 134, 187)\"],[0.6363636363636364,\"rgb(89, 159, 196)\"],[0.7272727272727273,\"rgb(114, 184, 205)\"],[0.8181818181818182,\"rgb(149, 207, 216)\"],[0.9090909090909091,\"rgb(192, 229, 232)\"],[1.0,\"rgb(234, 252, 253)\"]],\"opacity\":0.1,\"showscale\":false,\"x\":[2.683699999999998,64.3163],\"y\":[-19.854300000000002,103.8543],\"z\":[[-63.931,-63.931],[-63.931,-63.931]],\"type\":\"surface\"},{\"colorscale\":[[0.0,\"rgb(3, 5, 18)\"],[0.09090909090909091,\"rgb(25, 25, 51)\"],[0.18181818181818182,\"rgb(44, 42, 87)\"],[0.2727272727272727,\"rgb(58, 60, 125)\"],[0.36363636363636365,\"rgb(62, 83, 160)\"],[0.45454545454545453,\"rgb(62, 109, 178)\"],[0.5454545454545454,\"rgb(72, 134, 187)\"],[0.6363636363636364,\"rgb(89, 159, 196)\"],[0.7272727272727273,\"rgb(114, 184, 205)\"],[0.8181818181818182,\"rgb(149, 207, 216)\"],[0.9090909090909091,\"rgb(192, 229, 232)\"],[1.0,\"rgb(234, 252, 253)\"]],\"opacity\":0.1,\"showscale\":false,\"x\":[2.683699999999998,64.3163],\"y\":[-19.854300000000002,103.8543],\"z\":[[-3.068999999999999,-3.068999999999999],[-3.068999999999999,-3.068999999999999]],\"type\":\"surface\"},{\"colorscale\":[[0.0,\"rgb(3, 5, 18)\"],[0.09090909090909091,\"rgb(25, 25, 51)\"],[0.18181818181818182,\"rgb(44, 42, 87)\"],[0.2727272727272727,\"rgb(58, 60, 125)\"],[0.36363636363636365,\"rgb(62, 83, 160)\"],[0.45454545454545453,\"rgb(62, 109, 178)\"],[0.5454545454545454,\"rgb(72, 134, 187)\"],[0.6363636363636364,\"rgb(89, 159, 196)\"],[0.7272727272727273,\"rgb(114, 184, 205)\"],[0.8181818181818182,\"rgb(149, 207, 216)\"],[0.9090909090909091,\"rgb(192, 229, 232)\"],[1.0,\"rgb(234, 252, 253)\"]],\"opacity\":0.1,\"showscale\":false,\"x\":[-64.3163,-2.683699999999998],\"y\":[-19.854300000000002,103.8543],\"z\":[[-63.931,-63.931],[-63.931,-63.931]],\"type\":\"surface\"},{\"colorscale\":[[0.0,\"rgb(3, 5, 18)\"],[0.09090909090909091,\"rgb(25, 25, 51)\"],[0.18181818181818182,\"rgb(44, 42, 87)\"],[0.2727272727272727,\"rgb(58, 60, 125)\"],[0.36363636363636365,\"rgb(62, 83, 160)\"],[0.45454545454545453,\"rgb(62, 109, 178)\"],[0.5454545454545454,\"rgb(72, 134, 187)\"],[0.6363636363636364,\"rgb(89, 159, 196)\"],[0.7272727272727273,\"rgb(114, 184, 205)\"],[0.8181818181818182,\"rgb(149, 207, 216)\"],[0.9090909090909091,\"rgb(192, 229, 232)\"],[1.0,\"rgb(234, 252, 253)\"]],\"opacity\":0.1,\"showscale\":false,\"x\":[-64.3163,-2.683699999999998],\"y\":[-19.854300000000002,103.8543],\"z\":[[-3.068999999999999,-3.068999999999999],[-3.068999999999999,-3.068999999999999]],\"type\":\"surface\"},{\"colorscale\":[[0.0,\"rgb(3, 5, 18)\"],[0.09090909090909091,\"rgb(25, 25, 51)\"],[0.18181818181818182,\"rgb(44, 42, 87)\"],[0.2727272727272727,\"rgb(58, 60, 125)\"],[0.36363636363636365,\"rgb(62, 83, 160)\"],[0.45454545454545453,\"rgb(62, 109, 178)\"],[0.5454545454545454,\"rgb(72, 134, 187)\"],[0.6363636363636364,\"rgb(89, 159, 196)\"],[0.7272727272727273,\"rgb(114, 184, 205)\"],[0.8181818181818182,\"rgb(149, 207, 216)\"],[0.9090909090909091,\"rgb(192, 229, 232)\"],[1.0,\"rgb(234, 252, 253)\"]],\"opacity\":0.1,\"showscale\":false,\"x\":[2.683699999999998,64.3163],\"y\":[-19.854300000000002,103.8543],\"z\":[[3.068999999999999,3.068999999999999],[3.068999999999999,3.068999999999999]],\"type\":\"surface\"},{\"colorscale\":[[0.0,\"rgb(3, 5, 18)\"],[0.09090909090909091,\"rgb(25, 25, 51)\"],[0.18181818181818182,\"rgb(44, 42, 87)\"],[0.2727272727272727,\"rgb(58, 60, 125)\"],[0.36363636363636365,\"rgb(62, 83, 160)\"],[0.45454545454545453,\"rgb(62, 109, 178)\"],[0.5454545454545454,\"rgb(72, 134, 187)\"],[0.6363636363636364,\"rgb(89, 159, 196)\"],[0.7272727272727273,\"rgb(114, 184, 205)\"],[0.8181818181818182,\"rgb(149, 207, 216)\"],[0.9090909090909091,\"rgb(192, 229, 232)\"],[1.0,\"rgb(234, 252, 253)\"]],\"opacity\":0.1,\"showscale\":false,\"x\":[2.683699999999998,64.3163],\"y\":[-19.854300000000002,103.8543],\"z\":[[63.931,63.931],[63.931,63.931]],\"type\":\"surface\"},{\"colorscale\":[[0.0,\"rgb(3, 5, 18)\"],[0.09090909090909091,\"rgb(25, 25, 51)\"],[0.18181818181818182,\"rgb(44, 42, 87)\"],[0.2727272727272727,\"rgb(58, 60, 125)\"],[0.36363636363636365,\"rgb(62, 83, 160)\"],[0.45454545454545453,\"rgb(62, 109, 178)\"],[0.5454545454545454,\"rgb(72, 134, 187)\"],[0.6363636363636364,\"rgb(89, 159, 196)\"],[0.7272727272727273,\"rgb(114, 184, 205)\"],[0.8181818181818182,\"rgb(149, 207, 216)\"],[0.9090909090909091,\"rgb(192, 229, 232)\"],[1.0,\"rgb(234, 252, 253)\"]],\"opacity\":0.1,\"showscale\":false,\"x\":[-64.3163,-2.683699999999998],\"y\":[-19.854300000000002,103.8543],\"z\":[[3.068999999999999,3.068999999999999],[3.068999999999999,3.068999999999999]],\"type\":\"surface\"},{\"colorscale\":[[0.0,\"rgb(3, 5, 18)\"],[0.09090909090909091,\"rgb(25, 25, 51)\"],[0.18181818181818182,\"rgb(44, 42, 87)\"],[0.2727272727272727,\"rgb(58, 60, 125)\"],[0.36363636363636365,\"rgb(62, 83, 160)\"],[0.45454545454545453,\"rgb(62, 109, 178)\"],[0.5454545454545454,\"rgb(72, 134, 187)\"],[0.6363636363636364,\"rgb(89, 159, 196)\"],[0.7272727272727273,\"rgb(114, 184, 205)\"],[0.8181818181818182,\"rgb(149, 207, 216)\"],[0.9090909090909091,\"rgb(192, 229, 232)\"],[1.0,\"rgb(234, 252, 253)\"]],\"opacity\":0.1,\"showscale\":false,\"x\":[-64.3163,-2.683699999999998],\"y\":[-19.854300000000002,103.8543],\"z\":[[63.931,63.931],[63.931,63.931]],\"type\":\"surface\"},{\"colorscale\":[[0.0,\"rgb(3, 5, 18)\"],[0.09090909090909091,\"rgb(25, 25, 51)\"],[0.18181818181818182,\"rgb(44, 42, 87)\"],[0.2727272727272727,\"rgb(58, 60, 125)\"],[0.36363636363636365,\"rgb(62, 83, 160)\"],[0.45454545454545453,\"rgb(62, 109, 178)\"],[0.5454545454545454,\"rgb(72, 134, 187)\"],[0.6363636363636364,\"rgb(89, 159, 196)\"],[0.7272727272727273,\"rgb(114, 184, 205)\"],[0.8181818181818182,\"rgb(149, 207, 216)\"],[0.9090909090909091,\"rgb(192, 229, 232)\"],[1.0,\"rgb(234, 252, 253)\"]],\"opacity\":0.1,\"showscale\":false,\"x\":[2.683699999999998,64.3163],\"y\":[-19.854300000000002,103.8543],\"z\":[[-63.931,-63.931],[-63.931,-63.931]],\"type\":\"surface\"},{\"colorscale\":[[0.0,\"rgb(3, 5, 18)\"],[0.09090909090909091,\"rgb(25, 25, 51)\"],[0.18181818181818182,\"rgb(44, 42, 87)\"],[0.2727272727272727,\"rgb(58, 60, 125)\"],[0.36363636363636365,\"rgb(62, 83, 160)\"],[0.45454545454545453,\"rgb(62, 109, 178)\"],[0.5454545454545454,\"rgb(72, 134, 187)\"],[0.6363636363636364,\"rgb(89, 159, 196)\"],[0.7272727272727273,\"rgb(114, 184, 205)\"],[0.8181818181818182,\"rgb(149, 207, 216)\"],[0.9090909090909091,\"rgb(192, 229, 232)\"],[1.0,\"rgb(234, 252, 253)\"]],\"opacity\":0.1,\"showscale\":false,\"x\":[2.683699999999998,64.3163],\"y\":[-19.854300000000002,103.8543],\"z\":[[-3.068999999999999,-3.068999999999999],[-3.068999999999999,-3.068999999999999]],\"type\":\"surface\"},{\"colorscale\":[[0.0,\"rgb(3, 5, 18)\"],[0.09090909090909091,\"rgb(25, 25, 51)\"],[0.18181818181818182,\"rgb(44, 42, 87)\"],[0.2727272727272727,\"rgb(58, 60, 125)\"],[0.36363636363636365,\"rgb(62, 83, 160)\"],[0.45454545454545453,\"rgb(62, 109, 178)\"],[0.5454545454545454,\"rgb(72, 134, 187)\"],[0.6363636363636364,\"rgb(89, 159, 196)\"],[0.7272727272727273,\"rgb(114, 184, 205)\"],[0.8181818181818182,\"rgb(149, 207, 216)\"],[0.9090909090909091,\"rgb(192, 229, 232)\"],[1.0,\"rgb(234, 252, 253)\"]],\"opacity\":0.1,\"showscale\":false,\"x\":[-64.3163,-2.683699999999998],\"y\":[-19.854300000000002,103.8543],\"z\":[[-63.931,-63.931],[-63.931,-63.931]],\"type\":\"surface\"},{\"colorscale\":[[0.0,\"rgb(3, 5, 18)\"],[0.09090909090909091,\"rgb(25, 25, 51)\"],[0.18181818181818182,\"rgb(44, 42, 87)\"],[0.2727272727272727,\"rgb(58, 60, 125)\"],[0.36363636363636365,\"rgb(62, 83, 160)\"],[0.45454545454545453,\"rgb(62, 109, 178)\"],[0.5454545454545454,\"rgb(72, 134, 187)\"],[0.6363636363636364,\"rgb(89, 159, 196)\"],[0.7272727272727273,\"rgb(114, 184, 205)\"],[0.8181818181818182,\"rgb(149, 207, 216)\"],[0.9090909090909091,\"rgb(192, 229, 232)\"],[1.0,\"rgb(234, 252, 253)\"]],\"opacity\":0.1,\"showscale\":false,\"x\":[-64.3163,-2.683699999999998],\"y\":[-19.854300000000002,103.8543],\"z\":[[-3.068999999999999,-3.068999999999999],[-3.068999999999999,-3.068999999999999]],\"type\":\"surface\"},{\"colorscale\":[[0.0,\"rgb(3, 5, 18)\"],[0.09090909090909091,\"rgb(25, 25, 51)\"],[0.18181818181818182,\"rgb(44, 42, 87)\"],[0.2727272727272727,\"rgb(58, 60, 125)\"],[0.36363636363636365,\"rgb(62, 83, 160)\"],[0.45454545454545453,\"rgb(62, 109, 178)\"],[0.5454545454545454,\"rgb(72, 134, 187)\"],[0.6363636363636364,\"rgb(89, 159, 196)\"],[0.7272727272727273,\"rgb(114, 184, 205)\"],[0.8181818181818182,\"rgb(149, 207, 216)\"],[0.9090909090909091,\"rgb(192, 229, 232)\"],[1.0,\"rgb(234, 252, 253)\"]],\"opacity\":0.1,\"showscale\":false,\"x\":[2.683699999999998,64.3163],\"y\":[-19.854300000000002,103.8543],\"z\":[[3.068999999999999,3.068999999999999],[3.068999999999999,3.068999999999999]],\"type\":\"surface\"},{\"colorscale\":[[0.0,\"rgb(3, 5, 18)\"],[0.09090909090909091,\"rgb(25, 25, 51)\"],[0.18181818181818182,\"rgb(44, 42, 87)\"],[0.2727272727272727,\"rgb(58, 60, 125)\"],[0.36363636363636365,\"rgb(62, 83, 160)\"],[0.45454545454545453,\"rgb(62, 109, 178)\"],[0.5454545454545454,\"rgb(72, 134, 187)\"],[0.6363636363636364,\"rgb(89, 159, 196)\"],[0.7272727272727273,\"rgb(114, 184, 205)\"],[0.8181818181818182,\"rgb(149, 207, 216)\"],[0.9090909090909091,\"rgb(192, 229, 232)\"],[1.0,\"rgb(234, 252, 253)\"]],\"opacity\":0.1,\"showscale\":false,\"x\":[2.683699999999998,64.3163],\"y\":[-19.854300000000002,103.8543],\"z\":[[63.931,63.931],[63.931,63.931]],\"type\":\"surface\"},{\"colorscale\":[[0.0,\"rgb(3, 5, 18)\"],[0.09090909090909091,\"rgb(25, 25, 51)\"],[0.18181818181818182,\"rgb(44, 42, 87)\"],[0.2727272727272727,\"rgb(58, 60, 125)\"],[0.36363636363636365,\"rgb(62, 83, 160)\"],[0.45454545454545453,\"rgb(62, 109, 178)\"],[0.5454545454545454,\"rgb(72, 134, 187)\"],[0.6363636363636364,\"rgb(89, 159, 196)\"],[0.7272727272727273,\"rgb(114, 184, 205)\"],[0.8181818181818182,\"rgb(149, 207, 216)\"],[0.9090909090909091,\"rgb(192, 229, 232)\"],[1.0,\"rgb(234, 252, 253)\"]],\"opacity\":0.1,\"showscale\":false,\"x\":[-64.3163,-2.683699999999998],\"y\":[-19.854300000000002,103.8543],\"z\":[[3.068999999999999,3.068999999999999],[3.068999999999999,3.068999999999999]],\"type\":\"surface\"},{\"colorscale\":[[0.0,\"rgb(3, 5, 18)\"],[0.09090909090909091,\"rgb(25, 25, 51)\"],[0.18181818181818182,\"rgb(44, 42, 87)\"],[0.2727272727272727,\"rgb(58, 60, 125)\"],[0.36363636363636365,\"rgb(62, 83, 160)\"],[0.45454545454545453,\"rgb(62, 109, 178)\"],[0.5454545454545454,\"rgb(72, 134, 187)\"],[0.6363636363636364,\"rgb(89, 159, 196)\"],[0.7272727272727273,\"rgb(114, 184, 205)\"],[0.8181818181818182,\"rgb(149, 207, 216)\"],[0.9090909090909091,\"rgb(192, 229, 232)\"],[1.0,\"rgb(234, 252, 253)\"]],\"opacity\":0.1,\"showscale\":false,\"x\":[-64.3163,-2.683699999999998],\"y\":[-19.854300000000002,103.8543],\"z\":[[63.931,63.931],[63.931,63.931]],\"type\":\"surface\"},{\"colorscale\":[[0.0,\"rgb(3, 5, 18)\"],[0.09090909090909091,\"rgb(25, 25, 51)\"],[0.18181818181818182,\"rgb(44, 42, 87)\"],[0.2727272727272727,\"rgb(58, 60, 125)\"],[0.36363636363636365,\"rgb(62, 83, 160)\"],[0.45454545454545453,\"rgb(62, 109, 178)\"],[0.5454545454545454,\"rgb(72, 134, 187)\"],[0.6363636363636364,\"rgb(89, 159, 196)\"],[0.7272727272727273,\"rgb(114, 184, 205)\"],[0.8181818181818182,\"rgb(149, 207, 216)\"],[0.9090909090909091,\"rgb(192, 229, 232)\"],[1.0,\"rgb(234, 252, 253)\"]],\"opacity\":0.1,\"showscale\":false,\"x\":[2.683699999999998,64.3163],\"y\":[-19.854300000000002,103.8543],\"z\":[[-63.931,-63.931],[-63.931,-63.931]],\"type\":\"surface\"},{\"colorscale\":[[0.0,\"rgb(3, 5, 18)\"],[0.09090909090909091,\"rgb(25, 25, 51)\"],[0.18181818181818182,\"rgb(44, 42, 87)\"],[0.2727272727272727,\"rgb(58, 60, 125)\"],[0.36363636363636365,\"rgb(62, 83, 160)\"],[0.45454545454545453,\"rgb(62, 109, 178)\"],[0.5454545454545454,\"rgb(72, 134, 187)\"],[0.6363636363636364,\"rgb(89, 159, 196)\"],[0.7272727272727273,\"rgb(114, 184, 205)\"],[0.8181818181818182,\"rgb(149, 207, 216)\"],[0.9090909090909091,\"rgb(192, 229, 232)\"],[1.0,\"rgb(234, 252, 253)\"]],\"opacity\":0.1,\"showscale\":false,\"x\":[2.683699999999998,64.3163],\"y\":[-19.854300000000002,103.8543],\"z\":[[-3.068999999999999,-3.068999999999999],[-3.068999999999999,-3.068999999999999]],\"type\":\"surface\"},{\"colorscale\":[[0.0,\"rgb(3, 5, 18)\"],[0.09090909090909091,\"rgb(25, 25, 51)\"],[0.18181818181818182,\"rgb(44, 42, 87)\"],[0.2727272727272727,\"rgb(58, 60, 125)\"],[0.36363636363636365,\"rgb(62, 83, 160)\"],[0.45454545454545453,\"rgb(62, 109, 178)\"],[0.5454545454545454,\"rgb(72, 134, 187)\"],[0.6363636363636364,\"rgb(89, 159, 196)\"],[0.7272727272727273,\"rgb(114, 184, 205)\"],[0.8181818181818182,\"rgb(149, 207, 216)\"],[0.9090909090909091,\"rgb(192, 229, 232)\"],[1.0,\"rgb(234, 252, 253)\"]],\"opacity\":0.1,\"showscale\":false,\"x\":[-64.3163,-2.683699999999998],\"y\":[-19.854300000000002,103.8543],\"z\":[[-63.931,-63.931],[-63.931,-63.931]],\"type\":\"surface\"},{\"colorscale\":[[0.0,\"rgb(3, 5, 18)\"],[0.09090909090909091,\"rgb(25, 25, 51)\"],[0.18181818181818182,\"rgb(44, 42, 87)\"],[0.2727272727272727,\"rgb(58, 60, 125)\"],[0.36363636363636365,\"rgb(62, 83, 160)\"],[0.45454545454545453,\"rgb(62, 109, 178)\"],[0.5454545454545454,\"rgb(72, 134, 187)\"],[0.6363636363636364,\"rgb(89, 159, 196)\"],[0.7272727272727273,\"rgb(114, 184, 205)\"],[0.8181818181818182,\"rgb(149, 207, 216)\"],[0.9090909090909091,\"rgb(192, 229, 232)\"],[1.0,\"rgb(234, 252, 253)\"]],\"opacity\":0.1,\"showscale\":false,\"x\":[-64.3163,-2.683699999999998],\"y\":[-19.854300000000002,103.8543],\"z\":[[-3.068999999999999,-3.068999999999999],[-3.068999999999999,-3.068999999999999]],\"type\":\"surface\"},{\"colorscale\":[[0.0,\"rgb(3, 5, 18)\"],[0.09090909090909091,\"rgb(25, 25, 51)\"],[0.18181818181818182,\"rgb(44, 42, 87)\"],[0.2727272727272727,\"rgb(58, 60, 125)\"],[0.36363636363636365,\"rgb(62, 83, 160)\"],[0.45454545454545453,\"rgb(62, 109, 178)\"],[0.5454545454545454,\"rgb(72, 134, 187)\"],[0.6363636363636364,\"rgb(89, 159, 196)\"],[0.7272727272727273,\"rgb(114, 184, 205)\"],[0.8181818181818182,\"rgb(149, 207, 216)\"],[0.9090909090909091,\"rgb(192, 229, 232)\"],[1.0,\"rgb(234, 252, 253)\"]],\"opacity\":0.1,\"showscale\":false,\"x\":[2.683699999999998,64.3163],\"y\":[-19.854300000000002,103.8543],\"z\":[[3.068999999999999,3.068999999999999],[3.068999999999999,3.068999999999999]],\"type\":\"surface\"},{\"colorscale\":[[0.0,\"rgb(3, 5, 18)\"],[0.09090909090909091,\"rgb(25, 25, 51)\"],[0.18181818181818182,\"rgb(44, 42, 87)\"],[0.2727272727272727,\"rgb(58, 60, 125)\"],[0.36363636363636365,\"rgb(62, 83, 160)\"],[0.45454545454545453,\"rgb(62, 109, 178)\"],[0.5454545454545454,\"rgb(72, 134, 187)\"],[0.6363636363636364,\"rgb(89, 159, 196)\"],[0.7272727272727273,\"rgb(114, 184, 205)\"],[0.8181818181818182,\"rgb(149, 207, 216)\"],[0.9090909090909091,\"rgb(192, 229, 232)\"],[1.0,\"rgb(234, 252, 253)\"]],\"opacity\":0.1,\"showscale\":false,\"x\":[2.683699999999998,64.3163],\"y\":[-19.854300000000002,103.8543],\"z\":[[63.931,63.931],[63.931,63.931]],\"type\":\"surface\"},{\"colorscale\":[[0.0,\"rgb(3, 5, 18)\"],[0.09090909090909091,\"rgb(25, 25, 51)\"],[0.18181818181818182,\"rgb(44, 42, 87)\"],[0.2727272727272727,\"rgb(58, 60, 125)\"],[0.36363636363636365,\"rgb(62, 83, 160)\"],[0.45454545454545453,\"rgb(62, 109, 178)\"],[0.5454545454545454,\"rgb(72, 134, 187)\"],[0.6363636363636364,\"rgb(89, 159, 196)\"],[0.7272727272727273,\"rgb(114, 184, 205)\"],[0.8181818181818182,\"rgb(149, 207, 216)\"],[0.9090909090909091,\"rgb(192, 229, 232)\"],[1.0,\"rgb(234, 252, 253)\"]],\"opacity\":0.1,\"showscale\":false,\"x\":[-64.3163,-2.683699999999998],\"y\":[-19.854300000000002,103.8543],\"z\":[[3.068999999999999,3.068999999999999],[3.068999999999999,3.068999999999999]],\"type\":\"surface\"},{\"colorscale\":[[0.0,\"rgb(3, 5, 18)\"],[0.09090909090909091,\"rgb(25, 25, 51)\"],[0.18181818181818182,\"rgb(44, 42, 87)\"],[0.2727272727272727,\"rgb(58, 60, 125)\"],[0.36363636363636365,\"rgb(62, 83, 160)\"],[0.45454545454545453,\"rgb(62, 109, 178)\"],[0.5454545454545454,\"rgb(72, 134, 187)\"],[0.6363636363636364,\"rgb(89, 159, 196)\"],[0.7272727272727273,\"rgb(114, 184, 205)\"],[0.8181818181818182,\"rgb(149, 207, 216)\"],[0.9090909090909091,\"rgb(192, 229, 232)\"],[1.0,\"rgb(234, 252, 253)\"]],\"opacity\":0.1,\"showscale\":false,\"x\":[-64.3163,-2.683699999999998],\"y\":[-19.854300000000002,103.8543],\"z\":[[63.931,63.931],[63.931,63.931]],\"type\":\"surface\"},{\"colorscale\":[[0.0,\"rgb(3, 5, 18)\"],[0.09090909090909091,\"rgb(25, 25, 51)\"],[0.18181818181818182,\"rgb(44, 42, 87)\"],[0.2727272727272727,\"rgb(58, 60, 125)\"],[0.36363636363636365,\"rgb(62, 83, 160)\"],[0.45454545454545453,\"rgb(62, 109, 178)\"],[0.5454545454545454,\"rgb(72, 134, 187)\"],[0.6363636363636364,\"rgb(89, 159, 196)\"],[0.7272727272727273,\"rgb(114, 184, 205)\"],[0.8181818181818182,\"rgb(149, 207, 216)\"],[0.9090909090909091,\"rgb(192, 229, 232)\"],[1.0,\"rgb(234, 252, 253)\"]],\"opacity\":0.1,\"showscale\":false,\"x\":[2.683699999999998,64.3163],\"y\":[-19.854300000000002,103.8543],\"z\":[[-63.931,-63.931],[-63.931,-63.931]],\"type\":\"surface\"},{\"colorscale\":[[0.0,\"rgb(3, 5, 18)\"],[0.09090909090909091,\"rgb(25, 25, 51)\"],[0.18181818181818182,\"rgb(44, 42, 87)\"],[0.2727272727272727,\"rgb(58, 60, 125)\"],[0.36363636363636365,\"rgb(62, 83, 160)\"],[0.45454545454545453,\"rgb(62, 109, 178)\"],[0.5454545454545454,\"rgb(72, 134, 187)\"],[0.6363636363636364,\"rgb(89, 159, 196)\"],[0.7272727272727273,\"rgb(114, 184, 205)\"],[0.8181818181818182,\"rgb(149, 207, 216)\"],[0.9090909090909091,\"rgb(192, 229, 232)\"],[1.0,\"rgb(234, 252, 253)\"]],\"opacity\":0.1,\"showscale\":false,\"x\":[2.683699999999998,64.3163],\"y\":[-19.854300000000002,103.8543],\"z\":[[-3.068999999999999,-3.068999999999999],[-3.068999999999999,-3.068999999999999]],\"type\":\"surface\"},{\"colorscale\":[[0.0,\"rgb(3, 5, 18)\"],[0.09090909090909091,\"rgb(25, 25, 51)\"],[0.18181818181818182,\"rgb(44, 42, 87)\"],[0.2727272727272727,\"rgb(58, 60, 125)\"],[0.36363636363636365,\"rgb(62, 83, 160)\"],[0.45454545454545453,\"rgb(62, 109, 178)\"],[0.5454545454545454,\"rgb(72, 134, 187)\"],[0.6363636363636364,\"rgb(89, 159, 196)\"],[0.7272727272727273,\"rgb(114, 184, 205)\"],[0.8181818181818182,\"rgb(149, 207, 216)\"],[0.9090909090909091,\"rgb(192, 229, 232)\"],[1.0,\"rgb(234, 252, 253)\"]],\"opacity\":0.1,\"showscale\":false,\"x\":[-64.3163,-2.683699999999998],\"y\":[-19.854300000000002,103.8543],\"z\":[[-63.931,-63.931],[-63.931,-63.931]],\"type\":\"surface\"},{\"colorscale\":[[0.0,\"rgb(3, 5, 18)\"],[0.09090909090909091,\"rgb(25, 25, 51)\"],[0.18181818181818182,\"rgb(44, 42, 87)\"],[0.2727272727272727,\"rgb(58, 60, 125)\"],[0.36363636363636365,\"rgb(62, 83, 160)\"],[0.45454545454545453,\"rgb(62, 109, 178)\"],[0.5454545454545454,\"rgb(72, 134, 187)\"],[0.6363636363636364,\"rgb(89, 159, 196)\"],[0.7272727272727273,\"rgb(114, 184, 205)\"],[0.8181818181818182,\"rgb(149, 207, 216)\"],[0.9090909090909091,\"rgb(192, 229, 232)\"],[1.0,\"rgb(234, 252, 253)\"]],\"opacity\":0.1,\"showscale\":false,\"x\":[-64.3163,-2.683699999999998],\"y\":[-19.854300000000002,103.8543],\"z\":[[-3.068999999999999,-3.068999999999999],[-3.068999999999999,-3.068999999999999]],\"type\":\"surface\"},{\"colorscale\":[[0.0,\"rgb(3, 5, 18)\"],[0.09090909090909091,\"rgb(25, 25, 51)\"],[0.18181818181818182,\"rgb(44, 42, 87)\"],[0.2727272727272727,\"rgb(58, 60, 125)\"],[0.36363636363636365,\"rgb(62, 83, 160)\"],[0.45454545454545453,\"rgb(62, 109, 178)\"],[0.5454545454545454,\"rgb(72, 134, 187)\"],[0.6363636363636364,\"rgb(89, 159, 196)\"],[0.7272727272727273,\"rgb(114, 184, 205)\"],[0.8181818181818182,\"rgb(149, 207, 216)\"],[0.9090909090909091,\"rgb(192, 229, 232)\"],[1.0,\"rgb(234, 252, 253)\"]],\"opacity\":0.1,\"showscale\":false,\"x\":[2.683699999999998,64.3163],\"y\":[-19.854300000000002,103.8543],\"z\":[[3.068999999999999,3.068999999999999],[3.068999999999999,3.068999999999999]],\"type\":\"surface\"},{\"colorscale\":[[0.0,\"rgb(3, 5, 18)\"],[0.09090909090909091,\"rgb(25, 25, 51)\"],[0.18181818181818182,\"rgb(44, 42, 87)\"],[0.2727272727272727,\"rgb(58, 60, 125)\"],[0.36363636363636365,\"rgb(62, 83, 160)\"],[0.45454545454545453,\"rgb(62, 109, 178)\"],[0.5454545454545454,\"rgb(72, 134, 187)\"],[0.6363636363636364,\"rgb(89, 159, 196)\"],[0.7272727272727273,\"rgb(114, 184, 205)\"],[0.8181818181818182,\"rgb(149, 207, 216)\"],[0.9090909090909091,\"rgb(192, 229, 232)\"],[1.0,\"rgb(234, 252, 253)\"]],\"opacity\":0.1,\"showscale\":false,\"x\":[2.683699999999998,64.3163],\"y\":[-19.854300000000002,103.8543],\"z\":[[63.931,63.931],[63.931,63.931]],\"type\":\"surface\"},{\"colorscale\":[[0.0,\"rgb(3, 5, 18)\"],[0.09090909090909091,\"rgb(25, 25, 51)\"],[0.18181818181818182,\"rgb(44, 42, 87)\"],[0.2727272727272727,\"rgb(58, 60, 125)\"],[0.36363636363636365,\"rgb(62, 83, 160)\"],[0.45454545454545453,\"rgb(62, 109, 178)\"],[0.5454545454545454,\"rgb(72, 134, 187)\"],[0.6363636363636364,\"rgb(89, 159, 196)\"],[0.7272727272727273,\"rgb(114, 184, 205)\"],[0.8181818181818182,\"rgb(149, 207, 216)\"],[0.9090909090909091,\"rgb(192, 229, 232)\"],[1.0,\"rgb(234, 252, 253)\"]],\"opacity\":0.1,\"showscale\":false,\"x\":[-64.3163,-2.683699999999998],\"y\":[-19.854300000000002,103.8543],\"z\":[[3.068999999999999,3.068999999999999],[3.068999999999999,3.068999999999999]],\"type\":\"surface\"},{\"colorscale\":[[0.0,\"rgb(3, 5, 18)\"],[0.09090909090909091,\"rgb(25, 25, 51)\"],[0.18181818181818182,\"rgb(44, 42, 87)\"],[0.2727272727272727,\"rgb(58, 60, 125)\"],[0.36363636363636365,\"rgb(62, 83, 160)\"],[0.45454545454545453,\"rgb(62, 109, 178)\"],[0.5454545454545454,\"rgb(72, 134, 187)\"],[0.6363636363636364,\"rgb(89, 159, 196)\"],[0.7272727272727273,\"rgb(114, 184, 205)\"],[0.8181818181818182,\"rgb(149, 207, 216)\"],[0.9090909090909091,\"rgb(192, 229, 232)\"],[1.0,\"rgb(234, 252, 253)\"]],\"opacity\":0.1,\"showscale\":false,\"x\":[-64.3163,-2.683699999999998],\"y\":[-19.854300000000002,103.8543],\"z\":[[63.931,63.931],[63.931,63.931]],\"type\":\"surface\"},{\"colorscale\":[[0.0,\"rgb(3, 5, 18)\"],[0.09090909090909091,\"rgb(25, 25, 51)\"],[0.18181818181818182,\"rgb(44, 42, 87)\"],[0.2727272727272727,\"rgb(58, 60, 125)\"],[0.36363636363636365,\"rgb(62, 83, 160)\"],[0.45454545454545453,\"rgb(62, 109, 178)\"],[0.5454545454545454,\"rgb(72, 134, 187)\"],[0.6363636363636364,\"rgb(89, 159, 196)\"],[0.7272727272727273,\"rgb(114, 184, 205)\"],[0.8181818181818182,\"rgb(149, 207, 216)\"],[0.9090909090909091,\"rgb(192, 229, 232)\"],[1.0,\"rgb(234, 252, 253)\"]],\"opacity\":0.1,\"showscale\":false,\"x\":[2.683699999999998,64.3163],\"y\":[-19.854300000000002,103.8543],\"z\":[[-63.931,-63.931],[-63.931,-63.931]],\"type\":\"surface\"},{\"colorscale\":[[0.0,\"rgb(3, 5, 18)\"],[0.09090909090909091,\"rgb(25, 25, 51)\"],[0.18181818181818182,\"rgb(44, 42, 87)\"],[0.2727272727272727,\"rgb(58, 60, 125)\"],[0.36363636363636365,\"rgb(62, 83, 160)\"],[0.45454545454545453,\"rgb(62, 109, 178)\"],[0.5454545454545454,\"rgb(72, 134, 187)\"],[0.6363636363636364,\"rgb(89, 159, 196)\"],[0.7272727272727273,\"rgb(114, 184, 205)\"],[0.8181818181818182,\"rgb(149, 207, 216)\"],[0.9090909090909091,\"rgb(192, 229, 232)\"],[1.0,\"rgb(234, 252, 253)\"]],\"opacity\":0.1,\"showscale\":false,\"x\":[2.683699999999998,64.3163],\"y\":[-19.854300000000002,103.8543],\"z\":[[-3.068999999999999,-3.068999999999999],[-3.068999999999999,-3.068999999999999]],\"type\":\"surface\"},{\"colorscale\":[[0.0,\"rgb(3, 5, 18)\"],[0.09090909090909091,\"rgb(25, 25, 51)\"],[0.18181818181818182,\"rgb(44, 42, 87)\"],[0.2727272727272727,\"rgb(58, 60, 125)\"],[0.36363636363636365,\"rgb(62, 83, 160)\"],[0.45454545454545453,\"rgb(62, 109, 178)\"],[0.5454545454545454,\"rgb(72, 134, 187)\"],[0.6363636363636364,\"rgb(89, 159, 196)\"],[0.7272727272727273,\"rgb(114, 184, 205)\"],[0.8181818181818182,\"rgb(149, 207, 216)\"],[0.9090909090909091,\"rgb(192, 229, 232)\"],[1.0,\"rgb(234, 252, 253)\"]],\"opacity\":0.1,\"showscale\":false,\"x\":[-64.3163,-2.683699999999998],\"y\":[-19.854300000000002,103.8543],\"z\":[[-63.931,-63.931],[-63.931,-63.931]],\"type\":\"surface\"},{\"colorscale\":[[0.0,\"rgb(3, 5, 18)\"],[0.09090909090909091,\"rgb(25, 25, 51)\"],[0.18181818181818182,\"rgb(44, 42, 87)\"],[0.2727272727272727,\"rgb(58, 60, 125)\"],[0.36363636363636365,\"rgb(62, 83, 160)\"],[0.45454545454545453,\"rgb(62, 109, 178)\"],[0.5454545454545454,\"rgb(72, 134, 187)\"],[0.6363636363636364,\"rgb(89, 159, 196)\"],[0.7272727272727273,\"rgb(114, 184, 205)\"],[0.8181818181818182,\"rgb(149, 207, 216)\"],[0.9090909090909091,\"rgb(192, 229, 232)\"],[1.0,\"rgb(234, 252, 253)\"]],\"opacity\":0.1,\"showscale\":false,\"x\":[-64.3163,-2.683699999999998],\"y\":[-19.854300000000002,103.8543],\"z\":[[-3.068999999999999,-3.068999999999999],[-3.068999999999999,-3.068999999999999]],\"type\":\"surface\"},{\"colorscale\":[[0.0,\"rgb(3, 5, 18)\"],[0.09090909090909091,\"rgb(25, 25, 51)\"],[0.18181818181818182,\"rgb(44, 42, 87)\"],[0.2727272727272727,\"rgb(58, 60, 125)\"],[0.36363636363636365,\"rgb(62, 83, 160)\"],[0.45454545454545453,\"rgb(62, 109, 178)\"],[0.5454545454545454,\"rgb(72, 134, 187)\"],[0.6363636363636364,\"rgb(89, 159, 196)\"],[0.7272727272727273,\"rgb(114, 184, 205)\"],[0.8181818181818182,\"rgb(149, 207, 216)\"],[0.9090909090909091,\"rgb(192, 229, 232)\"],[1.0,\"rgb(234, 252, 253)\"]],\"opacity\":0.1,\"showscale\":false,\"x\":[2.683699999999998,64.3163],\"y\":[-19.854300000000002,103.8543],\"z\":[[3.068999999999999,3.068999999999999],[3.068999999999999,3.068999999999999]],\"type\":\"surface\"},{\"colorscale\":[[0.0,\"rgb(3, 5, 18)\"],[0.09090909090909091,\"rgb(25, 25, 51)\"],[0.18181818181818182,\"rgb(44, 42, 87)\"],[0.2727272727272727,\"rgb(58, 60, 125)\"],[0.36363636363636365,\"rgb(62, 83, 160)\"],[0.45454545454545453,\"rgb(62, 109, 178)\"],[0.5454545454545454,\"rgb(72, 134, 187)\"],[0.6363636363636364,\"rgb(89, 159, 196)\"],[0.7272727272727273,\"rgb(114, 184, 205)\"],[0.8181818181818182,\"rgb(149, 207, 216)\"],[0.9090909090909091,\"rgb(192, 229, 232)\"],[1.0,\"rgb(234, 252, 253)\"]],\"opacity\":0.1,\"showscale\":false,\"x\":[2.683699999999998,64.3163],\"y\":[-19.854300000000002,103.8543],\"z\":[[63.931,63.931],[63.931,63.931]],\"type\":\"surface\"},{\"colorscale\":[[0.0,\"rgb(3, 5, 18)\"],[0.09090909090909091,\"rgb(25, 25, 51)\"],[0.18181818181818182,\"rgb(44, 42, 87)\"],[0.2727272727272727,\"rgb(58, 60, 125)\"],[0.36363636363636365,\"rgb(62, 83, 160)\"],[0.45454545454545453,\"rgb(62, 109, 178)\"],[0.5454545454545454,\"rgb(72, 134, 187)\"],[0.6363636363636364,\"rgb(89, 159, 196)\"],[0.7272727272727273,\"rgb(114, 184, 205)\"],[0.8181818181818182,\"rgb(149, 207, 216)\"],[0.9090909090909091,\"rgb(192, 229, 232)\"],[1.0,\"rgb(234, 252, 253)\"]],\"opacity\":0.1,\"showscale\":false,\"x\":[-64.3163,-2.683699999999998],\"y\":[-19.854300000000002,103.8543],\"z\":[[3.068999999999999,3.068999999999999],[3.068999999999999,3.068999999999999]],\"type\":\"surface\"},{\"colorscale\":[[0.0,\"rgb(3, 5, 18)\"],[0.09090909090909091,\"rgb(25, 25, 51)\"],[0.18181818181818182,\"rgb(44, 42, 87)\"],[0.2727272727272727,\"rgb(58, 60, 125)\"],[0.36363636363636365,\"rgb(62, 83, 160)\"],[0.45454545454545453,\"rgb(62, 109, 178)\"],[0.5454545454545454,\"rgb(72, 134, 187)\"],[0.6363636363636364,\"rgb(89, 159, 196)\"],[0.7272727272727273,\"rgb(114, 184, 205)\"],[0.8181818181818182,\"rgb(149, 207, 216)\"],[0.9090909090909091,\"rgb(192, 229, 232)\"],[1.0,\"rgb(234, 252, 253)\"]],\"opacity\":0.1,\"showscale\":false,\"x\":[-64.3163,-2.683699999999998],\"y\":[-19.854300000000002,103.8543],\"z\":[[63.931,63.931],[63.931,63.931]],\"type\":\"surface\"},{\"colorscale\":[[0.0,\"rgb(3, 5, 18)\"],[0.09090909090909091,\"rgb(25, 25, 51)\"],[0.18181818181818182,\"rgb(44, 42, 87)\"],[0.2727272727272727,\"rgb(58, 60, 125)\"],[0.36363636363636365,\"rgb(62, 83, 160)\"],[0.45454545454545453,\"rgb(62, 109, 178)\"],[0.5454545454545454,\"rgb(72, 134, 187)\"],[0.6363636363636364,\"rgb(89, 159, 196)\"],[0.7272727272727273,\"rgb(114, 184, 205)\"],[0.8181818181818182,\"rgb(149, 207, 216)\"],[0.9090909090909091,\"rgb(192, 229, 232)\"],[1.0,\"rgb(234, 252, 253)\"]],\"opacity\":0.1,\"showscale\":false,\"x\":[2.683699999999998,64.3163],\"y\":[-19.854300000000002,103.8543],\"z\":[[-63.931,-63.931],[-63.931,-63.931]],\"type\":\"surface\"},{\"colorscale\":[[0.0,\"rgb(3, 5, 18)\"],[0.09090909090909091,\"rgb(25, 25, 51)\"],[0.18181818181818182,\"rgb(44, 42, 87)\"],[0.2727272727272727,\"rgb(58, 60, 125)\"],[0.36363636363636365,\"rgb(62, 83, 160)\"],[0.45454545454545453,\"rgb(62, 109, 178)\"],[0.5454545454545454,\"rgb(72, 134, 187)\"],[0.6363636363636364,\"rgb(89, 159, 196)\"],[0.7272727272727273,\"rgb(114, 184, 205)\"],[0.8181818181818182,\"rgb(149, 207, 216)\"],[0.9090909090909091,\"rgb(192, 229, 232)\"],[1.0,\"rgb(234, 252, 253)\"]],\"opacity\":0.1,\"showscale\":false,\"x\":[2.683699999999998,64.3163],\"y\":[-19.854300000000002,103.8543],\"z\":[[-3.068999999999999,-3.068999999999999],[-3.068999999999999,-3.068999999999999]],\"type\":\"surface\"},{\"colorscale\":[[0.0,\"rgb(3, 5, 18)\"],[0.09090909090909091,\"rgb(25, 25, 51)\"],[0.18181818181818182,\"rgb(44, 42, 87)\"],[0.2727272727272727,\"rgb(58, 60, 125)\"],[0.36363636363636365,\"rgb(62, 83, 160)\"],[0.45454545454545453,\"rgb(62, 109, 178)\"],[0.5454545454545454,\"rgb(72, 134, 187)\"],[0.6363636363636364,\"rgb(89, 159, 196)\"],[0.7272727272727273,\"rgb(114, 184, 205)\"],[0.8181818181818182,\"rgb(149, 207, 216)\"],[0.9090909090909091,\"rgb(192, 229, 232)\"],[1.0,\"rgb(234, 252, 253)\"]],\"opacity\":0.1,\"showscale\":false,\"x\":[-64.3163,-2.683699999999998],\"y\":[-19.854300000000002,103.8543],\"z\":[[-63.931,-63.931],[-63.931,-63.931]],\"type\":\"surface\"},{\"colorscale\":[[0.0,\"rgb(3, 5, 18)\"],[0.09090909090909091,\"rgb(25, 25, 51)\"],[0.18181818181818182,\"rgb(44, 42, 87)\"],[0.2727272727272727,\"rgb(58, 60, 125)\"],[0.36363636363636365,\"rgb(62, 83, 160)\"],[0.45454545454545453,\"rgb(62, 109, 178)\"],[0.5454545454545454,\"rgb(72, 134, 187)\"],[0.6363636363636364,\"rgb(89, 159, 196)\"],[0.7272727272727273,\"rgb(114, 184, 205)\"],[0.8181818181818182,\"rgb(149, 207, 216)\"],[0.9090909090909091,\"rgb(192, 229, 232)\"],[1.0,\"rgb(234, 252, 253)\"]],\"opacity\":0.1,\"showscale\":false,\"x\":[-64.3163,-2.683699999999998],\"y\":[-19.854300000000002,103.8543],\"z\":[[-3.068999999999999,-3.068999999999999],[-3.068999999999999,-3.068999999999999]],\"type\":\"surface\"},{\"colorscale\":[[0.0,\"rgb(3, 5, 18)\"],[0.09090909090909091,\"rgb(25, 25, 51)\"],[0.18181818181818182,\"rgb(44, 42, 87)\"],[0.2727272727272727,\"rgb(58, 60, 125)\"],[0.36363636363636365,\"rgb(62, 83, 160)\"],[0.45454545454545453,\"rgb(62, 109, 178)\"],[0.5454545454545454,\"rgb(72, 134, 187)\"],[0.6363636363636364,\"rgb(89, 159, 196)\"],[0.7272727272727273,\"rgb(114, 184, 205)\"],[0.8181818181818182,\"rgb(149, 207, 216)\"],[0.9090909090909091,\"rgb(192, 229, 232)\"],[1.0,\"rgb(234, 252, 253)\"]],\"opacity\":0.1,\"showscale\":false,\"x\":[2.683699999999998,64.3163],\"y\":[-19.854300000000002,103.8543],\"z\":[[3.068999999999999,3.068999999999999],[3.068999999999999,3.068999999999999]],\"type\":\"surface\"},{\"colorscale\":[[0.0,\"rgb(3, 5, 18)\"],[0.09090909090909091,\"rgb(25, 25, 51)\"],[0.18181818181818182,\"rgb(44, 42, 87)\"],[0.2727272727272727,\"rgb(58, 60, 125)\"],[0.36363636363636365,\"rgb(62, 83, 160)\"],[0.45454545454545453,\"rgb(62, 109, 178)\"],[0.5454545454545454,\"rgb(72, 134, 187)\"],[0.6363636363636364,\"rgb(89, 159, 196)\"],[0.7272727272727273,\"rgb(114, 184, 205)\"],[0.8181818181818182,\"rgb(149, 207, 216)\"],[0.9090909090909091,\"rgb(192, 229, 232)\"],[1.0,\"rgb(234, 252, 253)\"]],\"opacity\":0.1,\"showscale\":false,\"x\":[2.683699999999998,64.3163],\"y\":[-19.854300000000002,103.8543],\"z\":[[63.931,63.931],[63.931,63.931]],\"type\":\"surface\"},{\"colorscale\":[[0.0,\"rgb(3, 5, 18)\"],[0.09090909090909091,\"rgb(25, 25, 51)\"],[0.18181818181818182,\"rgb(44, 42, 87)\"],[0.2727272727272727,\"rgb(58, 60, 125)\"],[0.36363636363636365,\"rgb(62, 83, 160)\"],[0.45454545454545453,\"rgb(62, 109, 178)\"],[0.5454545454545454,\"rgb(72, 134, 187)\"],[0.6363636363636364,\"rgb(89, 159, 196)\"],[0.7272727272727273,\"rgb(114, 184, 205)\"],[0.8181818181818182,\"rgb(149, 207, 216)\"],[0.9090909090909091,\"rgb(192, 229, 232)\"],[1.0,\"rgb(234, 252, 253)\"]],\"opacity\":0.1,\"showscale\":false,\"x\":[-64.3163,-2.683699999999998],\"y\":[-19.854300000000002,103.8543],\"z\":[[3.068999999999999,3.068999999999999],[3.068999999999999,3.068999999999999]],\"type\":\"surface\"},{\"colorscale\":[[0.0,\"rgb(3, 5, 18)\"],[0.09090909090909091,\"rgb(25, 25, 51)\"],[0.18181818181818182,\"rgb(44, 42, 87)\"],[0.2727272727272727,\"rgb(58, 60, 125)\"],[0.36363636363636365,\"rgb(62, 83, 160)\"],[0.45454545454545453,\"rgb(62, 109, 178)\"],[0.5454545454545454,\"rgb(72, 134, 187)\"],[0.6363636363636364,\"rgb(89, 159, 196)\"],[0.7272727272727273,\"rgb(114, 184, 205)\"],[0.8181818181818182,\"rgb(149, 207, 216)\"],[0.9090909090909091,\"rgb(192, 229, 232)\"],[1.0,\"rgb(234, 252, 253)\"]],\"opacity\":0.1,\"showscale\":false,\"x\":[-64.3163,-2.683699999999998],\"y\":[-19.854300000000002,103.8543],\"z\":[[63.931,63.931],[63.931,63.931]],\"type\":\"surface\"},{\"colorscale\":[[0.0,\"rgb(3, 5, 18)\"],[0.09090909090909091,\"rgb(25, 25, 51)\"],[0.18181818181818182,\"rgb(44, 42, 87)\"],[0.2727272727272727,\"rgb(58, 60, 125)\"],[0.36363636363636365,\"rgb(62, 83, 160)\"],[0.45454545454545453,\"rgb(62, 109, 178)\"],[0.5454545454545454,\"rgb(72, 134, 187)\"],[0.6363636363636364,\"rgb(89, 159, 196)\"],[0.7272727272727273,\"rgb(114, 184, 205)\"],[0.8181818181818182,\"rgb(149, 207, 216)\"],[0.9090909090909091,\"rgb(192, 229, 232)\"],[1.0,\"rgb(234, 252, 253)\"]],\"opacity\":0.1,\"showscale\":false,\"x\":[2.683699999999998,64.3163],\"y\":[-19.854300000000002,103.8543],\"z\":[[-63.931,-63.931],[-63.931,-63.931]],\"type\":\"surface\"},{\"colorscale\":[[0.0,\"rgb(3, 5, 18)\"],[0.09090909090909091,\"rgb(25, 25, 51)\"],[0.18181818181818182,\"rgb(44, 42, 87)\"],[0.2727272727272727,\"rgb(58, 60, 125)\"],[0.36363636363636365,\"rgb(62, 83, 160)\"],[0.45454545454545453,\"rgb(62, 109, 178)\"],[0.5454545454545454,\"rgb(72, 134, 187)\"],[0.6363636363636364,\"rgb(89, 159, 196)\"],[0.7272727272727273,\"rgb(114, 184, 205)\"],[0.8181818181818182,\"rgb(149, 207, 216)\"],[0.9090909090909091,\"rgb(192, 229, 232)\"],[1.0,\"rgb(234, 252, 253)\"]],\"opacity\":0.1,\"showscale\":false,\"x\":[2.683699999999998,64.3163],\"y\":[-19.854300000000002,103.8543],\"z\":[[-3.068999999999999,-3.068999999999999],[-3.068999999999999,-3.068999999999999]],\"type\":\"surface\"},{\"colorscale\":[[0.0,\"rgb(3, 5, 18)\"],[0.09090909090909091,\"rgb(25, 25, 51)\"],[0.18181818181818182,\"rgb(44, 42, 87)\"],[0.2727272727272727,\"rgb(58, 60, 125)\"],[0.36363636363636365,\"rgb(62, 83, 160)\"],[0.45454545454545453,\"rgb(62, 109, 178)\"],[0.5454545454545454,\"rgb(72, 134, 187)\"],[0.6363636363636364,\"rgb(89, 159, 196)\"],[0.7272727272727273,\"rgb(114, 184, 205)\"],[0.8181818181818182,\"rgb(149, 207, 216)\"],[0.9090909090909091,\"rgb(192, 229, 232)\"],[1.0,\"rgb(234, 252, 253)\"]],\"opacity\":0.1,\"showscale\":false,\"x\":[-64.3163,-2.683699999999998],\"y\":[-19.854300000000002,103.8543],\"z\":[[-63.931,-63.931],[-63.931,-63.931]],\"type\":\"surface\"},{\"colorscale\":[[0.0,\"rgb(3, 5, 18)\"],[0.09090909090909091,\"rgb(25, 25, 51)\"],[0.18181818181818182,\"rgb(44, 42, 87)\"],[0.2727272727272727,\"rgb(58, 60, 125)\"],[0.36363636363636365,\"rgb(62, 83, 160)\"],[0.45454545454545453,\"rgb(62, 109, 178)\"],[0.5454545454545454,\"rgb(72, 134, 187)\"],[0.6363636363636364,\"rgb(89, 159, 196)\"],[0.7272727272727273,\"rgb(114, 184, 205)\"],[0.8181818181818182,\"rgb(149, 207, 216)\"],[0.9090909090909091,\"rgb(192, 229, 232)\"],[1.0,\"rgb(234, 252, 253)\"]],\"opacity\":0.1,\"showscale\":false,\"x\":[-64.3163,-2.683699999999998],\"y\":[-19.854300000000002,103.8543],\"z\":[[-3.068999999999999,-3.068999999999999],[-3.068999999999999,-3.068999999999999]],\"type\":\"surface\"},{\"marker\":{\"color\":[7.05078125,11.9921875,20.88671875,10.015625,13.96875,30.76953125,16.93359375,11.9921875,16.93359375,10.015625,10.015625,7.05078125,11.9921875,8.0390625,9.02734375,8.0390625,12.98046875,8.0390625,8.0390625,10.015625,10.015625,9.02734375,13.96875,8.0390625,17.921875,12.98046875,9.02734375,18.91015625,14.95703125,14.95703125,9.02734375,16.93359375,9.02734375,37.6875,11.00390625,32.74609375,8.0390625,15.9453125,18.91015625,14.95703125,16.93359375,19.8984375,7.05078125,11.9921875,10.015625,10.015625,12.98046875,9.02734375,6.0625,9.02734375,7.05078125,9.02734375,8.0390625,9.02734375,8.0390625,8.0390625,7.05078125,8.0390625,13.96875,31.7578125,9.02734375,9.02734375,10.015625,10.015625,13.96875,10.015625,11.00390625,14.95703125,13.96875,12.98046875,7.05078125,18.91015625,10.015625,11.00390625,19.8984375,11.00390625,10.015625,11.00390625,14.95703125,24.83984375,18.91015625,8.0390625,15.9453125,12.98046875,11.9921875,19.8984375,21.875,10.015625,15.9453125,17.921875,21.875,12.98046875,8.0390625,11.9921875,16.93359375,8.0390625,23.8515625,8.0390625,14.95703125,21.875,18.91015625,18.91015625,16.93359375,14.95703125,13.96875,8.0390625,9.02734375,14.95703125,13.96875,8.0390625,10.015625,16.93359375,11.00390625,14.95703125,16.93359375,11.9921875,12.98046875,10.015625,34.72265625,12.98046875,34.72265625,9.02734375,33.734375,16.93359375,13.96875,8.0390625,14.95703125,19.8984375,11.00390625,13.96875,16.93359375,15.9453125,16.93359375,12.98046875,19.8984375,14.95703125,17.921875,17.921875,11.9921875,9.02734375,19.8984375,12.98046875,11.00390625,14.95703125,8.0390625,18.91015625,13.96875,21.875,19.8984375,11.00390625,13.96875,18.91015625,20.88671875,13.96875,9.02734375,20.88671875,21.875,14.95703125,7.05078125,21.875,11.9921875,10.015625,11.00390625,13.96875,11.00390625,11.00390625,14.95703125,7.05078125,13.96875,12.98046875,9.02734375,8.0390625,11.9921875,16.93359375,11.9921875,12.98046875,9.02734375,12.98046875,10.015625,9.02734375,7.05078125,9.02734375,7.05078125,10.015625,9.02734375,8.0390625,9.02734375,8.0390625,10.015625,8.0390625,12.98046875,11.00390625,9.02734375,11.00390625,19.8984375,15.9453125,11.00390625,15.9453125,19.8984375,11.00390625,14.95703125,18.91015625,11.9921875,12.98046875,18.91015625,11.00390625,13.96875,20.88671875,18.91015625,19.8984375,10.015625,10.015625,9.02734375,20.88671875,8.0390625,25.828125,12.98046875,11.9921875,51.5234375,9.02734375,21.875,11.9921875,10.015625,20.88671875,13.96875,9.02734375,14.95703125,11.00390625,11.9921875,12.98046875,11.00390625,16.93359375,18.91015625,13.96875,11.9921875,8.0390625,9.02734375,14.95703125,11.9921875,13.96875,9.02734375,9.02734375,11.00390625,9.02734375,8.0390625,7.05078125,11.00390625,9.02734375,19.8984375,9.02734375,15.9453125,14.95703125,52.51171875,14.95703125,34.72265625,8.0390625,9.02734375,24.83984375,9.02734375,11.00390625,29.78125,10.015625,30.76953125,8.0390625,9.02734375,16.93359375,23.8515625,13.96875,21.875,7.05078125,11.00390625,7.05078125,12.98046875,29.78125,11.00390625,19.8984375,7.05078125,9.02734375,22.86328125,11.9921875,31.7578125,8.0390625,13.96875,9.02734375,28.79296875,11.00390625,41.640625,9.02734375,7.05078125,13.96875,25.828125,10.015625,30.76953125,9.02734375,8.0390625,15.9453125,21.875,16.93359375,15.9453125,11.9921875,34.72265625,9.02734375,7.05078125,12.98046875,12.98046875,23.8515625,11.00390625,20.88671875,17.921875,14.95703125,12.98046875,8.0390625,11.00390625,11.9921875,11.9921875,31.7578125,11.00390625,19.8984375,11.00390625,20.88671875,10.015625,27.8046875,10.015625,11.9921875,24.83984375,13.96875,28.79296875,8.0390625,14.95703125,20.88671875,12.98046875,23.8515625,8.0390625,9.02734375,8.0390625,32.74609375,10.015625,24.83984375,11.00390625,11.9921875,26.81640625,10.015625,21.875,9.02734375,13.96875,9.02734375,26.81640625,9.02734375,11.9921875,9.02734375,16.93359375,11.00390625,30.76953125,9.02734375,8.0390625,10.015625,23.8515625,12.98046875,25.828125,9.02734375,9.02734375,28.79296875,11.00390625,25.828125,8.0390625,10.015625,15.9453125,7.05078125,19.8984375,9.02734375,11.9921875,26.81640625,11.00390625,22.86328125,8.0390625,15.9453125,21.875,11.00390625,13.96875,12.98046875,28.79296875,11.9921875,11.00390625,8.0390625,9.02734375,12.98046875,23.8515625,11.00390625,17.921875,13.96875,16.93359375,14.95703125,20.88671875,17.921875,10.015625,11.9921875,11.00390625,26.81640625,11.00390625,11.9921875,8.0390625,12.98046875,23.8515625,20.88671875,19.8984375,11.9921875,12.98046875,8.0390625,9.02734375,18.91015625,11.9921875,28.79296875,8.0390625,10.015625,7.05078125,16.93359375,13.96875,9.02734375,11.00390625,14.95703125,13.96875,11.00390625,10.015625,7.05078125,11.00390625,38.67578125,10.015625,28.79296875,9.02734375,8.0390625,17.921875,11.9921875,11.00390625,21.875,11.9921875,11.9921875,16.93359375,13.96875,18.91015625,12.98046875,23.8515625,8.0390625,15.9453125,18.91015625,16.93359375,13.96875,11.00390625,13.96875,29.78125,9.02734375,6.0625,30.76953125,7.05078125,24.83984375,22.86328125,10.015625,16.93359375,27.8046875,11.9921875,9.02734375,8.0390625,12.98046875,19.8984375,11.9921875,20.88671875,15.9453125,11.00390625,13.96875,23.8515625,11.9921875,11.9921875,9.02734375,13.96875,23.8515625,11.9921875,16.93359375,9.02734375,11.9921875,11.9921875,14.95703125,10.015625,11.9921875,11.9921875,9.02734375,12.98046875,24.83984375,10.015625,17.921875,11.00390625,8.0390625,18.91015625,12.98046875,11.00390625,15.9453125,8.0390625,9.02734375,8.0390625,11.00390625,26.81640625,9.02734375,16.93359375,9.02734375,12.98046875,10.015625,23.8515625,20.88671875,8.0390625,11.00390625,11.00390625,26.81640625,18.91015625,13.96875,10.015625,19.8984375,11.9921875,12.98046875,11.9921875,9.02734375,13.96875,12.98046875,24.83984375,9.02734375,9.02734375,16.93359375,51.5234375,11.9921875,11.9921875,23.8515625,14.95703125,12.98046875,12.98046875,9.02734375,28.79296875,10.015625,12.98046875,21.875,9.02734375,15.9453125,20.88671875,7.05078125,12.98046875,10.015625,13.96875,11.00390625,11.00390625,26.81640625,9.02734375,17.921875,13.96875,11.9921875,11.00390625,12.98046875,11.00390625,12.98046875,8.0390625,13.96875,16.93359375,10.015625,28.79296875,7.05078125,11.9921875,9.02734375,15.9453125,21.875,12.98046875,8.0390625,18.91015625,16.93359375,29.78125,11.00390625,12.98046875,22.86328125,11.00390625,8.0390625,16.93359375,21.875,14.95703125,7.05078125,10.015625,13.96875,15.9453125,7.05078125,9.02734375,11.00390625,18.91015625,8.0390625,10.015625,16.93359375,15.9453125,16.93359375,8.0390625,13.96875,19.8984375,11.9921875,11.00390625,23.8515625,8.0390625,12.98046875,9.02734375,11.00390625,14.95703125,12.98046875,17.921875,18.91015625,12.98046875,11.9921875,13.96875,19.8984375,9.02734375,14.95703125,19.8984375,18.91015625,17.921875,14.95703125,20.88671875,9.02734375,12.98046875,15.9453125,17.921875,19.8984375,8.0390625,15.9453125,9.02734375,10.015625,14.95703125,17.921875,11.9921875,22.86328125,17.921875,14.95703125,14.95703125,13.96875,21.875,11.00390625,15.9453125,13.96875,11.00390625,17.921875,18.91015625,8.0390625,17.921875,15.9453125,19.8984375,11.9921875,21.875,16.93359375,12.98046875,12.98046875,16.93359375,22.86328125,19.8984375,17.921875,9.02734375,27.8046875,28.79296875,26.81640625,31.7578125,29.78125,29.78125,33.734375,33.734375,21.875,15.9453125,8.0390625,14.95703125,10.015625,9.02734375,10.015625,73.265625,8.0390625,8.0390625,9.02734375,8.0390625,11.00390625,9.02734375,13.96875,11.9921875,24.83984375,14.95703125,11.00390625,28.79296875,20.88671875,12.98046875,10.015625,28.79296875,17.921875,17.921875,9.02734375,26.81640625,15.9453125,15.9453125,20.88671875,19.8984375,8.0390625,28.79296875,19.8984375,11.00390625,22.86328125,21.875,10.015625,11.00390625,22.86328125,8.0390625,18.91015625,21.875,11.9921875,10.015625,13.96875,30.76953125,77.21875,10.015625,24.83984375,136.515625,88.08984375,23.8515625,11.00390625,20.88671875,70.30078125,39.6640625,10.015625,17.921875,45.59375,33.734375,10.015625,16.93359375,29.78125,31.7578125,9.02734375,16.93359375,18.91015625,27.8046875,8.0390625,7.05078125,17.921875,9.02734375,8.0390625,16.93359375,15.9453125,21.875,20.88671875,19.8984375,9.02734375,11.00390625,10.015625,11.00390625,10.015625,20.88671875,8.0390625,13.96875,14.95703125,8.0390625,10.015625,25.828125,9.02734375,10.015625,20.88671875,14.95703125,10.015625,17.921875,9.02734375,19.8984375,8.0390625,20.88671875,11.00390625,13.96875,11.00390625,13.96875,14.95703125,10.015625,16.93359375,7.05078125,11.9921875,33.734375,8.0390625,16.93359375,17.921875,14.95703125,7.05078125,10.015625,22.86328125,7.05078125,10.015625,13.96875,13.96875,9.02734375,22.86328125,18.91015625,21.875,8.0390625,8.0390625,9.02734375,17.921875,11.00390625,11.9921875,10.015625,13.96875,14.95703125,7.05078125,16.93359375,11.9921875,13.96875,17.921875,17.921875,11.00390625,11.00390625,22.86328125,19.8984375,10.015625,11.9921875,10.015625,8.0390625,12.98046875,21.875,17.921875,14.95703125,19.8984375,19.8984375,14.95703125,9.02734375,15.9453125,11.00390625,8.0390625,7.05078125,11.9921875,20.88671875,22.86328125,22.86328125,11.9921875,8.0390625,20.88671875,12.98046875,10.015625,15.9453125,17.921875,11.9921875,15.9453125,13.96875,9.02734375,13.96875,17.921875,11.9921875,17.921875,16.93359375,15.9453125,13.96875,11.9921875,10.015625,13.96875,10.015625,14.95703125,28.79296875,12.98046875,39.6640625,17.921875,11.9921875,16.93359375,9.02734375,14.95703125,17.921875,22.86328125,16.93359375,13.96875,10.015625,11.9921875,34.72265625,7.05078125,13.96875,11.9921875,9.02734375,17.921875,15.9453125,18.91015625,9.02734375,8.0390625,15.9453125,7.05078125,16.93359375,13.96875,11.00390625,12.98046875,11.9921875,17.921875,8.0390625,12.98046875,17.921875,9.02734375,18.91015625,13.96875,9.02734375,15.9453125,13.96875,9.02734375,16.93359375,15.9453125,7.05078125,9.02734375,17.921875,16.93359375,18.91015625,10.015625,17.921875,15.9453125,11.9921875,8.0390625,8.0390625,18.91015625,31.7578125,10.015625,21.875,14.95703125,10.015625,11.9921875,13.96875,20.88671875,13.96875,7.05078125,9.02734375,14.95703125,13.96875,11.9921875,8.0390625,17.921875,9.02734375,15.9453125,16.93359375,16.93359375,18.91015625,10.015625,14.95703125,9.02734375,15.9453125,14.95703125,22.86328125,22.86328125,15.9453125,10.015625,12.98046875,17.921875,11.00390625,7.05078125,15.9453125,14.95703125,13.96875,39.6640625,12.98046875,11.00390625,11.00390625,11.00390625,15.9453125,11.9921875,8.0390625,8.0390625,9.02734375,11.9921875,8.0390625,15.9453125,17.921875,18.91015625,17.921875,7.05078125,18.91015625,18.91015625,13.96875,10.015625,10.015625,16.93359375,20.88671875,17.921875,11.9921875,12.98046875,18.91015625,11.9921875,8.0390625,11.00390625,9.02734375,11.00390625,17.921875,15.9453125,17.921875,14.95703125,8.0390625,11.9921875,12.98046875,8.0390625,17.921875,19.8984375,13.96875,9.02734375,23.8515625,21.875,11.9921875,11.9921875,13.96875,10.015625,20.88671875,10.015625,17.921875,11.9921875,12.98046875,11.9921875,8.0390625,11.9921875,11.00390625,14.95703125,7.05078125,13.96875,10.015625,16.93359375,9.02734375,13.96875,8.0390625,9.02734375,8.0390625,11.9921875,19.8984375,14.95703125,10.015625,13.96875,13.96875,14.95703125,8.0390625,8.0390625,11.00390625,26.81640625,13.96875,10.015625,26.81640625,12.98046875,24.83984375,10.015625,7.05078125,9.02734375,12.98046875,13.96875,9.02734375,12.98046875,11.00390625,11.9921875,15.9453125,8.0390625,17.921875,17.921875,14.95703125,16.93359375,14.95703125,12.98046875,9.02734375,14.95703125,9.02734375,11.9921875,37.6875,10.015625,37.6875,31.7578125,12.98046875,36.69921875,8.0390625,11.9921875,13.96875,8.0390625,11.00390625,11.00390625,10.015625,11.9921875,18.91015625,21.875,13.96875,9.02734375,24.83984375,11.00390625,12.98046875,11.9921875,7.05078125,17.921875,8.0390625,13.96875,11.9921875,9.02734375,16.93359375,18.91015625,19.8984375,14.95703125,26.81640625,10.015625,17.921875,26.81640625,11.9921875,9.02734375,11.9921875,11.00390625,7.05078125,15.9453125,9.02734375,8.0390625,15.9453125,12.98046875,16.93359375,11.9921875,10.015625,11.9921875,11.9921875,10.015625,8.0390625,8.0390625,7.05078125,8.0390625,7.05078125,8.0390625,21.875,14.95703125,7.05078125,8.0390625,8.0390625,11.00390625,11.00390625,13.96875,12.98046875,13.96875,10.015625,9.02734375,15.9453125,14.95703125,17.921875,11.00390625,7.05078125,10.015625,8.0390625,17.921875,11.9921875,9.02734375,13.96875,19.8984375,20.88671875,15.9453125,11.9921875,10.015625,9.02734375,12.98046875,15.9453125,13.96875,14.95703125,11.9921875,9.02734375,22.86328125,11.9921875,23.8515625,17.921875,18.91015625,9.02734375,14.95703125,13.96875,9.02734375,9.02734375,13.96875,12.98046875,9.02734375,21.875,11.9921875,7.05078125,9.02734375,8.0390625,9.02734375,10.015625,9.02734375,10.015625,11.9921875,14.95703125,15.9453125,16.93359375,17.921875,11.00390625,10.015625,18.91015625,12.98046875,9.02734375,14.95703125,17.921875,20.88671875,14.95703125,19.8984375,20.88671875,13.96875,13.96875,14.95703125,9.02734375,15.9453125,17.921875,16.93359375,10.015625,15.9453125,21.875,14.95703125,13.96875,9.02734375,13.96875,9.02734375,10.015625,12.98046875,18.91015625,10.015625,37.6875,12.98046875,35.7109375,8.0390625,32.74609375,13.96875,11.00390625,12.98046875,11.9921875,12.98046875,11.9921875,11.9921875,11.9921875,13.96875,19.8984375,13.96875,9.02734375,18.91015625,9.02734375,15.9453125,13.96875,8.0390625,14.95703125,20.88671875,9.02734375,12.98046875,12.98046875,11.9921875,17.921875,11.9921875,9.02734375,12.98046875,9.02734375,11.00390625,12.98046875,16.93359375,12.98046875,10.015625,12.98046875,14.95703125,15.9453125,11.9921875,15.9453125,10.015625,15.9453125,9.02734375,6.0625,10.015625,11.00390625,9.02734375,9.02734375,7.05078125,7.05078125,9.02734375,12.98046875,12.98046875,16.93359375,11.00390625,21.875,14.95703125,19.8984375,10.015625,7.05078125,7.05078125,10.015625,10.015625,18.91015625,8.0390625,10.015625,10.015625,15.9453125,10.015625,8.0390625,8.0390625,35.7109375,9.02734375,8.0390625,8.0390625,13.96875,10.015625,10.015625,8.0390625,11.9921875,8.0390625,8.0390625,16.93359375,11.00390625,17.921875,17.921875,16.93359375,11.00390625,9.02734375,33.734375,9.02734375,11.9921875,11.00390625,11.9921875,13.96875,19.8984375,11.00390625,9.02734375,10.015625,12.98046875,13.96875,18.91015625,13.96875,16.93359375,12.98046875,13.96875,20.88671875,8.0390625,14.95703125,23.8515625,24.83984375,11.00390625,17.921875,19.8984375,17.921875,8.0390625,15.9453125,21.875,11.9921875,14.95703125,15.9453125,15.9453125,12.98046875,15.9453125,11.9921875,10.015625,12.98046875,9.02734375,16.93359375,11.9921875,13.96875,8.0390625,14.95703125,8.0390625,21.875,11.9921875,11.00390625,15.9453125,16.93359375,13.96875,7.05078125,18.91015625,14.95703125,11.9921875,9.02734375,8.0390625,11.9921875,18.91015625,11.00390625,11.9921875,20.88671875,10.015625,11.9921875,17.921875,14.95703125,8.0390625,13.96875,16.93359375,11.9921875,11.00390625,9.02734375,14.95703125,13.96875,9.02734375,20.88671875,16.93359375,16.93359375,18.91015625,17.921875,13.96875,8.0390625,15.9453125,19.8984375,12.98046875,11.9921875,14.95703125,38.67578125,10.015625,28.79296875,13.96875,8.0390625,32.74609375,13.96875,13.96875,29.78125,10.015625,23.8515625,10.015625,12.98046875,11.00390625,18.91015625,11.9921875,9.02734375,11.00390625,33.734375,11.00390625,27.8046875,8.0390625,40.65234375,11.00390625,17.921875,11.00390625,11.9921875,20.88671875,12.98046875,8.0390625,8.0390625,9.02734375,8.0390625,9.02734375,6.0625,7.05078125,13.96875,16.93359375,20.88671875,32.74609375,7.05078125,10.015625,8.0390625,9.02734375,11.00390625,8.0390625,7.05078125,9.02734375,8.0390625,9.02734375,9.02734375,8.0390625,17.921875,9.02734375,10.015625,14.95703125,13.96875,12.98046875,12.98046875,11.9921875,8.0390625,9.02734375,11.00390625,11.00390625,10.015625,7.05078125,12.98046875,8.0390625,14.95703125,13.96875,9.02734375,14.95703125,13.96875,15.9453125,11.00390625,11.9921875,12.98046875,42.62890625,9.02734375,8.0390625,10.015625,15.9453125,9.02734375,13.96875,10.015625,16.93359375,8.0390625,12.98046875,13.96875,10.015625,11.9921875,11.9921875,10.015625,13.96875,12.98046875,11.9921875,12.98046875,20.88671875,11.00390625,13.96875,10.015625,7.05078125,40.65234375,13.96875,31.7578125,9.02734375,12.98046875,17.921875,18.91015625,9.02734375,11.9921875,16.93359375,7.05078125,10.015625,20.88671875,8.0390625,11.00390625,10.015625,25.828125,16.93359375,17.921875,12.98046875,7.05078125,21.875,11.00390625,8.0390625,9.02734375,15.9453125,11.00390625,12.98046875,11.9921875,11.00390625,11.00390625,6.0625,8.0390625,11.9921875,11.00390625,15.9453125,11.00390625,18.91015625,13.96875,9.02734375,11.9921875,12.98046875,8.0390625,19.8984375,7.05078125,18.91015625,8.0390625,11.9921875,11.9921875,11.00390625,6.0625,8.0390625,11.00390625,11.9921875,11.9921875,25.828125,11.00390625,13.96875,11.00390625,11.00390625,11.00390625,11.00390625,8.0390625,13.96875,19.8984375,12.98046875,7.05078125,7.05078125,16.93359375,11.9921875,31.7578125,8.0390625,17.921875,10.015625,15.9453125,9.02734375,31.7578125,11.00390625,34.72265625,11.00390625,31.7578125,10.015625,29.78125,8.0390625,24.83984375,15.9453125,9.02734375,23.8515625,10.015625,11.9921875,9.02734375,16.93359375,9.02734375,15.9453125,10.015625,12.98046875,9.02734375,15.9453125,10.015625,14.95703125,13.96875,11.00390625,14.95703125,9.02734375,11.00390625,11.00390625,18.91015625,17.921875,16.93359375,8.0390625,17.921875,18.91015625,13.96875,11.00390625,11.9921875,11.00390625,21.875,13.96875,11.9921875,9.02734375,17.921875,28.79296875,18.91015625,14.95703125,7.05078125,14.95703125,8.0390625,16.93359375,13.96875,13.96875,16.93359375,7.05078125,19.8984375,11.00390625,13.96875,9.02734375,16.93359375,12.98046875,11.00390625,21.875,14.95703125,6.0625,15.9453125,14.95703125,8.0390625,12.98046875,11.9921875,14.95703125,11.9921875,14.95703125,11.9921875,12.98046875,13.96875,15.9453125,13.96875,21.875,14.95703125,19.8984375,19.8984375,18.91015625,15.9453125,17.921875,13.96875,12.98046875,11.00390625,14.95703125,15.9453125,19.8984375,13.96875,8.0390625,13.96875,8.0390625,20.88671875,15.9453125,9.02734375,13.96875,11.00390625,11.00390625,11.00390625,12.98046875,14.95703125,9.02734375,24.83984375,10.015625,15.9453125,11.9921875,23.8515625,11.00390625,20.88671875,10.015625,11.9921875,13.96875,9.02734375,13.96875,15.9453125,12.98046875,10.015625,8.0390625,15.9453125,10.015625,15.9453125,13.96875,11.00390625,15.9453125,16.93359375,16.93359375,7.05078125,15.9453125,11.00390625,11.9921875,20.88671875,10.015625,17.921875,12.98046875,13.96875,11.00390625,12.98046875,11.00390625,12.98046875,13.96875,8.0390625,14.95703125,10.015625,19.8984375,14.95703125,19.8984375,9.02734375,12.98046875,11.00390625,31.7578125,24.83984375,10.015625,11.00390625,16.93359375,10.015625,15.9453125,10.015625,11.9921875,17.921875,20.88671875,9.02734375,14.95703125,7.05078125,29.78125,15.9453125,29.78125,11.00390625,11.9921875,8.0390625,15.9453125,10.015625,11.00390625,12.98046875,8.0390625,19.8984375,13.96875,10.015625,18.91015625,17.921875,12.98046875,11.00390625,10.015625,13.96875,15.9453125,14.95703125,16.93359375,16.93359375,18.91015625,13.96875,8.0390625,19.8984375,19.8984375,11.9921875,11.00390625,10.015625,13.96875,13.96875,14.95703125,14.95703125,11.9921875,11.9921875,9.02734375,9.02734375,8.0390625,8.0390625,7.05078125,7.05078125,7.05078125,7.05078125,9.02734375],\"size\":3,\"symbol\":\"square\"},\"mode\":\"markers\",\"name\":\"larpix packets\",\"opacity\":1.0,\"showlegend\":true,\"visible\":\"legendonly\",\"x\":[41.7029,36.3821,53.2313,53.67470000000001,11.5517,55.448299999999996,55.448299999999996,55.448299999999996,55.448299999999996,55.0049,55.448299999999996,55.448299999999996,12.881899999999996,47.0237,47.9105,48.7973,49.6841,50.1275,50.1275,50.5709,51.014300000000006,51.014300000000006,51.4577,51.4577,51.9011,52.344500000000004,52.344500000000004,52.7879,53.2313,53.67470000000001,54.118100000000005,54.118100000000005,54.5615,54.5615,55.0049,55.0049,55.448299999999996,55.448299999999996,55.8917,56.3351,56.77850000000001,57.221900000000005,57.6653,57.6653,58.1087,58.552099999999996,58.99550000000001,59.438900000000004,59.438900000000004,59.88230000000001,60.325700000000005,62.5427,6.6742999999999935,7.117699999999997,8.447899999999999,11.108299999999996,11.995099999999997,12.4385,12.881899999999996,12.881899999999996,13.325299999999999,13.768699999999999,14.212099999999998,14.655499999999998,15.098899999999997,15.542300000000001,15.9857,16.4291,16.8725,17.3159,17.3159,17.7593,18.2027,18.2027,18.646099999999997,19.089499999999997,19.089499999999997,19.5329,19.5329,19.976300000000002,20.4197,20.8631,20.8631,21.3065,21.3065,21.7499,22.1933,22.636699999999998,22.636699999999998,23.080099999999998,23.5235,23.9669,23.9669,24.4103,24.4103,24.8537,24.8537,25.2971,25.2971,25.740499999999997,26.1839,26.6273,27.0707,27.514099999999996,27.9575,27.9575,28.4009,28.4009,28.844299999999997,28.844299999999997,29.287699999999994,29.287699999999994,29.73109999999999,29.73109999999999,30.174500000000002,30.6179,30.6179,31.061299999999996,31.061299999999996,31.504700000000003,31.504700000000003,31.9481,31.9481,31.9481,32.39149999999999,32.83489999999999,32.83489999999999,33.2783,33.7217,33.7217,34.16510000000001,34.16510000000001,34.60850000000001,34.60850000000001,35.0519,35.4953,35.938700000000004,36.3821,36.8255,36.8255,37.26890000000001,37.712300000000006,37.712300000000006,38.1557,38.1557,38.5991,39.042500000000004,39.4859,39.9293,40.372699999999995,40.372699999999995,40.8161,41.2595,41.7029,41.7029,42.1463,42.5897,43.033100000000005,43.033100000000005,43.4765,43.9199,43.9199,44.3633,44.3633,44.8067,44.8067,45.250099999999996,45.250099999999996,45.6935,46.136900000000004,46.136900000000004,46.5803,46.5803,47.0237,47.4671,47.9105,48.353899999999996,48.7973,49.240700000000004,49.6841,50.1275,50.5709,55.0049,58.1087,58.552099999999996,58.99550000000001,59.438900000000004,59.88230000000001,60.325700000000005,60.325700000000005,60.7691,61.2125,61.2125,61.655899999999995,62.09930000000001,62.5427,62.5427,62.9861,63.429500000000004,63.8729,63.8729,64.3163,2.683699999999999,3.127099999999996,3.5704999999999982,4.013900000000001,4.013900000000001,4.457299999999998,4.900699999999995,5.344099999999997,5.7875,5.7875,6.2308999999999966,6.2308999999999966,6.6742999999999935,6.6742999999999935,6.6742999999999935,7.117699999999997,7.117699999999997,7.561099999999999,7.561099999999999,8.004499999999997,8.004499999999997,8.447899999999999,8.891299999999998,9.334699999999998,9.334699999999998,9.778099999999998,9.778099999999998,10.221499999999997,10.221499999999997,10.664899999999998,11.108299999999996,11.5517,11.995099999999997,11.995099999999997,12.4385,12.4385,12.881899999999996,13.325299999999999,13.768699999999999,14.212099999999998,14.655499999999998,15.098899999999997,15.542300000000001,16.4291,31.9481,7.117699999999997,7.117699999999997,7.561099999999999,7.561099999999999,64.3163,64.3163,64.3163,64.3163,63.8729,64.3163,64.3163,62.9861,63.429500000000004,63.429500000000004,63.8729,63.8729,64.3163,62.09930000000001,62.5427,62.5427,62.9861,62.9861,63.429500000000004,61.2125,61.2125,61.655899999999995,61.655899999999995,62.09930000000001,62.09930000000001,59.88230000000001,60.325700000000005,60.325700000000005,60.7691,60.7691,61.2125,61.2125,59.438900000000004,59.438900000000004,59.88230000000001,59.88230000000001,60.325700000000005,58.1087,58.552099999999996,58.552099999999996,58.99550000000001,58.99550000000001,59.438900000000004,57.221900000000005,57.6653,57.6653,58.1087,58.1087,62.09930000000001,62.09930000000001,62.5427,56.3351,56.3351,56.77850000000001,56.77850000000001,57.221900000000005,57.221900000000005,62.5427,62.5427,62.9861,50.5709,55.448299999999996,55.448299999999996,55.8917,55.8917,56.3351,56.3351,54.5615,54.5615,55.0049,55.0049,55.448299999999996,53.67470000000001,53.67470000000001,54.118100000000005,54.118100000000005,54.5615,52.7879,52.7879,53.2313,53.2313,53.67470000000001,51.4577,51.9011,51.9011,52.344500000000004,52.344500000000004,50.5709,51.014300000000006,51.014300000000006,51.4577,51.4577,49.6841,49.6841,50.1275,50.1275,50.5709,50.5709,48.7973,48.7973,49.240700000000004,49.240700000000004,49.6841,49.6841,47.9105,47.9105,48.353899999999996,48.353899999999996,48.7973,47.0237,47.0237,47.4671,47.4671,47.9105,63.429500000000004,63.429500000000004,63.8729,64.3163,45.6935,46.136900000000004,46.136900000000004,46.5803,46.5803,47.0237,62.09930000000001,62.5427,62.9861,62.9861,63.429500000000004,63.429500000000004,63.8729,63.8729,44.8067,44.8067,45.250099999999996,45.250099999999996,45.6935,45.6935,59.88230000000001,60.325700000000005,60.7691,61.2125,61.655899999999995,43.9199,43.9199,44.3633,44.3633,44.8067,44.8067,57.6653,58.1087,58.1087,58.552099999999996,58.99550000000001,59.438900000000004,59.438900000000004,59.88230000000001,43.033100000000005,43.033100000000005,43.4765,43.4765,43.9199,43.9199,55.448299999999996,55.8917,56.3351,56.3351,56.77850000000001,56.77850000000001,57.221900000000005,57.221900000000005,57.6653,58.1087,42.1463,42.1463,42.5897,42.5897,43.033100000000005,53.2313,53.67470000000001,54.118100000000005,54.118100000000005,54.5615,55.0049,55.0049,55.448299999999996,41.2595,41.2595,41.7029,41.7029,42.1463,51.4577,51.9011,52.344500000000004,52.7879,52.7879,53.2313,53.2313,53.67470000000001,40.372699999999995,40.372699999999995,40.8161,40.8161,49.6841,50.1275,50.1275,50.5709,51.014300000000006,51.014300000000006,51.4577,39.4859,39.4859,39.9293,39.9293,47.9105,48.353899999999996,48.353899999999996,48.7973,49.240700000000004,49.240700000000004,38.1557,38.5991,38.5991,39.042500000000004,39.042500000000004,46.136900000000004,46.5803,46.5803,47.0237,47.0237,47.4671,47.4671,37.26890000000001,37.712300000000006,37.712300000000006,38.1557,38.1557,44.3633,44.8067,44.8067,45.250099999999996,45.250099999999996,45.6935,46.136900000000004,36.3821,36.3821,36.8255,36.8255,37.26890000000001,37.26890000000001,42.5897,43.033100000000005,43.033100000000005,43.4765,43.9199,44.3633,35.4953,35.938700000000004,35.938700000000004,36.3821,41.2595,41.2595,41.7029,42.1463,42.1463,42.5897,34.60850000000001,34.60850000000001,35.0519,35.0519,35.4953,35.4953,39.4859,39.4859,39.9293,39.9293,40.372699999999995,40.8161,33.7217,33.7217,34.16510000000001,34.16510000000001,34.60850000000001,37.26890000000001,37.712300000000006,38.1557,38.1557,38.5991,39.042500000000004,39.042500000000004,39.4859,32.83489999999999,32.83489999999999,33.2783,33.2783,33.7217,35.4953,35.938700000000004,35.938700000000004,36.3821,36.3821,36.8255,36.8255,37.26890000000001,31.9481,31.9481,32.39149999999999,32.39149999999999,32.83489999999999,33.2783,33.7217,33.7217,34.16510000000001,34.60850000000001,34.60850000000001,35.0519,58.1087,58.1087,58.552099999999996,31.061299999999996,31.061299999999996,31.504700000000003,31.504700000000003,31.504700000000003,31.504700000000003,31.9481,31.9481,32.39149999999999,32.39149999999999,32.83489999999999,32.83489999999999,33.2783,58.552099999999996,58.99550000000001,59.438900000000004,29.287699999999994,29.73109999999999,29.73109999999999,30.174500000000002,30.174500000000002,30.174500000000002,30.174500000000002,30.6179,30.6179,30.6179,30.6179,31.061299999999996,31.061299999999996,59.438900000000004,59.88230000000001,59.88230000000001,27.514099999999996,27.9575,28.4009,28.4009,28.844299999999997,28.844299999999997,29.287699999999994,29.287699999999994,29.287699999999994,29.73109999999999,29.73109999999999,60.325700000000005,60.325700000000005,60.7691,25.740499999999997,25.740499999999997,26.1839,26.6273,27.0707,27.0707,27.514099999999996,27.514099999999996,27.9575,27.9575,28.4009,28.4009,28.4009,28.4009,28.844299999999997,28.844299999999997,28.844299999999997,28.844299999999997,29.287699999999994,29.287699999999994,29.73109999999999,29.73109999999999,30.174500000000002,30.174500000000002,30.6179,30.6179,31.061299999999996,31.061299999999996,31.504700000000003,31.9481,31.9481,32.39149999999999,32.39149999999999,32.83489999999999,33.2783,33.7217,33.7217,34.16510000000001,34.60850000000001,35.0519,35.4953,35.938700000000004,36.3821,36.8255,37.26890000000001,37.712300000000006,38.1557,60.7691,60.7691,61.2125,21.7499,21.7499,21.7499,22.1933,22.636699999999998,23.080099999999998,23.5235,23.5235,23.9669,23.9669,24.4103,24.4103,24.4103,24.8537,24.8537,24.8537,24.8537,25.2971,25.2971,25.2971,25.2971,25.740499999999997,25.740499999999997,25.740499999999997,26.1839,26.1839,26.1839,26.6273,26.6273,26.6273,27.0707,27.0707,27.0707,27.514099999999996,27.514099999999996,27.514099999999996,27.9575,27.9575,61.2125,5.7875,21.7499,21.7499,21.7499,21.7499,22.1933,22.1933,22.1933,22.1933,22.1933,22.636699999999998,22.636699999999998,22.636699999999998,22.636699999999998,23.080099999999998,23.080099999999998,23.080099999999998,23.080099999999998,23.5235,23.5235,23.5235,23.5235,23.9669,23.9669,23.9669,23.9669,24.4103,24.4103,24.4103,24.8537,25.2971,48.7973,49.240700000000004,61.655899999999995,5.7875,5.7875,21.7499,22.1933,22.1933,22.636699999999998,23.080099999999998,23.080099999999998,23.5235,23.5235,23.9669,23.9669,24.4103,24.4103,24.4103,24.8537,24.8537,24.8537,25.2971,25.2971,25.740499999999997,25.740499999999997,26.1839,26.1839,26.6273,26.6273,27.0707,27.0707,27.514099999999996,27.514099999999996,27.9575,27.9575,28.4009,28.4009,28.844299999999997,28.844299999999997,29.287699999999994,29.73109999999999,30.174500000000002,62.09930000000001,62.09930000000001,62.5427,25.2971,25.2971,25.740499999999997,25.740499999999997,26.1839,26.6273,27.0707,27.9575,28.4009,29.73109999999999,30.174500000000002,30.6179,30.6179,31.061299999999996,31.061299999999996,31.504700000000003,31.504700000000003,31.9481,32.39149999999999,32.39149999999999,32.83489999999999,33.2783,33.7217,33.7217,34.16510000000001,34.60850000000001,35.0519,35.0519,35.4953,35.938700000000004,62.5427,62.5427,62.9861,27.514099999999996,27.9575,28.4009,28.4009,28.844299999999997,28.844299999999997,29.287699999999994,29.287699999999994,29.73109999999999,35.938700000000004,36.3821,36.8255,37.26890000000001,37.712300000000006,37.712300000000006,38.1557,38.5991,38.5991,39.042500000000004,39.4859,39.9293,39.9293,40.372699999999995,40.372699999999995,40.8161,41.2595,41.7029,63.429500000000004,63.8729,63.8729,64.3163,29.73109999999999,29.73109999999999,30.174500000000002,30.174500000000002,30.6179,30.6179,31.061299999999996,31.061299999999996,31.504700000000003,41.7029,42.1463,42.5897,42.5897,43.033100000000005,43.4765,43.9199,44.3633,44.3633,44.8067,44.8067,45.250099999999996,45.250099999999996,45.6935,45.6935,46.136900000000004,46.5803,47.0237,47.4671,31.061299999999996,31.9481,31.9481,32.39149999999999,32.83489999999999,32.83489999999999,33.2783,33.2783,33.7217,44.3633,44.8067,44.8067,47.4671,47.9105,48.353899999999996,48.353899999999996,48.7973,49.240700000000004,49.240700000000004,49.6841,50.1275,50.1275,50.5709,50.5709,51.014300000000006,51.4577,51.9011,51.9011,52.344500000000004,52.344500000000004,52.7879,53.2313,61.2125,61.2125,61.655899999999995,34.16510000000001,34.60850000000001,34.60850000000001,35.0519,35.0519,35.4953,35.938700000000004,36.8255,52.7879,53.2313,53.67470000000001,54.118100000000005,54.118100000000005,54.5615,55.0049,55.0049,55.448299999999996,55.8917,56.3351,56.77850000000001,56.77850000000001,57.221900000000005,57.221900000000005,57.6653,58.1087,58.552099999999996,58.99550000000001,59.438900000000004,59.438900000000004,59.88230000000001,60.325700000000005,35.938700000000004,36.3821,36.3821,36.8255,36.8255,36.8255,37.26890000000001,37.26890000000001,37.712300000000006,37.712300000000006,38.1557,59.88230000000001,60.325700000000005,60.325700000000005,60.7691,60.7691,61.2125,61.655899999999995,62.09930000000001,62.5427,62.9861,62.9861,63.429500000000004,63.8729,63.8729,64.3163,64.3163,38.5991,39.042500000000004,39.4859,39.4859,39.9293,40.372699999999995,40.372699999999995,40.8161,40.8161,41.2595,41.2595,41.7029,41.7029,42.1463,42.1463,42.5897,42.5897,43.033100000000005,43.033100000000005,43.4765,43.9199,43.9199,44.3633,44.8067,45.250099999999996,45.250099999999996,45.6935,45.6935,46.136900000000004,46.5803,46.5803,47.0237,47.0237,47.4671,47.4671,47.9105,47.9105,48.353899999999996,48.353899999999996,48.7973,48.7973,49.240700000000004,49.240700000000004,49.6841,49.6841,50.1275,50.1275,50.1275,50.5709,51.014300000000006,51.014300000000006,51.4577,51.4577,51.9011,51.9011,52.344500000000004,52.344500000000004,52.7879,53.2313,53.2313,53.67470000000001,-64.3163,-64.3163,-63.8729,-58.99550000000001,-58.552099999999996,-64.3163,-63.8729,-63.429500000000004,-63.429500000000004,-62.9861,-62.9861,-62.5427,-62.5427,-62.09930000000001,-61.655899999999995,-61.2125,-61.2125,-60.7691,-60.325700000000005,-60.325700000000005,-59.88230000000001,-59.88230000000001,-59.438900000000004,-59.438900000000004,-58.99550000000001,-58.99550000000001,-58.99550000000001,-58.552099999999996,-58.552099999999996,-58.1087,-58.1087,-57.6653,-57.6653,-57.221900000000005,-57.221900000000005,-56.77850000000001,-56.77850000000001,-56.3351,-55.8917,-55.448299999999996,-55.0049,-55.0049,-54.5615,-54.5615,-54.118100000000005,-54.118100000000005,-53.67470000000001,-53.2313,-53.2313,-52.7879,-52.7879,-52.344500000000004,-51.9011,-51.4577,-51.014300000000006,-50.5709,-50.1275,-50.1275,-50.1275,-50.1275,-49.6841,-49.6841,-49.240700000000004,-49.240700000000004,-48.7973,-48.353899999999996,-48.353899999999996,-47.9105,-47.4671,-47.0237,-47.0237,-46.5803,-46.136900000000004,-45.6935,-45.250099999999996,-44.8067,-44.3633,-43.4765,-50.5709,-50.5709,-50.1275,-50.1275,-50.1275,-47.4671,-47.0237,-46.5803,-46.136900000000004,-45.250099999999996,-44.8067,-44.3633,-43.9199,-43.4765,-43.4765,-43.033100000000005,-42.5897,-42.1463,-41.7029,-41.7029,-41.2595,-41.2595,-40.8161,-40.372699999999995,-40.372699999999995,-39.9293,-39.4859,-39.042500000000004,-38.5991,-38.1557,-38.1557,-37.712300000000006,-37.712300000000006,-37.26890000000001,-36.8255,-36.3821,-36.3821,-35.938700000000004,-35.938700000000004,-35.4953,-35.4953,-35.0519,-34.60850000000001,-34.16510000000001,-34.16510000000001,-33.7217,-33.7217,-33.2783,-33.2783,-32.83489999999999,-32.83489999999999,-32.39149999999999,-11.108299999999996,-26.1839,-25.2971,-24.8537,-24.4103,-23.9669,-23.5235,-23.5235,-23.080099999999998,-22.636699999999998,-22.1933,-21.7499,-21.3065,-20.8631,-20.8631,-20.4197,-19.976300000000002,-19.976300000000002,-19.5329,-19.089499999999997,-18.646099999999997,-18.2027,-17.7593,-17.3159,-16.8725,-16.4291,-16.4291,-15.9857,-15.9857,-15.542300000000001,-15.098899999999997,-14.655499999999998,-14.655499999999998,-14.212099999999998,-13.768699999999999,-13.325299999999999,-13.325299999999999,-12.881899999999996,-12.881899999999996,-12.4385,-12.4385,-11.995099999999997,-11.5517,-11.5517,-11.108299999999996,-11.108299999999996,-10.664899999999998,-10.664899999999998,-10.221499999999997,-10.221499999999997,-9.778099999999998,-9.778099999999998,-9.334699999999998,-9.334699999999998,-8.891299999999998,-8.891299999999998,-8.447899999999999,-8.447899999999999,-8.004499999999997,-8.004499999999997,-7.561099999999999,-7.117699999999997,-7.117699999999997,-6.6742999999999935,-6.6742999999999935,-6.2308999999999966,-5.7875,-5.344099999999997,-5.344099999999997,-4.900699999999995,-4.900699999999995,-4.457299999999998,-4.013900000000001,-4.013900000000001,-3.5704999999999982,-3.5704999999999982,-3.127099999999996,-3.127099999999996,-2.683699999999999,-28.844299999999997,-28.4009,-27.9575,-27.514099999999996,-27.0707,-26.6273,-26.1839,-25.740499999999997,-25.2971,-24.8537,-24.8537,-24.4103,-23.9669,-23.5235,-23.080099999999998,-22.1933,-11.108299999999996,-28.844299999999997,-28.4009,61.2125,61.2125,61.655899999999995,61.655899999999995,60.7691,61.2125,61.655899999999995,61.655899999999995,59.438900000000004,59.88230000000001,60.325700000000005,60.325700000000005,60.7691,25.740499999999997,26.1839,26.6273,27.0707,27.0707,27.514099999999996,27.514099999999996,27.514099999999996,27.9575,27.9575,28.4009,28.844299999999997,29.287699999999994,29.287699999999994,29.73109999999999,30.174500000000002,30.174500000000002,30.6179,31.061299999999996,31.504700000000003,31.9481,32.39149999999999,32.83489999999999,33.2783,33.2783,33.7217,33.7217,34.16510000000001,34.16510000000001,34.60850000000001,35.0519,35.4953,35.4953,35.938700000000004,35.938700000000004,36.3821,36.8255,37.26890000000001,37.26890000000001,37.712300000000006,37.712300000000006,38.1557,38.5991,38.5991,39.042500000000004,39.042500000000004,39.4859,39.4859,39.9293,40.372699999999995,40.8161,40.8161,41.2595,41.7029,41.7029,42.1463,42.5897,43.033100000000005,43.033100000000005,43.4765,43.4765,43.9199,43.9199,44.3633,44.3633,44.8067,44.8067,45.250099999999996,45.250099999999996,45.6935,46.136900000000004,46.136900000000004,46.5803,46.5803,47.0237,47.0237,47.4671,47.9105,48.353899999999996,48.353899999999996,48.7973,48.7973,49.240700000000004,49.6841,49.6841,50.1275,50.5709,50.5709,51.014300000000006,51.4577,51.4577,51.9011,52.344500000000004,52.7879,52.7879,53.2313,53.2313,53.67470000000001,53.67470000000001,54.118100000000005,54.5615,55.0049,55.448299999999996,55.8917,56.3351,56.3351,56.77850000000001,57.221900000000005,57.6653,57.6653,58.1087,58.1087,58.552099999999996,58.552099999999996,58.552099999999996,58.99550000000001,58.99550000000001,58.99550000000001,59.438900000000004,59.438900000000004,59.88230000000001,59.88230000000001,60.325700000000005,60.325700000000005,60.7691,60.7691,61.2125,61.2125,61.655899999999995,61.655899999999995,62.09930000000001,62.09930000000001,62.5427,62.5427,62.9861,62.9861,63.429500000000004,63.429500000000004,63.8729,64.3163,26.1839,26.6273,27.0707,27.514099999999996,33.2783,37.26890000000001,25.740499999999997,25.2971,25.2971,25.740499999999997,25.740499999999997,3.5704999999999982,4.457299999999998,7.117699999999997,9.778099999999998,10.221499999999997,11.108299999999996,11.995099999999997,13.325299999999999,16.8725,17.3159,17.7593,18.2027,2.683699999999999,3.127099999999996,3.127099999999996,3.5704999999999982,4.013900000000001,4.457299999999998,4.457299999999998,4.900699999999995,4.900699999999995,5.344099999999997,5.344099999999997,5.7875,6.2308999999999966,6.2308999999999966,6.6742999999999935,6.6742999999999935,7.117699999999997,7.561099999999999,7.561099999999999,8.004499999999997,8.447899999999999,8.891299999999998,9.334699999999998,9.778099999999998,10.221499999999997,10.221499999999997,10.664899999999998,11.108299999999996,11.108299999999996,11.5517,11.995099999999997,12.4385,12.881899999999996,13.325299999999999,13.768699999999999,14.212099999999998,14.655499999999998,15.098899999999997,15.542300000000001,15.9857,16.4291,16.8725,17.3159,17.7593,18.2027,39.9293,39.4859,-20.8631,-20.4197,-24.8537,-24.8537,-20.8631,-20.8631,-20.4197,-24.8537,-24.8537,-20.8631,-20.8631,-24.8537,-24.8537,-24.4103,-20.8631,-20.8631,-19.5329,-25.740499999999997,-25.740499999999997,-25.2971,-22.1933,-22.1933,-21.7499,-21.7499,-21.3065,-20.8631,-27.0707,-27.0707,-26.6273,-26.6273,-26.1839,-26.1839,-25.740499999999997,-22.1933,-30.6179,-30.174500000000002,-30.174500000000002,-29.73109999999999,-29.73109999999999,-29.287699999999994,-29.287699999999994,-28.844299999999997,-28.844299999999997,-28.4009,-28.4009,-27.9575,-27.9575,-27.514099999999996,-27.514099999999996,-4.457299999999998,-55.0049,-55.0049,-54.5615,-40.8161,-40.372699999999995,-39.4859,-39.042500000000004,-38.5991,-38.5991,-38.1557,-37.712300000000006,-37.26890000000001,-36.8255,-36.3821,-35.938700000000004,-35.938700000000004,-35.4953,-35.0519,-34.60850000000001,-34.60850000000001,-34.16510000000001,-34.16510000000001,-33.7217,-33.7217,-33.2783,-33.2783,-32.83489999999999,-32.83489999999999,-32.39149999999999,-32.39149999999999,-31.9481,-31.9481,-31.504700000000003,-31.504700000000003,-31.061299999999996,-31.061299999999996,-30.6179,-30.6179,-30.6179,-30.174500000000002,-30.174500000000002,-29.73109999999999,-29.73109999999999,-29.287699999999994,-29.287699999999994,-28.844299999999997,-28.844299999999997,-28.4009,-28.4009,-27.9575,-27.9575,-27.514099999999996,-27.514099999999996,-27.0707,-27.0707,-26.6273,-26.6273,-26.1839,-26.1839,-25.740499999999997,-25.2971,-24.8537,-24.4103,-24.4103,-23.9669,-23.5235,-23.5235,-23.080099999999998,-23.080099999999998,-22.636699999999998,-22.1933,-22.1933,-21.7499,-21.7499,-21.3065,-20.8631,-20.4197,-20.4197,-19.976300000000002,-19.976300000000002,-19.5329,-19.5329,-19.089499999999997,-19.089499999999997,-18.646099999999997,-18.646099999999997,-18.2027,-18.2027,-17.7593,-17.7593,-17.3159,-17.3159,-16.8725,-16.4291,-16.4291,-15.9857,-15.542300000000001,-15.542300000000001,-15.098899999999997,-15.098899999999997,-14.655499999999998,-14.212099999999998,-14.212099999999998,-13.768699999999999,-13.768699999999999,-13.325299999999999,-13.325299999999999,-12.881899999999996,-12.881899999999996,-12.4385,-11.995099999999997,-11.5517,-11.108299999999996,-10.664899999999998,-10.664899999999998,-10.221499999999997,-10.221499999999997,-9.778099999999998,-9.778099999999998,-9.334699999999998,-9.334699999999998,-8.891299999999998,-8.891299999999998,-8.447899999999999,-8.447899999999999,-8.004499999999997,-7.561099999999999,-7.117699999999997,-7.117699999999997,-6.6742999999999935,-6.6742999999999935,-6.2308999999999966,-6.2308999999999966,-5.7875,-5.344099999999997,-5.344099999999997,-4.900699999999995,-4.900699999999995,-4.457299999999998,-4.457299999999998,-4.013900000000001,-4.013900000000001,-3.5704999999999982,-3.5704999999999982,-3.127099999999996,-3.127099999999996,-2.683699999999999,-64.3163,-63.8729,-63.8729,-63.429500000000004,-63.429500000000004,-62.9861,-62.9861,-62.5427,-62.5427,-62.09930000000001,-61.655899999999995,-61.2125,-61.2125,-60.7691,-60.325700000000005,-60.325700000000005,-59.88230000000001,-59.438900000000004,-59.438900000000004,-58.99550000000001,-58.99550000000001,-58.552099999999996,-58.552099999999996,-58.1087,-58.1087,-57.6653,-57.6653,-57.221900000000005,-57.221900000000005,-56.77850000000001,-56.3351,-55.8917,-55.448299999999996,-55.448299999999996,-55.0049,-55.0049,-55.0049,-54.5615,-54.5615,-54.5615,-54.118100000000005,-54.118100000000005,-53.67470000000001,-53.67470000000001,-53.2313,-52.7879,-52.344500000000004,-52.344500000000004,-51.9011,-51.9011,-51.4577,-51.4577,-51.014300000000006,-51.014300000000006,-50.5709,-50.5709,-50.1275,-50.1275,-49.6841,-49.6841,-49.240700000000004,-48.7973,-48.7973,-48.353899999999996,-47.9105,-47.4671,-47.4671,-47.0237,-47.0237,-46.5803,-46.136900000000004,-45.6935,-45.250099999999996,-44.8067,-44.3633,-44.3633,-43.9199,-43.4765,-43.033100000000005,-42.5897,-42.5897,-42.1463,-41.7029,-41.2595,-40.8161,-40.372699999999995,-39.9293,-39.4859,-39.042500000000004,-38.5991,-38.1557,-36.3821,-35.938700000000004,-35.4953,-33.7217,-31.9481],\"y\":[84.7881,98.9769,101.1939,101.1939,4.5327,72.8163,72.8163,73.2597,73.2597,73.7031,73.7031,73.7031,74.14649999999999,74.1465,74.1465,74.1465,74.1465,74.1465,74.1465,74.1465,74.1465,74.1465,74.1465,74.1465,74.1465,74.1465,74.1465,74.1465,74.1465,74.1465,74.1465,74.1465,74.1465,74.1465,74.1465,74.1465,74.1465,74.1465,74.1465,74.1465,74.1465,74.1465,74.1465,74.1465,74.1465,74.1465,74.1465,74.1465,74.1465,74.1465,74.1465,74.1465,74.5899,74.5899,74.5899,74.5899,74.5899,74.5899,74.5899,74.5899,74.5899,74.5899,74.5899,74.5899,74.5899,74.5899,74.5899,74.5899,74.5899,74.5899,74.5899,74.5899,74.5899,74.5899,74.5899,74.5899,74.5899,74.5899,74.5899,74.5899,74.5899,74.5899,74.5899,74.5899,74.5899,74.5899,74.5899,74.5899,74.5899,74.5899,74.5899,74.5899,74.5899,74.5899,74.5899,74.5899,74.5899,74.5899,74.5899,74.5899,74.5899,74.5899,74.5899,74.5899,74.5899,74.5899,74.5899,74.5899,74.5899,74.5899,74.5899,74.5899,74.5899,74.5899,74.5899,74.5899,74.5899,74.5899,74.5899,74.5899,74.5899,74.5899,74.5899,74.5899,74.5899,74.5899,74.5899,74.5899,74.5899,74.5899,74.5899,74.5899,74.5899,74.5899,74.5899,74.5899,74.5899,74.5899,74.5899,74.5899,74.5899,74.5899,74.5899,74.5899,74.5899,74.5899,74.5899,74.5899,74.5899,74.5899,74.5899,74.5899,74.5899,74.5899,74.5899,74.5899,74.5899,74.5899,74.5899,74.5899,74.5899,74.5899,74.5899,74.5899,74.5899,74.5899,74.5899,74.5899,74.5899,74.5899,74.5899,74.5899,74.5899,74.5899,74.5899,74.5899,74.5899,74.5899,74.5899,74.5899,74.5899,74.5899,74.5899,74.5899,74.5899,74.5899,74.5899,74.5899,74.5899,74.5899,74.5899,74.5899,74.5899,74.5899,74.5899,74.5899,74.5899,74.5899,74.5899,74.5899,74.5899,74.5899,75.0333,75.0333,75.0333,75.0333,75.0333,75.0333,75.0333,75.0333,75.0333,75.0333,75.0333,75.0333,75.0333,75.0333,75.0333,75.0333,75.0333,75.0333,75.0333,75.0333,75.0333,75.0333,75.0333,75.0333,75.0333,75.0333,75.0333,75.0333,75.0333,75.0333,75.0333,75.0333,75.0333,75.0333,75.0333,75.0333,75.0333,75.0333,75.0333,75.0333,75.0333,75.0333,75.0333,75.0333,75.0333,75.4767,75.4767,75.4767,75.4767,75.47670000000001,75.47670000000001,75.9201,75.9201,79.91069999999999,79.91069999999999,79.91069999999999,80.35409999999999,80.35409999999999,80.35409999999999,80.35409999999999,80.35409999999999,80.35409999999999,80.7975,80.7975,80.7975,80.7975,80.7975,80.7975,81.2409,81.2409,81.2409,81.2409,81.2409,81.2409,81.6843,81.6843,81.6843,81.6843,81.6843,81.6843,81.6843,82.1277,82.1277,82.1277,82.1277,82.1277,82.5711,82.5711,82.5711,82.5711,82.5711,82.5711,83.0145,83.0145,83.0145,83.0145,83.0145,83.0145,83.0145,83.0145,83.4579,83.4579,83.4579,83.4579,83.4579,83.4579,83.4579,83.4579,83.4579,83.9013,83.9013,83.9013,83.9013,83.9013,83.9013,83.9013,84.3447,84.3447,84.3447,84.3447,84.3447,84.7881,84.7881,84.7881,84.7881,84.7881,85.23150000000001,85.23150000000001,85.23150000000001,85.23150000000001,85.23150000000001,85.67490000000001,85.67490000000001,85.67490000000001,85.67490000000001,85.67490000000001,86.1183,86.1183,86.1183,86.1183,86.1183,86.5617,86.5617,86.5617,86.5617,86.5617,86.5617,87.0051,87.0051,87.0051,87.0051,87.0051,87.0051,87.4485,87.4485,87.4485,87.4485,87.4485,87.89189999999999,87.89189999999999,87.89189999999999,87.89189999999999,87.89189999999999,87.89189999999999,87.89189999999999,87.89189999999999,87.89189999999999,88.3353,88.3353,88.3353,88.3353,88.3353,88.3353,88.3353,88.3353,88.3353,88.3353,88.3353,88.3353,88.3353,88.3353,88.7787,88.7787,88.7787,88.7787,88.7787,88.7787,88.7787,88.7787,88.7787,88.7787,88.7787,89.2221,89.2221,89.2221,89.2221,89.2221,89.2221,89.2221,89.2221,89.2221,89.2221,89.2221,89.2221,89.2221,89.2221,89.6655,89.6655,89.6655,89.6655,89.6655,89.6655,89.6655,89.6655,89.6655,89.6655,89.6655,89.6655,89.6655,89.6655,89.6655,89.6655,90.10889999999999,90.10889999999999,90.10889999999999,90.10889999999999,90.10889999999999,90.10889999999999,90.10889999999999,90.10889999999999,90.10889999999999,90.10889999999999,90.10889999999999,90.10889999999999,90.10889999999999,90.5523,90.5523,90.5523,90.5523,90.5523,90.5523,90.5523,90.5523,90.5523,90.5523,90.5523,90.5523,90.5523,90.9957,90.9957,90.9957,90.9957,90.9957,90.9957,90.9957,90.9957,90.9957,90.9957,90.9957,91.43910000000001,91.43910000000001,91.43910000000001,91.43910000000001,91.43910000000001,91.43910000000001,91.43910000000001,91.43910000000001,91.43910000000001,91.43910000000001,91.88250000000001,91.88250000000001,91.88250000000001,91.88250000000001,91.88250000000001,91.88250000000001,91.88250000000001,91.88250000000001,91.88250000000001,91.88250000000001,91.88250000000001,91.88250000000001,92.3259,92.3259,92.3259,92.3259,92.3259,92.3259,92.3259,92.3259,92.3259,92.3259,92.3259,92.3259,92.7693,92.7693,92.7693,92.7693,92.7693,92.7693,92.7693,92.7693,92.7693,92.7693,92.7693,92.7693,93.21270000000001,93.21270000000001,93.21270000000001,93.21270000000001,93.21270000000001,93.21270000000001,93.21270000000001,93.21270000000001,93.21270000000001,93.21270000000001,93.65610000000001,93.65610000000001,93.65610000000001,93.65610000000001,93.65610000000001,93.65610000000001,93.65610000000001,93.65610000000001,93.65610000000001,93.65610000000001,93.65610000000001,93.65610000000001,94.0995,94.0995,94.0995,94.0995,94.0995,94.0995,94.0995,94.0995,94.0995,94.0995,94.0995,94.0995,94.0995,94.5429,94.5429,94.5429,94.5429,94.5429,94.5429,94.5429,94.5429,94.5429,94.5429,94.5429,94.5429,94.5429,94.9863,94.9863,94.9863,94.9863,94.9863,94.9863,94.9863,94.9863,94.9863,94.9863,94.9863,94.9863,94.9863,94.9863,94.9863,95.4297,95.4297,95.4297,95.4297,95.4297,95.4297,95.4297,95.4297,95.4297,95.4297,95.4297,95.4297,95.4297,95.4297,95.4297,95.4297,95.8731,95.8731,95.8731,95.8731,95.8731,95.8731,95.8731,95.8731,95.8731,95.8731,95.8731,95.8731,95.8731,95.8731,95.8731,95.8731,96.31649999999999,96.31649999999999,96.31649999999999,96.31649999999999,96.31649999999999,96.31649999999999,96.31649999999999,96.31649999999999,96.31649999999999,96.31649999999999,96.31649999999999,96.31649999999999,96.31649999999999,96.31649999999999,96.75989999999999,96.75989999999999,96.75989999999999,96.75989999999999,96.75989999999999,96.75989999999999,96.75989999999999,96.75989999999999,96.75989999999999,96.75989999999999,96.75989999999999,96.75989999999999,96.75989999999999,96.75989999999999,96.75989999999999,96.75989999999999,96.75989999999999,96.75989999999999,96.75989999999999,96.75989999999999,96.75989999999999,96.75989999999999,96.75989999999999,96.75989999999999,96.75989999999999,96.75989999999999,96.75989999999999,96.75989999999999,96.75989999999999,96.75989999999999,96.75989999999999,96.75989999999999,96.75989999999999,96.75989999999999,96.75989999999999,96.7599,96.7599,96.7599,96.7599,96.7599,96.7599,96.7599,96.7599,96.7599,96.7599,96.7599,96.7599,96.7599,96.7599,96.7599,97.2033,97.2033,97.2033,97.2033,97.2033,97.2033,97.2033,97.2033,97.2033,97.2033,97.2033,97.2033,97.2033,97.2033,97.2033,97.2033,97.2033,97.2033,97.2033,97.2033,97.2033,97.2033,97.2033,97.2033,97.2033,97.2033,97.2033,97.2033,97.2033,97.2033,97.2033,97.2033,97.2033,97.2033,97.2033,97.2033,97.2033,97.2033,97.2033,97.6467,97.6467,97.6467,97.6467,97.6467,97.6467,97.6467,97.6467,97.6467,97.6467,97.6467,97.6467,97.6467,97.6467,97.6467,97.6467,97.6467,97.6467,97.6467,97.6467,97.6467,97.6467,97.6467,97.6467,97.6467,97.6467,97.6467,97.6467,97.6467,97.6467,97.6467,97.6467,97.6467,97.6467,98.09009999999999,98.09009999999999,98.09009999999999,98.09009999999999,98.09009999999999,98.09009999999999,98.09009999999999,98.09009999999999,98.09009999999999,98.09009999999999,98.09009999999999,98.09009999999999,98.09009999999999,98.09009999999999,98.09009999999999,98.09009999999999,98.09009999999999,98.09009999999999,98.09009999999999,98.09009999999999,98.09009999999999,98.09009999999999,98.09009999999999,98.09009999999999,98.09009999999999,98.09009999999999,98.09009999999999,98.09009999999999,98.09009999999999,98.09009999999999,98.09009999999999,98.09009999999999,98.09009999999999,98.09009999999999,98.09009999999999,98.09009999999999,98.09009999999999,98.09009999999999,98.09009999999999,98.0901,98.0901,98.0901,98.5335,98.5335,98.5335,98.5335,98.5335,98.5335,98.5335,98.5335,98.5335,98.5335,98.5335,98.5335,98.5335,98.5335,98.5335,98.5335,98.5335,98.5335,98.5335,98.5335,98.5335,98.5335,98.5335,98.5335,98.5335,98.5335,98.5335,98.5335,98.5335,98.5335,98.5335,98.5335,98.5335,98.9769,98.9769,98.9769,98.9769,98.9769,98.9769,98.9769,98.9769,98.9769,98.9769,98.9769,98.9769,98.9769,98.9769,98.9769,98.9769,98.9769,98.9769,98.9769,98.9769,98.9769,98.9769,98.9769,98.9769,98.9769,98.9769,98.9769,98.9769,98.9769,98.9769,98.9769,99.4203,99.4203,99.4203,99.4203,99.4203,99.4203,99.4203,99.4203,99.4203,99.4203,99.4203,99.4203,99.4203,99.4203,99.4203,99.4203,99.4203,99.4203,99.4203,99.4203,99.4203,99.4203,99.4203,99.4203,99.4203,99.4203,99.4203,99.4203,99.8637,99.8637,99.8637,99.8637,99.8637,99.8637,99.8637,99.8637,99.86370000000001,99.86370000000001,99.86370000000001,99.86370000000001,99.86370000000001,99.86370000000001,99.86370000000001,99.86370000000001,99.86370000000001,99.86370000000001,99.86370000000001,99.86370000000001,99.86370000000001,99.86370000000001,99.86370000000001,99.86370000000001,99.86370000000001,99.86370000000001,99.86370000000001,99.86370000000001,99.86370000000001,99.86370000000001,99.86370000000001,99.86370000000001,99.86370000000001,99.86370000000001,99.86370000000001,100.3071,100.3071,100.3071,100.3071,100.3071,100.3071,100.3071,100.3071,100.3071,100.3071,100.3071,100.3071,100.3071,100.3071,100.3071,100.3071,100.3071,100.3071,100.3071,100.3071,100.3071,100.3071,100.3071,100.3071,100.3071,100.3071,100.3071,100.3071,100.3071,100.3071,100.3071,100.7505,100.7505,100.7505,100.7505,100.7505,100.7505,100.7505,100.7505,100.7505,100.7505,100.7505,100.7505,100.7505,100.7505,100.7505,100.7505,100.7505,100.7505,100.7505,100.7505,100.7505,100.7505,100.7505,100.7505,100.7505,100.7505,100.7505,101.19390000000001,101.19390000000001,101.19390000000001,101.19390000000001,101.19390000000001,101.19390000000001,101.19390000000001,101.63730000000001,101.63730000000001,101.63730000000001,101.63730000000001,101.63730000000001,101.63730000000001,101.63730000000001,101.63730000000001,101.63730000000001,101.63730000000001,101.63730000000001,102.08070000000001,102.08070000000001,102.08070000000001,102.08070000000001,102.08070000000001,102.08070000000001,102.08070000000001,102.5241,102.5241,102.5241,102.5241,102.5241,102.5241,102.5241,102.5241,102.5241,102.5241,102.9675,102.9675,102.9675,102.9675,102.9675,102.9675,102.9675,102.9675,102.9675,102.9675,102.9675,103.4109,103.4109,103.4109,103.4109,103.4109,103.4109,103.4109,103.4109,103.4109,103.4109,103.85430000000001,103.85430000000001,103.85430000000001,103.85430000000001,103.85430000000001,74.5899,74.5899,74.5899,74.5899,74.5899,75.0333,75.0333,75.0333,75.0333,75.0333,75.0333,75.0333,75.0333,75.0333,75.0333,75.0333,75.0333,75.0333,75.0333,75.0333,75.0333,75.0333,75.0333,75.0333,75.0333,75.0333,75.0333,75.0333,75.0333,75.0333,75.0333,75.0333,75.0333,75.0333,75.0333,75.0333,75.0333,75.0333,75.0333,75.0333,75.0333,75.0333,75.0333,75.0333,75.0333,75.0333,75.0333,75.0333,75.0333,75.0333,75.0333,75.0333,75.0333,75.0333,75.0333,75.0333,75.0333,75.0333,75.0333,75.0333,75.0333,75.0333,75.0333,75.0333,75.0333,75.0333,75.0333,75.0333,75.0333,75.0333,75.0333,75.0333,75.0333,75.0333,75.0333,75.0333,75.0333,75.0333,75.47670000000001,75.47670000000001,75.47670000000001,75.47670000000001,75.47670000000001,75.47670000000001,75.47670000000001,75.47670000000001,75.47670000000001,75.47670000000001,75.47670000000001,75.47670000000001,75.47670000000001,75.47670000000001,75.47670000000001,75.47670000000001,75.47670000000001,75.47670000000001,75.47670000000001,75.47670000000001,75.47670000000001,75.47670000000001,75.47670000000001,75.47670000000001,75.47670000000001,75.47670000000001,75.47670000000001,75.47670000000001,75.47670000000001,75.47670000000001,75.47670000000001,75.47670000000001,75.47670000000001,75.47670000000001,75.47670000000001,75.47670000000001,75.47670000000001,75.47670000000001,75.47670000000001,75.47670000000001,75.47670000000001,75.47670000000001,75.47670000000001,75.47670000000001,75.47670000000001,75.47670000000001,75.47670000000001,75.4767,75.4767,75.4767,75.4767,75.4767,77.2503,75.0333,75.0333,75.0333,75.0333,75.0333,75.0333,75.0333,75.0333,75.0333,75.0333,75.0333,75.0333,75.0333,75.0333,75.0333,75.0333,75.0333,75.0333,75.0333,75.0333,75.0333,75.0333,75.0333,75.0333,75.0333,75.0333,75.0333,75.0333,75.0333,75.0333,75.0333,75.0333,75.0333,75.0333,75.0333,75.0333,75.0333,75.0333,75.0333,75.0333,75.0333,75.0333,75.0333,75.0333,75.0333,75.0333,75.0333,75.0333,75.0333,75.0333,75.0333,75.0333,75.0333,75.0333,75.0333,75.0333,75.0333,75.0333,75.0333,75.0333,75.0333,75.0333,75.0333,75.0333,75.0333,75.0333,75.0333,75.0333,75.0333,75.0333,75.0333,75.0333,75.0333,75.0333,75.0333,75.0333,75.0333,75.0333,75.47670000000001,75.47670000000001,75.47670000000001,75.47670000000001,75.47670000000001,75.47670000000001,75.47670000000001,75.47670000000001,75.47670000000001,75.47670000000001,75.47670000000001,75.47670000000001,75.47670000000001,75.47670000000001,75.47670000000001,75.47670000000001,75.47670000000001,75.9201,75.9201,83.0145,83.0145,83.0145,83.0145,83.4579,83.4579,83.4579,83.4579,83.90129999999999,83.90129999999999,83.90129999999999,83.90129999999999,83.90129999999999,84.3447,84.3447,84.3447,84.3447,84.3447,84.3447,84.3447,84.3447,84.3447,84.3447,84.3447,84.3447,84.3447,84.3447,84.3447,84.3447,84.3447,84.3447,84.3447,84.3447,84.3447,84.3447,84.3447,84.3447,84.3447,84.3447,84.3447,84.3447,84.3447,84.3447,84.3447,84.3447,84.3447,84.3447,84.3447,84.3447,84.3447,84.3447,84.3447,84.3447,84.3447,84.3447,84.3447,84.3447,84.3447,84.3447,84.3447,84.3447,84.3447,84.3447,84.3447,84.3447,84.3447,84.3447,84.3447,84.3447,84.3447,84.3447,84.3447,84.3447,84.3447,84.3447,84.3447,84.3447,84.3447,84.3447,84.3447,84.3447,84.3447,84.3447,84.3447,84.3447,84.3447,84.3447,84.3447,84.3447,84.3447,84.3447,84.3447,84.3447,84.3447,84.3447,84.3447,84.3447,84.3447,84.3447,84.3447,84.3447,84.3447,84.3447,84.3447,84.3447,84.3447,84.3447,84.3447,84.3447,84.3447,84.3447,84.3447,84.3447,84.3447,84.3447,84.3447,84.3447,84.3447,84.3447,84.3447,84.3447,84.3447,84.3447,84.3447,84.3447,84.3447,84.3447,84.3447,84.3447,84.3447,84.3447,84.3447,84.3447,84.3447,84.3447,84.3447,84.3447,84.3447,84.3447,84.3447,84.3447,84.3447,84.3447,84.3447,84.3447,84.3447,84.3447,84.3447,84.3447,84.3447,84.3447,84.3447,84.3447,84.7881,84.7881,84.7881,84.7881,84.7881,84.7881,61.2879,61.7313,61.7313,61.7313,61.7313,84.3447,84.3447,84.3447,84.3447,84.3447,84.3447,84.3447,84.3447,84.3447,84.3447,84.3447,84.3447,84.7881,84.7881,84.7881,84.7881,84.7881,84.7881,84.7881,84.7881,84.7881,84.7881,84.7881,84.7881,84.7881,84.7881,84.7881,84.7881,84.7881,84.7881,84.7881,84.7881,84.7881,84.7881,84.7881,84.7881,84.7881,84.7881,84.7881,84.7881,84.7881,84.7881,84.7881,84.7881,84.7881,84.7881,84.7881,84.7881,84.7881,84.7881,84.7881,84.7881,84.7881,84.7881,84.7881,84.7881,84.7881,102.9675,103.4109,81.6843,81.6843,82.1277,82.1277,82.1277,82.1277,82.1277,82.5711,82.5711,82.5711,82.5711,83.0145,83.0145,83.0145,83.0145,83.0145,83.0145,83.4579,83.4579,83.4579,83.4579,83.4579,83.4579,83.4579,83.4579,83.4579,83.9013,83.9013,83.9013,83.9013,83.9013,83.9013,83.9013,83.9013,84.3447,84.3447,84.3447,84.3447,84.3447,84.3447,84.3447,84.3447,84.3447,84.3447,84.3447,84.3447,84.3447,84.3447,84.3447,84.3447,84.7881,84.7881,84.7881,84.7881,84.7881,84.7881,84.7881,84.7881,84.7881,84.7881,84.7881,84.7881,84.7881,84.7881,84.7881,84.7881,84.7881,84.7881,84.7881,84.7881,84.7881,84.7881,84.7881,84.7881,84.7881,84.7881,84.7881,84.7881,84.7881,84.7881,84.7881,84.7881,84.7881,84.7881,84.7881,84.7881,84.7881,84.7881,84.7881,84.7881,84.7881,84.7881,84.7881,84.7881,84.7881,84.7881,84.7881,84.7881,84.7881,84.7881,84.7881,84.7881,84.7881,84.7881,84.7881,84.7881,84.7881,84.7881,84.7881,84.7881,84.7881,84.7881,84.7881,84.7881,84.7881,84.7881,84.7881,84.7881,84.7881,84.7881,84.7881,84.7881,84.7881,84.7881,84.7881,84.7881,84.7881,84.7881,84.7881,84.7881,84.7881,84.7881,84.7881,84.7881,84.7881,84.7881,84.7881,84.7881,84.7881,84.7881,84.7881,84.7881,84.7881,84.7881,84.7881,84.7881,84.7881,84.7881,84.7881,84.7881,84.7881,84.7881,84.7881,84.7881,84.7881,84.7881,84.7881,84.7881,84.7881,84.7881,84.7881,84.7881,84.7881,84.7881,84.7881,84.7881,84.7881,84.7881,84.7881,84.7881,84.7881,84.7881,84.7881,84.7881,84.7881,84.7881,84.7881,84.7881,84.7881,84.7881,84.7881,84.7881,84.7881,84.7881,84.7881,84.7881,84.7881,84.7881,84.7881,84.7881,84.7881,84.7881,84.7881,84.7881,84.7881,84.7881,84.7881,85.2315,85.2315,85.2315,85.2315,85.2315,85.2315,85.2315,85.2315,85.2315,85.2315,85.2315,85.2315,85.2315,85.2315,85.2315,85.2315,85.2315,85.2315,85.2315,85.2315,85.2315,85.2315,85.2315,85.2315,85.2315,85.2315,85.2315,85.2315,85.2315,85.2315,85.2315,85.2315,85.2315,85.2315,85.2315,85.2315,85.2315,85.2315,85.2315,85.2315,85.2315,85.2315,85.2315,85.2315,85.2315,85.2315,85.2315,85.2315,85.2315,85.2315,85.2315,85.2315,85.2315,85.2315,85.2315,85.2315,85.2315,85.2315,85.2315,85.2315,85.2315,85.2315,85.2315,85.2315,85.2315,85.2315,85.2315,85.2315,85.2315,85.2315,85.2315,85.2315,85.2315,85.2315,85.2315,85.2315,85.2315,85.2315,85.2315,85.2315,85.2315,85.2315,85.2315,85.2315,85.2315,85.2315,85.2315,85.2315,85.2315,85.2315,85.2315,85.2315,85.2315,85.2315,85.2315,85.23150000000001],\"z\":[33.06634214063062,21.619777845487498,32.12443517520803,31.964789926992598,40.22368064000883,52.276896880273696,51.829890183367375,52.24496782777593,51.7979611356274,51.941641859972854,52.06935805569052,51.54252873943428,42.027671941988494,50.15361507710538,50.28133127758084,50.249402225083074,50.520799149903986,50.90394774657257,50.40904747329851,50.90394774657257,51.015699418420255,50.56869272151393,51.079557518657985,50.632550821751664,50.98377037068029,51.30306086711114,50.85605417020482,51.30306086711114,51.46270611532657,51.574457787174254,51.92567733134507,51.382883491218855,52.276896880273696,51.68620945902194,52.11725163205826,51.65428041128197,52.35671950438141,51.73410303538968,52.02146448408057,52.16514520366822,52.260932356403714,52.292861404143686,52.73986810105,52.16514520366822,52.62811642444452,52.77179714878997,52.707939048552234,52.99530049724312,52.276896880273696,53.01126502111312,52.99530049724312,53.68177506171479,41.40505547775456,41.341197377516835,41.532771673472226,42.235210766571676,42.219246242701686,43.01747248377883,42.61835936324026,42.17135266633394,42.42678506252707,42.50660768663478,42.793969135325675,42.57046578687251,42.7620400875857,43.00150795990885,43.097295107886545,43.161153208124276,43.240975832231996,43.416585604317405,42.96957890741108,43.416585604317405,43.656053476640544,43.20904677973423,43.59219537640281,43.84762777259594,43.40062108044742,44.007273020811375,43.56026632866285,43.87955682509371,44.03920207330914,44.374457093609976,43.87955682509371,44.374457093609976,43.92745039670366,44.2627054170045,44.40638614134995,44.78953473801853,44.27866994563228,44.64585401367309,44.64585401367309,44.917250938494,44.47024424158767,45.17268333468712,44.693747590040836,45.34829310677253,44.869357362126244,45.41215120701027,44.869357362126244,45.140754282189356,45.2844350065348,45.39618668314028,45.50793835498796,45.61969002683564,45.779335275051075,45.33232858290255,46.018803147374214,45.55583193135571,45.954945051894285,45.50793835498796,46.27423554832514,45.7474062273111,46.22634197195739,45.779335275051075,46.194412924217424,46.41791626791279,45.97090957576427,46.75317129297142,46.22634197195739,46.89685201255907,46.44984532041055,47.12035536101223,46.59352604475599,46.146519347849676,46.80106486458137,47.00860368916455,46.529667944518266,46.86492296481911,47.152284413509996,46.705277716603675,47.20017798511994,46.75317129297142,47.280000609227656,46.832993917079136,47.26403608535768,47.43964585744309,47.50350395768082,47.6152556295285,47.79086540637171,47.343858709465394,47.79086540637171,47.99840422619709,47.55139753404857,48.04629780256484,47.599291105658516,48.094191374174784,48.25383662239021,48.237872098520235,48.38155282286568,48.668914271556574,48.221907574650245,48.605056171318836,48.68487879542655,48.87645309138195,48.42944639923343,48.860488567511965,48.95627571548967,49.163814540072835,48.71680784316652,49.163814540072835,49.43521146013595,48.988204767987426,49.54696313674143,49.09995643983511,49.6587148085891,49.21170811168279,49.64275028471913,49.131885487575076,49.738537432696816,49.866253633172285,49.40328241239598,50.057827929127676,49.61082123222136,49.93011172865222,49.83432458067452,50.23343770121309,50.45694104966625,50.20150865347313,50.329224849190794,50.79219606996709,50.36115390168855,50.88798321794479,51.90971280747509,52.612151900574545,52.6440809483145,52.580222852834574,52.88354882063764,53.07512312135084,53.218803845696286,52.723903572422216,53.154945745458555,53.37844909391172,52.9314423970054,53.426342665521666,53.426342665521666,53.63388149010484,53.18687479319853,53.713704114212554,53.76159768582251,54.08088818225336,53.601952437607075,53.969136510405676,40.064035391793404,40.3513968357265,40.367361364354274,40.65472280828737,40.20771611613885,40.49507756007194,40.6227937605474,40.702616384655116,40.98997782858821,40.54297113643969,41.213481177041366,40.73454543239508,41.660487873947694,41.03787140495596,40.59086470804964,41.59662977370996,41.10172950519369,41.86802669377307,41.16558760543142,41.43698452549453,40.98997782858821,41.38909094912678,41.58066524983998,41.8360976460331,41.341197377516835,41.915920270140816,41.42102000162455,41.899955746270834,41.452949049364506,41.9318847940108,41.97977837037855,42.12345909472399,42.29906886680941,41.8360976460331,42.68221746347799,42.05960099448626,42.5864303107425,42.3948560147871,42.650288410980224,42.857827235563406,42.730111035087944,42.84186271169342,43.097295107886545,43.25694035610197,46.86492296481911,41.660487873947694,40.98997782858821,41.29330380114908,40.766474484892846,50.249402225083074,49.802395532934554,50.057827929127676,49.61082123222136,50.34518937781857,50.45694104966625,49.91414720478223,50.6006217740117,50.632550821751664,50.13765055323539,50.56869272151393,50.073792452997665,50.16957960097536,50.80816059383708,50.64851534562165,50.20150865347313,50.6006217740117,50.13765055323539,50.66447987424943,51.015699418420255,50.425012001926284,50.99973489455027,50.55272819764395,50.98377037068029,50.40904747329851,51.31902539098113,51.47867063919656,50.840089646334846,51.287096338483366,50.80816059383708,51.382883491218855,50.66447987424943,51.71813851151969,51.143415618895716,51.590422311044236,51.04762846616022,51.271131814613376,51.7979611356274,51.702173987649715,51.255167290743394,51.75006755925966,51.20727371437565,51.41481253895883,52.0853225795605,51.86181923586514,51.41481253895883,51.68620945902194,51.23920276687342,51.67024493515195,51.22323824300342,51.67024493515195,52.612151900574545,51.89374828360511,52.13321615592825,51.68620945902194,52.10128710818829,51.606386834914225,51.89374828360511,51.44674158669879,51.86181923586514,53.745633161952526,52.45250665235911,51.941641859972854,52.48443570009907,52.03742900795055,52.292861404143686,51.8139256594974,52.73986810105,52.22900330390595,52.67601000081227,52.181109732296,52.42057760461914,52.9314423970054,52.468471176229095,52.835655249027695,52.38864855212138,52.99530049724312,53.043194068853076,52.59618737670455,53.01126502111312,52.56425832420679,52.787761672659954,53.426342665521666,53.61791696623486,53.01126502111312,53.362484565283935,52.851619772897685,53.282661941176215,53.63388149010484,53.18687479319853,53.68177506171479,53.13898122158857,54.032994610643414,53.44230718939165,53.87334936242799,53.41037814165168,53.77756221445029,53.18687479319853,54.12878175862111,53.61791696623486,54.08088818225336,53.63388149010484,53.98510103427567,53.41037814165168,54.416143207312004,53.88931388629796,54.240533430468794,53.79352673832027,54.176675334988865,54.67157560350513,54.16071080636108,54.52789487915968,54.032994610643414,54.304391530706525,60.01969141872199,59.49286209770796,59.81215259413882,59.7323299700311,54.76736275148282,54.783327275352804,54.33632058320429,54.70350465124509,54.22456890659881,54.91104347582827,59.76425902252887,59.71636544616111,60.01969141872199,59.540755674075704,60.03565594259197,59.58864924568566,59.93986879461428,59.476897573837974,55.27822754386908,54.48000130279193,54.97490157606601,54.52789487915968,54.879114423330506,54.384214154814245,59.78022354639885,59.8281171180088,59.860046170506564,59.78022354639885,59.78022354639885,55.37401469660458,54.783327275352804,55.29419207249687,54.783327275352804,55.11858229565365,54.62368202713738,59.971797842354235,59.98776236622423,59.540755674075704,59.76425902252887,59.796188070268826,59.92390427074429,59.476897573837974,59.876010694376546,55.75716328851537,55.10261777178366,55.501730892322236,55.03875967154594,55.48576636845225,54.83122085172056,60.03565594259197,59.8281171180088,59.93986879461428,59.49286209770796,60.083549518959714,59.572684721815676,59.876010694376546,59.429003997470225,59.860046170506564,59.93986879461428,55.90084401286081,55.38997922047456,55.75716328851537,55.246298496129114,55.54962446868999,60.25915929104514,59.8281171180088,59.98776236622423,59.540755674075704,59.8281171180088,59.971797842354235,59.52479115020573,59.7323299700311,55.90084401286081,55.453837320712296,55.90084401286081,55.43787279208451,55.932773065358575,59.8281171180088,59.89197521824652,59.90793974211651,60.01969141872199,59.572684721815676,60.03565594259197,59.58864924568566,60.01969141872199,56.699070253937954,55.90084401286081,56.1882054615517,55.67734066440765,59.84408164663658,60.22723023854737,59.71636544616111,59.876010694376546,59.971797842354235,59.52479115020573,59.92390427074429,56.36381523363711,55.9168085367308,56.2839926095294,55.821021388753095,59.92390427074429,60.13144309056967,59.66847186979337,59.860046170506564,60.01969141872199,59.572684721815676,56.79485740191565,56.60328310596026,56.15627640905393,56.491531434112574,56.02856021333628,60.13144309056967,60.083549518959714,59.6365428220534,60.067584990331945,59.62057829818342,60.03565594259197,59.58864924568566,56.87468002602336,56.87468002602336,56.42767333387485,56.82678645441342,56.2839926095294,59.92390427074429,60.32301739128286,59.8281171180088,60.115478566699686,59.66847186979337,60.003726894852,59.93986879461428,57.25782862269195,56.60328310596026,57.16204147471426,56.68310573006797,57.14607695084427,56.5553895295925,59.95583331848426,60.067584990331945,59.62057829818342,59.93986879461428,59.95583331848426,59.98776236622423,56.87468002602336,57.401509347037404,56.954502650131076,56.954502650131076,60.09951404282971,59.65250734592339,60.003726894852,60.163372143067434,59.71636544616111,60.003726894852,57.704835319598274,57.17800599858424,57.57711911912281,57.13011242697429,57.4972964950151,56.92257360239112,60.291088338785094,59.84408164663658,60.22723023854737,59.78022354639885,59.98776236622423,60.003726894852,57.73676436733824,57.28975767518972,57.91237413942365,57.417473870907386,57.57711911912281,59.93986879461428,59.93986879461428,60.291088338785094,59.81215259413882,60.01969141872199,60.41880453926056,59.78022354639885,60.386875486762804,57.99219676353137,57.54519007138284,58.0560548637691,57.593083642992795,57.704835319598274,60.067584990331945,60.1953011908074,59.748294493901085,60.25915929104514,59.81215259413882,60.1953011908074,59.748294493901085,60.01969141872199,58.21570011198453,57.768693419836005,58.31148725996222,57.8644805678137,57.84851604394372,60.083549518959714,60.41880453926056,59.876010694376546,60.051620466461955,60.179336666937424,59.7323299700311,60.01969141872199,49.6587148085891,49.21170811168279,49.052062863467356,58.519026084545395,58.07201938763908,60.21126571467738,59.76425902252887,58.359380836329976,57.91237413942365,60.179336666937424,59.684436398421155,60.33898191515285,59.876010694376546,60.163372143067434,59.684436398421155,60.09951404282971,49.2915307357905,49.243637164180555,49.21170811168279,60.25915929104514,60.24319476717515,59.796188070268826,60.21126571467738,59.58864924568566,58.662706808890846,58.21570011198453,60.27512381491512,59.8281171180088,58.45516798430767,58.00816129215915,60.163372143067434,59.71636544616111,49.32345978828827,49.307495264418286,48.860488567511965,60.163372143067434,60.21126571467738,60.37091096289281,59.92390427074429,60.32301739128286,59.876010694376546,60.163372143067434,58.91813920508397,58.471132508177654,58.726564909128584,58.27955821222226,49.068027392095146,48.62102069518882,48.94031119161968,60.33898191515285,59.89197521824652,60.25915929104514,60.067584990331945,61.328782452185386,59.93986879461428,61.58421484837851,60.897740283906856,61.312817928315404,60.86581123140909,61.53632127676856,61.08931457986224,59.06181992942942,58.614813232523105,61.48842770040081,61.04142100825229,58.91813920508397,58.471132508177654,61.568250324508526,61.121243632360006,61.7757891490917,61.312817928315404,61.648072948616246,61.20106625646772,61.7757891490917,61.328782452185386,61.83964724932944,61.39264055242312,61.887540820939385,62.04718606915482,61.60017937700629,62.19086679350026,61.743860096593934,62.14297321713251,62.254724893737986,62.36647656558567,61.91946987343715,62.318582993975724,62.44629918969339,62.54208633767108,62.574015390168846,62.6219089617788,62.68576706201653,62.781554209994226,62.765589686124244,62.82944778636198,62.845412310231964,49.14785001620286,48.605056171318836,48.7327723670365,60.897740283906856,59.572684721815676,58.99796182919168,61.21703078033771,61.137208156229995,61.05738553212228,61.10527910373223,60.03565594259197,61.23299530420769,60.03565594259197,60.993527431884544,60.48266263949829,60.03565594259197,61.18510172783995,60.62634335908594,60.03565594259197,59.46093304996799,61.34474697605536,60.70616598319366,60.083549518959714,59.44496852609801,61.34474697605536,60.83388218366912,59.34918137336251,61.16913720396995,60.72213051182143,59.31725232562254,61.47246317653084,60.929669331646814,59.25339422538482,61.328782452185386,60.83388218366912,59.23742970151483,61.440534128790866,60.801953135929146,59.14164255353713,61.47246317653084,58.854281104846244,48.58909164744885,50.02589888138771,61.10527910373223,60.56248526360601,59.70040092229114,59.25339422538482,61.34474697605536,60.70616598319366,60.25915929104514,59.81215259413882,59.365145901990296,61.28088888057543,60.77002408343138,60.32301739128286,59.876010694376546,61.42456960016308,60.78598860730138,60.33898191515285,59.89197521824652,61.42456960016308,60.754059559561405,60.307052862655084,59.84408164663658,61.23299530420769,60.67423693545369,60.22723023854737,59.78022354639885,61.45649865266084,60.65827241158371,59.76425902252887,61.39264055242312,61.28088888057543,42.44274959115485,42.4906431627648,48.38155282286568,50.121686029365414,49.67467933245909,60.817917659799136,61.10527910373223,60.48266263949829,61.05738553212228,61.05738553212228,59.70040092229114,60.897740283906856,59.55672019794569,59.71636544616111,59.2693587492548,60.03565594259197,59.52479115020573,59.0777844532994,59.90793974211651,59.429003997470225,58.981997305321705,59.796188070268826,59.34918137336251,59.8281171180088,59.31725232562254,59.78022354639885,59.221465177644845,59.46093304996799,59.01392635306168,59.38111042586028,58.91813920508397,59.189536125147086,58.74252943299856,59.045855405559436,58.59884870865311,59.12567802966716,58.67867133276083,59.189536125147086,58.534990608415384,58.63077775639308,58.45516798430767,58.58288418478313,48.39751734673566,47.918581602089375,48.1740139982825,59.23742970151483,58.79042300460851,59.01392635306168,58.56691966091315,58.74252943299856,58.39130988406994,58.26359368835227,59.301287801752565,58.96603278145172,58.55095513228537,58.407274412697724,58.55095513228537,58.0560548637691,58.43920346043768,57.99219676353137,58.21570011198453,57.704835319598274,58.10394844013685,58.16780654037458,57.704835319598274,57.89640961555367,57.80062246757598,57.80062246757598,57.35361577066965,57.46536744727513,57.43343839477736,57.46536744727513,57.018360750368814,57.28975767518972,57.14607695084427,48.06226232643482,47.6152556295285,47.79086540637171,58.24762916448229,58.087983916266865,57.976232239661385,57.529225547512866,57.91237413942365,57.46536744727513,57.625012695490554,57.17800599858424,57.449402923405145,57.16204147471426,56.93853812626109,56.906609078521136,56.79485740191565,56.85871550215338,56.41170881000486,56.635212153700216,56.68310573006797,56.23609903316164,56.50749595798256,56.379779757507094,56.39574428137708,55.948737589228564,56.22013450929167,55.77312781714314,56.060489261076235,55.75716328851537,55.7252342407754,47.74297183000397,47.87068803047943,47.42368133357311,47.74297183000397,57.43343839477736,56.98643170262885,57.28975767518972,56.842750978283405,57.22589957495198,56.77889287804567,57.209935051082006,56.762928354175685,56.50749595798256,55.75716328851537,55.70926971690542,55.90084401286081,55.37401469660458,55.54962446868999,55.37401469660458,55.40594374434454,55.3580501679768,54.91104347582827,55.59751804029994,55.11858229565365,55.32612112023683,54.79929179922279,55.03875967154594,54.59175297939741,54.86314989946052,54.76736275148282,54.57578845552744,54.62368202713738,57.13011242697429,56.523460481852545,56.076453784946224,56.379779757507094,56.268028085659424,55.821021388753095,56.076453784946224,55.629447092797704,55.75716328851537,55.69330519303543,55.53365994482,55.08665324791368,54.65561107963515,54.384214154814245,54.416143207312004,53.969136510405676,54.288427006836535,54.240533430468794,53.79352673832027,54.09685271088115,54.01703008677343,53.5700233898671,54.11281723475113,53.66581053784481,53.79352673832027,53.66581053784481,53.82545578606024,53.330555517543964,53.50616528962938,53.05915859748086,53.52212981349936,53.298626469804006,36.83920137498706,36.392194682838536,36.28044300623306,55.54962446868999,55.56558899255997,55.11858229565365,55.453837320712296,55.00683062380597,55.08665324791368,54.97490157606601,54.8950789519583,53.2028393170685,53.10705216909081,53.12301669296079,53.07512312135084,52.62811642444452,52.91547787313541,53.043194068853076,52.54829380033681,52.723903572422216,52.6440809483145,52.50040022872686,52.59618737670455,52.149180679798235,52.532329276466825,52.06935805569052,52.24496782777593,51.98953543158281,51.90971280747509,51.86181923586514,51.845854707237365,51.398848015088845,51.54252873943428,51.574457787174254,55.10261777178366,54.83122085172056,54.384214154814245,54.81525632785058,54.36824963094425,53.921242934037934,54.62368202713738,54.1447462824911,54.432107731181986,53.98510103427567,54.1447462824911,51.702173987649715,51.845854707237365,51.255167290743394,51.46270611532657,51.015699418420255,51.33498991485111,51.23920276687342,51.143415618895716,51.063592994787996,51.30306086711114,50.74430249835714,50.840089646334846,50.840089646334846,50.39308294942852,50.85605417020482,50.39308294942852,53.82545578606024,53.729668638082536,53.68177506171479,53.23476836956627,53.37844909391172,53.25073289343625,52.80372619652993,53.043194068853076,52.59618737670455,53.02722954498309,52.580222852834574,52.787761672659954,52.34075498051143,52.56425832420679,52.10128710818829,52.468471176229095,52.005499955452784,52.35671950438141,52.02146448408057,51.95760638384284,51.877783759735124,51.4307770628288,51.55849326330427,51.35095443872109,51.271131814613376,50.99973489455027,51.143415618895716,50.696408921989395,50.90394774657257,51.04762846616022,50.520799149903986,50.68044439811941,50.23343770121309,50.48887009740622,50.02589888138771,50.28133127758084,49.83432458067452,50.08975697686765,49.64275028471913,49.94607625728,49.49906956037368,49.738537432696816,49.2915307357905,49.56292766061141,49.11592096370509,49.131885487575076,49.626785760849145,49.03609833959738,49.179779063942824,49.08399191596512,48.63698521905881,48.97224023935964,48.52523354721112,48.70084331929654,48.25383662239021,48.7327723670365,48.413481870605644,48.25383662239021,48.25383662239021,47.80682993024169,47.98243970232711,26.20159646736718,26.648603164273503,26.105809319389483,27.335077728745166,27.207361533027502,26.12177384325947,26.265454567604912,26.233525515107146,26.69649673588345,26.393170763322576,26.840177460228894,26.600709587905747,27.047716284812072,26.7443903122512,26.840177460228894,26.82421293635891,27.271219628507435,26.99982270844432,27.063680808682058,27.510687500830578,27.15946795665975,27.606474653566075,27.095609856422023,27.542616553328344,26.840177460228894,27.47875845309061,27.92576514999693,27.239290580767467,27.686297277673788,27.41490035285288,27.92576514999693,27.702261801543774,28.14926849369229,27.702261801543774,28.16523302232007,27.782084425651487,28.261020170297776,28.133303969822304,28.245055646427783,28.18119754619006,27.973658721606874,28.436629942383185,28.229091117800003,28.708026862446292,28.436629942383185,28.899601163159485,28.644168766966356,28.372771842145447,28.9794237872672,28.708026862446292,29.155033559352614,28.91556568702947,29.02731735887715,29.155033559352614,29.170998083222592,29.362572383935788,29.107139982984865,29.618004780128917,30.128869572515168,30.575876269421485,29.298714283698057,29.82554359995429,29.554146679891183,30.001153376797504,29.889401700192025,29.69782740423663,30.176763148882912,30.001153376797504,30.11290504864518,30.065011472277433,30.512018169183754,30.160798625012934,30.352372920968328,30.512018169183754,30.671663417399184,30.86323771335458,30.86323771335458,30.895166765852345,28.947494734769435,29.841508128582074,28.93153021089945,29.82554359995429,30.36833744483831,29.937295276559773,29.937295276559773,30.240621249120647,30.400266497336077,30.623769841031436,30.671663417399184,30.783415089246866,30.895166765852345,30.70359246513915,31.26235083389315,31.05481201406777,31.26235083389315,31.294279886390918,31.230421786153187,31.70935753079947,31.3102444102609,31.757251107167217,31.613570382821774,31.517783234844075,31.964789926992598,31.64549943056174,31.8690027790149,31.948825403122612,31.964789926992598,31.964789926992598,32.41179662389892,32.028648027230325,32.475654724136646,32.25215137568349,32.347938523661185,32.39583210002893,32.84283879217746,32.23618685181351,32.71512259645979,32.37986757140115,32.82687426830747,32.76301616806974,32.8907323685452,32.71512259645979,33.21002286497606,32.986519516522904,33.43352621342922,32.93862594015515,33.41756168480144,33.178093812478295,33.625100509384616,33.481419785039165,30.144834096385146,34.07733858371482,34.189090255562505,34.46048718038342,34.50838075199336,34.42855812788565,34.891529348661955,34.34873550377794,34.77977767681428,34.69995505270656,34.85960030092198,35.00328102050963,35.0352100730074,35.35450056943826,34.90749387253193,35.258713421460556,35.53011034152367,35.05117459687738,35.54607486539365,35.56203938926363,35.64186201337135,35.84940083795452,35.817471790214555,35.92922346206224,36.152726810515404,36.31237205873082,35.86536536182451,36.58376897879394,36.07290418640768,36.408159206708525,36.5199108785562,36.8072723272471,36.36026563034078,36.63166255516168,36.83920137498706,36.966917575462524,36.5199108785562,37.04674019957024,36.599733502663916,37.286208071893384,36.82323685111708,37.15849187141792,37.669356668561974,37.15849187141792,37.7332147687997,37.2702435480234,37.797072864279635,37.286208071893384,37.63742761606421,37.19042092391568,37.74917929266969,37.302172595763366,37.81303739290742,37.3660306960011,37.972682641122844,37.50971142034654,38.05250526523056,37.60549856832424,38.10039883684051,37.653392144691985,38.06846978910055,38.46758290963911,37.94075358862508,38.32390218529367,37.87689548838735,38.40372480940138,38.3877602855314,38.70705078196225,38.244079561185956,38.72301530583224,38.27600860892592,38.70705078196225,38.89862507791766,38.45161838576913,38.97844770202537,38.53144100987684,39.122128426370814,38.67512172946449,39.074234850003066,33.422793066983125,33.678225463176254,33.7261190347862,33.78997713502393,33.85383523526166,34.061374059844844,33.98155143573713,34.300841932167984,34.15716120782254,34.42855812788565,33.438757590853115,34.20505477943249,34.34873550377794,34.85960030092198,34.58820337610108,34.62013242859884,37.95671811249507,33.45472211472309,33.34297044287541,-38.77090888219999,-38.27600860892592,-38.8507315063077,-38.37179576166142,-37.860930964517365,-37.78110834040965,-38.64319268172453,-38.06846978910055,-37.71725024017192,-37.98864716499283,-38.06846978910055,-37.49374689647656,-38.13232788933827,-33.78997713502393,-34.013480483477096,-33.86979975913165,-34.22101930806027,-33.64629641067849,-34.747848624316504,-34.15716120782254,-33.69418998704624,-34.46048718038342,-33.77401261115395,-34.20505477943249,-34.300841932167984,-34.39662908014568,-33.933657859369376,-34.36470002764791,-34.55627432836111,-34.061374059844844,-34.2848774035402,-34.55627432836111,-34.41259360401567,-34.49241622812338,-34.572238852231095,-34.747848624316504,-35.258713421460556,-34.69995505270656,-35.06713912074736,-34.49241622812338,-34.98731649663965,-34.50838075199336,-34.891529348661955,-34.843635772294206,-35.05117459687738,-34.60416789997106,-35.17889079735284,-34.71591957657654,-35.09906817324513,-35.0352100730074,-35.32257151694049,-34.875564824791965,-35.35450056943826,-34.90749387253193,-35.24274889283278,-35.67379106586911,-35.09906817324513,-35.402394141048205,-34.955387448899685,-35.65782654199913,-35.17889079735284,-35.466252241285936,-35.4981812937837,-35.817471790214555,-35.3066069930705,-35.53011034152367,-35.817471790214555,-35.37046509330824,-35.705720113609075,-35.75361368997683,-35.92922346206224,-35.48221676515592,-35.99308156229997,-35.54607486539365,-35.99308156229997,-35.54607486539365,-36.025010610039935,-35.578003917891415,-36.07290418640768,-35.62589748950136,-36.088868710277666,-35.64186201337135,-35.97711703842999,-36.28044300623306,-35.817471790214555,-36.31237205873082,-35.86536536182451,-36.29640753486085,-35.84940083795452,-36.26447848236308,-36.344301106470795,-36.48798183081624,-36.00904608616995,-36.599733502663916,-36.152726810515404,-36.44008825444849,-36.647627079031665,-36.200620382125344,-36.50394635468622,-36.79130780337711,-36.31237205873082,-36.663591602901654,-36.77534327950713,-36.32833658260081,-36.82323685111708,-36.82323685111708,-36.98288209933251,-36.5199108785562,-37.286208071893384,-36.647627079031665,-37.01481115183027,-36.56780445492395,-36.95095305159254,-37.06270472344022,-37.11059829980797,-37.12656282367796,-37.222349971655646,-37.31813711963335,-36.85516590361485,-37.31813711963335,-37.302172595763366,-37.541640468086506,-37.09463377593799,-37.63742761606421,-37.19042092391568,-37.860930964517365,-37.334101648261125,-36.88709495135481,-38.116363360710494,-37.477782367848775,-37.030775675700255,-37.84496644064738,-37.39795974374106,-37.98864716499283,-37.46181784397879,-37.95671811249507,-37.39795974374106,-37.89286001701513,-37.44585332010881,-37.89286001701513,-37.42988879623883,-38.244079561185956,-37.70128571630194,-38.32390218529367,-37.87689548838735,-38.483547433509095,-37.84496644064738,-38.21215051344599,-37.71725024017192,-38.19618598481821,-37.70128571630194,-37.98864716499283,-38.164256937078235,-34.02944500734708,-33.90172881162941,-34.15716120782254,-34.189090255562505,-35.09906817324513,-35.24274889283278,-28.77188496268402,-28.708026862446292,-29.155033559352614,-28.548381614230863,-28.995388311137184,-31.326208934130882,-31.37410251049863,-31.741286578539437,-31.8690027790149,-31.980754450862584,-32.18829327544576,-32.475654724136646,-32.39583210002893,-32.986519516522904,-33.114235716998365,-33.178093812478295,-33.41756168480144,-31.342173458000865,-31.10270558567772,-31.613570382821774,-31.390067034368617,-31.390067034368617,-31.358137986628645,-31.805144678777168,-31.43796061073636,-31.88496730288488,-31.358137986628645,-31.88496730288488,-31.932860879252633,-31.58164133032401,-32.07654160359807,-31.677428483059504,-32.12443517520803,-31.789180154907182,-31.773215631037203,-32.22022232318572,-31.980754450862584,-31.948825403122612,-32.09250612746806,-32.028648027230325,-31.99671897949036,-31.837073731274934,-32.284080423423454,-31.99671897949036,-32.01268350336035,-32.57144187211434,-32.37986757140115,-32.26811589955347,-32.41179662389892,-32.39583210002893,-32.55547734824437,-32.39583210002893,-32.619335443724296,-32.77898069193972,-32.651264496222055,-32.794945220567506,-32.84283879217746,-32.77898069193972,-33.06634214063062,-33.01844856426287,-33.06634214063062,-33.22598738884604,-7.555031473901987,-7.618889574139717,-29.107139982984865,-29.362572383935788,-28.963459263397215,-29.490288579653452,-28.612239714468593,-29.059246411374914,-28.787849486554006,-28.9794237872672,-29.42643047941572,-28.500488042620912,-28.947494734769435,-28.787849486554006,-29.234856183460323,-29.18696260709258,-28.05348134571459,-28.516452566490898,-28.229091117800003,-28.59627519059861,-29.0752109352449,-28.93153021089945,-27.845942525889217,-28.292949218037734,-27.941729673866917,-28.388736366015433,-28.117339445952325,-28.19716207006004,-27.63840370130604,-28.245055646427783,-28.02155229797463,-28.46855899012315,-28.245055646427783,-28.692062338576307,-28.708026862446292,-27.7661199017815,-26.40913529195036,-26.776319359991163,-27.41490035285288,-26.904035560466628,-27.367006781242928,-26.904035560466628,-27.382971305112914,-27.239290580767467,-27.686297277673788,-27.271219628507435,-27.73419084928373,-27.047716284812072,-27.686297277673788,-27.127538908919785,-27.814013473391448,-29.98518884816972,-23.647272495920323,-24.142172764436587,-23.790953220265767,-26.393170763322576,-26.010022171411787,-26.20159646736718,-26.169667419627217,-25.978093118914025,-26.44106433969032,-26.329312667842647,-26.44106433969032,-26.361241715582604,-26.44106433969032,-26.840177460228894,-26.504922439928055,-26.95192913207658,-26.63263863564572,-26.79228388386115,-26.664567688143485,-27.111574380292005,-26.45702886356031,-26.967893660704355,-26.56878054016579,-27.015787232314306,-26.45702886356031,-27.111574380292005,-26.616674111775733,-27.19139700439972,-26.53685148766802,-27.047716284812072,-26.600709587905747,-27.127538908919785,-26.69649673588345,-27.19139700439972,-26.648603164273503,-27.111574380292005,-26.40913529195036,-27.079645332552037,-27.526652029458358,-26.664567688143485,-27.287184157135215,-26.808248412488933,-27.57454560106831,-26.888071036596642,-27.526652029458358,-27.031751756184292,-27.622439177436057,-27.19139700439972,-27.670332749046008,-27.127538908919785,-27.702261801543774,-27.287184157135215,-27.798048949521466,-27.494722976960595,-27.941729673866917,-27.590510124938294,-28.05348134571459,-27.558581077198323,-28.005587774104647,-27.798048949521466,-27.798048949521466,-27.845942525889217,-27.590510124938294,-28.14926849369229,-27.973658721606874,-27.92576514999693,-28.372771842145447,-27.941729673866917,-28.404700894643213,-28.16523302232007,-28.101374922082346,-28.548381614230863,-27.90980062136915,-28.436629942383185,-28.388736366015433,-28.404700894643213,-28.388736366015433,-28.835743062921757,-28.4206654185132,-28.867672110661722,-28.452594466253164,-28.899601163159485,-28.388736366015433,-28.851707586791736,-28.229091117800003,-28.803814015181786,-28.500488042620912,-28.963459263397215,-28.46855899012315,-28.963459263397215,-28.708026862446292,-29.155033559352614,-28.947494734769435,-28.867672110661722,-29.378536907805774,-28.93153021089945,-28.963459263397215,-29.41046595554574,-28.9794237872672,-29.42643047941572,-29.09117545911488,-29.059246411374914,-29.506253103523438,-29.123104511612645,-29.570111203761165,-29.139069035482628,-29.60204025625893,-29.139069035482628,-29.58607572763115,-29.394501431675753,-29.490288579653452,-29.58607572763115,-29.618004780128917,-29.522217632151218,-29.969224324299738,-29.570111203761165,-30.01711790066749,-29.490288579653452,-29.969224324299738,-29.64993382786888,-30.096940524775203,-29.793614552214326,-30.288514820730597,-29.85747265245206,-30.304479344600576,-30.03308242453747,-29.98518884816972,-29.85747265245206,-30.352372920968328,-30.03308242453747,-30.48008912144379,-30.065011472277433,-30.512018169183754,-30.224656720492863,-30.001153376797504,-30.52798269305374,-30.11290504864518,-30.607805317161457,-30.176763148882912,-30.623769841031436,-30.224656720492863,-30.70359246513915,-30.352372920968328,-30.79937961787465,-30.48008912144379,-30.92709581359231,-30.607805317161457,-23.359911047229428,-23.343946523359445,-23.790953220265767,-23.21623032764178,-23.727095120028036,-23.264123899251732,-23.790953220265767,-23.487627247704893,-23.934633944611214,-23.615343448180354,-23.663237019790305,-23.695166072288067,-24.174101816934357,-23.727095120028036,-23.663237019790305,-24.110243716696623,-23.902704892113448,-23.663237019790305,-24.158137288306573,-23.822882268005735,-24.269888964912052,-23.822882268005735,-24.269888964912052,-23.902704892113448,-24.34971158901977,-24.03042109258891,-24.47742778473743,-24.09427919282664,-24.54128588497516,-24.221995388544304,-24.20603086467432,-24.317782536522003,-24.062350140328878,-24.621108509082877,-23.503591771574875,-24.23795991241429,-24.684966609320607,-23.551485347942624,-24.07831466419886,-24.63707303295286,-24.25392444104207,-24.732860185688356,-24.381640636759734,-24.86057638140602,-24.573214937472926,-24.669002085450625,-24.381640636759734,-24.92443448164375,-24.09427919282664,-24.892505433903786,-24.605143985212894,-25.052150682119212,-24.557250408845142,-25.14793783009691,-24.589179461342912,-25.14793783009691,-24.780753757298307,-25.259689501944592,-24.908469957773768,-25.355476649922288,-25.068115205989194,-25.02022162962145,-25.467228326527767,-25.17986687783688,-25.21179593033464,-25.163902353966893,-25.610909050873214,-25.116008777599145,-25.610909050873214,-25.339512126052306,-25.387405702420054,-25.467228326527767,-25.5310864267655,-25.610909050873214,-25.57897999837545,-26.025986695281766,-25.75458977046086,-25.786518822958623,-25.70669619885091,-25.73862524659088,-26.185631943497196,-25.882305970936322,-25.930199547304074,-26.041951219151752,-26.057915743021738,-26.13773836712945,-26.20159646736718,-26.073880266891717,-26.265454567604912,-26.089844795519504,-26.53685148766802,-26.504922439928055,-26.552816011538006,-26.53685148766802,-26.648603164273503,-26.72842578838122],\"type\":\"scatter3d\"},{\"mode\":\"lines\",\"name\":\"edep segments\",\"showlegend\":true,\"visible\":\"legendonly\",\"x\":[],\"y\":[],\"z\":[],\"type\":\"scatter3d\"}],                        {\"template\":{\"data\":{\"histogram2dcontour\":[{\"type\":\"histogram2dcontour\",\"colorbar\":{\"outlinewidth\":0,\"ticks\":\"\"},\"colorscale\":[[0.0,\"#0d0887\"],[0.1111111111111111,\"#46039f\"],[0.2222222222222222,\"#7201a8\"],[0.3333333333333333,\"#9c179e\"],[0.4444444444444444,\"#bd3786\"],[0.5555555555555556,\"#d8576b\"],[0.6666666666666666,\"#ed7953\"],[0.7777777777777778,\"#fb9f3a\"],[0.8888888888888888,\"#fdca26\"],[1.0,\"#f0f921\"]]}],\"choropleth\":[{\"type\":\"choropleth\",\"colorbar\":{\"outlinewidth\":0,\"ticks\":\"\"}}],\"histogram2d\":[{\"type\":\"histogram2d\",\"colorbar\":{\"outlinewidth\":0,\"ticks\":\"\"},\"colorscale\":[[0.0,\"#0d0887\"],[0.1111111111111111,\"#46039f\"],[0.2222222222222222,\"#7201a8\"],[0.3333333333333333,\"#9c179e\"],[0.4444444444444444,\"#bd3786\"],[0.5555555555555556,\"#d8576b\"],[0.6666666666666666,\"#ed7953\"],[0.7777777777777778,\"#fb9f3a\"],[0.8888888888888888,\"#fdca26\"],[1.0,\"#f0f921\"]]}],\"heatmap\":[{\"type\":\"heatmap\",\"colorbar\":{\"outlinewidth\":0,\"ticks\":\"\"},\"colorscale\":[[0.0,\"#0d0887\"],[0.1111111111111111,\"#46039f\"],[0.2222222222222222,\"#7201a8\"],[0.3333333333333333,\"#9c179e\"],[0.4444444444444444,\"#bd3786\"],[0.5555555555555556,\"#d8576b\"],[0.6666666666666666,\"#ed7953\"],[0.7777777777777778,\"#fb9f3a\"],[0.8888888888888888,\"#fdca26\"],[1.0,\"#f0f921\"]]}],\"heatmapgl\":[{\"type\":\"heatmapgl\",\"colorbar\":{\"outlinewidth\":0,\"ticks\":\"\"},\"colorscale\":[[0.0,\"#0d0887\"],[0.1111111111111111,\"#46039f\"],[0.2222222222222222,\"#7201a8\"],[0.3333333333333333,\"#9c179e\"],[0.4444444444444444,\"#bd3786\"],[0.5555555555555556,\"#d8576b\"],[0.6666666666666666,\"#ed7953\"],[0.7777777777777778,\"#fb9f3a\"],[0.8888888888888888,\"#fdca26\"],[1.0,\"#f0f921\"]]}],\"contourcarpet\":[{\"type\":\"contourcarpet\",\"colorbar\":{\"outlinewidth\":0,\"ticks\":\"\"}}],\"contour\":[{\"type\":\"contour\",\"colorbar\":{\"outlinewidth\":0,\"ticks\":\"\"},\"colorscale\":[[0.0,\"#0d0887\"],[0.1111111111111111,\"#46039f\"],[0.2222222222222222,\"#7201a8\"],[0.3333333333333333,\"#9c179e\"],[0.4444444444444444,\"#bd3786\"],[0.5555555555555556,\"#d8576b\"],[0.6666666666666666,\"#ed7953\"],[0.7777777777777778,\"#fb9f3a\"],[0.8888888888888888,\"#fdca26\"],[1.0,\"#f0f921\"]]}],\"surface\":[{\"type\":\"surface\",\"colorbar\":{\"outlinewidth\":0,\"ticks\":\"\"},\"colorscale\":[[0.0,\"#0d0887\"],[0.1111111111111111,\"#46039f\"],[0.2222222222222222,\"#7201a8\"],[0.3333333333333333,\"#9c179e\"],[0.4444444444444444,\"#bd3786\"],[0.5555555555555556,\"#d8576b\"],[0.6666666666666666,\"#ed7953\"],[0.7777777777777778,\"#fb9f3a\"],[0.8888888888888888,\"#fdca26\"],[1.0,\"#f0f921\"]]}],\"mesh3d\":[{\"type\":\"mesh3d\",\"colorbar\":{\"outlinewidth\":0,\"ticks\":\"\"}}],\"scatter\":[{\"fillpattern\":{\"fillmode\":\"overlay\",\"size\":10,\"solidity\":0.2},\"type\":\"scatter\"}],\"parcoords\":[{\"type\":\"parcoords\",\"line\":{\"colorbar\":{\"outlinewidth\":0,\"ticks\":\"\"}}}],\"scatterpolargl\":[{\"type\":\"scatterpolargl\",\"marker\":{\"colorbar\":{\"outlinewidth\":0,\"ticks\":\"\"}}}],\"bar\":[{\"error_x\":{\"color\":\"#2a3f5f\"},\"error_y\":{\"color\":\"#2a3f5f\"},\"marker\":{\"line\":{\"color\":\"#E5ECF6\",\"width\":0.5},\"pattern\":{\"fillmode\":\"overlay\",\"size\":10,\"solidity\":0.2}},\"type\":\"bar\"}],\"scattergeo\":[{\"type\":\"scattergeo\",\"marker\":{\"colorbar\":{\"outlinewidth\":0,\"ticks\":\"\"}}}],\"scatterpolar\":[{\"type\":\"scatterpolar\",\"marker\":{\"colorbar\":{\"outlinewidth\":0,\"ticks\":\"\"}}}],\"histogram\":[{\"marker\":{\"pattern\":{\"fillmode\":\"overlay\",\"size\":10,\"solidity\":0.2}},\"type\":\"histogram\"}],\"scattergl\":[{\"type\":\"scattergl\",\"marker\":{\"colorbar\":{\"outlinewidth\":0,\"ticks\":\"\"}}}],\"scatter3d\":[{\"type\":\"scatter3d\",\"line\":{\"colorbar\":{\"outlinewidth\":0,\"ticks\":\"\"}},\"marker\":{\"colorbar\":{\"outlinewidth\":0,\"ticks\":\"\"}}}],\"scattermapbox\":[{\"type\":\"scattermapbox\",\"marker\":{\"colorbar\":{\"outlinewidth\":0,\"ticks\":\"\"}}}],\"scatterternary\":[{\"type\":\"scatterternary\",\"marker\":{\"colorbar\":{\"outlinewidth\":0,\"ticks\":\"\"}}}],\"scattercarpet\":[{\"type\":\"scattercarpet\",\"marker\":{\"colorbar\":{\"outlinewidth\":0,\"ticks\":\"\"}}}],\"carpet\":[{\"aaxis\":{\"endlinecolor\":\"#2a3f5f\",\"gridcolor\":\"white\",\"linecolor\":\"white\",\"minorgridcolor\":\"white\",\"startlinecolor\":\"#2a3f5f\"},\"baxis\":{\"endlinecolor\":\"#2a3f5f\",\"gridcolor\":\"white\",\"linecolor\":\"white\",\"minorgridcolor\":\"white\",\"startlinecolor\":\"#2a3f5f\"},\"type\":\"carpet\"}],\"table\":[{\"cells\":{\"fill\":{\"color\":\"#EBF0F8\"},\"line\":{\"color\":\"white\"}},\"header\":{\"fill\":{\"color\":\"#C8D4E3\"},\"line\":{\"color\":\"white\"}},\"type\":\"table\"}],\"barpolar\":[{\"marker\":{\"line\":{\"color\":\"#E5ECF6\",\"width\":0.5},\"pattern\":{\"fillmode\":\"overlay\",\"size\":10,\"solidity\":0.2}},\"type\":\"barpolar\"}],\"pie\":[{\"automargin\":true,\"type\":\"pie\"}]},\"layout\":{\"autotypenumbers\":\"strict\",\"colorway\":[\"#636efa\",\"#EF553B\",\"#00cc96\",\"#ab63fa\",\"#FFA15A\",\"#19d3f3\",\"#FF6692\",\"#B6E880\",\"#FF97FF\",\"#FECB52\"],\"font\":{\"color\":\"#2a3f5f\"},\"hovermode\":\"closest\",\"hoverlabel\":{\"align\":\"left\"},\"paper_bgcolor\":\"white\",\"plot_bgcolor\":\"#E5ECF6\",\"polar\":{\"bgcolor\":\"#E5ECF6\",\"angularaxis\":{\"gridcolor\":\"white\",\"linecolor\":\"white\",\"ticks\":\"\"},\"radialaxis\":{\"gridcolor\":\"white\",\"linecolor\":\"white\",\"ticks\":\"\"}},\"ternary\":{\"bgcolor\":\"#E5ECF6\",\"aaxis\":{\"gridcolor\":\"white\",\"linecolor\":\"white\",\"ticks\":\"\"},\"baxis\":{\"gridcolor\":\"white\",\"linecolor\":\"white\",\"ticks\":\"\"},\"caxis\":{\"gridcolor\":\"white\",\"linecolor\":\"white\",\"ticks\":\"\"}},\"coloraxis\":{\"colorbar\":{\"outlinewidth\":0,\"ticks\":\"\"}},\"colorscale\":{\"sequential\":[[0.0,\"#0d0887\"],[0.1111111111111111,\"#46039f\"],[0.2222222222222222,\"#7201a8\"],[0.3333333333333333,\"#9c179e\"],[0.4444444444444444,\"#bd3786\"],[0.5555555555555556,\"#d8576b\"],[0.6666666666666666,\"#ed7953\"],[0.7777777777777778,\"#fb9f3a\"],[0.8888888888888888,\"#fdca26\"],[1.0,\"#f0f921\"]],\"sequentialminus\":[[0.0,\"#0d0887\"],[0.1111111111111111,\"#46039f\"],[0.2222222222222222,\"#7201a8\"],[0.3333333333333333,\"#9c179e\"],[0.4444444444444444,\"#bd3786\"],[0.5555555555555556,\"#d8576b\"],[0.6666666666666666,\"#ed7953\"],[0.7777777777777778,\"#fb9f3a\"],[0.8888888888888888,\"#fdca26\"],[1.0,\"#f0f921\"]],\"diverging\":[[0,\"#8e0152\"],[0.1,\"#c51b7d\"],[0.2,\"#de77ae\"],[0.3,\"#f1b6da\"],[0.4,\"#fde0ef\"],[0.5,\"#f7f7f7\"],[0.6,\"#e6f5d0\"],[0.7,\"#b8e186\"],[0.8,\"#7fbc41\"],[0.9,\"#4d9221\"],[1,\"#276419\"]]},\"xaxis\":{\"gridcolor\":\"white\",\"linecolor\":\"white\",\"ticks\":\"\",\"title\":{\"standoff\":15},\"zerolinecolor\":\"white\",\"automargin\":true,\"zerolinewidth\":2},\"yaxis\":{\"gridcolor\":\"white\",\"linecolor\":\"white\",\"ticks\":\"\",\"title\":{\"standoff\":15},\"zerolinecolor\":\"white\",\"automargin\":true,\"zerolinewidth\":2},\"scene\":{\"xaxis\":{\"backgroundcolor\":\"#E5ECF6\",\"gridcolor\":\"white\",\"linecolor\":\"white\",\"showbackground\":true,\"ticks\":\"\",\"zerolinecolor\":\"white\",\"gridwidth\":2},\"yaxis\":{\"backgroundcolor\":\"#E5ECF6\",\"gridcolor\":\"white\",\"linecolor\":\"white\",\"showbackground\":true,\"ticks\":\"\",\"zerolinecolor\":\"white\",\"gridwidth\":2},\"zaxis\":{\"backgroundcolor\":\"#E5ECF6\",\"gridcolor\":\"white\",\"linecolor\":\"white\",\"showbackground\":true,\"ticks\":\"\",\"zerolinecolor\":\"white\",\"gridwidth\":2}},\"shapedefaults\":{\"line\":{\"color\":\"#2a3f5f\"}},\"annotationdefaults\":{\"arrowcolor\":\"#2a3f5f\",\"arrowhead\":0,\"arrowwidth\":1},\"geo\":{\"bgcolor\":\"white\",\"landcolor\":\"#E5ECF6\",\"subunitcolor\":\"white\",\"showland\":true,\"showlakes\":true,\"lakecolor\":\"white\"},\"title\":{\"x\":0.05},\"mapbox\":{\"style\":\"light\"}}},\"legend\":{\"orientation\":\"h\"},\"width\":1024,\"height\":768},                        {\"responsive\": true}                    ).then(function(){\n",
       "                            \n",
       "var gd = document.getElementById('cdb72883-5c9c-45a9-b649-25c691c231c7');\n",
       "var x = new MutationObserver(function (mutations, observer) {{\n",
       "        var display = window.getComputedStyle(gd).display;\n",
       "        if (!display || display === 'none') {{\n",
       "            console.log([gd, 'removed!']);\n",
       "            Plotly.purge(gd);\n",
       "            observer.disconnect();\n",
       "        }}\n",
       "}});\n",
       "\n",
       "// Listen for the removal of the full notebook cells\n",
       "var notebookContainer = gd.closest('#notebook-container');\n",
       "if (notebookContainer) {{\n",
       "    x.observe(notebookContainer, {childList: true});\n",
       "}}\n",
       "\n",
       "// Listen for the clearing of the current output cell\n",
       "var outputEl = gd.closest('.output');\n",
       "if (outputEl) {{\n",
       "    x.observe(outputEl, {childList: true});\n",
       "}}\n",
       "\n",
       "                        })                };                });            </script>        </div>"
      ]
     },
     "metadata": {},
     "output_type": "display_data"
    }
   ],
   "source": [
    "fig = go.Figure()\n",
    "\n",
    "fig.add_traces(draw_cathode_planes(\n",
    "    geom_dict,\n",
    "    tpc_centers,\n",
    "    showscale=False,\n",
    "    opacity=0.3,\n",
    "    colorscale='Greys',\n",
    "))\n",
    "\n",
    "fig.add_traces(draw_anode_planes(\n",
    "    geom_dict,\n",
    "    tpc_centers,\n",
    "    showscale=False,\n",
    "    opacity=0.1,\n",
    "    colorscale='ice',\n",
    "))\n",
    "\n",
    "trace = go.Scatter3d(\n",
    "        x=x, y=y, z=z,\n",
    "        marker_color=dQ,\n",
    "        name='larpix packets',\n",
    "        mode='markers',\n",
    "        visible='legendonly',\n",
    "        marker_size=3,\n",
    "        marker_symbol='square',\n",
    "        showlegend=True,\n",
    "        opacity=1.\n",
    "        )\n",
    "\n",
    "tracks = plot_tracks(seg_ev, \n",
    "                     mode=\"lines\",\n",
    "                     name=\"edep segments\",\n",
    "                     visible='legendonly',\n",
    "                     showlegend=True\n",
    "                     )\n",
    "\n",
    "fig.update_layout(\n",
    "    width=1024, height=768,\n",
    "    legend_orientation=\"h\",\n",
    ")\n",
    "\n",
    "fig.add_traces(trace)\n",
    "fig.add_traces(tracks)\n",
    "fig.show()"
   ]
  },
  {
   "cell_type": "code",
   "execution_count": null,
   "id": "0e0ced88-e877-4c48-b192-87f34c03244b",
   "metadata": {},
   "outputs": [],
   "source": []
  }
 ],
 "metadata": {
  "kernelspec": {
   "display_name": "Python 3 (ipykernel)",
   "language": "python",
   "name": "python3"
  },
  "language_info": {
   "codemirror_mode": {
    "name": "ipython",
    "version": 3
   },
   "file_extension": ".py",
   "mimetype": "text/x-python",
   "name": "python",
   "nbconvert_exporter": "python",
   "pygments_lexer": "ipython3",
   "version": "3.8.10"
  }
 },
 "nbformat": 4,
 "nbformat_minor": 5
}
